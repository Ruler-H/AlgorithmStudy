{
 "cells": [
  {
   "cell_type": "markdown",
   "metadata": {},
   "source": [
    "# 백준 1107번 : 리모컨"
   ]
  },
  {
   "cell_type": "code",
   "execution_count": 110,
   "metadata": {},
   "outputs": [
    {
     "name": "stdout",
     "output_type": "stream",
     "text": [
      "2228\n"
     ]
    }
   ],
   "source": [
    "import sys\n",
    "# input = sys.stdin.readline\n",
    "\n",
    "# 입력\n",
    "# channel : 이동하려는 채널\n",
    "channel = int(input().strip())\n",
    "# n : 고장난 버튼의 수\n",
    "n = int(input().strip())\n",
    "# button_list : 사용 가능한 버튼 리스트\n",
    "button_list = [str(i) for i in range(10)]\n",
    "\n",
    "# 고장난 버튼이 있는 경우 사용 가능 버튼 리스트에서 해당 버튼을 제외\n",
    "if n > 0:\n",
    "    for i in map(str, input().strip().split()):\n",
    "        button_list.remove(i)\n",
    "\n",
    "# 초기 첫번째 자리에 들어올 수를 리스트에 초기화\n",
    "channel_list = []\n",
    "first_digit = str(channel)[0]\n",
    "if first_digit in button_list:\n",
    "    channel_list.append(first_digit)\n",
    "else:\n",
    "    for i in range(1, 10):\n",
    "        is_break = False\n",
    "        if str(int(first_digit) - i) in button_list:\n",
    "            is_break = True\n",
    "            channel_list.append(str(int(first_digit) - i))\n",
    "        if str(int(first_digit) + i) in button_list:\n",
    "            is_break = True\n",
    "            channel_list.append(str(int(first_digit) + i))\n",
    "        if is_break:\n",
    "            break\n",
    "\n",
    "# 사용 가능한 버튼으로 누를 수 있는 채널 번호를 생성\n",
    "for k in range(len(str(channel)) - 1):\n",
    "    new_list = []\n",
    "    for i in channel_list:\n",
    "        for j in button_list:\n",
    "            new_list.append(i + j)\n",
    "    channel_list = list(set(new_list))\n",
    "    # print(channel_list)\n",
    "\n",
    "# 생성된 채널 번호가 있는 경우엔 가장 적게 누를 수 있는 횟수를 없는 경우엔 100번을 기준으로 몇번을 눌러야 하는지 계산\n",
    "if channel_list:\n",
    "    if button_list[0] != '0':\n",
    "        channel_list.append(button_list[0] * (len(str(channel)) + 1))\n",
    "    elif len(button_list) >= 2:\n",
    "        channel_list.append(button_list[1] * (len(str(channel)) + 1))\n",
    "    if button_list[-1] != '0':\n",
    "        channel_list.append(button_list[-1] * (len(str(channel)) - 1))\n",
    "    nearest_channel = int(min(channel_list, key = lambda x : (abs(channel - int(x)), len(x))))\n",
    "    button_click = min(abs(channel - 100), len(str(nearest_channel)) + abs(channel - nearest_channel))\n",
    "    # print(nearest_channel)\n",
    "else:\n",
    "    button_click = abs(channel - 100)\n",
    "print(button_click)"
   ]
  },
  {
   "cell_type": "code",
   "execution_count": 56,
   "metadata": {},
   "outputs": [
    {
     "ename": "SyntaxError",
     "evalue": "invalid syntax (1886129427.py, line 5)",
     "output_type": "error",
     "traceback": [
      "\u001b[1;36m  Cell \u001b[1;32mIn[56], line 5\u001b[1;36m\u001b[0m\n\u001b[1;33m    1 2 3 4 5 6 7 8 9\u001b[0m\n\u001b[1;37m      ^\u001b[0m\n\u001b[1;31mSyntaxError\u001b[0m\u001b[1;31m:\u001b[0m invalid syntax\n"
     ]
    }
   ],
   "source": [
    "80000\n",
    "2\n",
    "8 9"
   ]
  },
  {
   "cell_type": "code",
   "execution_count": 93,
   "metadata": {},
   "outputs": [
    {
     "name": "stdout",
     "output_type": "stream",
     "text": [
      "1848696107024 1848696107024\n"
     ]
    }
   ],
   "source": [
    "import copy\n",
    "a = 10000000000000\n",
    "b = copy.deepcopy(a)\n",
    "print(id(a), id(b))"
   ]
  },
  {
   "cell_type": "code",
   "execution_count": null,
   "metadata": {},
   "outputs": [],
   "source": []
  }
 ],
 "metadata": {
  "kernelspec": {
   "display_name": "Python 3",
   "language": "python",
   "name": "python3"
  },
  "language_info": {
   "codemirror_mode": {
    "name": "ipython",
    "version": 3
   },
   "file_extension": ".py",
   "mimetype": "text/x-python",
   "name": "python",
   "nbconvert_exporter": "python",
   "pygments_lexer": "ipython3",
   "version": "3.10.11"
  },
  "orig_nbformat": 4
 },
 "nbformat": 4,
 "nbformat_minor": 2
}
