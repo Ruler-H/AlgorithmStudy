{
 "cells": [
  {
   "cell_type": "code",
   "execution_count": 3,
   "metadata": {},
   "outputs": [],
   "source": [
    "def performance_calc(A, B, C):\n",
    "    return (B // A) * 3 * C"
   ]
  },
  {
   "cell_type": "code",
   "execution_count": 2,
   "metadata": {},
   "outputs": [
    {
     "name": "stdout",
     "output_type": "stream",
     "text": [
      "North London Collegiate School\n"
     ]
    }
   ],
   "source": [
    "# 백준 27889번 - 특별한 학교 이름\n",
    "import sys\n",
    "# input = sys.stdin.readline\n",
    "\n",
    "name_dic = {\n",
    "    'NLCS': 'North London Collegiate School',\n",
    "    'BHA': 'Branksome Hall Asia',\n",
    "    'KIS': 'Korea International School',\n",
    "    'SJA': 'St. Johnsbury Academy'\n",
    "}\n",
    "name = input()\n",
    "print(name_dic.get(name))"
   ]
  },
  {
   "cell_type": "code",
   "execution_count": null,
   "metadata": {},
   "outputs": [],
   "source": [
    "# 백준 27959번 - 초코바\n",
    "import sys\n",
    "# input = sys.stdin.readline\n",
    "\n",
    "N, M = map(int, input().split())\n",
    "\n",
    "if (N * 100) >= M:\n",
    "    print('Yes')\n",
    "else:\n",
    "    print('No')"
   ]
  },
  {
   "cell_type": "code",
   "execution_count": null,
   "metadata": {},
   "outputs": [],
   "source": [
    "# 백준 28113번 - 정보섬의 대중교통\n",
    "import sys\n",
    "# input = sys.stdin.readline\n",
    "\n",
    "N, A, B = map(int, input().split())\n",
    "\n",
    "if A < B:\n",
    "    print('Bus')\n",
    "elif A > B:\n",
    "    print('Subway')\n",
    "else:\n",
    "    print('Anything')"
   ]
  },
  {
   "cell_type": "code",
   "execution_count": null,
   "metadata": {},
   "outputs": [],
   "source": [
    "# 백준 28235번 - 코드마스터 2023\n",
    "import sys\n",
    "# input = sys.stdin.readline\n",
    "\n",
    "cheer_dic = {'SONGDO': 'HIGHSCHOOL',\n",
    "    'CODE': 'MASTER',\n",
    "    '2023': '0611',\n",
    "    'ALGORITHM': 'CONTEST'\n",
    "}\n",
    "\n",
    "input_str = input().strip()\n",
    "print(cheer_dic[input_str])"
   ]
  },
  {
   "cell_type": "code",
   "execution_count": null,
   "metadata": {},
   "outputs": [],
   "source": [
    "# 백준 28444번 - HI-ARC=?\n",
    "import sys\n",
    "# input = sys.stdin.readline\n",
    "\n",
    "H,I,A,R,C = map(int, input().strip().split())\n",
    "\n",
    "print((H * I) - (A * R * C))"
   ]
  },
  {
   "cell_type": "code",
   "execution_count": null,
   "metadata": {},
   "outputs": [],
   "source": [
    "# 백준 28691번 - 정보보호학부 동아리 소개\n",
    "import sys\n",
    "# input = sys.stdin.readline\n",
    "\n",
    "circle_dic = {\n",
    "    'M': 'MatKor',\n",
    "    'W': 'WiCys', \n",
    "    'C': 'CyKor', \n",
    "    'A': 'AlKor', \n",
    "    '$': '$clear'\n",
    "}\n",
    "\n",
    "input_str = input().strip()\n",
    "print(circle_dic[input_str])"
   ]
  },
  {
   "cell_type": "code",
   "execution_count": null,
   "metadata": {},
   "outputs": [],
   "source": [
    "# 백준 28701번 - 세제곱의 합\n",
    "import sys\n",
    "# input = sys.stdin.readline\n",
    "\n",
    "N = int(input().strip())\n",
    "N_sum = sum(map(int, range(1, N+1)))\n",
    "print(N_sum)\n",
    "print(N_sum ** 2)\n",
    "N_square = sum(map(lambda x : x ** 3, range(1, N+1)))\n",
    "print(N_square)"
   ]
  },
  {
   "cell_type": "code",
   "execution_count": null,
   "metadata": {},
   "outputs": [],
   "source": [
    "# 백준 29731번 - 2033년 밈 투표\n",
    "import sys\n",
    "# input = sys.stdin.readline\n",
    "\n",
    "promise = ['Never gonna give you up',\n",
    "    'Never gonna let you down',\n",
    "    'Never gonna run around and desert you',\n",
    "    'Never gonna make you cry',\n",
    "    'Never gonna say goodbye',\n",
    "    'Never gonna tell a lie and hurt you',\n",
    "    'Never gonna stop'\n",
    "]\n",
    "\n",
    "n = int(input().strip())\n",
    "is_hacking = 'No'\n",
    "for _ in range(n):\n",
    "    input_promise = input().strip()\n",
    "    if input_promise not in promise:\n",
    "        is_hacking = 'Yes'\n",
    "\n",
    "print(is_hacking)"
   ]
  },
  {
   "cell_type": "code",
   "execution_count": null,
   "metadata": {},
   "outputs": [],
   "source": [
    "# 백준 29751번 - 삼각형\n",
    "import sys\n",
    "# input = sys.stdin.readline\n",
    "\n",
    "w, h = map(int, input().strip().split())\n",
    "\n",
    "print(w * h / 2)"
   ]
  },
  {
   "cell_type": "code",
   "execution_count": null,
   "metadata": {},
   "outputs": [],
   "source": [
    "# 백준 30007번 - 라면 공식\n",
    "import sys\n",
    "# input = sys.stdin.readline\n",
    "\n",
    "n = int(input())\n",
    "\n",
    "for _ in range(n):\n",
    "    a, b, x = map(int, input().strip().split())\n",
    "    print(a * (x - 1) + b)"
   ]
  },
  {
   "cell_type": "code",
   "execution_count": null,
   "metadata": {},
   "outputs": [],
   "source": [
    "# 백준 30030번 - 스위트콘 가격 구하기\n",
    "import sys\n",
    "# input = sys.stdin.readline\n",
    "\n",
    "b = int(input().strip())\n",
    "\n",
    "print(int(b * 10 / 11))"
   ]
  },
  {
   "cell_type": "code",
   "execution_count": null,
   "metadata": {},
   "outputs": [],
   "source": [
    "# 백준 30087번 - 진흥원 세미나\n",
    "import sys\n",
    "# input = sys.stdin.readline\n",
    "\n",
    "semina_dic = {'Algorithm': 204,\n",
    "    'DataAnalysis': 207,\n",
    "    'ArtificialIntelligence': 302,\n",
    "    'CyberSecurity': 'B101',\n",
    "    'Network': 303,\n",
    "    'Startup': 501,\n",
    "    'TestStrategy': 105\n",
    "}\n",
    "\n",
    "n = int(input().strip())\n",
    "for _ in range(n):\n",
    "    semina_info = input().strip()\n",
    "    print(semina_dic[semina_info])"
   ]
  },
  {
   "cell_type": "code",
   "execution_count": null,
   "metadata": {},
   "outputs": [],
   "source": [
    "# 백준 15439번 - 베라의 패션\n",
    "import sys\n",
    "# input = sys.stdin.readline\n",
    "\n",
    "n = int(input().strip())\n",
    "\n",
    "print(n * (n - 1))"
   ]
  },
  {
   "cell_type": "code",
   "execution_count": null,
   "metadata": {},
   "outputs": [],
   "source": [
    "# 백준 17362번 - 수학은 체육과목 입니다 2\n",
    "import sys\n",
    "# input = sys.stdin.readline\n",
    "\n",
    "n = int(input().strip())\n",
    "\n",
    "n = n % 8\n",
    "\n",
    "if n == 0:\n",
    "    print(2)\n",
    "elif n == 7:\n",
    "    print(3)\n",
    "elif n == 6:\n",
    "    print(4)\n",
    "else:\n",
    "    print(n)"
   ]
  },
  {
   "cell_type": "code",
   "execution_count": 3,
   "metadata": {},
   "outputs": [
    {
     "name": "stdout",
     "output_type": "stream",
     "text": [
      "=\n"
     ]
    }
   ],
   "source": [
    "# 백준 13752번 - 히스토그램\n",
    "import sys\n",
    "# input = sys.stdin.readline\n",
    "\n",
    "n = int(input().strip())\n",
    "\n",
    "for _ in range(n):\n",
    "    k = int(input().strip())\n",
    "    print('=' * k)"
   ]
  },
  {
   "cell_type": "code",
   "execution_count": null,
   "metadata": {},
   "outputs": [],
   "source": [
    "# 백준 14924번 - 폰 노이만과 파리\n",
    "import sys\n",
    "# input = sys.stdin.readline\n",
    "\n",
    "s, t, d = map(int, input().strip().split())\n",
    "\n",
    "print((d // (s * 2)) * t)"
   ]
  }
 ],
 "metadata": {
  "kernelspec": {
   "display_name": "Python 3",
   "language": "python",
   "name": "python3"
  },
  "language_info": {
   "codemirror_mode": {
    "name": "ipython",
    "version": 3
   },
   "file_extension": ".py",
   "mimetype": "text/x-python",
   "name": "python",
   "nbconvert_exporter": "python",
   "pygments_lexer": "ipython3",
   "version": "3.11.1"
  },
  "orig_nbformat": 4
 },
 "nbformat": 4,
 "nbformat_minor": 2
}
