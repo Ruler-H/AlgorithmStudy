{
 "cells": [
  {
   "cell_type": "code",
   "execution_count": 105,
   "metadata": {},
   "outputs": [],
   "source": [
    "# 프로그래머스 2019 KAKAO BLIND RECRUITMENT - 무지의 먹방 라이브\n",
    "from collections import deque\n",
    "\n",
    "def solution(food_times, k):\n",
    "    if sum(food_times) <= k:\n",
    "        return -1\n",
    "    food_times = [[k + 1, v] for k, v in enumerate(food_times)]\n",
    "\n",
    "    while k > len(food_times):\n",
    "        eat_cnt = k // len(food_times)\n",
    "        k = k % len(food_times)\n",
    "        food_times = list(map(lambda x: [x[0], x[1]-eat_cnt], food_times))\n",
    "        minus_value = map(lambda x: x[1],filter(lambda x: x[1] < 0, food_times))\n",
    "        k += abs(sum(minus_value))\n",
    "        food_times = [i for i in food_times if i[1] > 0]\n",
    "\n",
    "    return food_times[k % len(food_times)][0]"
   ]
  },
  {
   "cell_type": "code",
   "execution_count": 190,
   "metadata": {},
   "outputs": [],
   "source": [
    "# 프로그래머스 2020 KAKAO BLIND RECRUITMENT - 가사 검색\n",
    "import re\n",
    "\n",
    "class Node:\n",
    "    def __init__(self, data):\n",
    "        self.data = data\n",
    "        self.children = {}\n",
    "    \n",
    "class Trie:\n",
    "    def __init__(self):\n",
    "        self.head = Node(None)\n",
    "\n",
    "def solution(words, queries):\n",
    "    answer = []\n",
    "    # words_str = str(words)[1:-1] '[\"frodo\", \"front\", \"frost\", \"frozen\", \"frame\", \"kakao\"]' len => 20 iter 20 len => 10만 10만번 iter\n",
    "    # words_str = words_str.replace(' ', '')\n",
    "    # words_str = words_str.replace(',', '')\n",
    "    # print(words_str)\n",
    "    for q in queries:\n",
    "        cnt = 0\n",
    "        for w in words:\n",
    "            if re.fullmatch(q.replace('?', '[\\w]'), w):\n",
    "                cnt += 1\n",
    "        answer.append(cnt)\n",
    "    # answer = [len(re.findall(q.replace('?', '[\\w]'), w)) for w in words for q in queries]\n",
    "\n",
    "    return answer"
   ]
  },
  {
   "cell_type": "code",
   "execution_count": 191,
   "metadata": {},
   "outputs": [
    {
     "data": {
      "text/plain": [
       "[3, 2, 4, 1, 0]"
      ]
     },
     "execution_count": 191,
     "metadata": {},
     "output_type": "execute_result"
    }
   ],
   "source": [
    "solution([\"frodo\", \"front\", \"frost\", \"frozen\", \"frame\", \"kakao\"], [\"fro??\", \"????o\", \"fr???\", \"fro???\", \"pro?\"])"
   ]
  },
  {
   "cell_type": "code",
   "execution_count": null,
   "metadata": {},
   "outputs": [],
   "source": []
  }
 ],
 "metadata": {
  "kernelspec": {
   "display_name": "Python 3",
   "language": "python",
   "name": "python3"
  },
  "language_info": {
   "codemirror_mode": {
    "name": "ipython",
    "version": 3
   },
   "file_extension": ".py",
   "mimetype": "text/x-python",
   "name": "python",
   "nbconvert_exporter": "python",
   "pygments_lexer": "ipython3",
   "version": "3.10.11"
  },
  "orig_nbformat": 4
 },
 "nbformat": 4,
 "nbformat_minor": 2
}
