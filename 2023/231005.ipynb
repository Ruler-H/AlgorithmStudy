{
 "cells": [
  {
   "cell_type": "code",
   "execution_count": null,
   "metadata": {},
   "outputs": [],
   "source": [
    "# 백준 28074번 - 모비스\n",
    "import sys\n",
    "# input = sys.stdin.readline\n",
    "\n",
    "mobis = ['M', 'O', 'B', 'I', 'S']\n",
    "\n",
    "input_str = input().strip()\n",
    "for i in input_str:\n",
    "    if i in mobis:\n",
    "        mobis.remove(i)\n",
    "\n",
    "if len(mobis) == 0:\n",
    "    print('YES')\n",
    "else:\n",
    "    print('NO')"
   ]
  },
  {
   "cell_type": "code",
   "execution_count": null,
   "metadata": {},
   "outputs": [],
   "source": [
    "# 백준 25591번 - 푸앙이와 종윤이\n",
    "import sys\n",
    "# input = sys.stdin.readline\n",
    "\n",
    "x, y = map(int, input().strip().split())\n",
    "\n",
    "a = 100 - x\n",
    "b = 100 - y\n",
    "c = 100 - (a + b)\n",
    "d = a * b\n",
    "q = d // 100\n",
    "r = d % 100\n",
    "print(f'{a} {b} {c} {d} {q} {r}')\n",
    "print(f'{c+q} {r}')"
   ]
  },
  {
   "cell_type": "code",
   "execution_count": null,
   "metadata": {},
   "outputs": [],
   "source": [
    "# 백준 29790번 - 임스의 메이플컵\n",
    "import sys\n",
    "# input = sys.stdin.readline\n",
    "\n",
    "n, u, l = map(int, input().strip().split())\n",
    "\n",
    "if n >= 1000:\n",
    "    if u >= 8000 or l >= 260:\n",
    "        print('Very Good')\n",
    "    else:\n",
    "        print('Good')\n",
    "else:\n",
    "    print('Bad')"
   ]
  }
 ],
 "metadata": {
  "kernelspec": {
   "display_name": "Python 3",
   "language": "python",
   "name": "python3"
  },
  "language_info": {
   "name": "python",
   "version": "3.12.0"
  }
 },
 "nbformat": 4,
 "nbformat_minor": 2
}
