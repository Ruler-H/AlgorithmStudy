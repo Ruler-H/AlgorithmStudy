{
 "cells": [
  {
   "cell_type": "code",
   "execution_count": null,
   "metadata": {},
   "outputs": [],
   "source": [
    "# 백준 2914번 - 저작권\n",
    "import sys\n",
    "# input = sys.stdin.readline\n",
    "\n",
    "a, i = map(int, input().strip().split())\n",
    "\n",
    "print((a * (i - 1)) + 1)"
   ]
  },
  {
   "cell_type": "code",
   "execution_count": null,
   "metadata": {},
   "outputs": [],
   "source": [
    "# 백준 2720번 - 세탁소 사장 동혁\n",
    "import sys\n",
    "# input = sys.stdin.readline\n",
    "\n",
    "n = int(input().strip())\n",
    "\n",
    "for _ in range(n):\n",
    "    c = int(input().strip())\n",
    "    c_list = []\n",
    "    c_list.append(str(c // 25))\n",
    "    c %= 25\n",
    "    c_list.append(str(c // 10))\n",
    "    c %= 10\n",
    "    c_list.append(str(c // 5))\n",
    "    c %= 5\n",
    "    c_list.append(str(c))\n",
    "    print(' '.join(c_list))"
   ]
  },
  {
   "cell_type": "code",
   "execution_count": 3,
   "metadata": {},
   "outputs": [
    {
     "name": "stdout",
     "output_type": "stream",
     "text": [
      "Equilateral\n",
      "Scalene\n",
      "Invalid\n",
      "Invalid\n"
     ]
    },
    {
     "ename": "IndexError",
     "evalue": "list index out of range",
     "output_type": "error",
     "traceback": [
      "\u001b[1;31m---------------------------------------------------------------------------\u001b[0m",
      "\u001b[1;31mIndexError\u001b[0m                                Traceback (most recent call last)",
      "\u001b[1;32md:\\AlgorithmStudy\\231013.ipynb 셀 3\u001b[0m line \u001b[0;36m8\n\u001b[0;32m      <a href='vscode-notebook-cell:/d%3A/AlgorithmStudy/231013.ipynb#W2sZmlsZQ%3D%3D?line=5'>6</a>\u001b[0m tri \u001b[39m=\u001b[39m \u001b[39mlist\u001b[39m(\u001b[39mmap\u001b[39m(\u001b[39mint\u001b[39m, \u001b[39minput\u001b[39m()\u001b[39m.\u001b[39mstrip()\u001b[39m.\u001b[39msplit()))\n\u001b[0;32m      <a href='vscode-notebook-cell:/d%3A/AlgorithmStudy/231013.ipynb#W2sZmlsZQ%3D%3D?line=6'>7</a>\u001b[0m tri\u001b[39m.\u001b[39msort(reverse\u001b[39m=\u001b[39m\u001b[39mTrue\u001b[39;00m)\n\u001b[1;32m----> <a href='vscode-notebook-cell:/d%3A/AlgorithmStudy/231013.ipynb#W2sZmlsZQ%3D%3D?line=7'>8</a>\u001b[0m \u001b[39mif\u001b[39;00m tri[\u001b[39m0\u001b[39;49m] \u001b[39m==\u001b[39m \u001b[39m0\u001b[39m:\n\u001b[0;32m      <a href='vscode-notebook-cell:/d%3A/AlgorithmStudy/231013.ipynb#W2sZmlsZQ%3D%3D?line=8'>9</a>\u001b[0m     \u001b[39mbreak\u001b[39;00m\n\u001b[0;32m     <a href='vscode-notebook-cell:/d%3A/AlgorithmStudy/231013.ipynb#W2sZmlsZQ%3D%3D?line=9'>10</a>\u001b[0m \u001b[39mif\u001b[39;00m tri[\u001b[39m0\u001b[39m] \u001b[39m>\u001b[39m\u001b[39m=\u001b[39m tri[\u001b[39m1\u001b[39m] \u001b[39m+\u001b[39m tri[\u001b[39m2\u001b[39m]:\n",
      "\u001b[1;31mIndexError\u001b[0m: list index out of range"
     ]
    }
   ],
   "source": [
    "# 백준 5073번 - 삼각형과 세 변\n",
    "import sys\n",
    "# input = sys.stdin.readline\n",
    "\n",
    "while True:\n",
    "    tri = list(map(int, input().strip().split()))\n",
    "    tri.sort(reverse=True)\n",
    "    if tri[0] == 0:\n",
    "        break\n",
    "    if tri[0] >= tri[1] + tri[2]:\n",
    "        print('Invalid')\n",
    "    elif tri[0] == tri[1]:\n",
    "        if tri[1] == tri[2]:\n",
    "            print('Equilateral')\n",
    "        else:\n",
    "            print('Isosceles')\n",
    "    elif tri[0] != tri[1]:\n",
    "        if tri[1] == tri[2]:\n",
    "            print('Isosceles')\n",
    "        else:\n",
    "            print('Scalene')"
   ]
  },
  {
   "cell_type": "code",
   "execution_count": null,
   "metadata": {},
   "outputs": [],
   "source": [
    "# 백준 2010번 - 플러그\n",
    "import sys\n",
    "# input = sys.stdin.readline\n",
    "\n",
    "n = int(input().strip())\n",
    "\n",
    "result = 1 - n\n",
    "\n",
    "for _ in range(n):\n",
    "    result += int(input().strip())\n",
    "\n",
    "print(result)"
   ]
  },
  {
   "cell_type": "code",
   "execution_count": null,
   "metadata": {},
   "outputs": [],
   "source": [
    "# 백준 10886번 - 0 = not cute / 1 = cute\n",
    "import sys\n",
    "# input = sys.stdin.readline\n",
    "\n",
    "n = int(input().strip())\n",
    "result = 0\n",
    "\n",
    "for _ in range(n):\n",
    "    opi = input().strip()\n",
    "    if opi == '1':\n",
    "        result += 1\n",
    "    else:\n",
    "        result -= 1\n",
    "\n",
    "if result > 0:\n",
    "    print('Junhee is cute!')\n",
    "else:\n",
    "    print('Junhee is not cute!')"
   ]
  },
  {
   "cell_type": "code",
   "execution_count": 20,
   "metadata": {},
   "outputs": [
    {
     "name": "stdout",
     "output_type": "stream",
     "text": [
      "  *\n",
      " **\n",
      "***\n",
      " **\n",
      "  *\n"
     ]
    }
   ],
   "source": [
    "# 백준 2522번 - 별 찍기 - 12\n",
    "import sys\n",
    "# input = sys.stdin.readline\n",
    "\n",
    "n = int(input().strip())\n",
    "\n",
    "for i in list(range(1, n+1)) + list(range(n-1, 0, -1)):\n",
    "    star = '*' * i\n",
    "    print((' ' * (n - i)) + star)"
   ]
  },
  {
   "cell_type": "code",
   "execution_count": null,
   "metadata": {},
   "outputs": [],
   "source": [
    "# 백준 2953번 - 나는 요리사다\n",
    "import sys\n",
    "# input = sys.stdin.readline\n",
    "\n",
    "score = []\n",
    "for _ in range(5):\n",
    "    score.append(sum(map(int, input().strip().split())))\n",
    "\n",
    "max_score = max(score)\n",
    "print(f'{score.index(max_score) + 1} {max_score}')"
   ]
  },
  {
   "cell_type": "code",
   "execution_count": null,
   "metadata": {},
   "outputs": [],
   "source": [
    "# 백준 1267번 - 핸드폰 요금\n",
    "import sys\n",
    "# input = sys.stdin.readline\n",
    "\n",
    "y = 0\n",
    "m = 0\n",
    "\n",
    "n = int(input().strip())\n",
    "call_list = list(map(int, input().strip().split()))\n",
    "for call in call_list:\n",
    "    y += ((call // 30) + 1) * 10\n",
    "    m += ((call // 60) + 1) * 15\n",
    "\n",
    "if y < m:\n",
    "    print(f'Y {y}')\n",
    "elif m < y:\n",
    "    print(f'M {m}')\n",
    "else:\n",
    "    print(f'Y M {y}')"
   ]
  }
 ],
 "metadata": {
  "kernelspec": {
   "display_name": "Python 3",
   "language": "python",
   "name": "python3"
  },
  "language_info": {
   "codemirror_mode": {
    "name": "ipython",
    "version": 3
   },
   "file_extension": ".py",
   "mimetype": "text/x-python",
   "name": "python",
   "nbconvert_exporter": "python",
   "pygments_lexer": "ipython3",
   "version": "3.12.0"
  }
 },
 "nbformat": 4,
 "nbformat_minor": 2
}
