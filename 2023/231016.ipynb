{
 "cells": [
  {
   "cell_type": "code",
   "execution_count": null,
   "metadata": {},
   "outputs": [],
   "source": [
    "# 백준 5988번 - 홀수일까 짝수일까\n",
    "import sys\n",
    "# input = sys.stdin.readline\n",
    "\n",
    "n = int(input().strip())\n",
    "\n",
    "for _ in range(n):\n",
    "    num = int(input().strip())\n",
    "    print('even') if num % 2 == 0 else print('odd')"
   ]
  },
  {
   "cell_type": "code",
   "execution_count": 1,
   "metadata": {},
   "outputs": [
    {
     "name": "stdout",
     "output_type": "stream",
     "text": [
      "784\n"
     ]
    }
   ],
   "source": [
    "# 백준 24264번 - 알고리즘 수업 - 알고리즘의 수행 시간 3\n",
    "import sys\n",
    "# input = sys.stdin.readline\n",
    "\n",
    "n = int(input().strip())\n",
    "\n",
    "result = 0\n",
    "print(n ** 2)\n",
    "print(2)"
   ]
  },
  {
   "cell_type": "code",
   "execution_count": 7,
   "metadata": {},
   "outputs": [
    {
     "name": "stdout",
     "output_type": "stream",
     "text": [
      "28\n"
     ]
    }
   ],
   "source": [
    "# 백준 24265번 - 알고리즘 수업 - 알고리즘의 수행 시간 4\n",
    "import sys\n",
    "# input = sys.stdin.readline\n",
    "\n",
    "n = int(input().strip())\n",
    "result = 0\n",
    "for i in range(1, n):\n",
    "    result += i\n",
    "\n",
    "print(result)\n",
    "print(2)"
   ]
  },
  {
   "cell_type": "code",
   "execution_count": 9,
   "metadata": {},
   "outputs": [
    {
     "name": "stdout",
     "output_type": "stream",
     "text": [
      "P O W D E R E D   T O A S T   M A N\n",
      "\n",
      "\n",
      "\n",
      "\n"
     ]
    }
   ],
   "source": [
    "# 백준 4458번 - 첫 글자를 대문자로\n",
    "import sys\n",
    "# input = sys.stdin.readline\n",
    "\n",
    "n = int(input().strip())\n",
    "for _ in range(n):\n",
    "    inp_str = input().strip()\n",
    "    print(inp_str[0].upper() + inp_str[1:])"
   ]
  },
  {
   "cell_type": "code",
   "execution_count": null,
   "metadata": {},
   "outputs": [],
   "source": [
    "# 백준 10833번 - 사과\n",
    "import sys\n",
    "# input = sys.stdin.readline\n",
    "\n",
    "n = int(input().strip())\n",
    "result = 0\n",
    "for _ in range(n):\n",
    "    stu, app = map(int, input().strip().split())\n",
    "    result += (app % stu)\n",
    "\n",
    "print(result)"
   ]
  },
  {
   "cell_type": "code",
   "execution_count": 11,
   "metadata": {},
   "outputs": [
    {
     "name": "stdout",
     "output_type": "stream",
     "text": [
      "360\n"
     ]
    }
   ],
   "source": [
    "# 백준 9063번 - 대지\n",
    "import sys\n",
    "# input = sys.stdin.readline\n",
    "\n",
    "n = int(input().strip())\n",
    "max_x = -10000\n",
    "min_x = 10000\n",
    "max_y = -10000\n",
    "min_y = 10000\n",
    "\n",
    "for _ in range(n):\n",
    "    x, y = map(int, input().strip().split())\n",
    "    max_x = max(max_x, x)\n",
    "    min_x = min(min_x, x)\n",
    "    max_y = max(max_y, y)\n",
    "    min_y = min(min_y, y)\n",
    "\n",
    "print((max_x - min_x) * (max_y - min_y))"
   ]
  },
  {
   "cell_type": "code",
   "execution_count": null,
   "metadata": {},
   "outputs": [],
   "source": [
    "# 백준 2857번 - FBI\n",
    "import sys\n",
    "# input = sys.stdin.readline\n",
    "\n",
    "agent_list = []\n",
    "\n",
    "for i in range(1, 6):\n",
    "    inp_str = input().strip()\n",
    "    if 'FBI' in inp_str:\n",
    "        agent_list.append(str(i))\n",
    "\n",
    "if agent_list:\n",
    "    print(' '.join(agent_list))\n",
    "else:\n",
    "    print('HE GOT AWAY!')"
   ]
  },
  {
   "cell_type": "code",
   "execution_count": null,
   "metadata": {},
   "outputs": [],
   "source": [
    "# 백준 9085번 - 더하기\n",
    "import sys\n",
    "# input = sys.stdin.readline\n",
    "\n",
    "t = int(input().strip())\n",
    "for _ in range(t):\n",
    "    n = int(input().strip())\n",
    "    num_list = list(map(int, input().strip().split()))\n",
    "    print(sum(num_list))"
   ]
  },
  {
   "cell_type": "code",
   "execution_count": 14,
   "metadata": {},
   "outputs": [
    {
     "name": "stdout",
     "output_type": "stream",
     "text": [
      "  *  \n",
      " * * \n",
      "*   *\n"
     ]
    }
   ],
   "source": [
    "# 백준 10990번 - 별 찍기 - 15\n",
    "import sys\n",
    "# input = sys.stdin.readline\n",
    "\n",
    "n = int(input().strip())\n",
    "for i in range(n):\n",
    "    if i == 0:\n",
    "        print('*'.center((n * 2) - 1).rstrip())\n",
    "    else:\n",
    "        print(('*' + (' ' * ((i * 2) - 1)) +'*').center((n * 2) - 1).rstrip())"
   ]
  },
  {
   "cell_type": "code",
   "execution_count": null,
   "metadata": {},
   "outputs": [],
   "source": [
    "# 백준 14215번 - 세 막대\n",
    "import sys\n",
    "# input = sys.stdin.readline\n",
    "\n",
    "stick_list = list(map(int, input().strip().split()))\n",
    "stick_list.sort()\n",
    "\n",
    "if stick_list[0] + stick_list[1] <= stick_list[2]:\n",
    "    stick_list[2] = stick_list[0] + stick_list[1] - 1\n",
    "\n",
    "print(sum(stick_list))"
   ]
  }
 ],
 "metadata": {
  "kernelspec": {
   "display_name": "Python 3",
   "language": "python",
   "name": "python3"
  },
  "language_info": {
   "codemirror_mode": {
    "name": "ipython",
    "version": 3
   },
   "file_extension": ".py",
   "mimetype": "text/x-python",
   "name": "python",
   "nbconvert_exporter": "python",
   "pygments_lexer": "ipython3",
   "version": "3.12.0"
  }
 },
 "nbformat": 4,
 "nbformat_minor": 2
}
