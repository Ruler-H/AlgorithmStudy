{
 "cells": [
  {
   "cell_type": "code",
   "execution_count": 3,
   "metadata": {},
   "outputs": [
    {
     "name": "stdout",
     "output_type": "stream",
     "text": [
      "267\n",
      "1950\n"
     ]
    }
   ],
   "source": [
    "# 백준 3059번 - 등장하지 않는 문자의 합\n",
    "import sys\n",
    "# input = sys.stdin.readline\n",
    "\n",
    "n = int(input().strip())\n",
    "\n",
    "for _ in range(n):\n",
    "    result = 2015\n",
    "    inp_str = set(input().strip())\n",
    "    for i in inp_str:\n",
    "        result -= ord(i)\n",
    "    print(result)"
   ]
  },
  {
   "cell_type": "code",
   "execution_count": 8,
   "metadata": {},
   "outputs": [
    {
     "name": "stdout",
     "output_type": "stream",
     "text": [
      "$80.00\n",
      "$47.99\n",
      "$16.00\n"
     ]
    }
   ],
   "source": [
    "# 백준 10179번 - 쿠폰\n",
    "import sys\n",
    "# input = sys.stdin.readline\n",
    "\n",
    "n = int(input().strip())\n",
    "\n",
    "for _ in range(n):\n",
    "    inp_flo = float(input())\n",
    "    result = round(inp_flo * 0.8, 3)\n",
    "    print(f'${result:.2f}')"
   ]
  },
  {
   "cell_type": "code",
   "execution_count": 10,
   "metadata": {},
   "outputs": [
    {
     "name": "stdout",
     "output_type": "stream",
     "text": [
      "6\n",
      "3\n"
     ]
    }
   ],
   "source": [
    "# 백준 6378번 - 디지털 루트\n",
    "import sys\n",
    "# input = sys.stdin.readline\n",
    "\n",
    "while True:\n",
    "    str_inp = input().strip()\n",
    "    if str_inp == '0':\n",
    "        break\n",
    "\n",
    "    while len(str_inp) > 1:\n",
    "        str_inp = str(sum(map(int, str_inp)))\n",
    "\n",
    "    print(str_inp)"
   ]
  },
  {
   "cell_type": "code",
   "execution_count": 16,
   "metadata": {},
   "outputs": [
    {
     "name": "stdout",
     "output_type": "stream",
     "text": [
      "16\n"
     ]
    }
   ],
   "source": [
    "# 백준 3004번 - 체스판 조각\n",
    "import sys\n",
    "# input = sys.stdin.readline\n",
    "\n",
    "n = int(input().strip())\n",
    "n += 2\n",
    "if n % 2 == 1:\n",
    "    print((n // 2) * ((n // 2) + 1))\n",
    "else:\n",
    "    print((n // 2) * (n // 2))"
   ]
  },
  {
   "cell_type": "code",
   "execution_count": 18,
   "metadata": {},
   "outputs": [
    {
     "name": "stdout",
     "output_type": "stream",
     "text": [
      "Cube = 6, Triple = (3,4,5)\n",
      "Cube = 12, Triple = (6,8,10)\n",
      "Cube = 18, Triple = (2,12,16)\n",
      "Cube = 18, Triple = (9,12,15)\n",
      "Cube = 19, Triple = (3,10,18)\n",
      "Cube = 20, Triple = (7,14,17)\n",
      "Cube = 24, Triple = (12,16,20)\n",
      "Cube = 25, Triple = (4,17,22)\n",
      "Cube = 27, Triple = (3,18,24)\n",
      "Cube = 28, Triple = (18,19,21)\n",
      "Cube = 29, Triple = (11,15,27)\n",
      "Cube = 30, Triple = (15,20,25)\n",
      "Cube = 36, Triple = (4,24,32)\n",
      "Cube = 36, Triple = (18,24,30)\n",
      "Cube = 38, Triple = (6,20,36)\n",
      "Cube = 40, Triple = (14,28,34)\n",
      "Cube = 41, Triple = (2,17,40)\n",
      "Cube = 41, Triple = (6,32,33)\n",
      "Cube = 42, Triple = (21,28,35)\n",
      "Cube = 44, Triple = (16,23,41)\n",
      "Cube = 45, Triple = (5,30,40)\n",
      "Cube = 46, Triple = (3,36,37)\n",
      "Cube = 46, Triple = (27,30,37)\n",
      "Cube = 48, Triple = (24,32,40)\n",
      "Cube = 50, Triple = (8,34,44)\n",
      "Cube = 53, Triple = (29,34,44)\n",
      "Cube = 54, Triple = (6,36,48)\n",
      "Cube = 54, Triple = (12,19,53)\n",
      "Cube = 54, Triple = (27,36,45)\n",
      "Cube = 56, Triple = (36,38,42)\n",
      "Cube = 57, Triple = (9,30,54)\n",
      "Cube = 58, Triple = (15,42,49)\n",
      "Cube = 58, Triple = (22,30,54)\n",
      "Cube = 60, Triple = (21,42,51)\n",
      "Cube = 60, Triple = (30,40,50)\n",
      "Cube = 63, Triple = (7,42,56)\n",
      "Cube = 66, Triple = (33,44,55)\n",
      "Cube = 67, Triple = (22,51,54)\n",
      "Cube = 69, Triple = (36,38,61)\n",
      "Cube = 70, Triple = (7,54,57)\n",
      "Cube = 71, Triple = (14,23,70)\n",
      "Cube = 72, Triple = (8,48,64)\n",
      "Cube = 72, Triple = (34,39,65)\n",
      "Cube = 72, Triple = (36,48,60)\n",
      "Cube = 75, Triple = (12,51,66)\n",
      "Cube = 75, Triple = (38,43,66)\n",
      "Cube = 76, Triple = (12,40,72)\n",
      "Cube = 76, Triple = (31,33,72)\n",
      "Cube = 78, Triple = (39,52,65)\n",
      "Cube = 80, Triple = (28,56,68)\n",
      "Cube = 81, Triple = (9,54,72)\n",
      "Cube = 81, Triple = (25,48,74)\n",
      "Cube = 82, Triple = (4,34,80)\n",
      "Cube = 82, Triple = (12,64,66)\n",
      "Cube = 82, Triple = (19,60,69)\n",
      "Cube = 84, Triple = (28,53,75)\n",
      "Cube = 84, Triple = (42,56,70)\n",
      "Cube = 84, Triple = (54,57,63)\n",
      "Cube = 85, Triple = (50,61,64)\n",
      "Cube = 87, Triple = (20,54,79)\n",
      "Cube = 87, Triple = (26,55,78)\n",
      "Cube = 87, Triple = (33,45,81)\n",
      "Cube = 87, Triple = (38,48,79)\n",
      "Cube = 88, Triple = (21,43,84)\n",
      "Cube = 88, Triple = (25,31,86)\n",
      "Cube = 88, Triple = (32,46,82)\n",
      "Cube = 89, Triple = (17,40,86)\n",
      "Cube = 90, Triple = (10,60,80)\n",
      "Cube = 90, Triple = (25,38,87)\n",
      "Cube = 90, Triple = (45,60,75)\n",
      "Cube = 90, Triple = (58,59,69)\n",
      "Cube = 92, Triple = (6,72,74)\n",
      "Cube = 92, Triple = (54,60,74)\n",
      "Cube = 93, Triple = (32,54,85)\n",
      "Cube = 95, Triple = (15,50,90)\n",
      "Cube = 96, Triple = (19,53,90)\n",
      "Cube = 96, Triple = (48,64,80)\n",
      "Cube = 97, Triple = (45,69,79)\n",
      "Cube = 99, Triple = (11,66,88)\n",
      "Cube = 100, Triple = (16,68,88)\n",
      "Cube = 100, Triple = (35,70,85)\n"
     ]
    }
   ],
   "source": [
    "# 백준 4690번 - 완전 세제곱\n",
    "import sys\n",
    "# input = sys.stdin.readline\n",
    "from itertools import combinations\n",
    "\n",
    "for i in range(2, 101):\n",
    "    comb_list = combinations(range(2, i+1), 3)\n",
    "    for j in comb_list:\n",
    "        if (i ** 3) == ((j[0] ** 3) + (j[1] ** 3) + (j[2] ** 3)):\n",
    "            print(f'Cube = {i}, Triple = ({j[0]},{j[1]},{j[2]})')"
   ]
  },
  {
   "cell_type": "code",
   "execution_count": null,
   "metadata": {},
   "outputs": [],
   "source": []
  }
 ],
 "metadata": {
  "kernelspec": {
   "display_name": "Python 3",
   "language": "python",
   "name": "python3"
  },
  "language_info": {
   "codemirror_mode": {
    "name": "ipython",
    "version": 3
   },
   "file_extension": ".py",
   "mimetype": "text/x-python",
   "name": "python",
   "nbconvert_exporter": "python",
   "pygments_lexer": "ipython3",
   "version": "3.12.0"
  }
 },
 "nbformat": 4,
 "nbformat_minor": 2
}
