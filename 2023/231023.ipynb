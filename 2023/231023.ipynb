{
 "cells": [
  {
   "cell_type": "code",
   "execution_count": 2,
   "metadata": {},
   "outputs": [
    {
     "name": "stdout",
     "output_type": "stream",
     "text": [
      "5\n"
     ]
    }
   ],
   "source": [
    "# 백준 10409번 - 서버\n",
    "import sys\n",
    "# input = sys.stdin.readline\n",
    "\n",
    "n, t = map(int, input().strip().split())\n",
    "\n",
    "work_list = list(map(int, input().strip().split()))\n",
    "result = 0\n",
    "\n",
    "for work in work_list:\n",
    "    if t - work >= 0:\n",
    "        t -= work\n",
    "        result += 1\n",
    "    else:\n",
    "        break\n",
    "\n",
    "print(result)"
   ]
  },
  {
   "cell_type": "code",
   "execution_count": 10,
   "metadata": {},
   "outputs": [
    {
     "name": "stdout",
     "output_type": "stream",
     "text": [
      "2040\n"
     ]
    }
   ],
   "source": [
    "# 백준 2921번 - 도미노\n",
    "import sys\n",
    "# input = sys.stdin.readline\n",
    "\n",
    "n = int(input().strip())\n",
    "\n",
    "result = 0\n",
    "for i in range(1, n+1):\n",
    "    result += ((i * (i + 1)) + sum(range(1, i+1)))\n",
    "\n",
    "print(result)"
   ]
  },
  {
   "cell_type": "code",
   "execution_count": 14,
   "metadata": {},
   "outputs": [
    {
     "name": "stdout",
     "output_type": "stream",
     "text": [
      "5=15/3\n"
     ]
    }
   ],
   "source": [
    "# 백준 2985번 - 세 수\n",
    "import sys\n",
    "# input = sys.stdin.readline\n",
    "\n",
    "a, b, c = map(int, input().strip().split())\n",
    "\n",
    "if a + b == c:\n",
    "    print(f'{a}+{b}={c}')\n",
    "elif a - b == c:\n",
    "    print(f'{a}-{b}={c}')\n",
    "elif a * b == c:\n",
    "    print(f'{a}*{b}={c}')\n",
    "elif a / b == c:\n",
    "    print(f'{a}/{b}={c}')\n",
    "elif a == b - c:\n",
    "    print(f'{a}={b}-{c}')\n",
    "elif a == b / c:\n",
    "    print(f'{a}={b}/{c}')"
   ]
  },
  {
   "cell_type": "code",
   "execution_count": 16,
   "metadata": {},
   "outputs": [
    {
     "name": "stdout",
     "output_type": "stream",
     "text": [
      "1500000\n"
     ]
    }
   ],
   "source": [
    "# 백준 17496번 - 스타후르츠\n",
    "import sys\n",
    "# input = sys.stdin.readline\n",
    "\n",
    "n, t, c, p = map(int, input().strip().split())\n",
    "\n",
    "print(((n - 1) // t) * c * p)"
   ]
  },
  {
   "cell_type": "code",
   "execution_count": 1,
   "metadata": {},
   "outputs": [
    {
     "name": "stdout",
     "output_type": "stream",
     "text": [
      "2501\n"
     ]
    },
    {
     "ename": "ValueError",
     "evalue": "not enough values to unpack (expected 8, got 0)",
     "output_type": "error",
     "traceback": [
      "\u001b[1;31m---------------------------------------------------------------------------\u001b[0m",
      "\u001b[1;31mValueError\u001b[0m                                Traceback (most recent call last)",
      "\u001b[1;32md:\\AlgorithmStudy\\231023.ipynb 셀 5\u001b[0m line \u001b[0;36m8\n\u001b[0;32m      <a href='vscode-notebook-cell:/d%3A/AlgorithmStudy/231023.ipynb#W4sZmlsZQ%3D%3D?line=4'>5</a>\u001b[0m n \u001b[39m=\u001b[39m \u001b[39mint\u001b[39m(\u001b[39minput\u001b[39m()\u001b[39m.\u001b[39mstrip())\n\u001b[0;32m      <a href='vscode-notebook-cell:/d%3A/AlgorithmStudy/231023.ipynb#W4sZmlsZQ%3D%3D?line=6'>7</a>\u001b[0m \u001b[39mfor\u001b[39;00m _ \u001b[39min\u001b[39;00m \u001b[39mrange\u001b[39m(n):\n\u001b[1;32m----> <a href='vscode-notebook-cell:/d%3A/AlgorithmStudy/231023.ipynb#W4sZmlsZQ%3D%3D?line=7'>8</a>\u001b[0m     hp, mp, at, de, hp_e, mp_e, at_e, de_e \u001b[39m=\u001b[39m \u001b[39mmap\u001b[39m(\u001b[39mint\u001b[39m, \u001b[39minput\u001b[39m()\u001b[39m.\u001b[39mstrip()\u001b[39m.\u001b[39msplit())\n\u001b[0;32m      <a href='vscode-notebook-cell:/d%3A/AlgorithmStudy/231023.ipynb#W4sZmlsZQ%3D%3D?line=8'>9</a>\u001b[0m     \u001b[39mif\u001b[39;00m hp \u001b[39m+\u001b[39m hp_e \u001b[39m>\u001b[39m \u001b[39m0\u001b[39m:\n\u001b[0;32m     <a href='vscode-notebook-cell:/d%3A/AlgorithmStudy/231023.ipynb#W4sZmlsZQ%3D%3D?line=9'>10</a>\u001b[0m         total_hp \u001b[39m=\u001b[39m hp \u001b[39m+\u001b[39m hp_e\n",
      "\u001b[1;31mValueError\u001b[0m: not enough values to unpack (expected 8, got 0)"
     ]
    }
   ],
   "source": [
    "# 백준 12790번 - Mini Fantasy War\n",
    "import sys\n",
    "# input = sys.stdin.readline\n",
    "\n",
    "n = int(input().strip())\n",
    "\n",
    "for _ in range(n):\n",
    "    hp, mp, at, de, hp_e, mp_e, at_e, de_e = map(int, input().strip().split())\n",
    "    if hp + hp_e > 0:\n",
    "        total_hp = hp + hp_e\n",
    "    else:\n",
    "        total_hp = 1\n",
    "\n",
    "    if mp + mp_e > 0:\n",
    "        total_mp = mp + mp_e\n",
    "    else:\n",
    "        total_mp = 1\n",
    "\n",
    "    if at + at_e > 0:\n",
    "        total_at = at + at_e\n",
    "    else:\n",
    "        total_at = 0\n",
    "\n",
    "    print((total_hp) + (5 * (total_mp)) + (2 * (total_at + (de + de_e))))"
   ]
  },
  {
   "cell_type": "code",
   "execution_count": null,
   "metadata": {},
   "outputs": [],
   "source": [
    "# 백준 2547번 - 사탕 선생 고창영\n",
    "import sys\n",
    "# input = sys.stdin.readline\n",
    "\n",
    "t = int(input().strip())\n",
    "\n",
    "for _ in range(t):\n",
    "    input()\n",
    "    n = int(input().strip())\n",
    "    total = 0\n",
    "    for _n in range(n):\n",
    "        total += int(input().strip())\n",
    "    if total % n == 0:\n",
    "        print('YES')\n",
    "    else:\n",
    "        print('NO')"
   ]
  },
  {
   "cell_type": "code",
   "execution_count": 3,
   "metadata": {},
   "outputs": [
    {
     "name": "stdout",
     "output_type": "stream",
     "text": [
      "1. odd 18\n",
      "2. even 19\n"
     ]
    }
   ],
   "source": [
    "# 백준 4892번 - 숫자 맞추기 게임\n",
    "import sys\n",
    "# input = sys.stdin.readline\n",
    "idx = 1\n",
    "while True:\n",
    "    n0 = int(input().strip())\n",
    "    if n0 == 0:\n",
    "        break\n",
    "\n",
    "    n1 = n0 * 3\n",
    "\n",
    "    if n1 % 2 == 0:\n",
    "        n2 = n1 // 2\n",
    "    else:\n",
    "        n2 = (n1 + 1) // 2\n",
    "\n",
    "    n3 = n2 * 3\n",
    "\n",
    "    n4 = n3 // 9\n",
    "\n",
    "    if n1 % 2 == 0:\n",
    "        print(f'{idx}. even {n4}')\n",
    "    else:\n",
    "        print(f'{idx}. odd {n4}')\n",
    "\n",
    "    idx += 1"
   ]
  },
  {
   "cell_type": "code",
   "execution_count": 14,
   "metadata": {},
   "outputs": [
    {
     "name": "stdout",
     "output_type": "stream",
     "text": [
      "deque([5, 7, 2, 9])\n",
      "deque([7, 2, 9, 5])\n",
      "deque([2, 9, 5, 7])\n",
      "0\n"
     ]
    }
   ],
   "source": [
    "# 백준 2863번 - 이게 분수?\n",
    "import sys\n",
    "# input = sys.stdin.readline\n",
    "from collections import deque\n",
    "\n",
    "q = deque()\n",
    "inp_list = list(map(int, input().strip().split()))\n",
    "inp_list.reverse()\n",
    "q += inp_list\n",
    "q += list(map(int, input().strip().split()))\n",
    "max_v = q[0] + q[1]\n",
    "result = 0\n",
    "for cnt in range(1, 4):\n",
    "    q.rotate(-1)\n",
    "    sum_v = q[0] + q[1]\n",
    "    if sum_v > max_v:\n",
    "        result = cnt\n",
    "        max_v = sum_v\n",
    "\n",
    "print(result)"
   ]
  },
  {
   "cell_type": "code",
   "execution_count": null,
   "metadata": {},
   "outputs": [],
   "source": []
  }
 ],
 "metadata": {
  "kernelspec": {
   "display_name": "Python 3",
   "language": "python",
   "name": "python3"
  },
  "language_info": {
   "codemirror_mode": {
    "name": "ipython",
    "version": 3
   },
   "file_extension": ".py",
   "mimetype": "text/x-python",
   "name": "python",
   "nbconvert_exporter": "python",
   "pygments_lexer": "ipython3",
   "version": "3.12.0"
  }
 },
 "nbformat": 4,
 "nbformat_minor": 2
}
