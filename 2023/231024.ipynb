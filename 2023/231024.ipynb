{
 "cells": [
  {
   "cell_type": "code",
   "execution_count": 5,
   "metadata": {},
   "outputs": [
    {
     "name": "stdout",
     "output_type": "stream",
     "text": [
      "Pairs for 2: \n",
      "Pairs for 3: 1 2\n",
      "Pairs for 4: 1 3\n",
      "Pairs for 5: 1 4, 2 3\n"
     ]
    }
   ],
   "source": [
    "# 백준 5217번 - 쌍의 합\n",
    "import sys\n",
    "# input = sys.stdin.readline\n",
    "\n",
    "t = int(input().strip())\n",
    "\n",
    "for _ in range(t):\n",
    "    n = int(input().strip())\n",
    "    result = []\n",
    "    for i in range(1, (n//2) + 1):\n",
    "        if n - i != i:\n",
    "            result.append(f'{i} {n-i}')\n",
    "    print(f'Pairs for {n}: ' + ', '.join(result))\n",
    "    "
   ]
  },
  {
   "cell_type": "code",
   "execution_count": null,
   "metadata": {},
   "outputs": [],
   "source": [
    "# 백준 2959번 - 거북이\n",
    "import sys\n",
    "# input = sys.stdin.readline\n",
    "\n",
    "inp_list = list(map(int, input().strip().split()))\n",
    "inp_list.sort()\n",
    "\n",
    "print(min(inp_list[0], inp_list[1]) * min(inp_list[2], inp_list[3]))"
   ]
  },
  {
   "cell_type": "code",
   "execution_count": 7,
   "metadata": {},
   "outputs": [
    {
     "name": "stdout",
     "output_type": "stream",
     "text": [
      "7\n"
     ]
    }
   ],
   "source": [
    "# 백준 2997번 - 네 번째 수\n",
    "import sys\n",
    "# input = sys.stdin.readline\n",
    "\n",
    "inp_list = list(map(int, input().strip().split()))\n",
    "inp_list.sort()\n",
    "front_v = inp_list[1] - inp_list[0]\n",
    "back_v = inp_list[2] - inp_list[1]\n",
    "if front_v > back_v:\n",
    "    print(inp_list[1] - back_v)\n",
    "elif front_v < back_v:\n",
    "    print(inp_list[1] + front_v)\n",
    "else:\n",
    "    print(inp_list[2] + front_v)"
   ]
  },
  {
   "cell_type": "code",
   "execution_count": null,
   "metadata": {},
   "outputs": [],
   "source": [
    "# 백준 11034번 - 캥거루 세마리2\n",
    "import sys\n",
    "# input = sys.stdin.readline\n",
    "\n",
    "while True:\n",
    "    try:\n",
    "        a, b, c = map(int, input().strip().split())\n",
    "        result = max(b - a, c - b)\n",
    "        print(result - 1)\n",
    "    except:\n",
    "        break"
   ]
  },
  {
   "cell_type": "code",
   "execution_count": 9,
   "metadata": {},
   "outputs": [
    {
     "name": "stdout",
     "output_type": "stream",
     "text": [
      "String #1\n",
      "IBM\n",
      "String #2\n",
      "TXFSD\n"
     ]
    }
   ],
   "source": [
    "# 백준 6321번 - IBM 빼기 1\n",
    "import sys\n",
    "# input = sys.stdin.readline\n",
    "\n",
    "n = int(input().strip())\n",
    "\n",
    "for i in range(1, n+1):\n",
    "    inp_str = input().strip()\n",
    "    result = ''\n",
    "    for st in inp_str:\n",
    "        if st == 'Z':\n",
    "            result += 'A'\n",
    "            continue\n",
    "        result += chr(ord(st)+1)\n",
    "\n",
    "    print(f'String #{i}')\n",
    "    print(result)\n",
    "    if i == n:\n",
    "        break\n",
    "    print()"
   ]
  },
  {
   "cell_type": "code",
   "execution_count": 13,
   "metadata": {},
   "outputs": [
    {
     "name": "stdout",
     "output_type": "stream",
     "text": [
      "7\n"
     ]
    }
   ],
   "source": [
    "# 백준 9517번 - 아이 러브 크로아티아\n",
    "import sys\n",
    "# input = sys.stdin.readline\n",
    "\n",
    "k = int(input().strip())\n",
    "n = int(input().strip())\n",
    "time = 210\n",
    "\n",
    "for _ in range(n):\n",
    "    using_time, result = map(str, input().strip().split())\n",
    "    using_time = int(using_time)\n",
    "    if time <= 0:\n",
    "        continue\n",
    "    time -= using_time\n",
    "    match result:\n",
    "        case 'T':\n",
    "            if time > 0:\n",
    "                k %= 8\n",
    "                k += 1\n",
    "            continue\n",
    "        case 'N', 'P':\n",
    "            continue\n",
    "\n",
    "print(k)"
   ]
  },
  {
   "cell_type": "code",
   "execution_count": 23,
   "metadata": {},
   "outputs": [
    {
     "name": "stdout",
     "output_type": "stream",
     "text": [
      "2\n",
      "3\n",
      "5\n"
     ]
    }
   ],
   "source": []
  },
  {
   "cell_type": "code",
   "execution_count": null,
   "metadata": {},
   "outputs": [],
   "source": []
  },
  {
   "cell_type": "code",
   "execution_count": null,
   "metadata": {},
   "outputs": [],
   "source": [
    "3"
   ]
  }
 ],
 "metadata": {
  "kernelspec": {
   "display_name": "Python 3",
   "language": "python",
   "name": "python3"
  },
  "language_info": {
   "codemirror_mode": {
    "name": "ipython",
    "version": 3
   },
   "file_extension": ".py",
   "mimetype": "text/x-python",
   "name": "python",
   "nbconvert_exporter": "python",
   "pygments_lexer": "ipython3",
   "version": "3.12.0"
  }
 },
 "nbformat": 4,
 "nbformat_minor": 2
}
