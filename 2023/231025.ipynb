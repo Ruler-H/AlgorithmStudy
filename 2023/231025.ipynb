{
 "cells": [
  {
   "cell_type": "code",
   "execution_count": null,
   "metadata": {},
   "outputs": [],
   "source": [
    "# 백준 9094번 - 수학적 호기심\n",
    "import sys\n",
    "# input = sys.stdin.readline\n",
    "from itertools import combinations\n",
    "\n",
    "t = int(input().strip())\n",
    "\n",
    "for _ in range(t):\n",
    "    n, m = map(int, input().strip().split())\n",
    "\n",
    "    comb_list = combinations(range(1, n), 2)\n",
    "    result = 0\n",
    "    for a, b in comb_list:\n",
    "        if not ((a ** 2) + (b ** 2) + m) % (a * b):\n",
    "            result += 1\n",
    "    print(result)"
   ]
  },
  {
   "cell_type": "code",
   "execution_count": 7,
   "metadata": {},
   "outputs": [
    {
     "name": "stdout",
     "output_type": "stream",
     "text": [
      "4642.857142857143\n"
     ]
    }
   ],
   "source": [
    "# 백준 2783번 - 삼각 김밥\n",
    "import sys\n",
    "# input = sys.stdin.readline\n",
    "\n",
    "x, y = map(int, input().strip().split())\n",
    "result = x * (1000 / y)\n",
    "\n",
    "n = int(input().strip())\n",
    "for _ in range(n):\n",
    "    x, y = map(int, input().strip().split())\n",
    "    result = min(result, (x * (1000 / y)))\n",
    "print(result)"
   ]
  },
  {
   "cell_type": "code",
   "execution_count": 8,
   "metadata": {},
   "outputs": [
    {
     "name": "stdout",
     "output_type": "stream",
     "text": [
      "AP 13\n",
      "GP 54\n"
     ]
    }
   ],
   "source": [
    "# 백준 4880번 - 다음수\n",
    "import sys\n",
    "# input = sys.stdin.readline\n",
    "\n",
    "while True:\n",
    "    a, b, c = map(int, input().strip().split())\n",
    "    if a == 0 and b == 0 and c == 0:\n",
    "        break\n",
    "\n",
    "    if b - a == c - b:\n",
    "        print(f'AP {c + b - a}')\n",
    "    else:\n",
    "        print(f'GP {c * (b // a)}')"
   ]
  },
  {
   "cell_type": "code",
   "execution_count": null,
   "metadata": {},
   "outputs": [],
   "source": [
    "# 백준 11023번 - 더하기 3\n",
    "import sys\n",
    "# input = sys.stdin.readline\n",
    "\n",
    "print(sum(map(int, input().strip().split())))"
   ]
  },
  {
   "cell_type": "code",
   "execution_count": 10,
   "metadata": {},
   "outputs": [
    {
     "name": "stdout",
     "output_type": "stream",
     "text": [
      "53\n",
      "1\n",
      "7\n",
      "8\n",
      "8\n"
     ]
    }
   ],
   "source": [
    "# 백준 5692번 - 팩토리얼 진법\n",
    "import sys\n",
    "# input = sys.stdin.readline\n",
    "\n",
    "fac_list = [1, 2, 6, 24, 120]\n",
    "\n",
    "while True:\n",
    "    t = input().strip()\n",
    "    if t == '0':\n",
    "        break\n",
    "\n",
    "    t_list = list(t)\n",
    "    t_list.reverse()\n",
    "    result = 0\n",
    "    for idx, v in enumerate(t_list):\n",
    "        result += fac_list[idx] * int(v)\n",
    "\n",
    "    print(result)"
   ]
  },
  {
   "cell_type": "code",
   "execution_count": 14,
   "metadata": {},
   "outputs": [
    {
     "name": "stdout",
     "output_type": "stream",
     "text": [
      "3\n"
     ]
    }
   ],
   "source": [
    "# 백준 16431번 - 베시와 데이지\n",
    "import sys\n",
    "# input = sys.stdin.readline\n",
    "\n",
    "bessie_po = list(map(int, input().strip().split()))\n",
    "daisy_po = list(map(int, input().strip().split()))\n",
    "john_po = list(map(int, input().strip().split()))\n",
    "bessie_cnt = 0\n",
    "while True:\n",
    "    if bessie_po == john_po:\n",
    "        break\n",
    "    if bessie_po[0] != john_po[0]:\n",
    "        if bessie_po[0] < john_po[0]:\n",
    "            bessie_po[0] += 1\n",
    "        else:\n",
    "            bessie_po[0] -= 1\n",
    "    if bessie_po[1] != john_po[1]:\n",
    "        if bessie_po[1] < john_po[1]:\n",
    "            bessie_po[1] += 1\n",
    "        else:\n",
    "            bessie_po[1] -= 1\n",
    "    bessie_cnt += 1\n",
    "\n",
    "daisy_cnt = abs(daisy_po[0] - john_po[0]) + abs(daisy_po[1] - john_po[1])\n",
    "\n",
    "if bessie_cnt < daisy_cnt:\n",
    "    print('bessie')\n",
    "elif bessie_cnt > daisy_cnt:\n",
    "    print('daisy')\n",
    "else:\n",
    "    print('tie')"
   ]
  },
  {
   "cell_type": "code",
   "execution_count": 4,
   "metadata": {},
   "outputs": [
    {
     "name": "stdout",
     "output_type": "stream",
     "text": [
      "Triangle #1.000\n",
      "c = 5.000\n",
      "\n",
      "Triangle #2.000\n",
      "a = 6.708\n",
      "\n",
      "Triangle #3.000\n",
      "Impossible.\n",
      "\n"
     ]
    }
   ],
   "source": [
    "# 백준 6322번 - 직각 삼각형의 두 변\n",
    "import sys\n",
    "# input = sys.stdin.readline\n",
    "cnt = 0\n",
    "while True:\n",
    "    cnt += 1\n",
    "    a, b, c = map(int, input().strip().split())\n",
    "    if a == 0 and b == 0 and c == 0:\n",
    "        break\n",
    "    print(f'Triangle #{cnt}')\n",
    "    if a == -1:\n",
    "        oper_v = (c ** 2) - (b ** 2)\n",
    "        if oper_v <= 0:\n",
    "            print('Impossible.')\n",
    "        else:\n",
    "            oper_a = (oper_v) ** (1 / 2)\n",
    "            print(f'a = {oper_a:.3f}')\n",
    "    elif b == -1:\n",
    "        oper_v = (c ** 2) - (a ** 2)\n",
    "        if oper_v <= 0:\n",
    "            print('Impossible.')\n",
    "        else:\n",
    "            oper_b = (oper_v) ** (1 / 2)\n",
    "            print(f'b = {oper_b:.3f}')\n",
    "    else:\n",
    "        oper_v = (a ** 2) + (b ** 2)\n",
    "        if oper_v <= 0:\n",
    "            print('Impossible.')\n",
    "        else:\n",
    "            oper_c = (oper_v) ** (1 / 2)\n",
    "            print(f'c = {oper_c:.3f}')\n",
    "    print()"
   ]
  },
  {
   "cell_type": "code",
   "execution_count": null,
   "metadata": {},
   "outputs": [],
   "source": []
  }
 ],
 "metadata": {
  "kernelspec": {
   "display_name": "Python 3",
   "language": "python",
   "name": "python3"
  },
  "language_info": {
   "codemirror_mode": {
    "name": "ipython",
    "version": 3
   },
   "file_extension": ".py",
   "mimetype": "text/x-python",
   "name": "python",
   "nbconvert_exporter": "python",
   "pygments_lexer": "ipython3",
   "version": "3.12.0"
  }
 },
 "nbformat": 4,
 "nbformat_minor": 2
}
