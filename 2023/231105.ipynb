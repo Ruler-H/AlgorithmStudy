{
 "cells": [
  {
   "cell_type": "code",
   "execution_count": 1,
   "metadata": {},
   "outputs": [
    {
     "name": "stdout",
     "output_type": "stream",
     "text": [
      "Player 2\n",
      "TIE\n",
      "Player 1\n"
     ]
    }
   ],
   "source": [
    "# 백준 4493번 - 가위 바위 보?\n",
    "import sys\n",
    "# input = sys.stdin.readline\n",
    "\n",
    "t = int(input().strip())\n",
    "for _t in range(t):\n",
    "    n = int(input())\n",
    "    p1_win = 0\n",
    "    p2_win = 0\n",
    "    for _n in range(n):\n",
    "        p1_select, p2_select = map(str, input().strip().split())\n",
    "        if p1_select == 'R':\n",
    "            if p2_select == 'S':\n",
    "                p1_win += 1\n",
    "            elif p2_select == 'P':\n",
    "                p2_win += 1\n",
    "        elif p1_select == 'S':\n",
    "            if p2_select == 'P':\n",
    "                p1_win += 1\n",
    "            elif p2_select == 'R':\n",
    "                p2_win += 1\n",
    "        elif p1_select == 'P':\n",
    "            if p2_select == 'R':\n",
    "                p1_win += 1\n",
    "            elif p2_select == 'S':\n",
    "                p2_win += 1\n",
    "    if p1_win > p2_win:\n",
    "        print('Player 1')\n",
    "    elif p2_win > p1_win:\n",
    "        print('Player 2')\n",
    "    else:\n",
    "        print('TIE')\n"
   ]
  },
  {
   "cell_type": "code",
   "execution_count": null,
   "metadata": {},
   "outputs": [],
   "source": [
    "3\n",
    "2\n",
    "R P\n",
    "S R\n",
    "3\n",
    "P P\n",
    "R S\n",
    "S R\n",
    "1\n",
    "P R"
   ]
  }
 ],
 "metadata": {
  "kernelspec": {
   "display_name": "Python 3",
   "language": "python",
   "name": "python3"
  },
  "language_info": {
   "codemirror_mode": {
    "name": "ipython",
    "version": 3
   },
   "file_extension": ".py",
   "mimetype": "text/x-python",
   "name": "python",
   "nbconvert_exporter": "python",
   "pygments_lexer": "ipython3",
   "version": "3.11.6"
  }
 },
 "nbformat": 4,
 "nbformat_minor": 2
}
