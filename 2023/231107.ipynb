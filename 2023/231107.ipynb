{
 "cells": [
  {
   "cell_type": "code",
   "execution_count": 2,
   "metadata": {},
   "outputs": [
    {
     "name": "stdout",
     "output_type": "stream",
     "text": [
      "%13987.50\n",
      "%15679.76\n",
      "%16182.54\n"
     ]
    }
   ],
   "source": [
    "# 백준 5361번 - 전투 드로이드 가격\n",
    "import sys\n",
    "# input = sys.stdin.readline\n",
    "\n",
    "n = int(input().strip())\n",
    "\n",
    "for _ in range(n):\n",
    "    a, b, c, d, e = map(int, input().strip().split())\n",
    "    result = a * 350.34\n",
    "    result += b * 230.9\n",
    "    result += c * 190.55\n",
    "    result += d * 125.3\n",
    "    result += e * 180.9\n",
    "    print(f'${result:.2f}')"
   ]
  },
  {
   "cell_type": "code",
   "execution_count": null,
   "metadata": {},
   "outputs": [],
   "source": [
    "3\n",
    "20 10 14 3 9\n",
    "19 17 12 8 10\n",
    "11 9 8 22 33"
   ]
  }
 ],
 "metadata": {
  "kernelspec": {
   "display_name": "Python 3",
   "language": "python",
   "name": "python3"
  },
  "language_info": {
   "codemirror_mode": {
    "name": "ipython",
    "version": 3
   },
   "file_extension": ".py",
   "mimetype": "text/x-python",
   "name": "python",
   "nbconvert_exporter": "python",
   "pygments_lexer": "ipython3",
   "version": "3.11.6"
  }
 },
 "nbformat": 4,
 "nbformat_minor": 2
}
