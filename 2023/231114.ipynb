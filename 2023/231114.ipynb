{
 "cells": [
  {
   "cell_type": "code",
   "execution_count": 3,
   "metadata": {},
   "outputs": [
    {
     "name": "stdout",
     "output_type": "stream",
     "text": [
      "OOOOOOOO\n",
      "OOAAAAOO\n",
      "OAOOOOAO\n",
      "OOOSSOOO\n",
      "OOOSSOOO\n",
      "OKKOOEEO\n",
      "OKKOOEEO\n",
      "OOOOOOOO\n"
     ]
    }
   ],
   "source": [
    "# 백준 11586번 - 지영 공주님의 마법 거울\n",
    "import sys\n",
    "# input = sys.stdin.readline\n",
    "\n",
    "n = int(input().strip())\n",
    "\n",
    "n_list = []\n",
    "\n",
    "for _ in range(n):\n",
    "    n_list.append(input().strip())\n",
    "\n",
    "k = input().strip()\n",
    "if k == '1':\n",
    "    for v in n_list:\n",
    "        print(v)\n",
    "elif k == '2':\n",
    "    for v in n_list:\n",
    "        print(v[::-1])\n",
    "elif k == '3':\n",
    "    n_list.reverse()\n",
    "    for v in n_list:\n",
    "        print(v)"
   ]
  },
  {
   "cell_type": "code",
   "execution_count": null,
   "metadata": {},
   "outputs": [],
   "source": [
    "8\n",
    "OOOOOOOO\n",
    "OKKOOEEO\n",
    "OKKOOEEO\n",
    "OOOSSOOO\n",
    "OOOSSOOO\n",
    "OAOOOOAO\n",
    "OOAAAAOO\n",
    "OOOOOOOO\n",
    "3"
   ]
  }
 ],
 "metadata": {
  "kernelspec": {
   "display_name": "Python 3",
   "language": "python",
   "name": "python3"
  },
  "language_info": {
   "codemirror_mode": {
    "name": "ipython",
    "version": 3
   },
   "file_extension": ".py",
   "mimetype": "text/x-python",
   "name": "python",
   "nbconvert_exporter": "python",
   "pygments_lexer": "ipython3",
   "version": "3.11.6"
  }
 },
 "nbformat": 4,
 "nbformat_minor": 2
}
