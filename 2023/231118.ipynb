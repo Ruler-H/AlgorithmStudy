{
 "cells": [
  {
   "cell_type": "code",
   "execution_count": 18,
   "metadata": {},
   "outputs": [
    {
     "name": "stdout",
     "output_type": "stream",
     "text": [
      "BAD 11\n"
     ]
    }
   ],
   "source": [
    "# 백준 2061번 - 좋은 암호\n",
    "import sys\n",
    "# input = sys.stdin.readline\n",
    "\n",
    "k, l = map(int, input().strip().split())\n",
    "\n",
    "if k % 2 == 0:\n",
    "    if 2 >= l:\n",
    "        print('GOOD')\n",
    "    else:\n",
    "        print('BAD 2')\n",
    "else:\n",
    "    prime_array = [True for i in range(l + 1)]\n",
    "    result = l\n",
    "    for i in range(2, l + 1):\n",
    "        if prime_array[i] == True:\n",
    "            j = 2\n",
    "            if k % i == 0:\n",
    "                result = i\n",
    "            while i * j <= l:\n",
    "                prime_array[i * j] = False\n",
    "                j += 1\n",
    "\n",
    "    if result >= l:\n",
    "        print('GOOD')\n",
    "    else:\n",
    "        print(f'BAD {result}')"
   ]
  },
  {
   "cell_type": "code",
   "execution_count": null,
   "metadata": {},
   "outputs": [],
   "source": []
  }
 ],
 "metadata": {
  "kernelspec": {
   "display_name": "Python 3",
   "language": "python",
   "name": "python3"
  },
  "language_info": {
   "codemirror_mode": {
    "name": "ipython",
    "version": 3
   },
   "file_extension": ".py",
   "mimetype": "text/x-python",
   "name": "python",
   "nbconvert_exporter": "python",
   "pygments_lexer": "ipython3",
   "version": "3.11.6"
  }
 },
 "nbformat": 4,
 "nbformat_minor": 2
}
