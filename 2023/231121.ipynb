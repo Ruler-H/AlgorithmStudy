{
 "cells": [
  {
   "cell_type": "code",
   "execution_count": null,
   "metadata": {},
   "outputs": [],
   "source": [
    "# 백준 4435번 - 중간계 전쟁\n",
    "import sys\n",
    "# input = sys.stdin.readline\n",
    "\n",
    "t = int(input().strip())\n",
    "\n",
    "for i in range(1, t + 1):\n",
    "    ho, gan_hu, el, dw, do, gan_ma = map(int, input().strip().split())\n",
    "    gan_score = ho + (gan_hu * 2) + (el * 3) + (dw * 3) + (do * 4) + (gan_ma * 10)\n",
    "    orc, sa_hu, wol, go, wo, tr, sa_ma = map(int, input().strip().split())\n",
    "    sa_score = orc + (sa_hu * 2) + (wol * 2) + (go * 2) + (wo * 3) + (tr * 5) + (sa_ma * 10)\n",
    "    if gan_score > sa_score:\n",
    "        print(f'Battle {i}: Good triumphs over Evil')\n",
    "    elif gan_score < sa_score:\n",
    "        print(f'Battle {i}: Evil eradicates all trace of Good')\n",
    "    else:\n",
    "        print(f'Battle {i}: No victor on this battle field')"
   ]
  }
 ],
 "metadata": {
  "kernelspec": {
   "display_name": "Python 3",
   "language": "python",
   "name": "python3"
  },
  "language_info": {
   "name": "python",
   "version": "3.11.6"
  }
 },
 "nbformat": 4,
 "nbformat_minor": 2
}
