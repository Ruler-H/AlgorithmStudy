{
 "cells": [
  {
   "cell_type": "code",
   "execution_count": 6,
   "metadata": {},
   "outputs": [
    {
     "name": "stdout",
     "output_type": "stream",
     "text": [
      "1 12 3\n",
      "0 52 28\n"
     ]
    }
   ],
   "source": [
    "# 백준 12840번 - 창용이의 시계\n",
    "import sys\n",
    "# input = sys.stdin.readline\n",
    "\n",
    "h, m, s = map(int, input().strip().split())\n",
    "now = (h * 3600) + (m * 60) + s\n",
    "\n",
    "q = int(input().strip())\n",
    "\n",
    "for _ in range(q):\n",
    "    q_inp = input().strip()\n",
    "    \n",
    "    match q_inp[0]:\n",
    "        case '1':\n",
    "            t, c = map(int, q_inp.split())\n",
    "            now = ((now + c) % 86400)\n",
    "        case '2':\n",
    "            t, c = map(int, q_inp.split())\n",
    "            c %= 86400\n",
    "            now -= c\n",
    "            if now < 0:\n",
    "                now += 86400\n",
    "        case '3':\n",
    "            print(f'{now // 3600} {(now % 3600) // 60} {now % 60}')"
   ]
  },
  {
   "cell_type": "code",
   "execution_count": null,
   "metadata": {},
   "outputs": [],
   "source": [
    "0 1 0\n",
    "4\n",
    "1 4263\n",
    "3\n",
    "2 1175\n",
    "3"
   ]
  }
 ],
 "metadata": {
  "kernelspec": {
   "display_name": "Python 3",
   "language": "python",
   "name": "python3"
  },
  "language_info": {
   "codemirror_mode": {
    "name": "ipython",
    "version": 3
   },
   "file_extension": ".py",
   "mimetype": "text/x-python",
   "name": "python",
   "nbconvert_exporter": "python",
   "pygments_lexer": "ipython3",
   "version": "3.11.6"
  }
 },
 "nbformat": 4,
 "nbformat_minor": 2
}
