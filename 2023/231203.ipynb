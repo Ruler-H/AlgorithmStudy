{
 "cells": [
  {
   "cell_type": "code",
   "execution_count": 4,
   "metadata": {},
   "outputs": [
    {
     "name": "stdout",
     "output_type": "stream",
     "text": [
      "-3\n"
     ]
    }
   ],
   "source": [
    "# 백준 9550번 - 아이들은 사탕을 좋아해\n",
    "import sys\n",
    "# input = sys.stdin.readline\n",
    "\n",
    "t = int(input().strip())\n",
    "\n",
    "for _ in range(t):\n",
    "    n, k = map(int, input().strip().split())\n",
    "\n",
    "    result = sum(map(\n",
    "        lambda x: int(x) // k,\n",
    "        input().strip().split()\n",
    "    ))\n",
    "    print(result)"
   ]
  },
  {
   "cell_type": "code",
   "execution_count": 2,
   "metadata": {},
   "outputs": [
    {
     "name": "stdout",
     "output_type": "stream",
     "text": [
      "2\n"
     ]
    }
   ],
   "source": [
    "# 백준 6131번 - 완전 제곱수\n",
    "import sys\n",
    "# input = sys.stdin.readline\n",
    "\n",
    "n = int(input().strip())\n",
    "\n",
    "rs = 0\n",
    "for a in range(1, 501):\n",
    "    b = ((a ** 2) + n) ** 0.5\n",
    "    if b == int(b):\n",
    "        rs += 1\n",
    "print(rs)"
   ]
  },
  {
   "cell_type": "code",
   "execution_count": 3,
   "metadata": {},
   "outputs": [
    {
     "name": "stdout",
     "output_type": "stream",
     "text": [
      "2\n",
      "1\n",
      "0\n"
     ]
    }
   ],
   "source": [
    "# 백준 2991번 - 사나운 개\n",
    "import sys\n",
    "# input = sys.stdin.readline\n",
    "\n",
    "a, b, c, d = map(int, input().strip().split())\n",
    "p, m, n = map(int, input().strip().split()) \n",
    "\n",
    "p_at = 0\n",
    "if 0 < p % (a + b) <= a:\n",
    "    p_at += 1\n",
    "if 0 < p % (c + d) <= c:\n",
    "    p_at += 1\n",
    "print(p_at)\n",
    "\n",
    "m_at = 0\n",
    "if 0 < m % (a + b) <= a:\n",
    "    m_at += 1\n",
    "if 0 < m % (c + d) <= c:\n",
    "    m_at += 1\n",
    "print(m_at)\n",
    "\n",
    "n_at = 0\n",
    "if 0 < n % (a + b) <= a:\n",
    "    n_at += 1\n",
    "if 0 < n % (c + d) <= c:\n",
    "    n_at += 1\n",
    "print(n_at)"
   ]
  },
  {
   "cell_type": "code",
   "execution_count": 4,
   "metadata": {},
   "outputs": [
    {
     "name": "stdout",
     "output_type": "stream",
     "text": [
      "0\n",
      "1\n",
      "1\n",
      "2\n",
      "2\n"
     ]
    }
   ],
   "source": [
    "# 백준 10419번 - 지각\n",
    "import sys\n",
    "# input = sys.stdin.readline\n",
    "\n",
    "t = int(input().strip())\n",
    "\n",
    "for _ in range(t):\n",
    "    d = int(input().strip())\n",
    "    rs = 0\n",
    "    for i in range(1, d):\n",
    "        rs_t = i * (i + 1)\n",
    "        if rs_t <= d:\n",
    "            rs += 1\n",
    "        else:\n",
    "            break\n",
    "    print(rs)"
   ]
  },
  {
   "cell_type": "code",
   "execution_count": 7,
   "metadata": {},
   "outputs": [
    {
     "name": "stdout",
     "output_type": "stream",
     "text": [
      "6\n"
     ]
    }
   ],
   "source": [
    "# 백준 15633번 - Fan Death\n",
    "import sys\n",
    "input = sys.stdin.readline\n",
    "\n",
    "n = int(input().strip())\n",
    "\n",
    "rs = 0\n",
    "for i in range(1, n+1):\n",
    "    if n % i == 0:\n",
    "        rs += i\n",
    "print(rs * 5 - 24)"
   ]
  },
  {
   "cell_type": "code",
   "execution_count": null,
   "metadata": {},
   "outputs": [],
   "source": [
    "# 백준 15667번 - 2018 연세대학교 프로그래밍 경진대회\n",
    "import sys\n",
    "input = sys.stdin.readline\n",
    "\n",
    "n = int(input().strip())\n",
    "\n",
    "for i in range(n):\n",
    "    if i * (i + 1) == (n - 1):\n",
    "        print(i)\n",
    "        break"
   ]
  }
 ],
 "metadata": {
  "kernelspec": {
   "display_name": "Python 3",
   "language": "python",
   "name": "python3"
  },
  "language_info": {
   "codemirror_mode": {
    "name": "ipython",
    "version": 3
   },
   "file_extension": ".py",
   "mimetype": "text/x-python",
   "name": "python",
   "nbconvert_exporter": "python",
   "pygments_lexer": "ipython3",
   "version": "3.11.1"
  }
 },
 "nbformat": 4,
 "nbformat_minor": 2
}
