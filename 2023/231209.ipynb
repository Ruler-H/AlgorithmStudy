{
 "cells": [
  {
   "cell_type": "code",
   "execution_count": 7,
   "metadata": {},
   "outputs": [
    {
     "name": "stdout",
     "output_type": "stream",
     "text": [
      "7\n"
     ]
    }
   ],
   "source": [
    "# 백준 2712번 - 미국 스타일\n",
    "import sys\n",
    "# input = sys.stdin.readline\n",
    "\n",
    "t = int(input().strip())\n",
    "\n",
    "for _ in range(t):\n",
    "    num, unit = input().strip().split()\n",
    "    num = float(num)\n",
    "    if unit == \"kg\":\n",
    "        print(f\"{num * 2.2046:.4f} lb\")\n",
    "    elif unit == \"lb\":\n",
    "        print(f\"{num * 0.4536:.4f} kg\")\n",
    "    elif unit == \"l\":\n",
    "        print(f\"{num * 0.2642:.4f} g\")\n",
    "    elif unit == \"g\":\n",
    "        print(f\"{num * 3.7854:.4f} l\")"
   ]
  }
 ],
 "metadata": {
  "kernelspec": {
   "display_name": "Python 3",
   "language": "python",
   "name": "python3"
  },
  "language_info": {
   "codemirror_mode": {
    "name": "ipython",
    "version": 3
   },
   "file_extension": ".py",
   "mimetype": "text/x-python",
   "name": "python",
   "nbconvert_exporter": "python",
   "pygments_lexer": "ipython3",
   "version": "3.11.6"
  }
 },
 "nbformat": 4,
 "nbformat_minor": 2
}
