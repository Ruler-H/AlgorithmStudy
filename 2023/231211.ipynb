{
 "cells": [
  {
   "cell_type": "code",
   "execution_count": 1,
   "metadata": {},
   "outputs": [
    {
     "name": "stdout",
     "output_type": "stream",
     "text": [
      "45\n",
      "105\n",
      "210\n",
      "2145\n"
     ]
    }
   ],
   "source": [
    "# 백준 2721번 - 삼각수의 합\n",
    "import sys\n",
    "# input = sys.stdin.readline\n",
    "\n",
    "t = int(input().strip())\n",
    "\n",
    "for _ in range(t):\n",
    "    n = int(input().strip())\n",
    "    sum = 0\n",
    "    for i in range(1, n + 1):\n",
    "        sum += i * (i + 1) * (i + 2) // 2\n",
    "    print(sum)"
   ]
  },
  {
   "cell_type": "code",
   "execution_count": null,
   "metadata": {},
   "outputs": [],
   "source": []
  }
 ],
 "metadata": {
  "kernelspec": {
   "display_name": "Python 3",
   "language": "python",
   "name": "python3"
  },
  "language_info": {
   "codemirror_mode": {
    "name": "ipython",
    "version": 3
   },
   "file_extension": ".py",
   "mimetype": "text/x-python",
   "name": "python",
   "nbconvert_exporter": "python",
   "pygments_lexer": "ipython3",
   "version": "3.11.6"
  }
 },
 "nbformat": 4,
 "nbformat_minor": 2
}
