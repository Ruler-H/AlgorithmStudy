{
 "cells": [
  {
   "cell_type": "code",
   "execution_count": null,
   "metadata": {},
   "outputs": [],
   "source": [
    "# 백준 10865번 - 친구 친구\n",
    "import sys\n",
    "# input = sys.stdin.readline\n",
    "\n",
    "n, m = map(int, input().strip().split())\n",
    "\n",
    "friends = [0] * (n + 1)\n",
    "\n",
    "for _ in range(m):\n",
    "    a, b = map(int, input().strip().split())\n",
    "    friends[a] += 1\n",
    "    friends[b] += 1\n",
    "\n",
    "for i in range(1, n + 1):\n",
    "    print(friends[i])"
   ]
  },
  {
   "cell_type": "code",
   "execution_count": null,
   "metadata": {},
   "outputs": [],
   "source": [
    "# 백준 10599번 - 페르시아의 왕들\n",
    "import sys\n",
    "# input = sys.stdin.readline\n",
    "\n",
    "while True:\n",
    "    a, b, c, d = map(int, input().strip().split())\n",
    "    if a == b == c == d == 0:\n",
    "        break\n",
    "    print(c - b, d - a)"
   ]
  },
  {
   "cell_type": "code",
   "execution_count": null,
   "metadata": {},
   "outputs": [],
   "source": [
    "# 백준 17350번 - 2루수 이름이 뭐야\n",
    "import sys\n",
    "# input = sys.stdin.readline\n",
    "\n",
    "n = int(input().strip())\n",
    "flag = False\n",
    "for _ in range(n):\n",
    "    name = input().strip()\n",
    "    if name == \"anj\":\n",
    "        flag = True\n",
    "        break\n",
    "if flag:\n",
    "    print(\"뭐야;\")\n",
    "else:\n",
    "    print(\"뭐야?\")"
   ]
  },
  {
   "cell_type": "code",
   "execution_count": null,
   "metadata": {},
   "outputs": [],
   "source": [
    "# 백준 15734번 - 명장 남정훈\n",
    "import sys\n",
    "# input = sys.stdin.readline\n",
    "\n",
    "l, r, a = map(int, input().strip().split())\n",
    "\n",
    "if l == r:\n",
    "    print((l + r + a) // 2 * 2)\n",
    "else:\n",
    "    if l > r:\n",
    "        l, r = r, l\n",
    "    if l + a <= r:\n",
    "        print((l + a) * 2)\n",
    "    else:\n",
    "        print((l + r + a) // 2 * 2)"
   ]
  },
  {
   "cell_type": "code",
   "execution_count": 32,
   "metadata": {},
   "outputs": [
    {
     "name": "stdout",
     "output_type": "stream",
     "text": [
      "3\n"
     ]
    }
   ],
   "source": [
    "# 백준 25175번 - 두~~부 두부 두부\n",
    "import sys\n",
    "# input = sys.stdin.readline\n",
    "\n",
    "n, m, k = map(int, input().strip().split())\n",
    "\n",
    "n_list = [i for i in range(1, n + 1)]\n",
    "\n",
    "rs = k - 4 + m\n",
    "if rs > n:\n",
    "    rs = rs % n\n",
    "while rs <= 0:\n",
    "    rs += n\n",
    "print(n_list[rs])"
   ]
  },
  {
   "cell_type": "code",
   "execution_count": null,
   "metadata": {},
   "outputs": [],
   "source": [
    "6 1 -1"
   ]
  }
 ],
 "metadata": {
  "kernelspec": {
   "display_name": "Python 3",
   "language": "python",
   "name": "python3"
  },
  "language_info": {
   "codemirror_mode": {
    "name": "ipython",
    "version": 3
   },
   "file_extension": ".py",
   "mimetype": "text/x-python",
   "name": "python",
   "nbconvert_exporter": "python",
   "pygments_lexer": "ipython3",
   "version": "3.11.6"
  }
 },
 "nbformat": 4,
 "nbformat_minor": 2
}
