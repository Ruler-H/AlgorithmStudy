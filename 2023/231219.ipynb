{
 "cells": [
  {
   "cell_type": "code",
   "execution_count": 9,
   "metadata": {},
   "outputs": [
    {
     "name": "stdout",
     "output_type": "stream",
     "text": [
      "3\n"
     ]
    }
   ],
   "source": [
    "# 백준 25175번 - 두~~부 두부 두부\n",
    "import sys\n",
    "# input = sys.stdin.readline\n",
    "\n",
    "n, m, k = map(int, input().strip().split())\n",
    "\n",
    "n_list = [i for i in range(1, n + 1)]\n",
    "\n",
    "rs = k - 4 + m\n",
    "if rs > n:\n",
    "    rs = rs % n\n",
    "while rs < 0:\n",
    "    rs += n\n",
    "print(n_list[rs])"
   ]
  },
  {
   "cell_type": "code",
   "execution_count": 15,
   "metadata": {},
   "outputs": [
    {
     "name": "stdout",
     "output_type": "stream",
     "text": [
      "INVALID\n"
     ]
    }
   ],
   "source": [
    "# 백준 27736번 - 찬반투표\n",
    "import sys\n",
    "# input = sys.stdin.readline\n",
    "\n",
    "n = int(input().strip())\n",
    "vote = list(map(int, input().strip().split()))\n",
    "approve_num = vote.count(1)\n",
    "oppose_num = vote.count(-1)\n",
    "give_up_num = vote.count(0)\n",
    "if give_up_num >= (len(vote) / 2):\n",
    "    print('INVALID')\n",
    "elif approve_num > oppose_num:\n",
    "    print('APPROVED')\n",
    "else:\n",
    "    print('REJECTED')"
   ]
  },
  {
   "cell_type": "code",
   "execution_count": 21,
   "metadata": {},
   "outputs": [
    {
     "ename": "ValueError",
     "evalue": "invalid literal for int() with base 10: ''",
     "output_type": "error",
     "traceback": [
      "\u001b[1;31m---------------------------------------------------------------------------\u001b[0m",
      "\u001b[1;31mValueError\u001b[0m                                Traceback (most recent call last)",
      "Cell \u001b[1;32mIn[21], line 5\u001b[0m\n\u001b[0;32m      2\u001b[0m \u001b[38;5;28;01mimport\u001b[39;00m \u001b[38;5;21;01msys\u001b[39;00m\n\u001b[0;32m      3\u001b[0m \u001b[38;5;66;03m# input = sys.stdin.readline\u001b[39;00m\n\u001b[1;32m----> 5\u001b[0m t \u001b[38;5;241m=\u001b[39m \u001b[38;5;28;43mint\u001b[39;49m\u001b[43m(\u001b[49m\u001b[38;5;28;43minput\u001b[39;49m\u001b[43m(\u001b[49m\u001b[43m)\u001b[49m\u001b[38;5;241;43m.\u001b[39;49m\u001b[43mstrip\u001b[49m\u001b[43m(\u001b[49m\u001b[43m)\u001b[49m\u001b[43m)\u001b[49m\n\u001b[0;32m      7\u001b[0m \u001b[38;5;28;01mfor\u001b[39;00m i \u001b[38;5;129;01min\u001b[39;00m \u001b[38;5;28mrange\u001b[39m(\u001b[38;5;241m1\u001b[39m, t \u001b[38;5;241m+\u001b[39m \u001b[38;5;241m1\u001b[39m):\n\u001b[0;32m      8\u001b[0m     h \u001b[38;5;241m=\u001b[39m \u001b[38;5;28mint\u001b[39m(\u001b[38;5;28minput\u001b[39m()\u001b[38;5;241m.\u001b[39mstrip())\n",
      "\u001b[1;31mValueError\u001b[0m: invalid literal for int() with base 10: ''"
     ]
    }
   ],
   "source": [
    "# 백준 10205번 - 헤라클레스와 히드라\n",
    "import sys\n",
    "# input = sys.stdin.readline\n",
    "\n",
    "t = int(input().strip())\n",
    "\n",
    "for i in range(1, t + 1):\n",
    "    h = int(input().strip())\n",
    "    heads = list(input().strip())\n",
    "    for head in heads:\n",
    "        if head == 'c':\n",
    "            h += 1\n",
    "        else:\n",
    "            h -= 1\n",
    "    print(f'Data Set {i}:')\n",
    "    print(h)\n",
    "    print()"
   ]
  },
  {
   "cell_type": "code",
   "execution_count": 22,
   "metadata": {},
   "outputs": [
    {
     "name": "stdout",
     "output_type": "stream",
     "text": [
      "Trip #1: 1.29 928.20\n",
      "Trip #2: 1179.86 1415.84\n"
     ]
    },
    {
     "ename": "ValueError",
     "evalue": "not enough values to unpack (expected 3, got 0)",
     "output_type": "error",
     "traceback": [
      "\u001b[1;31m---------------------------------------------------------------------------\u001b[0m",
      "\u001b[1;31mValueError\u001b[0m                                Traceback (most recent call last)",
      "Cell \u001b[1;32mIn[22], line 7\u001b[0m\n\u001b[0;32m      5\u001b[0m \u001b[38;5;28;01mwhile\u001b[39;00m \u001b[38;5;28;01mTrue\u001b[39;00m:\n\u001b[0;32m      6\u001b[0m     i \u001b[38;5;241m+\u001b[39m\u001b[38;5;241m=\u001b[39m \u001b[38;5;241m1\u001b[39m\n\u001b[1;32m----> 7\u001b[0m     d, r, t \u001b[38;5;241m=\u001b[39m \u001b[38;5;28mmap\u001b[39m(\u001b[38;5;28mfloat\u001b[39m, \u001b[38;5;28minput\u001b[39m()\u001b[38;5;241m.\u001b[39mstrip()\u001b[38;5;241m.\u001b[39msplit())\n\u001b[0;32m      8\u001b[0m     \u001b[38;5;28;01mif\u001b[39;00m r \u001b[38;5;241m==\u001b[39m \u001b[38;5;241m0\u001b[39m:\n\u001b[0;32m      9\u001b[0m         \u001b[38;5;28;01mbreak\u001b[39;00m\n",
      "\u001b[1;31mValueError\u001b[0m: not enough values to unpack (expected 3, got 0)"
     ]
    }
   ],
   "source": [
    "# 백준 2765번 - 자전거 속도\n",
    "import sys\n",
    "# input = sys.stdin.readline\n",
    "i = 0\n",
    "while True:\n",
    "    i += 1\n",
    "    d, r, t = map(float, input().strip().split())\n",
    "    if r == 0:\n",
    "        break\n",
    "    miles = (d * r * 3.1415927) / 63360\n",
    "    mph = miles * (3600 / t)\n",
    "    print(f'Trip #{i}: {miles:.2f} {mph:.2f}')"
   ]
  },
  {
   "cell_type": "code",
   "execution_count": null,
   "metadata": {},
   "outputs": [],
   "source": []
  }
 ],
 "metadata": {
  "kernelspec": {
   "display_name": "Python 3",
   "language": "python",
   "name": "python3"
  },
  "language_info": {
   "codemirror_mode": {
    "name": "ipython",
    "version": 3
   },
   "file_extension": ".py",
   "mimetype": "text/x-python",
   "name": "python",
   "nbconvert_exporter": "python",
   "pygments_lexer": "ipython3",
   "version": "3.11.6"
  }
 },
 "nbformat": 4,
 "nbformat_minor": 2
}
