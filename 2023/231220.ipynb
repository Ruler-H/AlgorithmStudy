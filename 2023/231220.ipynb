{
 "cells": [
  {
   "cell_type": "code",
   "execution_count": 2,
   "metadata": {},
   "outputs": [
    {
     "name": "stdout",
     "output_type": "stream",
     "text": [
      "unrated\n"
     ]
    }
   ],
   "source": [
    "# 백준 23303번 - 이 문제는 D2 입니다.\n",
    "import sys\n",
    "# input = sys.stdin.readline\n",
    "\n",
    "str_input = input()\n",
    "if 'd2' in str_input or 'D2' in str_input:\n",
    "    print('D2')\n",
    "else:\n",
    "    print('unrated')"
   ]
  },
  {
   "cell_type": "code",
   "execution_count": 5,
   "metadata": {},
   "outputs": [
    {
     "name": "stdout",
     "output_type": "stream",
     "text": [
      "1\n",
      "0\n",
      "1\n"
     ]
    }
   ],
   "source": [
    "# 백준 17210번 - 문문문\n",
    "import sys\n",
    "# input = sys.stdin.readline\n",
    "\n",
    "n = int(input())\n",
    "door = int(input())\n",
    "\n",
    "if n > 5:\n",
    "    print('Love is open door')\n",
    "else:\n",
    "    if door == 0:\n",
    "        for i in range(2, n+1):\n",
    "            if i % 2 == 0:\n",
    "                print(1)\n",
    "            else:\n",
    "                print(0)\n",
    "    else:\n",
    "        for i in range(2, n+1):\n",
    "            if i % 2 == 0:\n",
    "                print(0)\n",
    "            else:\n",
    "                print(1)\n"
   ]
  },
  {
   "cell_type": "code",
   "execution_count": 8,
   "metadata": {},
   "outputs": [
    {
     "name": "stdout",
     "output_type": "stream",
     "text": [
      "N\n"
     ]
    }
   ],
   "source": [
    "# 백준 17450번 - 과자 사기\n",
    "import sys\n",
    "# input = sys.stdin.readline\n",
    "\n",
    "snack_info = {}\n",
    "snack_info['S'] = list(map(int, input().split()))\n",
    "snack_info['N'] = list(map(int, input().split()))\n",
    "snack_info['U'] = list(map(int, input().split()))\n",
    "\n",
    "for key in snack_info:\n",
    "    if snack_info[key][0] >= 500:\n",
    "        snack_info[key][0] -= 50\n",
    "\n",
    "print(max(snack_info, key=lambda x: snack_info[x][1] / snack_info[x][0]))"
   ]
  },
  {
   "cell_type": "code",
   "execution_count": null,
   "metadata": {},
   "outputs": [],
   "source": [
    "# 백준 20944번 - 팰린드롬 척화비\n",
    "import sys\n",
    "# input = sys.stdin.readline\n",
    "\n",
    "n = int(input())\n",
    "print('a' * n)"
   ]
  },
  {
   "cell_type": "code",
   "execution_count": null,
   "metadata": {},
   "outputs": [],
   "source": [
    "# 백준 14579번 - 덧셈과 곱셈\n",
    "import sys\n",
    "# input = sys.stdin.readline\n",
    "\n",
    "a, b = map(int, input().split())\n",
    "\n",
    "result = 1\n",
    "for i in range(a, b+1):\n",
    "    result *= i * (i+1) // 2\n",
    "    result %= 14579\n",
    "\n",
    "print(result)"
   ]
  }
 ],
 "metadata": {
  "kernelspec": {
   "display_name": "Python 3",
   "language": "python",
   "name": "python3"
  },
  "language_info": {
   "codemirror_mode": {
    "name": "ipython",
    "version": 3
   },
   "file_extension": ".py",
   "mimetype": "text/x-python",
   "name": "python",
   "nbconvert_exporter": "python",
   "pygments_lexer": "ipython3",
   "version": "3.11.6"
  }
 },
 "nbformat": 4,
 "nbformat_minor": 2
}
