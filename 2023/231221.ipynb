{
 "cells": [
  {
   "cell_type": "code",
   "execution_count": 2,
   "metadata": {},
   "outputs": [
    {
     "name": "stdout",
     "output_type": "stream",
     "text": [
      "unrated\n"
     ]
    }
   ],
   "source": [
    "# 백준 15784번 - 질투진서\n",
    "import sys\n",
    "# input = sys.stdin.readline\n",
    "\n",
    "n, a, b = map(int, input().split())\n",
    "\n",
    "matrix = [list(map(int, input().split())) for _ in range(n)]\n",
    "\n",
    "for i in range(n):\n",
    "    if matrix[a-1][i] > matrix[a-1][b-1]:\n",
    "        print(\"ANGRY\")\n",
    "        sys.exit()\n",
    "    if matrix[i][b-1] > matrix[a-1][b-1]:\n",
    "        print(\"ANGRY\")\n",
    "        sys.exit()\n",
    "print(\"HAPPY\")"
   ]
  },
  {
   "cell_type": "code",
   "execution_count": 2,
   "metadata": {},
   "outputs": [],
   "source": [
    "# 백준 21312번 - 홀짝 칵테일\n",
    "import sys\n",
    "# input = sys.stdin.readline\n",
    "\n",
    "a, b, c = map(int, input().split())\n",
    "\n",
    "if a % 2 == 0 and b % 2 == 0 and c % 2 == 0:\n",
    "    print(a * b * c)\n",
    "elif a % 2 == 0 and b % 2 == 0:\n",
    "    print(c)\n",
    "elif a % 2 == 0 and c % 2 == 0:\n",
    "    print(b)\n",
    "elif b % 2 == 0 and c % 2 == 0:\n",
    "    print(a)\n",
    "elif a % 2 == 0:\n",
    "    print(b * c)\n",
    "elif b % 2 == 0:\n",
    "    print(a * c)\n",
    "elif c % 2 == 0:\n",
    "    print(a * b)\n",
    "else:\n",
    "    print(a * b * c)"
   ]
  },
  {
   "cell_type": "code",
   "execution_count": null,
   "metadata": {},
   "outputs": [],
   "source": [
    "# 백준 11320번 - 삼각 무늬 - 1\n",
    "import sys\n",
    "# input = sys.stdin.readline\n",
    "\n",
    "t = int(input())\n",
    "\n",
    "for _ in range(t):\n",
    "    a, b = map(int, input().split())\n",
    "    print((a // b) ** 2)"
   ]
  },
  {
   "cell_type": "code",
   "execution_count": null,
   "metadata": {},
   "outputs": [],
   "source": [
    "# 백준 9469번 - 폰 노이만\n",
    "import sys\n",
    "# input = sys.stdin.readline\n",
    "\n",
    "p = int(input())\n",
    "\n",
    "for _ in range(p):\n",
    "    n, d, a, b, f = map(float, input().split())\n",
    "    print(f\"{n} {(d / (a + b)) * f}\")"
   ]
  }
 ],
 "metadata": {
  "kernelspec": {
   "display_name": "Python 3",
   "language": "python",
   "name": "python3"
  },
  "language_info": {
   "codemirror_mode": {
    "name": "ipython",
    "version": 3
   },
   "file_extension": ".py",
   "mimetype": "text/x-python",
   "name": "python",
   "nbconvert_exporter": "python",
   "pygments_lexer": "ipython3",
   "version": "3.11.6"
  }
 },
 "nbformat": 4,
 "nbformat_minor": 2
}
