{
 "cells": [
  {
   "cell_type": "code",
   "execution_count": 2,
   "metadata": {},
   "outputs": [
    {
     "name": "stdout",
     "output_type": "stream",
     "text": [
      "unrated\n"
     ]
    }
   ],
   "source": [
    "# 백준 23348번 - 스트릿 코딩 파이터\n",
    "import sys\n",
    "# input = sys.stdin.readline\n",
    "\n",
    "a, b, c = map(int, input().split())\n",
    "\n",
    "n = int(input())\n",
    "result = 0\n",
    "for _ in range(n):\n",
    "    score = 0\n",
    "    for _ in range(3):\n",
    "        a_i, b_i, c_i = map(int, input().split())\n",
    "        score += (a_i * a + b_i * b + c_i * c)\n",
    "    result = max(result, score)\n",
    "print(result)"
   ]
  },
  {
   "cell_type": "code",
   "execution_count": 9,
   "metadata": {},
   "outputs": [
    {
     "name": "stdout",
     "output_type": "stream",
     "text": [
      "-1\n"
     ]
    }
   ],
   "source": [
    "# 백준 17945번 - 통학의 신\n",
    "import sys\n",
    "# input = sys.stdin.readline\n",
    "\n",
    "a, b = map(int, input().split())\n",
    "result = []\n",
    "for i in range(-1000, 1001):\n",
    "    if i ** 2 + 2 * a * i + b == 0:\n",
    "        result.append(i)\n",
    "        if i == 0 or i == (b // i):\n",
    "            break\n",
    "        result.append(b // i)\n",
    "        break\n",
    "print(*result)"
   ]
  },
  {
   "cell_type": "code",
   "execution_count": 23,
   "metadata": {},
   "outputs": [
    {
     "name": "stdout",
     "output_type": "stream",
     "text": [
      "2023-08-08\n"
     ]
    }
   ],
   "source": [
    "# 백준 29722번 - 브실혜성\n",
    "import sys\n",
    "# input = sys.stdin.readline\n",
    "\n",
    "year, month, day = map(int, input().split('-'))\n",
    "n = int(input())\n",
    "\n",
    "day += n\n",
    "if day > 30:\n",
    "    day -= 1\n",
    "    month += day // 30\n",
    "    day %= 30\n",
    "    day += 1\n",
    "if month > 12:\n",
    "    month -= 1\n",
    "    year += month // 12\n",
    "    month %= 12\n",
    "    month += 1\n",
    "\n",
    "print(f'{year}-{month:02d}-{day:02d}')\n"
   ]
  },
  {
   "cell_type": "code",
   "execution_count": null,
   "metadata": {},
   "outputs": [],
   "source": [
    "2023-07-08\n",
    "30"
   ]
  }
 ],
 "metadata": {
  "kernelspec": {
   "display_name": "Python 3",
   "language": "python",
   "name": "python3"
  },
  "language_info": {
   "codemirror_mode": {
    "name": "ipython",
    "version": 3
   },
   "file_extension": ".py",
   "mimetype": "text/x-python",
   "name": "python",
   "nbconvert_exporter": "python",
   "pygments_lexer": "ipython3",
   "version": "3.11.6"
  }
 },
 "nbformat": 4,
 "nbformat_minor": 2
}
