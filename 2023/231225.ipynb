{
 "cells": [
  {
   "cell_type": "code",
   "execution_count": 7,
   "metadata": {},
   "outputs": [
    {
     "name": "stdout",
     "output_type": "stream",
     "text": [
      "70\n"
     ]
    }
   ],
   "source": [
    "# 백준 27960번 - 사격 내기\n",
    "import sys\n",
    "# input = sys.stdin.readline\n",
    "\n",
    "a, b = map(int, input().split())\n",
    "\n",
    "score = [1, 2, 4, 8, 16, 32, 64, 128, 256, 512]\n",
    "score.reverse()\n",
    "\n",
    "a_score = []\n",
    "for i in score:\n",
    "    if a >= i:\n",
    "        a_score.append(i)\n",
    "        a -= i\n",
    "    if a == 0:\n",
    "        break\n",
    "\n",
    "b_score = []\n",
    "for i in score:\n",
    "    if b >= i:\n",
    "        b_score.append(i)\n",
    "        b -= i\n",
    "    if b == 0:\n",
    "        break\n",
    "\n",
    "r_score = []\n",
    "for i in a_score:\n",
    "    if i in b_score:\n",
    "        r_score.append(i)\n",
    "\n",
    "print(sum(a_score) + sum(b_score) - (sum(r_score) * 2))"
   ]
  },
  {
   "cell_type": "code",
   "execution_count": 8,
   "metadata": {},
   "outputs": [
    {
     "name": "stdout",
     "output_type": "stream",
     "text": [
      "@\n",
      "@\n",
      "@\n",
      "@\n",
      "@@@@@\n"
     ]
    }
   ],
   "source": [
    "# 백준 23803번 - 골뱅이 찍기 - ㄴ\n",
    "import sys\n",
    "# input = sys.stdin.readline\n",
    "\n",
    "n = int(input())\n",
    "\n",
    "for _ in range(n * 4):\n",
    "    print('@' * n)\n",
    "\n",
    "for _ in range(n):\n",
    "    print('@' * n * 5)"
   ]
  },
  {
   "cell_type": "code",
   "execution_count": null,
   "metadata": {},
   "outputs": [],
   "source": [
    "# 백준 11109번 - 괴짜 교수\n",
    "import sys\n",
    "# input = sys.stdin.readline\n",
    "\n",
    "t = int(input())\n",
    "\n",
    "for _ in range(t):\n",
    "    d, n, s, p = map(int, input().split())\n",
    "    parallel = n * p + d\n",
    "    serial = n * s\n",
    "    if parallel > serial:\n",
    "        print('do not parallelize')\n",
    "    elif parallel < serial:\n",
    "        print('parallelize')\n",
    "    else:\n",
    "        print('does not matter')"
   ]
  },
  {
   "cell_type": "code",
   "execution_count": 13,
   "metadata": {},
   "outputs": [
    {
     "name": "stdout",
     "output_type": "stream",
     "text": [
      "1\n"
     ]
    }
   ],
   "source": [
    "# 백준 26645번 - 성장의 비약 선택권\n",
    "import sys\n",
    "# input = sys.stdin.readline\n",
    "\n",
    "n = int(input())\n",
    "\n",
    "level = []\n",
    "\n",
    "imsi = n\n",
    "for _ in range(8):\n",
    "    if imsi <= 209:\n",
    "        imsi += 1\n",
    "    else:\n",
    "        break\n",
    "level.append(imsi)\n",
    "\n",
    "imsi = n\n",
    "for _ in range(4):\n",
    "    if imsi <= 219:\n",
    "        imsi += 1\n",
    "    else:\n",
    "        break\n",
    "level.append(imsi)\n",
    "\n",
    "imsi = n\n",
    "for _ in range(2):\n",
    "    if imsi <= 229:\n",
    "        imsi += 1\n",
    "    else:\n",
    "        break\n",
    "level.append(imsi)\n",
    "\n",
    "level.append(n + 1)\n",
    "\n",
    "rs = 0\n",
    "rs_level = 0\n",
    "for k, v in enumerate(level):\n",
    "    if rs_level <= v:\n",
    "        rs_level = v\n",
    "        rs = k + 1\n",
    "print(rs)"
   ]
  }
 ],
 "metadata": {
  "kernelspec": {
   "display_name": "Python 3",
   "language": "python",
   "name": "python3"
  },
  "language_info": {
   "codemirror_mode": {
    "name": "ipython",
    "version": 3
   },
   "file_extension": ".py",
   "mimetype": "text/x-python",
   "name": "python",
   "nbconvert_exporter": "python",
   "pygments_lexer": "ipython3",
   "version": "3.11.6"
  }
 },
 "nbformat": 4,
 "nbformat_minor": 2
}
