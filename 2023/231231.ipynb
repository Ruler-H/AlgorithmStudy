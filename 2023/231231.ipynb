{
 "cells": [
  {
   "cell_type": "code",
   "execution_count": 2,
   "metadata": {},
   "outputs": [
    {
     "name": "stdout",
     "output_type": "stream",
     "text": [
      "2901\n",
      "3419\n",
      "3772\n"
     ]
    }
   ],
   "source": [
    "# 백준 8932번 - 7종 경기\n",
    "import sys\n",
    "# input = sys.stdin.readline\n",
    "\n",
    "t = int(input())\n",
    "\n",
    "for _ in range(t):\n",
    "    a, b, c, d, e, f, g = map(int, input().split())\n",
    "    score = int(9.23076 * (26.7 - a)**1.835)\n",
    "    score += int(1.84523 * (b - 75)**1.348)\n",
    "    score += int(56.0211 * (c - 1.5)**1.05)\n",
    "    score += int(4.99087 * (42.5 - d)**1.81)\n",
    "    score += int(0.188807 * (e - 210)**1.41)\n",
    "    score += int(15.9803 * (f - 3.8)**1.04)\n",
    "    score += int(0.11193 * (254 - g)**1.88)\n",
    "    print(score)"
   ]
  },
  {
   "cell_type": "code",
   "execution_count": null,
   "metadata": {},
   "outputs": [],
   "source": [
    "3\n",
    "19 90 11 29 264 20 131\n",
    "12 95 21 37 224 35 221\n",
    "17 168 15 23 275 22 241"
   ]
  }
 ],
 "metadata": {
  "kernelspec": {
   "display_name": "Python 3",
   "language": "python",
   "name": "python3"
  },
  "language_info": {
   "codemirror_mode": {
    "name": "ipython",
    "version": 3
   },
   "file_extension": ".py",
   "mimetype": "text/x-python",
   "name": "python",
   "nbconvert_exporter": "python",
   "pygments_lexer": "ipython3",
   "version": "3.10.11"
  }
 },
 "nbformat": 4,
 "nbformat_minor": 2
}
