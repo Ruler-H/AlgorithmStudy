{
 "cells": [
  {
   "cell_type": "code",
   "execution_count": 2,
   "metadata": {},
   "outputs": [
    {
     "name": "stdout",
     "output_type": "stream",
     "text": [
      "2901\n",
      "3419\n",
      "3772\n"
     ]
    }
   ],
   "source": [
    "# 백준 24724번 - 현대모비스와 함께하는 부품 관리\n",
    "import sys\n",
    "# input = sys.stdin.readline\n",
    "\n",
    "t = int(input())\n",
    "\n",
    "for i in range(1, t + 1):\n",
    "    n = int(input())\n",
    "    a, b = map(int, input().strip().split())\n",
    "    for _ in range(n):\n",
    "        input()\n",
    "    print(f'Material Management {i}')\n",
    "    print('Classification ---- End!')"
   ]
  },
  {
   "cell_type": "code",
   "execution_count": 1,
   "metadata": {},
   "outputs": [
    {
     "name": "stdout",
     "output_type": "stream",
     "text": [
      "9\n"
     ]
    }
   ],
   "source": [
    "# 백준 15818번 - 오버플로우와 모듈러\n",
    "import sys\n",
    "# input = sys.stdin.readline\n",
    "\n",
    "n, m = map(int, input().strip().split())\n",
    "result = 1\n",
    "n_list = list(map(int, input().strip().split()))\n",
    "for i in n_list:\n",
    "    result *= i\n",
    "result %= m\n",
    "print(result)"
   ]
  },
  {
   "cell_type": "code",
   "execution_count": 3,
   "metadata": {},
   "outputs": [
    {
     "name": "stdout",
     "output_type": "stream",
     "text": [
      "19.999999999999996\n",
      "35.999999999999986\n",
      "48.79999999999999\n",
      "59.03999999999998\n",
      "67.23199999999999\n"
     ]
    }
   ],
   "source": [
    "# 백준 25756번 - 방어율 무시 계산하기\n",
    "import sys\n",
    "# input = sys.stdin.readline\n",
    "\n",
    "n = int(input())\n",
    "n_list = list(map(int, input().strip().split()))\n",
    "\n",
    "v = 0\n",
    "for i in n_list:\n",
    "    v = 1 - (1 - v) * (1 - (i / 100))\n",
    "    print(v * 100)"
   ]
  },
  {
   "cell_type": "code",
   "execution_count": 4,
   "metadata": {},
   "outputs": [
    {
     "name": "stdout",
     "output_type": "stream",
     "text": [
      "2\n"
     ]
    }
   ],
   "source": [
    "# 백준 25904번 - 안녕 클레오파트라 세상에서 제일가는 포테이토칩\n",
    "import sys\n",
    "# input = sys.stdin.readline\n",
    "\n",
    "n, x = map(int, input().strip().split())\n",
    "t_list = list(map(int, input().strip().split()))\n",
    "i = 0\n",
    "while True:\n",
    "    if t_list[i % n] >= x:\n",
    "        x += 1\n",
    "        i += 1\n",
    "    else:\n",
    "        print((i % n) + 1)\n",
    "        break\n"
   ]
  },
  {
   "cell_type": "code",
   "execution_count": 8,
   "metadata": {},
   "outputs": [
    {
     "name": "stdout",
     "output_type": "stream",
     "text": [
      "160 280 100 60 100\n"
     ]
    }
   ],
   "source": [
    "# 백준 26145번 - 출제비 재분배\n",
    "import sys\n",
    "# input = sys.stdin.readline\n",
    "\n",
    "n, m = map(int, input().strip().split())\n",
    "s_list = list(map(int, input().strip().split()))\n",
    "for _ in range(m):\n",
    "    s_list += [0]\n",
    "for i in range(n):\n",
    "    t_list = list(map(int, input().strip().split()))\n",
    "    for k, t in enumerate(t_list):\n",
    "        s_list[k] += t\n",
    "        s_list[i] -= t\n",
    "print(' '.join(map(str, s_list)))"
   ]
  },
  {
   "cell_type": "code",
   "execution_count": 9,
   "metadata": {},
   "outputs": [
    {
     "name": "stdout",
     "output_type": "stream",
     "text": [
      "10010101\n",
      "101010100\n",
      "00001\n",
      "\n",
      "\n"
     ]
    }
   ],
   "source": [
    "# 백준 30454번 - 얼룩말을 찾아라!\n",
    "import sys\n",
    "# input = sys.stdin.readline\n",
    "import re\n",
    "\n",
    "n, l = map(int, input().strip().split())\n",
    "z_list = []\n",
    "for _ in range(n):\n",
    "    t = input().strip()\n",
    "    t = re.sub(r'1+', '1', t)\n",
    "    z_list.append(t.count('1'))\n",
    "\n",
    "max_l = max(z_list)\n",
    "print(f'{max_l} {z_list.count(max_l)}')"
   ]
  },
  {
   "cell_type": "code",
   "execution_count": 16,
   "metadata": {},
   "outputs": [
    {
     "name": "stdout",
     "output_type": "stream",
     "text": [
      "15\n"
     ]
    }
   ],
   "source": [
    "# 백준 28417번 - 스케이트보드\n",
    "import sys\n",
    "# input = sys.stdin.readline\n",
    "\n",
    "n = int(input())\n",
    "result = 0\n",
    "for _ in range(n):\n",
    "    t = list(map(int, input().strip().split()))\n",
    "    run_score = max(t[:2])\n",
    "    trick_score = sum(sorted(t[2:], reverse=True)[:2])\n",
    "    result = max(result, run_score + trick_score)\n",
    "print(result)"
   ]
  },
  {
   "cell_type": "code",
   "execution_count": null,
   "metadata": {},
   "outputs": [],
   "source": [
    "# 백준 28214번 - 크림빵\n",
    "import sys\n",
    "# input = sys.stdin.readline\n",
    "\n",
    "n, k, p = map(int, input().strip().split())\n",
    "b_list = list(map(int, input().strip().split()))\n",
    "result = 0\n",
    "for i in range(0, n * k, k):\n",
    "    if b_list[i:i + k].count(0) < p:\n",
    "        result += 1\n",
    "print(result)"
   ]
  },
  {
   "cell_type": "code",
   "execution_count": null,
   "metadata": {},
   "outputs": [],
   "source": [
    "# 백준 23808번 - 골뱅이 찍기 - ㅂ\n",
    "import sys\n",
    "# input = sys.stdin.readline\n",
    "\n",
    "n = int(input())\n",
    "for _ in range(n * 2):\n",
    "    print(('@' * n) + (' ' * n * 3) + ('@' * n))\n",
    "\n",
    "for _ in range(n):\n",
    "    print('@' * n * 5)\n",
    "\n",
    "for _ in range(n):\n",
    "    print(('@' * n) + (' ' * n * 3) + ('@' * n))\n",
    "\n",
    "for _ in range(n):\n",
    "    print('@' * n * 5)"
   ]
  },
  {
   "cell_type": "code",
   "execution_count": 17,
   "metadata": {},
   "outputs": [
    {
     "name": "stdout",
     "output_type": "stream",
     "text": [
      "0\n"
     ]
    }
   ],
   "source": [
    "# 백준 29752번 - 최장 스트릭\n",
    "import sys\n",
    "# input = sys.stdin.readline\n",
    "\n",
    "n = int(input())\n",
    "s = input().strip().split()\n",
    "result = 0\n",
    "count = 0\n",
    "for i in s:\n",
    "    if i == '0':\n",
    "        result = max(result, count)\n",
    "        count = 0\n",
    "    else:\n",
    "        count += 1\n",
    "result = max(result, count)\n",
    "print(result)"
   ]
  },
  {
   "cell_type": "code",
   "execution_count": 31,
   "metadata": {},
   "outputs": [
    {
     "ename": "SyntaxError",
     "evalue": "invalid syntax (2584097276.py, line 2)",
     "output_type": "error",
     "traceback": [
      "\u001b[1;36m  Cell \u001b[1;32mIn[31], line 2\u001b[1;36m\u001b[0m\n\u001b[1;33m    1 4 0 1\u001b[0m\n\u001b[1;37m      ^\u001b[0m\n\u001b[1;31mSyntaxError\u001b[0m\u001b[1;31m:\u001b[0m invalid syntax\n"
     ]
    }
   ],
   "source": [
    "# 백준 23811번 - 골뱅이 찍기 - ㅌ\n",
    "import sys\n",
    "# input = sys.stdin.readline\n",
    "\n",
    "n = int(input())\n",
    "\n",
    "for _ in range(n):\n",
    "    print('@' * n * 5)\n",
    "\n",
    "for _ in range(n):\n",
    "    print('@' * n)\n",
    "    \n",
    "for _ in range(n):\n",
    "    print('@' * n * 5)\n",
    "\n",
    "for _ in range(n):\n",
    "    print('@' * n)\n",
    "\n",
    "for _ in range(n):\n",
    "    print('@' * n * 5)"
   ]
  },
  {
   "cell_type": "code",
   "execution_count": null,
   "metadata": {},
   "outputs": [],
   "source": [
    "# 백준 23812번 - 골뱅이 찍기 - 돌아간 ㅍ\n",
    "import sys\n",
    "# input = sys.stdin.readline"
   ]
  },
  {
   "cell_type": "code",
   "execution_count": null,
   "metadata": {},
   "outputs": [],
   "source": []
  }
 ],
 "metadata": {
  "kernelspec": {
   "display_name": "Python 3",
   "language": "python",
   "name": "python3"
  },
  "language_info": {
   "codemirror_mode": {
    "name": "ipython",
    "version": 3
   },
   "file_extension": ".py",
   "mimetype": "text/x-python",
   "name": "python",
   "nbconvert_exporter": "python",
   "pygments_lexer": "ipython3",
   "version": "3.10.11"
  }
 },
 "nbformat": 4,
 "nbformat_minor": 2
}
