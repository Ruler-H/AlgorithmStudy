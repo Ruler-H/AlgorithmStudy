{
 "cells": [
  {
   "cell_type": "code",
   "execution_count": 4,
   "metadata": {},
   "outputs": [
    {
     "name": "stdout",
     "output_type": "stream",
     "text": [
      "5\n",
      "1 2 3 4 5 997\n"
     ]
    }
   ],
   "source": [
    "# 백준 18856번 - 피드백\n",
    "import sys\n",
    "# input = sys.stdin.readline\n",
    "\n",
    "n = int(input())\n",
    "\n",
    "n_list = [1, 2]\n",
    "for i in range(2, n - 1):\n",
    "    n_list.append(n_list[i-1] + 1)\n",
    "n_list.append(997)\n",
    "print(n)\n",
    "print(*n_list)"
   ]
  },
  {
   "cell_type": "code",
   "execution_count": null,
   "metadata": {},
   "outputs": [],
   "source": [
    "# 백준 28289번 - 과 조사하기\n",
    "import sys\n",
    "# input = sys.stdin.readline\n",
    "\n",
    "p = int(input())\n",
    "\n",
    "soft = 0\n",
    "embed = 0\n",
    "ai = 0\n",
    "no = 0\n",
    "\n",
    "for _ in range(p):\n",
    "    g, c, n = map(int, input().split())\n",
    "    if g == 1:\n",
    "        no += 1\n",
    "    else:\n",
    "        if c == 1 or c == 2:\n",
    "            soft += 1\n",
    "        elif c == 3:\n",
    "            embed += 1\n",
    "        else:\n",
    "            ai += 1\n",
    "print(soft)\n",
    "print(embed)\n",
    "print(ai)\n",
    "print(no)"
   ]
  },
  {
   "cell_type": "code",
   "execution_count": 11,
   "metadata": {},
   "outputs": [
    {
     "name": "stdout",
     "output_type": "stream",
     "text": [
      "2\n",
      "4\n",
      "1\n",
      "2\n",
      "3\n",
      "4\n",
      "5\n",
      "6\n",
      "7\n",
      "8\n",
      "9\n",
      "0\n",
      "1\n",
      "2\n",
      "3\n",
      "4\n",
      "5\n",
      "6\n",
      "12\n",
      "1 3 5 6 7 8 9 10 11 13 15 16\n"
     ]
    }
   ],
   "source": [
    "# 백준 21603번 - K 2K 게임\n",
    "import sys\n",
    "# input = sys.stdin.readline\n",
    "\n",
    "n, k = map(str, input().split())\n",
    "k = k[-1]\n",
    "k2 = str(int(k) * 2)[-1]\n",
    "arr = []\n",
    "for i in range(1, int(n) + 1):\n",
    "    if str(i)[-1] != k and str(i)[-1] != k2:\n",
    "        arr.append(i)\n",
    "\n",
    "print(len(arr))\n",
    "print(*arr)"
   ]
  },
  {
   "cell_type": "code",
   "execution_count": 17,
   "metadata": {},
   "outputs": [
    {
     "name": "stdout",
     "output_type": "stream",
     "text": [
      "22346789\n"
     ]
    }
   ],
   "source": [
    "# 백준 21553번 - 암호 만들기\n",
    "import sys\n",
    "# input = sys.stdin.readline\n",
    "\n",
    "a = input()\n",
    "p = input()\n",
    "\n",
    "print(p)"
   ]
  },
  {
   "cell_type": "code",
   "execution_count": null,
   "metadata": {},
   "outputs": [],
   "source": [
    "12345678\n",
    "234"
   ]
  }
 ],
 "metadata": {
  "kernelspec": {
   "display_name": "Python 3",
   "language": "python",
   "name": "python3"
  },
  "language_info": {
   "codemirror_mode": {
    "name": "ipython",
    "version": 3
   },
   "file_extension": ".py",
   "mimetype": "text/x-python",
   "name": "python",
   "nbconvert_exporter": "python",
   "pygments_lexer": "ipython3",
   "version": "3.10.11"
  }
 },
 "nbformat": 4,
 "nbformat_minor": 2
}
