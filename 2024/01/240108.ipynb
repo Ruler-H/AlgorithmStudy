{
 "cells": [
  {
   "cell_type": "code",
   "execution_count": 15,
   "metadata": {},
   "outputs": [
    {
     "name": "stdout",
     "output_type": "stream",
     "text": [
      "0.866\n",
      "0.980\n"
     ]
    },
    {
     "ename": "",
     "evalue": "",
     "output_type": "error",
     "traceback": [
      "\u001b[1;31m현재 셀 또는 이전 셀에서 코드를 실행하는 동안 Kernel이 충돌했습니다. 셀의 코드를 검토하여 오류의 가능한 원인을 식별하세요. 자세한 내용을 보려면 <a href='https://aka.ms/vscodeJupyterKernelCrash'> 여기 </a> 를 클릭하세요. 자세한 내용은 Jupyter <a href='command:jupyter.viewOutput'>로그</a>를 참조하세요."
     ]
    }
   ],
   "source": [
    "# 백준 4706번 - 쌍둥이 역설\n",
    "import sys\n",
    "# input = sys.stdin.readline\n",
    "c = 0.99999971460312\n",
    "while True:\n",
    "    a, b = map(float, input().split())\n",
    "    if a == 0 and b == 0:\n",
    "        break\n",
    "    v = c * ((1 - ((b / a) ** 2)) ** 0.5)\n",
    "    print(f'{v:.3f}')\n",
    "# 채점 대기 중"
   ]
  },
  {
   "cell_type": "code",
   "execution_count": 2,
   "metadata": {},
   "outputs": [
    {
     "name": "stdout",
     "output_type": "stream",
     "text": [
      "* \n",
      " *\n",
      "* \n",
      " *\n"
     ]
    }
   ],
   "source": [
    "# 백준 10996번 - 별 찍기 - 21\n",
    "import sys\n",
    "# input = sys.stdin.readline\n",
    "\n",
    "n = int(input())\n",
    "\n",
    "for i in range(n):\n",
    "    print('* ' * ((n + 1) // 2))\n",
    "    print(' *' * (n // 2))"
   ]
  },
  {
   "cell_type": "code",
   "execution_count": null,
   "metadata": {},
   "outputs": [],
   "source": [
    "# 백준 1225번 - 이상한 곱셈\n",
    "import sys\n",
    "# input = sys.stdin.readline\n",
    "\n",
    "a, b = input().split()\n",
    "a = list(map(int, a))\n",
    "b = list(map(int, b))\n",
    "\n",
    "print(sum(a) * sum(b))"
   ]
  },
  {
   "cell_type": "code",
   "execution_count": null,
   "metadata": {},
   "outputs": [],
   "source": [
    "# 백준 13300번 - 방 배정\n",
    "import sys\n",
    "# input = sys.stdin.readline\n",
    "\n",
    "n, k = map(int, input().split())\n",
    "\n",
    "student_dic = {}\n",
    "\n",
    "for _ in range(n):\n",
    "    info = input().replace(' ', '')\n",
    "    if info in student_dic:\n",
    "        student_dic[info] += 1\n",
    "    else:\n",
    "        student_dic[info] = 1\n",
    "\n",
    "room = 0\n",
    "for i in student_dic.values():\n",
    "    if i % k == 0:\n",
    "        room += i // k\n",
    "    else:\n",
    "        room += i // k + 1\n",
    "\n",
    "print(room)\n"
   ]
  },
  {
   "cell_type": "code",
   "execution_count": null,
   "metadata": {},
   "outputs": [],
   "source": [
    "# 백준 3040번 - 백설 공주와 일곱 난쟁이\n",
    "import sys\n",
    "# input = sys.stdin.readline\n",
    "\n",
    "hat = []\n",
    "for _ in range(9):\n",
    "    hat.append(int(input()))\n",
    "\n",
    "oth = sum(hat) - 100\n",
    "\n",
    "for i in range(9):\n",
    "    for j in range(i + 1, 9):\n",
    "        if hat[i] + hat[j] == oth:\n",
    "            hat.pop(j)\n",
    "            hat.pop(i)\n",
    "            break\n",
    "    if len(hat) == 7:\n",
    "        break\n",
    "\n",
    "for i in hat:\n",
    "    print(i)"
   ]
  },
  {
   "cell_type": "code",
   "execution_count": null,
   "metadata": {},
   "outputs": [],
   "source": [
    "# 백준 2902번 - KMP는 왜 KMP일까?\n",
    "import sys\n",
    "# input = sys.stdin.readline\n",
    "\n",
    "inp_str = input().split('-')\n",
    "for i in inp_str:\n",
    "    print(i[0], end='')"
   ]
  },
  {
   "cell_type": "code",
   "execution_count": 4,
   "metadata": {},
   "outputs": [
    {
     "name": "stdout",
     "output_type": "stream",
     "text": [
      "80\n"
     ]
    }
   ],
   "source": [
    "# 백준 7567번 - 그릇\n",
    "import sys\n",
    "# input = sys.stdin.readline\n",
    "\n",
    "inp_str = input()\n",
    "h = 10\n",
    "for i in range(1, len(inp_str)):\n",
    "    if inp_str[i] == inp_str[i - 1]:\n",
    "        h += 5\n",
    "    else:\n",
    "        h += 10\n",
    "print(h)"
   ]
  },
  {
   "cell_type": "code",
   "execution_count": null,
   "metadata": {},
   "outputs": [],
   "source": [
    "# 백준 16916번 - 부분 문자열\n",
    "import sys\n",
    "# input = sys.stdin.readline\n",
    "\n",
    "s = input().strip()\n",
    "p = input().strip()\n",
    "if p in s:\n",
    "    print(1)\n",
    "else:\n",
    "    print(0)"
   ]
  },
  {
   "cell_type": "code",
   "execution_count": null,
   "metadata": {},
   "outputs": [],
   "source": [
    "# 백준 5355번 - 화성 수학\n",
    "import sys\n",
    "# input = sys.stdin.readline\n",
    "\n",
    "t = int(input().strip())\n",
    "\n",
    "for _ in range(t):\n",
    "    inp_list = list(map(str, input().strip().split()))\n",
    "    num = float(inp_list[0])\n",
    "    for i in range(1, len(inp_list)):\n",
    "        if inp_list[i] == '@':\n",
    "            num *= 3\n",
    "        elif inp_list[i] == '%':\n",
    "            num += 5\n",
    "        elif inp_list[i] == '#':\n",
    "            num -= 7\n",
    "    print(f'{num:.2f}')"
   ]
  },
  {
   "cell_type": "code",
   "execution_count": 5,
   "metadata": {},
   "outputs": [
    {
     "name": "stdout",
     "output_type": "stream",
     "text": [
      "84\n",
      "3\n"
     ]
    }
   ],
   "source": [
    "# 백준 24267번 - 알고리즘 수업 - 알고리즘의 수행 시간 6\n",
    "import sys\n",
    "# input = sys.stdin.readline\n",
    "\n",
    "n = int(input().strip())\n",
    "\n",
    "print(n * (n - 2))\n",
    "print(3)"
   ]
  },
  {
   "cell_type": "code",
   "execution_count": null,
   "metadata": {},
   "outputs": [],
   "source": []
  }
 ],
 "metadata": {
  "kernelspec": {
   "display_name": "Python 3",
   "language": "python",
   "name": "python3"
  },
  "language_info": {
   "codemirror_mode": {
    "name": "ipython",
    "version": 3
   },
   "file_extension": ".py",
   "mimetype": "text/x-python",
   "name": "python",
   "nbconvert_exporter": "python",
   "pygments_lexer": "ipython3",
   "version": "3.11.1"
  }
 },
 "nbformat": 4,
 "nbformat_minor": 2
}
