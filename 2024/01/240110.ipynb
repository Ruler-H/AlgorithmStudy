{
 "cells": [
  {
   "cell_type": "code",
   "execution_count": 15,
   "metadata": {},
   "outputs": [
    {
     "name": "stdout",
     "output_type": "stream",
     "text": [
      "0.866\n",
      "0.980\n"
     ]
    },
    {
     "ename": "",
     "evalue": "",
     "output_type": "error",
     "traceback": [
      "\u001b[1;31m현재 셀 또는 이전 셀에서 코드를 실행하는 동안 Kernel이 충돌했습니다. 셀의 코드를 검토하여 오류의 가능한 원인을 식별하세요. 자세한 내용을 보려면 <a href='https://aka.ms/vscodeJupyterKernelCrash'> 여기 </a> 를 클릭하세요. 자세한 내용은 Jupyter <a href='command:jupyter.viewOutput'>로그</a>를 참조하세요."
     ]
    }
   ],
   "source": [
    "# 백준 4706번 - 쌍둥이 역설\n",
    "import sys\n",
    "# input = sys.stdin.readline\n",
    "c = 0.99999971460312\n",
    "while True:\n",
    "    a, b = map(float, input().split())\n",
    "    if a == 0 and b == 0:\n",
    "        break\n",
    "    v = c * ((1 - ((b / a) ** 2)) ** 0.5)\n",
    "    print(f'{v:.3f}')\n",
    "# 채점 대기 중"
   ]
  },
  {
   "cell_type": "code",
   "execution_count": 13,
   "metadata": {},
   "outputs": [
    {
     "name": "stdout",
     "output_type": "stream",
     "text": [
      "a"
     ]
    }
   ],
   "source": [
    "# 백준 1408번 - 24\n",
    "import sys\n",
    "# input = sys.stdin.readline\n",
    "\n",
    "now = list(map(int, input().split(':')))\n",
    "start = list(map(int, input().split(':')))\n",
    "now_sec = now[0] * 3600 + now[1] * 60 + now[2]\n",
    "start_sec = start[0] * 3600 + start[1] * 60 + start[2]\n",
    "if now_sec >= start_sec:\n",
    "    start_sec += 24 * 3600\n",
    "result = start_sec - now_sec\n",
    "result_h = result // 3600\n",
    "result %= 3600\n",
    "result_m = result // 60\n",
    "result %= 60\n",
    "result_s = result\n",
    "print(f'{result_h:02d}:{result_m:02d}:{result_s:02d}')"
   ]
  },
  {
   "cell_type": "code",
   "execution_count": null,
   "metadata": {},
   "outputs": [],
   "source": [
    "# 백준 1252번 - 이진수 덧셈\n",
    "import sys\n",
    "# input = sys.stdin.readline\n",
    "\n",
    "a, b = input().split()\n",
    "a = int(a, 2)\n",
    "b = int(b, 2)\n",
    "result = bin(a + b)\n",
    "print(result[2:])"
   ]
  },
  {
   "cell_type": "code",
   "execution_count": 1,
   "metadata": {},
   "outputs": [
    {
     "name": "stdout",
     "output_type": "stream",
     "text": [
      "25 45\n"
     ]
    }
   ],
   "source": [
    "# 백준 1297번 - TV 크기\n",
    "import sys\n",
    "# input = sys.stdin.readline\n",
    "\n",
    "d, h, w = map(int, input().split())\n",
    "\n",
    "x = (d ** 2 / (h ** 2 + w ** 2)) ** 0.5\n",
    "print(int(h * x), int(w * x))"
   ]
  },
  {
   "cell_type": "code",
   "execution_count": null,
   "metadata": {},
   "outputs": [],
   "source": []
  }
 ],
 "metadata": {
  "kernelspec": {
   "display_name": "Python 3",
   "language": "python",
   "name": "python3"
  },
  "language_info": {
   "codemirror_mode": {
    "name": "ipython",
    "version": 3
   },
   "file_extension": ".py",
   "mimetype": "text/x-python",
   "name": "python",
   "nbconvert_exporter": "python",
   "pygments_lexer": "ipython3",
   "version": "3.11.6"
  }
 },
 "nbformat": 4,
 "nbformat_minor": 2
}
