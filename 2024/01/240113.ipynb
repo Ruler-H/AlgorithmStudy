{
 "cells": [
  {
   "cell_type": "code",
   "execution_count": 15,
   "metadata": {},
   "outputs": [
    {
     "name": "stdout",
     "output_type": "stream",
     "text": [
      "0.866\n",
      "0.980\n"
     ]
    },
    {
     "ename": "",
     "evalue": "",
     "output_type": "error",
     "traceback": [
      "\u001b[1;31m현재 셀 또는 이전 셀에서 코드를 실행하는 동안 Kernel이 충돌했습니다. 셀의 코드를 검토하여 오류의 가능한 원인을 식별하세요. 자세한 내용을 보려면 <a href='https://aka.ms/vscodeJupyterKernelCrash'> 여기 </a> 를 클릭하세요. 자세한 내용은 Jupyter <a href='command:jupyter.viewOutput'>로그</a>를 참조하세요."
     ]
    }
   ],
   "source": [
    "# 백준 4706번 - 쌍둥이 역설\n",
    "import sys\n",
    "# input = sys.stdin.readline\n",
    "c = 0.99999971460312\n",
    "while True:\n",
    "    a, b = map(float, input().split())\n",
    "    if a == 0 and b == 0:\n",
    "        break\n",
    "    v = c * ((1 - ((b / a) ** 2)) ** 0.5)\n",
    "    print(f'{v:.3f}')\n",
    "# 채점 대기 중"
   ]
  },
  {
   "cell_type": "code",
   "execution_count": 29,
   "metadata": {},
   "outputs": [
    {
     "name": "stdout",
     "output_type": "stream",
     "text": [
      "1\n",
      "5\n",
      "25\n"
     ]
    }
   ],
   "source": [
    "# 백준 5618번 - 공약수\n",
    "import sys\n",
    "# input = sys.stdin.readline\n",
    "from math import gcd\n",
    "\n",
    "n = int(input().strip())\n",
    "nums = list(map(int, input().strip().split()))\n",
    "\n",
    "max_num = nums[0]\n",
    "for num in nums:\n",
    "    max_num = gcd(max_num, num)\n",
    "\n",
    "arr = []\n",
    "for i in range(1, int(max_num ** 0.5) + 1):\n",
    "    if max_num % i == 0:\n",
    "        arr.append(i)\n",
    "        arr.append(max_num // i)\n",
    "\n",
    "arr = list(set(arr))\n",
    "arr.sort()\n",
    "for num in arr:\n",
    "    print(num)"
   ]
  },
  {
   "cell_type": "code",
   "execution_count": null,
   "metadata": {},
   "outputs": [],
   "source": [
    "# 백준 2789번 - 유학 금지\n",
    "import sys\n",
    "# input = sys.stdin.readline\n",
    "\n",
    "inp_str = input().strip()\n",
    "CAMBRIDGE = 'CAMBRIDGE'\n",
    "for c in CAMBRIDGE:\n",
    "    inp_str = inp_str.replace(c, '')\n",
    "print(inp_str)"
   ]
  },
  {
   "cell_type": "code",
   "execution_count": 32,
   "metadata": {},
   "outputs": [
    {
     "name": "stdout",
     "output_type": "stream",
     "text": [
      "-1\n"
     ]
    },
    {
     "ename": "SystemExit",
     "evalue": "",
     "output_type": "error",
     "traceback": [
      "An exception has occurred, use %tb to see the full traceback.\n",
      "\u001b[1;31mSystemExit\u001b[0m\n"
     ]
    },
    {
     "name": "stderr",
     "output_type": "stream",
     "text": [
      "C:\\Users\\gjs55\\AppData\\Roaming\\Python\\Python311\\site-packages\\IPython\\core\\interactiveshell.py:3556: UserWarning: To exit: use 'exit', 'quit', or Ctrl-D.\n",
      "  warn(\"To exit: use 'exit', 'quit', or Ctrl-D.\", stacklevel=1)\n"
     ]
    }
   ],
   "source": [
    "# 백준 1173번 - 운동\n",
    "import sys\n",
    "# input = sys.stdin.readline\n",
    "\n",
    "N, m, M, T, R = map(int, input().strip().split())\n",
    "\n",
    "if m + T > M:\n",
    "    print(-1)\n",
    "    sys.exit()\n",
    "\n",
    "cnt = 0\n",
    "X = m\n",
    "while N > 0:\n",
    "    if X + T <= M:\n",
    "        X += T\n",
    "        N -= 1\n",
    "    else:\n",
    "        X -= R\n",
    "        if X < m:\n",
    "            X = m\n",
    "    cnt += 1\n",
    "print(cnt)\n"
   ]
  },
  {
   "cell_type": "code",
   "execution_count": null,
   "metadata": {},
   "outputs": [],
   "source": [
    "# 백준 18406번 - 럭키 스트레이트\n",
    "import sys\n",
    "# input = sys.stdin.readline\n",
    "\n",
    "n = input().strip()\n",
    "length = len(n)\n",
    "left = 0\n",
    "right = 0\n",
    "for i in range(length // 2):\n",
    "    left += int(n[i])\n",
    "for i in range(length // 2, length):\n",
    "    right += int(n[i])\n",
    "if left == right:\n",
    "    print('LUCKY')\n",
    "else:\n",
    "    print('READY')"
   ]
  },
  {
   "cell_type": "code",
   "execution_count": null,
   "metadata": {},
   "outputs": [],
   "source": [
    "# 백준 1773번 - 폭죽쇼\n",
    "import sys\n",
    "# input = sys.stdin.readline\n",
    "\n",
    "n, c = map(int, input().strip().split())\n",
    "arr = [0] * (c + 1)\n",
    "for _ in range(n):\n",
    "    num = int(input().strip())\n",
    "    for i in range(num, c + 1, num):\n",
    "        arr[i] = 1\n",
    "print(sum(arr))"
   ]
  },
  {
   "cell_type": "code",
   "execution_count": 33,
   "metadata": {},
   "outputs": [
    {
     "name": "stdout",
     "output_type": "stream",
     "text": [
      "2020202020202020\n"
     ]
    }
   ],
   "source": [
    "# 백준 11944번 - NN\n",
    "import sys\n",
    "# input = sys.stdin.readline\n",
    "\n",
    "n, m = map(int, input().strip().split())\n",
    "str_n = str(n)\n",
    "print((str_n * n)[:m])\n"
   ]
  },
  {
   "cell_type": "code",
   "execution_count": null,
   "metadata": {},
   "outputs": [],
   "source": []
  }
 ],
 "metadata": {
  "kernelspec": {
   "display_name": "Python 3",
   "language": "python",
   "name": "python3"
  },
  "language_info": {
   "codemirror_mode": {
    "name": "ipython",
    "version": 3
   },
   "file_extension": ".py",
   "mimetype": "text/x-python",
   "name": "python",
   "nbconvert_exporter": "python",
   "pygments_lexer": "ipython3",
   "version": "3.11.6"
  }
 },
 "nbformat": 4,
 "nbformat_minor": 2
}
