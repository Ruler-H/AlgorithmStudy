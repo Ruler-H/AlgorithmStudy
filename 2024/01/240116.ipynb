{
 "cells": [
  {
   "cell_type": "code",
   "execution_count": 15,
   "metadata": {},
   "outputs": [
    {
     "name": "stdout",
     "output_type": "stream",
     "text": [
      "0.866\n",
      "0.980\n"
     ]
    },
    {
     "ename": "",
     "evalue": "",
     "output_type": "error",
     "traceback": [
      "\u001b[1;31m현재 셀 또는 이전 셀에서 코드를 실행하는 동안 Kernel이 충돌했습니다. 셀의 코드를 검토하여 오류의 가능한 원인을 식별하세요. 자세한 내용을 보려면 <a href='https://aka.ms/vscodeJupyterKernelCrash'> 여기 </a> 를 클릭하세요. 자세한 내용은 Jupyter <a href='command:jupyter.viewOutput'>로그</a>를 참조하세요."
     ]
    }
   ],
   "source": [
    "# 백준 4706번 - 쌍둥이 역설\n",
    "import sys\n",
    "# input = sys.stdin.readline\n",
    "c = 0.99999971460312\n",
    "while True:\n",
    "    a, n = map(float, input().split())\n",
    "    if a == 0 and n == 0:\n",
    "        break\n",
    "    v = c * ((1 - ((n / a) ** 2)) ** 0.5)\n",
    "    print(f'{v:.3f}')\n",
    "# 채점 대기 중"
   ]
  },
  {
   "cell_type": "code",
   "execution_count": 7,
   "metadata": {},
   "outputs": [
    {
     "name": "stdout",
     "output_type": "stream",
     "text": [
      "0 0\n"
     ]
    }
   ],
   "source": [
    "# 백준 10834번 - 벨트\n",
    "import sys\n",
    "# input = sys.stdin.readline\n",
    "\n",
    "m = int(input().strip())\n",
    "\n",
    "spin = 1\n",
    "direction = 0\n",
    "\n",
    "for _ in range(m):\n",
    "    a, n, s = map(int, input().strip().split())\n",
    "    spin = spin * n // a\n",
    "    if s == 1:\n",
    "        if direction == 0:\n",
    "            direction = 1\n",
    "        else:\n",
    "            direction = 0\n",
    "\n",
    "print(direction, int(spin))"
   ]
  },
  {
   "cell_type": "code",
   "execution_count": null,
   "metadata": {},
   "outputs": [],
   "source": [
    "# 백준 10822번 - 더하기\n",
    "import sys\n",
    "# input = sys.stdin.readline\n",
    "\n",
    "arr = list(map(int, input().strip().split(',')))\n",
    "print(sum(arr))"
   ]
  },
  {
   "cell_type": "code",
   "execution_count": 11,
   "metadata": {},
   "outputs": [
    {
     "name": "stdout",
     "output_type": "stream",
     "text": [
      "4\n"
     ]
    }
   ],
   "source": [
    "# 백준 21756번 - 지우개\n",
    "import sys\n",
    "# input = sys.stdin.readline\n",
    "\n",
    "n = int(input().strip())\n",
    "\n",
    "cnt = 0\n",
    "\n",
    "while True:\n",
    "    if n < 2 ** (cnt + 1):\n",
    "        break\n",
    "    cnt += 1\n",
    "\n",
    "print(2 ** cnt)"
   ]
  },
  {
   "cell_type": "code",
   "execution_count": 12,
   "metadata": {},
   "outputs": [
    {
     "name": "stdout",
     "output_type": "stream",
     "text": [
      "1\n",
      "16\n",
      "101248\n",
      "100000\n"
     ]
    }
   ],
   "source": [
    "# 백준 3943번 - 헤일스톤 수열\n",
    "import sys\n",
    "# input = sys.stdin.readline\n",
    "\n",
    "n = int(input().strip())\n",
    "\n",
    "for _ in range(n):\n",
    "    num = int(input().strip())\n",
    "    nums = [num]\n",
    "    while True:\n",
    "        if num == 1:\n",
    "            break\n",
    "        if num % 2 == 0:\n",
    "            num //= 2\n",
    "            nums.append(num)\n",
    "        else:\n",
    "            num = num * 3 + 1\n",
    "            nums.append(num)\n",
    "    print(max(nums))"
   ]
  },
  {
   "cell_type": "code",
   "execution_count": 15,
   "metadata": {},
   "outputs": [
    {
     "name": "stdout",
     "output_type": "stream",
     "text": [
      "24\n"
     ]
    }
   ],
   "source": [
    "# 백준 22864번 - 피로도\n",
    "import sys\n",
    "# input = sys.stdin.readline\n",
    "\n",
    "a, n, c, m = map(int, input().strip().split())\n",
    "\n",
    "f = 0\n",
    "w = 0\n",
    "\n",
    "for i in range(24):\n",
    "    if f + a <= m:\n",
    "        f += a\n",
    "        w += n\n",
    "    else:\n",
    "        f -= c\n",
    "        if f < 0:\n",
    "            f = 0\n",
    "\n",
    "print(w)"
   ]
  },
  {
   "cell_type": "code",
   "execution_count": 17,
   "metadata": {},
   "outputs": [
    {
     "name": "stdout",
     "output_type": "stream",
     "text": [
      "3 1 5 11\n"
     ]
    }
   ],
   "source": [
    "# 백준 10539번 - 수빈이와 수열\n",
    "import sys\n",
    "# input = sys.stdin.readline\n",
    "\n",
    "n = int(input().strip())\n",
    "b_list = list(map(int, input().strip().split()))\n",
    "\n",
    "arr = [b_list[0]]\n",
    "\n",
    "for n in b_list[1:]:\n",
    "    arr.append(n * (len(arr) + 1) - sum(arr))\n",
    "\n",
    "print(*arr)"
   ]
  },
  {
   "cell_type": "code",
   "execution_count": null,
   "metadata": {},
   "outputs": [],
   "source": [
    "# 백준 2858번 - 기숙사 바닥\n",
    "import sys\n",
    "# input = sys.stdin.readline\n",
    "\n",
    "r, n = map(int, input().strip().split())\n",
    "\n",
    "for i in range(1, n + 1):\n",
    "    if n % i == 0:\n",
    "        l = n // i\n",
    "        if 2 * l + 2 * i + 4 == r:\n",
    "            print(l + 2, i + 2)\n",
    "            break"
   ]
  },
  {
   "cell_type": "code",
   "execution_count": null,
   "metadata": {},
   "outputs": [],
   "source": [
    "# 백준 5586번 - JOI와 IOI\n",
    "import sys\n",
    "# input = sys.stdin.readline\n",
    "\n",
    "s = input().strip()\n",
    "\n",
    "joi = 0\n",
    "ioi = 0\n",
    "\n",
    "for i in range(len(s) - 2):\n",
    "    if s[i:i + 3] == 'JOI':\n",
    "        joi += 1\n",
    "    elif s[i:i + 3] == 'IOI':\n",
    "        ioi += 1\n",
    "\n",
    "print(joi)\n",
    "print(ioi)"
   ]
  },
  {
   "cell_type": "code",
   "execution_count": 19,
   "metadata": {},
   "outputs": [
    {
     "name": "stdout",
     "output_type": "stream",
     "text": [
      "RIP\n",
      "2 :-)\n"
     ]
    }
   ],
   "source": [
    "# 백준 1362번 - 펫\n",
    "import sys\n",
    "# input = sys.stdin.readline\n",
    "i = 1\n",
    "while True:\n",
    "    o, w = map(int, input().strip().split())\n",
    "    if o == 0 and w == 0:\n",
    "        break\n",
    "    while True:\n",
    "        a, n = map(str, input().strip().split())\n",
    "        if a == \"#\" and n == \"0\":\n",
    "            break\n",
    "        if w <= 0:\n",
    "            continue\n",
    "        n = int(n)\n",
    "        if a == \"F\":\n",
    "            w += n\n",
    "        elif a == \"E\":\n",
    "            w -= n\n",
    "    if w <= 0:\n",
    "        print(f\"{i} RIP\")\n",
    "    elif w > o // 2 and w < o * 2:\n",
    "        print(f\"{i} :-)\")\n",
    "    else:\n",
    "        print(f\"{i} :-(\")\n",
    "    i += 1"
   ]
  },
  {
   "cell_type": "code",
   "execution_count": null,
   "metadata": {},
   "outputs": [],
   "source": [
    "100 100\n",
    "\n",
    "E 100\n",
    "\n",
    "F 100\n",
    "\n",
    "# 0\n",
    "\n",
    "100 100\n",
    "\n",
    "# 0\n",
    "\n",
    "0 0\n",
    "\n",
    "답:\n",
    "\n",
    "1 RIP\n",
    "\n",
    "2 :-)"
   ]
  }
 ],
 "metadata": {
  "kernelspec": {
   "display_name": "Python 3",
   "language": "python",
   "name": "python3"
  },
  "language_info": {
   "codemirror_mode": {
    "name": "ipython",
    "version": 3
   },
   "file_extension": ".py",
   "mimetype": "text/x-python",
   "name": "python",
   "nbconvert_exporter": "python",
   "pygments_lexer": "ipython3",
   "version": "3.11.6"
  }
 },
 "nbformat": 4,
 "nbformat_minor": 2
}
