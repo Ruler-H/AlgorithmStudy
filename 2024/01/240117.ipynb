{
 "cells": [
  {
   "cell_type": "code",
   "execution_count": 15,
   "metadata": {},
   "outputs": [
    {
     "name": "stdout",
     "output_type": "stream",
     "text": [
      "0.866\n",
      "0.980\n"
     ]
    },
    {
     "ename": "",
     "evalue": "",
     "output_type": "error",
     "traceback": [
      "\u001b[1;31m현재 셀 또는 이전 셀에서 코드를 실행하는 동안 Kernel이 충돌했습니다. 셀의 코드를 검토하여 오류의 가능한 원인을 식별하세요. 자세한 내용을 보려면 <a href='https://aka.ms/vscodeJupyterKernelCrash'> 여기 </a> 를 클릭하세요. 자세한 내용은 Jupyter <a href='command:jupyter.viewOutput'>로그</a>를 참조하세요."
     ]
    }
   ],
   "source": [
    "# 백준 4706번 - 쌍둥이 역설\n",
    "import sys\n",
    "# input = sys.stdin.readline\n",
    "c = 0.99999971460312\n",
    "while True:\n",
    "    a, n = map(float, input().split())\n",
    "    if a == 0 and n == 0:\n",
    "        break\n",
    "    v = c * ((1 - ((n / a) ** 2)) ** 0.5)\n",
    "    print(f'{v:.3f}')\n",
    "# 채점 대기 중"
   ]
  },
  {
   "cell_type": "code",
   "execution_count": 5,
   "metadata": {},
   "outputs": [
    {
     "name": "stdout",
     "output_type": "stream",
     "text": [
      "16\n"
     ]
    }
   ],
   "source": [
    "# 백준 11816번 - 8진수, 10진수, 16진수\n",
    "import sys\n",
    "# input = sys.stdin.readline\n",
    "\n",
    "n = input()\n",
    "if n[0] == '0':\n",
    "    if n[1] == 'x':\n",
    "        print(int(n, 16))\n",
    "    else:\n",
    "        print(int(n, 8))\n",
    "else:\n",
    "    print(n)"
   ]
  },
  {
   "cell_type": "code",
   "execution_count": 14,
   "metadata": {},
   "outputs": [
    {
     "name": "stdout",
     "output_type": "stream",
     "text": [
      "E6\n"
     ]
    }
   ],
   "source": [
    "# 백준 7572번 - 간지(干支)\n",
    "import sys\n",
    "# input = sys.stdin.readline\n",
    "\n",
    "n = int(input())\n",
    "\n",
    "sipgan = \"0123456789\"\n",
    "sipeasy = \"ABCDEFGHIJKL\"\n",
    "\n",
    "\n",
    "print(f'{sipeasy[(n + 8) % 12]}{sipgan[(n + 6) % 10]}')"
   ]
  },
  {
   "cell_type": "code",
   "execution_count": 24,
   "metadata": {},
   "outputs": [
    {
     "ename": "ValueError",
     "evalue": "invalid literal for int() with base 10: ''",
     "output_type": "error",
     "traceback": [
      "\u001b[1;31m---------------------------------------------------------------------------\u001b[0m",
      "\u001b[1;31mValueError\u001b[0m                                Traceback (most recent call last)",
      "Cell \u001b[1;32mIn[24], line 5\u001b[0m\n\u001b[0;32m      2\u001b[0m \u001b[38;5;28;01mimport\u001b[39;00m \u001b[38;5;21;01msys\u001b[39;00m\n\u001b[0;32m      3\u001b[0m \u001b[38;5;66;03m# input = sys.stdin.readline\u001b[39;00m\n\u001b[1;32m----> 5\u001b[0m n \u001b[38;5;241m=\u001b[39m \u001b[38;5;28;43mint\u001b[39;49m\u001b[43m(\u001b[49m\u001b[38;5;28;43minput\u001b[39;49m\u001b[43m(\u001b[49m\u001b[43m)\u001b[49m\u001b[43m)\u001b[49m\n\u001b[0;32m      6\u001b[0m \u001b[38;5;28mprint\u001b[39m(\u001b[38;5;124m'\u001b[39m\u001b[38;5;124m1\u001b[39m\u001b[38;5;124m'\u001b[39m \u001b[38;5;241m*\u001b[39m n \u001b[38;5;241m+\u001b[39m \u001b[38;5;124m'\u001b[39m\u001b[38;5;124m0\u001b[39m\u001b[38;5;124m'\u001b[39m \u001b[38;5;241m*\u001b[39m (n \u001b[38;5;241m-\u001b[39m \u001b[38;5;241m1\u001b[39m))\n",
      "\u001b[1;31mValueError\u001b[0m: invalid literal for int() with base 10: ''"
     ]
    }
   ],
   "source": [
    "# 백준 8741번 - 이진수 합\n",
    "import sys\n",
    "# input = sys.stdin.readline\n",
    "\n",
    "n = int(input())\n",
    "print('1' * n + '0' * (n - 1))"
   ]
  },
  {
   "cell_type": "code",
   "execution_count": 26,
   "metadata": {},
   "outputs": [
    {
     "name": "stdout",
     "output_type": "stream",
     "text": [
      "110 97\n",
      "105 97\n",
      "99 97\n",
      "101 97\n",
      "100 97\n",
      "97 97\n",
      "121 97\n",
      "mhbd czx\n"
     ]
    }
   ],
   "source": [
    "# 백준 1718번 - 암호\n",
    "import sys\n",
    "# input = sys.stdin.readline\n",
    "\n",
    "plain = input()\n",
    "key = input()\n",
    "crypt = ''\n",
    "for i in range(len(plain)):\n",
    "    if plain[i] == ' ':\n",
    "        crypt += ' '\n",
    "    else:\n",
    "        print(ord(plain[i]), ord(key[i % len(key)]))\n",
    "        dist = ord(plain[i]) - ord(key[i % len(key)]) + 25\n",
    "        crypt += chr(dist % 26 + ord('a'))\n",
    "print(crypt)"
   ]
  },
  {
   "cell_type": "code",
   "execution_count": 27,
   "metadata": {},
   "outputs": [
    {
     "name": "stdout",
     "output_type": "stream",
     "text": [
      "84\n"
     ]
    }
   ],
   "source": [
    "# 백준 13410번 - 거꾸로 구구단\n",
    "import sys\n",
    "# input = sys.stdin.readline\n",
    "\n",
    "n, k = map(int, input().split())\n",
    "\n",
    "arr = []\n",
    "for i in range(1, k + 1):\n",
    "    arr.append(str(n * i))\n",
    "for i in range(len(arr)):\n",
    "    arr[i] = int(arr[i][::-1])\n",
    "print(max(arr))"
   ]
  },
  {
   "cell_type": "code",
   "execution_count": 47,
   "metadata": {},
   "outputs": [
    {
     "name": "stdout",
     "output_type": "stream",
     "text": [
      "2992\n",
      "2993\n",
      "2994\n",
      "2995\n",
      "2996\n",
      "2997\n",
      "2998\n",
      "2999\n",
      "4470\n",
      "4471\n",
      "4472\n",
      "4473\n",
      "4474\n",
      "4475\n",
      "4970\n",
      "4971\n",
      "4972\n",
      "4973\n",
      "4974\n",
      "4975\n",
      "5460\n",
      "5461\n",
      "5462\n",
      "5463\n",
      "5464\n",
      "5465\n",
      "5466\n",
      "5467\n",
      "5468\n",
      "5469\n",
      "5960\n",
      "5961\n",
      "5962\n",
      "5963\n",
      "6456\n",
      "6457\n",
      "6458\n",
      "6459\n",
      "7440\n",
      "7441\n",
      "7442\n",
      "7443\n",
      "7444\n",
      "7445\n",
      "7446\n",
      "7447\n",
      "7448\n",
      "7449\n",
      "7940\n",
      "7941\n",
      "7942\n",
      "7943\n",
      "8436\n",
      "8437\n",
      "8438\n",
      "8439\n",
      "9424\n",
      "9425\n",
      "9426\n",
      "9427\n",
      "9428\n",
      "9429\n",
      "9924\n",
      "9925\n",
      "9926\n",
      "9927\n",
      "9928\n",
      "9929\n"
     ]
    }
   ],
   "source": [
    "# 백준 6679번 - 싱기한 네자리 숫자\n",
    "import sys\n",
    "# input = sys.stdin.readline\n",
    "\n",
    "for i in range(1000, 10000):\n",
    "    a = sum(map(int, str(i)))\n",
    "    b = 0\n",
    "    temp = i\n",
    "    while temp > 0:\n",
    "        b += temp % 12\n",
    "        temp //= 12\n",
    "    c = 0\n",
    "    temp = i\n",
    "    while temp > 0:\n",
    "        c += temp % 16\n",
    "        temp //= 16\n",
    "    if a == b == c:\n",
    "        print(i)"
   ]
  },
  {
   "cell_type": "code",
   "execution_count": null,
   "metadata": {},
   "outputs": [],
   "source": []
  }
 ],
 "metadata": {
  "kernelspec": {
   "display_name": "Python 3",
   "language": "python",
   "name": "python3"
  },
  "language_info": {
   "codemirror_mode": {
    "name": "ipython",
    "version": 3
   },
   "file_extension": ".py",
   "mimetype": "text/x-python",
   "name": "python",
   "nbconvert_exporter": "python",
   "pygments_lexer": "ipython3",
   "version": "3.11.6"
  }
 },
 "nbformat": 4,
 "nbformat_minor": 2
}
