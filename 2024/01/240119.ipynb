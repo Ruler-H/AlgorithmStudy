{
 "cells": [
  {
   "cell_type": "code",
   "execution_count": 15,
   "metadata": {},
   "outputs": [
    {
     "name": "stdout",
     "output_type": "stream",
     "text": [
      "0.866\n",
      "0.980\n"
     ]
    },
    {
     "ename": "",
     "evalue": "",
     "output_type": "error",
     "traceback": [
      "\u001b[1;31m현재 셀 또는 이전 셀에서 코드를 실행하는 동안 Kernel이 충돌했습니다. 셀의 코드를 검토하여 오류의 가능한 원인을 식별하세요. 자세한 내용을 보려면 <a href='https://aka.ms/vscodeJupyterKernelCrash'> 여기 </a> 를 클릭하세요. 자세한 내용은 Jupyter <a href='command:jupyter.viewOutput'>로그</a>를 참조하세요."
     ]
    }
   ],
   "source": [
    "# 백준 4706번 - 쌍둥이 역설\n",
    "import sys\n",
    "# input = sys.stdin.readline\n",
    "c = 0.99999971460312\n",
    "while True:\n",
    "    a, n = map(float, input().split())\n",
    "    if a == 0 and n == 0:\n",
    "        break\n",
    "    v = c * ((1 - ((n / a) ** 2)) ** 0.5)\n",
    "    print(f'{v:.3f}')\n",
    "# 채점 대기 중"
   ]
  },
  {
   "cell_type": "code",
   "execution_count": 2,
   "metadata": {},
   "outputs": [
    {
     "name": "stdout",
     "output_type": "stream",
     "text": [
      "n e\n",
      "- -----------\n",
      "0 1\n",
      "1 2\n",
      "2 2.5\n",
      "3 2.666666667\n",
      "4 2.708333333\n",
      "5 2.716666667\n",
      "6 2.718055556\n",
      "7 2.718253968\n",
      "8 2.718278770\n",
      "9 2.718281526\n"
     ]
    }
   ],
   "source": [
    "# 백준 6376번 - e 계산\n",
    "import sys\n",
    "# input = sys.stdin.readline\n",
    "\n",
    "print('n e')\n",
    "print('- -----------')\n",
    "print('0 1')\n",
    "print('1 2')\n",
    "print('2 2.5')\n",
    "e = 2.5\n",
    "fac_num = 2\n",
    "for i in range(3, 10):\n",
    "    fac_num *= i\n",
    "    e += 1 / fac_num\n",
    "    print(f'{i} {e:.9f}')"
   ]
  },
  {
   "cell_type": "code",
   "execution_count": 49,
   "metadata": {},
   "outputs": [
    {
     "data": {
      "text/plain": [
       "'0b1011000'"
      ]
     },
     "execution_count": 49,
     "metadata": {},
     "output_type": "execute_result"
    }
   ],
   "source": [
    "# 백준 1731번 - 추론\n",
    "import sys\n",
    "# input = sys.stdin.readline\n",
    "\n",
    "n = int(input().strip())\n",
    "nums = []\n",
    "for _ in range(n):\n",
    "    nums.append(int(input().strip()))\n",
    "\n",
    "if nums[1] - nums[0] == nums[2] - nums[1]:\n",
    "    print(nums[-1] + (nums[1] - nums[0]))\n",
    "else:\n",
    "    print(nums[-1] * (nums[1] // nums[0]))"
   ]
  },
  {
   "cell_type": "code",
   "execution_count": 4,
   "metadata": {},
   "outputs": [
    {
     "name": "stdout",
     "output_type": "stream",
     "text": [
      "<class 'str'>\n"
     ]
    }
   ],
   "source": [
    "# 백준 2998번 - 8진수\n",
    "import sys\n",
    "# input = sys.stdin.readline\n",
    "\n",
    "n = int(input().strip(), 2)\n",
    "print(oct(n)[2:])"
   ]
  },
  {
   "cell_type": "code",
   "execution_count": null,
   "metadata": {},
   "outputs": [],
   "source": [
    "# 백준 23037번 - 5의 수난\n",
    "import sys\n",
    "# input = sys.stdin.readline\n",
    "\n",
    "n = input().strip()\n",
    "\n",
    "rs = 0\n",
    "for i in n:\n",
    "    rs += int(i) ** 5\n",
    "\n",
    "print(rs)"
   ]
  },
  {
   "cell_type": "code",
   "execution_count": 18,
   "metadata": {},
   "outputs": [
    {
     "name": "stdout",
     "output_type": "stream",
     "text": [
      "8\n"
     ]
    }
   ],
   "source": [
    "# 백준 13304번 - 방 배정\n",
    "import sys\n",
    "# input = sys.stdin.readline\n",
    "\n",
    "n, k = map(int, input().strip().split())\n",
    "\n",
    "room = [[0, 0] for _ in range(7)]\n",
    "for _ in range(n):\n",
    "    s, y = map(int, input().strip().split())\n",
    "    room[y][s] += 1\n",
    "\n",
    "rs = 0\n",
    "row = 0\n",
    "mid_m = 0\n",
    "mid_g = 0\n",
    "high_m = 0\n",
    "high_g = 0\n",
    "\n",
    "for i, i_v in enumerate(room):\n",
    "    for j, j_v in enumerate(i_v):\n",
    "        if i < 3:\n",
    "            row += j_v\n",
    "        elif i < 5:\n",
    "            if j == 0:\n",
    "                mid_g += j_v\n",
    "            else:\n",
    "                mid_m += j_v\n",
    "        else:\n",
    "            if j == 0:\n",
    "                high_g += j_v\n",
    "            else:\n",
    "                high_m += j_v\n",
    "\n",
    "rs += row // k\n",
    "if row % k != 0:\n",
    "    rs += 1\n",
    "rs += mid_g // k\n",
    "if mid_g % k != 0:\n",
    "    rs += 1\n",
    "rs += mid_m // k\n",
    "if mid_m % k != 0:\n",
    "    rs += 1\n",
    "rs += high_g // k\n",
    "if high_g % k != 0:\n",
    "    rs += 1\n",
    "rs += high_m // k\n",
    "if high_m % k != 0:\n",
    "    rs += 1\n",
    "\n",
    "print(rs)"
   ]
  },
  {
   "cell_type": "code",
   "execution_count": 26,
   "metadata": {},
   "outputs": [
    {
     "name": "stdout",
     "output_type": "stream",
     "text": [
      "1 1\n",
      "2 0\n",
      "-1\n"
     ]
    }
   ],
   "source": [
    "# 백준 16283번 - Farm\n",
    "import sys\n",
    "# input = sys.stdin.readline\n",
    "\n",
    "a, b, n, w = map(int, input().strip().split())\n",
    "\n",
    "sheep = 0\n",
    "goat = 0\n",
    "cnt = 0\n",
    "for i in range(1, n):\n",
    "    if a * i + b * (n - i) == w:\n",
    "        cnt += 1\n",
    "        sheep = i\n",
    "        goat = n - i\n",
    "\n",
    "if sheep == 0 or cnt > 1:\n",
    "    print(-1)\n",
    "else:\n",
    "    print(sheep, goat)"
   ]
  },
  {
   "cell_type": "code",
   "execution_count": null,
   "metadata": {},
   "outputs": [],
   "source": [
    "# 백준 10174번 - 팰린드롬\n",
    "import sys\n",
    "# input = sys.stdin.readline\n",
    "\n",
    "n = int(input().strip())\n",
    "\n",
    "for _ in range(n):\n",
    "    s = input().strip().lower()\n",
    "    if s == s[::-1]:\n",
    "        print('Yes')\n",
    "    else:\n",
    "        print('No')"
   ]
  },
  {
   "cell_type": "code",
   "execution_count": 28,
   "metadata": {},
   "outputs": [
    {
     "name": "stdout",
     "output_type": "stream",
     "text": [
      "3\n",
      "0\n",
      "2\n"
     ]
    }
   ],
   "source": [
    "# 백준 5176번 - 대회 자리\n",
    "import sys\n",
    "# input = sys.stdin.readline\n",
    "\n",
    "k = int(input().strip())\n",
    "\n",
    "for _ in range(k):\n",
    "    p, m = map(int, input().strip().split())\n",
    "    seat = [0 for _ in range(m + 1)]\n",
    "    cnt = 0\n",
    "    for _ in range(p):\n",
    "        n = int(input().strip())\n",
    "        if seat[n] == 0:\n",
    "            seat[n] = 1\n",
    "        else:\n",
    "            cnt += 1\n",
    "    print(cnt)"
   ]
  },
  {
   "cell_type": "code",
   "execution_count": null,
   "metadata": {},
   "outputs": [],
   "source": [
    "3\n",
    "4 1\n",
    "1\n",
    "1\n",
    "1\n",
    "1\n",
    "4 4\n",
    "1\n",
    "2\n",
    "3\n",
    "4\n",
    "4 4\n",
    "1\n",
    "4\n",
    "1\n",
    "4"
   ]
  }
 ],
 "metadata": {
  "kernelspec": {
   "display_name": "Python 3",
   "language": "python",
   "name": "python3"
  },
  "language_info": {
   "codemirror_mode": {
    "name": "ipython",
    "version": 3
   },
   "file_extension": ".py",
   "mimetype": "text/x-python",
   "name": "python",
   "nbconvert_exporter": "python",
   "pygments_lexer": "ipython3",
   "version": "3.11.6"
  }
 },
 "nbformat": 4,
 "nbformat_minor": 2
}
