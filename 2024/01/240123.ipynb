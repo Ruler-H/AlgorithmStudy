{
 "cells": [
  {
   "cell_type": "code",
   "execution_count": 15,
   "metadata": {},
   "outputs": [
    {
     "name": "stdout",
     "output_type": "stream",
     "text": [
      "0.866\n",
      "0.980\n"
     ]
    },
    {
     "ename": "",
     "evalue": "",
     "output_type": "error",
     "traceback": [
      "\u001b[1;31m현재 셀 또는 이전 셀에서 코드를 실행하는 동안 Kernel이 충돌했습니다. 셀의 코드를 검토하여 오류의 가능한 원인을 식별하세요. 자세한 내용을 보려면 <a href='https://aka.ms/vscodeJupyterKernelCrash'> 여기 </a> 를 클릭하세요. 자세한 내용은 Jupyter <a href='command:jupyter.viewOutput'>로그</a>를 참조하세요."
     ]
    }
   ],
   "source": [
    "# 백준 4706번 - 쌍둥이 역설\n",
    "import sys\n",
    "# input = sys.stdin.readline\n",
    "c = 0.99999971460312\n",
    "while True:\n",
    "    a, n = map(float, input().split())\n",
    "    if a == 0 and n == 0:\n",
    "        break\n",
    "    v = c * ((1 - ((n / a) ** 2)) ** 0.5)\n",
    "    print(f'{v:.3f}')\n",
    "# 채점 대기 중"
   ]
  },
  {
   "cell_type": "code",
   "execution_count": 30,
   "metadata": {},
   "outputs": [
    {
     "name": "stdout",
     "output_type": "stream",
     "text": [
      "550000000\n",
      "1000000000\n"
     ]
    }
   ],
   "source": [
    "# 백준 2909번 - 캔디 구매\n",
    "import sys\n",
    "# input = sys.stdin.readline\n",
    "\n",
    "c, k = map(int, input().split())\n",
    "c += 5 * (10 ** (k - 2))\n",
    "print(int(round(c, -k)))"
   ]
  },
  {
   "cell_type": "code",
   "execution_count": 39,
   "metadata": {},
   "outputs": [
    {
     "name": "stdout",
     "output_type": "stream",
     "text": [
      "0.0000000000000000000000000000000000000000000000000000000000000000000000000005527147875260444560247265192192255725514240233239220086415170220907898754023953317101764802222264464998750268125535784702076863325972445883937922417317167855799198150634765625\n"
     ]
    }
   ],
   "source": [
    "# 백준 2052번 - 지수연산\n",
    "import sys\n",
    "# input = sys.stdin.readline\n",
    "\n",
    "n = int(input().strip())\n",
    "\n",
    "print(f'{1 / (2 ** n):.250f}'.rstrip('0'))"
   ]
  },
  {
   "cell_type": "code",
   "execution_count": null,
   "metadata": {},
   "outputs": [],
   "source": [
    "# 백준 13420번 - 사칙연산\n",
    "import sys\n",
    "# input = sys.stdin.readline\n",
    "\n",
    "for _ in range(int(input().strip())):\n",
    "    a, op, b, _, c = input().strip().split()\n",
    "    a, b, c = int(a), int(b), int(c)\n",
    "    if op == '+':\n",
    "        print('correct' if a + b == c else 'wrong answer')\n",
    "    elif op == '-':\n",
    "        print('correct' if a - b == c else 'wrong answer')\n",
    "    elif op == '*':\n",
    "        print('correct' if a * b == c else 'wrong answer')\n",
    "    else:\n",
    "        print('correct' if a // b == c else 'wrong answer')\n"
   ]
  },
  {
   "cell_type": "code",
   "execution_count": 41,
   "metadata": {},
   "outputs": [
    {
     "name": "stdout",
     "output_type": "stream",
     "text": [
      "Y\n",
      "N\n",
      "N\n",
      "N\n"
     ]
    }
   ],
   "source": [
    "# 백준 5704번 - 팬그램\n",
    "import sys\n",
    "# input = sys.stdin.readline\n",
    "\n",
    "while True:\n",
    "    s = input().strip()\n",
    "    if s == '*':\n",
    "        break\n",
    "    s = s.replace(' ', '')\n",
    "    s = set(s)\n",
    "    if len(s) == 26:\n",
    "        print('Y')\n",
    "    else:\n",
    "        print('N')"
   ]
  },
  {
   "cell_type": "code",
   "execution_count": 40,
   "metadata": {},
   "outputs": [
    {
     "name": "stdout",
     "output_type": "stream",
     "text": [
      "97 122\n"
     ]
    }
   ],
   "source": [
    "# 백준 5656번 - 비교 연산자\n",
    "import sys\n",
    "# input = sys.stdin.readline\n",
    "i = 1\n",
    "while True:\n",
    "    a, op, b = input().strip().split()\n",
    "    if op == 'E':\n",
    "        break\n",
    "    a, b = int(a), int(b)\n",
    "    if op == '>':\n",
    "        print(f'Case {i}: true' if a > b else f'Case {i}: false')\n",
    "    elif op == '>=':\n",
    "        print(f'Case {i}: true' if a >= b else f'Case {i}: false')\n",
    "    elif op == '<':\n",
    "        print(f'Case {i}: true' if a < b else f'Case {i}: false')\n",
    "    elif op == '<=':\n",
    "        print(f'Case {i}: true' if a <= b else f'Case {i}: false')\n",
    "    elif op == '==':\n",
    "        print(f'Case {i}: true' if a == b else f'Case {i}: false')\n",
    "    else:\n",
    "        print(f'Case {i}: true' if a != b else f'Case {i}: false')\n",
    "    i += 1"
   ]
  },
  {
   "cell_type": "code",
   "execution_count": 45,
   "metadata": {},
   "outputs": [
    {
     "name": "stdout",
     "output_type": "stream",
     "text": [
      "9\n"
     ]
    }
   ],
   "source": [
    "# 백준 22341번 - 사각형 면적\n",
    "import sys\n",
    "# input = sys.stdin.readline\n",
    "\n",
    "n, c = map(int, input().strip().split())\n",
    "square = [n, n]\n",
    "for _ in range(c):\n",
    "    w, h = map(int, input().strip().split())\n",
    "    if w > square[0] or h > square[1]:\n",
    "        continue\n",
    "\n",
    "    if w * square[1] >= h * square[0]:\n",
    "        square[0] = w\n",
    "    else:\n",
    "        square[1] = h\n",
    "\n",
    "print(square[0] * square[1])"
   ]
  },
  {
   "cell_type": "code",
   "execution_count": 46,
   "metadata": {},
   "outputs": [
    {
     "name": "stdout",
     "output_type": "stream",
     "text": [
      "158\n",
      "1984\n",
      "-47\n",
      "0\n",
      "0\n",
      "0\n"
     ]
    }
   ],
   "source": [
    "# 백준 1864번 - 문어 숫자\n",
    "import sys\n",
    "# input = sys.stdin.readline\n",
    "octopus = {'-': 0, '\\\\': 1, '(': 2, '@': 3, '?': 4, '>': 5, '&': 6, '%': 7, '/': -1}\n",
    "while True:\n",
    "    inp_str = input().strip()\n",
    "    if inp_str == '#':\n",
    "        break\n",
    "    inp_str = inp_str[::-1]\n",
    "    result = 0\n",
    "    for i in range(len(inp_str)):\n",
    "        result += octopus[inp_str[i]] * (8 ** i)\n",
    "    print(result)"
   ]
  },
  {
   "cell_type": "code",
   "execution_count": 50,
   "metadata": {},
   "outputs": [
    {
     "name": "stdout",
     "output_type": "stream",
     "text": [
      "Deletion succeeded\n"
     ]
    }
   ],
   "source": [
    "# 백준 9243번 - 파일 완전 삭제\n",
    "import sys\n",
    "# input = sys.stdin.readline\n",
    "\n",
    "n = int(input().strip())\n",
    "a = input().strip()\n",
    "b = input().strip()\n",
    "if n % 2 == 0:\n",
    "    if a == b:\n",
    "        print('Deletion succeeded')\n",
    "    else:\n",
    "        print('Deletion failed')\n",
    "else:\n",
    "    for i in range(len(a)):\n",
    "        if a[i] == b[i]:\n",
    "            print('Deletion failed')\n",
    "            break\n",
    "    else:\n",
    "        print('Deletion succeeded')"
   ]
  },
  {
   "cell_type": "code",
   "execution_count": null,
   "metadata": {},
   "outputs": [],
   "source": [
    "1\n",
    "10001110101000001111010100001110\n",
    "01110001010111110000101011110001"
   ]
  }
 ],
 "metadata": {
  "kernelspec": {
   "display_name": "Python 3",
   "language": "python",
   "name": "python3"
  },
  "language_info": {
   "codemirror_mode": {
    "name": "ipython",
    "version": 3
   },
   "file_extension": ".py",
   "mimetype": "text/x-python",
   "name": "python",
   "nbconvert_exporter": "python",
   "pygments_lexer": "ipython3",
   "version": "3.11.6"
  }
 },
 "nbformat": 4,
 "nbformat_minor": 2
}
