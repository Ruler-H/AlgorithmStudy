{
 "cells": [
  {
   "cell_type": "code",
   "execution_count": 15,
   "metadata": {},
   "outputs": [
    {
     "name": "stdout",
     "output_type": "stream",
     "text": [
      "0.866\n",
      "0.980\n"
     ]
    },
    {
     "ename": "",
     "evalue": "",
     "output_type": "error",
     "traceback": [
      "\u001b[1;31m현재 셀 또는 이전 셀에서 코드를 실행하는 동안 Kernel이 충돌했습니다. 셀의 코드를 검토하여 오류의 가능한 원인을 식별하세요. 자세한 내용을 보려면 <a href='https://aka.ms/vscodeJupyterKernelCrash'> 여기 </a> 를 클릭하세요. 자세한 내용은 Jupyter <a href='command:jupyter.viewOutput'>로그</a>를 참조하세요."
     ]
    }
   ],
   "source": [
    "# 백준 4706번 - 쌍둥이 역설\n",
    "import sys\n",
    "# input = sys.stdin.readline\n",
    "c = 0.99999971460312\n",
    "while True:\n",
    "    a, n = map(float, input().split())\n",
    "    if a == 0 and n == 0:\n",
    "        break\n",
    "    v = c * ((1 - ((n / a) ** 2)) ** 0.5)\n",
    "    print(f'{v:.3f}')\n",
    "# 채점 대기 중"
   ]
  },
  {
   "cell_type": "code",
   "execution_count": 8,
   "metadata": {},
   "outputs": [
    {
     "name": "stdout",
     "output_type": "stream",
     "text": [
      "5\n"
     ]
    }
   ],
   "source": [
    "# 백준 5566번 - 주사위 게임\n",
    "import sys\n",
    "# input = sys.stdin.readline\n",
    "\n",
    "n, m = map(int, input().strip().split())\n",
    "\n",
    "board = [0] * n\n",
    "for i in range(n):\n",
    "    board[i] = int(input().strip())\n",
    "\n",
    "dice = [0] * m\n",
    "for i in range(m):\n",
    "    dice[i] = int(input().strip())\n",
    "\n",
    "pos = 0\n",
    "for i in range(m):\n",
    "    pos += dice[i]\n",
    "    if pos >= n - 1:\n",
    "        print(i + 1)\n",
    "        break\n",
    "    pos += board[pos]\n",
    "    if pos >= n - 1:\n",
    "        print(i + 1)\n",
    "        break"
   ]
  }
 ],
 "metadata": {
  "kernelspec": {
   "display_name": "Python 3",
   "language": "python",
   "name": "python3"
  },
  "language_info": {
   "codemirror_mode": {
    "name": "ipython",
    "version": 3
   },
   "file_extension": ".py",
   "mimetype": "text/x-python",
   "name": "python",
   "nbconvert_exporter": "python",
   "pygments_lexer": "ipython3",
   "version": "3.11.6"
  }
 },
 "nbformat": 4,
 "nbformat_minor": 2
}
