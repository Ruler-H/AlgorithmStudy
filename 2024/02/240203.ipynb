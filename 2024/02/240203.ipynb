{
 "cells": [
  {
   "cell_type": "code",
   "execution_count": 1,
   "metadata": {},
   "outputs": [
    {
     "name": "stdout",
     "output_type": "stream",
     "text": [
      "20\n"
     ]
    }
   ],
   "source": [
    "# 백준 2154번 - 수 이어 쓰기 3\n",
    "import sys\n",
    "# input = sys.stdin.readline\n",
    "\n",
    "n = int(input().strip())\n",
    "\n",
    "s = \"\"\n",
    "for i in range(1, n+1):\n",
    "    s += str(i)\n",
    "\n",
    "print(s.index(str(n)) + 1)"
   ]
  },
  {
   "cell_type": "code",
   "execution_count": null,
   "metadata": {},
   "outputs": [],
   "source": [
    "# 백준 9546번 - 3000번 버스\n",
    "import sys\n",
    "# input = sys.stdin.readline\n",
    "\n",
    "t = int(input().strip())\n",
    "\n",
    "for _ in range(t):\n",
    "    k = int(input().strip())\n",
    "    print(2 ** k - 1)"
   ]
  },
  {
   "cell_type": "code",
   "execution_count": null,
   "metadata": {},
   "outputs": [],
   "source": [
    "# 백준 5363번 - 요다\n",
    "import sys\n",
    "# input = sys.stdin.readline\n",
    "\n",
    "n = int(input().strip())\n",
    "\n",
    "for _ in range(n):\n",
    "    s = input().strip().split()\n",
    "    print(\" \".join(s[2:]) + \" \" + \" \".join(s[:2]))"
   ]
  },
  {
   "cell_type": "code",
   "execution_count": 2,
   "metadata": {},
   "outputs": [
    {
     "name": "stdout",
     "output_type": "stream",
     "text": [
      "121\n"
     ]
    }
   ],
   "source": [
    "# 백준 14491번 - 9진수\n",
    "import sys\n",
    "# input = sys.stdin.readline\n",
    "\n",
    "t = int(input().strip())\n",
    "\n",
    "result = \"\"\n",
    "while t > 0:\n",
    "    result += str(t % 9)\n",
    "    t //= 9\n",
    "\n",
    "print(result[::-1])"
   ]
  },
  {
   "cell_type": "code",
   "execution_count": 4,
   "metadata": {},
   "outputs": [
    {
     "name": "stdout",
     "output_type": "stream",
     "text": [
      "F8\n"
     ]
    }
   ],
   "source": [
    "# 백준 14915번 - 진수 변환기\n",
    "import sys\n",
    "# input = sys.stdin.readline\n",
    "\n",
    "m, n = map(int, input().strip().split())\n",
    "\n",
    "if m == 0:\n",
    "    print(0)\n",
    "    sys.exit()\n",
    "    \n",
    "result = \"\"\n",
    "while m > 0:\n",
    "    if m % n >= 10:\n",
    "        result += chr(m % n + 55)\n",
    "    else:\n",
    "        result += str(m % n)\n",
    "    m //= n\n",
    "\n",
    "print(result[::-1])"
   ]
  },
  {
   "cell_type": "code",
   "execution_count": 6,
   "metadata": {},
   "outputs": [
    {
     "name": "stdout",
     "output_type": "stream",
     "text": [
      "0\n"
     ]
    },
    {
     "ename": "SystemExit",
     "evalue": "",
     "output_type": "error",
     "traceback": [
      "An exception has occurred, use %tb to see the full traceback.\n",
      "\u001b[1;31mSystemExit\u001b[0m\n"
     ]
    },
    {
     "name": "stderr",
     "output_type": "stream",
     "text": [
      "C:\\Users\\gjs55\\AppData\\Roaming\\Python\\Python311\\site-packages\\IPython\\core\\interactiveshell.py:3556: UserWarning: To exit: use 'exit', 'quit', or Ctrl-D.\n",
      "  warn(\"To exit: use 'exit', 'quit', or Ctrl-D.\", stacklevel=1)\n"
     ]
    }
   ],
   "source": [
    "# 백준 20528번 - 끝말잇기\n",
    "import sys\n",
    "# input = sys.stdin.readline\n",
    "\n",
    "n = int(input().strip())\n",
    "\n",
    "s = input().strip().split()\n",
    "start = s[0][0]\n",
    "\n",
    "for i in s[1:]:\n",
    "    if i[0] != start:\n",
    "        print(0)\n",
    "        sys.exit()\n",
    "    else:\n",
    "        start = i[-1]\n",
    "print(1)"
   ]
  },
  {
   "cell_type": "code",
   "execution_count": 7,
   "metadata": {},
   "outputs": [
    {
     "name": "stdout",
     "output_type": "stream",
     "text": [
      "2\n"
     ]
    }
   ],
   "source": [
    "# 백준 7489번 - 팩토리얼\n",
    "import sys\n",
    "# input = sys.stdin.readline\n",
    "\n",
    "t = int(input().strip())\n",
    "\n",
    "for _ in range(t):\n",
    "    n = int(input().strip())\n",
    "    result = 1\n",
    "    for i in range(1, n+1):\n",
    "        result *= i\n",
    "    print(str(result).rstrip('0')[-1])"
   ]
  },
  {
   "cell_type": "code",
   "execution_count": null,
   "metadata": {},
   "outputs": [],
   "source": [
    "# 백준 12780번 - 원피스\n",
    "import sys\n",
    "# input = sys.stdin.readline\n",
    "\n",
    "h = input().strip()\n",
    "n = input().strip()\n",
    "print(h.count(n))"
   ]
  },
  {
   "cell_type": "code",
   "execution_count": 9,
   "metadata": {},
   "outputs": [
    {
     "name": "stdout",
     "output_type": "stream",
     "text": [
      "XX..XX..\n",
      "XX..XX..\n",
      "..XX..XX\n",
      "..XX..XX\n"
     ]
    }
   ],
   "source": [
    "# 백준 3076번 - 상근이의 체스판\n",
    "import sys\n",
    "# input = sys.stdin.readline\n",
    "\n",
    "r, c = map(int, input().strip().split())\n",
    "a, b = map(int, input().strip().split())\n",
    "\n",
    "for i in range(r * a):\n",
    "    for j in range(c * b):\n",
    "        if i // a % 2 == 0:\n",
    "            if j // b % 2 == 0:\n",
    "                print(\"X\", end=\"\")\n",
    "            else:\n",
    "                print(\".\", end=\"\")\n",
    "        else:\n",
    "            if j // b % 2 == 0:\n",
    "                print(\".\", end=\"\")\n",
    "            else:\n",
    "                print(\"X\", end=\"\")\n",
    "    print()"
   ]
  },
  {
   "cell_type": "code",
   "execution_count": null,
   "metadata": {},
   "outputs": [],
   "source": []
  }
 ],
 "metadata": {
  "kernelspec": {
   "display_name": "Python 3",
   "language": "python",
   "name": "python3"
  },
  "language_info": {
   "codemirror_mode": {
    "name": "ipython",
    "version": 3
   },
   "file_extension": ".py",
   "mimetype": "text/x-python",
   "name": "python",
   "nbconvert_exporter": "python",
   "pygments_lexer": "ipython3",
   "version": "3.11.6"
  }
 },
 "nbformat": 4,
 "nbformat_minor": 2
}
