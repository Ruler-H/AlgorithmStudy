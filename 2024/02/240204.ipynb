{
 "cells": [
  {
   "cell_type": "code",
   "execution_count": 2,
   "metadata": {},
   "outputs": [
    {
     "name": "stdout",
     "output_type": "stream",
     "text": [
      "0\n",
      "-6\n"
     ]
    }
   ],
   "source": [
    "# 백준 14648번 - 쿼리 맛보기\n",
    "import sys\n",
    "# input = sys.stdin.readline\n",
    "\n",
    "n, q = map(int, input().strip().split())\n",
    "\n",
    "arr = list(map(int, input().strip().split()))\n",
    "\n",
    "for _ in range(q):\n",
    "    query = list(map(int, input().strip().split()))\n",
    "    if query[0] == 1:\n",
    "        print(sum(arr[query[1]-1:query[2]]))\n",
    "        arr[query[1]-1], arr[query[2]-1] = arr[query[2]-1], arr[query[1]-1]\n",
    "    else:\n",
    "        print(sum(arr[query[1]-1:query[2]]) - sum(arr[query[3]-1:query[4]]))"
   ]
  },
  {
   "cell_type": "code",
   "execution_count": null,
   "metadata": {},
   "outputs": [],
   "source": [
    "# 백준 11091번 - 알파벳 전부 쓰기\n",
    "import sys\n",
    "# input = sys.stdin.readline\n",
    "\n",
    "n = int(input().strip())\n",
    "\n",
    "for _ in range(n):\n",
    "    s = input().strip().lower()\n",
    "    s = [i for i in s if i.isalpha()]\n",
    "    s = list(set(s))\n",
    "    s.sort()\n",
    "    if len(s) == 26:\n",
    "        print(\"pangram\")\n",
    "    else:\n",
    "        print(\"missing\", end=\" \")\n",
    "        for i in range(26):\n",
    "            if chr(97+i) not in s:\n",
    "                print(chr(97+i), end=\"\")\n",
    "        print()"
   ]
  },
  {
   "cell_type": "code",
   "execution_count": 27,
   "metadata": {},
   "outputs": [
    {
     "name": "stdout",
     "output_type": "stream",
     "text": [
      "['P', 'P'] ['S', 'R']\n",
      "[False, True] [True, True]\n",
      "TK\n"
     ]
    }
   ],
   "source": [
    "# 백준 16675번 - 두 개의 손\n",
    "import sys\n",
    "# input = sys.stdin.readline\n",
    "\n",
    "result = input().strip()\n",
    "m_rs = list(map(str, result[0:3].strip().split()))\n",
    "t_rs = list(map(str, result[4:7].strip().split()))\n",
    "m_win = [False, False]\n",
    "t_win = [False, False]\n",
    "\n",
    "for i in m_rs:\n",
    "    for k, j in enumerate(t_rs):\n",
    "        if i == j:\n",
    "            m_win[k] = True\n",
    "        elif i == \"R\":\n",
    "            if j == \"S\":\n",
    "                m_win[k] = True\n",
    "        elif i == \"S\":\n",
    "            if j == \"P\":\n",
    "                m_win[k] = True\n",
    "        else:\n",
    "            if j == \"R\":\n",
    "                m_win[k] = True\n",
    "\n",
    "for i in t_rs:\n",
    "    for k, j in enumerate(m_rs):\n",
    "        if i == j:\n",
    "            t_win[k] = True\n",
    "        elif i == \"R\":\n",
    "            if j == \"S\":\n",
    "                t_win[k] = True\n",
    "        elif i == \"S\":\n",
    "            if j == \"P\":\n",
    "                t_win[k] = True\n",
    "        else:\n",
    "            if j == \"R\":\n",
    "                t_win[k] = True\n",
    "\n",
    "if False not in m_win and False not in t_win:\n",
    "    print(\"?\")\n",
    "elif False not in m_win:\n",
    "    print(\"MS\")\n",
    "elif False not in t_win:\n",
    "    print(\"TK\")"
   ]
  },
  {
   "cell_type": "code",
   "execution_count": null,
   "metadata": {},
   "outputs": [],
   "source": [
    "P P S R"
   ]
  }
 ],
 "metadata": {
  "kernelspec": {
   "display_name": "Python 3",
   "language": "python",
   "name": "python3"
  },
  "language_info": {
   "codemirror_mode": {
    "name": "ipython",
    "version": 3
   },
   "file_extension": ".py",
   "mimetype": "text/x-python",
   "name": "python",
   "nbconvert_exporter": "python",
   "pygments_lexer": "ipython3",
   "version": "3.11.6"
  }
 },
 "nbformat": 4,
 "nbformat_minor": 2
}
