{
 "cells": [
  {
   "cell_type": "code",
   "execution_count": 12,
   "metadata": {},
   "outputs": [
    {
     "name": "stdout",
     "output_type": "stream",
     "text": [
      "floor 1 cnt 1\n",
      "floor 2 cnt 6\n",
      "floor 3 cnt 19\n",
      "floor 4 cnt 44\n",
      "3\n"
     ]
    }
   ],
   "source": [
    "# 백준 7770번 - 아즈텍 피라미드\n",
    "import sys\n",
    "# input = sys.stdin.readline\n",
    "\n",
    "n = int(input().strip())\n",
    "\n",
    "floor = 1\n",
    "cnt = 1\n",
    "be_cnt = 1\n",
    "\n",
    "while True:\n",
    "    if n < cnt:\n",
    "        print(floor - 1)\n",
    "        break\n",
    "    be_cnt += (4 * floor)\n",
    "    floor += 1\n",
    "    cnt += be_cnt"
   ]
  },
  {
   "cell_type": "code",
   "execution_count": 19,
   "metadata": {},
   "outputs": [
    {
     "name": "stdout",
     "output_type": "stream",
     "text": [
      "c_cnt:  1\n",
      "a_cnt:  1\n",
      "C-major\n"
     ]
    }
   ],
   "source": [
    "# 백준 5211번 - 가단조와 다장조\n",
    "import sys\n",
    "# input = sys.stdin.readline\n",
    "\n",
    "c_major = ['C', 'F', 'G']\n",
    "a_minor = ['A', 'D', 'E']\n",
    "\n",
    "music = input().strip().split(\"|\")\n",
    "c_cnt = 0\n",
    "a_cnt = 0\n",
    "for i in music:\n",
    "    if i[0] in c_major:\n",
    "        c_cnt += 1\n",
    "    elif i[0] in a_minor:\n",
    "        a_cnt += 1\n",
    "\n",
    "\n",
    "if c_cnt > a_cnt:\n",
    "    print(\"C-major\")\n",
    "elif c_cnt < a_cnt:\n",
    "    print(\"A-minor\")\n",
    "else:\n",
    "    if music[-1][-1] in c_major:\n",
    "        print(\"C-major\")\n",
    "    else:\n",
    "        print(\"A-minor\")"
   ]
  },
  {
   "cell_type": "code",
   "execution_count": null,
   "metadata": {},
   "outputs": [],
   "source": [
    "# 백준 8949번 - 대충 더해\n",
    "import sys\n",
    "# input = sys.stdin.readline\n",
    "\n",
    "a, b = input().strip().split()"
   ]
  }
 ],
 "metadata": {
  "kernelspec": {
   "display_name": "Python 3",
   "language": "python",
   "name": "python3"
  },
  "language_info": {
   "codemirror_mode": {
    "name": "ipython",
    "version": 3
   },
   "file_extension": ".py",
   "mimetype": "text/x-python",
   "name": "python",
   "nbconvert_exporter": "python",
   "pygments_lexer": "ipython3",
   "version": "3.11.6"
  }
 },
 "nbformat": 4,
 "nbformat_minor": 2
}
