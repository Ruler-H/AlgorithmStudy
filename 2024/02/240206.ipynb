{
 "cells": [
  {
   "cell_type": "code",
   "execution_count": 12,
   "metadata": {},
   "outputs": [
    {
     "name": "stdout",
     "output_type": "stream",
     "text": [
      "floor 1 cnt 1\n",
      "floor 2 cnt 6\n",
      "floor 3 cnt 19\n",
      "floor 4 cnt 44\n",
      "3\n"
     ]
    }
   ],
   "source": [
    "# 백준 10874번 - 이교수님의 시험\n",
    "import sys\n",
    "# input = sys.stdin.readline\n",
    "\n",
    "n = int(input().strip())\n",
    "\n",
    "for i in range(n):\n",
    "    answer = list(map(int, input().strip().split()))\n",
    "    rs = 0\n",
    "    for k, j in enumerate(answer):\n",
    "        if (k % 5) + 1 == j:\n",
    "            rs += 1\n",
    "        else:\n",
    "            break\n",
    "    if rs == 10:\n",
    "        print(i+1)"
   ]
  },
  {
   "cell_type": "code",
   "execution_count": 1,
   "metadata": {},
   "outputs": [
    {
     "ename": "ValueError",
     "evalue": "not enough values to unpack (expected 2, got 0)",
     "output_type": "error",
     "traceback": [
      "\u001b[1;31m---------------------------------------------------------------------------\u001b[0m",
      "\u001b[1;31mValueError\u001b[0m                                Traceback (most recent call last)",
      "Cell \u001b[1;32mIn[1], line 10\u001b[0m\n\u001b[0;32m      7\u001b[0m n \u001b[38;5;241m=\u001b[39m \u001b[38;5;28mint\u001b[39m(\u001b[38;5;28minput\u001b[39m()\u001b[38;5;241m.\u001b[39mstrip())\n\u001b[0;32m      9\u001b[0m \u001b[38;5;28;01mfor\u001b[39;00m _ \u001b[38;5;129;01min\u001b[39;00m \u001b[38;5;28mrange\u001b[39m(n):\n\u001b[1;32m---> 10\u001b[0m     s, x \u001b[38;5;241m=\u001b[39m \u001b[38;5;28minput\u001b[39m()\u001b[38;5;241m.\u001b[39mstrip()\u001b[38;5;241m.\u001b[39msplit()\n\u001b[0;32m     11\u001b[0m     fruit_dit[s] \u001b[38;5;241m=\u001b[39m \u001b[38;5;28mint\u001b[39m(x)\n\u001b[0;32m     13\u001b[0m \u001b[38;5;28;01mif\u001b[39;00m \u001b[38;5;241m5\u001b[39m \u001b[38;5;129;01min\u001b[39;00m fruit_dit\u001b[38;5;241m.\u001b[39mvalues():\n",
      "\u001b[1;31mValueError\u001b[0m: not enough values to unpack (expected 2, got 0)"
     ]
    }
   ],
   "source": [
    "# 백준 27160번 - 할리갈리\n",
    "import sys\n",
    "# input = sys.stdin.readline\n",
    "\n",
    "fruit_dit = {\n",
    "    'STRAWBERRY': 0,\n",
    "    'BANANA': 0,\n",
    "    'LIME': 0,\n",
    "    'PLUM': 0,\n",
    "}\n",
    "\n",
    "n = int(input().strip())\n",
    "\n",
    "for _ in range(n):\n",
    "    s, x = input().strip().split()\n",
    "    fruit_dit[s] += int(x)\n",
    "\n",
    "if 5 in fruit_dit.values():\n",
    "    print(\"YES\")\n",
    "else:\n",
    "    print(\"NO\")"
   ]
  },
  {
   "cell_type": "code",
   "execution_count": null,
   "metadata": {},
   "outputs": [],
   "source": [
    "# 백준 21918번 - 전구\n",
    "import sys\n",
    "# input = sys.stdin.readline\n",
    "\n",
    "n, m = map(int, input().strip().split())\n",
    "bulb = list(map(int, input().strip().split()))\n",
    "\n",
    "for _ in range(m):\n",
    "    a, b, c = map(int, input().strip().split())\n",
    "    if a == 1:\n",
    "        bulb[b-1] = c\n",
    "    elif a == 2:\n",
    "        for i in range(b-1, c):\n",
    "            if bulb[i] == 1:\n",
    "                bulb[i] = 0\n",
    "            else:\n",
    "                bulb[i] = 1\n",
    "    elif a == 3:\n",
    "        for i in range(b-1, c):\n",
    "            bulb[i] = 0\n",
    "    else:\n",
    "        for i in range(b-1, c):\n",
    "            bulb[i] = 1\n",
    "\n",
    "print(*bulb)"
   ]
  },
  {
   "cell_type": "code",
   "execution_count": 2,
   "metadata": {},
   "outputs": [
    {
     "name": "stdout",
     "output_type": "stream",
     "text": [
      "18\n"
     ]
    }
   ],
   "source": [
    "# 백준 11880번 - 개미\n",
    "import sys\n",
    "# input = sys.stdin.readline\n",
    "\n",
    "t = int(input().strip())\n",
    "\n",
    "for _ in range(t):\n",
    "    a, b, c = map(int, input().strip().split())\n",
    "    rs1 = (a + b) ** 2 + c ** 2\n",
    "    rs2 = a ** 2 + (b + c) ** 2\n",
    "    rs3 = (a + c) ** 2 + b ** 2\n",
    "    print(min(rs1, rs2, rs3))"
   ]
  },
  {
   "cell_type": "code",
   "execution_count": null,
   "metadata": {},
   "outputs": [],
   "source": [
    "# 백준 10864번 - 친구\n",
    "import sys\n",
    "# input = sys.stdin.readline\n",
    "\n",
    "n, m = map(int, input().strip().split())\n",
    "friend = [0] * (n+1)\n",
    "\n",
    "for _ in range(m):\n",
    "    a, b = map(int, input().strip().split())\n",
    "    friend[a] += 1\n",
    "    friend[b] += 1\n",
    "\n",
    "for i in range(1, n+1):\n",
    "    print(friend[i])"
   ]
  },
  {
   "cell_type": "code",
   "execution_count": null,
   "metadata": {},
   "outputs": [],
   "source": [
    "# 백준 7600번 - 문자가 몇갤까\n",
    "import sys\n",
    "# input = sys.stdin.readline\n",
    "\n",
    "while True:\n",
    "    s = input().strip()\n",
    "    if s == '#':\n",
    "        break\n",
    "    s = s.lower()\n",
    "    s = list(set(s))\n",
    "    s = list(filter(str.isalpha, s))\n",
    "    print(len(s))"
   ]
  }
 ],
 "metadata": {
  "kernelspec": {
   "display_name": "Python 3",
   "language": "python",
   "name": "python3"
  },
  "language_info": {
   "codemirror_mode": {
    "name": "ipython",
    "version": 3
   },
   "file_extension": ".py",
   "mimetype": "text/x-python",
   "name": "python",
   "nbconvert_exporter": "python",
   "pygments_lexer": "ipython3",
   "version": "3.11.6"
  }
 },
 "nbformat": 4,
 "nbformat_minor": 2
}
