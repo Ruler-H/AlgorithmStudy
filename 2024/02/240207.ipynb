{
 "cells": [
  {
   "cell_type": "code",
   "execution_count": 3,
   "metadata": {},
   "outputs": [
    {
     "name": "stdout",
     "output_type": "stream",
     "text": [
      "0\n"
     ]
    }
   ],
   "source": [
    "# 백준 17838번 - 커맨드\n",
    "import sys\n",
    "# input = sys.stdin.readline\n",
    "\n",
    "t = int(input().strip())\n",
    "\n",
    "for _ in range(t):\n",
    "    command = input().strip()\n",
    "    if len(command) != 7:\n",
    "        print(0)\n",
    "    else:\n",
    "        if command[0] == command[1] and command[1] != command[2] and command[2] == command[3] and command[3] != command[4] and command[4] != command[5] and command[5] == command[6]:\n",
    "            for _ in range(2):\n",
    "                command = command.replace(command[0], '')\n",
    "            if command:\n",
    "                print(0)\n",
    "            else:\n",
    "                print(1)\n",
    "        else:\n",
    "            print(0)"
   ]
  },
  {
   "cell_type": "code",
   "execution_count": 4,
   "metadata": {},
   "outputs": [
    {
     "ename": "ValueError",
     "evalue": "invalid literal for int() with base 10: ''",
     "output_type": "error",
     "traceback": [
      "\u001b[1;31m---------------------------------------------------------------------------\u001b[0m",
      "\u001b[1;31mValueError\u001b[0m                                Traceback (most recent call last)",
      "Cell \u001b[1;32mIn[4], line 6\u001b[0m\n\u001b[0;32m      3\u001b[0m \u001b[38;5;66;03m# input = sys.stdin.readline\u001b[39;00m\n\u001b[0;32m      5\u001b[0m score_arr \u001b[38;5;241m=\u001b[39m \u001b[38;5;28mlist\u001b[39m(\u001b[38;5;28mmap\u001b[39m(\u001b[38;5;28mint\u001b[39m, \u001b[38;5;28minput\u001b[39m()\u001b[38;5;241m.\u001b[39mstrip()\u001b[38;5;241m.\u001b[39msplit()))\n\u001b[1;32m----> 6\u001b[0m my_score \u001b[38;5;241m=\u001b[39m \u001b[38;5;28;43mint\u001b[39;49m\u001b[43m(\u001b[49m\u001b[38;5;28;43minput\u001b[39;49m\u001b[43m(\u001b[49m\u001b[43m)\u001b[49m\u001b[38;5;241;43m.\u001b[39;49m\u001b[43mstrip\u001b[49m\u001b[43m(\u001b[49m\u001b[43m)\u001b[49m\u001b[43m)\u001b[49m\n\u001b[0;32m      7\u001b[0m my_score_index \u001b[38;5;241m=\u001b[39m score_arr\u001b[38;5;241m.\u001b[39mindex(my_score) \u001b[38;5;241m+\u001b[39m \u001b[38;5;241m1\u001b[39m\n",
      "\u001b[1;31mValueError\u001b[0m: invalid literal for int() with base 10: ''"
     ]
    }
   ],
   "source": [
    "# 백준 17826번 - 나의 학점은?\n",
    "import sys\n",
    "# input = sys.stdin.readline\n",
    "\n",
    "score_arr = list(map(int, input().strip().split()))\n",
    "my_score = int(input().strip())\n",
    "my_score_index = score_arr.index(my_score) + 1\n",
    "\n",
    "if my_score_index <= 5:\n",
    "    print(\"A+\")\n",
    "elif my_score_index <= 15:\n",
    "    print(\"A0\")\n",
    "elif my_score_index <= 30:\n",
    "    print(\"B+\")\n",
    "elif my_score_index <= 35:\n",
    "    print(\"B0\")\n",
    "elif my_score_index <= 45:\n",
    "    print(\"C+\")\n",
    "elif my_score_index <= 48:\n",
    "    print(\"C0\")\n",
    "else:\n",
    "    print(\"F\")"
   ]
  },
  {
   "cell_type": "code",
   "execution_count": null,
   "metadata": {},
   "outputs": [],
   "source": []
  }
 ],
 "metadata": {
  "kernelspec": {
   "display_name": "Python 3",
   "language": "python",
   "name": "python3"
  },
  "language_info": {
   "codemirror_mode": {
    "name": "ipython",
    "version": 3
   },
   "file_extension": ".py",
   "mimetype": "text/x-python",
   "name": "python",
   "nbconvert_exporter": "python",
   "pygments_lexer": "ipython3",
   "version": "3.11.6"
  }
 },
 "nbformat": 4,
 "nbformat_minor": 2
}
