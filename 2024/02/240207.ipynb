{
 "cells": [
  {
   "cell_type": "code",
   "execution_count": 3,
   "metadata": {},
   "outputs": [
    {
     "name": "stdout",
     "output_type": "stream",
     "text": [
      "0\n"
     ]
    }
   ],
   "source": [
    "# 백준 17838번 - 커맨드\n",
    "import sys\n",
    "# input = sys.stdin.readline\n",
    "\n",
    "t = int(input().strip())\n",
    "\n",
    "for _ in range(t):\n",
    "    command = input().strip()\n",
    "    if len(command) != 7:\n",
    "        print(0)\n",
    "    else:\n",
    "        if command[0] == command[1] and command[1] != command[2] and command[2] == command[3] and command[3] != command[4] and command[4] != command[5] and command[5] == command[6]:\n",
    "            for _ in range(2):\n",
    "                command = command.replace(command[0], '')\n",
    "            if command:\n",
    "                print(0)\n",
    "            else:\n",
    "                print(1)\n",
    "        else:\n",
    "            print(0)"
   ]
  },
  {
   "cell_type": "code",
   "execution_count": null,
   "metadata": {},
   "outputs": [],
   "source": [
    "# 백준 17826번 - 나의 학점은?\n",
    "import sys\n",
    "# input = sys.stdin.readline\n",
    "\n",
    "score_arr = list(map(int, input().strip().split()))"
   ]
  }
 ],
 "metadata": {
  "kernelspec": {
   "display_name": "Python 3",
   "language": "python",
   "name": "python3"
  },
  "language_info": {
   "codemirror_mode": {
    "name": "ipython",
    "version": 3
   },
   "file_extension": ".py",
   "mimetype": "text/x-python",
   "name": "python",
   "nbconvert_exporter": "python",
   "pygments_lexer": "ipython3",
   "version": "3.11.6"
  }
 },
 "nbformat": 4,
 "nbformat_minor": 2
}
