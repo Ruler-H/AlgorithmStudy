{
 "cells": [
  {
   "cell_type": "code",
   "execution_count": 11,
   "metadata": {},
   "outputs": [
    {
     "name": "stdout",
     "output_type": "stream",
     "text": [
      "[2, 3, 6]\n",
      "2\n",
      "3\n",
      "3\n",
      "1\n",
      "1\n"
     ]
    }
   ],
   "source": [
    "# 백준 1392번 - 노래 악보\n",
    "import sys\n",
    "# input = sys.stdin.readline\n",
    "\n",
    "n, q = map(int, input().split())\n",
    "song = [int(input())]\n",
    "for _ in range(n - 1):\n",
    "    song.append(song[-1] + int(input()))\n",
    "\n",
    "for _ in range(q):\n",
    "    t = int(input())\n",
    "    for i in range(n):\n",
    "        if song[i] > t:\n",
    "            print(i + 1)\n",
    "            break"
   ]
  },
  {
   "cell_type": "code",
   "execution_count": null,
   "metadata": {},
   "outputs": [],
   "source": [
    "3 5\n",
    "2\n",
    "1\n",
    "3\n",
    "2\n",
    "3\n",
    "4\n",
    "0\n",
    "1"
   ]
  }
 ],
 "metadata": {
  "kernelspec": {
   "display_name": "Python 3",
   "language": "python",
   "name": "python3"
  },
  "language_info": {
   "codemirror_mode": {
    "name": "ipython",
    "version": 3
   },
   "file_extension": ".py",
   "mimetype": "text/x-python",
   "name": "python",
   "nbconvert_exporter": "python",
   "pygments_lexer": "ipython3",
   "version": "3.11.1"
  }
 },
 "nbformat": 4,
 "nbformat_minor": 2
}
