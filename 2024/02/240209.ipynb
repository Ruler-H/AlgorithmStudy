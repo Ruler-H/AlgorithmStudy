{
 "cells": [
  {
   "cell_type": "code",
   "execution_count": 11,
   "metadata": {},
   "outputs": [
    {
     "name": "stdout",
     "output_type": "stream",
     "text": [
      "[2, 3, 6]\n",
      "2\n",
      "3\n",
      "3\n",
      "1\n",
      "1\n"
     ]
    }
   ],
   "source": [
    "# 백준 1434번 - 책 정리\n",
    "import sys\n",
    "# input = sys.stdin.readline\n",
    "\n",
    "n, m = map(int, input().strip().split())\n",
    "\n",
    "box = list(map(int, input().strip().split()))\n",
    "book = list(map(int, input().strip().split()))\n",
    "\n",
    "print(sum(box) - sum(book))"
   ]
  },
  {
   "cell_type": "code",
   "execution_count": 3,
   "metadata": {},
   "outputs": [
    {
     "name": "stdout",
     "output_type": "stream",
     "text": [
      "3 20 16\n"
     ]
    }
   ],
   "source": [
    "# 백준 12778번 - CTP공국으로 이민 가자\n",
    "import sys\n",
    "# input = sys.stdin.readline\n",
    "\n",
    "t = int(input().strip())\n",
    "\n",
    "for _ in range(t):\n",
    "    m, n = input().strip().split()\n",
    "    inp_list = input().strip().split()\n",
    "    if n == \"C\":\n",
    "        print(\" \".join(map(str, [ord(i) - 64 for i in inp_list])))\n",
    "    else:\n",
    "        print(\" \".join(map(str, [chr(int(i) + 64) for i in inp_list])))"
   ]
  },
  {
   "cell_type": "code",
   "execution_count": 6,
   "metadata": {},
   "outputs": [
    {
     "ename": "KeyboardInterrupt",
     "evalue": "",
     "output_type": "error",
     "traceback": [
      "\u001b[0;31m---------------------------------------------------------------------------\u001b[0m",
      "\u001b[0;31mKeyboardInterrupt\u001b[0m                         Traceback (most recent call last)",
      "\u001b[1;32m/Users/hruler/Desktop/AlgorithmStudy/2024/02/240209.ipynb 셀 3\u001b[0m line \u001b[0;36m9\n\u001b[1;32m      <a href='vscode-notebook-cell:/Users/hruler/Desktop/AlgorithmStudy/2024/02/240209.ipynb#W2sZmlsZQ%3D%3D?line=6'>7</a>\u001b[0m result \u001b[39m=\u001b[39m \u001b[39m1\u001b[39m\n\u001b[1;32m      <a href='vscode-notebook-cell:/Users/hruler/Desktop/AlgorithmStudy/2024/02/240209.ipynb#W2sZmlsZQ%3D%3D?line=7'>8</a>\u001b[0m \u001b[39mfor\u001b[39;00m i \u001b[39min\u001b[39;00m \u001b[39mrange\u001b[39m(\u001b[39m1\u001b[39m, n\u001b[39m+\u001b[39m\u001b[39m1\u001b[39m):\n\u001b[0;32m----> <a href='vscode-notebook-cell:/Users/hruler/Desktop/AlgorithmStudy/2024/02/240209.ipynb#W2sZmlsZQ%3D%3D?line=8'>9</a>\u001b[0m     result \u001b[39m=\u001b[39m (result \u001b[39m*\u001b[39m (i \u001b[39m%\u001b[39m p))\n\u001b[1;32m     <a href='vscode-notebook-cell:/Users/hruler/Desktop/AlgorithmStudy/2024/02/240209.ipynb#W2sZmlsZQ%3D%3D?line=10'>11</a>\u001b[0m \u001b[39mprint\u001b[39m(result \u001b[39m%\u001b[39m p)\n",
      "\u001b[0;31mKeyboardInterrupt\u001b[0m: "
     ]
    }
   ],
   "source": [
    "# 백준 17466번 - N! mod P (1)\n",
    "import sys\n",
    "# input = sys.stdin.readline\n",
    "\n",
    "n, p = map(int, input().strip().split())\n",
    "\n",
    "result = 1\n",
    "for i in range(1, n+1):\n",
    "    result *= i\n",
    "    result %= p\n",
    "\n",
    "print(result)"
   ]
  },
  {
   "cell_type": "code",
   "execution_count": 11,
   "metadata": {},
   "outputs": [
    {
     "name": "stdout",
     "output_type": "stream",
     "text": [
      "ogfray\n",
      "appleay\n",
      "earpay\n"
     ]
    }
   ],
   "source": [
    "# 백준 9226번 - 도깨비말\n",
    "import sys\n",
    "# input = sys.stdin.readline\n",
    "\n",
    "vowel_list = \"aeiou\"\n",
    "\n",
    "while True:\n",
    "    s = input().strip()\n",
    "    if s == \"#\":\n",
    "        break\n",
    "    vowel = 0\n",
    "    for i in range(len(s)):\n",
    "        if s[i] in vowel_list:\n",
    "            vowel = i\n",
    "            break\n",
    "\n",
    "    print(s[vowel:] + s[:vowel] + \"ay\")"
   ]
  },
  {
   "cell_type": "code",
   "execution_count": 39,
   "metadata": {},
   "outputs": [
    {
     "name": "stdout",
     "output_type": "stream",
     "text": [
      "1520\n",
      "1\n",
      "1521\n",
      "1\n",
      "1522\n",
      "1\n",
      "1523\n",
      "1\n",
      "1524\n",
      "1\n",
      "1525\n",
      "1\n",
      "1526\n",
      "1\n",
      "1527\n",
      "1\n",
      "1528\n",
      "1\n",
      "1529\n",
      "1\n",
      "1530\n",
      "2\n",
      "1531\n",
      "2\n",
      "1532\n",
      "2\n",
      "1533\n",
      "2\n",
      "1534\n",
      "2\n",
      "1535\n",
      "2\n",
      "1536\n",
      "2\n",
      "1537\n",
      "2\n",
      "1538\n",
      "2\n",
      "1539\n",
      "2\n",
      "1540\n",
      "3\n",
      "3\n"
     ]
    }
   ],
   "source": [
    "# 백준 14625번 - 냉동식품\n",
    "import sys\n",
    "# input = sys.stdin.readline\n",
    "\n",
    "st_h, st_m = map(int, input().strip().split())\n",
    "en_h, en_m = map(int, input().strip().split())\n",
    "n = input().strip()\n",
    "\n",
    "result = 0\n",
    "\n",
    "for i in range(st_h, en_h+1):\n",
    "    if i == st_h and i == en_h:\n",
    "        for j in range(st_m, en_m+1):\n",
    "            if n in str(i).zfill(2) + str(j).zfill(2):\n",
    "                result += 1\n",
    "    elif i == st_h:\n",
    "        for j in range(st_m, 60):\n",
    "            if n in str(i).zfill(2) + str(j).zfill(2):\n",
    "                result += 1\n",
    "    elif i == en_h:\n",
    "        for j in range(0, en_m+1):\n",
    "            if n in str(i).zfill(2) + str(j).zfill(2):\n",
    "                result += 1\n",
    "    else:\n",
    "        for j in range(0, 60):\n",
    "            if n in str(i).zfill(2) + str(j).zfill(2):\n",
    "                result += 1\n",
    "        \n",
    "print(result)"
   ]
  },
  {
   "cell_type": "code",
   "execution_count": null,
   "metadata": {},
   "outputs": [],
   "source": [
    "15 20\n",
    "16 0\n",
    "2"
   ]
  },
  {
   "cell_type": "code",
   "execution_count": 16,
   "metadata": {},
   "outputs": [
    {
     "data": {
      "text/plain": [
       "'00'"
      ]
     },
     "execution_count": 16,
     "metadata": {},
     "output_type": "execute_result"
    }
   ],
   "source": [
    "\"0\".zfill(2) # 02"
   ]
  },
  {
   "cell_type": "code",
   "execution_count": null,
   "metadata": {},
   "outputs": [],
   "source": []
  }
 ],
 "metadata": {
  "kernelspec": {
   "display_name": "Python 3",
   "language": "python",
   "name": "python3"
  },
  "language_info": {
   "codemirror_mode": {
    "name": "ipython",
    "version": 3
   },
   "file_extension": ".py",
   "mimetype": "text/x-python",
   "name": "python",
   "nbconvert_exporter": "python",
   "pygments_lexer": "ipython3",
   "version": "3.11.1"
  }
 },
 "nbformat": 4,
 "nbformat_minor": 2
}
