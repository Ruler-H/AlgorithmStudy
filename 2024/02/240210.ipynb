{
 "cells": [
  {
   "cell_type": "code",
   "execution_count": 11,
   "metadata": {},
   "outputs": [
    {
     "name": "stdout",
     "output_type": "stream",
     "text": [
      "[2, 3, 6]\n",
      "2\n",
      "3\n",
      "3\n",
      "1\n",
      "1\n"
     ]
    }
   ],
   "source": [
    "# 백준 15813번 - 너의 이름은 몇 점이니?\n",
    "import sys\n",
    "# input = sys.stdin.readline\n",
    "\n",
    "n = int(input().strip())\n",
    "name = input().strip()\n",
    "score = 0\n",
    "for i in name:\n",
    "    score += ord(i) - 64\n",
    "\n",
    "print(score)"
   ]
  },
  {
   "cell_type": "code",
   "execution_count": null,
   "metadata": {},
   "outputs": [],
   "source": [
    "# 백준 22966번 - 가장 쉬운 문제를 찾는 문제\n",
    "import sys\n",
    "# input = sys.stdin.readline\n",
    "\n",
    "n = int(input().strip())\n",
    "\n",
    "min_score = 5\n",
    "\n",
    "for _ in range(n):\n",
    "    name, score = input().strip().split()\n",
    "    score = int(score)\n",
    "    if score < min_score:\n",
    "        min_score = score\n",
    "        min_name = name\n",
    "\n",
    "print(min_name)"
   ]
  },
  {
   "cell_type": "code",
   "execution_count": 4,
   "metadata": {},
   "outputs": [
    {
     "name": "stdout",
     "output_type": "stream",
     "text": [
      "AJSJJ"
     ]
    }
   ],
   "source": [
    "# 백준 3181번 - 줄임말 만들기\n",
    "import sys\n",
    "# input = sys.stdin.readline\n",
    "\n",
    "words = input().strip().split()\n",
    "needless_word = ['i', 'pa', 'te', 'ni', 'niti', 'a', 'ali', 'nego', 'no', 'ili']\n",
    "print(words[0][0].upper(), end=\"\")\n",
    "for i in range(1, len(words)):\n",
    "    if words[i] not in needless_word:\n",
    "        print(words[i][0].upper(), end=\"\")"
   ]
  },
  {
   "cell_type": "code",
   "execution_count": 12,
   "metadata": {},
   "outputs": [
    {
     "name": "stdout",
     "output_type": "stream",
     "text": [
      "4\n"
     ]
    }
   ],
   "source": [
    "# 백준 1440번 - 타임머신\n",
    "import sys\n",
    "# input = sys.stdin.readline\n",
    "\n",
    "time = input().strip().split(\":\")\n",
    "\n",
    "cnt = 0\n",
    "\n",
    "for i in time:\n",
    "    if int(i) >= 60:\n",
    "        cnt = 0\n",
    "        break\n",
    "    if 1 <= int(i) <= 12:\n",
    "        cnt += 2\n",
    "\n",
    "print(cnt)"
   ]
  },
  {
   "cell_type": "code",
   "execution_count": null,
   "metadata": {},
   "outputs": [],
   "source": [
    "# 백준 15351번 - 인생 점수\n",
    "import sys\n",
    "# input = sys.stdin.readline\n",
    "\n",
    "n = int(input().strip())\n",
    "\n",
    "for _ in range(n):\n",
    "    name = input().strip()\n",
    "    score = 0\n",
    "    for i in name:\n",
    "        if i.isalpha():\n",
    "            score += ord(i) - 64\n",
    "    if score == 100:\n",
    "        print(\"PERFECT LIFE\")\n",
    "    else:\n",
    "        print(score)"
   ]
  },
  {
   "cell_type": "code",
   "execution_count": 20,
   "metadata": {},
   "outputs": [
    {
     "name": "stdout",
     "output_type": "stream",
     "text": [
      "29\n",
      "2728\n",
      "70\n"
     ]
    }
   ],
   "source": [
    "# 백준 1942번 - 디지털시계\n",
    "import sys\n",
    "# input = sys.stdin.readline\n",
    "\n",
    "for _ in range(3):\n",
    "    start, end = input().strip().split()\n",
    "    start = list(map(int, start.split(\":\")))\n",
    "    end = list(map(int, end.split(\":\")))\n",
    "    cnt = 0\n",
    "    start = start[0] * 3600 + start[1] * 60 + start[2]\n",
    "    end = end[0] * 3600 + end[1] * 60 + end[2]\n",
    "    if start > end:\n",
    "        end += 24 * 3600\n",
    "        \n",
    "    for i in range(start, end + 1):\n",
    "        time_str = str(i // 3600).zfill(2)\n",
    "        i %= 3600\n",
    "        time_str += str(i // 60).zfill(2)\n",
    "        i %= 60\n",
    "        time_str += str(i).zfill(2)\n",
    "        if int(time_str) % 3 == 0:\n",
    "            cnt += 1\n",
    "\n",
    "    print(cnt)\n",
    "        "
   ]
  },
  {
   "cell_type": "code",
   "execution_count": null,
   "metadata": {},
   "outputs": [],
   "source": [
    "00:59:58 01:01:24\n",
    "22:47:03 01:03:24\n",
    "00:00:09 00:03:37"
   ]
  }
 ],
 "metadata": {
  "kernelspec": {
   "display_name": "Python 3",
   "language": "python",
   "name": "python3"
  },
  "language_info": {
   "codemirror_mode": {
    "name": "ipython",
    "version": 3
   },
   "file_extension": ".py",
   "mimetype": "text/x-python",
   "name": "python",
   "nbconvert_exporter": "python",
   "pygments_lexer": "ipython3",
   "version": "3.11.6"
  }
 },
 "nbformat": 4,
 "nbformat_minor": 2
}
