{
 "cells": [
  {
   "cell_type": "code",
   "execution_count": 11,
   "metadata": {},
   "outputs": [
    {
     "name": "stdout",
     "output_type": "stream",
     "text": [
      "[2, 3, 6]\n",
      "2\n",
      "3\n",
      "3\n",
      "1\n",
      "1\n"
     ]
    }
   ],
   "source": [
    "# 백준 4597번 - 패리티\n",
    "import sys\n",
    "# input = sys.stdin.readline\n",
    "\n",
    "while True:\n",
    "    num = input().strip()\n",
    "    if num == \"#\":\n",
    "        break\n",
    "    if num.count(\"1\") % 2 == 0:\n",
    "        if num[-1] == \"e\":\n",
    "            print(num[:-1] + \"0\")\n",
    "        else:\n",
    "            print(num[:-1] + \"1\")\n",
    "    else:\n",
    "        if num[-1] == \"e\":\n",
    "            print(num[:-1] + \"1\")\n",
    "        else:\n",
    "            print(num[:-1] + \"0\")"
   ]
  },
  {
   "cell_type": "code",
   "execution_count": null,
   "metadata": {},
   "outputs": [],
   "source": [
    "# 백준 19946번 - 2의 제곱수 계산하기\n",
    "import sys\n",
    "# input = sys.stdin.readline\n",
    "\n",
    "n = int(input())\n",
    "\n",
    "rs = 64\n",
    "\n",
    "while n % 2 == 0:\n",
    "    n //= 2\n",
    "    rs -= 1\n",
    "\n",
    "print(rs)"
   ]
  },
  {
   "cell_type": "code",
   "execution_count": null,
   "metadata": {},
   "outputs": [],
   "source": [
    "# 백준 4564번 - 숫자 카드놀이\n",
    "import sys\n",
    "# input = sys.stdin.readline\n",
    "\n",
    "while True:\n",
    "    num = input().strip()\n",
    "    if num == \"0\":\n",
    "        break\n",
    "    print(num, end=\" \")\n",
    "    while len(num) > 1:\n",
    "        result = 1\n",
    "        for i in num:\n",
    "            result *= int(i)\n",
    "        print(result, end=\" \")\n",
    "        num = str(result)\n",
    "    print()"
   ]
  },
  {
   "cell_type": "code",
   "execution_count": 6,
   "metadata": {},
   "outputs": [
    {
     "name": "stdout",
     "output_type": "stream",
     "text": [
      "2041-07-29\n"
     ]
    }
   ],
   "source": [
    "# 백준 10420번 - 기념일 1\n",
    "import sys\n",
    "# input = sys.stdin.readline\n",
    "\n",
    "months = [31, 28, 31, 30, 31, 30, 31, 31, 30, 31, 30, 31]\n",
    "\n",
    "n = int(input()) - 1\n",
    "\n",
    "year = 2014\n",
    "month = 4\n",
    "day = 2\n",
    "\n",
    "while n > 0:\n",
    "    if year % 400 == 0 or (year % 4 == 0 and year % 100 != 0):\n",
    "        months[1] = 29\n",
    "    else:\n",
    "        months[1] = 28\n",
    "    day += 1\n",
    "    if day > months[month-1]:\n",
    "        month += 1\n",
    "        day = 1\n",
    "    if month > 12:\n",
    "        year += 1\n",
    "        month = 1\n",
    "    n -= 1\n",
    "\n",
    "print(f'{year}-{month:02d}-{day:02d}')"
   ]
  },
  {
   "cell_type": "code",
   "execution_count": 8,
   "metadata": {},
   "outputs": [
    {
     "name": "stdout",
     "output_type": "stream",
     "text": [
      "6\n"
     ]
    }
   ],
   "source": [
    "# 백준 14614번 - Calculate!\n",
    "import sys\n",
    "# input = sys.stdin.readline\n",
    "\n",
    "a, b, c = map(int, input().split())\n",
    "\n",
    "if c % 2 == 0:\n",
    "    print(a)\n",
    "else:\n",
    "    print(a ^ b)"
   ]
  },
  {
   "cell_type": "code",
   "execution_count": null,
   "metadata": {},
   "outputs": [],
   "source": [
    "# 백준 4998번 - 저금\n",
    "import sys\n",
    "# input = sys.stdin.readline\n",
    "\n",
    "year = 0\n",
    "while True:\n",
    "    try:\n",
    "        money, interest, goal = map(float, input().split())\n",
    "        interest = 1 + interest / 100\n",
    "        while money < goal:\n",
    "            money *= interest\n",
    "            year += 1\n",
    "        print(year)\n",
    "        year = 0\n",
    "    except:\n",
    "        break"
   ]
  },
  {
   "cell_type": "code",
   "execution_count": 20,
   "metadata": {},
   "outputs": [
    {
     "name": "stdout",
     "output_type": "stream",
     "text": [
      "0\n"
     ]
    }
   ],
   "source": [
    "# 백준 16674번 - 2018년을 되돌아보며\n",
    "import sys\n",
    "# input = sys.stdin.readline\n",
    "\n",
    "n = input().strip()\n",
    "\n",
    "if len(n) == n.count(\"2\") + n.count(\"0\") + n.count(\"1\") + n.count(\"8\"):\n",
    "    if n.count(\"2\") == n.count(\"0\") == n.count(\"1\") == n.count(\"8\"):\n",
    "        print(8)\n",
    "    elif n.count(\"2\") > 0 and n.count(\"0\") > 0 and n.count(\"1\") > 0 and n.count(\"8\") > 0:\n",
    "        print(2)\n",
    "    else:\n",
    "        print(1)\n",
    "else:\n",
    "    print(0)"
   ]
  },
  {
   "cell_type": "code",
   "execution_count": 22,
   "metadata": {},
   "outputs": [
    {
     "name": "stdout",
     "output_type": "stream",
     "text": [
      "26\n"
     ]
    }
   ],
   "source": [
    "# 백준 18238번 - ZOAC 2\n",
    "import sys\n",
    "# input = sys.stdin.readline\n",
    "\n",
    "inp_str = input().strip()\n",
    "\n",
    "rs = 0\n",
    "prev = \"A\"\n",
    "for i in inp_str:\n",
    "    if ord(i) - ord(prev) < 0:\n",
    "        time = ord(prev) - ord(i)\n",
    "        if time > 13:\n",
    "            time = 26 - time\n",
    "    else:\n",
    "        time = ord(i) - ord(prev)\n",
    "        if time > 13:\n",
    "            time = 26 - time\n",
    "    rs += time\n",
    "    prev = i\n",
    "\n",
    "print(rs)"
   ]
  },
  {
   "cell_type": "code",
   "execution_count": null,
   "metadata": {},
   "outputs": [],
   "source": [
    "# 백준 23251번 - 스물셋\n",
    "import sys\n",
    "# input = sys.stdin.readline\n",
    "\n",
    "t = int(input())\n",
    "\n",
    "for _ in range(t):\n",
    "    n = int(input())\n",
    "    print(n * 23)"
   ]
  }
 ],
 "metadata": {
  "kernelspec": {
   "display_name": "Python 3",
   "language": "python",
   "name": "python3"
  },
  "language_info": {
   "codemirror_mode": {
    "name": "ipython",
    "version": 3
   },
   "file_extension": ".py",
   "mimetype": "text/x-python",
   "name": "python",
   "nbconvert_exporter": "python",
   "pygments_lexer": "ipython3",
   "version": "3.11.6"
  }
 },
 "nbformat": 4,
 "nbformat_minor": 2
}
