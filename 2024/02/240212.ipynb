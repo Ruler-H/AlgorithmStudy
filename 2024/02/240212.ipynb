{
 "cells": [
  {
   "cell_type": "code",
   "execution_count": 4,
   "metadata": {},
   "outputs": [
    {
     "data": {
      "text/plain": [
       "'rotator'"
      ]
     },
     "execution_count": 4,
     "metadata": {},
     "output_type": "execute_result"
    }
   ],
   "source": [
    "# 백준 17502번 - 클레어와 팰린드롬\n",
    "import sys\n",
    "# input = sys.stdin.readline\n",
    "\n",
    "n = int(input().strip())\n",
    "\n",
    "s = list(input().strip())\n",
    "for i in range(n):\n",
    "    if s[i] == \"?\":\n",
    "        fel_str = s[n - i - 1]\n",
    "        if fel_str == \"?\":\n",
    "            s[i] = \"a\"\n",
    "            fel_str = \"a\"\n",
    "        else:\n",
    "            s[i] = fel_str\n",
    "\n",
    "print(\"\".join(s))"
   ]
  },
  {
   "cell_type": "code",
   "execution_count": 8,
   "metadata": {},
   "outputs": [
    {
     "name": "stdout",
     "output_type": "stream",
     "text": [
      "0 0 1 1\n",
      "0 0 1 1\n",
      "1 1 0 0\n",
      "1 1 0 0\n"
     ]
    }
   ],
   "source": [
    "# 백준 20205번 - 교수님 그림이 깨지는데요?\n",
    "import sys\n",
    "# input = sys.stdin.readline\n",
    "\n",
    "n, k = map(int, input().strip().split())\n",
    "\n",
    "bit_map = [list(map(int, input().strip().split())) for _ in range(n)]\n",
    "\n",
    "for i in bit_map:\n",
    "    new_bit = \"\"\n",
    "    for j in i:\n",
    "        new_bit += (f\"{j} \" * k)\n",
    "    for j in range(k):\n",
    "        print(new_bit.strip())"
   ]
  },
  {
   "cell_type": "code",
   "execution_count": 10,
   "metadata": {},
   "outputs": [
    {
     "name": "stdout",
     "output_type": "stream",
     "text": [
      "1 2 1 2 3\n"
     ]
    }
   ],
   "source": [
    "# 백준 21313번 - 문어\n",
    "import sys\n",
    "# input = sys.stdin.readline\n",
    "\n",
    "n = int(input().strip())\n",
    "\n",
    "if n % 2 == 0:\n",
    "    print(\" \".join([\"1\", \"2\"] * (n // 2)))\n",
    "else:\n",
    "    print(\" \".join([\"1\", \"2\"] * (n // 2)) + \" 3\")"
   ]
  },
  {
   "cell_type": "code",
   "execution_count": 3,
   "metadata": {},
   "outputs": [
    {
     "name": "stdout",
     "output_type": "stream",
     "text": [
      "26\n"
     ]
    }
   ],
   "source": [
    "# 백준 28062번 - 준석이의 사탕 사기\n",
    "import sys\n",
    "# input = sys.stdin.readline\n",
    "\n",
    "n = int(input().strip())\n",
    "candy_list = list(map(int, input().strip().split()))\n",
    "rs = 0\n",
    "\n",
    "new_candy_list = []\n",
    "for candy in candy_list:\n",
    "    if candy % 2 == 0:\n",
    "        rs += candy\n",
    "    else:\n",
    "        new_candy_list.append(candy)\n",
    "new_candy_list.sort(reverse=True)\n",
    "\n",
    "if len(new_candy_list) % 2 == 1:\n",
    "    rs += sum(new_candy_list[:-1])\n",
    "else:\n",
    "    rs += sum(new_candy_list)\n",
    "\n",
    "print(rs)"
   ]
  },
  {
   "cell_type": "code",
   "execution_count": 4,
   "metadata": {},
   "outputs": [
    {
     "ename": "AttributeError",
     "evalue": "'int' object has no attribute 'count'",
     "output_type": "error",
     "traceback": [
      "\u001b[1;31m---------------------------------------------------------------------------\u001b[0m",
      "\u001b[1;31mAttributeError\u001b[0m                            Traceback (most recent call last)",
      "Cell \u001b[1;32mIn[4], line 10\u001b[0m\n\u001b[0;32m      7\u001b[0m max_cnt \u001b[38;5;241m=\u001b[39m \u001b[38;5;241m0\u001b[39m\n\u001b[0;32m      9\u001b[0m \u001b[38;5;28;01mfor\u001b[39;00m _ \u001b[38;5;129;01min\u001b[39;00m \u001b[38;5;28mrange\u001b[39m(c):\n\u001b[1;32m---> 10\u001b[0m     cnt \u001b[38;5;241m=\u001b[39m \u001b[43mc\u001b[49m\u001b[38;5;241;43m.\u001b[39;49m\u001b[43mcount\u001b[49m(\u001b[38;5;124m\"\u001b[39m\u001b[38;5;124mfor\u001b[39m\u001b[38;5;124m\"\u001b[39m)\n\u001b[0;32m     11\u001b[0m     cnt \u001b[38;5;241m+\u001b[39m\u001b[38;5;241m=\u001b[39m c\u001b[38;5;241m.\u001b[39mcount(\u001b[38;5;124m\"\u001b[39m\u001b[38;5;124mwhile\u001b[39m\u001b[38;5;124m\"\u001b[39m)\n\u001b[0;32m     12\u001b[0m     max_cnt \u001b[38;5;241m=\u001b[39m \u001b[38;5;28mmax\u001b[39m(max_cnt, cnt)\n",
      "\u001b[1;31mAttributeError\u001b[0m: 'int' object has no attribute 'count'"
     ]
    }
   ],
   "source": [
    "# 백준 24510번 - 시간복잡도를 배운 도도\n",
    "import sys\n",
    "# input = sys.stdin.readline\n",
    "\n",
    "c = int(input().strip())\n",
    "\n",
    "max_cnt = 0\n",
    "\n",
    "for _ in range(c):\n",
    "    code = input()\n",
    "    cnt = code.count(\"for\")\n",
    "    cnt += code.count(\"while\")\n",
    "    max_cnt = max(max_cnt, cnt)\n",
    "\n",
    "print(max_cnt)"
   ]
  },
  {
   "cell_type": "code",
   "execution_count": 6,
   "metadata": {},
   "outputs": [
    {
     "name": "stdout",
     "output_type": "stream",
     "text": [
      " smile.\n"
     ]
    }
   ],
   "source": [
    "# 백준 11094번 - 꿍 가라사대\n",
    "import sys\n",
    "# input = sys.stdin.readline\n",
    "\n",
    "n = int(input().strip())\n",
    "\n",
    "for _ in range(n):\n",
    "    order = input().strip()\n",
    "\n",
    "    if \"Simon says\" in order:\n",
    "        print(order.replace(\"Simon says\", \"\"))"
   ]
  },
  {
   "cell_type": "code",
   "execution_count": 11,
   "metadata": {},
   "outputs": [
    {
     "name": "stdout",
     "output_type": "stream",
     "text": [
      "70.5\n",
      "71\n"
     ]
    },
    {
     "ename": "",
     "evalue": "",
     "output_type": "error",
     "traceback": [
      "\u001b[1;31m현재 셀 또는 이전 셀에서 코드를 실행하는 동안 Kernel이 충돌했습니다. \n",
      "\u001b[1;31m셀의 코드를 검토하여 가능한 오류 원인을 식별하세요. \n",
      "\u001b[1;31m자세한 내용을 보려면 <a href='https://aka.ms/vscodeJupyterKernelCrash'>여기</a>를 클릭하세요. \n",
      "\u001b[1;31m자세한 내용은 Jupyter <a href='command:jupyter.viewOutput'>로그</a>를 참조하세요."
     ]
    }
   ],
   "source": [
    "# 백준 16462번 - '나교수' 교수님의 악필\n",
    "import sys\n",
    "# input = sys.stdin.readline\n",
    "\n",
    "n = int(input().strip())\n",
    "total = 0\n",
    "\n",
    "for _ in range(n):\n",
    "    q = input().strip()\n",
    "    q = q.replace(\"0\", \"9\")\n",
    "    q = q.replace(\"6\", \"9\")\n",
    "    q = int(q)\n",
    "    if q > 100:\n",
    "        q = 100\n",
    "    total += int(q)\n",
    "\n",
    "print(int(total / n + 0.5))"
   ]
  }
 ],
 "metadata": {
  "kernelspec": {
   "display_name": "Python 3",
   "language": "python",
   "name": "python3"
  },
  "language_info": {
   "codemirror_mode": {
    "name": "ipython",
    "version": 3
   },
   "file_extension": ".py",
   "mimetype": "text/x-python",
   "name": "python",
   "nbconvert_exporter": "python",
   "pygments_lexer": "ipython3",
   "version": "3.11.6"
  }
 },
 "nbformat": 4,
 "nbformat_minor": 2
}
