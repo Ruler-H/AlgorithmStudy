{
 "cells": [
  {
   "cell_type": "code",
   "execution_count": 2,
   "metadata": {},
   "outputs": [
    {
     "name": "stdout",
     "output_type": "stream",
     "text": [
      "10\n"
     ]
    }
   ],
   "source": [
    "# 백준 2408번 - 큰 수 계산\n",
    "import sys\n",
    "# input = sys.stdin.readline\n",
    "\n",
    "n = int(input().strip())\n",
    "\n",
    "arr = [int(input().strip())]\n",
    "for i in range(n - 1):\n",
    "    inp = input().strip()\n",
    "    num = int(input().strip())\n",
    "    if inp == \"*\":\n",
    "        arr[-1] *= num\n",
    "    elif inp == \"/\":\n",
    "        arr[-1] //= num\n",
    "    else:\n",
    "        arr.append(inp)\n",
    "        arr.append(num)\n",
    "\n",
    "rs = arr[0]\n",
    "for i in range(1, len(arr), 2):\n",
    "    if arr[i] == \"+\":\n",
    "        rs += arr[i + 1]\n",
    "    else:\n",
    "        rs -= arr[i + 1]\n",
    "\n",
    "print(rs)"
   ]
  },
  {
   "cell_type": "code",
   "execution_count": 3,
   "metadata": {},
   "outputs": [
    {
     "name": "stdout",
     "output_type": "stream",
     "text": [
      "ACM CONTEST\n",
      "\n"
     ]
    }
   ],
   "source": [
    "# 백준 2703번 - Cryptoquote\n",
    "import sys\n",
    "# input = sys.stdin.readline\n",
    "\n",
    "t = int(input().strip())\n",
    "\n",
    "for _ in range(t):\n",
    "    s = input().strip()\n",
    "    c = input().strip()\n",
    "    for i in range(len(s)):\n",
    "        if s[i] == \" \":\n",
    "            print(\" \", end=\"\")\n",
    "        else:\n",
    "            print(c[ord(s[i]) - 65], end=\"\")\n",
    "    print()"
   ]
  },
  {
   "cell_type": "code",
   "execution_count": 14,
   "metadata": {},
   "outputs": [
    {
     "name": "stdout",
     "output_type": "stream",
     "text": [
      "No\n"
     ]
    }
   ],
   "source": [
    "# 백준 7789번 - 텔레프라임\n",
    "import sys\n",
    "# input = sys.stdin.readline\n",
    "\n",
    "num, add = map(str, input().strip().split())\n",
    "\n",
    "if int(add + num) % 2 == 0:\n",
    "    print(\"No\")\n",
    "else:\n",
    "    for i in range(2, int((int(add + num) ** 0.5)) + 1):\n",
    "        if int(add + num) % i == 0:\n",
    "            print(\"No\")\n",
    "            break\n",
    "    else:\n",
    "        for i in range(2, int((int(num) ** 0.5)) + 1):\n",
    "            if int(num) % i == 0:\n",
    "                print(\"No\")\n",
    "                break\n",
    "        else:\n",
    "            print(\"Yes\")"
   ]
  },
  {
   "cell_type": "code",
   "execution_count": 19,
   "metadata": {},
   "outputs": [
    {
     "name": "stdout",
     "output_type": "stream",
     "text": [
      "[3, 2]\n",
      "2\n"
     ]
    }
   ],
   "source": [
    "# 백준 10040번 - 투표\n",
    "import sys\n",
    "# input = sys.stdin.readline\n",
    "\n",
    "n, m = map(int, input().strip().split())\n",
    "arr = []\n",
    "for _ in range(n):\n",
    "    arr.append([int(input().strip()), 0])\n",
    "\n",
    "for _ in range(m):\n",
    "    vote = int(input().strip())\n",
    "    for i in range(n):\n",
    "        if arr[i][0] <= vote:\n",
    "            arr[i][1] += 1\n",
    "            break\n",
    "print(arr.index(max(arr, key = lambda x: x[1])) + 1)"
   ]
  },
  {
   "cell_type": "code",
   "execution_count": 22,
   "metadata": {},
   "outputs": [
    {
     "name": "stdout",
     "output_type": "stream",
     "text": [
      "sssssss\n",
      "mmmmmmmmmm\n",
      "uuuuuuuuu\n",
      "pppp\n",
      "cccccccccccccccccc\n"
     ]
    }
   ],
   "source": [
    "# 백준 21734번 - SMUPC의 등장\n",
    "import sys\n",
    "# input = sys.stdin.readline\n",
    "\n",
    "s = input().strip()\n",
    "\n",
    "for i in range(len(s)):\n",
    "    letter = s[i]\n",
    "    rs = 0\n",
    "    for j in str(ord(letter)):\n",
    "        rs += int(j)\n",
    "    print(letter * rs)"
   ]
  },
  {
   "cell_type": "code",
   "execution_count": 25,
   "metadata": {},
   "outputs": [
    {
     "name": "stdout",
     "output_type": "stream",
     "text": [
      "1\n"
     ]
    }
   ],
   "source": [
    "# 백준 25205번 - 경로당펑크 2077\n",
    "import sys\n",
    "# input = sys.stdin.readline\n",
    "\n",
    "n = int(input().strip())\n",
    "s = input().strip()\n",
    "\n",
    "consonant = \"qwertasdfgzxcv\"\n",
    "\n",
    "if s[-1] in consonant:\n",
    "    print(1)\n",
    "else:\n",
    "    print(0)"
   ]
  },
  {
   "cell_type": "code",
   "execution_count": null,
   "metadata": {},
   "outputs": [],
   "source": [
    "# 백준 20124번 - 모르고리즘 회장님 추천 받습니다\n",
    "import sys\n",
    "# input = sys.stdin.readline\n",
    "\n",
    "n = int(input().strip())\n",
    "arr = []\n",
    "\n",
    "for _ in range(n):\n",
    "    name, score = input().strip().split()\n",
    "    arr.append((name, int(score)))\n",
    "\n",
    "arr.sort(key = lambda x: (-x[1], x[0]))\n",
    "print(arr[0][0])"
   ]
  },
  {
   "cell_type": "code",
   "execution_count": 36,
   "metadata": {},
   "outputs": [
    {
     "name": "stdout",
     "output_type": "stream",
     "text": [
      "2\n"
     ]
    }
   ],
   "source": [
    "# 백준 25495번 - 에어팟\n",
    "import sys\n",
    "# input = sys.stdin.readline\n",
    "\n",
    "n = int(input().strip())\n",
    "arr = list(map(int, input().strip().split()))\n",
    "\n",
    "rs = 2\n",
    "use_amount = 2\n",
    "for i in range(1, n):\n",
    "    if arr[i] == arr[i - 1]:\n",
    "        use_amount *= 2\n",
    "    else:\n",
    "        use_amount = 2\n",
    "\n",
    "    rs += use_amount\n",
    "    if rs >= 100:\n",
    "        rs = 0\n",
    "        use_amount = 1\n",
    "\n",
    "print(rs)"
   ]
  },
  {
   "cell_type": "code",
   "execution_count": null,
   "metadata": {},
   "outputs": [],
   "source": []
  }
 ],
 "metadata": {
  "kernelspec": {
   "display_name": "Python 3",
   "language": "python",
   "name": "python3"
  },
  "language_info": {
   "codemirror_mode": {
    "name": "ipython",
    "version": 3
   },
   "file_extension": ".py",
   "mimetype": "text/x-python",
   "name": "python",
   "nbconvert_exporter": "python",
   "pygments_lexer": "ipython3",
   "version": "3.11.6"
  }
 },
 "nbformat": 4,
 "nbformat_minor": 2
}
