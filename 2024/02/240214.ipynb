{
 "cells": [
  {
   "cell_type": "code",
   "execution_count": 2,
   "metadata": {},
   "outputs": [
    {
     "name": "stdout",
     "output_type": "stream",
     "text": [
      "10\n"
     ]
    }
   ],
   "source": [
    "# 백준 4613번 - Quicksum\n",
    "import sys\n",
    "# input = sys.stdin.readline\n",
    "\n",
    "while True:\n",
    "    string = input().strip()\n",
    "    if string == \"#\":\n",
    "        break\n",
    "    else:\n",
    "        result = 0\n",
    "        for i in range(len(string)):\n",
    "            if string[i] != \" \":\n",
    "                result += (i+1) * (ord(string[i]) - 64)\n",
    "        print(result)"
   ]
  },
  {
   "cell_type": "code",
   "execution_count": null,
   "metadata": {},
   "outputs": [],
   "source": [
    "# 백준 14710번 - 고장난 시계\n",
    "import sys\n",
    "# input = sys.stdin.readline\n",
    "\n",
    "hour, minute = map(int, input().split())\n",
    "\n",
    "if hour % 30 * 12 == minute:\n",
    "    print(\"O\")\n",
    "else:\n",
    "    print(\"X\")"
   ]
  },
  {
   "cell_type": "code",
   "execution_count": null,
   "metadata": {},
   "outputs": [],
   "source": [
    "# 백준 21867번 - Java Bitecode\n",
    "import sys\n",
    "# input = sys.stdin.readline\n",
    "\n",
    "n = int(input().strip())\n",
    "s = input().strip()\n",
    "s = s.replace(\"J\", \"\").replace(\"A\", \"\").replace(\"V\", \"\")\n",
    "if s == \"\":\n",
    "    print(\"nojava\")\n",
    "else:\n",
    "    print(s)"
   ]
  },
  {
   "cell_type": "code",
   "execution_count": null,
   "metadata": {},
   "outputs": [],
   "source": [
    "# 백준 14914번 - 사과와 바나나 나눠주기\n",
    "import sys\n",
    "# input = sys.stdin.readline\n",
    "\n",
    "a, b = map(int, input().strip().split())\n",
    "\n",
    "for i in range(1, min(a, b)+1):\n",
    "    if a % i == 0 and b % i == 0:\n",
    "        print(i, a//i, b//i)"
   ]
  },
  {
   "cell_type": "code",
   "execution_count": 3,
   "metadata": {},
   "outputs": [
    {
     "name": "stdout",
     "output_type": "stream",
     "text": [
      "1 11 12\n",
      "3 4 10\n",
      "4 5 6\n"
     ]
    }
   ],
   "source": [
    "# 백준 9437번 - 사라진 페이지 찾기\n",
    "import sys\n",
    "# input = sys.stdin.readline\n",
    "\n",
    "while True:\n",
    "    t = input().strip()\n",
    "    if t == \"0\":\n",
    "        break\n",
    "    else:\n",
    "        n, p = map(int, t.split())\n",
    "        for i in range(n // 4):\n",
    "            pages = [(i * 2) + 1, (i * 2) + 2, n - (i * 2) - 1, n - (i * 2)]\n",
    "            if p in pages:\n",
    "                pages.remove(p)\n",
    "                print(\" \".join(map(str, pages)))\n",
    "                break"
   ]
  },
  {
   "cell_type": "code",
   "execution_count": null,
   "metadata": {},
   "outputs": [],
   "source": []
  }
 ],
 "metadata": {
  "kernelspec": {
   "display_name": "Python 3",
   "language": "python",
   "name": "python3"
  },
  "language_info": {
   "codemirror_mode": {
    "name": "ipython",
    "version": 3
   },
   "file_extension": ".py",
   "mimetype": "text/x-python",
   "name": "python",
   "nbconvert_exporter": "python",
   "pygments_lexer": "ipython3",
   "version": "3.11.6"
  }
 },
 "nbformat": 4,
 "nbformat_minor": 2
}
