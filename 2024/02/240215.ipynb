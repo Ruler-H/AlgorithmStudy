{
 "cells": [
  {
   "cell_type": "code",
   "execution_count": 1,
   "metadata": {},
   "outputs": [
    {
     "name": "stdout",
     "output_type": "stream",
     "text": [
      "ABC\n",
      "CAB\n",
      "ACX\n",
      "BFZ\n",
      "K\n",
      "K\n",
      "D\n",
      "Y\n"
     ]
    }
   ],
   "source": [
    "# 백준 13419번 - 탕수육\n",
    "import sys\n",
    "# input = sys.stdin.readline\n",
    "\n",
    "t = int(input().strip())\n",
    "\n",
    "for _ in range(t):\n",
    "    s = input().strip()\n",
    "    if len(s) % 2 == 0:\n",
    "        print(s[::2])\n",
    "        print(s[1::2])\n",
    "    else:\n",
    "        print(s[::2], end=\"\")\n",
    "        print(s[1::2])\n",
    "        print(s[1::2], end=\"\")\n",
    "        print(s[::2])"
   ]
  },
  {
   "cell_type": "code",
   "execution_count": null,
   "metadata": {},
   "outputs": [],
   "source": [
    "# 백준 6246번 - 풍선 놀이\n",
    "import sys\n",
    "# input = sys.stdin.readline\n",
    "\n",
    "n, q = map(int, input().strip().split())\n",
    "\n",
    "balloons = [True] * n\n",
    "for _ in range(q):\n",
    "    start, interval = map(int, input().strip().split())\n",
    "    for i in range(start-1, n, interval):\n",
    "        balloons[i] = False\n",
    "print(balloons.count(True))"
   ]
  },
  {
   "cell_type": "code",
   "execution_count": null,
   "metadata": {},
   "outputs": [],
   "source": [
    "# 백준 6609번 - 모기곱셈\n",
    "import sys\n",
    "# input = sys.stdin.readline\n",
    "\n",
    "while True:\n",
    "    try:\n",
    "        M, P, L, E, R, S, N = map(int, input().strip().split())\n",
    "        for _ in range(N):\n",
    "            M, P, L = P//S, L//R, M*E\n",
    "        print(M)\n",
    "    except:\n",
    "        break"
   ]
  },
  {
   "cell_type": "code",
   "execution_count": null,
   "metadata": {},
   "outputs": [],
   "source": [
    "# 백준 18228번 - 펭귄추락대책위원회\n",
    "import sys\n",
    "# input = sys.stdin.readline\n",
    "\n",
    "n = int(input().strip())\n",
    "ice = list(map(int, input().strip().split()))\n",
    "\n",
    "peng = ice.index(-1)\n",
    "print(min(ice[:peng]) + min(ice[peng+1:]))"
   ]
  },
  {
   "cell_type": "code",
   "execution_count": null,
   "metadata": {},
   "outputs": [],
   "source": [
    "# 백준 14724번 - 관리자는 누구?\n",
    "import sys\n",
    "# input = sys.stdin.readline\n",
    "\n",
    "circles = ['PROBRAIN', 'GROW', 'ARGOS', 'ADMIN', 'ANT', 'MOTION', 'SPG', 'COMON', 'ALMIGHTY']\n",
    "\n",
    "n = int(input().strip())\n",
    "scores = [max(list(map(int, input().strip().split()))) for _ in range(9)]\n",
    "print(circles[scores.index(max(scores))])"
   ]
  },
  {
   "cell_type": "code",
   "execution_count": 6,
   "metadata": {},
   "outputs": [
    {
     "name": "stdout",
     "output_type": "stream",
     "text": [
      "20 19\n",
      "Red\n"
     ]
    }
   ],
   "source": [
    "# 백준 27522번 - 카트라이더: 드리프트\n",
    "import sys\n",
    "# input = sys.stdin.readline\n",
    "\n",
    "red = 0\n",
    "blue = 0\n",
    "\n",
    "records = []\n",
    "socres = [10, 8, 6, 5, 4, 3, 2, 1]\n",
    "\n",
    "for _ in range(8):\n",
    "    record, team = input().strip().split()\n",
    "    records.append([int(record.replace(':', '')), team])\n",
    "\n",
    "records.sort()\n",
    "\n",
    "for k, record in enumerate(records):\n",
    "    if record[1] == 'R':\n",
    "        red += socres[k]\n",
    "    else:\n",
    "        blue += socres[k]\n",
    "\n",
    "if red > blue:\n",
    "    print('Red')\n",
    "else:\n",
    "    print('Blue')"
   ]
  }
 ],
 "metadata": {
  "kernelspec": {
   "display_name": "Python 3",
   "language": "python",
   "name": "python3"
  },
  "language_info": {
   "codemirror_mode": {
    "name": "ipython",
    "version": 3
   },
   "file_extension": ".py",
   "mimetype": "text/x-python",
   "name": "python",
   "nbconvert_exporter": "python",
   "pygments_lexer": "ipython3",
   "version": "3.11.6"
  }
 },
 "nbformat": 4,
 "nbformat_minor": 2
}
