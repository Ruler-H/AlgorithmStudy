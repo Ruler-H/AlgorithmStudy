{
 "cells": [
  {
   "cell_type": "code",
   "execution_count": 3,
   "metadata": {},
   "outputs": [
    {
     "name": "stdout",
     "output_type": "stream",
     "text": [
      "1\n"
     ]
    }
   ],
   "source": [
    "# 백준 14561번 - 회문\n",
    "import sys\n",
    "# input = sys.stdin.readline\n",
    "\n",
    "t = int(input().strip())\n",
    "\n",
    "for _ in range(t):\n",
    "    rs = ''\n",
    "    n, b = map(int, input().strip().split())\n",
    "    while n > 0:\n",
    "        part_rs = n % b\n",
    "        if part_rs < 10:\n",
    "            rs += str(part_rs)\n",
    "        else:\n",
    "            rs += chr(part_rs + 55)\n",
    "        n = n // b\n",
    "    if rs == rs[::-1]:\n",
    "        print(1)\n",
    "    else:\n",
    "        print(0)"
   ]
  },
  {
   "cell_type": "code",
   "execution_count": null,
   "metadata": {},
   "outputs": [],
   "source": [
    "# 백준 15814번 - 야바위 대장\n",
    "import sys\n",
    "# input = sys.stdin.readline\n",
    "\n",
    "s = list(map(str, input().strip()))\n",
    "t = int(input().strip())\n",
    "for _ in range(t):\n",
    "    a, b = map(int, input().strip().split())\n",
    "    s[a], s[b] = s[b], s[a]\n",
    "print(''.join(s))"
   ]
  },
  {
   "cell_type": "code",
   "execution_count": null,
   "metadata": {},
   "outputs": [],
   "source": [
    "# 백준 17201번 - 자석 체인\n",
    "import sys\n",
    "# input = sys.stdin.readline\n",
    "\n",
    "n = int(input().strip())\n",
    "s = list(map(str, input().strip()))\n",
    "\n",
    "for i in range(1, len(s)):\n",
    "    if s[i] == s[i-1]:\n",
    "        print(\"No\")\n",
    "        sys.exit()\n",
    "print(\"Yes\")"
   ]
  }
 ],
 "metadata": {
  "kernelspec": {
   "display_name": "Python 3",
   "language": "python",
   "name": "python3"
  },
  "language_info": {
   "codemirror_mode": {
    "name": "ipython",
    "version": 3
   },
   "file_extension": ".py",
   "mimetype": "text/x-python",
   "name": "python",
   "nbconvert_exporter": "python",
   "pygments_lexer": "ipython3",
   "version": "3.11.6"
  }
 },
 "nbformat": 4,
 "nbformat_minor": 2
}
