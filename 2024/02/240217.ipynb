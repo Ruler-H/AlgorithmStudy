{
 "cells": [
  {
   "cell_type": "code",
   "execution_count": 1,
   "metadata": {},
   "outputs": [
    {
     "name": "stdout",
     "output_type": "stream",
     "text": [
      "Case #1: #0\n",
      "Case #2: #0\n",
      "Case #3: #0\n",
      "Case #4: #0\n"
     ]
    }
   ],
   "source": [
    "# 백준 3778번 - 애너그램 거리\n",
    "import sys\n",
    "# input = sys.stdin.readline\n",
    "\n",
    "n = int(input().strip())\n",
    "\n",
    "for k in range(n):\n",
    "    a = input().strip()\n",
    "    b = input().strip()\n",
    "    a_dict = {}\n",
    "    b_dict = {}\n",
    "    for i in a:\n",
    "        if i in a_dict:\n",
    "            a_dict[i] += 1\n",
    "        else:\n",
    "            a_dict[i] = 1\n",
    "    for i in b:\n",
    "        if i in b_dict:\n",
    "            b_dict[i] += 1\n",
    "        else:\n",
    "            b_dict[i] = 1\n",
    "    result = 0\n",
    "    for i in a_dict:\n",
    "        if i in b_dict:\n",
    "            result += abs(a_dict[i] - b_dict[i])\n",
    "        else:\n",
    "            result += a_dict[i]\n",
    "    for i in b_dict:\n",
    "        if i not in a_dict:\n",
    "            result += b_dict[i]\n",
    "    print(f'Case #{k+1}: {result}')"
   ]
  },
  {
   "cell_type": "code",
   "execution_count": 2,
   "metadata": {},
   "outputs": [
    {
     "name": "stdout",
     "output_type": "stream",
     "text": [
      "227\n"
     ]
    },
    {
     "ename": "ValueError",
     "evalue": "not enough values to unpack (expected 3, got 0)",
     "output_type": "error",
     "traceback": [
      "\u001b[1;31m---------------------------------------------------------------------------\u001b[0m",
      "\u001b[1;31mValueError\u001b[0m                                Traceback (most recent call last)",
      "Cell \u001b[1;32mIn[2], line 6\u001b[0m\n\u001b[0;32m      3\u001b[0m \u001b[38;5;66;03m# input = sys.stdin.readline\u001b[39;00m\n\u001b[0;32m      5\u001b[0m \u001b[38;5;28;01mwhile\u001b[39;00m \u001b[38;5;28;01mTrue\u001b[39;00m:\n\u001b[1;32m----> 6\u001b[0m     d, m, y \u001b[38;5;241m=\u001b[39m \u001b[38;5;28mmap\u001b[39m(\u001b[38;5;28mint\u001b[39m, \u001b[38;5;28minput\u001b[39m()\u001b[38;5;241m.\u001b[39mstrip()\u001b[38;5;241m.\u001b[39msplit())\n\u001b[0;32m      7\u001b[0m     \u001b[38;5;28;01mif\u001b[39;00m d \u001b[38;5;241m==\u001b[39m \u001b[38;5;241m0\u001b[39m \u001b[38;5;129;01mand\u001b[39;00m m \u001b[38;5;241m==\u001b[39m \u001b[38;5;241m0\u001b[39m \u001b[38;5;129;01mand\u001b[39;00m y \u001b[38;5;241m==\u001b[39m \u001b[38;5;241m0\u001b[39m:\n\u001b[0;32m      8\u001b[0m         \u001b[38;5;28;01mbreak\u001b[39;00m\n",
      "\u001b[1;31mValueError\u001b[0m: not enough values to unpack (expected 3, got 0)"
     ]
    }
   ],
   "source": [
    "# 백준 2139번 - 나는 너가 살아온 날을 알고 있다\n",
    "import sys\n",
    "# input = sys.stdin.readline\n",
    "\n",
    "while True:\n",
    "    d, m, y = map(int, input().strip().split())\n",
    "    if d == 0 and m == 0 and y == 0:\n",
    "        break\n",
    "    day = [31, 28, 31, 30, 31, 30, 31, 31, 30, 31, 30, 31]\n",
    "    if y % 4 == 0 and y % 100 != 0 or y % 400 == 0:\n",
    "        day[1] = 29\n",
    "    result = d\n",
    "    result += sum(day[:m-1])\n",
    "    print(result)"
   ]
  },
  {
   "cell_type": "code",
   "execution_count": 3,
   "metadata": {},
   "outputs": [
    {
     "name": "stdout",
     "output_type": "stream",
     "text": [
      "2000\n",
      "27000\n"
     ]
    }
   ],
   "source": [
    "# 백준 12836번 - 가계부 (Easy)\n",
    "import sys\n",
    "# input = sys.stdin.readline\n",
    "\n",
    "n, q = map(int, input().strip().split())\n",
    "\n",
    "bank = [0] * (n+1)\n",
    "\n",
    "for _ in range(q):\n",
    "    a, b, c = map(int, input().strip().split())\n",
    "    if a == 1:\n",
    "        bank[b] += c\n",
    "    else:\n",
    "        print(sum(bank[b:c+1]))"
   ]
  },
  {
   "cell_type": "code",
   "execution_count": 8,
   "metadata": {},
   "outputs": [
    {
     "name": "stdout",
     "output_type": "stream",
     "text": [
      "M EQ NSLR.\n"
     ]
    }
   ],
   "source": [
    "# 백준 15874번 - Caesar Cipher\n",
    "import sys\n",
    "# input = sys.stdin.readline\n",
    "\n",
    "k, s = map(int, input().strip().split())\n",
    "s = input().strip()\n",
    "result = ''\n",
    "for i in s:\n",
    "    if i.isupper():\n",
    "        result += chr((ord(i) - 65 + k) % 26 + 65)\n",
    "    elif i.islower():\n",
    "        result += chr((ord(i) - 97 + k) % 26 + 97)\n",
    "    else:\n",
    "        result += i\n",
    "print(result)"
   ]
  },
  {
   "cell_type": "code",
   "execution_count": 22,
   "metadata": {},
   "outputs": [
    {
     "name": "stdout",
     "output_type": "stream",
     "text": [
      "(100, 100, 100)\n"
     ]
    }
   ],
   "source": [
    "# 백준 3595번 - 맥주 냉장고\n",
    "import sys\n",
    "# input = sys.stdin.readline\n",
    "\n",
    "n = int(input().strip())\n",
    "beer = []\n",
    "\n",
    "for a in range(1, n // 2 + 1):\n",
    "    if n % a == 0:\n",
    "        for b in range(a, n // a + 1):\n",
    "            if (n // a) % b == 0:\n",
    "                beer.append((a, b, n // a // b))\n",
    "\n",
    "print(min(beer, key=lambda x: x[0] * x[1] + x[1] * x[2] + x[0] * x[2]))"
   ]
  },
  {
   "cell_type": "code",
   "execution_count": null,
   "metadata": {},
   "outputs": [],
   "source": []
  }
 ],
 "metadata": {
  "kernelspec": {
   "display_name": "Python 3",
   "language": "python",
   "name": "python3"
  },
  "language_info": {
   "codemirror_mode": {
    "name": "ipython",
    "version": 3
   },
   "file_extension": ".py",
   "mimetype": "text/x-python",
   "name": "python",
   "nbconvert_exporter": "python",
   "pygments_lexer": "ipython3",
   "version": "3.11.6"
  }
 },
 "nbformat": 4,
 "nbformat_minor": 2
}
