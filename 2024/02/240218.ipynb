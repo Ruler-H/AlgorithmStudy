{
 "cells": [
  {
   "cell_type": "code",
   "execution_count": 14,
   "metadata": {},
   "outputs": [
    {
     "name": "stdout",
     "output_type": "stream",
     "text": [
      "210\n"
     ]
    }
   ],
   "source": [
    "# 백준 1145번 - 적어도 대부분의 배수\n",
    "import sys\n",
    "# input = sys.stdin.readline\n",
    "\n",
    "nums = list(map(int, input().split()))\n",
    "result = 1\n",
    "\n",
    "while True:\n",
    "    cnt = 0\n",
    "    for num in nums:\n",
    "        if result % num == 0:\n",
    "            cnt += 1\n",
    "    if cnt >= 3:\n",
    "        print(result)\n",
    "        break\n",
    "    result += 1"
   ]
  },
  {
   "cell_type": "code",
   "execution_count": null,
   "metadata": {},
   "outputs": [],
   "source": []
  }
 ],
 "metadata": {
  "kernelspec": {
   "display_name": "Python 3",
   "language": "python",
   "name": "python3"
  },
  "language_info": {
   "codemirror_mode": {
    "name": "ipython",
    "version": 3
   },
   "file_extension": ".py",
   "mimetype": "text/x-python",
   "name": "python",
   "nbconvert_exporter": "python",
   "pygments_lexer": "ipython3",
   "version": "3.11.6"
  }
 },
 "nbformat": 4,
 "nbformat_minor": 2
}
