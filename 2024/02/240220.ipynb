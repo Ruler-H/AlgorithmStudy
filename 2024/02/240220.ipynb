{
 "cells": [
  {
   "cell_type": "code",
   "execution_count": 5,
   "metadata": {},
   "outputs": [
    {
     "name": "stdout",
     "output_type": "stream",
     "text": [
      "[['FRANK', 64], ['DANO', 16], ['JACOB', 16]]\n",
      "FRANK\n"
     ]
    }
   ],
   "source": [
    "# 백준 1296번 - 팀 이름 정하기\n",
    "import sys\n",
    "# input = sys.stdin.readline\n",
    "\n",
    "name = input().strip()\n",
    "n = int(input().strip())\n",
    "\n",
    "arr = []\n",
    "l = name.count('L')\n",
    "o = name.count('O')\n",
    "v = name.count('V')\n",
    "e = name.count('E')\n",
    "for _ in range(n):\n",
    "    team = input().strip()\n",
    "    team_l = team.count('L') + l\n",
    "    team_o = team.count('O') + o\n",
    "    team_v = team.count('V') + v\n",
    "    team_e = team.count('E') + e\n",
    "    arr.append([team, ((team_l + team_o) * (team_l + team_v) * (team_l + team_e) * (team_o + team_v) * (team_o + team_e) * (team_v + team_e)) % 100])\n",
    "\n",
    "arr.sort(key=lambda x: (-x[1], x[0]))\n",
    "\n",
    "print(arr[0][0])"
   ]
  },
  {
   "cell_type": "code",
   "execution_count": null,
   "metadata": {},
   "outputs": [],
   "source": [
    "# 백준 1356번 - 유진수\n",
    "import sys\n",
    "# input = sys.stdin.readline\n",
    "\n",
    "n = input().strip()\n",
    "\n",
    "if len(n) == 1:\n",
    "    print(\"NO\")\n",
    "else:\n",
    "    for i in range(1, len(n)):\n",
    "        a = 1\n",
    "        b = 1\n",
    "        for j in range(i):\n",
    "            a *= int(n[j])\n",
    "        for j in range(i, len(n)):\n",
    "            b *= int(n[j])\n",
    "        if a == b:\n",
    "            print(\"YES\")\n",
    "            break\n",
    "    else:\n",
    "        print(\"NO\")"
   ]
  },
  {
   "cell_type": "code",
   "execution_count": null,
   "metadata": {},
   "outputs": [],
   "source": [
    "# 백준 1357번 - 뒤집힌 덧셈\n",
    "import sys\n",
    "# input = sys.stdin.readline\n",
    "\n",
    "x, y = map(str, input().strip().split())\n",
    "x = int(x[::-1])\n",
    "y = int(y[::-1])\n",
    "print(int(str(x + y)[::-1]))"
   ]
  },
  {
   "cell_type": "code",
   "execution_count": 7,
   "metadata": {},
   "outputs": [
    {
     "name": "stdout",
     "output_type": "stream",
     "text": [
      "0o314\n",
      "314\n"
     ]
    }
   ],
   "source": [
    "# 백준 1373번 - 2진수 8진수\n",
    "import sys\n",
    "# input = sys.stdin.readline\n",
    "\n",
    "n = int(input().strip(), 2)\n",
    "\n",
    "print(oct(n)[2:])"
   ]
  },
  {
   "cell_type": "code",
   "execution_count": null,
   "metadata": {},
   "outputs": [],
   "source": [
    "# 백준 1524번 - 세준세비\n",
    "import sys\n",
    "# input = sys.stdin.readline\n",
    "\n",
    "t = int(input().strip())\n",
    "\n",
    "for _ in range(t):\n",
    "    input()\n",
    "    n, m = map(int, input().strip().split())\n",
    "    sejun = list(map(int, input().strip().split()))\n",
    "    sebi = list(map(int, input().strip().split()))\n",
    "    max_sejun = max(sejun)\n",
    "    max_sebi = max(sebi)\n",
    "    if max_sejun >= max_sebi:\n",
    "        print(\"S\")\n",
    "    else:\n",
    "        print(\"B\")"
   ]
  }
 ],
 "metadata": {
  "kernelspec": {
   "display_name": "Python 3",
   "language": "python",
   "name": "python3"
  },
  "language_info": {
   "codemirror_mode": {
    "name": "ipython",
    "version": 3
   },
   "file_extension": ".py",
   "mimetype": "text/x-python",
   "name": "python",
   "nbconvert_exporter": "python",
   "pygments_lexer": "ipython3",
   "version": "3.11.6"
  }
 },
 "nbformat": 4,
 "nbformat_minor": 2
}
