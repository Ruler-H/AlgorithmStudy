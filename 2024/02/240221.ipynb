{
 "cells": [
  {
   "cell_type": "code",
   "execution_count": 1,
   "metadata": {},
   "outputs": [
    {
     "name": "stdout",
     "output_type": "stream",
     "text": [
      "77\n"
     ]
    }
   ],
   "source": [
    "# 백준 1526번 - 가장 큰 금민수\n",
    "import sys\n",
    "# input = sys.stdin.readline\n",
    "\n",
    "n = int(input().strip())\n",
    "\n",
    "for i in range(n, 3, -1):\n",
    "    str_i = str(i)\n",
    "    if str_i.replace('4', '').replace('7', '') == '':\n",
    "        print(i)\n",
    "        break"
   ]
  },
  {
   "cell_type": "code",
   "execution_count": null,
   "metadata": {},
   "outputs": [],
   "source": [
    "# 백준 1551번 - 수열의 변화\n",
    "import sys\n",
    "# input = sys.stdin.readline\n",
    "\n",
    "n, k = map(int, input().strip().split())\n",
    "\n",
    "arr = list(map(int, input().strip().split(',')))\n",
    "\n",
    "for _ in range(k):\n",
    "    for i in range(len(arr)-1):\n",
    "        arr[i] = arr[i+1] - arr[i]\n",
    "    arr.pop()\n",
    "\n",
    "print(','.join(map(str, arr)))"
   ]
  },
  {
   "cell_type": "code",
   "execution_count": 12,
   "metadata": {},
   "outputs": [
    {
     "name": "stdout",
     "output_type": "stream",
     "text": [
      "A\n"
     ]
    }
   ],
   "source": [
    "# 백준 1672번 - DNA 해독\n",
    "import sys\n",
    "# input = sys.stdin.readline\n",
    "\n",
    "n = int(input().strip())\n",
    "dna = input().strip()\n",
    "dic = {'AA': 'A', 'AG': 'C', 'AC': 'A', 'AT': 'G', 'GA': 'C', 'GG': 'G', 'GC': 'T', 'GT': 'A', 'CA': 'A', 'CG': 'T', 'CC': 'C', 'CT': 'G', 'TA': 'G', 'TG': 'A', 'TC': 'G', 'TT': 'T'}\n",
    "\n",
    "rs = dna[-1]\n",
    "\n",
    "for i in range(n-2, -1, -1):\n",
    "    rs = dic[rs + dna[i]]\n",
    "print(rs)"
   ]
  },
  {
   "cell_type": "code",
   "execution_count": null,
   "metadata": {},
   "outputs": [],
   "source": []
  }
 ],
 "metadata": {
  "kernelspec": {
   "display_name": "Python 3",
   "language": "python",
   "name": "python3"
  },
  "language_info": {
   "codemirror_mode": {
    "name": "ipython",
    "version": 3
   },
   "file_extension": ".py",
   "mimetype": "text/x-python",
   "name": "python",
   "nbconvert_exporter": "python",
   "pygments_lexer": "ipython3",
   "version": "3.11.6"
  }
 },
 "nbformat": 4,
 "nbformat_minor": 2
}
