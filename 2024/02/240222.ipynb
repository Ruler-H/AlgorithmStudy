{
 "cells": [
  {
   "cell_type": "code",
   "execution_count": 5,
   "metadata": {},
   "outputs": [
    {
     "name": "stdout",
     "output_type": "stream",
     "text": [
      "0\n"
     ]
    }
   ],
   "source": [
    "# 백준 1813번 - 논리학 교수\n",
    "import sys\n",
    "# input = sys.stdin.readline\n",
    "\n",
    "n = int(input().strip())\n",
    "nums = list(map(int, input().strip().split()))\n",
    "\n",
    "true_cnt = -1\n",
    "\n",
    "for i in range(n + 1):\n",
    "    if nums.count(i) == i:\n",
    "        true_cnt = max(true_cnt, i)\n",
    "\n",
    "print(true_cnt)"
   ]
  },
  {
   "cell_type": "code",
   "execution_count": 6,
   "metadata": {},
   "outputs": [
    {
     "name": "stdout",
     "output_type": "stream",
     "text": [
      "YES\n",
      "NO\n",
      "NO\n"
     ]
    }
   ],
   "source": [
    "# 백준 1816번 - 암호 키\n",
    "import sys\n",
    "# input = sys.stdin.readline\n",
    "\n",
    "n = int(input().strip())\n",
    "\n",
    "for _ in range(n):\n",
    "    s = int(input().strip())\n",
    "    for i in range(2, min(int(s ** 0.5), 1000000) + 1):\n",
    "        if s % i == 0:\n",
    "            print(\"NO\")\n",
    "            break\n",
    "    else:\n",
    "        print(\"YES\")"
   ]
  },
  {
   "cell_type": "code",
   "execution_count": 8,
   "metadata": {},
   "outputs": [
    {
     "name": "stdout",
     "output_type": "stream",
     "text": [
      "3999999999999000000\n"
     ]
    }
   ],
   "source": [
    "# 백준 1834번 - 나머지와 몫이 같은 수\n",
    "import sys\n",
    "# input = sys.stdin.readline\n",
    "\n",
    "n = int(input().strip())\n",
    "\n",
    "print((n * (n - 1) // 2) * (n + 1))"
   ]
  },
  {
   "cell_type": "code",
   "execution_count": 9,
   "metadata": {},
   "outputs": [
    {
     "name": "stdout",
     "output_type": "stream",
     "text": [
      "abcdefghijkl"
     ]
    }
   ],
   "source": [
    "# 백준 1855번 - 암호\n",
    "import sys\n",
    "# input = sys.stdin.readline\n",
    "\n",
    "k = int(input().strip())\n",
    "\n",
    "s = input().strip()\n",
    "rs = ''\n",
    "\n",
    "for i in range(0, len(s), k):\n",
    "    if i // k % 2 == 0:\n",
    "        rs += s[i:i + k]\n",
    "    else:\n",
    "        rs += s[i:i + k][::-1]\n",
    "\n",
    "for i in range(k):\n",
    "    for j in range(i, len(rs), k):\n",
    "        print(rs[j], end='')"
   ]
  },
  {
   "cell_type": "code",
   "execution_count": 20,
   "metadata": {},
   "outputs": [
    {
     "name": "stdout",
     "output_type": "stream",
     "text": [
      "[] [] [0.0, 0.0]\n",
      "[[0.0, 0.0]] [] [0.0, 1.0]\n",
      "[[0.0, 0.0], [0.0, 1.0]] [] [0.0, 1.0]\n",
      "[[0.0, 0.0]] [0.0, 1.0] [1.0, 1.0]\n",
      "[[0.0, 0.0], [1.0, 1.0]] [0.0, 1.0]\n",
      "1.000 0.000\n",
      "[] [] [1.0, 0.0]\n",
      "[[1.0, 0.0]] [] [3.5, 3.5]\n",
      "[[1.0, 0.0], [3.5, 3.5]] [] [3.5, 3.5]\n",
      "[[1.0, 0.0]] [3.5, 3.5] [0.0, 1.0]\n",
      "[[1.0, 0.0], [0.0, 1.0]] [3.5, 3.5]\n",
      "-2.500 -2.500\n",
      "[] [] [1.866, 0.0]\n",
      "[[1.866, 0.0]] [] [3.127, 3.543]\n",
      "[[1.866, 0.0], [3.127, 3.543]] [] [3.127, 3.543]\n",
      "[[1.866, 0.0]] [3.127, 3.543] [1.412, 3.145]\n",
      "[[1.866, 0.0], [1.412, 3.145]] [3.127, 3.543]\n",
      "0.151 -0.398\n",
      "[] [] []\n",
      "[[]] [] []\n",
      "[] [] []\n",
      "[[]] [] []\n",
      "[] []\n"
     ]
    },
    {
     "ename": "IndexError",
     "evalue": "list index out of range",
     "output_type": "error",
     "traceback": [
      "\u001b[1;31m---------------------------------------------------------------------------\u001b[0m",
      "\u001b[1;31mIndexError\u001b[0m                                Traceback (most recent call last)",
      "Cell \u001b[1;32mIn[20], line 19\u001b[0m\n\u001b[0;32m     17\u001b[0m         points\u001b[38;5;241m.\u001b[39mappend(point)\n\u001b[0;32m     18\u001b[0m \u001b[38;5;28mprint\u001b[39m(points, same_point)\n\u001b[1;32m---> 19\u001b[0m x \u001b[38;5;241m=\u001b[39m \u001b[43mpoints\u001b[49m\u001b[43m[\u001b[49m\u001b[38;5;241;43m0\u001b[39;49m\u001b[43m]\u001b[49m[\u001b[38;5;241m0\u001b[39m] \u001b[38;5;241m+\u001b[39m points[\u001b[38;5;241m1\u001b[39m][\u001b[38;5;241m0\u001b[39m] \u001b[38;5;241m-\u001b[39m same_point[\u001b[38;5;241m0\u001b[39m]\n\u001b[0;32m     20\u001b[0m y \u001b[38;5;241m=\u001b[39m points[\u001b[38;5;241m0\u001b[39m][\u001b[38;5;241m1\u001b[39m] \u001b[38;5;241m+\u001b[39m points[\u001b[38;5;241m1\u001b[39m][\u001b[38;5;241m1\u001b[39m] \u001b[38;5;241m-\u001b[39m same_point[\u001b[38;5;241m1\u001b[39m]\n\u001b[0;32m     21\u001b[0m \u001b[38;5;28mprint\u001b[39m(\u001b[38;5;124mf\u001b[39m\u001b[38;5;124m\"\u001b[39m\u001b[38;5;132;01m{\u001b[39;00mx\u001b[38;5;132;01m:\u001b[39;00m\u001b[38;5;124m.3f\u001b[39m\u001b[38;5;132;01m}\u001b[39;00m\u001b[38;5;124m \u001b[39m\u001b[38;5;132;01m{\u001b[39;00my\u001b[38;5;132;01m:\u001b[39;00m\u001b[38;5;124m.3f\u001b[39m\u001b[38;5;132;01m}\u001b[39;00m\u001b[38;5;124m\"\u001b[39m)\n",
      "\u001b[1;31mIndexError\u001b[0m: list index out of range"
     ]
    }
   ],
   "source": [
    "# 백준 1894번 - 4번째 점\n",
    "import sys\n",
    "# input = sys.stdin.readline\n",
    "\n",
    "while True:\n",
    "    try:\n",
    "        points = []\n",
    "        same_point = []\n",
    "        inp_points = input().strip().split()\n",
    "        for i in range(0, 8, 2):\n",
    "            point = list(map(float, inp_points[i:i + 2]))\n",
    "            if point in points:\n",
    "                points.remove(point)\n",
    "                same_point = point\n",
    "            else:\n",
    "                points.append(point)\n",
    "        x = points[0][0] + points[1][0] - same_point[0]\n",
    "        y = points[0][1] + points[1][1] - same_point[1]\n",
    "        print(f\"{x:.3f} {y:.3f}\")\n",
    "\n",
    "    except:\n",
    "        break"
   ]
  },
  {
   "cell_type": "code",
   "execution_count": null,
   "metadata": {},
   "outputs": [],
   "source": []
  }
 ],
 "metadata": {
  "kernelspec": {
   "display_name": "Python 3",
   "language": "python",
   "name": "python3"
  },
  "language_info": {
   "codemirror_mode": {
    "name": "ipython",
    "version": 3
   },
   "file_extension": ".py",
   "mimetype": "text/x-python",
   "name": "python",
   "nbconvert_exporter": "python",
   "pygments_lexer": "ipython3",
   "version": "3.11.6"
  }
 },
 "nbformat": 4,
 "nbformat_minor": 2
}
