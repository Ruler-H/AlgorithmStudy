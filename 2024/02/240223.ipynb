{
 "cells": [
  {
   "cell_type": "code",
   "execution_count": 4,
   "metadata": {},
   "outputs": [
    {
     "name": "stdout",
     "output_type": "stream",
     "text": [
      "5\n"
     ]
    }
   ],
   "source": [
    "# 백준 1952번 - 달팽이2\n",
    "import sys\n",
    "# input = sys.stdin.readline\n",
    "\n",
    "m, n = map(int, input().strip().split())\n",
    "cnt = 0\n",
    "\n",
    "while m > 0 and n > 0:\n",
    "    if cnt % 2 == 0:\n",
    "        m -= 1\n",
    "    else:\n",
    "        n -= 1\n",
    "    cnt += 1\n",
    "\n",
    "print(cnt - 1)"
   ]
  },
  {
   "cell_type": "code",
   "execution_count": 7,
   "metadata": {},
   "outputs": [
    {
     "name": "stdout",
     "output_type": "stream",
     "text": [
      "500\n"
     ]
    }
   ],
   "source": [
    "# 백준 2033번 - 반올림\n",
    "import sys\n",
    "# input = sys.stdin.readline\n",
    "\n",
    "n = int(input().strip())\n",
    "\n",
    "for i in range(1, len(str(n))):\n",
    "    if n % (10 ** i) >= 5 * (10 ** (i - 1)):\n",
    "        n += 10 ** i\n",
    "    n -= n % (10 ** i)\n",
    "\n",
    "print(n)"
   ]
  },
  {
   "cell_type": "code",
   "execution_count": 14,
   "metadata": {},
   "outputs": [
    {
     "name": "stdout",
     "output_type": "stream",
     "text": [
      "72\n"
     ]
    }
   ],
   "source": [
    "# 백준 2037번 - 문자메시지\n",
    "import sys\n",
    "# input = sys.stdin.readline\n",
    "\n",
    "p, w = map(int, input().strip().split())\n",
    "inp_str = input().strip()\n",
    "time = 0\n",
    "phone_dict = {\n",
    "    \" \": [1, 1],\n",
    "    \"A\": [2, 1], \"B\": [2, 2], \"C\": [2, 3],\n",
    "    \"D\": [3, 1], \"E\": [3, 2], \"F\": [3, 3],\n",
    "    \"G\": [4, 1], \"H\": [4, 2], \"I\": [4, 3],\n",
    "    \"J\": [5, 1], \"K\": [5, 2], \"L\": [5, 3],\n",
    "    \"M\": [6, 1], \"N\": [6, 2], \"O\": [6, 3],\n",
    "    \"P\": [7, 1], \"Q\": [7, 2], \"R\": [7, 3], \"S\": [7, 4],\n",
    "    \"T\": [8, 1], \"U\": [8, 2], \"V\": [8, 3],\n",
    "    \"W\": [9, 1], \"X\": [9, 2], \"Y\": [9, 3], \"Z\": [9, 4]\n",
    "}\n",
    "\n",
    "time += phone_dict[inp_str[0]][1] * p\n",
    "\n",
    "for i in range(1, len(inp_str)):\n",
    "    time += phone_dict[inp_str[i]][1] * p\n",
    "    if inp_str[i] == \" \":\n",
    "        continue\n",
    "    if phone_dict[inp_str[i - 1]][0] == phone_dict[inp_str[i]][0]:\n",
    "        time += w\n",
    "\n",
    "print(time)"
   ]
  }
 ],
 "metadata": {
  "kernelspec": {
   "display_name": "Python 3",
   "language": "python",
   "name": "python3"
  },
  "language_info": {
   "codemirror_mode": {
    "name": "ipython",
    "version": 3
   },
   "file_extension": ".py",
   "mimetype": "text/x-python",
   "name": "python",
   "nbconvert_exporter": "python",
   "pygments_lexer": "ipython3",
   "version": "3.11.6"
  }
 },
 "nbformat": 4,
 "nbformat_minor": 2
}
