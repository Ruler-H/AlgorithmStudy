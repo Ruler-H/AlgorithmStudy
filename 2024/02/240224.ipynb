{
 "cells": [
  {
   "cell_type": "code",
   "execution_count": 4,
   "metadata": {},
   "outputs": [
    {
     "name": "stdout",
     "output_type": "stream",
     "text": [
      "5\n"
     ]
    }
   ],
   "source": [
    "# 백준 2160번 - 그림 비교\n",
    "import sys\n",
    "# input = sys.stdin.readline\n",
    "\n",
    "n = int(input().strip())\n",
    "\n",
    "pictures = []\n",
    "\n",
    "for _ in range(n):\n",
    "    picture = [input().strip() for _ in range(5)]\n",
    "    pictures.append(picture)\n",
    "\n",
    "min_diff = 36\n",
    "min_diff_pair = (0, 0)\n",
    "\n",
    "for i in range(n):\n",
    "    for j in range(i+1, n):\n",
    "        diff = 0\n",
    "        for k in range(5):\n",
    "            for l in range(7):\n",
    "                if pictures[i][k][l] != pictures[j][k][l]:\n",
    "                    diff += 1\n",
    "        if diff < min_diff:\n",
    "            min_diff = diff\n",
    "            min_diff_pair = (i+1, j+1)\n",
    "\n",
    "print(*min_diff_pair)"
   ]
  },
  {
   "cell_type": "code",
   "execution_count": 10,
   "metadata": {},
   "outputs": [
    {
     "name": "stdout",
     "output_type": "stream",
     "text": [
      "B\n"
     ]
    }
   ],
   "source": [
    "# 백준 2183번 - 테니스 시합\n",
    "import sys\n",
    "# input = sys.stdin.readline\n",
    "\n",
    "n, s = map(str, input().strip().split())\n",
    "n = int(n)\n",
    "\n",
    "print(s[-1])"
   ]
  }
 ],
 "metadata": {
  "kernelspec": {
   "display_name": "Python 3",
   "language": "python",
   "name": "python3"
  },
  "language_info": {
   "codemirror_mode": {
    "name": "ipython",
    "version": 3
   },
   "file_extension": ".py",
   "mimetype": "text/x-python",
   "name": "python",
   "nbconvert_exporter": "python",
   "pygments_lexer": "ipython3",
   "version": "3.11.6"
  }
 },
 "nbformat": 4,
 "nbformat_minor": 2
}
