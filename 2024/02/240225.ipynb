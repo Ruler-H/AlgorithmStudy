{
 "cells": [
  {
   "cell_type": "code",
   "execution_count": 4,
   "metadata": {},
   "outputs": [
    {
     "name": "stdout",
     "output_type": "stream",
     "text": [
      "5\n"
     ]
    }
   ],
   "source": [
    "# 백준 2204번 - 도비의 난독증 테스트\n",
    "import sys\n",
    "# input = sys.stdin.readline\n",
    "\n",
    "while True:\n",
    "    n = int(input().strip())\n",
    "    if n == 0:\n",
    "        break\n",
    "    words = []\n",
    "\n",
    "    for _ in range(n):\n",
    "        words.append(input().strip())\n",
    "\n",
    "    words.sort(key=lambda x: x.lower())\n",
    "    print(words[0])"
   ]
  },
  {
   "cell_type": "code",
   "execution_count": 17,
   "metadata": {},
   "outputs": [
    {
     "name": "stdout",
     "output_type": "stream",
     "text": [
      "[(400, 200), (300, 100), (200, 400), (100, 300), (100, 500)]\n",
      "2\n"
     ]
    }
   ],
   "source": [
    "# 백준 2246번 - 콘도 선정\n",
    "import sys\n",
    "# input = sys.stdin.readline\n",
    "\n",
    "n = int(input().strip())\n",
    "\n",
    "condos = []\n",
    "\n",
    "for _ in range(n):\n",
    "    d, c = map(int, input().strip().split())\n",
    "    condos.append((d, c))\n",
    "\n",
    "condos.sort()\n",
    "\n",
    "cnt = 0\n",
    "cost = 10001\n",
    "\n",
    "for i in range(n):\n",
    "    if cost > condos[i][1]:\n",
    "        cnt += 1\n",
    "        cost = condos[i][1]\n",
    "\n",
    "print(cnt)"
   ]
  }
 ],
 "metadata": {
  "kernelspec": {
   "display_name": "Python 3",
   "language": "python",
   "name": "python3"
  },
  "language_info": {
   "codemirror_mode": {
    "name": "ipython",
    "version": 3
   },
   "file_extension": ".py",
   "mimetype": "text/x-python",
   "name": "python",
   "nbconvert_exporter": "python",
   "pygments_lexer": "ipython3",
   "version": "3.11.6"
  }
 },
 "nbformat": 4,
 "nbformat_minor": 2
}
