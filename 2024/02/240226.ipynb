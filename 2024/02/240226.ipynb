{
 "cells": [
  {
   "cell_type": "code",
   "execution_count": 1,
   "metadata": {},
   "outputs": [
    {
     "name": "stdout",
     "output_type": "stream",
     "text": [
      "21\n"
     ]
    }
   ],
   "source": [
    "# 백준 2435번 - 기상청 인턴 신현수\n",
    "import sys\n",
    "# input = sys.stdin.readline\n",
    "\n",
    "n, k = map(int, input().strip().split())\n",
    "\n",
    "temp = list(map(int, input().strip().split()))\n",
    "\n",
    "for i in range(n - k + 1):\n",
    "    temp[i] = sum(temp[i:i+k])\n",
    "\n",
    "print(max(temp[:n-k+1]))"
   ]
  },
  {
   "cell_type": "code",
   "execution_count": 14,
   "metadata": {},
   "outputs": [
    {
     "name": "stdout",
     "output_type": "stream",
     "text": [
      "1 13\n"
     ]
    },
    {
     "ename": "SystemExit",
     "evalue": "",
     "output_type": "error",
     "traceback": [
      "An exception has occurred, use %tb to see the full traceback.\n",
      "\u001b[1;31mSystemExit\u001b[0m\n"
     ]
    },
    {
     "name": "stderr",
     "output_type": "stream",
     "text": [
      "C:\\Users\\gjs55\\AppData\\Roaming\\Python\\Python311\\site-packages\\IPython\\core\\interactiveshell.py:3556: UserWarning: To exit: use 'exit', 'quit', or Ctrl-D.\n",
      "  warn(\"To exit: use 'exit', 'quit', or Ctrl-D.\", stacklevel=1)\n"
     ]
    }
   ],
   "source": [
    "# 백준 2456번 - 나는 학급회장이다\n",
    "import sys\n",
    "# input = sys.stdin.readline\n",
    "\n",
    "n = int(input().strip())\n",
    "\n",
    "vote = [{1: 0, 2: 0, 3: 0, 'total': 0, 'idx': i} for i in range(3)]\n",
    "\n",
    "for _ in range(n):\n",
    "    a, b, c = map(int, input().strip().split())\n",
    "    vote[0][a] += 1\n",
    "    if a == 1:\n",
    "        vote[0]['total'] += 1\n",
    "    elif a == 2:\n",
    "        vote[0]['total'] += 2\n",
    "    else:\n",
    "        vote[0]['total'] += 3\n",
    "    vote[1][b] += 1\n",
    "    if b == 1:\n",
    "        vote[1]['total'] += 1\n",
    "    elif b == 2:\n",
    "        vote[1]['total'] += 2\n",
    "    else:\n",
    "        vote[1]['total'] += 3\n",
    "    vote[2][c] += 1\n",
    "    if c == 1:\n",
    "        vote[2]['total'] += 1\n",
    "    elif c == 2:\n",
    "        vote[2]['total'] += 2\n",
    "    else:\n",
    "        vote[2]['total'] += 3\n",
    "    \n",
    "max_vote = max(vote, key=lambda x: x['total'])['total']\n",
    "\n",
    "for k, v in enumerate(vote):\n",
    "    if v['total'] != max_vote:\n",
    "        vote.remove(v)\n",
    "\n",
    "if len(vote) == 1:\n",
    "    print(vote[0]['idx'] + 1, vote[0]['total'])\n",
    "    sys.exit()\n",
    "\n",
    "max_3 = max(vote, key=lambda x: x[3])[3]\n",
    "for k, v in enumerate(vote):\n",
    "    if v[3] != max_3:\n",
    "        vote.remove(v)\n",
    "\n",
    "if len(vote) == 1:\n",
    "    print(vote[0]['idx'] + 1, vote[0]['total'])\n",
    "    sys.exit()\n",
    "\n",
    "max_2 = max(vote, key=lambda x: x[2])[2]\n",
    "for k, v in enumerate(vote):\n",
    "    if v[2] != max_2:\n",
    "        vote.remove(v)\n",
    "\n",
    "if len(vote) == 1:\n",
    "    print(vote[0]['idx'] + 1, vote[0]['total'])\n",
    "    sys.exit()\n",
    "\n",
    "print(0, max_vote)"
   ]
  },
  {
   "cell_type": "code",
   "execution_count": null,
   "metadata": {},
   "outputs": [],
   "source": [
    "6\n",
    "3 1 2\n",
    "2 3 1\n",
    "3 1 2\n",
    "1 2 3\n",
    "3 1 2\n",
    "1 2 3"
   ]
  }
 ],
 "metadata": {
  "kernelspec": {
   "display_name": "Python 3",
   "language": "python",
   "name": "python3"
  },
  "language_info": {
   "codemirror_mode": {
    "name": "ipython",
    "version": 3
   },
   "file_extension": ".py",
   "mimetype": "text/x-python",
   "name": "python",
   "nbconvert_exporter": "python",
   "pygments_lexer": "ipython3",
   "version": "3.11.6"
  }
 },
 "nbformat": 4,
 "nbformat_minor": 2
}
