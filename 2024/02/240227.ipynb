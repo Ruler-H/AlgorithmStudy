{
 "cells": [
  {
   "cell_type": "code",
   "execution_count": 18,
   "metadata": {},
   "outputs": [
    {
     "name": "stdout",
     "output_type": "stream",
     "text": [
      "3 16\n"
     ]
    },
    {
     "ename": "SystemExit",
     "evalue": "",
     "output_type": "error",
     "traceback": [
      "An exception has occurred, use %tb to see the full traceback.\n",
      "\u001b[1;31mSystemExit\u001b[0m\n"
     ]
    }
   ],
   "source": [
    "# 백준 2456번 - 나는 학급회장이다\n",
    "import sys\n",
    "# input = sys.stdin.readline\n",
    "\n",
    "n = int(input().strip())\n",
    "\n",
    "votes = [{1: 0, 2: 0, 3: 0, 'total': 0, 'idx': i + 1} for i in range(3)]\n",
    "\n",
    "for i in range(n):\n",
    "    vote = list(map(int, input().strip().split()))\n",
    "    for j in range(3):\n",
    "        votes[j][vote[j]] += 1\n",
    "        votes[j]['total'] += vote[j]\n",
    "\n",
    "max_total = max(votes, key= lambda x: x['total'])\n",
    "max_cnt = 0\n",
    "for vote in votes:\n",
    "    if vote['total'] == max_total['total']:\n",
    "        max_cnt += 1\n",
    "\n",
    "if max_cnt == 1:\n",
    "    print(max_total['idx'], max_total['total'])\n",
    "    sys.exit()\n",
    "\n",
    "max_3 = max(votes, key= lambda x: x[3])\n",
    "max_cnt = 0\n",
    "for vote in votes:\n",
    "    if vote['total'] == max_total['total'] and vote[3] == max_3[3]:\n",
    "        max_cnt += 1\n",
    "\n",
    "if max_cnt == 1:\n",
    "    print(max_3['idx'], max_3['total'])\n",
    "    sys.exit()\n",
    "\n",
    "max_2 = max(votes, key= lambda x: x[2])\n",
    "max_cnt = 0\n",
    "for vote in votes:\n",
    "    if vote[2] == max_2[2]:\n",
    "        max_cnt += 1\n",
    "\n",
    "if max_cnt == 1:\n",
    "    print(max_2['idx'], max_2['total'])\n",
    "    sys.exit()\n",
    "\n",
    "print(0, max_total['total'])"
   ]
  },
  {
   "cell_type": "code",
   "execution_count": null,
   "metadata": {},
   "outputs": [],
   "source": [
    "6\n",
    "\n",
    "3 1 2\n",
    "\n",
    "1 3 2\n",
    "\n",
    "2 1 3\n",
    "\n",
    "1 2 3\n",
    "\n",
    "1 2 3\n",
    "\n",
    "2 1 3"
   ]
  }
 ],
 "metadata": {
  "kernelspec": {
   "display_name": "Python 3",
   "language": "python",
   "name": "python3"
  },
  "language_info": {
   "codemirror_mode": {
    "name": "ipython",
    "version": 3
   },
   "file_extension": ".py",
   "mimetype": "text/x-python",
   "name": "python",
   "nbconvert_exporter": "python",
   "pygments_lexer": "ipython3",
   "version": "3.11.6"
  }
 },
 "nbformat": 4,
 "nbformat_minor": 2
}
