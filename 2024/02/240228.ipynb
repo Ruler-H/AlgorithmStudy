{
 "cells": [
  {
   "cell_type": "code",
   "execution_count": 11,
   "metadata": {},
   "outputs": [
    {
     "name": "stdout",
     "output_type": "stream",
     "text": [
      "[4, 8, 0]\n",
      "3\n"
     ]
    }
   ],
   "source": [
    "# 백준 2526번 - 싸이클\n",
    "import sys\n",
    "# input = sys.stdin.readline\n",
    "\n",
    "n, p = map(int, input().strip().split())\n",
    "\n",
    "arr = [n * n % p]\n",
    "\n",
    "while True:\n",
    "    temp = (arr[-1] * n) % p\n",
    "    if temp in arr:\n",
    "        print(len(arr) - arr.index(temp))\n",
    "        break\n",
    "    arr.append(temp)"
   ]
  },
  {
   "cell_type": "code",
   "execution_count": null,
   "metadata": {},
   "outputs": [],
   "source": []
  }
 ],
 "metadata": {
  "kernelspec": {
   "display_name": "Python 3",
   "language": "python",
   "name": "python3"
  },
  "language_info": {
   "codemirror_mode": {
    "name": "ipython",
    "version": 3
   },
   "file_extension": ".py",
   "mimetype": "text/x-python",
   "name": "python",
   "nbconvert_exporter": "python",
   "pygments_lexer": "ipython3",
   "version": "3.11.6"
  }
 },
 "nbformat": 4,
 "nbformat_minor": 2
}
