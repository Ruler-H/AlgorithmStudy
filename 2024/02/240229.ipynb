{
 "cells": [
  {
   "cell_type": "code",
   "execution_count": 4,
   "metadata": {},
   "outputs": [
    {
     "name": "stdout",
     "output_type": "stream",
     "text": [
      "1\n"
     ]
    }
   ],
   "source": [
    "# 백준 2546번 - 경제학과 정원영\n",
    "import sys\n",
    "# input = sys.stdin.readline\n",
    "\n",
    "t = int(input().strip())\n",
    "\n",
    "for _ in range(t):\n",
    "    __ = input().strip()\n",
    "    n, m = map(int, input().strip().split())\n",
    "    n = list(map(int, input().strip().split()))\n",
    "    m = list(map(int, input().strip().split()))\n",
    "    n_avg = sum(n) / len(n)\n",
    "    m_avg = sum(m) / len(m)\n",
    "    result = 0\n",
    "    for i in n:\n",
    "        if i < n_avg and i > m_avg:\n",
    "            result += 1\n",
    "\n",
    "    print(result)\n",
    "    "
   ]
  },
  {
   "cell_type": "code",
   "execution_count": 10,
   "metadata": {},
   "outputs": [
    {
     "name": "stdout",
     "output_type": "stream",
     "text": [
      "011111\n",
      "1\n"
     ]
    },
    {
     "ename": "SystemExit",
     "evalue": "",
     "output_type": "error",
     "traceback": [
      "An exception has occurred, use %tb to see the full traceback.\n",
      "\u001b[1;31mSystemExit\u001b[0m\n"
     ]
    },
    {
     "name": "stderr",
     "output_type": "stream",
     "text": [
      "C:\\Users\\gjs55\\AppData\\Roaming\\Python\\Python311\\site-packages\\IPython\\core\\interactiveshell.py:3556: UserWarning: To exit: use 'exit', 'quit', or Ctrl-D.\n",
      "  warn(\"To exit: use 'exit', 'quit', or Ctrl-D.\", stacklevel=1)\n"
     ]
    }
   ],
   "source": [
    "# 백준 2596번 - 비밀편지\n",
    "import sys\n",
    "# input = sys.stdin.readline\n",
    "\n",
    "n = int(input().strip())\n",
    "\n",
    "letters = {\n",
    "    \"000000\": \"A\",\n",
    "    \"001111\": \"B\",\n",
    "    \"010011\": \"C\",\n",
    "    \"011100\": \"D\",\n",
    "    \"100110\": \"E\",\n",
    "    \"101001\": \"F\",\n",
    "    \"110101\": \"G\",\n",
    "    \"111010\": \"H\"\n",
    "}\n",
    "\n",
    "secret = input().strip()\n",
    "\n",
    "result = \"\"\n",
    "\n",
    "for i in range(0, n * 6, 6):\n",
    "    letter = secret[i:i+6]\n",
    "    print(letter)\n",
    "    if letter in letters:\n",
    "        result += letters[letter]\n",
    "    else:\n",
    "        print(i//6+1)\n",
    "        sys.exit()\n",
    "\n",
    "\n",
    "print(result)"
   ]
  },
  {
   "cell_type": "code",
   "execution_count": null,
   "metadata": {},
   "outputs": [],
   "source": []
  }
 ],
 "metadata": {
  "kernelspec": {
   "display_name": "Python 3",
   "language": "python",
   "name": "python3"
  },
  "language_info": {
   "codemirror_mode": {
    "name": "ipython",
    "version": 3
   },
   "file_extension": ".py",
   "mimetype": "text/x-python",
   "name": "python",
   "nbconvert_exporter": "python",
   "pygments_lexer": "ipython3",
   "version": "3.11.6"
  }
 },
 "nbformat": 4,
 "nbformat_minor": 2
}
