{
 "cells": [
  {
   "cell_type": "code",
   "execution_count": 2,
   "metadata": {},
   "outputs": [
    {
     "name": "stdout",
     "output_type": "stream",
     "text": [
      "BAD\n"
     ]
    }
   ],
   "source": [
    "# 백준 2596번 - 비밀편지\n",
    "import sys\n",
    "# input = sys.stdin.readline\n",
    "\n",
    "n = int(input().strip())\n",
    "\n",
    "letters = {\n",
    "    \"000000\": \"A\",\n",
    "    \"001111\": \"B\",\n",
    "    \"010011\": \"C\",\n",
    "    \"011100\": \"D\",\n",
    "    \"100110\": \"E\",\n",
    "    \"101001\": \"F\",\n",
    "    \"110101\": \"G\",\n",
    "    \"111010\": \"H\"\n",
    "}\n",
    "\n",
    "secret = input().strip()\n",
    "\n",
    "result = \"\"\n",
    "\n",
    "for i in range(0, n * 6, 6):\n",
    "    letter = secret[i:i+6]\n",
    "    if letter in letters:\n",
    "        result += letters[letter]\n",
    "    else:\n",
    "        for key, value in letters.items():\n",
    "            diff = 0\n",
    "            for j in range(6):\n",
    "                if letter[j] != key[j]:\n",
    "                    diff += 1\n",
    "            if diff == 1:\n",
    "                result += value\n",
    "                break\n",
    "        else:\n",
    "            print(i//6 + 1)\n",
    "            sys.exit(0)\n",
    "\n",
    "print(result)"
   ]
  },
  {
   "cell_type": "code",
   "execution_count": null,
   "metadata": {},
   "outputs": [],
   "source": [
    "# 백준 2684번 - 동전 게임\n",
    "import sys\n",
    "# input = sys.stdin.readline\n",
    "\n",
    "p = int(input().strip())\n",
    "\n",
    "for _ in range(p):\n",
    "    coins = input().strip()\n",
    "    TTT = 0\n",
    "    TTH = 0\n",
    "    THT = 0\n",
    "    THH = 0\n",
    "    HTT = 0\n",
    "    HTH = 0\n",
    "    HHT = 0\n",
    "    HHH = 0\n",
    "    for i in range(38):\n",
    "        if coins[i:i+3] == \"TTT\":\n",
    "            TTT += 1\n",
    "        elif coins[i:i+3] == \"TTH\":\n",
    "            TTH += 1\n",
    "        elif coins[i:i+3] == \"THT\":\n",
    "            THT += 1\n",
    "        elif coins[i:i+3] == \"THH\":\n",
    "            THH += 1\n",
    "        elif coins[i:i+3] == \"HTT\":\n",
    "            HTT += 1\n",
    "        elif coins[i:i+3] == \"HTH\":\n",
    "            HTH += 1\n",
    "        elif coins[i:i+3] == \"HHT\":\n",
    "            HHT += 1\n",
    "        elif coins[i:i+3] == \"HHH\":\n",
    "            HHH += 1\n",
    "    print(TTT, TTH, THT, THH, HTT, HTH, HHT, HHH)"
   ]
  },
  {
   "cell_type": "code",
   "execution_count": null,
   "metadata": {},
   "outputs": [],
   "source": [
    "# 백준 2693번 - N번째 큰 수\n",
    "import sys\n",
    "# input = sys.stdin.readline\n",
    "\n",
    "t = int(input().strip())\n",
    "\n",
    "for _ in range(t):\n",
    "    nums = list(map(int, input().strip().split()))\n",
    "    nums.sort(reverse=True)\n",
    "    print(nums[2])"
   ]
  },
  {
   "cell_type": "code",
   "execution_count": null,
   "metadata": {},
   "outputs": [],
   "source": [
    "# 백준 2729번 - 이진수 덧셈\n",
    "import sys\n",
    "# input = sys.stdin.readline\n",
    "\n",
    "t = int(input().strip())\n",
    "\n",
    "for _ in range(t):\n",
    "    a, b = map(str, input().strip().split())\n",
    "    a = int(a, 2)\n",
    "    b = int(b, 2)\n",
    "    result = bin(a + b)[2:]\n",
    "    print(result)"
   ]
  },
  {
   "cell_type": "code",
   "execution_count": 3,
   "metadata": {},
   "outputs": [
    {
     "name": "stdout",
     "output_type": "stream",
     "text": [
      ".P....\n",
      ".I....\n",
      ".D....\n",
      ".Z....\n",
      "BANANA\n",
      ".M....\n",
      ".A....\n"
     ]
    }
   ],
   "source": [
    "# 백준 2804번 - 크로스워드 만들기\n",
    "import sys\n",
    "# input = sys.stdin.readline\n",
    "\n",
    "a, b = map(str, input().strip().split())\n",
    "\n",
    "for i in range(len(a)):\n",
    "    if a[i] in b:\n",
    "        a_idx = i\n",
    "        b_idx = b.index(a[i])\n",
    "        break\n",
    "\n",
    "for i in range(len(b)):\n",
    "    if i == b_idx:\n",
    "        print(a)\n",
    "    else:\n",
    "        print(\".\" * a_idx + b[i] + \".\" * (len(a) - a_idx - 1))"
   ]
  }
 ],
 "metadata": {
  "kernelspec": {
   "display_name": "Python 3",
   "language": "python",
   "name": "python3"
  },
  "language_info": {
   "codemirror_mode": {
    "name": "ipython",
    "version": 3
   },
   "file_extension": ".py",
   "mimetype": "text/x-python",
   "name": "python",
   "nbconvert_exporter": "python",
   "pygments_lexer": "ipython3",
   "version": "3.11.6"
  }
 },
 "nbformat": 4,
 "nbformat_minor": 2
}
