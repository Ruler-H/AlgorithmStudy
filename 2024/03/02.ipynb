{
 "cells": [
  {
   "cell_type": "code",
   "execution_count": 9,
   "metadata": {},
   "outputs": [
    {
     "name": "stdout",
     "output_type": "stream",
     "text": [
      "7\n"
     ]
    }
   ],
   "source": [
    "# 백준 2810번 - 컵홀더\n",
    "import sys\n",
    "# input = sys.stdin.readline\n",
    "\n",
    "n = int(input().strip())\n",
    "seats = input().strip()\n",
    "seats = seats.replace(\"LL\", \"L\")\n",
    "print(min(len(seats) + 1, n))"
   ]
  },
  {
   "cell_type": "code",
   "execution_count": 18,
   "metadata": {},
   "outputs": [
    {
     "name": "stdout",
     "output_type": "stream",
     "text": [
      "channels: ['A', 'A', 'KBS2', 'KBS1']\n",
      "channels: ['A', 'A', 'KBS2', 'KBS1']\n",
      "channels: ['A', 'A', 'KBS2', 'KBS1']\n",
      "channels: ['A', 'A', 'KBS2', 'KBS1']\n",
      "channels: ['A', 'A', 'KBS1', 'KBS2']\n",
      "channels: ['A', 'KBS1', 'A', 'KBS2']\n",
      "11144411144\n"
     ]
    }
   ],
   "source": [
    "# 백준 2816번 - 디지털 티비\n",
    "import sys\n",
    "# input = sys.stdin.readline\n",
    "\n",
    "n = int(input().strip())\n",
    "\n",
    "channels = [input().strip() for _ in range(n)]\n",
    "buttons = \"\"\n",
    "idx = 0\n",
    "if len(channels) == 2:\n",
    "    print(\"3\")\n",
    "    sys.exit(0)\n",
    "while channels[0] != \"KBS1\":\n",
    "    if idx == 0 and channels[1] == \"KBS1\":\n",
    "        buttons += \"3\"\n",
    "        channels[0], channels[1] = channels[1], channels[0]\n",
    "        idx += 1\n",
    "        break\n",
    "    else:\n",
    "        if channels[idx] != \"KBS1\":\n",
    "            buttons += \"1\"\n",
    "            idx += 1\n",
    "        else:\n",
    "            buttons += \"4\"\n",
    "            channels[idx], channels[idx - 1] = channels[idx - 1], channels[idx]\n",
    "            idx -= 1\n",
    "\n",
    "while channels[1] != \"KBS2\":\n",
    "    if idx == 1 and channels[2] == \"KBS2\":\n",
    "        buttons += \"3\"\n",
    "        channels[1], channels[2] = channels[2], channels[1]\n",
    "        idx += 1\n",
    "        break\n",
    "    else:\n",
    "        if channels[idx] != \"KBS2\":\n",
    "            buttons += \"1\"\n",
    "            idx += 1\n",
    "        else:\n",
    "            buttons += \"4\"\n",
    "            channels[idx], channels[idx - 1] = channels[idx - 1], channels[idx]\n",
    "            idx -= 1\n",
    "\n",
    "print(buttons)"
   ]
  },
  {
   "cell_type": "code",
   "execution_count": 21,
   "metadata": {},
   "outputs": [
    {
     "name": "stdout",
     "output_type": "stream",
     "text": [
      "0\n"
     ]
    }
   ],
   "source": [
    "# 백준 2846번 - 오르막길\n",
    "import sys\n",
    "# input = sys.stdin.readline\n",
    "\n",
    "n = int(input().strip())\n",
    "heights = list(map(int, input().strip().split()))\n",
    "max_height = 0\n",
    "dist = 0\n",
    "for i in range(n - 1):\n",
    "    if heights[i] < heights[i + 1]:\n",
    "        dist += heights[i + 1] - heights[i]\n",
    "        max_height = max(max_height, dist)\n",
    "    else:\n",
    "        dist = 0\n",
    "\n",
    "print(max_height)"
   ]
  },
  {
   "cell_type": "code",
   "execution_count": null,
   "metadata": {},
   "outputs": [],
   "source": []
  }
 ],
 "metadata": {
  "kernelspec": {
   "display_name": "Python 3",
   "language": "python",
   "name": "python3"
  },
  "language_info": {
   "codemirror_mode": {
    "name": "ipython",
    "version": 3
   },
   "file_extension": ".py",
   "mimetype": "text/x-python",
   "name": "python",
   "nbconvert_exporter": "python",
   "pygments_lexer": "ipython3",
   "version": "3.11.6"
  }
 },
 "nbformat": 4,
 "nbformat_minor": 2
}
