{
 "cells": [
  {
   "cell_type": "code",
   "execution_count": 19,
   "metadata": {},
   "outputs": [
    {
     "name": "stdout",
     "output_type": "stream",
     "text": [
      "9\n"
     ]
    }
   ],
   "source": [
    "# 백준 2851번 - 슈퍼 마리오\n",
    "import sys\n",
    "# input = sys.stdin.readline\n",
    "\n",
    "mushrooms = [int(input()) for _ in range(10)]\n",
    "score = 0\n",
    "\n",
    "for i in range(1, 11):\n",
    "    point = sum(mushrooms[:i])\n",
    "    if abs(100 - point) < abs(100 - score):\n",
    "        score = point\n",
    "    elif abs(100 - point) == abs(100 - score):\n",
    "        score = max(score, point)\n",
    "\n",
    "print(score)"
   ]
  }
 ],
 "metadata": {
  "kernelspec": {
   "display_name": "Python 3",
   "language": "python",
   "name": "python3"
  },
  "language_info": {
   "codemirror_mode": {
    "name": "ipython",
    "version": 3
   },
   "file_extension": ".py",
   "mimetype": "text/x-python",
   "name": "python",
   "nbconvert_exporter": "python",
   "pygments_lexer": "ipython3",
   "version": "3.11.6"
  }
 },
 "nbformat": 4,
 "nbformat_minor": 2
}
