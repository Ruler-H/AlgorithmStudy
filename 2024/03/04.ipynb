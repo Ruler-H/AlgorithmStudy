{
 "cells": [
  {
   "cell_type": "code",
   "execution_count": 5,
   "metadata": {},
   "outputs": [
    {
     "name": "stdout",
     "output_type": "stream",
     "text": [
      "0 1.666666666666666 14.666666666666666\n"
     ]
    }
   ],
   "source": [
    "# 백준 2896번 - 무알콜 칵테일\n",
    "import sys\n",
    "# input = sys.stdin.readline\n",
    "\n",
    "a, b, c = map(int, input().split())\n",
    "i, j, k = map(int, input().split())\n",
    "min_cnt = min(a/i, b/j, c/k)\n",
    "\n",
    "a_rest = a - i * min_cnt\n",
    "if a_rest % 1 == 0:\n",
    "    a_rest = int(a_rest)\n",
    "b_rest = b - j * min_cnt\n",
    "if b_rest % 1 == 0:\n",
    "    b_rest = int(b_rest)\n",
    "c_rest = c - k * min_cnt\n",
    "if c_rest % 1 == 0:\n",
    "    c_rest = int(c_rest)\n",
    "\n",
    "print(a_rest, b_rest, c_rest)"
   ]
  },
  {
   "cell_type": "code",
   "execution_count": 6,
   "metadata": {},
   "outputs": [
    {
     "name": "stdout",
     "output_type": "stream",
     "text": [
      "1\n",
      "1\n",
      "2\n",
      "1\n",
      "0\n"
     ]
    }
   ],
   "source": [
    "# 백준 2897번 - 몬스터 트럭\n",
    "import sys\n",
    "# input = sys.stdin.readline\n",
    "\n",
    "r, c = map(int, input().split())\n",
    "spaces = [list(input().rstrip()) for _ in range(r)]\n",
    "\n",
    "parking = [0] * 5\n",
    "\n",
    "for i in range(r-1):\n",
    "    for j in range(c-1):\n",
    "        cnt = 0\n",
    "        parking_space = [spaces[i][j], spaces[i][j+1], spaces[i+1][j], spaces[i+1][j+1]]\n",
    "        if \"#\" in parking_space:\n",
    "            continue\n",
    "        parking[parking_space.count(\"X\")] += 1\n",
    "\n",
    "for i in range(5):\n",
    "    print(parking[i])"
   ]
  },
  {
   "cell_type": "code",
   "execution_count": 22,
   "metadata": {},
   "outputs": [
    {
     "name": "stdout",
     "output_type": "stream",
     "text": [
      "upper_code E code a parameter_cnt 0\n",
      "upper_code E code E parameter_cnt 1\n",
      "isupper\n",
      "upper_code E code b parameter_cnt 0\n",
      "upper_code E code F parameter_cnt 1\n",
      "isupper\n",
      "upper_code F code a parameter_cnt 0\n",
      "upper_code F code b parameter_cnt 1\n",
      "upper_code F code G parameter_cnt 2\n",
      "isupper\n",
      "{'A': 0, 'B': 0, 'C': 0, 'D': 0, 'E': 3, 'F': 3, 'G': 0, 'H': 0, 'I': 0, 'J': 0, 'K': 0, 'L': 0, 'M': 0, 'N': 0, 'O': 0, 'P': 0, 'Q': 0, 'R': 0, 'S': 0, 'T': 0, 'U': 0, 'V': 0, 'W': 0, 'X': 0, 'Y': 0, 'Z': 0}\n",
      "a 3 0 0\n",
      "E 3 1 0\n",
      "b 3 0 2\n",
      "F 3 1 2\n",
      "a 3 0 4\n",
      "b 3 1 4\n",
      "G 3 2 4\n",
      "5\n"
     ]
    }
   ],
   "source": [
    "# 백준 2929번 - 머신 코드\n",
    "import sys\n",
    "# input = sys.stdin.readline\n",
    "\n",
    "code_dict = {}\n",
    "for i in range(26):\n",
    "    code_dict[chr(65+i)] = 0\n",
    "\n",
    "machine_code = input().strip()\n",
    "\n",
    "upper_code = machine_code[0]\n",
    "parameter_cnt = 0\n",
    "for code in machine_code[1:]:\n",
    "    if code.isupper():\n",
    "        if (parameter_cnt + 1) % 4 == 0:\n",
    "            code_dict[upper_code] = max(code_dict[upper_code], parameter_cnt)\n",
    "        else:\n",
    "            add_cnt = 4 - ((parameter_cnt + 1) % 4)\n",
    "            code_dict[upper_code] = max(code_dict[upper_code], parameter_cnt + add_cnt)\n",
    "        upper_code = code\n",
    "        parameter_cnt = 0\n",
    "    else:\n",
    "        parameter_cnt += 1\n",
    "result = 0\n",
    "upper_code = machine_code[0]\n",
    "add_cnt = 0\n",
    "for code in machine_code[1:]:\n",
    "    if code.isupper():\n",
    "        result += (code_dict[upper_code] - add_cnt)\n",
    "        add_cnt = 0\n",
    "        upper_code = code\n",
    "    else:\n",
    "        add_cnt += 1\n",
    "\n",
    "print(result)"
   ]
  },
  {
   "cell_type": "code",
   "execution_count": 8,
   "metadata": {},
   "outputs": [
    {
     "data": {
      "text/plain": [
       "(65, 90)"
      ]
     },
     "execution_count": 8,
     "metadata": {},
     "output_type": "execute_result"
    }
   ],
   "source": [
    "AbcbBccCDefgh"
   ]
  },
  {
   "cell_type": "code",
   "execution_count": null,
   "metadata": {},
   "outputs": [],
   "source": []
  }
 ],
 "metadata": {
  "kernelspec": {
   "display_name": "Python 3",
   "language": "python",
   "name": "python3"
  },
  "language_info": {
   "codemirror_mode": {
    "name": "ipython",
    "version": 3
   },
   "file_extension": ".py",
   "mimetype": "text/x-python",
   "name": "python",
   "nbconvert_exporter": "python",
   "pygments_lexer": "ipython3",
   "version": "3.11.6"
  }
 },
 "nbformat": 4,
 "nbformat_minor": 2
}
