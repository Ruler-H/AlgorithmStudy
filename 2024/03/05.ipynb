{
 "cells": [
  {
   "cell_type": "code",
<<<<<<< HEAD
   "execution_count": 1,
   "metadata": {},
   "outputs": [
    {
     "ename": "ValueError",
     "evalue": "invalid literal for int() with base 10: ''",
     "output_type": "error",
     "traceback": [
      "\u001b[1;31m---------------------------------------------------------------------------\u001b[0m",
      "\u001b[1;31mValueError\u001b[0m                                Traceback (most recent call last)",
      "Cell \u001b[1;32mIn[1], line 7\u001b[0m\n\u001b[0;32m      5\u001b[0m r \u001b[38;5;241m=\u001b[39m \u001b[38;5;28mint\u001b[39m(\u001b[38;5;28minput\u001b[39m()\u001b[38;5;241m.\u001b[39mstrip())\n\u001b[0;32m      6\u001b[0m sangeon \u001b[38;5;241m=\u001b[39m \u001b[38;5;28minput\u001b[39m()\u001b[38;5;241m.\u001b[39mstrip()\n\u001b[1;32m----> 7\u001b[0m n \u001b[38;5;241m=\u001b[39m \u001b[38;5;28;43mint\u001b[39;49m\u001b[43m(\u001b[49m\u001b[38;5;28;43minput\u001b[39;49m\u001b[43m(\u001b[49m\u001b[43m)\u001b[49m\u001b[38;5;241;43m.\u001b[39;49m\u001b[43mstrip\u001b[49m\u001b[43m(\u001b[49m\u001b[43m)\u001b[49m\u001b[43m)\u001b[49m\n\u001b[0;32m      8\u001b[0m friends \u001b[38;5;241m=\u001b[39m [\u001b[38;5;28minput\u001b[39m()\u001b[38;5;241m.\u001b[39mstrip() \u001b[38;5;28;01mfor\u001b[39;00m _ \u001b[38;5;129;01min\u001b[39;00m \u001b[38;5;28mrange\u001b[39m(n)]\n\u001b[0;32m      9\u001b[0m score \u001b[38;5;241m=\u001b[39m \u001b[38;5;241m0\u001b[39m\n",
      "\u001b[1;31mValueError\u001b[0m: invalid literal for int() with base 10: ''"
=======
   "execution_count": 10,
   "metadata": {},
   "outputs": [
    {
     "name": "stdout",
     "output_type": "stream",
     "text": [
      "sangeon S\n",
      "friends S\n",
      "sangeon S\n",
      "friends S\n",
      "sangeon P\n",
      "friends P\n",
      "sangeon P\n",
      "friends P\n",
      "sangeon R\n",
      "friends R\n",
      "5\n",
      "10\n"
>>>>>>> d1f1ef2b514ee0556a7547f7a1677596cfdd48f5
     ]
    }
   ],
   "source": [
    "# 백준 2930번 - 가위 바위 보\n",
    "import sys\n",
    "# input = sys.stdin.readline\n",
    "\n",
    "r = int(input().strip())\n",
    "sangeon = input().strip()\n",
    "n = int(input().strip())\n",
    "friends = [input().strip() for _ in range(n)]\n",
    "score = 0\n",
    "max_score = 0\n",
    "\n",
    "for i in range(r):\n",
    "    r_score = 0\n",
    "    s_score = 0\n",
    "    p_score = 0\n",
    "    for j in range(len(friends)):\n",
    "        if sangeon[i] == \"S\":\n",
    "            if friends[j][i] == \"S\":\n",
    "                score += 1\n",
    "            elif friends[j][i] == \"P\":\n",
    "                score += 2\n",
    "        elif sangeon[i] == \"R\":\n",
    "            if friends[j][i] == \"R\":\n",
    "                score += 1\n",
    "            elif friends[j][i] == \"S\":\n",
    "                score += 2\n",
    "        elif sangeon[i] == \"P\":\n",
    "            if friends[j][i] == \"P\":\n",
    "                score += 1\n",
    "            elif friends[j][i] == \"R\":\n",
    "                score += 2\n",
    "        \n",
    "        if friends[j][i] == \"S\":\n",
    "            r_score += 2\n",
    "            s_score += 1\n",
    "        elif friends[j][i] == \"R\":\n",
    "            p_score += 2\n",
    "            r_score += 1\n",
    "        elif friends[j][i] == \"P\":\n",
    "            s_score += 2\n",
    "            p_score += 1\n",
    "    max_score += max(r_score, s_score, p_score)\n",
    "\n",
    "print(score)\n",
    "print(max_score)"
   ]
  },
  {
   "cell_type": "code",
   "execution_count": 11,
   "metadata": {},
   "outputs": [
    {
     "name": "stdout",
     "output_type": "stream",
     "text": [
      "1 2 5 3 4\n",
      "1 2 3 5 4\n",
      "1 2 3 4 5\n"
     ]
    }
   ],
   "source": [
    "# 백준 2947번 - 나무 조각\n",
    "import sys\n",
    "# input = sys.stdin.readline\n",
    "\n",
    "trees = list(map(int, input().strip().split()))\n",
    "\n",
    "while trees != [1, 2, 3, 4, 5]:\n",
    "    for i in range(4):\n",
    "        if trees[i] > trees[i+1]:\n",
    "            trees[i], trees[i+1] = trees[i+1], trees[i]\n",
    "            print(*trees)"
   ]
  },
  {
   "cell_type": "code",
   "execution_count": 21,
   "metadata": {},
   "outputs": [
    {
     "name": "stdout",
     "output_type": "stream",
     "text": [
      "4 4\n",
      "boudonuimilcbsai\n",
      "bombonisuuladici"
     ]
    }
   ],
   "source": [
    "# 백준 2999번 - 비밀 이메일\n",
    "import sys\n",
    "# input = sys.stdin.readline\n",
    "\n",
    "messsage = input().strip()\n",
    "length = len(messsage)\n",
    "r = 0\n",
    "c = 0\n",
    "\n",
    "for i in range(int(length ** 0.5), 0, -1):\n",
    "    if length % i == 0:\n",
    "        r = i\n",
    "        c = length // i\n",
    "        break\n",
    "for i in range(0, r):\n",
    "    for j in range(c):\n",
    "        print(messsage[i + j * r], end=\"\")"
   ]
  }
 ],
 "metadata": {
  "kernelspec": {
   "display_name": "Python 3",
   "language": "python",
   "name": "python3"
  },
  "language_info": {
   "codemirror_mode": {
    "name": "ipython",
    "version": 3
   },
   "file_extension": ".py",
   "mimetype": "text/x-python",
   "name": "python",
   "nbconvert_exporter": "python",
   "pygments_lexer": "ipython3",
<<<<<<< HEAD
   "version": "3.11.8"
=======
   "version": "3.11.6"
>>>>>>> d1f1ef2b514ee0556a7547f7a1677596cfdd48f5
  }
 },
 "nbformat": 4,
 "nbformat_minor": 2
}
