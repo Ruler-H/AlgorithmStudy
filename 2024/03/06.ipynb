{
 "cells": [
  {
   "cell_type": "code",
   "execution_count": 9,
   "metadata": {},
   "outputs": [
    {
     "name": "stdout",
     "output_type": "stream",
     "text": [
      "###.##\n",
      "######\n",
      "######\n",
      "######\n",
      "######\n",
      "######\n"
     ]
    }
   ],
   "source": [
    "# 백준 3023번 - 마술사 이민혁\n",
    "import sys\n",
    "# input = sys.stdin.readline\n",
    "\n",
    "r, c = map(int, input().split())\n",
    "card_part = [list(input().strip()) for _ in range(r)]\n",
    "a, b = map(int, input().split())\n",
    "card_total = card_part\n",
    "\n",
    "for i in range(len(card_part)):\n",
    "    card_total[i] += card_part[i][::-1]\n",
    "\n",
    "for i in range(len(card_part) - 1, -1, -1):\n",
    "    card_total.append(card_total[i].copy())\n",
    "\n",
    "card_total[a-1][b-1] = \"#\" if card_total[a-1][b-1] == \".\" else \".\"\n",
    "\n",
    "for i in card_total:\n",
    "    print(''.join(i))"
   ]
  },
  {
   "cell_type": "code",
   "execution_count": 10,
   "metadata": {},
   "outputs": [
    {
     "name": "stdout",
     "output_type": "stream",
     "text": [
      "..XX..\n",
      "XX..XX\n",
      "..XX..\n"
     ]
    }
   ],
   "source": [
    "# 백준 3035번 - 스캐너\n",
    "import sys\n",
    "# input = sys.stdin.readline\n",
    "\n",
    "r, c, zr, zc = map(int, input().split())\n",
    "news_paper = [list(input().strip()) for _ in range(r)]\n",
    "\n",
    "for i in range(r):\n",
    "    for _ in range(zr):\n",
    "        for j in range(c):\n",
    "            for _ in range(zc):\n",
    "                print(news_paper[i][j], end=\"\")\n",
    "        print()"
   ]
  },
  {
   "cell_type": "code",
   "execution_count": 12,
   "metadata": {},
   "outputs": [
    {
     "name": "stdout",
     "output_type": "stream",
     "text": [
      "['A', 'B', 'C', 'D', 'E', 'F', 'G', 'H', 'I', 'J', 'K', 'L', 'M', '.', 'N', 'O']\n"
     ]
    }
   ],
   "source": [
    "# 백준 3041번 - N-퍼즐\n",
    "import sys\n",
    "# input = sys.stdin.readline\n",
    "\n",
    "answer = [chr(i) for i in range(65, 65+15)]\n",
    "answer.append(\".\")\n",
    "\n",
    "puzzle = []\n",
    "for _ in range(4):\n",
    "    puzzle += list(input().strip())\n",
    "\n",
    "result = 0\n",
    "for i in range(16):\n",
    "    if puzzle[i] != answer[i]:\n",
    "        ans_idx = puzzle.index(answer[i])\n",
    "        dist = ans_idx - i\n",
    "        result += abs(dist // 4) + abs(dist % 4)\n",
    "        puzzle[i], puzzle[ans_idx] = puzzle[ans_idx], puzzle[i]"
   ]
  },
  {
   "cell_type": "code",
   "execution_count": null,
   "metadata": {},
   "outputs": [],
   "source": []
  }
 ],
 "metadata": {
  "kernelspec": {
   "display_name": "Python 3",
   "language": "python",
   "name": "python3"
  },
  "language_info": {
   "codemirror_mode": {
    "name": "ipython",
    "version": 3
   },
   "file_extension": ".py",
   "mimetype": "text/x-python",
   "name": "python",
   "nbconvert_exporter": "python",
   "pygments_lexer": "ipython3",
   "version": "3.11.8"
  }
 },
 "nbformat": 4,
 "nbformat_minor": 2
}
