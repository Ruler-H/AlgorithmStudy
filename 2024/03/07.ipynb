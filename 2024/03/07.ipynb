{
 "cells": [
  {
   "cell_type": "code",
   "execution_count": 8,
   "metadata": {},
   "outputs": [
    {
     "name": "stdout",
     "output_type": "stream",
     "text": [
      "0\n",
      "0\n",
      "0\n",
      "0\n",
      "0\n",
      "0\n",
      "0\n",
      "0\n",
      "0\n",
      "0\n",
      "0\n",
      "0\n",
      "0\n",
      "0\n",
      "0\n",
      "1\n",
      "3\n"
     ]
    }
   ],
   "source": [
    "# 백준 3041번 - N-퍼즐\n",
    "import sys\n",
    "# input = sys.stdin.readline\n",
    "\n",
    "answer = [chr(i) for i in range(65, 65+15)]\n",
    "answer.append(\".\")\n",
    "\n",
    "puzzle = []\n",
    "for _ in range(4):\n",
    "    puzzle += list(input().strip())\n",
    "\n",
    "result = 0\n",
    "for i in range(16):\n",
    "    if puzzle[i] == \".\":\n",
    "        continue\n",
    "    if puzzle[i] != answer[i]:\n",
    "        answer_idx = answer.index(puzzle[i])\n",
    "        result += abs(answer_idx//4 - i//4) + abs(answer_idx%4 - i%4)\n",
    "\n",
    "print(result)"
   ]
  },
  {
   "cell_type": "code",
   "execution_count": 17,
   "metadata": {},
   "outputs": [
    {
     "name": "stdout",
     "output_type": "stream",
     "text": [
      "12:34\n"
     ]
    }
   ],
   "source": [
    "# 백준 3154번 - 알람시계\n",
    "import sys\n",
    "# input = sys.stdin.readline\n",
    "\n",
    "hour, minute = map(int, input().strip().split(\":\"))\n",
    "\n",
    "button_dict = {\n",
    "    \"1\": [0, 0],\n",
    "    \"2\": [0, 1],\n",
    "    \"3\": [0, 2],\n",
    "    \"4\": [1, 0],\n",
    "    \"5\": [1, 1],\n",
    "    \"6\": [1, 2],\n",
    "    \"7\": [2, 0],\n",
    "    \"8\": [2, 1],\n",
    "    \"9\": [2, 2],\n",
    "    \"0\": [3, 1]\n",
    "}\n",
    "min_effort = 100\n",
    "result = \"\"\n",
    "\n",
    "while hour < 100:\n",
    "    imsi_minute = minute\n",
    "    while imsi_minute < 100:\n",
    "        hour_str = str(hour).zfill(2)\n",
    "        minute_str = str(imsi_minute).zfill(2)\n",
    "        effort = abs(button_dict[hour_str[0]][0] - button_dict[hour_str[1]][0]) + abs(button_dict[hour_str[0]][1] - button_dict[hour_str[1]][1]) + abs(button_dict[hour_str[1]][0] - button_dict[minute_str[0]][0]) + abs(button_dict[hour_str[1]][1] - button_dict[minute_str[0]][1]) + abs(button_dict[minute_str[0]][0] - button_dict[minute_str[1]][0]) + abs(button_dict[minute_str[0]][1] - button_dict[minute_str[1]][1])\n",
    "\n",
    "        if min_effort > effort:\n",
    "            min_effort = effort\n",
    "            result = hour_str + \":\" + minute_str\n",
    "\n",
    "        imsi_minute += 60\n",
    "    hour += 24\n",
    "\n",
    "print(result)"
   ]
  },
  {
   "cell_type": "code",
   "execution_count": null,
   "metadata": {},
   "outputs": [],
   "source": []
  }
 ],
 "metadata": {
  "kernelspec": {
   "display_name": "Python 3",
   "language": "python",
   "name": "python3"
  },
  "language_info": {
   "codemirror_mode": {
    "name": "ipython",
    "version": 3
   },
   "file_extension": ".py",
   "mimetype": "text/x-python",
   "name": "python",
   "nbconvert_exporter": "python",
   "pygments_lexer": "ipython3",
   "version": "3.11.8"
  }
 },
 "nbformat": 4,
 "nbformat_minor": 2
}
