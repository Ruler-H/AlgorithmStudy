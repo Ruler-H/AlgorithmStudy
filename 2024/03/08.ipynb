{
 "cells": [
  {
   "cell_type": "code",
   "execution_count": null,
   "metadata": {},
   "outputs": [],
   "source": [
    "# 백준 1251번 - 단어 나누기\n",
    "import sys\n",
    "# input = sys.stdin.readline\n",
    "\n",
    "word = input().strip()\n",
    "\n",
    "result = []\n",
    "for i in range(1, len(word)-1):\n",
    "    for j in range(i+1, len(word)):\n",
    "        result.append(word[:i][::-1] + word[i:j][::-1] + word[j:][::-1])\n",
    "\n",
    "print(sorted(result)[0])"
   ]
  },
  {
   "cell_type": "code",
   "execution_count": 11,
   "metadata": {},
   "outputs": [
    {
     "name": "stdout",
     "output_type": "stream",
     "text": [
      "26 days, 0:00:00\n",
      "26\n"
     ]
    }
   ],
   "source": [
    "# 백준 1308번 - D-Day\n",
    "import sys\n",
    "# input = sys.stdin.readline\n",
    "import datetime\n",
    "\n",
    "year, month, day = map(int, input().strip().split())\n",
    "year2, month2, day2 = map(int, input().strip().split())\n",
    "\n",
    "d1 = datetime.date(year, month, day)\n",
    "d2 = datetime.date(year2, month2, day2)\n",
    "\n",
    "d_day = (d2 - d1).days\n",
    "\n",
    "if d2 >= datetime.date(year+1000, month, day):\n",
    "    print('gg')\n",
    "else:\n",
    "    print(f'D-{d_day}')"
   ]
  },
  {
   "cell_type": "code",
   "execution_count": 12,
   "metadata": {},
   "outputs": [
    {
     "name": "stdout",
     "output_type": "stream",
     "text": [
      "2\n"
     ]
    }
   ],
   "source": [
    "# 백준 1312번 - 소수\n",
    "import sys\n",
    "# input = sys.stdin.readline\n",
    "\n",
    "a, b, n = map(int, input().strip().split())\n",
    "a = a % b\n",
    "for i in range(n-1):\n",
    "    a = (a * 10) % b\n",
    "print((a * 10) // b)"
   ]
  },
  {
   "cell_type": "code",
   "execution_count": 28,
   "metadata": {},
   "outputs": [
    {
     "ename": "AttributeError",
     "evalue": "'datetime.timedelta' object has no attribute 'minute'",
     "output_type": "error",
     "traceback": [
      "\u001b[1;31m---------------------------------------------------------------------------\u001b[0m",
      "\u001b[1;31mAttributeError\u001b[0m                            Traceback (most recent call last)",
      "Cell \u001b[1;32mIn[28], line 18\u001b[0m\n\u001b[0;32m     16\u001b[0m hour, minute \u001b[38;5;241m=\u001b[39m \u001b[38;5;28mmap\u001b[39m(\u001b[38;5;28mint\u001b[39m, time\u001b[38;5;241m.\u001b[39msplit(\u001b[38;5;124m'\u001b[39m\u001b[38;5;124m:\u001b[39m\u001b[38;5;124m'\u001b[39m))\n\u001b[0;32m     17\u001b[0m total_day \u001b[38;5;241m=\u001b[39m datetime\u001b[38;5;241m.\u001b[39mdatetime(year, \u001b[38;5;241m12\u001b[39m, \u001b[38;5;241m31\u001b[39m) \u001b[38;5;241m-\u001b[39m datetime\u001b[38;5;241m.\u001b[39mdatetime(year \u001b[38;5;241m-\u001b[39m \u001b[38;5;241m1\u001b[39m, \u001b[38;5;241m12\u001b[39m, \u001b[38;5;241m31\u001b[39m)\n\u001b[1;32m---> 18\u001b[0m \u001b[38;5;28mprint\u001b[39m(\u001b[43mtotal_day\u001b[49m\u001b[38;5;241;43m.\u001b[39;49m\u001b[43mminute\u001b[49m)\n\u001b[0;32m     20\u001b[0m my_day \u001b[38;5;241m=\u001b[39m datetime\u001b[38;5;241m.\u001b[39mdatetime(year, month, day, hour, minute) \u001b[38;5;241m-\u001b[39m datetime\u001b[38;5;241m.\u001b[39mdatetime(year \u001b[38;5;241m-\u001b[39m \u001b[38;5;241m1\u001b[39m, \u001b[38;5;241m12\u001b[39m, \u001b[38;5;241m31\u001b[39m)\n\u001b[0;32m     21\u001b[0m \u001b[38;5;28mprint\u001b[39m(my_day)\n",
      "\u001b[1;31mAttributeError\u001b[0m: 'datetime.timedelta' object has no attribute 'minute'"
     ]
    }
   ],
   "source": [
    "# 백준 1340번 - 연도 진행바\n",
    "import sys\n",
    "# input = sys.stdin.readline\n",
    "import datetime\n",
    "month_dict = {\n",
    "    'January': 1, 'February': 2, 'March': 3, 'April': 4, 'May': 5, 'June': 6,\n",
    "    'July': 7, 'August': 8, 'September': 9, 'October': 10, 'November': 11, 'December': 12\n",
    "}\n",
    "\n",
    "date1, date2 = input().strip().split(',')\n",
    "month, day = date1.split()\n",
    "month = month_dict[month]\n",
    "day = int(day)\n",
    "year, time = date2.split()\n",
    "year = int(year)\n",
    "hour, minute = map(int, time.split(':'))\n",
    "total_day = datetime.datetime(year, 12, 31) - datetime.datetime(year - 1, 12, 31)\n",
    "total_minute = total_day.days * 24 * 60\n",
    "\n",
    "my_day = datetime.datetime(year, month, day, hour, minute) - datetime.datetime(year - 1, 12, 31)\n",
    "my_minute = my_day.days * 24 * 60 + hour * 60 + minute\n",
    "\n",
    "print(my_day / total_day * 100)"
   ]
  },
  {
   "cell_type": "code",
   "execution_count": null,
   "metadata": {},
   "outputs": [],
   "source": []
  }
 ],
 "metadata": {
  "kernelspec": {
   "display_name": "Python 3",
   "language": "python",
   "name": "python3"
  },
  "language_info": {
   "codemirror_mode": {
    "name": "ipython",
    "version": 3
   },
   "file_extension": ".py",
   "mimetype": "text/x-python",
   "name": "python",
   "nbconvert_exporter": "python",
   "pygments_lexer": "ipython3",
   "version": "3.11.8"
  }
 },
 "nbformat": 4,
 "nbformat_minor": 2
}
