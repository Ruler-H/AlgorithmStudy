{
 "cells": [
  {
   "cell_type": "code",
   "execution_count": 1,
   "metadata": {},
   "outputs": [
    {
     "name": "stdout",
     "output_type": "stream",
     "text": [
      "1 2\n"
     ]
    },
    {
     "ename": "ValueError",
     "evalue": "invalid literal for int() with base 10: ''",
     "output_type": "error",
     "traceback": [
      "\u001b[1;31m---------------------------------------------------------------------------\u001b[0m",
      "\u001b[1;31mValueError\u001b[0m                                Traceback (most recent call last)",
      "Cell \u001b[1;32mIn[1], line 6\u001b[0m\n\u001b[0;32m      4\u001b[0m i \u001b[38;5;241m=\u001b[39m \u001b[38;5;241m1\u001b[39m\n\u001b[0;32m      5\u001b[0m \u001b[38;5;28;01mwhile\u001b[39;00m \u001b[38;5;28;01mTrue\u001b[39;00m:\n\u001b[1;32m----> 6\u001b[0m     n \u001b[38;5;241m=\u001b[39m \u001b[38;5;28;43mint\u001b[39;49m\u001b[43m(\u001b[49m\u001b[38;5;28;43minput\u001b[39;49m\u001b[43m(\u001b[49m\u001b[43m)\u001b[49m\u001b[43m)\u001b[49m\n\u001b[0;32m      7\u001b[0m     \u001b[38;5;28;01mif\u001b[39;00m n \u001b[38;5;241m==\u001b[39m \u001b[38;5;241m0\u001b[39m:\n\u001b[0;32m      8\u001b[0m         \u001b[38;5;28;01mbreak\u001b[39;00m\n",
      "\u001b[1;31mValueError\u001b[0m: invalid literal for int() with base 10: ''"
     ]
    }
   ],
   "source": [
    "# 백준 1380번 - 귀걸이\n",
    "import sys\n",
    "# input = sys.stdin.readline\n",
    "i = 1\n",
    "while True:\n",
    "    n = int(input())\n",
    "    if n == 0:\n",
    "        break\n",
    "    names = []\n",
    "    for _ in range(n):\n",
    "        names.append(input().strip())\n",
    "    \n",
    "    confiscation_list = []\n",
    "    for _ in range(2 * n - 1):\n",
    "        num, _ = input().split()\n",
    "        num = int(num) - 1\n",
    "        if names[num] in confiscation_list:\n",
    "            confiscation_list.remove(names[num])\n",
    "        else:\n",
    "            confiscation_list.append(names[num])\n",
    "    print(f\"{i} {confiscation_list[0]}\")\n",
    "    i += 1"
   ]
  },
  {
   "cell_type": "code",
   "execution_count": 3,
   "metadata": {},
   "outputs": [
    {
     "name": "stdout",
     "output_type": "stream",
     "text": [
      "Group 1\n",
      "Debby was nasty about Ann\n",
      "Bob was nasty about Debby\n"
     ]
    }
   ],
   "source": [
    "# 백준 1384번 - 메시지\n",
    "import sys\n",
    "# input = sys.stdin.readline\n",
    "i = 1\n",
    "while True:\n",
    "    n = int(input())\n",
    "    if n == 0:\n",
    "        break\n",
    "    names = []\n",
    "    for _ in range(n):\n",
    "        name, *msg = input().split()\n",
    "        names.append((name, msg))\n",
    "    cnt = 0\n",
    "    print(f\"Group {i}\")\n",
    "    for j in range(len(names)):\n",
    "        for k in range(len(names[j][1])):\n",
    "            if names[j][1][k] == \"N\":\n",
    "                cnt += 1\n",
    "                print(f\"{names[j-k-1][0]} was nasty about {names[j][0]}\")\n",
    "    if cnt == 0:\n",
    "        print(\"Nobody was nasty\")\n",
    "    print()\n",
    "    i += 1"
   ]
  },
  {
   "cell_type": "code",
   "execution_count": null,
   "metadata": {},
   "outputs": [],
   "source": [
    "# 백준 1402번 - 아무래도이문제는A번난이도인것같다\n",
    "import sys\n",
    "# input = sys.stdin.readline\n",
    "\n",
    "t = int(input().strip())\n",
    "\n",
    "for _ in range(t):\n",
    "    a, b = map(int, input().split())\n",
    "    print(\"yes\")"
   ]
  },
  {
   "cell_type": "code",
   "execution_count": null,
   "metadata": {},
   "outputs": [],
   "source": [
    "# 백준 1417번 - 국회의원 선거\n",
    "import sys\n",
    "# input = sys.stdin.readline\n",
    "\n",
    "n = int(input().strip())\n",
    "if n == 1:\n",
    "    print(0)\n",
    "else:\n",
    "    votes = []\n",
    "    for _ in range(n):\n",
    "        votes.append(int(input().strip()))\n",
    "    my_vote = votes[0]\n",
    "    votes = sorted(votes[1:], reverse=True)\n",
    "    cnt = 0\n",
    "    while votes[0] >= my_vote:\n",
    "        votes[0] -= 1\n",
    "        my_vote += 1\n",
    "        cnt += 1\n",
    "        votes = sorted(votes, reverse=True)\n",
    "    print(cnt)"
   ]
  }
 ],
 "metadata": {
  "kernelspec": {
   "display_name": "Python 3",
   "language": "python",
   "name": "python3"
  },
  "language_info": {
   "codemirror_mode": {
    "name": "ipython",
    "version": 3
   },
   "file_extension": ".py",
   "mimetype": "text/x-python",
   "name": "python",
   "nbconvert_exporter": "python",
   "pygments_lexer": "ipython3",
   "version": "3.11.8"
  }
 },
 "nbformat": 4,
 "nbformat_minor": 2
}
