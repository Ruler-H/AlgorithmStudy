{
 "cells": [
  {
   "cell_type": "code",
   "execution_count": null,
   "metadata": {},
   "outputs": [],
   "source": [
    "# 백준 1418번 - K-세준수\n",
    "import sys\n",
    "# input = sys.stdin.readline\n",
    "\n",
    "n = int(input().strip())\n",
    "k = int(input().strip())\n",
    "\n",
    "cnt = 1\n",
    "\n",
    "for i in range(2, n+1):\n",
    "    imsi = i\n",
    "    divisor = []\n",
    "    while imsi != 1:\n",
    "        end_p = int(imsi ** 0.5) + 1\n",
    "        for j in range(2, end_p + 1):\n",
    "            if imsi % j == 0:\n",
    "                divisor.append(j)\n",
    "                imsi = imsi // j\n",
    "                break\n",
    "            if j == end_p:\n",
    "                divisor.append(imsi)\n",
    "                imsi = 1\n",
    "\n",
    "    if max(divisor) <= k:\n",
    "        cnt += 1\n",
    "\n",
    "print(cnt)"
   ]
  },
  {
   "cell_type": "code",
   "execution_count": null,
   "metadata": {},
   "outputs": [],
   "source": [
    "# 백준 1531번 - 투명\n",
    "import sys\n",
    "# input = sys.stdin.readline\n",
    "\n",
    "n, m = map(int, input().strip().split())\n",
    "matrix = [[0] * 101 for _ in range(101)]\n",
    "cnt = 0\n",
    "for _ in range(n):\n",
    "    x1, y1, x2, y2 = map(int, input().strip().split())\n",
    "    for i in range(x1, x2+1):\n",
    "        for j in range(y1, y2+1):\n",
    "            matrix[i][j] += 1\n",
    "\n",
    "for i in range(101):\n",
    "    for j in range(101):\n",
    "        if matrix[i][j] > m:\n",
    "            cnt += 1\n",
    "\n",
    "print(cnt)"
   ]
  },
  {
   "cell_type": "code",
   "execution_count": 10,
   "metadata": {},
   "outputs": [
    {
     "name": "stdout",
     "output_type": "stream",
     "text": [
      "2\n"
     ]
    }
   ],
   "source": [
    "# 백준 1543번 - 문서 검색\n",
    "import sys\n",
    "# input = sys.stdin.readline\n",
    "\n",
    "doc = input().strip()\n",
    "word = input().strip()\n",
    "cnt = 0\n",
    "idx = 0\n",
    "\n",
    "while len(doc) >= len(word):\n",
    "    if doc[:len(word)] == word:\n",
    "        cnt += 1\n",
    "        doc = doc[len(word):]\n",
    "    else:\n",
    "        doc = doc[1:]\n",
    "\n",
    "print(cnt)"
   ]
  },
  {
   "cell_type": "code",
   "execution_count": 19,
   "metadata": {},
   "outputs": [
    {
     "name": "stdout",
     "output_type": "stream",
     "text": [
      "5 4\n"
     ]
    }
   ],
   "source": [
    "# 백준 1652번 - 누울 자리를 찾아라\n",
    "import sys\n",
    "# input = sys.stdin.readline\n",
    "\n",
    "n = int(input().strip())\n",
    "matrix = [input().strip() for _ in range(n)]\n",
    "row = 0\n",
    "col = 0\n",
    "\n",
    "for i in range(n):\n",
    "    cnt = 0\n",
    "    for j in range(n):\n",
    "        if matrix[i][j] == '.':\n",
    "            cnt += 1\n",
    "        else:\n",
    "            if cnt >= 2:\n",
    "                row += 1\n",
    "            cnt = 0\n",
    "    if cnt >= 2:\n",
    "        row += 1\n",
    "\n",
    "for i in range(n):\n",
    "    cnt = 0\n",
    "    for j in range(n):\n",
    "        if matrix[j][i] == '.':\n",
    "            cnt += 1\n",
    "        else:\n",
    "            if cnt >= 2:\n",
    "                col += 1\n",
    "            cnt = 0\n",
    "    if cnt >= 2:\n",
    "        col += 1\n",
    "\n",
    "print(row, col)"
   ]
  }
 ],
 "metadata": {
  "kernelspec": {
   "display_name": "Python 3",
   "language": "python",
   "name": "python3"
  },
  "language_info": {
   "codemirror_mode": {
    "name": "ipython",
    "version": 3
   },
   "file_extension": ".py",
   "mimetype": "text/x-python",
   "name": "python",
   "nbconvert_exporter": "python",
   "pygments_lexer": "ipython3",
   "version": "3.11.8"
  }
 },
 "nbformat": 4,
 "nbformat_minor": 2
}
