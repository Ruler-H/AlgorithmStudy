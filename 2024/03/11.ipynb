{
 "cells": [
  {
   "cell_type": "code",
   "execution_count": null,
   "metadata": {},
   "outputs": [],
   "source": [
    "# 백준 1769번 - 3의 배수\n",
    "import sys\n",
    "# input = sys.stdin.readline\n",
    "\n",
    "x = input().strip()\n",
    "\n",
    "cnt = 0\n",
    "\n",
    "while len(x) > 1:\n",
    "    cnt += 1\n",
    "    x = str(sum([int(i) for i in x]))\n",
    "print(cnt)\n",
    "if int(x) % 3 == 0:\n",
    "    print(\"YES\")\n",
    "else:\n",
    "    print(\"NO\")"
   ]
  },
  {
   "cell_type": "code",
   "execution_count": 2,
   "metadata": {},
   "outputs": [
    {
     "name": "stdout",
     "output_type": "stream",
     "text": [
      "2 0 3 1 "
     ]
    }
   ],
   "source": [
    "# 백준 1015번 - 수열 정렬\n",
    "import sys\n",
    "# input = sys.stdin.readline\n",
    "\n",
    "n = int(input().strip())\n",
    "a = list(map(int, input().split()))\n",
    "sorted_a = sorted(a)\n",
    "\n",
    "for i in a:\n",
    "    print(sorted_a.index(i), end=\" \")\n",
    "    sorted_a[sorted_a.index(i)] = -1"
   ]
  },
  {
   "cell_type": "code",
   "execution_count": 4,
   "metadata": {},
   "outputs": [
    {
     "name": "stdout",
     "output_type": "stream",
     "text": [
      "4\n"
     ]
    }
   ],
   "source": [
    "# 백준 1057번 - 토너먼트\n",
    "import sys\n",
    "# input = sys.stdin.readline\n",
    "\n",
    "n, kim, lim = map(int, input().split())\n",
    "round_cnt = 0\n",
    "\n",
    "while kim != lim:\n",
    "    kim = (kim + 1) // 2\n",
    "    lim = (lim + 1) // 2\n",
    "    round_cnt += 1\n",
    "print(round_cnt)"
   ]
  },
  {
   "cell_type": "code",
   "execution_count": 16,
   "metadata": {},
   "outputs": [
    {
     "name": "stdout",
     "output_type": "stream",
     "text": [
      "0\n"
     ]
    }
   ],
   "source": [
    "# 백준 1059번 - 좋은 구간\n",
    "import sys\n",
    "# input = sys.stdin.readline\n",
    "\n",
    "l = int(input().strip())\n",
    "s = list(map(int, input().split()))\n",
    "n = int(input().strip())\n",
    "s.append(0)\n",
    "s.sort()\n",
    "cnt = 0\n",
    "\n",
    "for i in range(l):\n",
    "    if s[i] < n < s[i+1]:\n",
    "        cnt = (n-s[i])*(s[i+1]-n)-1\n",
    "        break\n",
    "\n",
    "print(cnt)"
   ]
  },
  {
   "cell_type": "code",
   "execution_count": null,
   "metadata": {},
   "outputs": [],
   "source": [
    "5\n",
    "5 7 9 10 12\n",
    "4\n",
    "\n",
    "3"
   ]
  }
 ],
 "metadata": {
  "kernelspec": {
   "display_name": "Python 3",
   "language": "python",
   "name": "python3"
  },
  "language_info": {
   "codemirror_mode": {
    "name": "ipython",
    "version": 3
   },
   "file_extension": ".py",
   "mimetype": "text/x-python",
   "name": "python",
   "nbconvert_exporter": "python",
   "pygments_lexer": "ipython3",
   "version": "3.11.8"
  }
 },
 "nbformat": 4,
 "nbformat_minor": 2
}
