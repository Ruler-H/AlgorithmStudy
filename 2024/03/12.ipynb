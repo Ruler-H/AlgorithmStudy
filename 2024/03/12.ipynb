{
 "cells": [
  {
   "cell_type": "code",
   "execution_count": 9,
   "metadata": {},
   "outputs": [
    {
     "name": "stdout",
     "output_type": "stream",
     "text": [
      "-1\n"
     ]
    }
   ],
   "source": [
    "# 백준 1064번 - 평행사변형\n",
    "import sys\n",
    "# input = sys.stdin.readline\n",
    "\n",
    "xa, ya, xb, yb, xc, yc = map(int, input().split())\n",
    "\n",
    "rounds = []\n",
    "\n",
    "rounds.append((((xa - xb) ** 2 + (ya - yb) ** 2) ** 0.5 + ((xb - xc) ** 2 + (yb - yc) ** 2) ** 0.5) * 2)\n",
    "rounds.append((((xa - xc) ** 2 + (ya - yc) ** 2) ** 0.5 + ((xb - xc) ** 2 + (yb - yc) ** 2) ** 0.5) * 2)\n",
    "rounds.append((((xa - xb) ** 2 + (ya - yb) ** 2) ** 0.5 + ((xa - xc) ** 2 + (ya - yc) ** 2) ** 0.5) * 2)\n",
    "\n",
    "rounds.sort()\n",
    "\n",
    "incline1 = 0\n",
    "if xa - xb != 0:\n",
    "    incline1 = (ya - yb) / (xa - xb)\n",
    "incline2 = 0\n",
    "if xc - xb != 0:\n",
    "    incline2 = (yc - yb) / (xc - xb)\n",
    "if incline1 == incline2:\n",
    "    print(-1)\n",
    "else:\n",
    "    print(rounds[2] - rounds[0])"
   ]
  },
  {
   "cell_type": "code",
   "execution_count": 13,
   "metadata": {},
   "outputs": [
    {
     "name": "stdout",
     "output_type": "stream",
     "text": [
      "0\n"
     ]
    }
   ],
   "source": [
    "# 백준 1120번 - 문자열\n",
    "import sys\n",
    "# input = sys.stdin.readline\n",
    "\n",
    "a, b = input().split()\n",
    "min_diff = 50\n",
    "for i in range(len(b) - len(a) + 1):\n",
    "    diff = 0\n",
    "    for j in range(len(a)):\n",
    "        if a[j] != b[i + j]:\n",
    "            diff += 1\n",
    "    min_diff = min(min_diff, diff)\n",
    "print(min_diff)"
   ]
  },
  {
   "cell_type": "code",
   "execution_count": null,
   "metadata": {},
   "outputs": [],
   "source": []
  },
  {
   "cell_type": "code",
   "execution_count": null,
   "metadata": {},
   "outputs": [],
   "source": []
  }
 ],
 "metadata": {
  "kernelspec": {
   "display_name": "Python 3",
   "language": "python",
   "name": "python3"
  },
  "language_info": {
   "codemirror_mode": {
    "name": "ipython",
    "version": 3
   },
   "file_extension": ".py",
   "mimetype": "text/x-python",
   "name": "python",
   "nbconvert_exporter": "python",
   "pygments_lexer": "ipython3",
   "version": "3.11.8"
  }
 },
 "nbformat": 4,
 "nbformat_minor": 2
}
