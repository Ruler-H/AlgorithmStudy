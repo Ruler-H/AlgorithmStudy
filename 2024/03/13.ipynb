{
 "cells": [
  {
   "cell_type": "code",
   "execution_count": 6,
   "metadata": {},
   "outputs": [
    {
     "name": "stdout",
     "output_type": "stream",
     "text": [
      "1\n"
     ]
    }
   ],
   "source": [
    "# 백준 1205번 - 등수 구하기\n",
    "import sys\n",
    "# input = sys.stdin.readline\n",
    "\n",
    "n, score, p = map(int, input().split())\n",
    "if n == 0:\n",
    "    print(1)\n",
    "else:\n",
    "    scores = list(map(int, input().split()))\n",
    "    p -= scores.count(score)\n",
    "    filter_scores = list(filter(lambda x: x > score, scores))\n",
    "    if len(filter_scores) + 1 > p:\n",
    "        print(-1)\n",
    "    else:\n",
    "        print(len(filter_scores) + 1)"
   ]
  },
  {
   "cell_type": "code",
   "execution_count": 8,
   "metadata": {},
   "outputs": [
    {
     "name": "stdout",
     "output_type": "stream",
     "text": [
      "3\n"
     ]
    }
   ],
   "source": [
    "# 백준 1235번 - 학생 번호\n",
    "import sys\n",
    "# input = sys.stdin.readline\n",
    "\n",
    "n = int(input())\n",
    "students = [input().strip() for _ in range(n)]\n",
    "\n",
    "for i in range(len(students[0]) - 1, -1, -1):\n",
    "    temp = set()\n",
    "    for j in range(n):\n",
    "        temp.add(students[j][i:])\n",
    "    if len(temp) == n:\n",
    "        print(len(students[0]) - i)\n",
    "        break"
   ]
  },
  {
   "cell_type": "code",
   "execution_count": 11,
   "metadata": {},
   "outputs": [
    {
     "name": "stdout",
     "output_type": "stream",
     "text": [
      "7 21\n"
     ]
    }
   ],
   "source": [
    "# 백준 1246번 - 온라인 판매\n",
    "import sys\n",
    "# input = sys.stdin.readline\n",
    "\n",
    "n, m = map(int, input().split())\n",
    "prices = [int(input()) for _ in range(m)]\n",
    "prices.sort(reverse=True)\n",
    "\n",
    "max_price = 0\n",
    "max_revenue = 0\n",
    "for i in range(1, (min(n, m)) + 1):\n",
    "    revenue = i * prices[i - 1]\n",
    "    if revenue >= max_revenue:\n",
    "        max_price = prices[i - 1]\n",
    "        max_revenue = revenue\n",
    "\n",
    "print(max_price, max_revenue)"
   ]
  },
  {
   "cell_type": "code",
   "execution_count": 12,
   "metadata": {},
   "outputs": [
    {
     "ename": "IndexError",
     "evalue": "string index out of range",
     "output_type": "error",
     "traceback": [
      "\u001b[1;31m---------------------------------------------------------------------------\u001b[0m",
      "\u001b[1;31mIndexError\u001b[0m                                Traceback (most recent call last)",
      "Cell \u001b[1;32mIn[12], line 7\u001b[0m\n\u001b[0;32m      5\u001b[0m chess_board \u001b[38;5;241m=\u001b[39m [[\u001b[38;5;241m0\u001b[39m] \u001b[38;5;241m*\u001b[39m \u001b[38;5;241m6\u001b[39m \u001b[38;5;28;01mfor\u001b[39;00m _ \u001b[38;5;129;01min\u001b[39;00m \u001b[38;5;28mrange\u001b[39m(\u001b[38;5;241m6\u001b[39m)]\n\u001b[0;32m      6\u001b[0m points \u001b[38;5;241m=\u001b[39m [\u001b[38;5;28minput\u001b[39m()\u001b[38;5;241m.\u001b[39mstrip() \u001b[38;5;28;01mfor\u001b[39;00m _ \u001b[38;5;129;01min\u001b[39;00m \u001b[38;5;28mrange\u001b[39m(\u001b[38;5;241m36\u001b[39m)]\n\u001b[1;32m----> 7\u001b[0m x \u001b[38;5;241m=\u001b[39m \u001b[38;5;28mord\u001b[39m(\u001b[43mpoints\u001b[49m\u001b[43m[\u001b[49m\u001b[43mi\u001b[49m\u001b[43m]\u001b[49m\u001b[43m[\u001b[49m\u001b[38;5;241;43m0\u001b[39;49m\u001b[43m]\u001b[49m) \u001b[38;5;241m-\u001b[39m \u001b[38;5;241m65\u001b[39m\n\u001b[0;32m      8\u001b[0m y \u001b[38;5;241m=\u001b[39m \u001b[38;5;28mint\u001b[39m(points[i][\u001b[38;5;241m1\u001b[39m]) \u001b[38;5;241m-\u001b[39m \u001b[38;5;241m1\u001b[39m\n\u001b[0;32m      9\u001b[0m chess_board[x][y] \u001b[38;5;241m=\u001b[39m \u001b[38;5;241m1\u001b[39m\n",
      "\u001b[1;31mIndexError\u001b[0m: string index out of range"
     ]
    }
   ],
   "source": [
    "# 백준 1331번 - 나이트 투어\n",
    "import sys\n",
    "# input = sys.stdin.readline\n",
    "\n",
    "chess_board = [[0] * 6 for _ in range(6)]\n",
    "points = [input().strip() for _ in range(36)]\n",
    "x = ord(points[0][0]) - 65\n",
    "y = int(points[0][1]) - 1\n",
    "chess_board[x][y] = 1\n",
    "for i in range(1, 36):\n",
    "    x = ord(points[i][0]) - 65\n",
    "    y = int(points[i][1]) - 1\n",
    "    before_x = ord(points[i - 1][0]) - 65\n",
    "    before_y = int(points[i - 1][1]) - 1\n",
    "    move = (abs(x - before_x), abs(y - before_y))\n",
    "    if move not in [(1, 2), (2, 1)]:\n",
    "        print(\"Invalid\")\n",
    "        sys.exit()\n",
    "    chess_board[x][y] = 1\n",
    "if abs(x - (ord(points[0][0]) - 65)) + abs(y - (int(points[0][1]) - 1)) != 3:\n",
    "    print(\"Invalid\")\n",
    "    sys.exit()\n",
    "for i in chess_board:\n",
    "    if 0 in i:\n",
    "        print(\"Invalid\")\n",
    "        sys.exit()\n",
    "\n",
    "print(\"Valid\")"
   ]
  },
  {
   "cell_type": "code",
   "execution_count": 30,
   "metadata": {},
   "outputs": [
    {
     "name": "stdout",
     "output_type": "stream",
     "text": [
      "Invalid\n"
     ]
    },
    {
     "ename": "SystemExit",
     "evalue": "",
     "output_type": "error",
     "traceback": [
      "An exception has occurred, use %tb to see the full traceback.\n",
      "\u001b[1;31mSystemExit\u001b[0m\n"
     ]
    }
   ],
   "source": [
    "# 백준 1331번 - 나이트 투어\n",
    "import sys\n",
    "# input = sys.stdin.readline\n",
    "\n",
    "chess_board = [[0] * 6 for _ in range(6)]\n",
    "points = \"\"\"A1\n",
    "C2\n",
    "E3\n",
    "F5\n",
    "D4\n",
    "B3\n",
    "A1\n",
    "C2\n",
    "E3\n",
    "F5\n",
    "D4\n",
    "B3\n",
    "A1\n",
    "C2\n",
    "E3\n",
    "F5\n",
    "D4\n",
    "B3\n",
    "A1\n",
    "C2\n",
    "E3\n",
    "F5\n",
    "D4\n",
    "B3\n",
    "A1\n",
    "C2\n",
    "E3\n",
    "F5\n",
    "D4\n",
    "B3\n",
    "A1\n",
    "C2\n",
    "E3\n",
    "F5\n",
    "D4\n",
    "B3\"\"\"\n",
    "points = points.strip().split('\\n')\n",
    "x = ord(points[0][0]) - 65\n",
    "y = int(points[0][1]) - 1\n",
    "chess_board[x][y] = 1\n",
    "for i in range(1, 36):\n",
    "    x = ord(points[i][0]) - 65\n",
    "    y = int(points[i][1]) - 1\n",
    "    before_x = ord(points[i - 1][0]) - 65\n",
    "    before_y = int(points[i - 1][1]) - 1\n",
    "    if abs(x - before_x) + abs(y - before_y) != 3:\n",
    "        print(\"Invalid\")\n",
    "        sys.exit()\n",
    "    chess_board[x][y] = 1\n",
    "if abs(x - (ord(points[0][0]) - 65)) + abs(y - (int(points[0][1]) - 1)) != 3:\n",
    "    print(\"Invalid\")\n",
    "    sys.exit()\n",
    "for i in chess_board:\n",
    "    if 0 in i:\n",
    "        print(\"Invalid\")\n",
    "        sys.exit()\n",
    "\n",
    "print(\"Valid\")"
   ]
  },
  {
   "cell_type": "code",
   "execution_count": null,
   "metadata": {},
   "outputs": [],
   "source": []
  }
 ],
 "metadata": {
  "kernelspec": {
   "display_name": "Python 3",
   "language": "python",
   "name": "python3"
  },
  "language_info": {
   "codemirror_mode": {
    "name": "ipython",
    "version": 3
   },
   "file_extension": ".py",
   "mimetype": "text/x-python",
   "name": "python",
   "nbconvert_exporter": "python",
   "pygments_lexer": "ipython3",
   "version": "3.11.8"
  }
 },
 "nbformat": 4,
 "nbformat_minor": 2
}
