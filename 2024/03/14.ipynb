{
 "cells": [
  {
   "cell_type": "code",
   "execution_count": 2,
   "metadata": {},
   "outputs": [
    {
     "name": "stdout",
     "output_type": "stream",
     "text": [
      "2\n"
     ]
    }
   ],
   "source": [
    "# 백준 1337번 - 올바른 배열\n",
    "import sys\n",
    "# input = sys.stdin.readline\n",
    "\n",
    "n = int(input())\n",
    "arr = [int(input()) for _ in range(n)]\n",
    "arr.sort()\n",
    "result = 5\n",
    "\n",
    "for i in range(n):\n",
    "    cnt = 1\n",
    "    for j in range(i+1, n):\n",
    "        if arr[j] - arr[i] <= 4:\n",
    "            cnt += 1\n",
    "        else:\n",
    "            break\n",
    "    result = min(result, 5 - cnt)\n",
    "\n",
    "print(result)"
   ]
  },
  {
   "cell_type": "code",
   "execution_count": 3,
   "metadata": {},
   "outputs": [
    {
     "name": "stdout",
     "output_type": "stream",
     "text": [
      "2\n"
     ]
    }
   ],
   "source": [
    "# 백준 1358번 - 하키\n",
    "import sys\n",
    "# input = sys.stdin.readline\n",
    "\n",
    "w, h, x, y, p = map(int, input().split())\n",
    "result = 0\n",
    "players = [list(map(int, input().split())) for _ in range(p)]\n",
    "\n",
    "for player in players:\n",
    "    p_x, p_y = player\n",
    "    if x <= p_x <= x+w and y <= p_y <= y+h:\n",
    "        result += 1\n",
    "    elif (x-p_x)**2 + (y + (h // 2) - p_y)**2 <= (h // 2)**2:\n",
    "        result += 1\n",
    "    elif (x + w - p_x)**2 + (y + (h // 2) - p_y)**2 <= (h // 2)**2:\n",
    "        result += 1\n",
    "\n",
    "print(result)"
   ]
  },
  {
   "cell_type": "code",
   "execution_count": 17,
   "metadata": {},
   "outputs": [
    {
     "name": "stdout",
     "output_type": "stream",
     "text": [
      "6\n"
     ]
    }
   ],
   "source": [
    "# 백준 1359번 - 복권\n",
    "import sys\n",
    "# input = sys.stdin.readline\n",
    "\n",
    "n, m, k = map(int, input().split())\n",
    "result = 0\n",
    "\n",
    "for i in range(k, n+1):\n",
    "    rate = 1\n",
    "    for _ in range(k):\n",
    "        rate *= i / n\n",
    "\n"
   ]
  },
  {
   "cell_type": "code",
   "execution_count": null,
   "metadata": {},
   "outputs": [],
   "source": []
  }
 ],
 "metadata": {
  "kernelspec": {
   "display_name": "Python 3",
   "language": "python",
   "name": "python3"
  },
  "language_info": {
   "codemirror_mode": {
    "name": "ipython",
    "version": 3
   },
   "file_extension": ".py",
   "mimetype": "text/x-python",
   "name": "python",
   "nbconvert_exporter": "python",
   "pygments_lexer": "ipython3",
   "version": "3.11.8"
  }
 },
 "nbformat": 4,
 "nbformat_minor": 2
}
