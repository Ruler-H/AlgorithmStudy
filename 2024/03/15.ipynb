{
 "cells": [
  {
   "cell_type": "code",
   "execution_count": 15,
   "metadata": {},
   "outputs": [
    {
     "name": "stdout",
     "output_type": "stream",
     "text": [
      "[(1, 2, 3, 4), (1, 2, 3, 5), (1, 2, 3, 6), (1, 2, 3, 7), (1, 2, 3, 8), (1, 2, 4, 5), (1, 2, 4, 6), (1, 2, 4, 7), (1, 2, 4, 8), (1, 2, 5, 6), (1, 2, 5, 7), (1, 2, 5, 8), (1, 2, 6, 7), (1, 2, 6, 8), (1, 2, 7, 8), (1, 3, 4, 5), (1, 3, 4, 6), (1, 3, 4, 7), (1, 3, 4, 8), (1, 3, 5, 6), (1, 3, 5, 7), (1, 3, 5, 8), (1, 3, 6, 7), (1, 3, 6, 8), (1, 3, 7, 8), (1, 4, 5, 6), (1, 4, 5, 7), (1, 4, 5, 8), (1, 4, 6, 7), (1, 4, 6, 8), (1, 4, 7, 8), (1, 5, 6, 7), (1, 5, 6, 8), (1, 5, 7, 8), (1, 6, 7, 8), (2, 3, 4, 5), (2, 3, 4, 6), (2, 3, 4, 7), (2, 3, 4, 8), (2, 3, 5, 6), (2, 3, 5, 7), (2, 3, 5, 8), (2, 3, 6, 7), (2, 3, 6, 8), (2, 3, 7, 8), (2, 4, 5, 6), (2, 4, 5, 7), (2, 4, 5, 8), (2, 4, 6, 7), (2, 4, 6, 8), (2, 4, 7, 8), (2, 5, 6, 7), (2, 5, 6, 8), (2, 5, 7, 8), (2, 6, 7, 8), (3, 4, 5, 6), (3, 4, 5, 7), (3, 4, 5, 8), (3, 4, 6, 7), (3, 4, 6, 8), (3, 4, 7, 8), (3, 5, 6, 7), (3, 5, 6, 8), (3, 5, 7, 8), (3, 6, 7, 8), (4, 5, 6, 7), (4, 5, 6, 8), (4, 5, 7, 8), (4, 6, 7, 8), (5, 6, 7, 8)]\n",
      "answer (1, 2, 3, 4)\n",
      "0.7571428571428571\n"
     ]
    }
   ],
   "source": [
    "# 백준 1359번 - 복권\n",
    "import sys\n",
    "# input = sys.stdin.readline\n",
    "from itertools import combinations\n",
    "\n",
    "n, m, k = map(int, input().split())\n",
    "\n",
    "combinations_list = list(combinations(range(1, n + 1), m))\n",
    "answer = combinations_list[0]\n",
    "winning = 0\n",
    "for i in range(0, len(combinations_list)):\n",
    "    cnt = 0\n",
    "    for j in answer:\n",
    "        if j in combinations_list[i]:\n",
    "            cnt += 1\n",
    "\n",
    "    if cnt >= k:\n",
    "        winning += 1\n",
    "\n",
    "print(winning / len(combinations_list))"
   ]
  },
  {
   "cell_type": "code",
   "execution_count": 17,
   "metadata": {},
   "outputs": [
    {
     "name": "stdout",
     "output_type": "stream",
     "text": [
      "4\n"
     ]
    }
   ],
   "source": [
    "# 백준 1388번 - 바닥 장식\n",
    "import sys\n",
    "# input = sys.stdin.readline\n",
    "\n",
    "n, m = map(int, input().strip().split())\n",
    "\n",
    "floor = [list(input().strip()) for _ in range(n)]\n",
    "\n",
    "cnt = 0\n",
    "for i in range(n):\n",
    "    j = 0\n",
    "    while j < m:\n",
    "        if floor[i][j] == '-':\n",
    "            cnt += 1\n",
    "            while j < m and floor[i][j] == '-':\n",
    "                j += 1\n",
    "        else:\n",
    "            j += 1\n",
    "\n",
    "for j in range(m):\n",
    "    i = 0\n",
    "    while i < n:\n",
    "        if floor[i][j] == '|':\n",
    "            cnt += 1\n",
    "            while i < n and floor[i][j] == '|':\n",
    "                i += 1\n",
    "        else:\n",
    "            i += 1\n",
    "\n",
    "print(cnt)"
   ]
  },
  {
   "cell_type": "code",
   "execution_count": 32,
   "metadata": {},
   "outputs": [
    {
     "name": "stdout",
     "output_type": "stream",
     "text": [
      "3929\n"
     ]
    }
   ],
   "source": [
    "# 백준 1459번 - 걷기\n",
    "import sys\n",
    "# input = sys.stdin.readline\n",
    "\n",
    "x, y, w, s = map(int, input().strip().split())\n",
    "\n",
    "time = 0\n",
    "if w * 2 > s:\n",
    "    min_v = min(x, y)\n",
    "    time += min_v * s\n",
    "    x -= min_v\n",
    "    y -= min_v\n",
    "if w > s:\n",
    "    if x == 0:\n",
    "        time += (y // 2) * 2 * s\n",
    "        y %= 2\n",
    "    else:\n",
    "        time += (x // 2) * 2 * s\n",
    "        x %= 2\n",
    "time += x * w + y * w\n",
    "\n",
    "\n",
    "print(time)"
   ]
  },
  {
   "cell_type": "code",
   "execution_count": null,
   "metadata": {},
   "outputs": [],
   "source": []
  }
 ],
 "metadata": {
  "kernelspec": {
   "display_name": "Python 3",
   "language": "python",
   "name": "python3"
  },
  "language_info": {
   "codemirror_mode": {
    "name": "ipython",
    "version": 3
   },
   "file_extension": ".py",
   "mimetype": "text/x-python",
   "name": "python",
   "nbconvert_exporter": "python",
   "pygments_lexer": "ipython3",
   "version": "3.11.8"
  }
 },
 "nbformat": 4,
 "nbformat_minor": 2
}
