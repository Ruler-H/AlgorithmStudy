{
 "cells": [
  {
   "cell_type": "code",
   "execution_count": null,
   "metadata": {},
   "outputs": [],
   "source": [
    "# 백준 1487번 - 물건 팔기\n",
    "import sys\n",
    "# input = sys.stdin.readline\n",
    "\n",
    "n = int(input().strip())\n",
    "\n",
    "max_price = 0\n",
    "total_price = 0\n",
    "peoples = [list(map(int, input().strip().split())) for _ in range(n)]\n",
    "peoples.sort(key=lambda x: -x[0])\n",
    "for i in range(n):\n",
    "    price = 0\n",
    "    for j in range(0, i + 1):\n",
    "        if peoples[j][1] < peoples[i][0]:\n",
    "            price += (peoples[i][0] - peoples[j][1])\n",
    "    if total_price <= price:\n",
    "        total_price = price\n",
    "        max_price = peoples[i][0]\n",
    "if total_price == 0:\n",
    "    print(0)\n",
    "else:\n",
    "    print(max_price)"
   ]
  },
  {
   "cell_type": "code",
   "execution_count": null,
   "metadata": {},
   "outputs": [],
   "source": [
    "# 백준 1491번 - 나선\n",
    "import sys\n",
    "# input = sys.stdin.readline\n",
    "\n",
    "n, m = map(int, input().strip().split())\n",
    "\n",
    "n_list = [i for i in range(0, n)]\n",
    "m_list = [i for i in range(0, m)]\n",
    "i = 0\n",
    "flag = False\n",
    "while True:\n",
    "    flag = True\n",
    "    if i == 0:\n",
    "        imsi_m_list = m_list[1:]\n",
    "        if len(imsi_m_list) == 0:\n",
    "            print(n_list[-1], m_list[0])\n",
    "            break\n",
    "        m_list = imsi_m_list\n",
    "    elif i == 1:\n",
    "        imsi_n_list = n_list[:-1]\n",
    "        if len(imsi_n_list) == 0:\n",
    "            print(n_list[0], m_list[-1])\n",
    "            break\n",
    "        n_list = imsi_n_list\n",
    "    elif i == 2:\n",
    "        imsi_m_list = m_list[:-1]\n",
    "        if len(imsi_m_list) == 0:\n",
    "            print(n_list[0], m_list[0])\n",
    "            break\n",
    "        m_list = imsi_m_list\n",
    "    elif i == 3:\n",
    "        imsi_n_list = n_list[1:]\n",
    "        if len(imsi_n_list) == 0:\n",
    "            print(n_list[0], m_list[0])\n",
    "            break\n",
    "        n_list = imsi_n_list\n",
    "    i = (i + 1) % 4"
   ]
  },
  {
   "cell_type": "code",
   "execution_count": null,
   "metadata": {},
   "outputs": [],
   "source": []
  }
 ],
 "metadata": {
  "kernelspec": {
   "display_name": "Python 3",
   "language": "python",
   "name": "python3"
  },
  "language_info": {
   "codemirror_mode": {
    "name": "ipython",
    "version": 3
   },
   "file_extension": ".py",
   "mimetype": "text/x-python",
   "name": "python",
   "nbconvert_exporter": "python",
   "pygments_lexer": "ipython3",
   "version": "3.11.8"
  }
 },
 "nbformat": 4,
 "nbformat_minor": 2
}
