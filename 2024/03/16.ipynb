{
 "cells": [
  {
   "cell_type": "code",
   "execution_count": 8,
   "metadata": {},
   "outputs": [
    {
     "ename": "ValueError",
     "evalue": "invalid literal for int() with base 10: ''",
     "output_type": "error",
     "traceback": [
      "\u001b[1;31m---------------------------------------------------------------------------\u001b[0m",
      "\u001b[1;31mValueError\u001b[0m                                Traceback (most recent call last)",
      "Cell \u001b[1;32mIn[8], line 5\u001b[0m\n\u001b[0;32m      2\u001b[0m \u001b[38;5;28;01mimport\u001b[39;00m \u001b[38;5;21;01msys\u001b[39;00m\n\u001b[0;32m      3\u001b[0m \u001b[38;5;66;03m# input = sys.stdin.readline\u001b[39;00m\n\u001b[1;32m----> 5\u001b[0m n \u001b[38;5;241m=\u001b[39m \u001b[38;5;28;43mint\u001b[39;49m\u001b[43m(\u001b[49m\u001b[38;5;28;43minput\u001b[39;49m\u001b[43m(\u001b[49m\u001b[43m)\u001b[49m\u001b[38;5;241;43m.\u001b[39;49m\u001b[43mstrip\u001b[49m\u001b[43m(\u001b[49m\u001b[43m)\u001b[49m\u001b[43m)\u001b[49m\n\u001b[0;32m      7\u001b[0m max_price \u001b[38;5;241m=\u001b[39m \u001b[38;5;241m0\u001b[39m\n\u001b[0;32m      8\u001b[0m total_price \u001b[38;5;241m=\u001b[39m \u001b[38;5;241m0\u001b[39m\n",
      "\u001b[1;31mValueError\u001b[0m: invalid literal for int() with base 10: ''"
     ]
    }
   ],
   "source": [
    "# 백준 1487번 - 물건 팔기\n",
    "import sys\n",
    "# input = sys.stdin.readline\n",
    "\n",
    "n = int(input().strip())\n",
    "\n",
    "max_price = 0\n",
    "total_price = 0\n",
    "peoples = [list(map(int, input().strip().split())) for _ in range(n)]\n",
    "peoples.sort(key=lambda x: -x[0])\n",
    "for i in range(n):\n",
    "    price = 0\n",
    "    for j in range(0, i + 1):\n",
    "        if peoples[j][1] < peoples[i][0]:\n",
    "            price += (peoples[i][0] - peoples[j][1])\n",
    "    if total_price <= price:\n",
    "        total_price = price\n",
    "        max_price = peoples[i][0]\n",
    "if total_price == 0:\n",
    "    print(0)\n",
    "else:\n",
    "    print(max_price)"
   ]
  },
  {
   "cell_type": "code",
   "execution_count": 19,
   "metadata": {},
   "outputs": [
    {
     "name": "stdout",
     "output_type": "stream",
     "text": [
      "[0] [0, 1, 2, 3, 4, 5, 6, 7, 8, 9, 10]\n",
      "0\n",
      "0 0\n"
     ]
    }
   ],
   "source": [
    "# 백준 1491번 - 나선\n",
    "import sys\n",
    "# input = sys.stdin.readline\n",
    "\n",
    "n, m = map(int, input().strip().split())\n",
    "\n",
    "n_list = [i for i in range(0, n)]\n",
    "m_list = [i for i in range(0, m)]\n",
    "i = 0\n",
    "flag = False\n",
    "while True:\n",
    "    flag = True\n",
    "    print(n_list, m_list)\n",
    "    if i == 0:\n",
    "        imsi_m_list = m_list[1:]\n",
    "        if len(imsi_m_list) == 0:\n",
    "            print(n_list[-1], m_list[0])\n",
    "            break\n",
    "        m_list = imsi_m_list\n",
    "    elif i == 1:\n",
    "        imsi_n_list = n_list[:-1]\n",
    "    elif i == 2:\n",
    "        imsi_m_list = m_list[:-1]\n",
    "    elif i == 3:\n",
    "        imsi_n_list = n_list[1:]\n",
    "    i = (i + 1) % 4\n",
    "if not flag:\n",
    "    i \n",
    "print(i)\n",
    "if i == 0:\n",
    "    print(n_list[-1], m_list[0])\n",
    "elif i == 1:\n",
    "    print(n_list[0], m_list[-1])\n",
    "elif i == 2:\n",
    "    print(n_list[0], m_list[0])\n",
    "else:\n",
    "    print(n_list[-1], m_list[-1])"
   ]
  },
  {
   "cell_type": "code",
   "execution_count": null,
   "metadata": {},
   "outputs": [],
   "source": []
  }
 ],
 "metadata": {
  "kernelspec": {
   "display_name": "Python 3",
   "language": "python",
   "name": "python3"
  },
  "language_info": {
   "codemirror_mode": {
    "name": "ipython",
    "version": 3
   },
   "file_extension": ".py",
   "mimetype": "text/x-python",
   "name": "python",
   "nbconvert_exporter": "python",
   "pygments_lexer": "ipython3",
   "version": "3.11.8"
  }
 },
 "nbformat": 4,
 "nbformat_minor": 2
}
