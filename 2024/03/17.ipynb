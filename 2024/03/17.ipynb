{
 "cells": [
  {
   "cell_type": "code",
   "execution_count": null,
   "metadata": {},
   "outputs": [],
   "source": [
    "# 백준 1544번 - 사이클 단어\n",
    "import sys\n",
    "# input = sys.stdin.readline\n",
    "\n",
    "n = int(input())\n",
    "words = [input().strip() for _ in range(n)]\n",
    "result = []\n",
    "for word in words:\n",
    "    for i in range(len(word)):\n",
    "        if word[i:] + word[:i] in result:\n",
    "            break\n",
    "    else:\n",
    "        result.append(word)\n",
    "\n",
    "print(len(result))"
   ]
  },
  {
   "cell_type": "code",
   "execution_count": null,
   "metadata": {},
   "outputs": [],
   "source": [
    "# 백준 1590번 - 캠프가는 영식\n",
    "import sys\n",
    "# input = sys.stdin.readline\n",
    "\n",
    "n, t = map(int, input().split())\n",
    "bus_list = []\n",
    "for _ in range(n):\n",
    "    s, i, c = map(int, input().strip().split())\n",
    "    bus_list += list(range(s, s + (i * c), i))\n",
    "bus_list.sort()\n",
    "bus_list = list(filter(lambda x: x >= t, bus_list))\n",
    "if not bus_list:\n",
    "    print(-1)\n",
    "else:\n",
    "    print(bus_list[0] - t)"
   ]
  },
  {
   "cell_type": "code",
   "execution_count": null,
   "metadata": {},
   "outputs": [],
   "source": [
    "# 백준 1622번 - 공통 순열\n",
    "import sys\n",
    "# input = sys.stdin.readline\n",
    "while True:\n",
    "    try:\n",
    "        a = input()\n",
    "        b = input()\n",
    "        result = []\n",
    "        for i in a:\n",
    "            if i in b:\n",
    "                result.append(i)\n",
    "                b = b.replace(i, '', 1)\n",
    "        result.sort()\n",
    "        print(''.join(result))\n",
    "    except:\n",
    "        break"
   ]
  },
  {
   "cell_type": "code",
   "execution_count": null,
   "metadata": {},
   "outputs": [],
   "source": []
  }
 ],
 "metadata": {
  "kernelspec": {
   "display_name": "Python 3",
   "language": "python",
   "name": "python3"
  },
  "language_info": {
   "codemirror_mode": {
    "name": "ipython",
    "version": 3
   },
   "file_extension": ".py",
   "mimetype": "text/x-python",
   "name": "python",
   "nbconvert_exporter": "python",
   "pygments_lexer": "ipython3",
   "version": "3.11.8"
  }
 },
 "nbformat": 4,
 "nbformat_minor": 2
}
