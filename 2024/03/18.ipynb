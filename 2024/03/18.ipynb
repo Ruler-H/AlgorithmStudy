{
 "cells": [
  {
   "cell_type": "code",
   "execution_count": 47,
   "metadata": {},
   "outputs": [
    {
     "name": "stdout",
     "output_type": "stream",
     "text": [
      "4\n"
     ]
    }
   ],
   "source": [
    "# 백준 1639번 - 행운의 티켓\n",
    "import sys\n",
    "# input = sys.stdin.readline\n",
    "\n",
    "s = input().strip()\n",
    "\n",
    "cnt = 0\n",
    "for i in range(len(s)):\n",
    "    for j in range(1, (len(s) - i) // 2 + 1):\n",
    "        if sum(map(int, s[i:i+j])) == sum(map(int, s[i+j:i+2*j])):\n",
    "            cnt = max(cnt, 2*j)\n",
    "\n",
    "print(cnt)"
   ]
  },
  {
   "cell_type": "code",
   "execution_count": null,
   "metadata": {},
   "outputs": [],
   "source": [
    "len('986561517416921217551395112859219257312')"
   ]
  },
  {
   "cell_type": "code",
   "execution_count": null,
   "metadata": {},
   "outputs": [],
   "source": []
  }
 ],
 "metadata": {
  "kernelspec": {
   "display_name": "Python 3",
   "language": "python",
   "name": "python3"
  },
  "language_info": {
   "codemirror_mode": {
    "name": "ipython",
    "version": 3
   },
   "file_extension": ".py",
   "mimetype": "text/x-python",
   "name": "python",
   "nbconvert_exporter": "python",
   "pygments_lexer": "ipython3",
   "version": "3.11.8"
  }
 },
 "nbformat": 4,
 "nbformat_minor": 2
}
