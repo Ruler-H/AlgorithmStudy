{
 "cells": [
  {
   "cell_type": "code",
   "execution_count": 21,
   "metadata": {},
   "outputs": [
    {
     "name": "stdout",
     "output_type": "stream",
     "text": [
      "10\n"
     ]
    }
   ],
   "source": [
    "# 백준 1680번 - 쓰레기 수거\n",
    "import sys\n",
    "# input = sys.stdin.readline\n",
    "\n",
    "t = int(input().strip())\n",
    "\n",
    "for _ in range(t):\n",
    "    w, n = map(int, input().strip().split())\n",
    "    trash = list(list(map(int, input().strip().split())) for _ in range(n))\n",
    "    dist_sum = 0\n",
    "    trash_sum = 0\n",
    "    i = 0\n",
    "    while i < n:\n",
    "        if trash_sum + trash[i][1] < w:\n",
    "            trash_sum += trash[i][1]\n",
    "            i += 1\n",
    "        elif trash_sum + trash[i][1] == w:\n",
    "            dist_sum += trash[i][0] * 2\n",
    "            trash_sum = 0\n",
    "            i += 1\n",
    "        else:\n",
    "            dist_sum += trash[i][0] * 2\n",
    "            trash_sum = 0\n",
    "    if trash_sum > 0:\n",
    "        dist_sum += trash[-1][0] * 2\n",
    "    print(dist_sum)"
   ]
  }
 ],
 "metadata": {
  "kernelspec": {
   "display_name": "Python 3",
   "language": "python",
   "name": "python3"
  },
  "language_info": {
   "codemirror_mode": {
    "name": "ipython",
    "version": 3
   },
   "file_extension": ".py",
   "mimetype": "text/x-python",
   "name": "python",
   "nbconvert_exporter": "python",
   "pygments_lexer": "ipython3",
   "version": "3.11.8"
  }
 },
 "nbformat": 4,
 "nbformat_minor": 2
}
