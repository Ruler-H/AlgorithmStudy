{
 "cells": [
  {
   "cell_type": "code",
   "execution_count": 21,
   "metadata": {},
   "outputs": [
    {
     "name": "stdout",
     "output_type": "stream",
     "text": [
      "10\n"
     ]
    }
   ],
   "source": [
    "# 백준 1051번 - 숫자 정사각형\n",
    "import sys\n",
    "# input = sys.stdin.readline\n",
    "\n",
    "n, m = map(int, input().strip().split())\n",
    "\n",
    "arr = [list(map(int, input().strip())) for _ in range(n)]\n",
    "\n",
    "max_size = 1\n",
    "\n",
    "for i in range(n):\n",
    "    for j in range(m):\n",
    "        for k in range(min(n-i, m-j)):\n",
    "            if arr[i][j] == arr[i+k][j] == arr[i][j+k] == arr[i+k][j+k]:\n",
    "                max_size = max(max_size, (k+1)**2)\n",
    "\n",
    "print(max_size)"
   ]
  },
  {
   "cell_type": "code",
   "execution_count": 15,
   "metadata": {},
   "outputs": [
    {
     "name": "stdout",
     "output_type": "stream",
     "text": [
      "5\n",
      "{5}\n",
      "1\n"
     ]
    }
   ],
   "source": [
    "# 백준 1291번 - 이면수와 임현수\n",
    "import sys\n",
    "# input = sys.stdin.readline\n",
    "\n",
    "n = int(input().strip())\n",
    "is_im = False\n",
    "is_imhyun = False\n",
    "\n",
    "if sum(map(int, str(n))) % 2 == 1 and (n == 4 or n >= 6):\n",
    "    is_im = True\n",
    "print(sum(map(int, str(n))))\n",
    "if n == 4 or n == 2:\n",
    "    is_imhyun = True\n",
    "n_soinsu = set()\n",
    "if n != 1:\n",
    "    while n != 1:\n",
    "        for i in range(2, n+1):\n",
    "            if n % i == 0:\n",
    "                n_soinsu.add(i)\n",
    "                n = n // i\n",
    "                break\n",
    "    if len(n_soinsu) % 2 == 0:\n",
    "        is_imhyun = True\n",
    "print(n_soinsu)\n",
    "if is_im and is_imhyun:\n",
    "    print(4)\n",
    "elif is_im:\n",
    "    print(1)\n",
    "elif is_imhyun:\n",
    "    print(2)\n",
    "else:\n",
    "    print(3)"
   ]
  },
  {
   "cell_type": "code",
   "execution_count": null,
   "metadata": {},
   "outputs": [],
   "source": [
    "11\n"
   ]
  }
 ],
 "metadata": {
  "kernelspec": {
   "display_name": "Python 3",
   "language": "python",
   "name": "python3"
  },
  "language_info": {
   "codemirror_mode": {
    "name": "ipython",
    "version": 3
   },
   "file_extension": ".py",
   "mimetype": "text/x-python",
   "name": "python",
   "nbconvert_exporter": "python",
   "pygments_lexer": "ipython3",
   "version": "3.11.8"
  }
 },
 "nbformat": 4,
 "nbformat_minor": 2
}
