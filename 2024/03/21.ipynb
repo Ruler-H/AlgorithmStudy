{
 "cells": [
  {
   "cell_type": "code",
   "execution_count": 21,
   "metadata": {},
   "outputs": [
    {
     "name": "stdout",
     "output_type": "stream",
     "text": [
      "10\n"
     ]
    }
   ],
   "source": [
    "# 백준 1678번 - 기차\n",
    "import sys\n",
    "# input = sys.stdin.readline\n",
    "\n",
    "t, m, n = map(int, input().strip().split())\n",
    "\n",
    "trains = []\n",
    "for _ in range(t):\n",
    "    train = list(map(int, input().strip().split()))\n",
    "    trains_num = train[0]\n",
    "    for i in train[1:-1]:\n",
    "        trains.append([i, trains_num])\n"
   ]
  }
 ],
 "metadata": {
  "kernelspec": {
   "display_name": "Python 3",
   "language": "python",
   "name": "python3"
  },
  "language_info": {
   "codemirror_mode": {
    "name": "ipython",
    "version": 3
   },
   "file_extension": ".py",
   "mimetype": "text/x-python",
   "name": "python",
   "nbconvert_exporter": "python",
   "pygments_lexer": "ipython3",
   "version": "3.11.8"
  }
 },
 "nbformat": 4,
 "nbformat_minor": 2
}
