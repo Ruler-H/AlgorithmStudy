{
 "cells": [
  {
   "cell_type": "code",
   "execution_count": 5,
   "metadata": {},
   "outputs": [
    {
     "name": "stdout",
     "output_type": "stream",
     "text": [
      "1\n"
     ]
    }
   ],
   "source": [
    "# 백준 1678번 - 기차\n",
    "import sys\n",
    "# input = sys.stdin.readline\n",
    "\n",
    "t, m, n = map(int, input().strip().split())\n",
    "\n",
    "trains = []\n",
    "for _ in range(t):\n",
    "    train = list(map(str, input().strip().split()))\n",
    "    trains_num = train[0]\n",
    "    for i in train[1:-1]:\n",
    "        trains.append([int(i), trains_num])\n",
    "\n",
    "trains.sort(key=lambda x: x[0])\n",
    "\n",
    "start_idx = 0\n",
    "for train in trains:\n",
    "    if train[0] >= m:\n",
    "        start_idx = trains.index(train)\n",
    "        break\n",
    "\n",
    "print(trains[(start_idx + n - 1) % len(trains)][1])"
   ]
  },
  {
   "cell_type": "code",
   "execution_count": 21,
   "metadata": {},
   "outputs": [
    {
     "name": "stdout",
     "output_type": "stream",
     "text": [
      "1\n",
      "13\n"
     ]
    }
   ],
   "source": [
    "# 백준 1788번 - 피보나치 수의 확장\n",
    "import sys\n",
    "# input = sys.stdin.readline\n",
    "\n",
    "n = int(input().strip())\n",
    "\n",
    "if n == 0:\n",
    "    print(0)\n",
    "    print(0)\n",
    "elif n > 0:\n",
    "    print(1)\n",
    "    a, b = 0, 1\n",
    "    for _ in range(n - 1):\n",
    "        a, b = b, (a + b) % 1000000000\n",
    "    print(b)\n",
    "else:\n",
    "    if n % 2 == 0:\n",
    "        print(-1)\n",
    "    else:\n",
    "        print(1)\n",
    "    a, b = 0, 1\n",
    "    for _ in range(abs(n) - 1):\n",
    "        a, b = b, (a + b) % 1000000000\n",
    "    print(b)"
   ]
  },
  {
   "cell_type": "code",
   "execution_count": null,
   "metadata": {},
   "outputs": [],
   "source": []
  }
 ],
 "metadata": {
  "kernelspec": {
   "display_name": "Python 3",
   "language": "python",
   "name": "python3"
  },
  "language_info": {
   "codemirror_mode": {
    "name": "ipython",
    "version": 3
   },
   "file_extension": ".py",
   "mimetype": "text/x-python",
   "name": "python",
   "nbconvert_exporter": "python",
   "pygments_lexer": "ipython3",
   "version": "3.11.8"
  }
 },
 "nbformat": 4,
 "nbformat_minor": 2
}
