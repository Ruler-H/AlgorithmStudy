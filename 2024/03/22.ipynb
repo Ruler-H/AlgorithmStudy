{
 "cells": [
  {
   "cell_type": "code",
   "execution_count": 6,
   "metadata": {},
   "outputs": [
    {
     "name": "stdout",
     "output_type": "stream",
     "text": [
      "[0, 1, 2, 3, 5]\n",
      "5\n"
     ]
    }
   ],
   "source": [
    "# 백준 1904번 - 01타일\n",
    "import sys\n",
    "# input = sys.stdin.readline\n",
    "\n",
    "n = int(input().strip())\n",
    "\n",
    "dp = [0] * 1000001\n",
    "dp[1] = 1\n",
    "dp[2] = 2\n",
    "\n",
    "for i in range(3, n+1):\n",
    "    dp[i] = (dp[i-1] + dp[i-2]) % 15746\n",
    "\n",
    "print(dp[n])"
   ]
  },
  {
   "cell_type": "code",
   "execution_count": 15,
   "metadata": {},
   "outputs": [
    {
     "name": "stdout",
     "output_type": "stream",
     "text": [
      "49 26 27 28 29 30 31 \n",
      "48 25 10 11 12 13 32 \n",
      "47 24 9 2 3 14 33 \n",
      "46 23 8 1 4 15 34 \n",
      "45 22 7 6 5 16 35 \n",
      "44 21 20 19 18 17 36 \n",
      "43 42 41 40 39 38 37 \n",
      "5 7\n"
     ]
    }
   ],
   "source": [
    "# 백준 1913번 - 달팽이\n",
    "import sys\n",
    "# input = sys.stdin.readline\n",
    "\n",
    "n = int(input().strip())\n",
    "find_num = int(input().strip())\n",
    "\n",
    "matrix = [[0] * n for _ in range(n)]\n",
    "\n",
    "num = n ** 2\n",
    "i = 0\n",
    "j = 0\n",
    "matrix[i][j] = num\n",
    "num -= 1\n",
    "direction = 0\n",
    "while num > 0:\n",
    "    if direction == 0:\n",
    "        i += 1\n",
    "        while True:\n",
    "            matrix[i][j] = num\n",
    "            num -= 1\n",
    "            if i + 1 < n and matrix[i+1][j] == 0:\n",
    "                i += 1\n",
    "            else:\n",
    "                direction = 1\n",
    "                break\n",
    "    elif direction == 1:\n",
    "        j += 1\n",
    "        while True:\n",
    "            matrix[i][j] = num\n",
    "            num -= 1\n",
    "            if j + 1 < n and matrix[i][j+1] == 0:\n",
    "                j += 1\n",
    "            else:\n",
    "                direction = 2\n",
    "                break\n",
    "    elif direction == 2:\n",
    "        i -= 1\n",
    "        while True:\n",
    "            matrix[i][j] = num\n",
    "            num -= 1\n",
    "            if i - 1 >= 0 and matrix[i-1][j] == 0:\n",
    "                i -= 1\n",
    "            else:\n",
    "                direction = 3\n",
    "                break\n",
    "    elif direction == 3:\n",
    "        j -= 1\n",
    "        while True:\n",
    "            matrix[i][j] = num\n",
    "            num -= 1\n",
    "            if j - 1 >= 0 and matrix[i][j-1] == 0:\n",
    "                j -= 1\n",
    "            else:\n",
    "                direction = 0\n",
    "                break\n",
    "\n",
    "for i in range(n):\n",
    "    for j in range(n):\n",
    "        print(matrix[i][j], end=\" \")\n",
    "    print()\n",
    "\n",
    "i_idx, j_idx = 0, 0\n",
    "for i in range(n):\n",
    "    for j in range(n):\n",
    "        if matrix[i][j] == find_num:\n",
    "            i_idx = i\n",
    "            j_idx = j\n",
    "            break\n",
    "        \n",
    "print(i_idx+1, j_idx+1)"
   ]
  },
  {
   "cell_type": "code",
   "execution_count": null,
   "metadata": {},
   "outputs": [],
   "source": []
  }
 ],
 "metadata": {
  "kernelspec": {
   "display_name": "Python 3",
   "language": "python",
   "name": "python3"
  },
  "language_info": {
   "codemirror_mode": {
    "name": "ipython",
    "version": 3
   },
   "file_extension": ".py",
   "mimetype": "text/x-python",
   "name": "python",
   "nbconvert_exporter": "python",
   "pygments_lexer": "ipython3",
   "version": "3.11.8"
  }
 },
 "nbformat": 4,
 "nbformat_minor": 2
}
