{
 "cells": [
  {
   "cell_type": "code",
   "execution_count": 6,
   "metadata": {},
   "outputs": [
    {
     "name": "stdout",
     "output_type": "stream",
     "text": [
      "[0, 1, 2, 3, 5]\n",
      "5\n"
     ]
    }
   ],
   "source": [
    "# 백준 1904번 - 01타일\n",
    "import sys\n",
    "# input = sys.stdin.readline\n",
    "\n",
    "n = int(input().strip())\n",
    "\n",
    "dp = [0] * 1000001\n",
    "dp[1] = 1\n",
    "dp[2] = 2\n",
    "\n",
    "for i in range(3, n+1):\n",
    "    dp[i] = (dp[i-1] + dp[i-2]) % 15746\n",
    "\n",
    "print(dp[n])"
   ]
  },
  {
   "cell_type": "code",
   "execution_count": 11,
   "metadata": {},
   "outputs": [
    {
     "name": "stdout",
     "output_type": "stream",
     "text": [
      "36 13 15 16 17 18 \n",
      "35 12 0 0 1 20 \n",
      "34 11 0 0 2 21 \n",
      "33 10 0 0 3 22 \n",
      "32 8 7 6 4 23 \n",
      "30 29 28 27 26 24 \n"
     ]
    }
   ],
   "source": [
    "# 백준 1913번 - 달팽이\n",
    "import sys\n",
    "# input = sys.stdin.readline\n",
    "\n",
    "n = int(input().strip())\n",
    "find_num = int(input().strip())\n",
    "\n",
    "matrix = [[0] * n for _ in range(n)]\n",
    "\n",
    "num = n ** 2\n",
    "i = 0\n",
    "j = 0\n",
    "matrix[i][j] = num\n",
    "direction = 0\n",
    "while num > 0:\n",
    "    if direction == 0:\n",
    "        i += 1\n",
    "        while True:\n",
    "            matrix[i][j] = num\n",
    "            num -= 1\n",
    "            if i + 1 < n and matrix[i+1][j] == 0:\n",
    "                i += 1\n",
    "            else:\n",
    "                direction = 1\n",
    "                break\n",
    "    elif direction == 1:\n",
    "        j += 1\n",
    "        while True:\n",
    "            matrix[i][j] = num\n",
    "            num -= 1\n",
    "            if j + 1 < n and matrix[i][j+1] == 0:\n",
    "                j += 1\n",
    "            else:\n",
    "                direction = 2\n",
    "                break\n",
    "    elif direction == 2:\n",
    "        while True:\n",
    "            matrix[i][j] = num\n",
    "            num -= 1\n",
    "            if i - 1 >= 0 and matrix[i-1][j] == 0:\n",
    "                i -= 1\n",
    "            else:\n",
    "                direction = 3\n",
    "                break\n",
    "    elif direction == 3:\n",
    "        while True:\n",
    "            matrix[i][j] = num\n",
    "            num -= 1\n",
    "            if j - 1 >= 0 and matrix[i][j-1] == 0:\n",
    "                j -= 1\n",
    "            else:\n",
    "                direction = 0\n",
    "                break\n",
    "\n",
    "for i in range(n):\n",
    "    for j in range(n):\n",
    "        print(matrix[i][j], end=\" \")\n",
    "    print()"
   ]
  },
  {
   "cell_type": "code",
   "execution_count": null,
   "metadata": {},
   "outputs": [],
   "source": []
  }
 ],
 "metadata": {
  "kernelspec": {
   "display_name": "Python 3",
   "language": "python",
   "name": "python3"
  },
  "language_info": {
   "codemirror_mode": {
    "name": "ipython",
    "version": 3
   },
   "file_extension": ".py",
   "mimetype": "text/x-python",
   "name": "python",
   "nbconvert_exporter": "python",
   "pygments_lexer": "ipython3",
   "version": "3.11.8"
  }
 },
 "nbformat": 4,
 "nbformat_minor": 2
}
