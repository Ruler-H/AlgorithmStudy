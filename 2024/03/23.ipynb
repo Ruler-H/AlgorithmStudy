{
 "cells": [
  {
   "cell_type": "code",
   "execution_count": 1,
   "metadata": {},
   "outputs": [
    {
     "name": "stdout",
     "output_type": "stream",
     "text": [
      "6.20\n"
     ]
    }
   ],
   "source": [
    "# 백준 1935번 - 후위 표기식2\n",
    "import sys\n",
    "# input = sys.stdin.readline\n",
    "\n",
    "n = int(input())\n",
    "expression = input().strip()\n",
    "nums = [int(input()) for _ in range(n)]\n",
    "\n",
    "stack = []\n",
    "for i in expression:\n",
    "    if i.isalpha():\n",
    "        stack.append(nums[ord(i) - ord('A')])\n",
    "    else:\n",
    "        b = stack.pop()\n",
    "        a = stack.pop()\n",
    "        if i == '+':\n",
    "            stack.append(a + b)\n",
    "        elif i == '-':\n",
    "            stack.append(a - b)\n",
    "        elif i == '*':\n",
    "            stack.append(a * b)\n",
    "        elif i == '/':\n",
    "            stack.append(a / b)\n",
    "print(\"{:.2f}\".format(stack[0]))"
   ]
  },
  {
   "cell_type": "code",
   "execution_count": null,
   "metadata": {},
   "outputs": [],
   "source": []
  }
 ],
 "metadata": {
  "kernelspec": {
   "display_name": "Python 3",
   "language": "python",
   "name": "python3"
  },
  "language_info": {
   "codemirror_mode": {
    "name": "ipython",
    "version": 3
   },
   "file_extension": ".py",
   "mimetype": "text/x-python",
   "name": "python",
   "nbconvert_exporter": "python",
   "pygments_lexer": "ipython3",
   "version": "3.11.8"
  }
 },
 "nbformat": 4,
 "nbformat_minor": 2
}
