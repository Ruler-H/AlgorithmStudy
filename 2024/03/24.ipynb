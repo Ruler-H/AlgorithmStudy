{
 "cells": [
  {
   "cell_type": "code",
   "execution_count": null,
   "metadata": {},
   "outputs": [],
   "source": [
    "# 백준 1951번 - 활자\n",
    "import sys\n",
    "# input = sys.stdin.readline\n",
    "\n",
    "n = input().strip()\n",
    "result = 0\n",
    "for i in range(0, len(n) - 1):\n",
    "    result += (9 * (10 ** i)) * (i + 1)\n",
    "result += (int(n) - (10 ** (len(n) - 1) - 1)) * len(n)\n",
    "\n",
    "print(result % 1234567)"
   ]
  },
  {
   "cell_type": "code",
   "execution_count": null,
   "metadata": {},
   "outputs": [],
   "source": [
    "# 백준 1966번 - 프린터 큐\n",
    "import sys\n",
    "# input = sys.stdin.readline\n",
    "\n",
    "t = int(input().strip())\n",
    "\n",
    "for _ in range(t):\n",
    "    n, m = map(int, input().strip().split())\n",
    "    queue = list(map(int, input().strip().split()))\n",
    "    queue = [(i, idx) for idx, i in enumerate(queue)]\n",
    "    cnt = 0\n",
    "    while True:\n",
    "        if queue[0][0] == max(queue, key=lambda x: x[0])[0]:\n",
    "            cnt += 1\n",
    "            if queue[0][1] == m:\n",
    "                print(cnt)\n",
    "                break\n",
    "            else:\n",
    "                queue.pop(0)\n",
    "        else:\n",
    "            queue.append(queue.pop(0))"
   ]
  },
  {
   "cell_type": "code",
   "execution_count": null,
   "metadata": {},
   "outputs": [],
   "source": [
    "# 백준 1972번 - 놀라운 문자열\n",
    "import sys\n",
    "# input = sys.stdin.readline\n",
    "\n",
    "while True:\n",
    "    inp_str = input().strip()\n",
    "    if inp_str == \"*\":\n",
    "        break\n",
    "\n",
    "    result = True\n",
    "\n",
    "    for i in range(1, len(inp_str)):\n",
    "        temp = set()\n",
    "        for j in range(len(inp_str) - i):\n",
    "            temp.add(inp_str[j] + inp_str[j + i])\n",
    "        if len(temp) != len(inp_str) - i:\n",
    "            result = False\n",
    "            break\n",
    "    if result:\n",
    "        print(inp_str + \" is surprising.\")\n",
    "    else:\n",
    "        print(inp_str + \" is NOT surprising.\")"
   ]
  }
 ],
 "metadata": {
  "kernelspec": {
   "display_name": "Python 3",
   "language": "python",
   "name": "python3"
  },
  "language_info": {
   "codemirror_mode": {
    "name": "ipython",
    "version": 3
   },
   "file_extension": ".py",
   "mimetype": "text/x-python",
   "name": "python",
   "nbconvert_exporter": "python",
   "pygments_lexer": "ipython3",
   "version": "3.11.8"
  }
 },
 "nbformat": 4,
 "nbformat_minor": 2
}
