{
 "cells": [
  {
   "cell_type": "code",
   "execution_count": 1,
   "metadata": {},
   "outputs": [
    {
     "name": "stdout",
     "output_type": "stream",
     "text": [
      "3\n"
     ]
    }
   ],
   "source": [
    "# 백준 2012번 - 등수 매기기\n",
    "import sys\n",
    "# input = sys.stdin.readline\n",
    "\n",
    "n = int(input().strip())\n",
    "rank = [0] * n\n",
    "for i in range(n):\n",
    "    rank[i] = int(input().strip())\n",
    "\n",
    "rank.sort()\n",
    "result = 0\n",
    "for i in range(n):\n",
    "    result += abs(rank[i] - (i+1))  \n",
    "print(result)"
   ]
  },
  {
   "cell_type": "code",
   "execution_count": 10,
   "metadata": {},
   "outputs": [],
   "source": [
    "# 백준 2082번 - 시계\n",
    "import sys\n",
    "# input = sys.stdin.readline\n",
    "import re\n",
    "\n",
    "num_dict = {\n",
    "    0 : [\"###\", \"#.#\", \"#.#\", \"#.#\", \"###\"],\n",
    "    1 : [\"..#\", \"..#\", \"..#\", \"..#\", \"..#\"],\n",
    "    2 : [\"###\", \"..#\", \"###\", \"#..\", \"###\"],\n",
    "    3 : [\"###\", \"..#\", \"###\", \"..#\", \"###\"],\n",
    "    4 : [\"#.#\", \"#.#\", \"###\", \"..#\", \"..#\"],\n",
    "    5 : [\"###\", \"#..\", \"###\", \"..#\", \"###\"],\n",
    "    6 : [\"###\", \"#..\", \"###\", \"#.#\", \"###\"],\n",
    "    7 : [\"###\", \"..#\", \"..#\", \"..#\", \"..#\"],\n",
    "    8 : [\"###\", \"#.#\", \"###\", \"#.#\", \"###\"],\n",
    "    9 : [\"###\", \"#.#\", \"###\", \"..#\", \"###\"]\n",
    "}\n",
    "\n",
    "num1 = []\n",
    "num2 = []\n",
    "num3 = []\n",
    "num4 = []\n",
    "for _ in range(5):\n",
    "    inp1, inp2, inp3, inp4 = map(str, input().split())\n",
    "    num1.append(inp1)\n",
    "    num2.append(inp2)\n",
    "    num3.append(inp3)\n",
    "    num4.append(inp4)\n",
    "\n",
    "for i in num_dict:\n",
    "    is_same = True\n",
    "    for j in range(5):\n",
    "        pattern = re.compile(num1[j])\n",
    "        if not re.findall(pattern, num_dict[i][j]):\n",
    "            is_same = False\n",
    "            break\n",
    "    if is_same:\n",
    "        print(i, end=\"\")\n",
    "        break\n",
    "\n",
    "for i in num_dict:\n",
    "    is_same = True\n",
    "    for j in range(5):\n",
    "        pattern = re.compile(num2[j])\n",
    "        if not re.findall(pattern, num_dict[i][j]):\n",
    "            is_same = False\n",
    "            break\n",
    "    if is_same:\n",
    "        print(i, end=\"\")\n",
    "        break\n",
    "print(\":\", end=\"\")\n",
    "for i in num_dict:\n",
    "    is_same = True\n",
    "    for j in range(5):\n",
    "        pattern = re.compile(num3[j])\n",
    "        if not re.findall(pattern, num_dict[i][j]):\n",
    "            is_same = False\n",
    "            break\n",
    "    if is_same:\n",
    "        print(i, end=\"\")\n",
    "        break\n",
    "\n",
    "for i in num_dict:\n",
    "    is_same = True\n",
    "    for j in range(5):\n",
    "        pattern = re.compile(num4[j])\n",
    "        if not re.findall(pattern, num_dict[i][j]):\n",
    "            is_same = False\n",
    "            break\n",
    "    if is_same:\n",
    "        print(i, end=\"\")\n",
    "        break"
   ]
  },
  {
   "cell_type": "code",
   "execution_count": null,
   "metadata": {},
   "outputs": [],
   "source": [
    "#.# ... ... #..\n",
    "#.# ... ... #..\n",
    "#.# ### ### ###\n",
    "#.# #.. ..# ..#\n",
    "### ### ### ..#"
   ]
  }
 ],
 "metadata": {
  "kernelspec": {
   "display_name": "Python 3",
   "language": "python",
   "name": "python3"
  },
  "language_info": {
   "codemirror_mode": {
    "name": "ipython",
    "version": 3
   },
   "file_extension": ".py",
   "mimetype": "text/x-python",
   "name": "python",
   "nbconvert_exporter": "python",
   "pygments_lexer": "ipython3",
   "version": "3.11.8"
  }
 },
 "nbformat": 4,
 "nbformat_minor": 2
}
