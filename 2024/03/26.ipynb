{
 "cells": [
  {
   "cell_type": "code",
   "execution_count": 15,
   "metadata": {},
   "outputs": [
    {
     "name": "stdout",
     "output_type": "stream",
     "text": [
      "4\n"
     ]
    }
   ],
   "source": [
    "# 백준 2103번 - 직교다각형 복원\n",
    "import sys\n",
    "# input = sys.stdin.readline\n",
    "\n",
    "n = int(input().strip())\n",
    "\n",
    "x = dict()\n",
    "y = dict()\n",
    "for _ in range(n):\n",
    "    a, b = map(int, input().strip().split())\n",
    "    if a in x:\n",
    "        x[a].append(b)\n",
    "    else:\n",
    "        x[a] = [b]\n",
    "    if b in y:\n",
    "        y[b].append(a)\n",
    "    else:\n",
    "        y[b] = [a]\n",
    "\n",
    "result = 0\n",
    "\n",
    "for x_point in x.values():\n",
    "    x_point.sort()\n",
    "    for i in range(0, len(x_point), 2):\n",
    "        result += x_point[i+1] - x_point[i]\n",
    "\n",
    "for y_point in y.values():\n",
    "    y_point.sort()\n",
    "    for i in range(0, len(y_point), 2):\n",
    "        result += y_point[i+1] - y_point[i]\n",
    "\n",
    "print(result)\n"
   ]
  },
  {
   "cell_type": "code",
   "execution_count": null,
   "metadata": {},
   "outputs": [],
   "source": []
  }
 ],
 "metadata": {
  "kernelspec": {
   "display_name": "Python 3",
   "language": "python",
   "name": "python3"
  },
  "language_info": {
   "codemirror_mode": {
    "name": "ipython",
    "version": 3
   },
   "file_extension": ".py",
   "mimetype": "text/x-python",
   "name": "python",
   "nbconvert_exporter": "python",
   "pygments_lexer": "ipython3",
   "version": "3.11.8"
  }
 },
 "nbformat": 4,
 "nbformat_minor": 2
}
