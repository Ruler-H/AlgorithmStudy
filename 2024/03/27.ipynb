{
 "cells": [
  {
   "cell_type": "code",
   "execution_count": 2,
   "metadata": {},
   "outputs": [
    {
     "name": "stdout",
     "output_type": "stream",
     "text": [
      "2\n",
      "2\n",
      "1\n",
      "10\n"
     ]
    }
   ],
   "source": [
    "# 백준 2108번 - 통계학\n",
    "import sys\n",
    "# input = sys.stdin.readline\n",
    "\n",
    "n = int(input().strip())\n",
    "\n",
    "numbers = [int(input().strip()) for _ in range(n)]\n",
    "\n",
    "print(round(sum(numbers) / n))\n",
    "numbers.sort()\n",
    "print(numbers[n//2])\n",
    "num_dict = {}\n",
    "for num in numbers:\n",
    "    if num in num_dict:\n",
    "        num_dict[num] += 1\n",
    "    else:\n",
    "        num_dict[num] = 1\n",
    "\n",
    "max_num = max(num_dict.values())\n",
    "max_num_list = []\n",
    "for key, value in num_dict.items():\n",
    "    if value == max_num:\n",
    "        max_num_list.append(key)\n",
    "max_num_list.sort()\n",
    "if len(max_num_list) > 1:\n",
    "    print(max_num_list[1])\n",
    "else:\n",
    "    print(max_num_list[0])\n",
    "print(numbers[-1] - numbers[0])"
   ]
  },
  {
   "cell_type": "code",
   "execution_count": 13,
   "metadata": {},
   "outputs": [
    {
     "name": "stdout",
     "output_type": "stream",
     "text": [
      "2\n"
     ]
    }
   ],
   "source": [
    "# 백준 2121번 - 넷이놀기\n",
    "import sys\n",
    "# input = sys.stdin.readline\n",
    "\n",
    "n = int(input().strip())\n",
    "a, b = map(int, input().strip().split())\n",
    "n_list = [list(map(int, input().strip().split())) for _ in range(n)]\n",
    "x_dict = {}\n",
    "y_dict = {}\n",
    "for x, y in n_list:\n",
    "    if x in x_dict:\n",
    "        x_dict[x].append(y)\n",
    "    else:\n",
    "        x_dict[x] = [y]\n",
    "\n",
    "    if y in y_dict:\n",
    "        y_dict[y].append(x)\n",
    "    else:\n",
    "        y_dict[y] = [x]\n",
    "\n",
    "result = 0\n",
    "\n",
    "for x, y in n_list:\n",
    "    if x + a in y_dict[y]:\n",
    "        if y + b in x_dict[x] and x_dict.get(x + a) and y + b in x_dict[x + a]:\n",
    "            result += 1\n",
    "        if y - b in x_dict[x] and x_dict.get(x + a) and y - b in x_dict[x + a]:\n",
    "            result += 1\n",
    "    if x - a in y_dict[y]:\n",
    "        if y + b in x_dict[x] and x_dict.get(x - a) and y + b in x_dict[x - a]:\n",
    "            result += 1\n",
    "        if y - b in x_dict[x] and x_dict.get(x - a) and y - b in x_dict[x - a]:\n",
    "            result += 1\n",
    "\n",
    "    n_dict[x].remove(y)\n",
    "    \n",
    "print(result)"
   ]
  },
  {
   "cell_type": "code",
   "execution_count": null,
   "metadata": {},
   "outputs": [],
   "source": []
  }
 ],
 "metadata": {
  "kernelspec": {
   "display_name": "Python 3",
   "language": "python",
   "name": "python3"
  },
  "language_info": {
   "codemirror_mode": {
    "name": "ipython",
    "version": 3
   },
   "file_extension": ".py",
   "mimetype": "text/x-python",
   "name": "python",
   "nbconvert_exporter": "python",
   "pygments_lexer": "ipython3",
   "version": "3.11.8"
  }
 },
 "nbformat": 4,
 "nbformat_minor": 2
}
