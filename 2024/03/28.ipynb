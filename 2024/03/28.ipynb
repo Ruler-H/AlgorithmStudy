{
 "cells": [
  {
   "cell_type": "code",
   "execution_count": 2,
   "metadata": {},
   "outputs": [
    {
     "name": "stdout",
     "output_type": "stream",
     "text": [
      "2\n"
     ]
    }
   ],
   "source": [
    "# 백준 2121번 - 넷이놀기\n",
    "import sys\n",
    "# input = sys.stdin.readline\n",
    "\n",
    "n = int(input().strip())\n",
    "a, b = map(int, input().strip().split())\n",
    "n_list = [list(map(int, input().strip().split())) for _ in range(n)]\n",
    "x_dict = {}\n",
    "for x, y in n_list:\n",
    "    if x in x_dict:\n",
    "        x_dict[x].append(y)\n",
    "    else:\n",
    "        x_dict[x] = [y]\n",
    "    if x + a not in x_dict:\n",
    "        x_dict[x + a] = []\n",
    "    if x - a not in x_dict:\n",
    "        x_dict[x - a] = []\n",
    "\n",
    "for i in x_dict:\n",
    "    x_dict[i].sort()\n",
    "\n",
    "def check(x_list, y):\n",
    "    if len(x_list) == 1:\n",
    "        return x_list[0] == y\n",
    "    elif len(x_list) == 0:\n",
    "        return False\n",
    "    if y > x_list[len(x_list) // 2]:\n",
    "        return check(x_list[len(x_list) // 2:], y)\n",
    "    elif y == x_list[len(x_list) // 2]:\n",
    "        return True\n",
    "    else:\n",
    "        return check(x_list[:len(x_list) // 2], y)\n",
    "    \n",
    "result = 0\n",
    "\n",
    "for x, y in n_list:\n",
    "    if check(x_dict[x + a], y):\n",
    "        if check(x_dict[x], y + b) and check(x_dict[x + a], y + b):\n",
    "            result += 1\n",
    "        if check(x_dict[x], y - b) and check(x_dict[x + a], y - b):\n",
    "            result += 1\n",
    "    if y in x_dict[x - a]:\n",
    "        if check(x_dict[x], y + b) and check(x_dict[x - a], y + b):\n",
    "            result += 1\n",
    "        if check(x_dict[x], y - b) and check(x_dict[x - a], y - b):\n",
    "            result += 1\n",
    "\n",
    "    x_dict[x].remove(y)\n",
    "    \n",
    "print(result)"
   ]
  },
  {
   "cell_type": "code",
   "execution_count": 8,
   "metadata": {},
   "outputs": [
    {
     "name": "stdout",
     "output_type": "stream",
     "text": [
      "[['D', 3, 0], ['G', 6, 1], ['H', 0, 2], ['I', 4, 3], ['M', 2, 4], ['N', 5, 5], ['U', 1, 6]]\n",
      "{0: ['E', 'X', 'R', 'L', 'E', 'F', 'D', 'A'], 1: ['I', 'O', 'X', 'R', 'D', 'T', 'A', 'A'], 2: ['A', 'I', 'O', 'S', 'E', 'V', 'R', 'R'], 3: ['A', 'F', 'N', 'U', 'X', 'E', 'T', 'Y'], 4: ['H', 'W', 'N', 'M', 'C', 'X', 'A', 'I'], 5: ['E', 'E', 'A', 'N', 'T', 'P', 'X', 'E'], 6: ['B', 'H', 'A', 'R', 'L', 'E', 'N', 'X']}\n",
      "AFNUXETYBHARLENXEXRLEFDAHWNMCXAIAIOSEVRREEANTPXEIOXRDTAA"
     ]
    }
   ],
   "source": [
    "# 백준 2149번 - 암호 해독\n",
    "import sys\n",
    "# input = sys.stdin.readline\n",
    "\n",
    "key = input().strip()\n",
    "crypt = input().strip()\n",
    "key_len = len(key)\n",
    "\n",
    "key_list = []\n",
    "for i in range(key_len):\n",
    "    key_list.append([key[i], i])\n",
    "key_list.sort(key=lambda x: x[0])\n",
    "for i in range(key_len):\n",
    "    key_list[i].append(i)\n",
    "\n",
    "key_list.sort(key=lambda x: x[2])\n",
    "print(key_list)\n",
    "result = \"\"\n",
    "\n",
    "crypt_dict = {}\n",
    "for i in range(len(crypt)):\n",
    "    if i % key_len in crypt_dict:\n",
    "        crypt_dict[i % key_len].append(crypt[i])\n",
    "    else:\n",
    "        crypt_dict[i % key_len] = [crypt[i]]\n",
    "print(crypt_dict)\n",
    "\n",
    "for j in range(key_len):\n",
    "    print(\"\".join(crypt_dict[key_list[j][1]]), end=\"\")"
   ]
  },
  {
   "cell_type": "code",
   "execution_count": null,
   "metadata": {},
   "outputs": [],
   "source": [
    "HUMDING\n",
    "EIAAHEBXOIFWEHRXONNAALRSUMNREDEXCTLFTVEXPEDARTAXNAARYIEX"
   ]
  }
 ],
 "metadata": {
  "kernelspec": {
   "display_name": "Python 3",
   "language": "python",
   "name": "python3"
  },
  "language_info": {
   "codemirror_mode": {
    "name": "ipython",
    "version": 3
   },
   "file_extension": ".py",
   "mimetype": "text/x-python",
   "name": "python",
   "nbconvert_exporter": "python",
   "pygments_lexer": "ipython3",
   "version": "3.11.8"
  }
 },
 "nbformat": 4,
 "nbformat_minor": 2
}
