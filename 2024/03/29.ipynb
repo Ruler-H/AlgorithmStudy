{
 "cells": [
  {
   "cell_type": "code",
   "execution_count": 3,
   "metadata": {},
   "outputs": [
    {
     "name": "stdout",
     "output_type": "stream",
     "text": [
      "['EIAAHEBX', 'OIFWEHRX', 'ONNAALRS', 'UMNREDEX', 'CTLFTVEX', 'PEDARTAX', 'NAARYIEX']\n",
      "ONCEUPONATIMEINALANDFARFARAWAYTHERELIVEDTHREEBEARSXXXXXX"
     ]
    }
   ],
   "source": [
    "# 백준 2149번 - 암호 해독\n",
    "import sys\n",
    "# input = sys.stdin.readline\n",
    "\n",
    "key = input().strip()\n",
    "crypt = input().strip()\n",
    "key_len = len(key)\n",
    "\n",
    "key_list = []\n",
    "for i in range(key_len):\n",
    "    key_list.append([key[i], i])\n",
    "key_list.sort()\n",
    "for i in range(key_len):\n",
    "    key_list[i].append(i)\n",
    "\n",
    "crypt_list = []\n",
    "for i in range(0, len(crypt), len(crypt)//key_len):\n",
    "    crypt_list.append(crypt[i:i+len(crypt)//key_len])\n",
    "\n",
    "sort_crypt_list = []\n",
    "key_list.sort(key=lambda x: x[1])\n",
    "for i in range(key_len):\n",
    "    sort_crypt_list.append(crypt_list[key_list[i][2]])\n",
    "\n",
    "for i in range(len(sort_crypt_list[0])):\n",
    "    for j in range(key_len):\n",
    "        print(sort_crypt_list[j][i], end=\"\")"
   ]
  },
  {
   "cell_type": "code",
   "execution_count": 4,
   "metadata": {},
   "outputs": [
    {
     "name": "stdout",
     "output_type": "stream",
     "text": [
      "2\n"
     ]
    }
   ],
   "source": [
    "# 백준 2193번 - 이친수\n",
    "import sys\n",
    "# input = sys.stdin.readline\n",
    "\n",
    "n = int(input().strip())\n",
    "\n",
    "dp = [0] * 91\n",
    "\n",
    "dp[1] = 1\n",
    "dp[2] = 1\n",
    "\n",
    "for i in range(3, n+1):\n",
    "    dp[i] = dp[i-1] + dp[i-2]\n",
    "\n",
    "print(dp[n])"
   ]
  },
  {
   "cell_type": "code",
   "execution_count": 10,
   "metadata": {},
   "outputs": [
    {
     "name": "stdout",
     "output_type": "stream",
     "text": [
      "16\n"
     ]
    }
   ],
   "source": [
    "# 백준 2200번 - 계산기\n",
    "import sys\n",
    "# input = sys.stdin.readline\n",
    "\n",
    "n = int(input().strip())\n",
    "x_list = list(map(int, input().strip().split()))\n",
    "result = 0\n",
    "\n",
    "while x_list[-1] == 0:\n",
    "    x_list.pop()\n",
    "    result += 2\n",
    "\n",
    "for i in range(len(x_list)):\n",
    "    if x_list[i] == 0:\n",
    "        continue\n",
    "    if x_list[i] == 1:\n",
    "        result += (n - i) * 2\n",
    "    else:\n",
    "        result += (n - i) * 2\n",
    "        result += len(str(x_list[i])) + 1\n",
    "\n",
    "print(result)"
   ]
  },
  {
   "cell_type": "code",
   "execution_count": null,
   "metadata": {},
   "outputs": [],
   "source": []
  }
 ],
 "metadata": {
  "kernelspec": {
   "display_name": "Python 3",
   "language": "python",
   "name": "python3"
  },
  "language_info": {
   "codemirror_mode": {
    "name": "ipython",
    "version": 3
   },
   "file_extension": ".py",
   "mimetype": "text/x-python",
   "name": "python",
   "nbconvert_exporter": "python",
   "pygments_lexer": "ipython3",
   "version": "3.11.8"
  }
 },
 "nbformat": 4,
 "nbformat_minor": 2
}
