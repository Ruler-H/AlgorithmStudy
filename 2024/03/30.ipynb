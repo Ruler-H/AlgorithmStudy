{
 "cells": [
  {
   "cell_type": "code",
   "execution_count": 24,
   "metadata": {},
   "outputs": [
    {
     "name": "stdout",
     "output_type": "stream",
     "text": [
      "[11, 1, 0]\n",
      "x: 0\n",
      "2\n",
      "4\n",
      "x: 1\n",
      "6\n",
      "8\n",
      "x: 11\n",
      "11\n",
      "11\n"
     ]
    }
   ],
   "source": [
    "# 백준 2200번 - 계산기\n",
    "import sys\n",
    "# input = sys.stdin.readline\n",
    "\n",
    "n = int(input().strip())\n",
    "x_list = list(map(int, input().strip().split()))\n",
    "result = 2\n",
    "x_list = x_list[::-1][:-1]\n",
    "while True:\n",
    "    x = x_list.pop()\n",
    "    if x != 0:\n",
    "        result += len(str(x))\n",
    "        result += 1\n",
    "    if x_list:\n",
    "        result += 2\n",
    "    else:\n",
    "        break\n",
    "print(result)"
   ]
  },
  {
   "cell_type": "code",
   "execution_count": 35,
   "metadata": {},
   "outputs": [
    {
     "name": "stdout",
     "output_type": "stream",
     "text": [
      "0\n"
     ]
    },
    {
     "ename": "SystemExit",
     "evalue": "",
     "output_type": "error",
     "traceback": [
      "An exception has occurred, use %tb to see the full traceback.\n",
      "\u001b[1;31mSystemExit\u001b[0m\n"
     ]
    }
   ],
   "source": [
    "# 백준 2223번 - 금화\n",
    "import sys\n",
    "# input = sys.stdin.readline\n",
    "\n",
    "t, x, m = map(int, input().strip().split())\n",
    "d, s = map(int, input().strip().split())\n",
    "\n",
    "result = 0\n",
    "\n",
    "if d <= s:\n",
    "    print(0)\n",
    "    sys.exit()\n",
    "\n",
    "for i in range(1, t + 1):\n",
    "    if d - (i * s) + ((t - i) * s) <= 0:\n",
    "        continue\n",
    "    result = max(result, i * x)\n",
    "\n",
    "print(result)"
   ]
  },
  {
   "cell_type": "code",
   "execution_count": null,
   "metadata": {},
   "outputs": [],
   "source": []
  }
 ],
 "metadata": {
  "kernelspec": {
   "display_name": "Python 3",
   "language": "python",
   "name": "python3"
  },
  "language_info": {
   "codemirror_mode": {
    "name": "ipython",
    "version": 3
   },
   "file_extension": ".py",
   "mimetype": "text/x-python",
   "name": "python",
   "nbconvert_exporter": "python",
   "pygments_lexer": "ipython3",
   "version": "3.11.8"
  }
 },
 "nbformat": 4,
 "nbformat_minor": 2
}
