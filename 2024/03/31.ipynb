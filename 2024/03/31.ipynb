{
 "cells": [
  {
   "cell_type": "code",
   "execution_count": null,
   "metadata": {},
   "outputs": [],
   "source": [
    "# 백준 2200번 - 계산기\n",
    "import sys\n",
    "# input = sys.stdin.readline\n",
    "\n",
    "n = int(input().strip())\n",
    "x_list = list(map(int, input().strip().split()))\n",
    "result = 2\n",
    "x_list = x_list[::-1][:-1]\n",
    "while True:\n",
    "    x = x_list.pop()\n",
    "    if x != 0:\n",
    "        result += len(str(x))\n",
    "        result += 1\n",
    "    if x_list:\n",
    "        result += 2\n",
    "    else:\n",
    "        break\n",
    "print(result)"
   ]
  }
 ],
 "metadata": {
  "kernelspec": {
   "display_name": "Python 3",
   "language": "python",
   "name": "python3"
  },
  "language_info": {
   "codemirror_mode": {
    "name": "ipython",
    "version": 3
   },
   "file_extension": ".py",
   "mimetype": "text/x-python",
   "name": "python",
   "nbconvert_exporter": "python",
   "pygments_lexer": "ipython3",
   "version": "3.11.8"
  }
 },
 "nbformat": 4,
 "nbformat_minor": 2
}
