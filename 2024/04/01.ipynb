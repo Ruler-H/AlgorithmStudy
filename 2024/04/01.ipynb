{
 "cells": [
  {
   "cell_type": "code",
   "execution_count": 1,
   "metadata": {},
   "outputs": [],
   "source": [
    "# 백준 2236번 - 칩 만들기\n",
    "import sys\n",
    "# input = sys.stdin.readline\n",
    "\n",
    "n, k = map(int, input().split())\n",
    "tmp_nums = list(map(int, input().split()))\n",
    "nums = []\n",
    "for _ in range(n):\n",
    "    nums.append([tmp_nums[_], _, 0])\n",
    "\n",
    "sorted_nums = sorted(nums, key=lambda x: (-x[0], -x[1]))\n",
    "rst = []\n",
    "\n",
    "for i in range(k):\n",
    "    if i < n:\n",
    "        sorted_nums[i][2] = sorted_nums[i][1] + 1\n",
    "        rst.append(sorted_nums[i][1] + 1)\n",
    "\n",
    "for i in rst:\n",
    "    print(i)\n",
    "\n",
    "for _ in range(k - len(rst)):\n",
    "    print(0)\n",
    "\n",
    "for num in nums:\n",
    "    print(num[2])"
   ]
  },
  {
   "cell_type": "code",
   "execution_count": 2,
   "metadata": {},
   "outputs": [
    {
     "name": "stdout",
     "output_type": "stream",
     "text": [
      "4\n"
     ]
    }
   ],
   "source": [
    "connect = []\n",
    "max_value = 0\n"
   ]
  },
  {
   "cell_type": "code",
   "execution_count": null,
   "metadata": {},
   "outputs": [],
   "source": []
  }
 ],
 "metadata": {
  "kernelspec": {
   "display_name": "Python 3",
   "language": "python",
   "name": "python3"
  },
  "language_info": {
   "codemirror_mode": {
    "name": "ipython",
    "version": 3
   },
   "file_extension": ".py",
   "mimetype": "text/x-python",
   "name": "python",
   "nbconvert_exporter": "python",
   "pygments_lexer": "ipython3",
   "version": "3.11.8"
  }
 },
 "nbformat": 4,
 "nbformat_minor": 2
}
