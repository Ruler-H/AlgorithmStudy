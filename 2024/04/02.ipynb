{
 "cells": [
  {
   "cell_type": "code",
   "execution_count": null,
   "metadata": {},
   "outputs": [],
   "source": [
    "# 백준 2371번 - 파일 구별하기\n",
    "import sys\n",
    "# input = sys.stdin.readline\n",
    "\n",
    "n = int(input().strip())\n",
    "files = [list(map(int, input().strip().split()))[:-1] for _ in range(n)]\n",
    "max_len = max([len(i) for i in files])\n",
    "for i in files:\n",
    "    add_cnt = max_len - len(i)\n",
    "    i.extend([0] * add_cnt)\n",
    "i = 1\n",
    "while True:\n",
    "    temp_files = list(map(lambda x: x[:i], files))\n",
    "    for k, f in enumerate(temp_files):\n",
    "        is_same = False\n",
    "        for j in temp_files[k+1:]:\n",
    "            if f == j:\n",
    "                is_same = True\n",
    "                break\n",
    "        if is_same:\n",
    "            break\n",
    "    if not is_same:\n",
    "        break\n",
    "    i += 1\n",
    "print(i)"
   ]
  },
  {
   "cell_type": "code",
   "execution_count": null,
   "metadata": {},
   "outputs": [],
   "source": [
    "# 백준 1569번 - 정사각형으로 가리기\n",
    "import sys\n",
    "# input = sys.stdin.readline\n",
    "\n",
    "n = int(input().strip())\n",
    "points = [list(map(int, input().strip().split())) for _ in range(n)]\n",
    "\n",
    "bottom_left = [min([i[0] for i in points]), min([i[1] for i in points])]\n",
    "top_right = [max([i[0] for i in points]), max([i[1] for i in points])]\n",
    "if bottom_left[0] - top_right[0] == 0:\n",
    "    top_right[0] += top_right[1] - bottom_left[1]\n",
    "elif bottom_left[1] - top_right[1] == 0:\n",
    "    top_right[1] += top_right[0] - bottom_left[0]\n",
    "if top_right[0] - bottom_left[0] != top_right[1] - bottom_left[1]:\n",
    "    print(-1)\n",
    "    sys.exit()\n",
    "for i in points:\n",
    "    if i[0] == bottom_left[0] or i[0] == top_right[0] or i[1] == bottom_left[1] or i[1] == top_right[1]:\n",
    "        continue\n",
    "    else:\n",
    "        print(-1)\n",
    "        sys.exit()\n",
    "print(abs(top_right[0] - bottom_left[0]))"
   ]
  },
  {
   "cell_type": "code",
   "execution_count": null,
   "metadata": {},
   "outputs": [],
   "source": []
  }
 ],
 "metadata": {
  "kernelspec": {
   "display_name": "Python 3",
   "language": "python",
   "name": "python3"
  },
  "language_info": {
   "codemirror_mode": {
    "name": "ipython",
    "version": 3
   },
   "file_extension": ".py",
   "mimetype": "text/x-python",
   "name": "python",
   "nbconvert_exporter": "python",
   "pygments_lexer": "ipython3",
   "version": "3.11.8"
  }
 },
 "nbformat": 4,
 "nbformat_minor": 2
}
