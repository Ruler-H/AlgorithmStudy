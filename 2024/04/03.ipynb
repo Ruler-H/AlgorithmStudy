{
 "cells": [
  {
   "cell_type": "code",
   "execution_count": 13,
   "metadata": {},
   "outputs": [
    {
     "name": "stdout",
     "output_type": "stream",
     "text": [
      "1 0\n",
      "11 10\n",
      "-1\n"
     ]
    },
    {
     "ename": "SystemExit",
     "evalue": "",
     "output_type": "error",
     "traceback": [
      "An exception has occurred, use %tb to see the full traceback.\n",
      "\u001b[1;31mSystemExit\u001b[0m\n"
     ]
    },
    {
     "name": "stderr",
     "output_type": "stream",
     "text": [
      "C:\\Users\\elwl5\\AppData\\Roaming\\Python\\Python311\\site-packages\\IPython\\core\\interactiveshell.py:3585: UserWarning: To exit: use 'exit', 'quit', or Ctrl-D.\n",
      "  warn(\"To exit: use 'exit', 'quit', or Ctrl-D.\", stacklevel=1)\n"
     ]
    }
   ],
   "source": [
    "# 백준 1569번 - 정사각형으로 가리기\n",
    "import sys\n",
    "# input = sys.stdin.readline\n",
    "\n",
    "n = int(input().strip())\n",
    "points = [list(map(int, input().strip().split())) for _ in range(n)]\n",
    "\n",
    "vertax = {\n",
    "    \"top_left\": [min([i[0] for i in points]), max([i[1] for i in points])],\n",
    "    \"top_right\": [max([i[0] for i in points]), max([i[1] for i in points])],\n",
    "    \"bottom_left\": [min([i[0] for i in points]), min([i[1] for i in points])],\n",
    "    \"bottom_right\": [max([i[0] for i in points]), min([i[1] for i in points])],\n",
    "}\n",
    "\n",
    "bottom_left = [min([i[0] for i in points]), min([i[1] for i in points])]\n",
    "top_right = [max([i[0] for i in points]), max([i[1] for i in points])]\n",
    "if top_right[0] - bottom_left[0] > top_right[1] - bottom_left[1]:\n",
    "    top_right[1] = bottom_left[1] + (top_right[0] - bottom_left[0])\n",
    "elif top_right[0] - bottom_left[0] < top_right[1] - bottom_left[1]:\n",
    "    top_right[0] = bottom_left[0] + (top_right[1] - bottom_left[1])\n",
    "print(bottom_left[0], bottom_left[1])\n",
    "print(top_right[0], top_right[1])\n",
    "\n",
    "for i in points:\n",
    "    if i[0] == bottom_left[0] or i[0] == top_right[0] or i[1] == bottom_left[1] or i[1] == top_right[1]:\n",
    "        continue\n",
    "    else:\n",
    "        print(-1)\n",
    "        sys.exit()\n",
    "print(top_right[0] - bottom_left[0])"
   ]
  },
  {
   "cell_type": "code",
   "execution_count": null,
   "metadata": {},
   "outputs": [],
   "source": [
    "4\n",
    "10 10\n",
    "1 10\n",
    "10 6\n",
    "2 0\n",
    "\n",
    "10"
   ]
  }
 ],
 "metadata": {
  "kernelspec": {
   "display_name": "Python 3",
   "language": "python",
   "name": "python3"
  },
  "language_info": {
   "codemirror_mode": {
    "name": "ipython",
    "version": 3
   },
   "file_extension": ".py",
   "mimetype": "text/x-python",
   "name": "python",
   "nbconvert_exporter": "python",
   "pygments_lexer": "ipython3",
   "version": "3.11.8"
  }
 },
 "nbformat": 4,
 "nbformat_minor": 2
}
