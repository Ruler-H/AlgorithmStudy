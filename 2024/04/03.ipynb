{
 "cells": [
  {
   "cell_type": "code",
   "execution_count": 20,
   "metadata": {},
   "outputs": [
    {
     "name": "stdout",
     "output_type": "stream",
     "text": [
      "-1\n"
     ]
    }
   ],
   "source": [
    "# 백준 1569번 - 정사각형으로 가리기\n",
    "import sys\n",
    "# input = sys.stdin.readline\n",
    "\n",
    "n = int(input().strip())\n",
    "points = [list(map(int, input().strip().split())) for _ in range(n)]\n",
    "\n",
    "vertaxs = {\n",
    "    \"top_left\": [[min([i[0] for i in points]), max([i[1] for i in points])]],\n",
    "    \"top_right\": [[max([i[0] for i in points]), max([i[1] for i in points])]],\n",
    "    \"bottom_left\": [[min([i[0] for i in points]), min([i[1] for i in points])]],\n",
    "    \"bottom_right\": [[max([i[0] for i in points]), min([i[1] for i in points])]],\n",
    "}\n",
    "max_val = max(vertaxs[\"bottom_right\"][0][0] - vertaxs[\"top_left\"][0][0], vertaxs[\"top_left\"][0][1] - vertaxs[\"bottom_right\"][0][1])\n",
    "vertaxs[\"top_left\"].append([vertaxs[\"top_left\"][0][0] + max_val, vertaxs[\"top_left\"][0][1] - max_val])\n",
    "vertaxs[\"bottom_right\"].append([vertaxs[\"bottom_right\"][0][0] - max_val, vertaxs[\"bottom_right\"][0][1] + max_val])\n",
    "max_val = max(vertaxs[\"top_right\"][0][0] - vertaxs[\"bottom_left\"][0][0], vertaxs[\"top_right\"][0][1] - vertaxs[\"bottom_left\"][0][1])\n",
    "vertaxs[\"bottom_left\"].append([vertaxs[\"bottom_left\"][0][0] + max_val, vertaxs[\"bottom_left\"][0][1] + max_val])\n",
    "vertaxs[\"top_right\"].append([vertaxs[\"top_right\"][0][0] - max_val, vertaxs[\"top_right\"][0][1] - max_val])\n",
    "for i in vertaxs:\n",
    "    vertax = vertaxs[i]\n",
    "    is_contain = True\n",
    "    for x, y in points:\n",
    "        if x == vertax[0][0] or x == vertax[1][0] or y == vertax[0][1] or y == vertax[1][1]:\n",
    "            continue\n",
    "        else:\n",
    "            is_contain = False\n",
    "            break\n",
    "    if is_contain:\n",
    "        print(abs(vertax[1][0] - vertax[0][0]))\n",
    "        break\n",
    "if not is_contain:\n",
    "    print(-1)"
   ]
  }
 ],
 "metadata": {
  "kernelspec": {
   "display_name": "Python 3",
   "language": "python",
   "name": "python3"
  },
  "language_info": {
   "codemirror_mode": {
    "name": "ipython",
    "version": 3
   },
   "file_extension": ".py",
   "mimetype": "text/x-python",
   "name": "python",
   "nbconvert_exporter": "python",
   "pygments_lexer": "ipython3",
   "version": "3.11.8"
  }
 },
 "nbformat": 4,
 "nbformat_minor": 2
}
