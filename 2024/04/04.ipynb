{
 "cells": [
  {
   "cell_type": "code",
   "execution_count": 48,
   "metadata": {},
   "outputs": [
    {
     "name": "stdout",
     "output_type": "stream",
     "text": [
      "16 4\n"
     ]
    }
   ],
   "source": [
    "# 백준 1876번 - 튕기는 볼링공\n",
    "import sys\n",
    "# input = sys.stdin.readline\n",
    "import math\n",
    "\n",
    "n = int(input().strip())\n",
    "\n",
    "for _ in range(n):\n",
    "    t, x = map(float, input().strip().split())\n",
    "    dist = 0\n",
    "    left = t * 100 - (16.0 / math.sin(math.pi * x / 180.0))\n",
    "    right = t * 100 + (16.0 / math.sin(math.pi * x / 180.0))\n",
    "    step = 85.0 / math.tan(math.pi * x / 180.0)\n",
    "    while dist < right:\n",
    "      if left < dist and dist < right:\n",
    "        print(\"yes\")\n",
    "        break\n",
    "      \n",
    "      dist += step\n",
    "    \n",
    "    if dist >= right:\n",
    "      print(\"no\")"
   ]
  }
 ],
 "metadata": {
  "kernelspec": {
   "display_name": "Python 3",
   "language": "python",
   "name": "python3"
  },
  "language_info": {
   "codemirror_mode": {
    "name": "ipython",
    "version": 3
   },
   "file_extension": ".py",
   "mimetype": "text/x-python",
   "name": "python",
   "nbconvert_exporter": "python",
   "pygments_lexer": "ipython3",
   "version": "3.11.8"
  }
 },
 "nbformat": 4,
 "nbformat_minor": 2
}
