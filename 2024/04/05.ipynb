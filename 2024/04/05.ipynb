{
 "cells": [
  {
   "cell_type": "code",
   "execution_count": null,
   "metadata": {},
   "outputs": [],
   "source": [
    "# 백준 2210번 - 숫자판 점프\n",
    "import sys\n",
    "# input = sys.stdin.readline\n",
    "\n",
    "num_list = [list(map(int, input().strip().split())) for _ in range(5)]\n",
    "\n",
    "dx = [0, 0, 1, -1]\n",
    "dy = [1, -1, 0, 0]\n",
    "result = set()\n",
    "\n",
    "def dfs(x, y, num, cnt):\n",
    "    if cnt == 6:\n",
    "        result.add(num)\n",
    "        return\n",
    "\n",
    "    for i in range(4):\n",
    "        nx = x + dx[i]\n",
    "        ny = y + dy[i]\n",
    "\n",
    "        if 0 <= nx < 5 and 0 <= ny < 5:\n",
    "            dfs(nx, ny, num + str(num_list[nx][ny]), cnt + 1)\n",
    "\n",
    "for i in range(5):\n",
    "    for j in range(5):\n",
    "        dfs(i, j, str(num_list[i][j]), 1)\n",
    "\n",
    "print(len(result))"
   ]
  },
  {
   "cell_type": "code",
   "execution_count": 17,
   "metadata": {},
   "outputs": [],
   "source": [
    "# 백준 2232번 - 지뢰\n",
    "import sys\n",
    "# input = sys.stdin.readline\n",
    "\n",
    "n = int(input().strip())\n",
    "\n",
    "num_list = []\n",
    "for _ in range(n):\n",
    "    num_list.append(int(input().strip()))\n",
    "\n",
    "result = []"
   ]
  },
  {
   "cell_type": "code",
   "execution_count": 18,
   "metadata": {},
   "outputs": [
    {
     "name": "stdout",
     "output_type": "stream",
     "text": [
      "[1, 2, 5, 4, 3, 3, 6, 6, 2]\n",
      "2 5\n",
      "[0, 0, 0, 0, 0, 3, 6, 6, 2]\n",
      "6 3\n",
      "[0, 0, 0, 0, 0, 0, 0, 6, 2]\n",
      "7 3\n",
      "3\n",
      "7\n",
      "8\n"
     ]
    }
   ],
   "source": [
    "\n",
    "while sum(num_list):\n",
    "    max_idx = 0\n",
    "    max_num = 0\n",
    "    for i in range(n):\n",
    "        if num_list[i] == 0:\n",
    "            continue\n",
    "        cnt = 1\n",
    "        for j in range(i - 1, -1, -1):\n",
    "            if num_list[j] < num_list[j + 1]:\n",
    "                cnt += 1\n",
    "            else:\n",
    "                break\n",
    "        for j in range(i + 1, n):\n",
    "            if num_list[j] < num_list[j - 1]:\n",
    "                cnt += 1\n",
    "            else:\n",
    "                break\n",
    "        if cnt > max_num:\n",
    "            max_num = cnt\n",
    "            max_idx = i\n",
    "    result.append(max_idx + 1)\n",
    "    zero_idx = [max_idx]\n",
    "    for i in range(max_idx - 1, -1, -1):\n",
    "        if num_list[i] < num_list[i + 1]:\n",
    "            zero_idx.append(i)\n",
    "        else:\n",
    "            break\n",
    "    for i in range(max_idx + 1, n):\n",
    "        if num_list[i] < num_list[i - 1]:\n",
    "            zero_idx.append(i)\n",
    "        else:\n",
    "            break\n",
    "    for i in zero_idx:\n",
    "        num_list[i] = 0\n",
    "\n",
    "result.sort()\n",
    "for i in result:\n",
    "    print(i)"
   ]
  },
  {
   "cell_type": "code",
   "execution_count": null,
   "metadata": {},
   "outputs": [],
   "source": []
  }
 ],
 "metadata": {
  "kernelspec": {
   "display_name": "Python 3",
   "language": "python",
   "name": "python3"
  },
  "language_info": {
   "codemirror_mode": {
    "name": "ipython",
    "version": 3
   },
   "file_extension": ".py",
   "mimetype": "text/x-python",
   "name": "python",
   "nbconvert_exporter": "python",
   "pygments_lexer": "ipython3",
   "version": "3.11.8"
  }
 },
 "nbformat": 4,
 "nbformat_minor": 2
}
