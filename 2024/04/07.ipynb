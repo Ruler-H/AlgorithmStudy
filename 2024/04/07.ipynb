{
 "cells": [
  {
   "cell_type": "code",
   "execution_count": null,
   "metadata": {},
   "outputs": [],
   "source": [
    "# 백준 2257번 - 화학식량\n",
    "import sys\n",
    "# input = sys.stdin.readline\n",
    "\n",
    "chemical = input().strip()\n",
    "stack = []\n",
    "result = 0\n",
    "for i in range(len(chemical)):\n",
    "    if chemical[i] == 'H':\n",
    "        stack.append(1)\n",
    "    elif chemical[i] == 'C':\n",
    "        stack.append(12)\n",
    "    elif chemical[i] == 'O':\n",
    "        stack.append(16)\n",
    "    elif chemical[i] == '(':\n",
    "        stack.append('(')\n",
    "    elif chemical[i] == ')':\n",
    "        temp = 0\n",
    "        while stack[-1] != '(':\n",
    "            temp += stack.pop()\n",
    "        stack.pop()\n",
    "        stack.append(temp)\n",
    "    elif chemical[i].isdigit():\n",
    "        stack[-1] *= int(chemical[i])\n",
    "\n",
    "print(sum(stack))"
   ]
  },
  {
   "cell_type": "code",
   "execution_count": 28,
   "metadata": {},
   "outputs": [
    {
     "name": "stdout",
     "output_type": "stream",
     "text": [
      "21\n"
     ]
    }
   ],
   "source": [
    "# 백준 2304번 - 창고 다각형\n",
    "import sys\n",
    "# input = sys.stdin.readline\n",
    "\n",
    "n = int(input().strip())\n",
    "\n",
    "pillars = [list(map(int, input().strip().split())) for _ in range(n)]\n",
    "\n",
    "pillars.sort(key=lambda x: x[0])\n",
    "result = 0\n",
    "i = 0\n",
    "while i < len(pillars):\n",
    "    if i == len(pillars) - 1:\n",
    "        result += pillars[i][1]\n",
    "        break\n",
    "    for j in range(i+1, len(pillars)):\n",
    "        if pillars[i][1] <= pillars[j][1]:\n",
    "            result += pillars[i][1] * (pillars[j][0] - pillars[i][0])\n",
    "            i = j\n",
    "            break\n",
    "    else:\n",
    "        result += pillars[i][1]\n",
    "        max_val = max(pillars[i+1:], key=lambda x: x[1])\n",
    "        result += max_val[1] * (max_val[0] - pillars[i][0] - 1)\n",
    "        i = pillars.index(max_val)\n",
    "\n",
    "print(result)"
   ]
  },
  {
   "cell_type": "code",
   "execution_count": 33,
   "metadata": {},
   "outputs": [
    {
     "name": "stdout",
     "output_type": "stream",
     "text": [
      "0 0\n",
      "1 5\n",
      "3 12\n",
      "4 15\n",
      "16\n"
     ]
    }
   ],
   "source": [
    "pillars.sort(key=lambda x: x[0])\n",
    "result = 0\n",
    "i = 0\n",
    "while i < len(pillars):\n",
    "    if i == len(pillars) - 1:\n",
    "        result += pillars[i][1]\n",
    "        break\n",
    "    for j in range(i+1, len(pillars)):\n",
    "        if pillars[i][1] <= pillars[j][1]:\n",
    "            result += pillars[i][1] * (pillars[j][0] - pillars[i][0])\n",
    "            i = j\n",
    "            break\n",
    "    else:\n",
    "        result += pillars[i][1]\n",
    "        max_val = max(pillars[i+1:], key=lambda x: x[1])\n",
    "        result += max_val[1] * (max_val[0] - pillars[i][0] - 1)\n",
    "        i = pillars.index(max_val)\n",
    "\n",
    "print(result)"
   ]
  },
  {
   "cell_type": "code",
   "execution_count": null,
   "metadata": {},
   "outputs": [],
   "source": []
  }
 ],
 "metadata": {
  "kernelspec": {
   "display_name": "Python 3",
   "language": "python",
   "name": "python3"
  },
  "language_info": {
   "codemirror_mode": {
    "name": "ipython",
    "version": 3
   },
   "file_extension": ".py",
   "mimetype": "text/x-python",
   "name": "python",
   "nbconvert_exporter": "python",
   "pygments_lexer": "ipython3",
   "version": "3.11.8"
  }
 },
 "nbformat": 4,
 "nbformat_minor": 2
}
