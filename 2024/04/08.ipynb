{
 "cells": [
  {
   "cell_type": "code",
   "execution_count": 1,
   "metadata": {},
   "outputs": [
    {
     "name": "stdout",
     "output_type": "stream",
     "text": [
      "103600\n"
     ]
    }
   ],
   "source": [
    "# 백준 2477번 - 참외밭\n",
    "import sys\n",
    "# input = sys.stdin.readline\n",
    "\n",
    "k = int(input().strip())\n",
    "field = [list(map(int, input().strip().split())) for _ in range(6)]\n",
    "\n",
    "filter_field1 = list(filter(lambda x: x[0] == 1 or x[0] == 2, field))\n",
    "filter_field2 = list(filter(lambda x: x[0] == 3 or x[0] == 4, field))\n",
    "width = max(filter_field1, key=lambda x: x[1])[1] * max(filter_field2, key=lambda x: x[1])[1]\n",
    "min_width = []\n",
    "for i in range(6):\n",
    "    if field[i-1][0] == field[(i+1)%6][0]:\n",
    "        min_width.append(field[i][1])\n",
    "width -= min_width[0] * min_width[1]\n",
    "print(k * width)"
   ]
  },
  {
   "cell_type": "code",
   "execution_count": null,
   "metadata": {},
   "outputs": [],
   "source": [
    "# 백준 2509번 - 쉬운 매칭\n",
    "import sys\n",
    "# input = sys.stdin.readline\n",
    "\n",
    "t = int(input().strip())\n",
    "\n",
    "for _ in range(t):\n",
    "    input()\n",
    "    n = int(input().strip())\n",
    "    n_list = list(map(int, input().strip().split()))\n",
    "    m1 = int(input().strip())\n",
    "    m1_list = list(map(int, input().strip().split()))\n",
    "    m2 = int(input().strip())\n",
    "    m2_list = list(map(int, input().strip().split()))"
   ]
  }
 ],
 "metadata": {
  "kernelspec": {
   "display_name": "Python 3",
   "language": "python",
   "name": "python3"
  },
  "language_info": {
   "codemirror_mode": {
    "name": "ipython",
    "version": 3
   },
   "file_extension": ".py",
   "mimetype": "text/x-python",
   "name": "python",
   "nbconvert_exporter": "python",
   "pygments_lexer": "ipython3",
   "version": "3.11.8"
  }
 },
 "nbformat": 4,
 "nbformat_minor": 2
}
