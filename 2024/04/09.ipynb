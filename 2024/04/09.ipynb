{
 "cells": [
  {
   "cell_type": "code",
   "execution_count": null,
   "metadata": {},
   "outputs": [],
   "source": [
    "# 백준 2509번 - 쉬운 매칭\n",
    "import sys\n",
    "# input = sys.stdin.readline\n",
    "\n",
    "t = int(input().strip())\n",
    "\n",
    "for _ in range(t):\n",
    "    input()\n",
    "    n = int(input().strip())\n",
    "    n_list = list(map(int, input().strip().split()))\n",
    "    m1 = int(input().strip())\n",
    "    m1_list = list(map(int, input().strip().split()))\n",
    "    m2 = int(input().strip())\n",
    "    m2_list = list(map(int, input().strip().split()))\n",
    "\n",
    "    match1 = []\n",
    "    for i in range(n - m1 + 1):\n",
    "        imsi_m1 = m1.copy()\n",
    "        \n"
   ]
  },
  {
   "cell_type": "code",
   "execution_count": null,
   "metadata": {},
   "outputs": [],
   "source": [
    "1\n",
    "\n",
    "13 \n",
    "1 1 1 1 1 47 1 1 1 1 1 1 1\n",
    "3\n",
    "1 1 2\n",
    "3\n",
    "1 1 1"
   ]
  }
 ],
 "metadata": {
  "kernelspec": {
   "display_name": "Python 3",
   "language": "python",
   "name": "python3"
  },
  "language_info": {
   "codemirror_mode": {
    "name": "ipython",
    "version": 3
   },
   "file_extension": ".py",
   "mimetype": "text/x-python",
   "name": "python",
   "nbconvert_exporter": "python",
   "pygments_lexer": "ipython3",
   "version": "3.11.8"
  }
 },
 "nbformat": 4,
 "nbformat_minor": 2
}
