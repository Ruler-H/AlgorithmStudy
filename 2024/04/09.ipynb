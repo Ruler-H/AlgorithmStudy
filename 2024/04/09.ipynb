{
 "cells": [
  {
   "cell_type": "code",
   "execution_count": 29,
   "metadata": {},
   "outputs": [
    {
     "name": "stdout",
     "output_type": "stream",
     "text": [
      "6 8 48 2\n"
     ]
    }
   ],
   "source": [
    "# 백준 2509번 - 쉬운 매칭\n",
    "import sys\n",
    "# input = sys.stdin.readline\n",
    "\n",
    "t = int(input().strip())\n",
    "\n",
    "for _ in range(t):\n",
    "    input()\n",
    "    n = int(input().strip())\n",
    "    n_list = list(map(int, input().strip().split()))\n",
    "    m1 = int(input().strip())\n",
    "    m1_list = list(map(int, input().strip().split()))\n",
    "    m2 = int(input().strip())\n",
    "    m2_list = list(map(int, input().strip().split()))\n",
    "\n",
    "    match1 = []\n",
    "    for i in range(n - m1 + 1):\n",
    "        imsi_m1 = m1_list.copy()\n",
    "        val = 0\n",
    "        idx = i\n",
    "        while True:\n",
    "            val += n_list[idx]\n",
    "            idx += 1\n",
    "            if val == imsi_m1[0]:\n",
    "                imsi_m1.pop(0)\n",
    "                val = 0\n",
    "            elif val > imsi_m1[0]:\n",
    "                break\n",
    "            if not imsi_m1:\n",
    "                match1.append([i, idx-i])\n",
    "                break\n",
    "            if idx >= n:\n",
    "                break\n",
    "    print(len(match1), end=' ')\n",
    "\n",
    "    match2 = []\n",
    "    for i in range(n - m2 + 1):\n",
    "        imsi_m2 = m2_list.copy()\n",
    "        val = 0\n",
    "        idx = i\n",
    "        while True:\n",
    "            val += n_list[idx]\n",
    "            idx += 1\n",
    "            if val == imsi_m2[0]:\n",
    "                imsi_m2.pop(0)\n",
    "                val = 0\n",
    "            elif val > imsi_m2[0]:\n",
    "                break\n",
    "            if not imsi_m2:\n",
    "                match2.append([i, idx-i])\n",
    "                break\n",
    "            if idx >= n:\n",
    "                break\n",
    "    print(len(match2), end=' ')\n",
    "    n1 = 0\n",
    "    match_cnt = 0\n",
    "    m3_dict = {}\n",
    "    for i in match1:\n",
    "        for j in match2:\n",
    "            if sum(i) < j[0]:\n",
    "                val = sum(n_list[sum(i):j[0]])\n",
    "                if val in m3_dict:\n",
    "                    m3_dict[val] += 1\n",
    "                else:\n",
    "                    m3_dict[val] = 1\n",
    "    max_val = max(m3_dict.values())\n",
    "    min_n = min(list(filter(lambda x: x[1] == max_val, m3_dict.items())))\n",
    "    print(*min_n)"
   ]
  },
  {
   "cell_type": "code",
   "execution_count": null,
   "metadata": {},
   "outputs": [],
   "source": [
    "1\n",
    "\n",
    "13 \n",
    "1 1 1 1 1 47 1 1 1 1 1 1 1\n",
    "3\n",
    "1 1 2\n",
    "3\n",
    "1 1 1"
   ]
  }
 ],
 "metadata": {
  "kernelspec": {
   "display_name": "Python 3",
   "language": "python",
   "name": "python3"
  },
  "language_info": {
   "codemirror_mode": {
    "name": "ipython",
    "version": 3
   },
   "file_extension": ".py",
   "mimetype": "text/x-python",
   "name": "python",
   "nbconvert_exporter": "python",
   "pygments_lexer": "ipython3",
   "version": "3.11.8"
  }
 },
 "nbformat": 4,
 "nbformat_minor": 2
}
