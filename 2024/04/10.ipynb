{
 "cells": [
  {
   "cell_type": "code",
   "execution_count": null,
   "metadata": {},
   "outputs": [],
   "source": [
    "# 백준 2512번 - 예산\n",
    "import sys\n",
    "# input = sys.stdin.readline\n",
    "\n",
    "n = int(input().strip())\n",
    "budgets = list(map(int, input().strip().split()))\n",
    "m = int(input().strip())\n",
    "\n",
    "left = 0\n",
    "right = max(budgets)\n",
    "result = 0\n",
    "\n",
    "while left <= right:\n",
    "    mid = (left + right) // 2\n",
    "    total = 0\n",
    "\n",
    "    for budget in budgets:\n",
    "        total += min(budget, mid)\n",
    "\n",
    "    if total <= m:\n",
    "        result = mid\n",
    "        left = mid + 1\n",
    "    else:\n",
    "        right = mid - 1\n",
    "\n",
    "print(result)"
   ]
  },
  {
   "cell_type": "code",
   "execution_count": null,
   "metadata": {},
   "outputs": [],
   "source": [
    "# 백준 2553번 - 마지막 팩토리얼 수\n",
    "import sys\n",
    "# input = sys.stdin.readline\n",
    "import math\n",
    "\n",
    "n = int(input().strip())\n",
    "\n",
    "facto = str(math.factorial(n))\n",
    "\n",
    "while facto[-1] == '0':\n",
    "    facto = facto[:-1]\n",
    "\n",
    "print(facto[-1])"
   ]
  },
  {
   "cell_type": "code",
   "execution_count": 15,
   "metadata": {},
   "outputs": [
    {
     "name": "stdout",
     "output_type": "stream",
     "text": [
      "['G', 'O', 'D'] 0\n",
      "{'G': 1, 'O': 1, 'D': 1}\n",
      "['G', 'O', 'O', 'D'] 1\n",
      "{'G': 1, 'O': 2, 'D': 1}\n",
      "1\n",
      "['D', 'O', 'L', 'L'] 2\n",
      "{'D': 1, 'O': 1, 'L': 2}\n",
      "3\n",
      "2\n"
     ]
    }
   ],
   "source": [
    "# 백준 2607번 - 비슷한 단어\n",
    "import sys\n",
    "# input = sys.stdin.readline\n",
    "\n",
    "n = int(input().strip())\n",
    "first = list(input().strip())\n",
    "first_dict = {}\n",
    "for f in first:\n",
    "    if f in first_dict:\n",
    "        first_dict[f] += 1\n",
    "    else:\n",
    "        first_dict[f] = 1\n",
    "\n",
    "result = 0\n",
    "for _ in range(n-1):\n",
    "    second = list(input().strip())\n",
    "    second_dict = {}\n",
    "    for s in second:\n",
    "        if s in second_dict:\n",
    "            second_dict[s] += 1\n",
    "        else:\n",
    "            second_dict[s] = 1\n",
    "\n",
    "    if len(first) == len(second):\n",
    "        diff = 0\n",
    "        for key in first_dict:\n",
    "            if key in second_dict:\n",
    "                diff += abs(first_dict[key] - second_dict[key])\n",
    "                second_dict.pop(key)\n",
    "            else:\n",
    "                diff += first_dict[key]\n",
    "        for key in second_dict:\n",
    "            diff += second_dict[key]\n",
    "\n",
    "        if diff == 0 or diff == 1:\n",
    "            result += 1\n",
    "    elif abs(len(first) - len(second)) == 1:\n",
    "        diff = 0\n",
    "        for key in first_dict:\n",
    "            if key in second_dict:\n",
    "                diff += abs(first_dict[key] - second_dict[key])\n",
    "                second_dict.pop(key)\n",
    "            else:\n",
    "                diff += first_dict[key]\n",
    "        for key in second_dict:\n",
    "            diff += second_dict[key]\n",
    "        if diff == 1:\n",
    "            result += 1\n",
    "\n",
    "print(result)"
   ]
  },
  {
   "cell_type": "code",
   "execution_count": null,
   "metadata": {},
   "outputs": [],
   "source": []
  }
 ],
 "metadata": {
  "kernelspec": {
   "display_name": "Python 3",
   "language": "python",
   "name": "python3"
  },
  "language_info": {
   "codemirror_mode": {
    "name": "ipython",
    "version": 3
   },
   "file_extension": ".py",
   "mimetype": "text/x-python",
   "name": "python",
   "nbconvert_exporter": "python",
   "pygments_lexer": "ipython3",
   "version": "3.11.8"
  }
 },
 "nbformat": 4,
 "nbformat_minor": 2
}
