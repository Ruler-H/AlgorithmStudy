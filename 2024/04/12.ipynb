{
 "cells": [
  {
   "cell_type": "code",
   "execution_count": 25,
   "metadata": {},
   "outputs": [
    {
     "name": "stdout",
     "output_type": "stream",
     "text": [
      "6\n"
     ]
    }
   ],
   "source": [
    "# 백준 2607번 - 비슷한 단어\n",
    "import sys\n",
    "# input = sys.stdin.readline\n",
    "\n",
    "n = int(input().strip())\n",
    "first = list(input().strip())\n",
    "first_dict = {}\n",
    "for f in first:\n",
    "    if f in first_dict:\n",
    "        first_dict[f] += 1\n",
    "    else:\n",
    "        first_dict[f] = 1\n",
    "\n",
    "result = 0\n",
    "seconds = [list(input().strip()) for _ in range(n-1)]\n",
    "for second in seconds:\n",
    "    second_dict = {}\n",
    "    for s in second:\n",
    "        if s in second_dict:\n",
    "            second_dict[s] += 1\n",
    "        else:\n",
    "            second_dict[s] = 1\n",
    "\n",
    "    if len(first) == len(second):\n",
    "        diff = 0\n",
    "        add_cnt = 0\n",
    "        remove_cnt = 0\n",
    "        for key in first_dict:\n",
    "            if key in second_dict:\n",
    "                if first_dict[key] > second_dict[key]:\n",
    "                    add_cnt += first_dict[key] - second_dict[key]\n",
    "                elif first_dict[key] < second_dict[key]:\n",
    "                    remove_cnt += second_dict[key] - first_dict[key]\n",
    "                second_dict.pop(key)\n",
    "            else:\n",
    "                add_cnt += first_dict[key]\n",
    "        for key in second_dict:\n",
    "            remove_cnt += second_dict[key]\n",
    "        if add_cnt and remove_cnt:\n",
    "            diff = add_cnt + remove_cnt - 1\n",
    "        else:\n",
    "            diff = add_cnt + remove_cnt\n",
    "        if diff == 0 or diff == 1:\n",
    "            result += 1\n",
    "    elif abs(len(first) - len(second)) == 1:\n",
    "        diff = 0\n",
    "        add_cnt = 0\n",
    "        remove_cnt = 0\n",
    "        for key in first_dict:\n",
    "            if key in second_dict:\n",
    "                if first_dict[key] > second_dict[key]:\n",
    "                    add_cnt += first_dict[key] - second_dict[key]\n",
    "                elif first_dict[key] < second_dict[key]:\n",
    "                    remove_cnt += second_dict[key] - first_dict[key]\n",
    "                second_dict.pop(key)\n",
    "            else:\n",
    "                add_cnt += first_dict[key]\n",
    "        for key in second_dict:\n",
    "            remove_cnt += second_dict[key]\n",
    "        if add_cnt and remove_cnt:\n",
    "            diff = add_cnt + remove_cnt - 1\n",
    "        else:\n",
    "            diff = add_cnt + remove_cnt\n",
    "        if diff == 1:\n",
    "            result += 1\n",
    "\n",
    "print(result)"
   ]
  },
  {
   "cell_type": "code",
   "execution_count": null,
   "metadata": {},
   "outputs": [],
   "source": []
  }
 ],
 "metadata": {
  "kernelspec": {
   "display_name": "Python 3",
   "language": "python",
   "name": "python3"
  },
  "language_info": {
   "codemirror_mode": {
    "name": "ipython",
    "version": 3
   },
   "file_extension": ".py",
   "mimetype": "text/x-python",
   "name": "python",
   "nbconvert_exporter": "python",
   "pygments_lexer": "ipython3",
   "version": "3.11.8"
  }
 },
 "nbformat": 4,
 "nbformat_minor": 2
}
