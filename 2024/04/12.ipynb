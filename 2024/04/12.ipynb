{
 "cells": [
  {
   "cell_type": "code",
   "execution_count": 1,
   "metadata": {},
   "outputs": [
    {
     "ename": "AttributeError",
     "evalue": "'list' object has no attribute 'appends'",
     "output_type": "error",
     "traceback": [
      "\u001b[1;31m---------------------------------------------------------------------------\u001b[0m",
      "\u001b[1;31mAttributeError\u001b[0m                            Traceback (most recent call last)",
      "Cell \u001b[1;32mIn[1], line 35\u001b[0m\n\u001b[0;32m     33\u001b[0m     s \u001b[38;5;241m=\u001b[39m \u001b[38;5;28mlist\u001b[39m(\u001b[38;5;28mmap\u001b[39m(\u001b[38;5;28mint\u001b[39m, \u001b[38;5;28minput\u001b[39m()\u001b[38;5;241m.\u001b[39mstrip()\u001b[38;5;241m.\u001b[39msplit()))\n\u001b[0;32m     34\u001b[0m     \u001b[38;5;28;01mif\u001b[39;00m s \u001b[38;5;129;01min\u001b[39;00m candidate:\n\u001b[1;32m---> 35\u001b[0m         \u001b[43manswer\u001b[49m\u001b[38;5;241;43m.\u001b[39;49m\u001b[43mappends\u001b[49m(s)\n\u001b[0;32m     37\u001b[0m \u001b[38;5;28mprint\u001b[39m(\u001b[38;5;28mlen\u001b[39m(answer))\n\u001b[0;32m     38\u001b[0m \u001b[38;5;28;01mfor\u001b[39;00m a \u001b[38;5;129;01min\u001b[39;00m answer:\n",
      "\u001b[1;31mAttributeError\u001b[0m: 'list' object has no attribute 'appends'"
     ]
    }
   ],
   "source": [
    "# 백준 2614번 - 다각형그리기\n",
    "import sys\n",
    "# input = sys.stdin.readline\n",
    "from collections import deque\n",
    "\n",
    "n = int(input().strip())\n",
    "standard = list(map(int, input().strip().split()))\n",
    "standard = deque(standard)\n",
    "reversed_s = []\n",
    "for s in standard:\n",
    "    if s == 1:\n",
    "        reversed_s.append(3)\n",
    "    elif s == 2:\n",
    "        reversed_s.append(4)\n",
    "    elif s == 3:\n",
    "        reversed_s.append(1)\n",
    "    elif s == 4:\n",
    "        reversed_s.append(2)\n",
    "\n",
    "reversed_s.reverse()\n",
    "reversed_s = deque(reversed_s)\n",
    "candidate = []\n",
    "while n:\n",
    "    standard.rotate(1)\n",
    "    reversed_s.rotate(1)\n",
    "    n -= 1\n",
    "    candidate.append(list(standard))\n",
    "    candidate.append(list(reversed_s))\n",
    "\n",
    "answer = []\n",
    "m = int(input().strip())\n",
    "for _ in range(m):\n",
    "    s = list(map(int, input().strip().split()))\n",
    "    if s in candidate:\n",
    "        answer.append(s)\n",
    "\n",
    "print(len(answer))\n",
    "for a in answer:\n",
    "    print(*a)\n"
   ]
  },
  {
   "cell_type": "code",
   "execution_count": null,
   "metadata": {},
   "outputs": [],
   "source": [
    "10\n",
    "1 4 1 1 4 3 3 3 2 2\n",
    "3\n",
    "3 2 2 1 4 1 1 4 3 3\n",
    "1 4 4 3 3 3 2 1 1 2\n",
    "4 4 1 1 1 2 3 3 2 3"
   ]
  }
 ],
 "metadata": {
  "kernelspec": {
   "display_name": "Python 3",
   "language": "python",
   "name": "python3"
  },
  "language_info": {
   "codemirror_mode": {
    "name": "ipython",
    "version": 3
   },
   "file_extension": ".py",
   "mimetype": "text/x-python",
   "name": "python",
   "nbconvert_exporter": "python",
   "pygments_lexer": "ipython3",
   "version": "3.11.8"
  }
 },
 "nbformat": 4,
 "nbformat_minor": 2
}
