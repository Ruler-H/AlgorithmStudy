{
 "cells": [
  {
   "cell_type": "code",
   "execution_count": null,
   "metadata": {},
   "outputs": [],
   "source": [
    "# 백준 2644번 - 촌수계산\n",
    "import sys\n",
    "# input = sys.stdin.readline\n",
    "\n",
    "n = int(input().strip())\n",
    "\n",
    "a, b = map(int, input().split())\n",
    "m = int(input().strip())\n",
    "graph = [[] for _ in range(n+1)]\n",
    "visited = [False] * (n+1)\n",
    "result = 0\n",
    "\n",
    "for _ in range(m):\n",
    "    x, y = map(int, input().split())\n",
    "    graph[x].append(y)\n",
    "    graph[y].append(x)\n",
    "\n",
    "def dfs(start, end, count):\n",
    "    global result\n",
    "    visited[start] = True\n",
    "    if start == end:\n",
    "        result = count\n",
    "        return\n",
    "    for i in graph[start]:\n",
    "        if not visited[i]:\n",
    "            dfs(i, end, count+1)\n",
    "\n",
    "dfs(a, b, 0)\n",
    "if result == 0:\n",
    "    print(-1)\n",
    "else:\n",
    "    print(result)"
   ]
  }
 ],
 "metadata": {
  "kernelspec": {
   "display_name": "Python 3",
   "language": "python",
   "name": "python3"
  },
  "language_info": {
   "codemirror_mode": {
    "name": "ipython",
    "version": 3
   },
   "file_extension": ".py",
   "mimetype": "text/x-python",
   "name": "python",
   "nbconvert_exporter": "python",
   "pygments_lexer": "ipython3",
   "version": "3.11.8"
  }
 },
 "nbformat": 4,
 "nbformat_minor": 2
}
