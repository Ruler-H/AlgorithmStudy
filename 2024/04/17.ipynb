{
 "cells": [
  {
   "cell_type": "code",
   "execution_count": 10,
   "metadata": {},
   "outputs": [
    {
     "name": "stdout",
     "output_type": "stream",
     "text": [
      "4 3\n",
      "279134423799\n"
     ]
    }
   ],
   "source": [
    "# 백준 2697번 - 다음수 구하기\n",
    "import sys\n",
    "# input = sys.stdin.readline\n",
    "\n",
    "t = int(input().strip())\n",
    "\n",
    "for _ in range(t):\n",
    "    n = list(map(int, input().strip()))\n",
    "    length = len(n)\n",
    "    idx = -1\n",
    "\n",
    "    for i in range(length-1, 0, -1):\n",
    "        if n[i] > n[i-1]:\n",
    "            idx = i-1\n",
    "            break\n",
    "\n",
    "    if idx == -1:\n",
    "        print(\"BIGGEST\")\n",
    "    else:\n",
    "        for i in range(length-1, idx, -1):\n",
    "            if n[i] > n[idx]:\n",
    "                n[i], n[idx] = n[idx], n[i]\n",
    "                break\n",
    "\n",
    "        n = n[:idx+1] + sorted(n[idx+1:])\n",
    "        print(\"\".join(map(str, n)))"
   ]
  },
  {
   "cell_type": "code",
   "execution_count": null,
   "metadata": {},
   "outputs": [],
   "source": []
  }
 ],
 "metadata": {
  "kernelspec": {
   "display_name": "Python 3",
   "language": "python",
   "name": "python3"
  },
  "language_info": {
   "codemirror_mode": {
    "name": "ipython",
    "version": 3
   },
   "file_extension": ".py",
   "mimetype": "text/x-python",
   "name": "python",
   "nbconvert_exporter": "python",
   "pygments_lexer": "ipython3",
   "version": "3.11.8"
  }
 },
 "nbformat": 4,
 "nbformat_minor": 2
}
