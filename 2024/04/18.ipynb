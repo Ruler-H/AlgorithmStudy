{
 "cells": [
  {
   "cell_type": "code",
   "execution_count": 6,
   "metadata": {},
   "outputs": [
    {
     "name": "stdout",
     "output_type": "stream",
     "text": [
      "000000000\n"
     ]
    }
   ],
   "source": [
    "# 백준 2713번 - 규현이의 사랑을 담은 문자메시지\n",
    "import sys\n",
    "# input = sys.stdin.readline\n",
    "\n",
    "t = int(input().strip())\n",
    "\n",
    "for _ in range(t):\n",
    "    inp_str = input()\n",
    "    r, c = map(str, inp_str.split()[:2])\n",
    "    message = inp_str[len(r)+len(c)+2:]\n",
    "    r, c = int(r), int(c)\n",
    "    m_list = [['' for __ in range(c)] for _ in range(r)]\n",
    "    append_str = ''\n",
    "    for k in message:\n",
    "        if k == ' ':\n",
    "            append_str += '00000'\n",
    "        else:\n",
    "            append_str += (bin(ord(k)-64)[2:]).zfill(5)\n",
    "    i, j = 0, 0\n",
    "    direction = 0\n",
    "    for k in append_str:\n",
    "        m_list[i][j] = k\n",
    "        if direction == 0:\n",
    "            if j + 1 < c and m_list[i][j+1] == '':\n",
    "                j += 1\n",
    "            else:\n",
    "                direction = 1\n",
    "                i += 1\n",
    "        elif direction == 1:\n",
    "            if i + 1 < r and m_list[i+1][j] == '':\n",
    "                i += 1\n",
    "            else:\n",
    "                direction = 2\n",
    "                j -= 1\n",
    "        elif direction == 2:\n",
    "            if j - 1 >= 0 and m_list[i][j-1] == '':\n",
    "                j -= 1\n",
    "            else:\n",
    "                direction = 3\n",
    "                i -= 1\n",
    "        elif direction == 3:\n",
    "            if i - 1 >= 0 and m_list[i-1][j] == '':\n",
    "                i -= 1\n",
    "            else:\n",
    "                direction = 0\n",
    "                j += 1\n",
    "    for i in range(r):\n",
    "        for j in range(c):\n",
    "            if m_list[i][j] == '':\n",
    "                print('0', end='')\n",
    "            else:\n",
    "                print(m_list[i][j], end='')\n",
    "    print()"
   ]
  },
  {
   "cell_type": "code",
   "execution_count": null,
   "metadata": {},
   "outputs": [],
   "source": [
    "# 백준 2716번 - 원숭이 매달기\n",
    "import sys\n",
    "# input = sys.stdin.readline"
   ]
  }
 ],
 "metadata": {
  "kernelspec": {
   "display_name": "Python 3",
   "language": "python",
   "name": "python3"
  },
  "language_info": {
   "codemirror_mode": {
    "name": "ipython",
    "version": 3
   },
   "file_extension": ".py",
   "mimetype": "text/x-python",
   "name": "python",
   "nbconvert_exporter": "python",
   "pygments_lexer": "ipython3",
   "version": "3.11.8"
  }
 },
 "nbformat": 4,
 "nbformat_minor": 2
}
