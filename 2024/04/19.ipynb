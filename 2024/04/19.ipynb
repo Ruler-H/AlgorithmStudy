{
 "cells": [
  {
   "cell_type": "code",
   "execution_count": null,
   "metadata": {},
   "outputs": [],
   "source": [
    "# 백준 2725번 - 보이는 점의 개수\n",
    "import sys\n",
    "# input = sys.stdin.readline\n",
    "\n",
    "c = int(input().strip())\n",
    "n_list = []\n",
    "for _ in range(c):\n",
    "    n_list.append(int(input().strip()))\n",
    "max_n = max(n_list)\n",
    "cnt_list = [0] * (max_n + 1)\n",
    "cnt_list[1] = 3\n",
    "for i in range(2, max_n + 1):\n",
    "    cnt = cnt_list[i - 1]\n",
    "    for j in range(i, -1, -1):\n",
    "        for k in range(i, 1, -1):\n",
    "            if i % k == 0 and j % k == 0:\n",
    "                break\n",
    "        else:\n",
    "            # print(i, j\n",
    "            cnt += 2\n",
    "    cnt_list[i] = cnt\n",
    "\n",
    "for n in n_list:\n",
    "    print(cnt_list[n])"
   ]
  }
 ],
 "metadata": {
  "kernelspec": {
   "display_name": "Python 3",
   "language": "python",
   "name": "python3"
  },
  "language_info": {
   "codemirror_mode": {
    "name": "ipython",
    "version": 3
   },
   "file_extension": ".py",
   "mimetype": "text/x-python",
   "name": "python",
   "nbconvert_exporter": "python",
   "pygments_lexer": "ipython3",
   "version": "3.11.8"
  }
 },
 "nbformat": 4,
 "nbformat_minor": 2
}
