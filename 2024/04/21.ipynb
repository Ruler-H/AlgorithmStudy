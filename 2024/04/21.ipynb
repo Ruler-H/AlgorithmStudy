{
 "cells": [
  {
   "cell_type": "code",
   "execution_count": null,
   "metadata": {},
   "outputs": [],
   "source": [
    "# 백준 2784번 - 가로 세로 퍼즐\n",
    "import sys\n",
    "# input = sys.stdin.readline\n",
    "\n",
    "words = []\n",
    "for _ in range(6):\n",
    "    words.append(input().strip())\n",
    "\n",
    "words.sort()"
   ]
  },
  {
   "cell_type": "code",
   "execution_count": null,
   "metadata": {},
   "outputs": [],
   "source": [
    "from itertools import permutations\n",
    "\n",
    "for i in permutations([0, 1, 2, 3, 4, 5], 3):\n",
    "    total = words[i[0]] + words[i[1]] + words[i[2]]\n",
    "    check_list = words.copy()\n",
    "    check_list.remove(words[i[0]])\n",
    "    check_list.remove(words[i[1]])\n",
    "    check_list.remove(words[i[2]])\n",
    "    if total[::3] in check_list:\n",
    "        check_list.remove(total[::3])\n",
    "    if total[1::3] in check_list:\n",
    "        check_list.remove(total[1::3])\n",
    "    if total[2::3] in check_list:\n",
    "        check_list.remove(total[2::3])\n",
    "    if len(check_list) == 0:\n",
    "        print(words[i[0]])\n",
    "        print(words[i[1]])\n",
    "        print(words[i[2]])\n",
    "        break\n",
    "else:\n",
    "    print(0)"
   ]
  },
  {
   "cell_type": "code",
   "execution_count": null,
   "metadata": {},
   "outputs": [],
   "source": []
  },
  {
   "cell_type": "code",
   "execution_count": null,
   "metadata": {},
   "outputs": [],
   "source": []
  }
 ],
 "metadata": {
  "kernelspec": {
   "display_name": "Python 3",
   "language": "python",
   "name": "python3"
  },
  "language_info": {
   "codemirror_mode": {
    "name": "ipython",
    "version": 3
   },
   "file_extension": ".py",
   "mimetype": "text/x-python",
   "name": "python",
   "nbconvert_exporter": "python",
   "pygments_lexer": "ipython3",
   "version": "3.11.8"
  }
 },
 "nbformat": 4,
 "nbformat_minor": 2
}
