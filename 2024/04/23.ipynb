{
 "cells": [
  {
   "cell_type": "code",
   "execution_count": 1,
   "metadata": {},
   "outputs": [
    {
     "name": "stdout",
     "output_type": "stream",
     "text": [
      "0\n"
     ]
    }
   ],
   "source": [
    "# 백준 2823번 - 유턴 싫어\n",
    "import sys\n",
    "# input = sys.stdin.readline\n",
    "\n",
    "r, c = map(int, input().split())\n",
    "\n",
    "graph = []\n",
    "for _ in range(r):\n",
    "    graph.append(list(input()))\n",
    "\n",
    "def check(x, y):\n",
    "    cnt = 0\n",
    "    if x-1 >= 0 and graph[x-1][y] == '.':\n",
    "        cnt += 1\n",
    "    if x+1 < r and graph[x+1][y] == '.':\n",
    "        cnt += 1\n",
    "    if y-1 >= 0 and graph[x][y-1] == '.':\n",
    "        cnt += 1\n",
    "    if y+1 < c and graph[x][y+1] == '.':\n",
    "        cnt += 1\n",
    "    return cnt\n",
    "\n",
    "for i in range(r):\n",
    "    for j in range(c):\n",
    "        if graph[i][j] == '.':\n",
    "            if check(i, j) < 2:\n",
    "                print(1)\n",
    "                sys.exit()\n",
    "print(0)"
   ]
  },
  {
   "cell_type": "code",
   "execution_count": 1,
   "metadata": {},
   "outputs": [
    {
     "name": "stdout",
     "output_type": "stream",
     "text": [
      "3\n"
     ]
    }
   ],
   "source": [
    "# 백준 2872번 - 우리집엔 도서관이 있어\n",
    "import sys\n",
    "# input = sys.stdin.readline\n",
    "\n",
    "N = int(sys.stdin.readline())\n",
    "book_lst = []\n",
    "for i in range(N):\n",
    "    book_lst.append(int(sys.stdin.readline()))\n",
    "\n",
    "maxbook = max(book_lst)\n",
    "\n",
    "idx = book_lst.index(maxbook)\n",
    "answer = len(book_lst)-idx-1\n",
    "for book in book_lst[:idx][::-1]:\n",
    "    if book == maxbook - 1:\n",
    "        maxbook = book\n",
    "    else:\n",
    "        answer += 1\n",
    "print(answer)"
   ]
  },
  {
   "cell_type": "code",
   "execution_count": null,
   "metadata": {},
   "outputs": [],
   "source": []
  }
 ],
 "metadata": {
  "kernelspec": {
   "display_name": "Python 3",
   "language": "python",
   "name": "python3"
  },
  "language_info": {
   "codemirror_mode": {
    "name": "ipython",
    "version": 3
   },
   "file_extension": ".py",
   "mimetype": "text/x-python",
   "name": "python",
   "nbconvert_exporter": "python",
   "pygments_lexer": "ipython3",
   "version": "3.11.8"
  }
 },
 "nbformat": 4,
 "nbformat_minor": 2
}
