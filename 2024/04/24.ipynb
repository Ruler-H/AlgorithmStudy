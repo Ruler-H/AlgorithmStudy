{
 "cells": [
  {
   "cell_type": "code",
   "execution_count": 39,
   "metadata": {},
   "outputs": [
    {
     "name": "stdout",
     "output_type": "stream",
     "text": [
      "1 2\n"
     ]
    }
   ],
   "source": [
    "# 백준 2876번 - 그래픽스 퀴즈\n",
    "import sys\n",
    "# input = sys.stdin.readline\n",
    "\n",
    "n = int(input())\n",
    "arr = [list(map(int, input().split())) for _ in range(n)]\n",
    "max_grade = {i:0 for i in range(1,6)}\n",
    "seq_grade = {i:0 for i in range(1,6)}\n",
    "\n",
    "for i in range(2):\n",
    "    seq_grade[arr[0][i]] = 1\n",
    "    max_grade[arr[0][i]] = 1\n",
    "for i in range(1,n):\n",
    "    if arr[i][0] == arr[i][1]:\n",
    "        arr[i].pop()\n",
    "    for num in arr[i]:\n",
    "        seq_grade[num] += 1\n",
    "        if num not in arr[i-1]:\n",
    "            seq_grade[num] = 1\n",
    "        max_grade[num] = max(max_grade[num],seq_grade[num])\n",
    "\n",
    "max_cnt, max_num = 0, 0\n",
    "for check in max_grade:\n",
    "    if max_grade[check] > max_cnt:\n",
    "        max_cnt = max_grade[check]\n",
    "        max_num = check\n",
    "print(max_cnt,max_num)"
   ]
  },
  {
   "cell_type": "code",
   "execution_count": null,
   "metadata": {},
   "outputs": [],
   "source": [
    "3 5"
   ]
  }
 ],
 "metadata": {
  "kernelspec": {
   "display_name": "Python 3",
   "language": "python",
   "name": "python3"
  },
  "language_info": {
   "codemirror_mode": {
    "name": "ipython",
    "version": 3
   },
   "file_extension": ".py",
   "mimetype": "text/x-python",
   "name": "python",
   "nbconvert_exporter": "python",
   "pygments_lexer": "ipython3",
   "version": "3.11.8"
  }
 },
 "nbformat": 4,
 "nbformat_minor": 2
}
