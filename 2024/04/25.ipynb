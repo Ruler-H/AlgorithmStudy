{
 "cells": [
  {
   "cell_type": "code",
   "execution_count": 5,
   "metadata": {},
   "outputs": [
    {
     "name": "stdout",
     "output_type": "stream",
     "text": [
      "8 0\n"
     ]
    }
   ],
   "source": [
    "# 백준 2885번 - 초콜릿 식사\n",
    "import sys\n",
    "# input = sys.stdin.readline\n",
    "\n",
    "k = int(input())\n",
    "\n",
    "size = 1\n",
    "while k > size:\n",
    "    size *= 2\n",
    "print(size, end=\" \")\n",
    "cnt = 0\n",
    "while True:\n",
    "    if k >= size:\n",
    "        k -= size\n",
    "    if k == 0:\n",
    "        break\n",
    "    size //= 2\n",
    "    cnt += 1\n",
    "print(cnt)"
   ]
  },
  {
   "cell_type": "code",
   "execution_count": null,
   "metadata": {},
   "outputs": [],
   "source": []
  }
 ],
 "metadata": {
  "kernelspec": {
   "display_name": "Python 3",
   "language": "python",
   "name": "python3"
  },
  "language_info": {
   "codemirror_mode": {
    "name": "ipython",
    "version": 3
   },
   "file_extension": ".py",
   "mimetype": "text/x-python",
   "name": "python",
   "nbconvert_exporter": "python",
   "pygments_lexer": "ipython3",
   "version": "3.11.8"
  }
 },
 "nbformat": 4,
 "nbformat_minor": 2
}
