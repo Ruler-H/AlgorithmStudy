{
 "cells": [
  {
   "cell_type": "code",
   "execution_count": 60,
   "metadata": {},
   "outputs": [
    {
     "name": "stdout",
     "output_type": "stream",
     "text": [
      "c_cnt 1\n",
      "2\n",
      "{1: (1, 1), 2: (0, 2), 12: (3, 1)}\n",
      "c_cnt 4\n",
      "5\n",
      "{1: (2, 1), 2: (1, 1), 12: (4, 1)}\n",
      "c_cnt 3\n",
      "3\n",
      "{1: (2, 1), 2: (1, 1), 12: (4, 4)}\n"
     ]
    }
   ],
   "source": [
    "# 백준 2932번 - 표 회전\n",
    "import sys\n",
    "# input = sys.stdin.readline\n",
    "\n",
    "n, k = map(int, input().split())\n",
    "\n",
    "table_dict = {}\n",
    "move_info = []\n",
    "\n",
    "for _ in range(k):\n",
    "    x, r, c = map(int, input().split())\n",
    "    move_info.append((x, r - 1, c - 1))\n",
    "\n",
    "    if x not in table_dict:\n",
    "        x_r = x // n\n",
    "        if x % n != 0:\n",
    "            x_r += 1\n",
    "        x_c = x % n\n",
    "        if x_c == 0:\n",
    "            x_c = n\n",
    "        table_dict[x] = (x_r - 1, x_c - 1)\n",
    "\n",
    "for x, r, c in move_info:\n",
    "    x_r, x_c = table_dict[x]\n",
    "    c_cnt = 0\n",
    "    if x_c <= c:\n",
    "        c_cnt = c - x_c\n",
    "    else:\n",
    "        c_cnt = n + (c - x_c)\n",
    "    for i in table_dict:\n",
    "        i_r, i_c = table_dict[i]\n",
    "        if i_r == x_r:\n",
    "            i_c += c_cnt\n",
    "            i_c %= n\n",
    "            table_dict[i] = (i_r, i_c)\n",
    "\n",
    "    r_cnt = 0\n",
    "    if x_r <= r:\n",
    "        r_cnt = r - x_r\n",
    "    else:\n",
    "        r_cnt = n + (r - x_r)\n",
    "    for i in table_dict:\n",
    "        i_r, i_c = table_dict[i]\n",
    "        if i_c == c:\n",
    "            i_r += r_cnt\n",
    "            i_r %= n\n",
    "            table_dict[i] = (i_r, i_c)\n",
    "    print(c_cnt + r_cnt)"
   ]
  },
  {
   "cell_type": "code",
   "execution_count": null,
   "metadata": {},
   "outputs": [],
   "source": []
  }
 ],
 "metadata": {
  "kernelspec": {
   "display_name": "Python 3",
   "language": "python",
   "name": "python3"
  },
  "language_info": {
   "codemirror_mode": {
    "name": "ipython",
    "version": 3
   },
   "file_extension": ".py",
   "mimetype": "text/x-python",
   "name": "python",
   "nbconvert_exporter": "python",
   "pygments_lexer": "ipython3",
   "version": "3.11.8"
  }
 },
 "nbformat": 4,
 "nbformat_minor": 2
}
