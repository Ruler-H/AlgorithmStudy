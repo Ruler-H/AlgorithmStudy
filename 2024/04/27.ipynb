{
 "cells": [
  {
   "cell_type": "code",
   "execution_count": 5,
   "metadata": {},
   "outputs": [
    {
     "name": "stdout",
     "output_type": "stream",
     "text": [
      "1 42 105\n",
      "21 2 5\n",
      "3 14 35\n",
      "7 6 15\n"
     ]
    }
   ],
   "source": [
    "# 백준 2942번 - 퍼거슨과 사과\n",
    "import sys\n",
    "# input = sys.stdin.readline\n",
    "import math\n",
    "\n",
    "r, g = map(int, input().split())\n",
    "\n",
    "big_divisor = math.gcd(r, g)\n",
    "\n",
    "for i in range(1, int(big_divisor ** 0.5) + 1):\n",
    "    if big_divisor % i == 0:\n",
    "        print(i, r // i, g // i)\n",
    "        reverse = big_divisor // i\n",
    "        if i != reverse:\n",
    "            print(reverse, r // reverse, g // reverse)"
   ]
  },
  {
   "cell_type": "code",
   "execution_count": null,
   "metadata": {},
   "outputs": [],
   "source": []
  }
 ],
 "metadata": {
  "kernelspec": {
   "display_name": "Python 3",
   "language": "python",
   "name": "python3"
  },
  "language_info": {
   "codemirror_mode": {
    "name": "ipython",
    "version": 3
   },
   "file_extension": ".py",
   "mimetype": "text/x-python",
   "name": "python",
   "nbconvert_exporter": "python",
   "pygments_lexer": "ipython3",
   "version": "3.11.8"
  }
 },
 "nbformat": 4,
 "nbformat_minor": 2
}
