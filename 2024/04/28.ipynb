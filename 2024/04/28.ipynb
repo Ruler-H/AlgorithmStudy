{
 "cells": [
  {
   "cell_type": "code",
   "execution_count": 7,
   "metadata": {},
   "outputs": [
    {
     "name": "stdout",
     "output_type": "stream",
     "text": [
      "1\n"
     ]
    }
   ],
   "source": [
    "# 백준 2961번 - 도영이가 만든 맛있는 음식\n",
    "import sys\n",
    "# input = sys.stdin.readline\n",
    "\n",
    "n = int(input())\n",
    "\n",
    "result = 1000000000\n",
    "gredient = []\n",
    "\n",
    "for _ in range(n):\n",
    "    s, b = map(int, input().split())\n",
    "    append_gredient = []\n",
    "    for i_s, i_b in gredient:\n",
    "        s_result = s * i_s\n",
    "        b_result = b + i_b\n",
    "        append_gredient.append((s_result, b_result))\n",
    "        result = min(result, abs(s_result - b_result))\n",
    "    gredient += append_gredient\n",
    "    gredient.append((s, b))\n",
    "    result = min(result, abs(s - b))\n",
    "\n",
    "print(result)"
   ]
  },
  {
   "cell_type": "code",
   "execution_count": null,
   "metadata": {},
   "outputs": [],
   "source": []
  }
 ],
 "metadata": {
  "kernelspec": {
   "display_name": "Python 3",
   "language": "python",
   "name": "python3"
  },
  "language_info": {
   "codemirror_mode": {
    "name": "ipython",
    "version": 3
   },
   "file_extension": ".py",
   "mimetype": "text/x-python",
   "name": "python",
   "nbconvert_exporter": "python",
   "pygments_lexer": "ipython3",
   "version": "3.11.8"
  }
 },
 "nbformat": 4,
 "nbformat_minor": 2
}
