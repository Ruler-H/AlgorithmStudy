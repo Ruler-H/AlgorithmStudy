{
 "cells": [
  {
   "cell_type": "code",
   "execution_count": 8,
   "metadata": {},
   "outputs": [
    {
     "name": "stdout",
     "output_type": "stream",
     "text": [
      "['luka', 'o#a#', 'kula', 'i#a#']\n"
     ]
    },
    {
     "ename": "IndexError",
     "evalue": "string index out of range",
     "output_type": "error",
     "traceback": [
      "\u001b[1;31m---------------------------------------------------------------------------\u001b[0m",
      "\u001b[1;31mIndexError\u001b[0m                                Traceback (most recent call last)",
      "Cell \u001b[1;32mIn[8], line 29\u001b[0m\n\u001b[0;32m     26\u001b[0m             rotated_puzzle[j][r\u001b[38;5;241m-\u001b[39m\u001b[38;5;241m1\u001b[39m\u001b[38;5;241m-\u001b[39mi] \u001b[38;5;241m+\u001b[39m\u001b[38;5;241m=\u001b[39m puzzle[i][j]\n\u001b[0;32m     27\u001b[0m     \u001b[38;5;28;01mreturn\u001b[39;00m rotated_puzzle\n\u001b[1;32m---> 29\u001b[0m rotated_puzzle \u001b[38;5;241m=\u001b[39m rotate(rotate(\u001b[43mrotate\u001b[49m\u001b[43m(\u001b[49m\u001b[43mpuzzle\u001b[49m\u001b[43m)\u001b[49m))\n\u001b[0;32m     31\u001b[0m \u001b[38;5;28;01mfor\u001b[39;00m i \u001b[38;5;129;01min\u001b[39;00m \u001b[38;5;28mrange\u001b[39m(c):\n\u001b[0;32m     32\u001b[0m     word_list \u001b[38;5;241m=\u001b[39m rotated_puzzle[i]\u001b[38;5;241m.\u001b[39msplit(\u001b[38;5;124m\"\u001b[39m\u001b[38;5;124m#\u001b[39m\u001b[38;5;124m\"\u001b[39m)\n",
      "Cell \u001b[1;32mIn[8], line 26\u001b[0m, in \u001b[0;36mrotate\u001b[1;34m(puzzle)\u001b[0m\n\u001b[0;32m     24\u001b[0m \u001b[38;5;28;01mfor\u001b[39;00m i \u001b[38;5;129;01min\u001b[39;00m \u001b[38;5;28mrange\u001b[39m(r):\n\u001b[0;32m     25\u001b[0m     \u001b[38;5;28;01mfor\u001b[39;00m j \u001b[38;5;129;01min\u001b[39;00m \u001b[38;5;28mrange\u001b[39m(c):\n\u001b[1;32m---> 26\u001b[0m         \u001b[43mrotated_puzzle\u001b[49m\u001b[43m[\u001b[49m\u001b[43mj\u001b[49m\u001b[43m]\u001b[49m\u001b[43m[\u001b[49m\u001b[43mr\u001b[49m\u001b[38;5;241;43m-\u001b[39;49m\u001b[38;5;241;43m1\u001b[39;49m\u001b[38;5;241;43m-\u001b[39;49m\u001b[43mi\u001b[49m\u001b[43m]\u001b[49m \u001b[38;5;241m+\u001b[39m\u001b[38;5;241m=\u001b[39m puzzle[i][j]\n\u001b[0;32m     27\u001b[0m \u001b[38;5;28;01mreturn\u001b[39;00m rotated_puzzle\n",
      "\u001b[1;31mIndexError\u001b[0m: string index out of range"
     ]
    }
   ],
   "source": [
    "# 백준 3005번 - 크로스워드 퍼즐 쳐다보기\n",
    "import sys\n",
    "# input = sys.stdin.readline\n",
    "\n",
    "\n",
    "r, c = map(int, input().split())\n",
    "\n",
    "puzzle = []\n",
    "for _ in range(r):\n",
    "    puzzle.append(input())\n",
    "\n",
    "words = []\n",
    "for i in range(r):\n",
    "    word_list = puzzle[i].split(\"#\")\n",
    "    for word in word_list:\n",
    "        if len(word) >= 2:\n",
    "            words.append(word)\n",
    "\n",
    "def rotate(puzzle):\n",
    "    r = len(puzzle)\n",
    "    c = len(puzzle[0])\n",
    "    rotated_puzzle = [[\"\"] * c for _ in range(r)]\n",
    "    for i in range(r):\n",
    "        for j in range(c):\n",
    "            rotated_puzzle[j][r-1-i] = puzzle[i][j]\n",
    "    return rotated_puzzle\n",
    "\n",
    "rotated_puzzle = rotate(rotate(rotate(puzzle)))\n",
    "\n",
    "for i in range(c):\n",
    "    word_list = rotated_puzzle[i].split(\"#\")\n",
    "    for word in word_list:\n",
    "        if len(word) >= 2:\n",
    "            words.append(word)\n",
    "\n",
    "words.sort()\n",
    "print(words[0])\n",
    "\n"
   ]
  },
  {
   "cell_type": "code",
   "execution_count": 2,
   "metadata": {},
   "outputs": [
    {
     "name": "stdout",
     "output_type": "stream",
     "text": [
      "[['a', '#', 'a', '#'], ['k', 'a', 'l', 'a'], ['u', '#', 'u', '#'], ['l', '0', 'k', 'i']]\n"
     ]
    }
   ],
   "source": []
  },
  {
   "cell_type": "code",
   "execution_count": null,
   "metadata": {},
   "outputs": [],
   "source": []
  }
 ],
 "metadata": {
  "kernelspec": {
   "display_name": "Python 3",
   "language": "python",
   "name": "python3"
  },
  "language_info": {
   "codemirror_mode": {
    "name": "ipython",
    "version": 3
   },
   "file_extension": ".py",
   "mimetype": "text/x-python",
   "name": "python",
   "nbconvert_exporter": "python",
   "pygments_lexer": "ipython3",
   "version": "3.11.8"
  }
 },
 "nbformat": 4,
 "nbformat_minor": 2
}
