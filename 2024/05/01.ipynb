{
 "cells": [
  {
   "cell_type": "code",
   "execution_count": 12,
   "metadata": {},
   "outputs": [],
   "source": [
    "# 백준 3042번 - 트리플렛\n",
    "import sys\n",
    "# input = sys.stdin.readline\n",
    "\n",
    "n = int(input())\n",
    "\n",
    "board = []\n",
    "for _ in range(n):\n",
    "    board.append(list(input().strip()))\n",
    "\n",
    "from itertools import combinations\n",
    "ans = []\n",
    "for i in range(n):\n",
    "    for j in range(n):\n",
    "        if board[i][j] != '.':\n",
    "            ans.append((i, j))\n",
    "\n",
    "cnt = 0\n",
    "for a, b, c in combinations(ans, 3):\n",
    "    x1, y1 = a\n",
    "    x2, y2 = b\n",
    "    x3, y3 = c\n",
    "    if (x1 * y2 + x2 * y3 + x3 * y1) - (y1 * x2 + y2 * x3 + y3 * x1) == 0:\n",
    "        cnt += 1\n",
    "\n",
    "print(cnt)"
   ]
  }
 ],
 "metadata": {
  "kernelspec": {
   "display_name": "Python 3",
   "language": "python",
   "name": "python3"
  },
  "language_info": {
   "codemirror_mode": {
    "name": "ipython",
    "version": 3
   },
   "file_extension": ".py",
   "mimetype": "text/x-python",
   "name": "python",
   "nbconvert_exporter": "python",
   "pygments_lexer": "ipython3",
   "version": "3.11.8"
  }
 },
 "nbformat": 4,
 "nbformat_minor": 2
}
