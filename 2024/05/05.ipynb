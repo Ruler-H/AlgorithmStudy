{
 "cells": [
  {
   "cell_type": "code",
   "execution_count": null,
   "metadata": {},
   "outputs": [],
   "source": [
    "# 백준 3129번 - 상범이의 은밀한 메세지\n",
    "import sys\n",
    "# input = sys.stdin.readline\n",
    "from collections import deque\n",
    "\n",
    "encrypted = input().strip()\n",
    "message_part = input().strip()\n"
   ]
  },
  {
   "cell_type": "code",
   "execution_count": null,
   "metadata": {},
   "outputs": [],
   "source": [
    "real_key = []\n",
    "idx = 0\n",
    "for i in range(0, len(encrypted) - len(message_part) + 1):\n",
    "    passwords = []\n",
    "    for j in range(len(message_part)):\n",
    "        password = ord(encrypted[i + j]) - ord(message_part[j])\n",
    "        if password < 0:\n",
    "            password += 26\n",
    "        passwords.append(password)\n",
    "    if len(set(passwords)) == 1:\n",
    "        real_key.append(passwords[0])\n",
    "    else:\n",
    "        for j in range(2, len(passwords) // 2 + 1):\n",
    "            for k in range(j, len(passwords)):\n",
    "                if passwords[k] != passwords[k % j]:\n",
    "                    break\n",
    "            else:\n",
    "                real_key = passwords[:j]\n",
    "                break\n",
    "\n",
    "    if real_key:\n",
    "        idx = i\n",
    "        break\n",
    "\n",
    "real_key = deque(real_key)\n",
    "real_key.rotate(idx)\n",
    "\n",
    "result = \"\"\n",
    "for i in range(len(encrypted)):\n",
    "    word = ord(encrypted[i]) - real_key[i % len(real_key)]\n",
    "    if word < 97:\n",
    "        word += 26\n",
    "    result += chr(word)\n",
    "\n",
    "print(result)"
   ]
  }
 ],
 "metadata": {
  "kernelspec": {
   "display_name": "Python 3",
   "language": "python",
   "name": "python3"
  },
  "language_info": {
   "codemirror_mode": {
    "name": "ipython",
    "version": 3
   },
   "file_extension": ".py",
   "mimetype": "text/x-python",
   "name": "python",
   "nbconvert_exporter": "python",
   "pygments_lexer": "ipython3",
   "version": "3.11.8"
  }
 },
 "nbformat": 4,
 "nbformat_minor": 2
}
