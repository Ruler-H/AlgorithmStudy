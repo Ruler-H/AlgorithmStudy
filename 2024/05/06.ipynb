{
 "cells": [
  {
   "cell_type": "code",
   "execution_count": 2,
   "metadata": {},
   "outputs": [],
   "source": [
    "# 백준 3152번 - 예쁜 숫자\n",
    "import sys\n",
    "# input = sys.stdin.readline\n",
    "\n",
    "p, n1, n2, n3, n4 = map(int, input().split())\n",
    "from itertools import combinations\n",
    "\n",
    "max_val = max(n1, n2, n3, n4)\n",
    "\n",
    "tree = [1]\n",
    "\n",
    "i = 0\n",
    "\n",
    "while True:\n",
    "    node1 = tree[i] * p\n",
    "    node2 = tree[i] * p + 1\n",
    "    tree.append(node1)\n",
    "    tree.append(node2)\n",
    "    i += 1\n",
    "    if node1 > max_val and node2 > max_val:\n",
    "        break\n",
    "sum_dict = {\n",
    "    n1: 0,\n",
    "    n2: 0,\n",
    "    n3: 0,\n",
    "    n4: 0\n",
    "}\n",
    "\n",
    "for i in combinations(tree, 2):\n",
    "    sum_val = sum(i)\n",
    "    if sum_val not in sum_dict:\n",
    "        sum_dict[sum_val] = 1\n",
    "    else:\n",
    "        sum_dict[sum_val] += 1\n",
    "for i in [n1, n2, n3, n4]:\n",
    "    if sum_dict[i] == 1:\n",
    "        print(1, end=\" \")\n",
    "    else:\n",
    "        print(0, end=\" \")"
   ]
  },
  {
   "cell_type": "code",
   "execution_count": null,
   "metadata": {},
   "outputs": [],
   "source": []
  }
 ],
 "metadata": {
  "kernelspec": {
   "display_name": "Python 3",
   "language": "python",
   "name": "python3"
  },
  "language_info": {
   "codemirror_mode": {
    "name": "ipython",
    "version": 3
   },
   "file_extension": ".py",
   "mimetype": "text/x-python",
   "name": "python",
   "nbconvert_exporter": "python",
   "pygments_lexer": "ipython3",
   "version": "3.11.8"
  }
 },
 "nbformat": 4,
 "nbformat_minor": 2
}
