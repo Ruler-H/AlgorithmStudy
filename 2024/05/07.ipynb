{
 "cells": [
  {
   "cell_type": "code",
   "execution_count": 19,
   "metadata": {},
   "outputs": [],
   "source": [
    "# 백준 3155번 - 터널\n",
    "import sys\n",
    "# input = sys.stdin.readline\n",
    "\n",
    "n = int(input())\n",
    "\n",
    "ceiling = list(map(int, input().split()))\n",
    "floor = list(map(int, input().split()))\n"
   ]
  },
  {
   "cell_type": "code",
   "execution_count": 21,
   "metadata": {},
   "outputs": [
    {
     "name": "stdout",
     "output_type": "stream",
     "text": [
      "[0, 0, 0, 0, 3, 3, 3, 3, 0]\n"
     ]
    }
   ],
   "source": [
    "result = [0]\n",
    "\n",
    "for i in range(1, n):\n",
    "    if result[-1] >= ceiling[i]:\n",
    "        result.append(ceiling[i] - 1)\n",
    "    elif result[-1] <= floor[i]:\n",
    "        result.append(floor[i] + 1)\n",
    "    else:\n",
    "        result.append(result[-1])\n",
    "\n",
    "# for i in range(0, len(result) - 1):\n",
    "#     if result[i] != result[i+1]:\n",
    "#         result[i] = result[i+1]\n",
    "\n",
    "print(result)"
   ]
  },
  {
   "cell_type": "code",
   "execution_count": 23,
   "metadata": {},
   "outputs": [
    {
     "name": "stdout",
     "output_type": "stream",
     "text": [
      "  ___  ___  ___\n",
      "  | |__| |__| |\n",
      "  |           |\n",
      "   \\_________/\n",
      "    \\_______/\n",
      "     |     |\n",
      "     |     |\n",
      "     |     |\n",
      "     |     |\n",
      "     |_____|\n",
      "  __/       \\__\n",
      " /             \\\n",
      "/_______________\\\n"
     ]
    }
   ],
   "source": [
    "# 백준 2393번 - Rook\n",
    "import sys\n",
    "# input = sys.stdin.readline\n",
    "\n",
    "print('  ___  ___  ___')\n",
    "print('  | |__| |__| |')\n",
    "print('  |           |')\n",
    "print('   \\_________/')\n",
    "print('    \\_______/')\n",
    "print('     |     |')\n",
    "print('     |     |')\n",
    "print('     |     |')\n",
    "print('     |     |')\n",
    "print('     |_____|')\n",
    "print('  __/       \\__')\n",
    "print(' /             \\\\')\n",
    "print('/_______________\\\\')"
   ]
  },
  {
   "cell_type": "code",
   "execution_count": null,
   "metadata": {},
   "outputs": [],
   "source": []
  }
 ],
 "metadata": {
  "kernelspec": {
   "display_name": "Python 3",
   "language": "python",
   "name": "python3"
  },
  "language_info": {
   "codemirror_mode": {
    "name": "ipython",
    "version": 3
   },
   "file_extension": ".py",
   "mimetype": "text/x-python",
   "name": "python",
   "nbconvert_exporter": "python",
   "pygments_lexer": "ipython3",
   "version": "3.11.8"
  }
 },
 "nbformat": 4,
 "nbformat_minor": 2
}
