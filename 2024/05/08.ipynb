{
 "cells": [
  {
   "cell_type": "code",
   "execution_count": null,
   "metadata": {},
   "outputs": [],
   "source": [
    "# 백준 3155번 - 터널\n",
    "import sys\n",
    "# input = sys.stdin.readline\n",
    "\n",
    "n = int(input())\n",
    "\n",
    "ceiling = list(map(int, input().split()))\n",
    "floor = list(map(int, input().split()))\n"
   ]
  },
  {
   "cell_type": "code",
   "execution_count": null,
   "metadata": {},
   "outputs": [],
   "source": [
    "result = [0]\n",
    "for i in range(1, n - 1):\n",
    "    avail_max = min(ceiling[i-1:i+2])\n",
    "    avail_min = max(floor[i-1:i+2])\n",
    "    if result[-1] >= avail_max:\n",
    "        result.append(avail_max - 1)\n",
    "    elif result[-1] <= avail_min:\n",
    "        result.append(avail_min + 1)\n",
    "    else:\n",
    "        result.append(result[-1])\n",
    "result.append(0)\n",
    "for i in range(n):\n",
    "    print(result[i], end=\" \")"
   ]
  },
  {
   "cell_type": "code",
   "execution_count": null,
   "metadata": {},
   "outputs": [],
   "source": []
  }
 ],
 "metadata": {
  "kernelspec": {
   "display_name": "Python 3",
   "language": "python",
   "name": "python3"
  },
  "language_info": {
   "codemirror_mode": {
    "name": "ipython",
    "version": 3
   },
   "file_extension": ".py",
   "mimetype": "text/x-python",
   "name": "python",
   "nbconvert_exporter": "python",
   "pygments_lexer": "ipython3",
   "version": "3.11.8"
  }
 },
 "nbformat": 4,
 "nbformat_minor": 2
}
