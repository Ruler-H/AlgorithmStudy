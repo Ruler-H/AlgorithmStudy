{
 "cells": [
  {
   "cell_type": "code",
   "execution_count": null,
   "metadata": {},
   "outputs": [],
   "source": [
    "# 백준 2667번 - 단지번호붙이기\n",
    "import sys\n",
    "# input = sys.stdin.readline\n",
    "\n",
    "n = int(input())\n",
    "\n",
    "graph = [list(map(int, input().strip())) for _ in range(n)]"
   ]
  },
  {
   "cell_type": "code",
   "execution_count": null,
   "metadata": {},
   "outputs": [],
   "source": [
    "graph_copy = []\n",
    "for i in range(n):\n",
    "    graph_copy.append(graph[i].copy())\n",
    "dx = [-1, 1, 0, 0]\n",
    "dy = [0, 0, -1, 1]\n",
    "result = []\n",
    "\n",
    "for i in range(n):\n",
    "    for j in range(n):\n",
    "        if graph_copy[i][j] != 0:\n",
    "            graph_copy[i][j] = 0\n",
    "            stack = [(i, j)]\n",
    "            cnt = 1\n",
    "            while stack:\n",
    "                x, y = stack.pop()\n",
    "                for k in range(4):\n",
    "                    nx = x + dx[k]\n",
    "                    ny = y + dy[k]\n",
    "                    if 0 <= nx < n and 0 <= ny < n and graph_copy[nx][ny] == 1:\n",
    "                        stack.append((nx, ny))\n",
    "                        graph_copy[nx][ny] = 0\n",
    "                        cnt += 1\n",
    "            \n",
    "            result.append(cnt)\n",
    "        \n",
    "print(len(result))\n",
    "result.sort()\n",
    "for i in result:\n",
    "    print(i)"
   ]
  }
 ],
 "metadata": {
  "kernelspec": {
   "display_name": "Python 3",
   "language": "python",
   "name": "python3"
  },
  "language_info": {
   "codemirror_mode": {
    "name": "ipython",
    "version": 3
   },
   "file_extension": ".py",
   "mimetype": "text/x-python",
   "name": "python",
   "nbconvert_exporter": "python",
   "pygments_lexer": "ipython3",
   "version": "3.11.8"
  }
 },
 "nbformat": 4,
 "nbformat_minor": 2
}
