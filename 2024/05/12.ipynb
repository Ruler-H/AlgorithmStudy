{
 "cells": [
  {
   "cell_type": "code",
   "execution_count": null,
   "metadata": {},
   "outputs": [],
   "source": [
    "# 백준 1931번 - 회의실 배정\n",
    "import sys\n",
    "# input = sys.stdin.readline\n",
    "\n",
    "n = int(input())\n",
    "\n",
    "time = []\n",
    "for _ in range(n):\n",
    "    start, end = map(int, input().split())\n",
    "    time.append((start, end))\n",
    "time.sort(key=lambda x: (x[1], x[0]))\n",
    "\n",
    "cnt = 0\n",
    "end_time = 0\n",
    "for i in time:\n",
    "    if i[0] >= end_time:\n",
    "        cnt += 1\n",
    "        end_time = i[1]\n",
    "\n",
    "print(cnt)"
   ]
  },
  {
   "cell_type": "code",
   "execution_count": null,
   "metadata": {},
   "outputs": [],
   "source": []
  }
 ],
 "metadata": {
  "kernelspec": {
   "display_name": "Python 3",
   "language": "python",
   "name": "python3"
  },
  "language_info": {
   "codemirror_mode": {
    "name": "ipython",
    "version": 3
   },
   "file_extension": ".py",
   "mimetype": "text/x-python",
   "name": "python",
   "nbconvert_exporter": "python",
   "pygments_lexer": "ipython3",
   "version": "3.11.8"
  }
 },
 "nbformat": 4,
 "nbformat_minor": 2
}
