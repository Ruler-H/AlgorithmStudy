{
 "cells": [
  {
   "cell_type": "code",
   "execution_count": null,
   "metadata": {},
   "outputs": [],
   "source": [
    "# 백준 1697번 - 숨바꼭질\n",
    "import sys\n",
    "# input = sys.stdin.readline\n",
    "\n",
    "n, k = map(int, input().split())"
   ]
  },
  {
   "cell_type": "code",
   "execution_count": null,
   "metadata": {},
   "outputs": [],
   "source": [
    "if n == k:\n",
    "    print(0)\n",
    "    sys.exit()\n",
    "\n",
    "positions = [n]\n",
    "visited = [0] * 100001\n",
    "while True:\n",
    "    temp = []\n",
    "    while positions:\n",
    "        position = positions.pop(0)\n",
    "        for i in (position-1, position+1, position*2):\n",
    "            if 0 <= i <= 100000 and not visited[i]:\n",
    "                temp.append(i)\n",
    "                visited[i] = visited[position] + 1\n",
    "                if i == k:\n",
    "                    break\n",
    "        if i == k:\n",
    "            break\n",
    "    if i == k:\n",
    "        break\n",
    "    positions = temp\n",
    "\n",
    "print(visited[k])"
   ]
  },
  {
   "cell_type": "code",
   "execution_count": null,
   "metadata": {},
   "outputs": [],
   "source": []
  }
 ],
 "metadata": {
  "kernelspec": {
   "display_name": "Python 3",
   "language": "python",
   "name": "python3"
  },
  "language_info": {
   "codemirror_mode": {
    "name": "ipython",
    "version": 3
   },
   "file_extension": ".py",
   "mimetype": "text/x-python",
   "name": "python",
   "nbconvert_exporter": "python",
   "pygments_lexer": "ipython3",
   "version": "3.11.8"
  }
 },
 "nbformat": 4,
 "nbformat_minor": 2
}
