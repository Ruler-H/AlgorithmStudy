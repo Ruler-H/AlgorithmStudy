{
 "cells": [
  {
   "cell_type": "code",
   "execution_count": null,
   "metadata": {},
   "outputs": [],
   "source": [
    "# 백준 14888번 - 연산자 끼워넣기\n",
    "import sys\n",
    "# input = sys.stdin.readline\n",
    "\n",
    "n = int(input())\n",
    "numbers = list(map(int, input().split()))\n",
    "add, sub, mul, div = map(int, input().split())"
   ]
  },
  {
   "cell_type": "code",
   "execution_count": null,
   "metadata": {},
   "outputs": [],
   "source": [
    "max_result = -sys.maxsize\n",
    "min_result = sys.maxsize\n",
    "\n",
    "def dfs(i, result, add, sub, mul, div):\n",
    "    global max_result, min_result\n",
    "    if i == n:\n",
    "        max_result = max(max_result, result)\n",
    "        min_result = min(min_result, result)\n",
    "        return\n",
    "    if add:\n",
    "        dfs(i+1, result + numbers[i], add-1, sub, mul, div)\n",
    "    if sub:\n",
    "        dfs(i+1, result - numbers[i], add, sub-1, mul, div)\n",
    "    if mul:\n",
    "        dfs(i+1, result * numbers[i], add, sub, mul-1, div)\n",
    "    if div:\n",
    "        dfs(i+1, int(result / numbers[i]), add, sub, mul, div-1)\n",
    "\n",
    "dfs(1, numbers[0], add, sub, mul, div)\n",
    "print(max_result)\n",
    "print(min_result)"
   ]
  },
  {
   "cell_type": "code",
   "execution_count": null,
   "metadata": {},
   "outputs": [],
   "source": []
  }
 ],
 "metadata": {
  "kernelspec": {
   "display_name": "Python 3",
   "language": "python",
   "name": "python3"
  },
  "language_info": {
   "codemirror_mode": {
    "name": "ipython",
    "version": 3
   },
   "file_extension": ".py",
   "mimetype": "text/x-python",
   "name": "python",
   "nbconvert_exporter": "python",
   "pygments_lexer": "ipython3",
   "version": "3.11.8"
  }
 },
 "nbformat": 4,
 "nbformat_minor": 2
}
