{
 "cells": [
  {
   "cell_type": "code",
   "execution_count": null,
   "metadata": {},
   "outputs": [],
   "source": [
    "# 백준 14889번 - 스타트와 링크\n",
    "import sys\n",
    "# input = sys.stdin.readline\n",
    "\n",
    "n = int(input())\n",
    "s_list = [list(map(int, input().split())) for _ in range(n)]"
   ]
  },
  {
   "cell_type": "code",
   "execution_count": null,
   "metadata": {},
   "outputs": [],
   "source": [
    "def dfs(idx, cnt):\n",
    "    global result\n",
    "    if cnt == n // 2:\n",
    "        start, link = 0, 0\n",
    "        for i in range(n):\n",
    "            for j in range(n):\n",
    "                if selected[i] and selected[j]:\n",
    "                    start += s_list[i][j]\n",
    "                elif not selected[i] and not selected[j]:\n",
    "                    link += s_list[i][j]\n",
    "        result = min(result, abs(start - link))\n",
    "        return\n",
    "\n",
    "    for i in range(idx, n):\n",
    "        if selected[i]:\n",
    "            continue\n",
    "        selected[i] = 1\n",
    "        dfs(i + 1, cnt + 1)\n",
    "        selected[i] = 0\n",
    "\n",
    "result = sys.maxsize\n",
    "selected = [0] * n\n",
    "dfs(0, 0)\n",
    "print(result)"
   ]
  },
  {
   "cell_type": "code",
   "execution_count": null,
   "metadata": {},
   "outputs": [],
   "source": []
  }
 ],
 "metadata": {
  "kernelspec": {
   "display_name": "Python 3",
   "language": "python",
   "name": "python3"
  },
  "language_info": {
   "codemirror_mode": {
    "name": "ipython",
    "version": 3
   },
   "file_extension": ".py",
   "mimetype": "text/x-python",
   "name": "python",
   "nbconvert_exporter": "python",
   "pygments_lexer": "ipython3",
   "version": "3.11.8"
  }
 },
 "nbformat": 4,
 "nbformat_minor": 2
}
