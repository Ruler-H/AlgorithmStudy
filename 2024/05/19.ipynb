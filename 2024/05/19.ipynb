{
 "cells": [
  {
   "cell_type": "code",
   "execution_count": null,
   "metadata": {},
   "outputs": [],
   "source": [
    "# 백준 1991번 - 트리 순회\n",
    "import sys\n",
    "# input = sys.stdin.readline\n",
    "\n",
    "n = int(input())\n",
    "tree = {}\n",
    "\n",
    "for _ in range(n):\n",
    "    root, left, right = input().split()\n",
    "    tree[root] = [left, right]"
   ]
  },
  {
   "cell_type": "code",
   "execution_count": null,
   "metadata": {},
   "outputs": [],
   "source": [
    "def preorder(node):\n",
    "    if node != '.':\n",
    "        print(node, end='')\n",
    "        preorder(tree[node][0])\n",
    "        preorder(tree[node][1])\n",
    "\n",
    "def inorder(node):\n",
    "    if node != '.':\n",
    "        inorder(tree[node][0])\n",
    "        print(node, end='')\n",
    "        inorder(tree[node][1])\n",
    "\n",
    "def postorder(node):\n",
    "    if node != '.':\n",
    "        postorder(tree[node][0])\n",
    "        postorder(tree[node][1])\n",
    "        print(node, end='')\n",
    "\n",
    "preorder('A')\n",
    "print()\n",
    "inorder('A')\n",
    "print()\n",
    "postorder('A')"
   ]
  },
  {
   "cell_type": "code",
   "execution_count": null,
   "metadata": {},
   "outputs": [],
   "source": []
  }
 ],
 "metadata": {
  "kernelspec": {
   "display_name": "Python 3",
   "language": "python",
   "name": "python3"
  },
  "language_info": {
   "codemirror_mode": {
    "name": "ipython",
    "version": 3
   },
   "file_extension": ".py",
   "mimetype": "text/x-python",
   "name": "python",
   "nbconvert_exporter": "python",
   "pygments_lexer": "ipython3",
   "version": "3.11.8"
  }
 },
 "nbformat": 4,
 "nbformat_minor": 2
}
