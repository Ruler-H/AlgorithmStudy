{
 "cells": [
  {
   "cell_type": "code",
   "execution_count": null,
   "metadata": {},
   "outputs": [],
   "source": [
    "# 백준 2468번 - 안전 영역\n",
    "import sys\n",
    "# input = sys.stdin.readline\n",
    "\n",
    "n = int(input())\n",
    "graph = [list(map(int, input().split())) for _ in range(n)]"
   ]
  },
  {
   "cell_type": "code",
   "execution_count": null,
   "metadata": {},
   "outputs": [],
   "source": [
    "dx = [0, 0, 1, -1]\n",
    "dy = [1, -1, 0, 0]\n",
    "\n",
    "def bfs(x, y, h):\n",
    "    queue = [(x, y)]\n",
    "    visited[x][y] = True\n",
    "\n",
    "    while queue:\n",
    "        x, y = queue.pop(0)\n",
    "\n",
    "        for i in range(4):\n",
    "            nx = x + dx[i]\n",
    "            ny = y + dy[i]\n",
    "\n",
    "            if nx < 0 or nx >= n or ny < 0 or ny >= n:\n",
    "                continue\n",
    "\n",
    "            if graph[nx][ny] <= h:\n",
    "                continue\n",
    "\n",
    "            if not visited[nx][ny]:\n",
    "                visited[nx][ny] = True\n",
    "                queue.append((nx, ny))\n",
    "\n",
    "result = 0\n",
    "for h in range(101):\n",
    "    visited = [[False] * n for _ in range(n)]\n",
    "    count = 0\n",
    "\n",
    "    for i in range(n):\n",
    "        for j in range(n):\n",
    "            if graph[i][j] > h and not visited[i][j]:\n",
    "                bfs(i, j, h)\n",
    "                count += 1\n",
    "\n",
    "    result = max(result, count)\n",
    "\n",
    "print(result)"
   ]
  }
 ],
 "metadata": {
  "kernelspec": {
   "display_name": "Python 3",
   "language": "python",
   "name": "python3"
  },
  "language_info": {
   "codemirror_mode": {
    "name": "ipython",
    "version": 3
   },
   "file_extension": ".py",
   "mimetype": "text/x-python",
   "name": "python",
   "nbconvert_exporter": "python",
   "pygments_lexer": "ipython3",
   "version": "3.11.8"
  }
 },
 "nbformat": 4,
 "nbformat_minor": 2
}
