{
 "cells": [
  {
   "cell_type": "code",
   "execution_count": null,
   "metadata": {},
   "outputs": [],
   "source": [
    "# 백준 9465번 - 스티커\n",
    "import sys\n",
    "# input = sys.stdin.readline\n",
    "\n",
    "T = int(input())\n",
    "for _ in range(T):\n",
    "    n = int(input())\n",
    "    stickers = []\n",
    "    for _ in range(2):\n",
    "        stickers.append(list(map(int, input().split())))\n",
    "    if n == 1:\n",
    "        print(max(stickers[0][0], stickers[1][0]))\n",
    "        continue\n",
    "    dp = [[0] * n for _ in range(2)]\n",
    "    dp[0][0] = stickers[0][0]\n",
    "    dp[1][0] = stickers[1][0]\n",
    "    dp[0][1] = stickers[0][1] + dp[1][0]\n",
    "    dp[1][1] = stickers[1][1] + dp[0][0]\n",
    "\n",
    "    for i in range(2, n):\n",
    "        dp[0][i] = stickers[0][i] + max(dp[1][i-1], dp[1][i-2])\n",
    "        dp[1][i] = stickers[1][i] + max(dp[0][i-1], dp[0][i-2])\n",
    "\n",
    "    print(max(dp[0][n-1], dp[1][n-1]))"
   ]
  }
 ],
 "metadata": {
  "kernelspec": {
   "display_name": "Python 3",
   "language": "python",
   "name": "python3"
  },
  "language_info": {
   "codemirror_mode": {
    "name": "ipython",
    "version": 3
   },
   "file_extension": ".py",
   "mimetype": "text/x-python",
   "name": "python",
   "nbconvert_exporter": "python",
   "pygments_lexer": "ipython3",
   "version": "3.11.8"
  }
 },
 "nbformat": 4,
 "nbformat_minor": 2
}
