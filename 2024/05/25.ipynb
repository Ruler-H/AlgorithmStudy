{
 "cells": [
  {
   "cell_type": "code",
   "execution_count": null,
   "metadata": {},
   "outputs": [],
   "source": [
    "# 백준 1992번 - 쿼드트리\n",
    "import sys\n",
    "# input = sys.stdin.readline\n",
    "\n",
    "N = int(input())\n",
    "video = [list(map(int, input().strip())) for _ in range(N)]"
   ]
  },
  {
   "cell_type": "code",
   "execution_count": null,
   "metadata": {},
   "outputs": [],
   "source": [
    "def check(x, y, n):\n",
    "    for i in range(x, x+n):\n",
    "        for j in range(y, y+n):\n",
    "            if video[i][j] != video[x][y]:\n",
    "                return False\n",
    "    return True\n",
    "\n",
    "def quad_tree(x, y, n):\n",
    "    if check(x, y, n):\n",
    "        print(video[x][y], end=\"\")\n",
    "    else:\n",
    "        print(\"(\", end=\"\")\n",
    "        m = n // 2\n",
    "        for i in range(2):\n",
    "            for j in range(2):\n",
    "                quad_tree(x + i * m, y + j * m, m)\n",
    "        print(\")\", end=\"\")\n",
    "\n",
    "quad_tree(0, 0, N)"
   ]
  }
 ],
 "metadata": {
  "kernelspec": {
   "display_name": "Python 3",
   "language": "python",
   "name": "python3"
  },
  "language_info": {
   "codemirror_mode": {
    "name": "ipython",
    "version": 3
   },
   "file_extension": ".py",
   "mimetype": "text/x-python",
   "name": "python",
   "nbconvert_exporter": "python",
   "pygments_lexer": "ipython3",
   "version": "3.11.8"
  }
 },
 "nbformat": 4,
 "nbformat_minor": 2
}
