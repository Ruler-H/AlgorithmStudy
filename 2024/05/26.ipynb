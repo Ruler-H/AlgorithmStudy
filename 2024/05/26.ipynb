{
 "cells": [
  {
   "cell_type": "code",
   "execution_count": null,
   "metadata": {},
   "outputs": [],
   "source": [
    "# 백준 7562번 - 나이트의 이동\n",
    "import sys\n",
    "# input = sys.stdin.readline\n",
    "\n",
    "t = int(input())\n",
    "dx = [-2, -1, 1, 2, 2, 1, -1, -2]\n",
    "dy = [1, 2, 2, 1, -1, -2, -2, -1]\n",
    "\n",
    "def bfs(x, y, end_x, end_y):\n",
    "    queue = [(x, y)]\n",
    "    visited[x][y] = 1\n",
    "    while queue:\n",
    "        x, y = queue.pop(0)\n",
    "        if x == end_x and y == end_y:\n",
    "            return visited[x][y] - 1\n",
    "        for i in range(8):\n",
    "            nx = x + dx[i]\n",
    "            ny = y + dy[i]\n",
    "            if 0 <= nx < n and 0 <= ny < n and visited[nx][ny] == 0:\n",
    "                queue.append((nx, ny))\n",
    "                visited[nx][ny] = visited[x][y] + 1\n",
    "\n",
    "for _ in range(t):\n",
    "    n = int(input())\n",
    "    x, y = map(int, input().split())\n",
    "    end_x, end_y = map(int, input().split())\n",
    "    visited = [[0] * n for _ in range(n)]\n",
    "    print(bfs(x, y, end_x, end_y))"
   ]
  }
 ],
 "metadata": {
  "kernelspec": {
   "display_name": "Python 3",
   "language": "python",
   "name": "python3"
  },
  "language_info": {
   "codemirror_mode": {
    "name": "ipython",
    "version": 3
   },
   "file_extension": ".py",
   "mimetype": "text/x-python",
   "name": "python",
   "nbconvert_exporter": "python",
   "pygments_lexer": "ipython3",
   "version": "3.11.8"
  }
 },
 "nbformat": 4,
 "nbformat_minor": 2
}
