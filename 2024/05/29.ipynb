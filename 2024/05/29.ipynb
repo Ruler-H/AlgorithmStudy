{
 "cells": [
  {
   "cell_type": "code",
   "execution_count": null,
   "metadata": {},
   "outputs": [],
   "source": [
    "# 백준 2583번 - 영역 구하기\n",
    "import sys\n",
    "# input = sys.stdin.readline\n",
    "sys.setrecursionlimit(10**6)\n",
    "\n",
    "M, N, K = map(int, input().split())\n",
    "graph = [[0] * N for _ in range(M)]\n",
    "visited = [[0] * N for _ in range(M)]\n",
    "dx = [0, 0, 1, -1]\n",
    "dy = [1, -1, 0, 0]\n",
    "area = []\n",
    "\n",
    "for _ in range(K):\n",
    "    x1, y1, x2, y2 = map(int, input().split())\n",
    "    for i in range(y1, y2):\n",
    "        for j in range(x1, x2):\n",
    "            graph[i][j] = 1\n",
    "\n",
    "def dfs(x, y):\n",
    "    global cnt\n",
    "    visited[x][y] = 1\n",
    "    cnt += 1\n",
    "    for i in range(4):\n",
    "        nx = x + dx[i]\n",
    "        ny = y + dy[i]\n",
    "        if nx >= 0 and nx < M and ny >= 0 and ny < N:\n",
    "            if graph[nx][ny] == 0 and visited[nx][ny] == 0:\n",
    "                dfs(nx, ny)\n",
    "\n",
    "for i in range(M):\n",
    "    for j in range(N):\n",
    "        if graph[i][j] == 0 and visited[i][j] == 0:\n",
    "            cnt = 0\n",
    "            dfs(i, j)\n",
    "            area.append(cnt)\n",
    "\n",
    "print(len(area))\n",
    "area.sort()\n",
    "for i in area:\n",
    "    print(i, end=\" \")"
   ]
  }
 ],
 "metadata": {
  "kernelspec": {
   "display_name": "Python 3",
   "language": "python",
   "name": "python3"
  },
  "language_info": {
   "codemirror_mode": {
    "name": "ipython",
    "version": 3
   },
   "file_extension": ".py",
   "mimetype": "text/x-python",
   "name": "python",
   "nbconvert_exporter": "python",
   "pygments_lexer": "ipython3",
   "version": "3.11.8"
  }
 },
 "nbformat": 4,
 "nbformat_minor": 2
}
