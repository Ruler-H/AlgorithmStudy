{
 "cells": [
  {
   "cell_type": "code",
   "execution_count": null,
   "metadata": {},
   "outputs": [],
   "source": [
    "# 백준 11057번 - 오르막 수\n",
    "import sys\n",
    "# input = sys.stdin.readline\n",
    "\n",
    "N = int(input())\n",
    "\n",
    "dp = [[0] * 10 for _ in range(N+1)]\n",
    "\n",
    "for i in range(10):\n",
    "    dp[1][i] = 1\n",
    "\n",
    "for i in range(2, N+1):\n",
    "    for j in range(10):\n",
    "        for k in range(j+1):\n",
    "            dp[i][j] += dp[i-1][k]\n",
    "\n",
    "print(sum(dp[N]) % 10007)"
   ]
  }
 ],
 "metadata": {
  "kernelspec": {
   "display_name": "Python 3",
   "language": "python",
   "name": "python3"
  },
  "language_info": {
   "codemirror_mode": {
    "name": "ipython",
    "version": 3
   },
   "file_extension": ".py",
   "mimetype": "text/x-python",
   "name": "python",
   "nbconvert_exporter": "python",
   "pygments_lexer": "ipython3",
   "version": "3.11.8"
  }
 },
 "nbformat": 4,
 "nbformat_minor": 2
}
