{
 "cells": [
  {
   "cell_type": "code",
   "execution_count": null,
   "metadata": {},
   "outputs": [],
   "source": [
    "# 백준 1946번 - 신입 사원\n",
    "import sys\n",
    "# input = sys.stdin.readline\n",
    "\n",
    "T = int(input())\n",
    "for _ in range(T):\n",
    "    N = int(input())\n",
    "    scores = []\n",
    "    for _ in range(N):\n",
    "        scores.append(list(map(int, input().split())))\n",
    "    scores.sort()\n",
    "    \n",
    "    cnt = 1\n",
    "    min_score = scores[0][1]\n",
    "    for i in range(1, N):\n",
    "        if scores[i][1] < min_score:\n",
    "            cnt += 1\n",
    "            min_score = scores[i][1]\n",
    "    print(cnt)"
   ]
  }
 ],
 "metadata": {
  "kernelspec": {
   "display_name": "Python 3",
   "language": "python",
   "name": "python3"
  },
  "language_info": {
   "codemirror_mode": {
    "name": "ipython",
    "version": 3
   },
   "file_extension": ".py",
   "mimetype": "text/x-python",
   "name": "python",
   "nbconvert_exporter": "python",
   "pygments_lexer": "ipython3",
   "version": "3.11.8"
  }
 },
 "nbformat": 4,
 "nbformat_minor": 2
}
