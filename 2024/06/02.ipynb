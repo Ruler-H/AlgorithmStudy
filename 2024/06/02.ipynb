{
 "cells": [
  {
   "cell_type": "code",
   "execution_count": null,
   "metadata": {},
   "outputs": [],
   "source": [
    "# 백준 1309번 - 동물원\n",
    "import sys\n",
    "# input = sys.stdin.readline\n",
    "\n",
    "N = int(input())"
   ]
  },
  {
   "cell_type": "code",
   "execution_count": null,
   "metadata": {},
   "outputs": [],
   "source": [
    "prev_0 = 1\n",
    "prev_1 = 0\n",
    "\n",
    "for i in range(1, N+1):\n",
    "    cur_0 = prev_0 + prev_1 * 2\n",
    "    cur_1 = prev_0 + prev_1\n",
    "    prev_0 = cur_0 % 9901\n",
    "    prev_1 = cur_1 % 9901\n",
    "\n",
    "print((prev_0 + (prev_1 * 2)) % 9901)"
   ]
  }
 ],
 "metadata": {
  "kernelspec": {
   "display_name": "Python 3",
   "language": "python",
   "name": "python3"
  },
  "language_info": {
   "codemirror_mode": {
    "name": "ipython",
    "version": 3
   },
   "file_extension": ".py",
   "mimetype": "text/x-python",
   "name": "python",
   "nbconvert_exporter": "python",
   "pygments_lexer": "ipython3",
   "version": "3.11.8"
  }
 },
 "nbformat": 4,
 "nbformat_minor": 2
}
