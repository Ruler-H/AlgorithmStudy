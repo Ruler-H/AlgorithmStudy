{
 "cells": [
  {
   "cell_type": "code",
   "execution_count": null,
   "metadata": {},
   "outputs": [],
   "source": [
    "# 백준 5014번 - 스타트링크\n",
    "import sys\n",
    "# input = sys.stdin.readline\n",
    "\n",
    "F, S, G, U, D = map(int, input().split())"
   ]
  },
  {
   "cell_type": "code",
   "execution_count": null,
   "metadata": {},
   "outputs": [],
   "source": [
    "visited = [0] * (F+1)\n",
    "queue = [S]\n",
    "visited[S] = 1\n",
    "\n",
    "while queue:\n",
    "    s = queue.pop(0)\n",
    "    if s == G:\n",
    "        print(visited[s] - 1)\n",
    "        sys.exit(0)\n",
    "    if s + U <= F and visited[s + U] == 0:\n",
    "        visited[s + U] = visited[s] + 1\n",
    "        queue.append(s + U)\n",
    "    if s - D >= 1 and visited[s - D] == 0:\n",
    "        visited[s - D] = visited[s] + 1\n",
    "        queue.append(s - D)\n",
    "\n",
    "print(\"use the stairs\")"
   ]
  }
 ],
 "metadata": {
  "kernelspec": {
   "display_name": "Python 3",
   "language": "python",
   "name": "python3"
  },
  "language_info": {
   "codemirror_mode": {
    "name": "ipython",
    "version": 3
   },
   "file_extension": ".py",
   "mimetype": "text/x-python",
   "name": "python",
   "nbconvert_exporter": "python",
   "pygments_lexer": "ipython3",
   "version": "3.11.8"
  }
 },
 "nbformat": 4,
 "nbformat_minor": 2
}
