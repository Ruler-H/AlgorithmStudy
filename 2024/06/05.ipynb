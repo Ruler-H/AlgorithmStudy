{
 "cells": [
  {
   "cell_type": "code",
   "execution_count": null,
   "metadata": {},
   "outputs": [],
   "source": [
    "# 백준 1926번 - 그림\n",
    "import sys\n",
    "# input = sys.stdin.readline\n",
    "\n",
    "n, m = map(int, input().split())\n",
    "graph = [list(map(int, input().split())) for _ in range(n)]"
   ]
  },
  {
   "cell_type": "code",
   "execution_count": null,
   "metadata": {},
   "outputs": [],
   "source": [
    "dx = [0, 0, 1, -1]\n",
    "dy = [1, -1, 0, 0]\n",
    "\n",
    "def bfs(x, y):\n",
    "    queue = [[x, y]]\n",
    "    graph[x][y] = 0\n",
    "    count = 1\n",
    "\n",
    "    while queue:\n",
    "        a, b = queue.pop(0)\n",
    "\n",
    "        for i in range(4):\n",
    "            x = a + dx[i]\n",
    "            y = b + dy[i]\n",
    "\n",
    "            if 0 <= x < n and 0 <= y < m and graph[x][y] == 1:\n",
    "                graph[x][y] = 0\n",
    "                queue.append([x, y])\n",
    "                count += 1\n",
    "    return count\n",
    "\n",
    "count = 0\n",
    "max_size = 0\n",
    "for i in range(n):\n",
    "    for j in range(m):\n",
    "        if graph[i][j] == 1:\n",
    "            count += 1\n",
    "            max_size = max(max_size, bfs(i, j))\n",
    "\n",
    "print(count)\n",
    "print(max_size)"
   ]
  },
  {
   "cell_type": "code",
   "execution_count": null,
   "metadata": {},
   "outputs": [],
   "source": []
  }
 ],
 "metadata": {
  "kernelspec": {
   "display_name": "Python 3",
   "language": "python",
   "name": "python3"
  },
  "language_info": {
   "codemirror_mode": {
    "name": "ipython",
    "version": 3
   },
   "file_extension": ".py",
   "mimetype": "text/x-python",
   "name": "python",
   "nbconvert_exporter": "python",
   "pygments_lexer": "ipython3",
   "version": "3.11.8"
  }
 },
 "nbformat": 4,
 "nbformat_minor": 2
}
