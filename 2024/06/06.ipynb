{
 "cells": [
  {
   "cell_type": "code",
   "execution_count": null,
   "metadata": {},
   "outputs": [],
   "source": [
    "# 백준 1890번 - 점프\n",
    "import sys\n",
    "# input = sys.stdin.readline\n",
    "\n",
    "N = int(input())\n",
    "board = [list(map(int, input().split())) for _ in range(N)]"
   ]
  },
  {
   "cell_type": "code",
   "execution_count": null,
   "metadata": {},
   "outputs": [],
   "source": [
    "dp = [[0] * N for _ in range(N)]\n",
    "dp[0][0] = 1\n",
    "\n",
    "for i in range(N):\n",
    "    for j in range(N):\n",
    "        if i == N - 1 and j == N - 1:\n",
    "            break\n",
    "        if dp[i][j] != 0:\n",
    "            if j + board[i][j] < N:\n",
    "                dp[i][j + board[i][j]] += dp[i][j]\n",
    "            if i + board[i][j] < N:\n",
    "                dp[i + board[i][j]][j] += dp[i][j]\n",
    "print(dp)\n",
    "print(dp[N-1][N-1])"
   ]
  }
 ],
 "metadata": {
  "kernelspec": {
   "display_name": "Python 3",
   "language": "python",
   "name": "python3"
  },
  "language_info": {
   "codemirror_mode": {
    "name": "ipython",
    "version": 3
   },
   "file_extension": ".py",
   "mimetype": "text/x-python",
   "name": "python",
   "nbconvert_exporter": "python",
   "pygments_lexer": "ipython3",
   "version": "3.11.8"
  }
 },
 "nbformat": 4,
 "nbformat_minor": 2
}
