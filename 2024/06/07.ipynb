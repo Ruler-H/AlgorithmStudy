{
 "cells": [
  {
   "cell_type": "code",
   "execution_count": null,
   "metadata": {},
   "outputs": [],
   "source": [
    "# 백준 6588번 - 골드바흐의 추측\n",
    "import sys\n",
    "# input = sys.stdin.readline\n",
    "\n",
    "n_list = []\n",
    "\n",
    "while True:\n",
    "    n = int(input())\n",
    "    if n == 0:\n",
    "        break\n",
    "    n_list.append(n)\n",
    "max_n = max(n_list)\n",
    "prime = [False, False] + [True] * (max_n-1)\n",
    "for i in range(2, int(max_n ** 0.5) + 1):\n",
    "        if prime[i]:\n",
    "            for j in range(2*i, max_n+1, i):\n",
    "                prime[j] = False\n",
    "for n in n_list:\n",
    "    for i in range(3, n//2+1):\n",
    "        if prime[i] and prime[n-i]:\n",
    "            print(f\"{n} = {i} + {n-i}\")\n",
    "            break\n",
    "    else:\n",
    "        print(\"Goldbach's conjecture is wrong.\")"
   ]
  }
 ],
 "metadata": {
  "kernelspec": {
   "display_name": "Python 3",
   "language": "python",
   "name": "python3"
  },
  "language_info": {
   "codemirror_mode": {
    "name": "ipython",
    "version": 3
   },
   "file_extension": ".py",
   "mimetype": "text/x-python",
   "name": "python",
   "nbconvert_exporter": "python",
   "pygments_lexer": "ipython3",
   "version": "3.11.8"
  }
 },
 "nbformat": 4,
 "nbformat_minor": 2
}
