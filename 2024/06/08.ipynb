{
 "cells": [
  {
   "cell_type": "code",
   "execution_count": 10,
   "metadata": {},
   "outputs": [],
   "source": [
    "# 백준 12852번 - 1로 만들기 2\n",
    "import sys\n",
    "# input = sys.stdin.readline\n",
    "\n",
    "N = int(input())\n",
    "dp = [0] * (N + 1)\n",
    "dp[1] = 0\n",
    "\n",
    "for i in range(2, N + 1):\n",
    "    dp[i] = dp[i - 1] + 1\n",
    "    if i % 2 == 0 and dp[i] > dp[i // 2] + 1:\n",
    "        dp[i] = dp[i // 2] + 1\n",
    "    if i % 3 == 0 and dp[i] > dp[i // 3] + 1:\n",
    "        dp[i] = dp[i // 3] + 1\n",
    "\n",
    "print(dp[N])\n",
    "\n",
    "while N != 1:\n",
    "    print(N, end=\" \")\n",
    "    if N % 3 == 0 and dp[N] == dp[N // 3] + 1:\n",
    "        N = N // 3\n",
    "    elif N % 2 == 0 and dp[N] == dp[N // 2] + 1:\n",
    "        N = N // 2\n",
    "    else:\n",
    "        N -= 1\n",
    "\n",
    "print(1)"
   ]
  }
 ],
 "metadata": {
  "kernelspec": {
   "display_name": "Python 3",
   "language": "python",
   "name": "python3"
  },
  "language_info": {
   "codemirror_mode": {
    "name": "ipython",
    "version": 3
   },
   "file_extension": ".py",
   "mimetype": "text/x-python",
   "name": "python",
   "nbconvert_exporter": "python",
   "pygments_lexer": "ipython3",
   "version": "3.11.8"
  }
 },
 "nbformat": 4,
 "nbformat_minor": 2
}
