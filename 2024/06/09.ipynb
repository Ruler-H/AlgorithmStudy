{
 "cells": [
  {
   "cell_type": "code",
   "execution_count": null,
   "metadata": {},
   "outputs": [],
   "source": [
    "# 백준 2529번 - 부등호\n",
    "import sys\n",
    "# input = sys.stdin.readline\n",
    "\n",
    "k = int(input())\n",
    "sign = list(input().split())"
   ]
  },
  {
   "cell_type": "code",
   "execution_count": null,
   "metadata": {},
   "outputs": [],
   "source": [
    "nums = [i for i in range(10)]\n",
    "visited = [False] * 10\n",
    "results = []\n",
    "\n",
    "def check(idx, a, b):\n",
    "    if sign[idx] == \"<\":\n",
    "        return a < b\n",
    "    if sign[idx] == \">\":\n",
    "        return a > b\n",
    "    \n",
    "def dfs(idx, num):\n",
    "    if idx == k + 1:\n",
    "        results.append(num)\n",
    "        return\n",
    "    for i in range(10):\n",
    "        if not visited[i]:\n",
    "            if idx == 0 or check(idx - 1, num[-1], str(i)):\n",
    "                visited[i] = True\n",
    "                dfs(idx + 1, num + str(i))\n",
    "                visited[i] = False\n",
    "\n",
    "dfs(0, \"\")\n",
    "print(results[-1])\n",
    "print(results[0])"
   ]
  }
 ],
 "metadata": {
  "kernelspec": {
   "display_name": "Python 3",
   "language": "python",
   "name": "python3"
  },
  "language_info": {
   "codemirror_mode": {
    "name": "ipython",
    "version": 3
   },
   "file_extension": ".py",
   "mimetype": "text/x-python",
   "name": "python",
   "nbconvert_exporter": "python",
   "pygments_lexer": "ipython3",
   "version": "3.11.8"
  }
 },
 "nbformat": 4,
 "nbformat_minor": 2
}
