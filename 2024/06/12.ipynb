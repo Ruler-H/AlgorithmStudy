{
 "cells": [
  {
   "cell_type": "code",
   "execution_count": null,
   "metadata": {},
   "outputs": [],
   "source": [
    "# 백준 14940번 - 쉬운 최단거리\n",
    "import sys\n",
    "# input = sys.stdin.readline\n",
    "\n",
    "n, m = map(int, input().split())\n",
    "\n",
    "graph = [list(map(int, input().split())) for _ in range(n)]"
   ]
  },
  {
   "cell_type": "code",
   "execution_count": null,
   "metadata": {},
   "outputs": [],
   "source": [
    "result = [[-1] * m for _ in range(n)]\n",
    "dx = [-1, 1, 0, 0]\n",
    "dy = [0, 0, -1, 1]\n",
    "st_x, st_y = 0, 0\n",
    "for i in range(n):\n",
    "    for j in range(m):\n",
    "        if graph[i][j] == 2:\n",
    "            result[i][j] = 0\n",
    "            st_x, st_y = i, j\n",
    "\n",
    "def bfs(x, y):\n",
    "    queue = [(x, y)]\n",
    "    while queue:\n",
    "        x, y = queue.pop(0)\n",
    "        for i in range(4):\n",
    "            nx = x + dx[i]\n",
    "            ny = y + dy[i]\n",
    "            if nx < 0 or nx >= n or ny < 0 or ny >= m:\n",
    "                continue\n",
    "            if result[nx][ny] == -1 and graph[nx][ny] == 1:\n",
    "                result[nx][ny] = result[x][y] + 1\n",
    "                queue.append((nx, ny))\n",
    "\n",
    "bfs(st_x, st_y)\n",
    "\n",
    "for i in range(n):\n",
    "    for j in range(m):\n",
    "        if result[i][j] == -1:\n",
    "            if graph[i][j] == 1:\n",
    "                result[i][j] = -1\n",
    "            else:\n",
    "                result[i][j] = 0\n",
    "\n",
    "for i in range(n):\n",
    "    for j in range(m):\n",
    "        print(result[i][j], end=' ')\n",
    "    print()"
   ]
  },
  {
   "cell_type": "code",
   "execution_count": null,
   "metadata": {},
   "outputs": [],
   "source": []
  }
 ],
 "metadata": {
  "kernelspec": {
   "display_name": "Python 3",
   "language": "python",
   "name": "python3"
  },
  "language_info": {
   "codemirror_mode": {
    "name": "ipython",
    "version": 3
   },
   "file_extension": ".py",
   "mimetype": "text/x-python",
   "name": "python",
   "nbconvert_exporter": "python",
   "pygments_lexer": "ipython3",
   "version": "3.11.8"
  }
 },
 "nbformat": 4,
 "nbformat_minor": 2
}
