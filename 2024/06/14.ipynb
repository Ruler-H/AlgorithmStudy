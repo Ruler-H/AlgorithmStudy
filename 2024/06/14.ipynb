{
 "cells": [
  {
   "cell_type": "code",
   "execution_count": null,
   "metadata": {},
   "outputs": [],
   "source": [
    "# 백준 1743번 - 음식물 피하기\n",
    "import sys\n",
    "# input = sys.stdin.readline\n",
    "sys.setrecursionlimit(10**6)\n",
    "\n",
    "N, M, K = map(int, input().split())\n",
    "graph = [[0] * M for _ in range(N)]\n",
    "\n",
    "for _ in range(K):\n",
    "    x, y = map(int, input().split())\n",
    "    graph[x-1][y-1] = 1"
   ]
  },
  {
   "cell_type": "code",
   "execution_count": null,
   "metadata": {},
   "outputs": [],
   "source": [
    "dx = [-1, 1, 0, 0]\n",
    "dy = [0, 0, -1, 1]\n",
    "\n",
    "def dfs(x, y):\n",
    "    global cnt\n",
    "    graph[x][y] = 0\n",
    "    cnt += 1\n",
    "    for i in range(4):\n",
    "        nx = x + dx[i]\n",
    "        ny = y + dy[i]\n",
    "        if 0 <= nx < N and 0 <= ny < M:\n",
    "            if graph[nx][ny] == 1:\n",
    "                dfs(nx, ny)\n",
    "\n",
    "result = 0\n",
    "for i in range(N):\n",
    "    for j in range(M):\n",
    "        if graph[i][j] == 1:\n",
    "            cnt = 0\n",
    "            dfs(i, j)\n",
    "            result = max(result, cnt)\n",
    "\n",
    "print(result)"
   ]
  },
  {
   "cell_type": "code",
   "execution_count": null,
   "metadata": {},
   "outputs": [],
   "source": []
  }
 ],
 "metadata": {
  "kernelspec": {
   "display_name": "Python 3",
   "language": "python",
   "name": "python3"
  },
  "language_info": {
   "codemirror_mode": {
    "name": "ipython",
    "version": 3
   },
   "file_extension": ".py",
   "mimetype": "text/x-python",
   "name": "python",
   "nbconvert_exporter": "python",
   "pygments_lexer": "ipython3",
   "version": "3.11.8"
  }
 },
 "nbformat": 4,
 "nbformat_minor": 2
}
