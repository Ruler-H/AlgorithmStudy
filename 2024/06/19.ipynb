{
 "cells": [
  {
   "cell_type": "code",
   "execution_count": 1,
   "metadata": {},
   "outputs": [],
   "source": [
    "# 백준 13335번 - 트럭\n",
    "import sys\n",
    "# input = sys.stdin.readline\n",
    "\n",
    "n, w, L = map(int, input().split())\n",
    "trucks = list(map(int, input().split()))"
   ]
  },
  {
   "cell_type": "code",
   "execution_count": null,
   "metadata": {},
   "outputs": [],
   "source": [
    "bridge = [0] * w\n",
    "time = 0\n",
    "\n",
    "while bridge:\n",
    "    time += 1\n",
    "    bridge.pop(0)\n",
    "    if trucks:\n",
    "        if sum(bridge) + trucks[0] <= L:\n",
    "            bridge.append(trucks.pop(0))\n",
    "        else:\n",
    "            bridge.append(0)\n",
    "\n",
    "print(time)"
   ]
  }
 ],
 "metadata": {
  "kernelspec": {
   "display_name": "Python 3",
   "language": "python",
   "name": "python3"
  },
  "language_info": {
   "codemirror_mode": {
    "name": "ipython",
    "version": 3
   },
   "file_extension": ".py",
   "mimetype": "text/x-python",
   "name": "python",
   "nbconvert_exporter": "python",
   "pygments_lexer": "ipython3",
   "version": "3.11.8"
  }
 },
 "nbformat": 4,
 "nbformat_minor": 2
}
