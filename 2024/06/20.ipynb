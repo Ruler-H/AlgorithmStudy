{
 "cells": [
  {
   "cell_type": "code",
   "execution_count": null,
   "metadata": {},
   "outputs": [],
   "source": [
    "# 백준 1495번 - 기타리스트\n",
    "import sys\n",
    "# input = sys.stdin.readline\n",
    "\n",
    "N, S, M = map(int, input().split())\n",
    "volumes = [0] + list(map(int, input().split()))"
   ]
  },
  {
   "cell_type": "code",
   "execution_count": null,
   "metadata": {},
   "outputs": [],
   "source": [
    "dp = [[0] * (M+1) for _ in range(N+1)]\n",
    "dp[0][S] = 1\n",
    "\n",
    "for i in range(1, N+1):\n",
    "    for j in range(M+1):\n",
    "        if dp[i-1][j] == 0:\n",
    "            continue\n",
    "        if j - volumes[i] >= 0:\n",
    "            dp[i][j - volumes[i]] = 1\n",
    "        if j + volumes[i] <= M:\n",
    "            dp[i][j + volumes[i]] = 1\n",
    "\n",
    "result = -1\n",
    "for i in range(M, -1, -1):\n",
    "    if dp[N][i] == 1:\n",
    "        result = i\n",
    "        break\n",
    "\n",
    "print(result)"
   ]
  },
  {
   "cell_type": "code",
   "execution_count": null,
   "metadata": {},
   "outputs": [],
   "source": []
  }
 ],
 "metadata": {
  "kernelspec": {
   "display_name": "Python 3",
   "language": "python",
   "name": "python3"
  },
  "language_info": {
   "codemirror_mode": {
    "name": "ipython",
    "version": 3
   },
   "file_extension": ".py",
   "mimetype": "text/x-python",
   "name": "python",
   "nbconvert_exporter": "python",
   "pygments_lexer": "ipython3",
   "version": "3.11.8"
  }
 },
 "nbformat": 4,
 "nbformat_minor": 2
}
