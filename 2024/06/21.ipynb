{
 "cells": [
  {
   "cell_type": "code",
   "execution_count": null,
   "metadata": {},
   "outputs": [],
   "source": [
    "# 백준 2531번 - 회전 초밥\n",
    "import sys\n",
    "# input = sys.stdin.readline\n",
    "\n",
    "N, d, k, c = map(int, input().split())\n",
    "sushi = [int(input()) for _ in range(N)]\n",
    "sushi += sushi[:k]"
   ]
  },
  {
   "cell_type": "code",
   "execution_count": null,
   "metadata": {},
   "outputs": [],
   "source": [
    "\n",
    "kind = [0] * (d+1)\n",
    "kind[c] = 1\n",
    "cnt = 1\n",
    "result = 0\n",
    "\n",
    "for i in range(N):\n",
    "    se = set(sushi[i:k+i])\n",
    "    se.add(c)\n",
    "    result = max(result, len(se))\n",
    "\n",
    "print(result)"
   ]
  },
  {
   "cell_type": "code",
   "execution_count": null,
   "metadata": {},
   "outputs": [],
   "source": []
  }
 ],
 "metadata": {
  "kernelspec": {
   "display_name": "Python 3",
   "language": "python",
   "name": "python3"
  },
  "language_info": {
   "codemirror_mode": {
    "name": "ipython",
    "version": 3
   },
   "file_extension": ".py",
   "mimetype": "text/x-python",
   "name": "python",
   "nbconvert_exporter": "python",
   "pygments_lexer": "ipython3",
   "version": "3.11.8"
  }
 },
 "nbformat": 4,
 "nbformat_minor": 2
}
