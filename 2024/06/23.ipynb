{
 "cells": [
  {
   "cell_type": "code",
   "execution_count": null,
   "metadata": {},
   "outputs": [],
   "source": [
    "# 백준 1303번 - 전쟁 - 전투\n",
    "import sys\n",
    "# input = sys.stdin.readline\n",
    "\n",
    "N, M = map(int, input().split())\n",
    "\n",
    "field = [list(input().strip()) for _ in range(M)]"
   ]
  },
  {
   "cell_type": "code",
   "execution_count": null,
   "metadata": {},
   "outputs": [],
   "source": [
    "W, B = 0, 0\n",
    "visited = [[0] * N for _ in range(M)]\n",
    "d = [[0, 1], [0, -1], [1, 0], [-1, 0]]\n",
    "\n",
    "def bfs(x, y, color):\n",
    "    visited[x][y] = 1\n",
    "    queue = [(x, y)]\n",
    "    count = 1\n",
    "\n",
    "    while queue:\n",
    "        x, y = queue.pop(0)\n",
    "\n",
    "        for dx, dy in d:\n",
    "            nx, ny = x + dx, y + dy\n",
    "\n",
    "            if 0 <= nx < M and 0 <= ny < N and not visited[nx][ny] and field[nx][ny] == color:\n",
    "                visited[nx][ny] = 1\n",
    "                queue.append((nx, ny))\n",
    "                count += 1\n",
    "    return count\n",
    "\n",
    "for i in range(M):\n",
    "    for j in range(N):\n",
    "        if not visited[i][j]:\n",
    "            if field[i][j] == \"W\":\n",
    "                W += bfs(i, j, \"W\") ** 2\n",
    "            else:\n",
    "                B += bfs(i, j, \"B\") ** 2\n",
    "\n",
    "print(W, B)"
   ]
  }
 ],
 "metadata": {
  "kernelspec": {
   "display_name": "Python 3",
   "language": "python",
   "name": "python3"
  },
  "language_info": {
   "codemirror_mode": {
    "name": "ipython",
    "version": 3
   },
   "file_extension": ".py",
   "mimetype": "text/x-python",
   "name": "python",
   "nbconvert_exporter": "python",
   "pygments_lexer": "ipython3",
   "version": "3.11.8"
  }
 },
 "nbformat": 4,
 "nbformat_minor": 2
}
