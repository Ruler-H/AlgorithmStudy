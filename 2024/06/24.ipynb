{
 "cells": [
  {
   "cell_type": "code",
   "execution_count": null,
   "metadata": {},
   "outputs": [],
   "source": [
    "# 백준 3184번 - 양\n",
    "import sys\n",
    "# input = sys.stdin.readline\n",
    "\n",
    "R, C = map(int, input().split())\n",
    "graph = [list(input().strip()) for _ in range(R)]"
   ]
  },
  {
   "cell_type": "code",
   "execution_count": null,
   "metadata": {},
   "outputs": [],
   "source": [
    "visited = [[0] * C for _ in range(R)]\n",
    "sheep = 0\n",
    "wolf = 0\n",
    "\n",
    "def bfs(x, y):\n",
    "    queue = [(x, y)]\n",
    "    sheep_cnt = 0\n",
    "    wolf_cnt = 0\n",
    "    visited[x][y] = 1\n",
    "    while queue:\n",
    "        x, y = queue.pop(0)\n",
    "        if graph[x][y] == 'v':\n",
    "            wolf_cnt += 1\n",
    "        elif graph[x][y] == 'o':\n",
    "            sheep_cnt += 1\n",
    "        for dx, dy in (1, 0), (-1, 0), (0, 1), (0, -1):\n",
    "            nx, ny = x + dx, y + dy\n",
    "            if 0 <= nx < R and 0 <= ny < C and not visited[nx][ny] and graph[nx][ny] != '#':\n",
    "                visited[nx][ny] = 1\n",
    "                queue.append((nx, ny))\n",
    "    return sheep_cnt, wolf_cnt\n",
    "\n",
    "for i in range(R):\n",
    "    for j in range(C):\n",
    "        if not visited[i][j] and graph[i][j] != '#':\n",
    "            s, w = bfs(i, j)\n",
    "            if s > w:\n",
    "                sheep += s\n",
    "            else:\n",
    "                wolf += w\n",
    "\n",
    "print(sheep, wolf)"
   ]
  },
  {
   "cell_type": "code",
   "execution_count": null,
   "metadata": {},
   "outputs": [],
   "source": [
    "6 6\n",
    "...#..\n",
    ".##v#.\n",
    "#v.#.#\n",
    "#.o#.#\n",
    ".###.#\n",
    "...###"
   ]
  }
 ],
 "metadata": {
  "kernelspec": {
   "display_name": "Python 3",
   "language": "python",
   "name": "python3"
  },
  "language_info": {
   "codemirror_mode": {
    "name": "ipython",
    "version": 3
   },
   "file_extension": ".py",
   "mimetype": "text/x-python",
   "name": "python",
   "nbconvert_exporter": "python",
   "pygments_lexer": "ipython3",
   "version": "3.11.8"
  }
 },
 "nbformat": 4,
 "nbformat_minor": 2
}
