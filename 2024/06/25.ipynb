{
 "cells": [
  {
   "cell_type": "code",
   "execution_count": null,
   "metadata": {},
   "outputs": [],
   "source": [
    "# 백준 16139번 - 인간-컴퓨터 상호작용\n",
    "import sys\n",
    "# input = sys.stdin.readline\n",
    "\n",
    "S = input().strip()\n",
    "q_cnt = int(input().strip())\n",
    "q = []\n",
    "for _ in range(q_cnt):\n",
    "    a, l, r = input().strip().split()\n",
    "    q.append((a, int(l), int(r)))"
   ]
  },
  {
   "cell_type": "code",
   "execution_count": null,
   "metadata": {},
   "outputs": [],
   "source": [
    "dp = [[0] * 26]\n",
    "\n",
    "for i in range(1, len(S) + 1):\n",
    "    dp.append(dp[i-1].copy())\n",
    "    dp[i][ord(S[i-1]) - ord('a')] += 1\n",
    "\n",
    "# for i in range(len(S) + 1):\n",
    "#     print(dp[i])\n",
    "\n",
    "for a, l, r in q:\n",
    "    print(dp[r+1][ord(a) - ord('a')] - dp[l][ord(a) - ord('a')])"
   ]
  }
 ],
 "metadata": {
  "kernelspec": {
   "display_name": "Python 3",
   "language": "python",
   "name": "python3"
  },
  "language_info": {
   "codemirror_mode": {
    "name": "ipython",
    "version": 3
   },
   "file_extension": ".py",
   "mimetype": "text/x-python",
   "name": "python",
   "nbconvert_exporter": "python",
   "pygments_lexer": "ipython3",
   "version": "3.11.8"
  }
 },
 "nbformat": 4,
 "nbformat_minor": 2
}
