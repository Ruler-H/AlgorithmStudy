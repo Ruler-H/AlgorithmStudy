{
 "cells": [
  {
   "cell_type": "code",
   "execution_count": null,
   "metadata": {},
   "outputs": [],
   "source": [
    "# 백준 2615번 - 오목\n",
    "import sys\n",
    "# input = sys.stdin.readline\n",
    "\n",
    "graph = [list(map(int, input().split())) for _ in range(19)]\n",
    "\n"
   ]
  },
  {
   "cell_type": "code",
   "execution_count": null,
   "metadata": {},
   "outputs": [],
   "source": [
    "dx = [0, 1, 1, -1]\n",
    "dy = [1, 0, 1, 1]\n",
    "\n",
    "def check(x, y, color):\n",
    "    for i in range(4):\n",
    "        if 18 >= x - dx[i] >= 0 and y - dy[i] >= 0 and graph[x - dx[i]][y - dy[i]] == color:\n",
    "            continue\n",
    "            \n",
    "        nx = x + dx[i]\n",
    "        ny = y + dy[i]\n",
    "        cnt = 1\n",
    "        while 0 <= nx < 19 and 0 <= ny < 19 and graph[nx][ny] == color:\n",
    "            cnt += 1\n",
    "            nx += dx[i]\n",
    "            ny += dy[i]\n",
    "        if cnt == 5:\n",
    "            return True\n",
    "    return False\n",
    "\n",
    "for i in range(19):\n",
    "    for j in range(19):\n",
    "        if graph[i][j] == 0:\n",
    "            continue\n",
    "        if check(i, j, graph[i][j]):\n",
    "            print(graph[i][j])\n",
    "            print(i+1, j+1)\n",
    "            sys.exit(0)\n",
    "\n",
    "print(0)"
   ]
  }
 ],
 "metadata": {
  "kernelspec": {
   "display_name": "Python 3",
   "language": "python",
   "name": "python3"
  },
  "language_info": {
   "codemirror_mode": {
    "name": "ipython",
    "version": 3
   },
   "file_extension": ".py",
   "mimetype": "text/x-python",
   "name": "python",
   "nbconvert_exporter": "python",
   "pygments_lexer": "ipython3",
   "version": "3.11.8"
  }
 },
 "nbformat": 4,
 "nbformat_minor": 2
}
