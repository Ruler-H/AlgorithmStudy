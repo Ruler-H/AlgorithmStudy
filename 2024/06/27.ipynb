{
 "cells": [
  {
   "cell_type": "code",
   "execution_count": null,
   "metadata": {},
   "outputs": [],
   "source": [
    "# 백준 1446번 - 지름길\n",
    "import sys\n",
    "# input = sys.stdin.readline\n",
    "\n",
    "N, D = map(int, input().split())\n",
    "roads = []\n",
    "max_distance = D\n",
    "for _ in range(N):\n",
    "    s, e, l = map(int, input().split())\n",
    "    max_distance = max(max_distance, e)\n",
    "    roads.append((s, e, l))"
   ]
  },
  {
   "cell_type": "code",
   "execution_count": null,
   "metadata": {},
   "outputs": [],
   "source": [
    "dp = [i for i in range(max_distance+1)]\n",
    "\n",
    "for i in range(D+1):\n",
    "    dp[i] = min(dp[i], dp[i-1]+1)\n",
    "    for road in roads:\n",
    "        if road[0] == i:\n",
    "            dp[road[1]] = min(dp[road[1]], dp[road[0]]+road[2])\n",
    "        elif road[0] < i:\n",
    "            dp[i] = min(dp[i], dp[road[0]] + road[2] + i - road[0])\n",
    "\n",
    "print(dp[D])"
   ]
  },
  {
   "cell_type": "code",
   "execution_count": null,
   "metadata": {},
   "outputs": [],
   "source": []
  }
 ],
 "metadata": {
  "kernelspec": {
   "display_name": "Python 3",
   "language": "python",
   "name": "python3"
  },
  "language_info": {
   "codemirror_mode": {
    "name": "ipython",
    "version": 3
   },
   "file_extension": ".py",
   "mimetype": "text/x-python",
   "name": "python",
   "nbconvert_exporter": "python",
   "pygments_lexer": "ipython3",
   "version": "3.11.8"
  }
 },
 "nbformat": 4,
 "nbformat_minor": 2
}
