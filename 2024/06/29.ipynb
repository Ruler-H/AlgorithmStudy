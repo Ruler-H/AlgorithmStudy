{
 "cells": [
  {
   "cell_type": "code",
   "execution_count": null,
   "metadata": {},
   "outputs": [],
   "source": [
    "# 백준 9934번 - 완전 이진 트리\n",
    "import sys\n",
    "# input = sys.stdin.readline\n",
    "\n",
    "K = int(input())\n",
    "nums = list(map(int, input().split()))"
   ]
  },
  {
   "cell_type": "code",
   "execution_count": null,
   "metadata": {},
   "outputs": [],
   "source": [
    "building_list = [[] for _ in range(K)]\n",
    "def binary_tree(nums, depth):\n",
    "    global building_list\n",
    "    if not nums:\n",
    "        return\n",
    "    mid = len(nums) // 2\n",
    "    building_list[depth].append(nums[mid])\n",
    "    binary_tree(nums[:mid], depth+1)\n",
    "    binary_tree(nums[mid+1:], depth+1)\n",
    "\n",
    "\n",
    "binary_tree(nums, 0)\n",
    "\n",
    "for i in range(K):\n",
    "    print(*building_list[i])"
   ]
  },
  {
   "cell_type": "code",
   "execution_count": null,
   "metadata": {},
   "outputs": [],
   "source": []
  }
 ],
 "metadata": {
  "kernelspec": {
   "display_name": "Python 3",
   "language": "python",
   "name": "python3"
  },
  "language_info": {
   "codemirror_mode": {
    "name": "ipython",
    "version": 3
   },
   "file_extension": ".py",
   "mimetype": "text/x-python",
   "name": "python",
   "nbconvert_exporter": "python",
   "pygments_lexer": "ipython3",
   "version": "3.11.8"
  }
 },
 "nbformat": 4,
 "nbformat_minor": 2
}
