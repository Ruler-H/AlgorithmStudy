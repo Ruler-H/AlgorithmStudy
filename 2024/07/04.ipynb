{
 "cells": [
  {
   "cell_type": "code",
   "execution_count": null,
   "metadata": {},
   "outputs": [],
   "source": [
    "# 백준 14503번 - 로봇 청소기\n",
    "import sys\n",
    "# input = sys.stdin.readline\n",
    "\n",
    "N, M = map(int, input().split())\n",
    "r, c, d = map(int, input().split())\n",
    "room = [list(map(int, input().split())) for _ in range(N)]"
   ]
  },
  {
   "cell_type": "code",
   "execution_count": null,
   "metadata": {},
   "outputs": [],
   "source": [
    "\n",
    "def clean(r, c, d):\n",
    "    global count\n",
    "    if room[r][c] == 0:\n",
    "        room[r][c] = 2\n",
    "        count += 1\n",
    "    for _ in range(4):\n",
    "        d = (d - 1) % 4\n",
    "        new_r = r + directions[d][0]\n",
    "        new_c = c + directions[d][1]\n",
    "        if room[new_r][new_c] == 0:\n",
    "            clean(new_r, new_c, d)\n",
    "            return\n",
    "    new_r = r - directions[d][0]\n",
    "    new_c = c - directions[d][1]\n",
    "    if room[new_r][new_c] == 1:\n",
    "        return\n",
    "    clean(new_r, new_c, d)\n",
    "\n",
    "\n",
    "directions = [(-1, 0), (0, 1), (1, 0), (0, -1)]\n",
    "count = 0\n",
    "clean(r, c, d)\n",
    "print(count)"
   ]
  },
  {
   "cell_type": "code",
   "execution_count": null,
   "metadata": {},
   "outputs": [],
   "source": []
  }
 ],
 "metadata": {
  "kernelspec": {
   "display_name": "Python 3",
   "language": "python",
   "name": "python3"
  },
  "language_info": {
   "codemirror_mode": {
    "name": "ipython",
    "version": 3
   },
   "file_extension": ".py",
   "mimetype": "text/x-python",
   "name": "python",
   "nbconvert_exporter": "python",
   "pygments_lexer": "ipython3",
   "version": "3.11.8"
  }
 },
 "nbformat": 4,
 "nbformat_minor": 2
}
