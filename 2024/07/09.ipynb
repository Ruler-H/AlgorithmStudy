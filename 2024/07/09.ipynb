{
 "cells": [
  {
   "cell_type": "code",
   "execution_count": null,
   "metadata": {},
   "outputs": [],
   "source": [
    "# 백준 14891번 - 톱니바퀴\n",
    "import sys\n",
    "# input = sys.stdin.readline\n",
    "\n",
    "wheels = [list(map(int, input().strip())) for _ in range(4)]\n",
    "k = int(input())\n",
    "rotations = [list(map(int, input().split())) for _ in range(k)]"
   ]
  },
  {
   "cell_type": "code",
   "execution_count": null,
   "metadata": {},
   "outputs": [],
   "source": [
    "for wheel_num, rotate in rotations:\n",
    "    wheel_num -= 1\n",
    "    directions = [0] * 4\n",
    "    directions[wheel_num] = rotate\n",
    "    for i in range(wheel_num, 0, -1):\n",
    "        if wheels[i][6] != wheels[i-1][2]:\n",
    "            directions[i-1] = -directions[i]\n",
    "        else:\n",
    "            break\n",
    "    for i in range(wheel_num, 3):\n",
    "        if wheels[i][2] != wheels[i+1][6]:\n",
    "            directions[i+1] = -directions[i]\n",
    "        else:\n",
    "            break\n",
    "    for i in range(4):\n",
    "        if directions[i] == 1:\n",
    "            wheels[i] = wheels[i][-1:] + wheels[i][:-1]\n",
    "        elif directions[i] == -1:\n",
    "            wheels[i] = wheels[i][1:] + wheels[i][:1]\n",
    "\n",
    "result = 0\n",
    "for i in range(4):\n",
    "    result += wheels[i][0] * (2 ** i)\n",
    "\n",
    "print(result)"
   ]
  },
  {
   "cell_type": "code",
   "execution_count": null,
   "metadata": {},
   "outputs": [],
   "source": []
  }
 ],
 "metadata": {
  "kernelspec": {
   "display_name": "Python 3",
   "language": "python",
   "name": "python3"
  },
  "language_info": {
   "codemirror_mode": {
    "name": "ipython",
    "version": 3
   },
   "file_extension": ".py",
   "mimetype": "text/x-python",
   "name": "python",
   "nbconvert_exporter": "python",
   "pygments_lexer": "ipython3",
   "version": "3.11.8"
  }
 },
 "nbformat": 4,
 "nbformat_minor": 2
}
