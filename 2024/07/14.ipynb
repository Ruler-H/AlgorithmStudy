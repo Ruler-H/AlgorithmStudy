{
 "cells": [
  {
   "cell_type": "code",
   "execution_count": null,
   "metadata": {},
   "outputs": [],
   "source": [
    "# 백준 2504번 - 괄호의 값\n",
    "import sys\n",
    "# input = sys.stdin.readline\n",
    "\n",
    "string = input().strip()"
   ]
  },
  {
   "cell_type": "code",
   "execution_count": null,
   "metadata": {},
   "outputs": [],
   "source": [
    "def check(string):\n",
    "    stack = []\n",
    "    for s in string:\n",
    "        if s == '(' or s == '[':\n",
    "            stack.append(s)\n",
    "        elif s == ')':\n",
    "            if stack and stack[-1] == '(':\n",
    "                stack.pop()\n",
    "                stack.append('2')\n",
    "            else:\n",
    "                stack.append(')')\n",
    "        elif s == ']':\n",
    "            if stack and stack[-1] == '[':\n",
    "                stack.pop()\n",
    "                stack.append('3')\n",
    "            else:\n",
    "                stack.append(']')\n",
    "    \n",
    "    while True:\n",
    "        stack_len = len(stack)\n",
    "        new_stack = []\n",
    "        for i in range(stack_len-1):\n",
    "            if not stack[i]:\n",
    "                continue\n",
    "            if stack[i].isdigit():\n",
    "                if stack[i+1].isdigit():\n",
    "                    new_stack.append(str(int(stack[i]) + int(stack[i+1])))\n",
    "                    stack[i+1] = ''\n",
    "                elif i > 0:\n",
    "                    if stack[i-1] == '(' and stack[i+1] == ')':\n",
    "                        new_stack.pop()\n",
    "                        new_stack.append(str(int(stack[i]) * 2))\n",
    "                        stack[i+1] = ''\n",
    "                    elif stack[i-1] == '[' and stack[i+1] == ']':\n",
    "                        new_stack.pop()\n",
    "                        new_stack.append(str(int(stack[i]) * 3))\n",
    "                        stack[i+1] = ''\n",
    "                    else:\n",
    "                        new_stack.append(stack[i])\n",
    "                else:\n",
    "                    new_stack.append(stack[i])\n",
    "            else:\n",
    "                new_stack.append(stack[i])\n",
    "        if stack[-1]:\n",
    "            new_stack.append(stack[-1])\n",
    "        if stack == new_stack:\n",
    "            break\n",
    "        stack = new_stack\n",
    "    if '(' in stack or ')' in stack or '[' in stack or ']' in stack:\n",
    "        print(0)\n",
    "    else:\n",
    "        print(stack[0])\n",
    "\n",
    "check(string)"
   ]
  },
  {
   "cell_type": "code",
   "execution_count": null,
   "metadata": {},
   "outputs": [],
   "source": []
  }
 ],
 "metadata": {
  "kernelspec": {
   "display_name": "Python 3",
   "language": "python",
   "name": "python3"
  },
  "language_info": {
   "codemirror_mode": {
    "name": "ipython",
    "version": 3
   },
   "file_extension": ".py",
   "mimetype": "text/x-python",
   "name": "python",
   "nbconvert_exporter": "python",
   "pygments_lexer": "ipython3",
   "version": "3.11.8"
  }
 },
 "nbformat": 4,
 "nbformat_minor": 2
}
