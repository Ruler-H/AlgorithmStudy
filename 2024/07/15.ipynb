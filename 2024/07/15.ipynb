{
 "cells": [
  {
   "cell_type": "code",
   "execution_count": null,
   "metadata": {},
   "outputs": [],
   "source": [
    "# 백준 2096번 - 내려가기\n",
    "import sys\n",
    "# input = sys.stdin.readline\n",
    "\n",
    "N = int(input())"
   ]
  },
  {
   "cell_type": "code",
   "execution_count": null,
   "metadata": {},
   "outputs": [],
   "source": [
    "max_dp = list(map(int, input().split()))\n",
    "min_dp = max_dp.copy()\n",
    "\n",
    "\n",
    "for i in range(1, N):\n",
    "    a, b, c = map(int, input().split())\n",
    "    max_dp = [\n",
    "        a + max(max_dp[0], max_dp[1]),\n",
    "        b + max(max_dp[0], max_dp[1], max_dp[2]),\n",
    "        c + max(max_dp[1], max_dp[2])\n",
    "    ]\n",
    "\n",
    "    min_dp = [\n",
    "        a + min(min_dp[0], min_dp[1]),\n",
    "        b + min(min_dp[0], min_dp[1], min_dp[2]),\n",
    "        c + min(min_dp[1], min_dp[2])\n",
    "    ]\n",
    "\n",
    "print(max(max_dp), min(min_dp))"
   ]
  },
  {
   "cell_type": "code",
   "execution_count": null,
   "metadata": {},
   "outputs": [],
   "source": []
  }
 ],
 "metadata": {
  "kernelspec": {
   "display_name": "Python 3",
   "language": "python",
   "name": "python3"
  },
  "language_info": {
   "codemirror_mode": {
    "name": "ipython",
    "version": 3
   },
   "file_extension": ".py",
   "mimetype": "text/x-python",
   "name": "python",
   "nbconvert_exporter": "python",
   "pygments_lexer": "ipython3",
   "version": "3.11.8"
  }
 },
 "nbformat": 4,
 "nbformat_minor": 2
}
