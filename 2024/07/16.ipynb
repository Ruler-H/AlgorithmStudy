{
 "cells": [
  {
   "cell_type": "code",
   "execution_count": null,
   "metadata": {},
   "outputs": [],
   "source": [
    "# 백준 2589번 - 보물섬\n",
    "import sys\n",
    "# input = sys.stdin.readline\n",
    "\n",
    "L, W = map(int, input().split())\n",
    "graph = [list(input().strip()) for _ in range(L)]"
   ]
  },
  {
   "cell_type": "code",
   "execution_count": null,
   "metadata": {},
   "outputs": [],
   "source": [
    "def bfs(x, y):\n",
    "    positions = [(-1, 0), (0, 1), (1, 0), (0, -1)]\n",
    "    visited = [[0] * W for _ in range(L)]\n",
    "    visited[x][y] = 1\n",
    "    queue = [(x, y)]\n",
    "    distance = 0\n",
    "    \n",
    "    while queue:\n",
    "        x, y = queue.pop(0)\n",
    "        for x_m, y_m in positions:\n",
    "            nx = x + x_m\n",
    "            ny = y + y_m\n",
    "            if 0 <= nx < L and 0 <= ny < W and visited[nx][ny] == 0 and graph[nx][ny] == 'L':\n",
    "                visited[nx][ny] = visited[x][y] + 1\n",
    "                queue.append((nx, ny))\n",
    "                distance = max(distance, visited[nx][ny])\n",
    "\n",
    "    return distance - 1\n",
    "\n",
    "result = 0\n",
    "for i in range(L):\n",
    "    for j in range(W):\n",
    "        if graph[i][j] == 'L':\n",
    "            result = max(result, bfs(i, j))\n",
    "\n",
    "print(result)"
   ]
  },
  {
   "cell_type": "code",
   "execution_count": null,
   "metadata": {},
   "outputs": [],
   "source": []
  }
 ],
 "metadata": {
  "kernelspec": {
   "display_name": "Python 3",
   "language": "python",
   "name": "python3"
  },
  "language_info": {
   "codemirror_mode": {
    "name": "ipython",
    "version": 3
   },
   "file_extension": ".py",
   "mimetype": "text/x-python",
   "name": "python",
   "nbconvert_exporter": "python",
   "pygments_lexer": "ipython3",
   "version": "3.11.8"
  }
 },
 "nbformat": 4,
 "nbformat_minor": 2
}
