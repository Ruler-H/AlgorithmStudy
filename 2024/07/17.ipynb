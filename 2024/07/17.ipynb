{
 "cells": [
  {
   "cell_type": "code",
   "execution_count": null,
   "metadata": {},
   "outputs": [],
   "source": [
    "# 백준 16928번 - 뱀과 사다리 게임\n",
    "import sys\n",
    "# input = sys.stdin.readline\n",
    "\n",
    "N, M = map(int, input().split())\n",
    "ladders = {}\n",
    "snakes = {}\n",
    "for _ in range(N):\n",
    "    x, y = map(int, input().split())\n",
    "    ladders[x] = y\n",
    "for _ in range(M):\n",
    "    u, v = map(int, input().split())\n",
    "    snakes[u] = v"
   ]
  },
  {
   "cell_type": "code",
   "execution_count": null,
   "metadata": {},
   "outputs": [],
   "source": [
    "visited = [False] * 101\n",
    "queue = [(1, 0)]\n",
    "visited[1] = True\n",
    "\n",
    "while queue:\n",
    "    current, count = queue.pop(0)\n",
    "    if current == 100:\n",
    "        print(count)\n",
    "        break\n",
    "\n",
    "    for i in range(1, 7):\n",
    "        n_posi = current + i\n",
    "        if n_posi > 100:\n",
    "            continue\n",
    "        if n_posi in ladders:\n",
    "            n_posi = ladders[n_posi]\n",
    "        if n_posi in snakes:\n",
    "            n_posi = snakes[n_posi]\n",
    "        if not visited[n_posi]:\n",
    "            visited[n_posi] = True\n",
    "            queue.append((n_posi, count + 1))"
   ]
  },
  {
   "cell_type": "code",
   "execution_count": null,
   "metadata": {},
   "outputs": [],
   "source": []
  },
  {
   "cell_type": "code",
   "execution_count": null,
   "metadata": {},
   "outputs": [],
   "source": []
  }
 ],
 "metadata": {
  "kernelspec": {
   "display_name": "Python 3",
   "language": "python",
   "name": "python3"
  },
  "language_info": {
   "codemirror_mode": {
    "name": "ipython",
    "version": 3
   },
   "file_extension": ".py",
   "mimetype": "text/x-python",
   "name": "python",
   "nbconvert_exporter": "python",
   "pygments_lexer": "ipython3",
   "version": "3.11.8"
  }
 },
 "nbformat": 4,
 "nbformat_minor": 2
}
