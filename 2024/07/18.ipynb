{
 "cells": [
  {
   "cell_type": "code",
   "execution_count": null,
   "metadata": {},
   "outputs": [],
   "source": [
    "# 백준 2467번 - 용액\n",
    "import sys\n",
    "# input = sys.stdin.readline\n",
    "\n",
    "N = int(input())\n",
    "liquids = list(map(int, input().split()))"
   ]
  },
  {
   "cell_type": "code",
   "execution_count": null,
   "metadata": {},
   "outputs": [],
   "source": [
    "result = 2000000000\n",
    "left = 0\n",
    "right = N - 1\n",
    "answer = [0, 0]\n",
    "\n",
    "while left < right:\n",
    "    temp = liquids[left] + liquids[right]\n",
    "    if abs(temp) < result:\n",
    "        result = abs(temp)\n",
    "        answer[0] = liquids[left]\n",
    "        answer[1] = liquids[right]\n",
    "\n",
    "    if temp < 0:\n",
    "        left += 1\n",
    "    else:\n",
    "        right -= 1\n",
    "\n",
    "print(*answer)"
   ]
  },
  {
   "cell_type": "code",
   "execution_count": null,
   "metadata": {},
   "outputs": [],
   "source": []
  },
  {
   "cell_type": "code",
   "execution_count": null,
   "metadata": {},
   "outputs": [],
   "source": []
  }
 ],
 "metadata": {
  "kernelspec": {
   "display_name": "Python 3",
   "language": "python",
   "name": "python3"
  },
  "language_info": {
   "codemirror_mode": {
    "name": "ipython",
    "version": 3
   },
   "file_extension": ".py",
   "mimetype": "text/x-python",
   "name": "python",
   "nbconvert_exporter": "python",
   "pygments_lexer": "ipython3",
   "version": "3.11.8"
  }
 },
 "nbformat": 4,
 "nbformat_minor": 2
}
