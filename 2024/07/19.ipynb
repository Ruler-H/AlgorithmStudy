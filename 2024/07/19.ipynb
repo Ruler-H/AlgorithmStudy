{
 "cells": [
  {
   "cell_type": "code",
   "execution_count": 2,
   "metadata": {},
   "outputs": [],
   "source": [
    "# 백준 11000번 - 강의실 배정\n",
    "import sys\n",
    "import heapq\n",
    "# input = sys.stdin.readline\n",
    "\n",
    "N = int(input())\n",
    "time = [list(map(int, input().split())) for _ in range(N)]"
   ]
  },
  {
   "cell_type": "code",
   "execution_count": 3,
   "metadata": {},
   "outputs": [
    {
     "name": "stdout",
     "output_type": "stream",
     "text": [
      "2\n"
     ]
    }
   ],
   "source": [
    "time.sort(key=lambda x: (x[0], x[1]))\n",
    "\n",
    "classroom = []\n",
    "heapq.heappush(classroom, time[0][1])\n",
    "\n",
    "for i in range(1, N):\n",
    "    if classroom[0] <= time[i][0]:\n",
    "        heapq.heappop(classroom)\n",
    "    heapq.heappush(classroom, time[i][1])\n",
    "\n",
    "print(len(classroom))"
   ]
  },
  {
   "cell_type": "code",
   "execution_count": null,
   "metadata": {},
   "outputs": [],
   "source": []
  }
 ],
 "metadata": {
  "kernelspec": {
   "display_name": "Python 3",
   "language": "python",
   "name": "python3"
  },
  "language_info": {
   "codemirror_mode": {
    "name": "ipython",
    "version": 3
   },
   "file_extension": ".py",
   "mimetype": "text/x-python",
   "name": "python",
   "nbconvert_exporter": "python",
   "pygments_lexer": "ipython3",
   "version": "3.11.8"
  }
 },
 "nbformat": 4,
 "nbformat_minor": 2
}
