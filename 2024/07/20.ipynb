{
 "cells": [
  {
   "cell_type": "code",
   "execution_count": null,
   "metadata": {},
   "outputs": [],
   "source": [
    "# 백준 9205번 - 맥주 마시면서 걸어가기\n",
    "import sys\n",
    "# input = sys.stdin.readline\n",
    "\n",
    "t = int(input())"
   ]
  },
  {
   "cell_type": "code",
   "execution_count": null,
   "metadata": {},
   "outputs": [],
   "source": [
    "for _ in range(t):\n",
    "    n = int(input())\n",
    "    places = [list(map(int, input().split())) for _ in range(n+2)]\n",
    "    visited = [0] * (n+2)\n",
    "    queue = [0]\n",
    "    flag = False\n",
    "\n",
    "    while queue:\n",
    "        x = queue.pop(0)\n",
    "        if x == n+1:\n",
    "            flag = True\n",
    "            break\n",
    "\n",
    "        for i in range(n+2):\n",
    "            if visited[i] == 0 and abs(places[x][0] - places[i][0]) + abs(places[x][1] - places[i][1]) <= 1000:\n",
    "                visited[i] = 1\n",
    "                queue.append(i)\n",
    "\n",
    "    if flag:\n",
    "        print(\"happy\")\n",
    "    else:\n",
    "        print(\"sad\")"
   ]
  },
  {
   "cell_type": "code",
   "execution_count": null,
   "metadata": {},
   "outputs": [],
   "source": []
  }
 ],
 "metadata": {
  "kernelspec": {
   "display_name": "Python 3",
   "language": "python",
   "name": "python3"
  },
  "language_info": {
   "codemirror_mode": {
    "name": "ipython",
    "version": 3
   },
   "file_extension": ".py",
   "mimetype": "text/x-python",
   "name": "python",
   "nbconvert_exporter": "python",
   "pygments_lexer": "ipython3",
   "version": "3.11.8"
  }
 },
 "nbformat": 4,
 "nbformat_minor": 2
}
