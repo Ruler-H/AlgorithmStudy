{
 "cells": [
  {
   "cell_type": "code",
   "execution_count": null,
   "metadata": {},
   "outputs": [],
   "source": [
    "# 백준 2011번 - 암호코드\n",
    "import sys\n",
    "# input = sys.stdin.readline\n",
    "\n",
    "password = list(map(int, input().strip()))"
   ]
  },
  {
   "cell_type": "code",
   "execution_count": null,
   "metadata": {},
   "outputs": [],
   "source": [
    "if password[0] == 0:\n",
    "    print(0)\n",
    "    sys.exit()\n",
    "\n",
    "dp = [0] * (len(password) + 1)\n",
    "dp[0] = 1\n",
    "dp[1] = 1\n",
    "\n",
    "for i in range(2, len(password) + 1):\n",
    "    if password[i - 1] > 0:\n",
    "        dp[i] += dp[i - 1]\n",
    "    if 10 <= int(''.join(map(str, password[i - 2:i]))) <= 26:\n",
    "        dp[i] += dp[i - 2]\n",
    "    dp[i] %= 1000000\n",
    "\n",
    "print(dp[len(password)])"
   ]
  },
  {
   "cell_type": "code",
   "execution_count": null,
   "metadata": {},
   "outputs": [],
   "source": []
  }
 ],
 "metadata": {
  "kernelspec": {
   "display_name": "Python 3",
   "language": "python",
   "name": "python3"
  },
  "language_info": {
   "codemirror_mode": {
    "name": "ipython",
    "version": 3
   },
   "file_extension": ".py",
   "mimetype": "text/x-python",
   "name": "python",
   "nbconvert_exporter": "python",
   "pygments_lexer": "ipython3",
   "version": "3.11.8"
  }
 },
 "nbformat": 4,
 "nbformat_minor": 2
}
