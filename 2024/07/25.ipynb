{
 "cells": [
  {
   "cell_type": "code",
   "execution_count": null,
   "metadata": {},
   "outputs": [],
   "source": [
    "# 백준 20055번 - 컨베이어 벨트 위의 로봇\n",
    "import sys\n",
    "# input = sys.stdin.readline\n",
    "\n",
    "N, K = map(int, input().split())\n",
    "belt = list(map(int, input().split()))"
   ]
  },
  {
   "cell_type": "code",
   "execution_count": null,
   "metadata": {},
   "outputs": [],
   "source": [
    "robot = [0] * N\n",
    "step = 0\n",
    "\n",
    "while belt.count(0) < K:\n",
    "    step += 1\n",
    "    belt = belt[-1:] + belt[:-1]\n",
    "    robot = robot[-1:] + robot[:-1]\n",
    "    robot[N-1] = 0\n",
    "\n",
    "    for i in range(N-2, -1, -1):\n",
    "        if robot[i] == 1 and robot[i+1] == 0 and belt[i+1] > 0:\n",
    "            robot[i] = 0\n",
    "            robot[i+1] = 1\n",
    "            belt[i+1] -= 1\n",
    "    robot[N-1] = 0\n",
    "\n",
    "    if robot[0] == 0 and belt[0] > 0:\n",
    "        robot[0] = 1\n",
    "        belt[0] -= 1\n",
    "\n",
    "print(step)"
   ]
  },
  {
   "cell_type": "code",
   "execution_count": null,
   "metadata": {},
   "outputs": [],
   "source": []
  }
 ],
 "metadata": {
  "kernelspec": {
   "display_name": "Python 3",
   "language": "python",
   "name": "python3"
  },
  "language_info": {
   "codemirror_mode": {
    "name": "ipython",
    "version": 3
   },
   "file_extension": ".py",
   "mimetype": "text/x-python",
   "name": "python",
   "nbconvert_exporter": "python",
   "pygments_lexer": "ipython3",
   "version": "3.11.8"
  }
 },
 "nbformat": 4,
 "nbformat_minor": 2
}
