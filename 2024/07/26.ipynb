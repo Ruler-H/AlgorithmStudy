{
 "cells": [
  {
   "cell_type": "code",
   "execution_count": null,
   "metadata": {},
   "outputs": [],
   "source": [
    "# 백준 1038번 - 감소하는 수\n",
    "import sys\n",
    "# input = sys.stdin.readline\n",
    "from itertools import combinations\n",
    "\n",
    "N = int(input())"
   ]
  },
  {
   "cell_type": "code",
   "execution_count": null,
   "metadata": {},
   "outputs": [],
   "source": [
    "result = []\n",
    "for i in range(1, 11):  # 1자리부터 10자리까지\n",
    "    for comb in combinations(range(0, 10), i):\n",
    "        num = int(''.join(map(str, sorted(comb, reverse=True))))\n",
    "        result.append(num)\n",
    "decreasing_numbers = sorted(result)\n",
    "\n",
    "if N >= len(decreasing_numbers):\n",
    "    print(-1)\n",
    "else:\n",
    "    print(decreasing_numbers[N])"
   ]
  },
  {
   "cell_type": "code",
   "execution_count": null,
   "metadata": {},
   "outputs": [],
   "source": []
  }
 ],
 "metadata": {
  "kernelspec": {
   "display_name": "Python 3",
   "language": "python",
   "name": "python3"
  },
  "language_info": {
   "codemirror_mode": {
    "name": "ipython",
    "version": 3
   },
   "file_extension": ".py",
   "mimetype": "text/x-python",
   "name": "python",
   "nbconvert_exporter": "python",
   "pygments_lexer": "ipython3",
   "version": "3.11.8"
  }
 },
 "nbformat": 4,
 "nbformat_minor": 2
}
