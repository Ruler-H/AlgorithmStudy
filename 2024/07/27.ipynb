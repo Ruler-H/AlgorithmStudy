{
 "cells": [
  {
   "cell_type": "code",
   "execution_count": null,
   "metadata": {},
   "outputs": [],
   "source": [
    "# 백준 15486번 - 퇴사 2\n",
    "import sys\n",
    "# input = sys.stdin.readline\n",
    "\n",
    "N = int(input())\n",
    "T = [0] * (N+1)\n",
    "P = [0] * (N+1)\n",
    "\n",
    "for i in range(1, N+1):\n",
    "    T[i], P[i] = map(int, input().split())"
   ]
  },
  {
   "cell_type": "code",
   "execution_count": null,
   "metadata": {},
   "outputs": [],
   "source": [
    "dp = [0] * (N+2)\n",
    "\n",
    "max_value = 0\n",
    "\n",
    "for i in range(N, 0, -1):\n",
    "    if i + T[i] <= N + 1:\n",
    "        dp[i] = max(P[i] + dp[i + T[i]], dp[i + 1])\n",
    "    else:\n",
    "        dp[i] = dp[i + 1]\n",
    "    max_value = max(max_value, dp[i])\n",
    "\n",
    "print(max_value)"
   ]
  },
  {
   "cell_type": "code",
   "execution_count": null,
   "metadata": {},
   "outputs": [],
   "source": []
  }
 ],
 "metadata": {
  "kernelspec": {
   "display_name": "Python 3",
   "language": "python",
   "name": "python3"
  },
  "language_info": {
   "codemirror_mode": {
    "name": "ipython",
    "version": 3
   },
   "file_extension": ".py",
   "mimetype": "text/x-python",
   "name": "python",
   "nbconvert_exporter": "python",
   "pygments_lexer": "ipython3",
   "version": "3.11.8"
  }
 },
 "nbformat": 4,
 "nbformat_minor": 2
}
