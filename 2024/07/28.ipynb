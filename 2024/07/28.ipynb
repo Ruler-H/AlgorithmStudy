{
 "cells": [
  {
   "cell_type": "code",
   "execution_count": 1,
   "metadata": {},
   "outputs": [],
   "source": [
    "# 백준 9084번 - 동전\n",
    "import sys\n",
    "# input = sys.stdin.readline\n",
    "\n",
    "t = int(input())\n",
    "\n",
    "for _ in range(t):\n",
    "    N = int(input())\n",
    "    coins = list(map(int, input().split()))\n",
    "    M = int(input())\n",
    "    dp = [0] * (M+1)\n",
    "    dp[0] = 1\n",
    "\n",
    "    for coin in coins:\n",
    "        for i in range(coin, M+1):\n",
    "            dp[i] += dp[i-coin]\n",
    "\n",
    "    print(dp[M])\n"
   ]
  },
  {
   "cell_type": "code",
   "execution_count": null,
   "metadata": {},
   "outputs": [],
   "source": []
  }
 ],
 "metadata": {
  "kernelspec": {
   "display_name": "Python 3",
   "language": "python",
   "name": "python3"
  },
  "language_info": {
   "codemirror_mode": {
    "name": "ipython",
    "version": 3
   },
   "file_extension": ".py",
   "mimetype": "text/x-python",
   "name": "python",
   "nbconvert_exporter": "python",
   "pygments_lexer": "ipython3",
   "version": "3.11.8"
  }
 },
 "nbformat": 4,
 "nbformat_minor": 2
}
