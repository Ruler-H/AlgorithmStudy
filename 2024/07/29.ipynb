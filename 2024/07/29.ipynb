{
 "cells": [
  {
   "cell_type": "code",
   "execution_count": null,
   "metadata": {},
   "outputs": [],
   "source": [
    "# 백준 5557번 - 1학년\n",
    "import sys\n",
    "# input = sys.stdin.readline\n",
    "\n",
    "N = int(input())\n",
    "nums = list(map(int, input().split()))"
   ]
  },
  {
   "cell_type": "code",
   "execution_count": null,
   "metadata": {},
   "outputs": [],
   "source": [
    "dp = [[0] * 21 for _ in range(N-1)]\n",
    "dp[0][nums[0]] = 1\n",
    "\n",
    "for i in range(1, N-1):\n",
    "    for j in range(21):\n",
    "        if dp[i-1][j]:\n",
    "            if j + nums[i] <= 20:\n",
    "                dp[i][j+nums[i]] += dp[i-1][j]\n",
    "            if j - nums[i] >= 0:\n",
    "                dp[i][j-nums[i]] += dp[i-1][j]\n",
    "\n",
    "print(dp[N-2][nums[-1]])"
   ]
  },
  {
   "cell_type": "code",
   "execution_count": null,
   "metadata": {},
   "outputs": [],
   "source": []
  }
 ],
 "metadata": {
  "kernelspec": {
   "display_name": "Python 3",
   "language": "python",
   "name": "python3"
  },
  "language_info": {
   "codemirror_mode": {
    "name": "ipython",
    "version": 3
   },
   "file_extension": ".py",
   "mimetype": "text/x-python",
   "name": "python",
   "nbconvert_exporter": "python",
   "pygments_lexer": "ipython3",
   "version": "3.11.8"
  }
 },
 "nbformat": 4,
 "nbformat_minor": 2
}
