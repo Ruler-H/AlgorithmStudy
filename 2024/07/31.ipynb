{
 "cells": [
  {
   "cell_type": "code",
   "execution_count": null,
   "metadata": {},
   "outputs": [],
   "source": [
    "# 백준 2212번 - 센서\n",
    "import sys\n",
    "# input = sys.stdin.readline\n",
    "\n",
    "N = input().strip()\n",
    "K = input().strip()\n",
    "sensors = list(map(int, input().strip().split()))"
   ]
  },
  {
   "cell_type": "code",
   "execution_count": null,
   "metadata": {},
   "outputs": [],
   "source": [
    "sensors.sort()\n",
    "distances = []\n",
    "for i in range(1, len(sensors)):\n",
    "    distances.append(sensors[i] - sensors[i-1])\n",
    "\n",
    "distances.sort()\n",
    "for _ in range(int(K)-1):\n",
    "    if len(distances) == 0:\n",
    "        break\n",
    "    distances.pop()\n",
    "\n",
    "print(sum(distances))"
   ]
  },
  {
   "cell_type": "code",
   "execution_count": null,
   "metadata": {},
   "outputs": [],
   "source": []
  }
 ],
 "metadata": {
  "kernelspec": {
   "display_name": "Python 3",
   "language": "python",
   "name": "python3"
  },
  "language_info": {
   "codemirror_mode": {
    "name": "ipython",
    "version": 3
   },
   "file_extension": ".py",
   "mimetype": "text/x-python",
   "name": "python",
   "nbconvert_exporter": "python",
   "pygments_lexer": "ipython3",
   "version": "3.11.8"
  }
 },
 "nbformat": 4,
 "nbformat_minor": 2
}
