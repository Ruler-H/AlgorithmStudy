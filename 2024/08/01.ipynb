{
 "cells": [
  {
   "cell_type": "code",
   "execution_count": null,
   "metadata": {},
   "outputs": [],
   "source": [
    "# 백준 2668번 - 숫자고르기\n",
    "import sys\n",
    "# input = sys.stdin.readline\n",
    "\n",
    "N = int(input())\n",
    "numbers=[[] for _ in range(N+1)]\n",
    "for i in range(1,N+1):\n",
    "    numbers[i].append(int(input()))"
   ]
  },
  {
   "cell_type": "code",
   "execution_count": null,
   "metadata": {},
   "outputs": [],
   "source": [
    "def dfs(n):\n",
    "    if visited[n]==0:\n",
    "        visited[n]=1\n",
    "        for a in numbers[n]:\n",
    "            up.add(n)\n",
    "            down.add(a)\n",
    "            if up==down:\n",
    "                ans.extend(list(down))\n",
    "                return\n",
    "            dfs(a)\n",
    "\n",
    "ans=[]\n",
    "for i in range(1,N+1):\n",
    "    visited=[0]*(N+1)\n",
    "    up=set()\n",
    "    down=set()\n",
    "    dfs(i)\n",
    "\n",
    "ans=list(set(ans))\n",
    "ans.sort()\n",
    "\n",
    "print(len(ans))\n",
    "for a in ans:\n",
    "    print(a)"
   ]
  },
  {
   "cell_type": "code",
   "execution_count": null,
   "metadata": {},
   "outputs": [],
   "source": []
  }
 ],
 "metadata": {
  "kernelspec": {
   "display_name": "Python 3",
   "language": "python",
   "name": "python3"
  },
  "language_info": {
   "codemirror_mode": {
    "name": "ipython",
    "version": 3
   },
   "file_extension": ".py",
   "mimetype": "text/x-python",
   "name": "python",
   "nbconvert_exporter": "python",
   "pygments_lexer": "ipython3",
   "version": "3.11.8"
  }
 },
 "nbformat": 4,
 "nbformat_minor": 2
}
