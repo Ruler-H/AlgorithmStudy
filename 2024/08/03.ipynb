{
 "cells": [
  {
   "cell_type": "code",
   "execution_count": null,
   "metadata": {},
   "outputs": [],
   "source": [
    "# 백준 2170번 - 선 긋기\n",
    "import sys\n",
    "# input = sys.stdin.readline\n",
    "\n",
    "N = int(input())\n",
    "lines = [list(map(int, input().split())) for _ in range(N)]"
   ]
  },
  {
   "cell_type": "code",
   "execution_count": null,
   "metadata": {},
   "outputs": [],
   "source": [
    "lines.sort(key=lambda x: x[0])\n",
    "result = 0\n",
    "start = lines[0][0]\n",
    "end = lines[0][1]\n",
    "\n",
    "for i in range(1, N):\n",
    "    if lines[i][0] <= end:\n",
    "        end = max(end, lines[i][1])\n",
    "    else:\n",
    "        result += end - start\n",
    "        start = lines[i][0]\n",
    "        end = lines[i][1]\n",
    "\n",
    "result += end - start\n",
    "print(result)"
   ]
  },
  {
   "cell_type": "code",
   "execution_count": null,
   "metadata": {},
   "outputs": [],
   "source": []
  }
 ],
 "metadata": {
  "kernelspec": {
   "display_name": "Python 3",
   "language": "python",
   "name": "python3"
  },
  "language_info": {
   "codemirror_mode": {
    "name": "ipython",
    "version": 3
   },
   "file_extension": ".py",
   "mimetype": "text/x-python",
   "name": "python",
   "nbconvert_exporter": "python",
   "pygments_lexer": "ipython3",
   "version": "3.11.8"
  }
 },
 "nbformat": 4,
 "nbformat_minor": 2
}
