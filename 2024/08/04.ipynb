{
 "cells": [
  {
   "cell_type": "code",
   "execution_count": null,
   "metadata": {},
   "outputs": [],
   "source": [
    "# 백준 21608번 - 상어 초등학교\n",
    "import sys\n",
    "# input = sys.stdin.readline\n",
    "\n",
    "N = int(input())\n",
    "students = [list(map(int, input().split())) for _ in range(N**2)]"
   ]
  },
  {
   "cell_type": "code",
   "execution_count": null,
   "metadata": {},
   "outputs": [],
   "source": [
    "dxy = [(-1, 0), (0, -1), (0, 1), (1, 0)]\n",
    "classroom = [[0] * N for _ in range(N)]\n",
    "seat = [[0] * N for _ in range(N)]\n",
    "\n",
    "for student in students:\n",
    "    s = student[0]\n",
    "    likes = student[1:]\n",
    "    max_like = 0\n",
    "    max_empty = 0\n",
    "    max_x = 0\n",
    "    max_y = 0\n",
    "    for i in range(N):\n",
    "        for j in range(N):\n",
    "            if classroom[i][j] == 0:\n",
    "                like = 0\n",
    "                empty = 0\n",
    "                for dx, dy in dxy:\n",
    "                    nx, ny = i + dx, j + dy\n",
    "                    if 0 <= nx < N and 0 <= ny < N:\n",
    "                        if classroom[nx][ny] in likes:\n",
    "                            like += 1\n",
    "                        if classroom[nx][ny] == 0:\n",
    "                            empty += 1\n",
    "                        if like > max_like:\n",
    "                            max_like = like\n",
    "                            max_empty = empty\n",
    "                            max_x = i\n",
    "                            max_y = j\n",
    "                        elif like == max_like:\n",
    "                            if empty > max_empty:\n",
    "                                max_empty = empty\n",
    "                                max_x = i\n",
    "                                max_y = j\n",
    "    if max_like == 0 and max_empty == 0:\n",
    "        for i in range(N):\n",
    "            for j in range(N):\n",
    "                if classroom[i][j] == 0:\n",
    "                    max_x = i\n",
    "                    max_y = j\n",
    "                    break\n",
    "            if classroom[i][j] == 0:\n",
    "                break\n",
    "    classroom[max_x][max_y] = s\n",
    "    seat[max_x][max_y] = 1\n",
    "\n",
    "result = 0\n",
    "students = sorted(students, key=lambda x: x[0])\n",
    "for i in range(N):\n",
    "    for j in range(N):\n",
    "        cnt = 0\n",
    "        for dx, dy in dxy:\n",
    "            nx, ny = i + dx, j + dy\n",
    "            if 0 <= nx < N and 0 <= ny < N:\n",
    "                if classroom[nx][ny] in students[classroom[i][j]-1][1:]:\n",
    "                    cnt += 1\n",
    "        if cnt >= 1:\n",
    "            result += 10**(cnt-1)\n",
    "\n",
    "print(result)"
   ]
  },
  {
   "cell_type": "code",
   "execution_count": null,
   "metadata": {},
   "outputs": [],
   "source": []
  }
 ],
 "metadata": {
  "kernelspec": {
   "display_name": "Python 3",
   "language": "python",
   "name": "python3"
  },
  "language_info": {
   "codemirror_mode": {
    "name": "ipython",
    "version": 3
   },
   "file_extension": ".py",
   "mimetype": "text/x-python",
   "name": "python",
   "nbconvert_exporter": "python",
   "pygments_lexer": "ipython3",
   "version": "3.11.8"
  }
 },
 "nbformat": 4,
 "nbformat_minor": 2
}
