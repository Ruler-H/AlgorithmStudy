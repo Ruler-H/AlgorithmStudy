{
 "cells": [
  {
   "cell_type": "code",
   "execution_count": null,
   "metadata": {},
   "outputs": [],
   "source": [
    "# 백준 6593번 - 상범 빌딩\n",
    "import sys\n",
    "# input = sys.stdin.readline\n",
    "\n",
    "def bfs(start, end):\n",
    "    queue = [start]\n",
    "    visited = [[[0] * C for _ in range(R)] for _ in range(L)]\n",
    "    visited[start[0]][start[1]][start[2]] = 1\n",
    "    for i, j, k in queue:\n",
    "        for dx, dy, dz in dxy:\n",
    "            x, y, z = i + dx, j + dy, k + dz\n",
    "            if 0 <= x < L and 0 <= y < R and 0 <= z < C:\n",
    "                if floors[x][y][z] == 'E':\n",
    "                    return visited[i][j][k]\n",
    "                if floors[x][y][z] == '.' and not visited[x][y][z]:\n",
    "                    visited[x][y][z] = visited[i][j][k] + 1\n",
    "                    queue.append((x, y, z))\n",
    "    return -1\n",
    "\n",
    "while True:\n",
    "    L, R, C = map(int, input().split())\n",
    "    if L == 0 and R == 0 and C == 0:\n",
    "        break\n",
    "    floors = []\n",
    "    for _ in range(L):\n",
    "        floors.append([list(input().strip()) for _ in range(R)])\n",
    "        input()\n",
    "\n",
    "    dxy = [(1, 0, 0), (-1, 0, 0), (0, 1, 0), (0, -1, 0), (0, 0, 1), (0, 0, -1)]\n",
    "    min_time = 0\n",
    "    for i in range(L):\n",
    "        for j in range(R):\n",
    "            for k in range(C):\n",
    "                if floors[i][j][k] == 'S':\n",
    "                    start = (i, j, k)\n",
    "                if floors[i][j][k] == 'E':\n",
    "                    end = (i, j, k)\n",
    "\n",
    "\n",
    "    result = bfs(start, end)\n",
    "    if result == -1:\n",
    "        print(\"Trapped!\")\n",
    "    else:\n",
    "        print(\"Escaped in\", result, \"minute(s).\")"
   ]
  },
  {
   "cell_type": "code",
   "execution_count": null,
   "metadata": {},
   "outputs": [],
   "source": []
  },
  {
   "cell_type": "code",
   "execution_count": null,
   "metadata": {},
   "outputs": [],
   "source": []
  },
  {
   "cell_type": "code",
   "execution_count": null,
   "metadata": {},
   "outputs": [],
   "source": []
  }
 ],
 "metadata": {
  "kernelspec": {
   "display_name": "Python 3",
   "language": "python",
   "name": "python3"
  },
  "language_info": {
   "codemirror_mode": {
    "name": "ipython",
    "version": 3
   },
   "file_extension": ".py",
   "mimetype": "text/x-python",
   "name": "python",
   "nbconvert_exporter": "python",
   "pygments_lexer": "ipython3",
   "version": "3.11.8"
  }
 },
 "nbformat": 4,
 "nbformat_minor": 2
}
