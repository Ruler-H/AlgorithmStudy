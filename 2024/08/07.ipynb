{
 "cells": [
  {
   "cell_type": "code",
   "execution_count": null,
   "metadata": {},
   "outputs": [],
   "source": [
    "# 백준 16926번 - 배열 돌리기 1\n",
    "import sys\n",
    "# input = sys.stdin.readline\n",
    "from collections import deque\n",
    "\n",
    "n, m, r = map(int, input().split())\n",
    "matrix = [list(map(int, input().split())) for _ in range(n)]"
   ]
  },
  {
   "cell_type": "code",
   "execution_count": null,
   "metadata": {},
   "outputs": [],
   "source": [
    "n, m, r = 5, 4, 7\n",
    "# 1 2 3 4\n",
    "# 7 8 9 10\n",
    "# 13 14 15 16\n",
    "# 19 20 21 22\n",
    "# 25 26 27 28\n",
    "matrix = [[1, 2, 3, 4], [7, 8, 9, 10], [13, 14, 15, 16], [19, 20, 21, 22], [25, 26, 27, 28]]"
   ]
  },
  {
   "cell_type": "code",
   "execution_count": null,
   "metadata": {},
   "outputs": [],
   "source": [
    "def rotate(matrix):\n",
    "    global n, m\n",
    "    new_matrix = [[0] * m for _ in range(n)]\n",
    "    for i in range(n):\n",
    "        for j in range(m):\n",
    "            new_matrix[i][j] = matrix[i][j]\n",
    "    for i in range(min(n, m) // 2):\n",
    "        q = deque()\n",
    "        for j in range(i, m - i):\n",
    "            q.append(matrix[i][j])\n",
    "        for j in range(i + 1, n - i):\n",
    "            q.append(matrix[j][m - i - 1])\n",
    "        for j in range(m - i - 2, i - 1, -1):\n",
    "            q.append(matrix[n - i - 1][j])\n",
    "        for j in range(n - i - 2, i, -1):\n",
    "            q.append(matrix[j][i])\n",
    "        q.rotate(-r)\n",
    "        for j in range(i, m - i):\n",
    "            new_matrix[i][j] = q.popleft()\n",
    "        for j in range(i + 1, n - i):\n",
    "            new_matrix[j][m - i - 1] = q.popleft()\n",
    "        for j in range(m - i - 2, i - 1, -1):\n",
    "            new_matrix[n - i - 1][j] = q.popleft()\n",
    "        for j in range(n - i - 2, i, -1):\n",
    "            new_matrix[j][i] = q.popleft()\n",
    "    return new_matrix\n",
    "\n",
    "\n",
    "matrix = rotate(matrix)\n",
    "\n",
    "for i in range(n):\n",
    "    for j in range(m):\n",
    "        print(matrix[i][j], end=\" \")\n",
    "    print()"
   ]
  },
  {
   "cell_type": "code",
   "execution_count": null,
   "metadata": {},
   "outputs": [],
   "source": []
  },
  {
   "cell_type": "code",
   "execution_count": null,
   "metadata": {},
   "outputs": [],
   "source": []
  }
 ],
 "metadata": {
  "kernelspec": {
   "display_name": "Python 3",
   "language": "python",
   "name": "python3"
  },
  "language_info": {
   "codemirror_mode": {
    "name": "ipython",
    "version": 3
   },
   "file_extension": ".py",
   "mimetype": "text/x-python",
   "name": "python",
   "nbconvert_exporter": "python",
   "pygments_lexer": "ipython3",
   "version": "3.11.8"
  }
 },
 "nbformat": 4,
 "nbformat_minor": 2
}
