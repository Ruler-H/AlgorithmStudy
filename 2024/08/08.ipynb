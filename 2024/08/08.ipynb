{
 "cells": [
  {
   "cell_type": "code",
   "execution_count": null,
   "metadata": {},
   "outputs": [],
   "source": [
    "# 백준 5582번 - 공통 부분 문자열\n",
    "import sys\n",
    "# input = sys.stdin.readline\n",
    "\n",
    "str1 = input().strip()\n",
    "str2 = input().strip()"
   ]
  },
  {
   "cell_type": "code",
   "execution_count": null,
   "metadata": {},
   "outputs": [],
   "source": [
    "if len(str1) < len(str2):\n",
    "    str1, str2 = str2, str1\n",
    "\n",
    "dp = [0] * (len(str2) + 1)\n",
    "result = 0\n",
    "\n",
    "for i in range(1, len(str1) + 1):\n",
    "    new_dp = [0] * (len(str2) + 1)\n",
    "    for j in range(1, len(str2) + 1):\n",
    "        if str1[i-1] == str2[j-1]:\n",
    "            new_dp[j] = dp[j-1] + 1\n",
    "            result = max(result, new_dp[j])\n",
    "    dp = new_dp\n",
    "\n",
    "print(result)"
   ]
  },
  {
   "cell_type": "code",
   "execution_count": null,
   "metadata": {},
   "outputs": [],
   "source": []
  }
 ],
 "metadata": {
  "kernelspec": {
   "display_name": "Python 3",
   "language": "python",
   "name": "python3"
  },
  "language_info": {
   "codemirror_mode": {
    "name": "ipython",
    "version": 3
   },
   "file_extension": ".py",
   "mimetype": "text/x-python",
   "name": "python",
   "nbconvert_exporter": "python",
   "pygments_lexer": "ipython3",
   "version": "3.11.8"
  }
 },
 "nbformat": 4,
 "nbformat_minor": 2
}
