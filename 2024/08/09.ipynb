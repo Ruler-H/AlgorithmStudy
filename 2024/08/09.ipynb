{
 "cells": [
  {
   "cell_type": "code",
   "execution_count": null,
   "metadata": {},
   "outputs": [],
   "source": [
    "# 백준 1914번 - 하노이 탑\n",
    "import sys\n",
    "# input = sys.stdin.readline\n",
    "\n",
    "N = int(input())"
   ]
  },
  {
   "cell_type": "code",
   "execution_count": null,
   "metadata": {},
   "outputs": [],
   "source": [
    "def hanoi(n, start, end):\n",
    "    if n == 1:\n",
    "        print(start, end)\n",
    "        return\n",
    "    hanoi(n-1, start, 6-start-end)\n",
    "    print(start, end)\n",
    "    hanoi(n-1, 6-start-end, end)\n",
    "\n",
    "def hanoi_count(n):\n",
    "    if n == 1:\n",
    "        return 1\n",
    "    return 2 * hanoi_count(n-1) + 1\n",
    "\n",
    "print(hanoi_count(N))\n",
    "if N <= 20:\n",
    "    hanoi(N, 1, 3)\n"
   ]
  },
  {
   "cell_type": "code",
   "execution_count": null,
   "metadata": {},
   "outputs": [],
   "source": []
  }
 ],
 "metadata": {
  "kernelspec": {
   "display_name": "Python 3",
   "language": "python",
   "name": "python3"
  },
  "language_info": {
   "codemirror_mode": {
    "name": "ipython",
    "version": 3
   },
   "file_extension": ".py",
   "mimetype": "text/x-python",
   "name": "python",
   "nbconvert_exporter": "python",
   "pygments_lexer": "ipython3",
   "version": "3.11.8"
  }
 },
 "nbformat": 4,
 "nbformat_minor": 2
}
