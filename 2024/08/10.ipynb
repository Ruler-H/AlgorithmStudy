{
 "cells": [
  {
   "cell_type": "code",
   "execution_count": null,
   "metadata": {},
   "outputs": [],
   "source": [
    "# 백준 3020번 - 개똥벌레\n",
    "import sys\n",
    "# input = sys.stdin.readline\n",
    "\n",
    "N, H = map(int, input().split())\n",
    "obstacles = [int(input()) for _ in range(N)]"
   ]
  },
  {
   "cell_type": "code",
   "execution_count": null,
   "metadata": {},
   "outputs": [],
   "source": [
    "top = [0] * (H+1)\n",
    "bottom = [0] * (H+1)\n",
    "\n",
    "for i in range(N):\n",
    "    if i % 2 == 0:\n",
    "        bottom[obstacles[i]] += 1\n",
    "    else:\n",
    "        top[obstacles[i]] += 1\n",
    "\n",
    "for i in range(H-1, 0, -1):\n",
    "    top[i] += top[i+1]\n",
    "    bottom[i] += bottom[i+1]\n",
    "\n",
    "result = [0] * (H+1)\n",
    "\n",
    "for i in range(1, H+1):\n",
    "    result[i] = top[i] + bottom[H-i+1]\n",
    "min_value = min(result[1:])\n",
    "print(min_value, result[1:].count(min_value))"
   ]
  },
  {
   "cell_type": "code",
   "execution_count": null,
   "metadata": {},
   "outputs": [],
   "source": []
  },
  {
   "cell_type": "code",
   "execution_count": null,
   "metadata": {},
   "outputs": [],
   "source": []
  }
 ],
 "metadata": {
  "kernelspec": {
   "display_name": "Python 3",
   "language": "python",
   "name": "python3"
  },
  "language_info": {
   "codemirror_mode": {
    "name": "ipython",
    "version": 3
   },
   "file_extension": ".py",
   "mimetype": "text/x-python",
   "name": "python",
   "nbconvert_exporter": "python",
   "pygments_lexer": "ipython3",
   "version": "3.11.8"
  }
 },
 "nbformat": 4,
 "nbformat_minor": 2
}
