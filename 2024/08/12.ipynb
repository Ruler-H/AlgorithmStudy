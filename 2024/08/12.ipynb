{
 "cells": [
  {
   "cell_type": "code",
   "execution_count": null,
   "metadata": {},
   "outputs": [],
   "source": [
    "# 백준 21610번 - 마법사 상어와 비바라기\n",
    "import sys\n",
    "# input = sys.stdin.readline\n",
    "\n",
    "N, M = map(int, input().split())\n",
    "baskets = [list(map(int, input().split())) for _ in range(N)]\n",
    "commands = [list(map(int, input().split())) for _ in range(M)]"
   ]
  },
  {
   "cell_type": "code",
   "execution_count": null,
   "metadata": {},
   "outputs": [],
   "source": [
    "dxy = [(0, 0), (0, -1), (-1, -1), (-1, 0), (-1, 1), (0, 1), (1, 1), (1, 0), (1, -1)]\n",
    "clouds = [(N-1, 0), (N-1, 1), (N-2, 0), (N-2, 1)]\n",
    "diaxy = [(-1, -1), (-1, 1), (1, 1), (1, -1)]\n",
    "\n",
    "for d, s in commands:\n",
    "    new_clouds = []\n",
    "    for x, y in clouds:\n",
    "        nx = (x + dxy[d][0] * s) % N\n",
    "        ny = (y + dxy[d][1] * s) % N\n",
    "        new_clouds.append((nx, ny))\n",
    "        baskets[nx][ny] += 1\n",
    "\n",
    "    for x, y in new_clouds:\n",
    "        for dx, dy in diaxy:\n",
    "            nx = x + dx\n",
    "            ny = y + dy\n",
    "            if 0 <= nx < N and 0 <= ny < N and baskets[nx][ny] > 0:\n",
    "                baskets[x][y] += 1\n",
    "    clouds = []\n",
    "    for x in range(N):\n",
    "        for y in range(N):\n",
    "            if (x, y) not in new_clouds and baskets[x][y] >= 2:\n",
    "                baskets[x][y] -= 2\n",
    "                clouds.append((x, y))\n",
    "print(sum(sum(row) for row in baskets))"
   ]
  },
  {
   "cell_type": "code",
   "execution_count": null,
   "metadata": {},
   "outputs": [],
   "source": []
  }
 ],
 "metadata": {
  "kernelspec": {
   "display_name": "Python 3",
   "language": "python",
   "name": "python3"
  },
  "language_info": {
   "codemirror_mode": {
    "name": "ipython",
    "version": 3
   },
   "file_extension": ".py",
   "mimetype": "text/x-python",
   "name": "python",
   "nbconvert_exporter": "python",
   "pygments_lexer": "ipython3",
   "version": "3.11.8"
  }
 },
 "nbformat": 4,
 "nbformat_minor": 2
}
