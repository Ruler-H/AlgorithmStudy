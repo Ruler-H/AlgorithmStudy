{
 "cells": [
  {
   "cell_type": "code",
   "execution_count": null,
   "metadata": {},
   "outputs": [],
   "source": [
    "# 백준 18405번 - 경쟁적 전염\n",
    "import sys\n",
    "# input = sys.stdin.readline\n",
    "\n",
    "N, K = map(int, input().split())\n",
    "examiners = [list(map(int, input().split())) for _ in range(N)]\n",
    "S, X, Y = map(int, input().split())"
   ]
  },
  {
   "cell_type": "code",
   "execution_count": null,
   "metadata": {},
   "outputs": [],
   "source": [
    "dxy = [(0, 1), (0, -1), (1, 0), (-1, 0)]\n",
    "queue = []\n",
    "for i in range(N):\n",
    "    for j in range(N):\n",
    "        if examiners[i][j] != 0:\n",
    "            queue.append((examiners[i][j], i, j, 0))\n",
    "\n",
    "queue.sort()\n",
    "\n",
    "while queue:\n",
    "    virus, x, y, time = queue.pop(0)\n",
    "    if time == S:\n",
    "        break\n",
    "    for dx, dy in dxy:\n",
    "        nx, ny = x + dx, y + dy\n",
    "        if 0 <= nx < N and 0 <= ny < N and examiners[nx][ny] == 0:\n",
    "            examiners[nx][ny] = virus\n",
    "            queue.append((virus, nx, ny, time + 1))\n",
    "\n",
    "print(examiners[X-1][Y-1])"
   ]
  },
  {
   "cell_type": "code",
   "execution_count": null,
   "metadata": {},
   "outputs": [],
   "source": []
  }
 ],
 "metadata": {
  "kernelspec": {
   "display_name": "Python 3",
   "language": "python",
   "name": "python3"
  },
  "language_info": {
   "codemirror_mode": {
    "name": "ipython",
    "version": 3
   },
   "file_extension": ".py",
   "mimetype": "text/x-python",
   "name": "python",
   "nbconvert_exporter": "python",
   "pygments_lexer": "ipython3",
   "version": "3.11.8"
  }
 },
 "nbformat": 4,
 "nbformat_minor": 2
}
