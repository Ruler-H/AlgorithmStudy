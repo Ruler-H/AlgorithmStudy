{
 "cells": [
  {
   "cell_type": "code",
   "execution_count": null,
   "metadata": {},
   "outputs": [],
   "source": [
    "# 백준 1092번 - 배\n",
    "import sys\n",
    "# input = sys.stdin.readline\n",
    "from collections import deque\n",
    "\n",
    "N = int(input())\n",
    "cranes = list(map(int, input().split()))\n",
    "M = int(input())\n",
    "boxes = list(map(int, input().split()))"
   ]
  },
  {
   "cell_type": "code",
   "execution_count": null,
   "metadata": {},
   "outputs": [],
   "source": [
    "result = 0\n",
    "cranes.sort(reverse=True)\n",
    "boxes.sort(reverse=True)\n",
    "\n",
    "if cranes[0] < boxes[0]:\n",
    "    print(-1)\n",
    "    sys.exit()\n",
    "\n",
    "while boxes:\n",
    "    result += 1\n",
    "    for crane in cranes:\n",
    "        for i in range(len(boxes)):\n",
    "            if crane >= boxes[i]:\n",
    "                del boxes[i]\n",
    "                break\n",
    "print(result)"
   ]
  },
  {
   "cell_type": "code",
   "execution_count": null,
   "metadata": {},
   "outputs": [],
   "source": []
  }
 ],
 "metadata": {
  "kernelspec": {
   "display_name": "Python 3",
   "language": "python",
   "name": "python3"
  },
  "language_info": {
   "codemirror_mode": {
    "name": "ipython",
    "version": 3
   },
   "file_extension": ".py",
   "mimetype": "text/x-python",
   "name": "python",
   "nbconvert_exporter": "python",
   "pygments_lexer": "ipython3",
   "version": "3.11.8"
  }
 },
 "nbformat": 4,
 "nbformat_minor": 2
}
