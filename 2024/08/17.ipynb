{
 "cells": [
  {
   "cell_type": "code",
   "execution_count": 17,
   "metadata": {},
   "outputs": [],
   "source": [
    "# 백준 1092번 - 배\n",
    "import sys\n",
    "# input = sys.stdin.readline\n",
    "from collections import deque\n",
    "\n",
    "N = int(input())\n",
    "cranes = list(map(int, input().split()))\n",
    "M = int(input())\n",
    "boxes = list(map(int, input().split()))"
   ]
  },
  {
   "cell_type": "code",
   "execution_count": 26,
   "metadata": {},
   "outputs": [
    {
     "name": "stdout",
     "output_type": "stream",
     "text": [
      "deque([(2, 1), (1, 1)])\n",
      "deque([])\n",
      "2\n"
     ]
    }
   ],
   "source": [
    "cranes.sort(reverse=True)\n",
    "boxes.sort(reverse=True)\n",
    "\n",
    "if cranes[0] < boxes[0]:\n",
    "    print(-1)\n",
    "    sys.exit()\n",
    "\n",
    "box_cnt = {}\n",
    "for box in boxes:\n",
    "    if box in box_cnt:\n",
    "        box_cnt[box] += 1\n",
    "    else:\n",
    "        box_cnt[box] = 1\n",
    "\n",
    "sorted_boxes = deque(sorted(box_cnt.items(), reverse=True))\n",
    "result = 0\n",
    "while sorted_boxes:\n",
    "    result += 1\n",
    "    for crane in cranes:\n",
    "        if not sorted_boxes:\n",
    "            break\n",
    "        for i in range(len(sorted_boxes)):\n",
    "            if crane >= sorted_boxes[i][0]:\n",
    "                weight, count = sorted_boxes[i]\n",
    "                count -= 1\n",
    "                if count == 0:\n",
    "                    sorted_boxes.remove(sorted_boxes[i])\n",
    "                else:\n",
    "                    sorted_boxes[i] = (weight, count)\n",
    "                break\n",
    "\n",
    "print(result)"
   ]
  },
  {
   "cell_type": "code",
   "execution_count": null,
   "metadata": {},
   "outputs": [],
   "source": []
  }
 ],
 "metadata": {
  "kernelspec": {
   "display_name": "Python 3",
   "language": "python",
   "name": "python3"
  },
  "language_info": {
   "codemirror_mode": {
    "name": "ipython",
    "version": 3
   },
   "file_extension": ".py",
   "mimetype": "text/x-python",
   "name": "python",
   "nbconvert_exporter": "python",
   "pygments_lexer": "ipython3",
   "version": "3.11.8"
  }
 },
 "nbformat": 4,
 "nbformat_minor": 2
}
