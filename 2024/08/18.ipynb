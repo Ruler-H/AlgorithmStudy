{
 "cells": [
  {
   "cell_type": "code",
   "execution_count": null,
   "metadata": {},
   "outputs": [],
   "source": [
    "# 백준 2660번 - 회장뽑기\n",
    "import sys\n",
    "# input = sys.stdin.readline\n",
    "\n",
    "member_cnt = int(input())\n",
    "graph = [[100] * (member_cnt + 1) for _ in range(member_cnt + 1)]\n",
    "\n",
    "while True:\n",
    "    a, b = map(int, input().split())\n",
    "    if a == -1 and b == -1:\n",
    "        break\n",
    "    graph[a][b] = 1\n",
    "    graph[b][a] = 1"
   ]
  },
  {
   "cell_type": "code",
   "execution_count": null,
   "metadata": {},
   "outputs": [],
   "source": [
    "for i in range(1, member_cnt + 1):\n",
    "    for j in range(1, member_cnt + 1):\n",
    "        if i == j:\n",
    "            graph[i][j] = 0\n",
    "\n",
    "for k in range(1, member_cnt + 1):\n",
    "    for i in range(1, member_cnt + 1):\n",
    "        for j in range(1, member_cnt + 1):\n",
    "            graph[i][j] = min(graph[i][j], graph[i][k] + graph[k][j])\n",
    "    print(graph)\n",
    "score = [0] * (member_cnt + 1)\n",
    "\n",
    "for i in range(1, member_cnt + 1):\n",
    "    score[i] = max(graph[i][1:])\n",
    "\n",
    "min_score = min(score[1:])\n",
    "min_score_cnt = score.count(min_score)\n",
    "print(score)\n",
    "print(min_score, min_score_cnt)\n",
    "for i in range(1, member_cnt + 1):\n",
    "    if score[i] == min_score:\n",
    "        print(i, end=\" \")"
   ]
  },
  {
   "cell_type": "code",
   "execution_count": null,
   "metadata": {},
   "outputs": [],
   "source": []
  }
 ],
 "metadata": {
  "kernelspec": {
   "display_name": "Python 3",
   "language": "python",
   "name": "python3"
  },
  "language_info": {
   "codemirror_mode": {
    "name": "ipython",
    "version": 3
   },
   "file_extension": ".py",
   "mimetype": "text/x-python",
   "name": "python",
   "nbconvert_exporter": "python",
   "pygments_lexer": "ipython3",
   "version": "3.11.8"
  }
 },
 "nbformat": 4,
 "nbformat_minor": 2
}
