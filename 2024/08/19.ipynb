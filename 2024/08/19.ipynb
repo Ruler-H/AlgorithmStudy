{
 "cells": [
  {
   "cell_type": "code",
   "execution_count": null,
   "metadata": {},
   "outputs": [],
   "source": [
    "# 백준 15681번 - 트리와 쿼리\n",
    "import sys\n",
    "# input = sys.stdin.readline\n",
    "sys.setrecursionlimit(10**6)\n",
    "\n",
    "N, R, Q = map(int, input().split())\n",
    "tree = [[] for _ in range(N+1)]\n",
    "for _ in range(N-1):\n",
    "    u, v = map(int, input().split())\n",
    "    tree[u].append(v)\n",
    "    tree[v].append(u)"
   ]
  },
  {
   "cell_type": "code",
   "execution_count": null,
   "metadata": {},
   "outputs": [],
   "source": [
    "dp = [0] * (N+1)\n",
    "def dfs(node, parent):\n",
    "    dp[node] = 1\n",
    "    for child in tree[node]:\n",
    "        if child != parent:\n",
    "            dp[node] += dfs(child, node)\n",
    "    return dp[node]\n",
    "\n",
    "dfs(R, -1)\n",
    "for _ in range(Q):\n",
    "    print(dp[int(input())])"
   ]
  },
  {
   "cell_type": "code",
   "execution_count": null,
   "metadata": {},
   "outputs": [],
   "source": []
  }
 ],
 "metadata": {
  "kernelspec": {
   "display_name": "Python 3",
   "language": "python",
   "name": "python3"
  },
  "language_info": {
   "codemirror_mode": {
    "name": "ipython",
    "version": 3
   },
   "file_extension": ".py",
   "mimetype": "text/x-python",
   "name": "python",
   "nbconvert_exporter": "python",
   "pygments_lexer": "ipython3",
   "version": "3.11.8"
  }
 },
 "nbformat": 4,
 "nbformat_minor": 2
}
