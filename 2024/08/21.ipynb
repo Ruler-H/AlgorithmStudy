{
 "cells": [
  {
   "cell_type": "code",
   "execution_count": null,
   "metadata": {},
   "outputs": [],
   "source": [
    "# 백준 1041번 - 주사위\n",
    "import sys\n",
    "# input = sys.stdin.readline\n",
    "\n",
    "N = int(input())\n",
    "a, b, c, d, e, f = map(int, input().split())"
   ]
  },
  {
   "cell_type": "code",
   "execution_count": null,
   "metadata": {},
   "outputs": [],
   "source": [
    "if N == 1:\n",
    "    print(sum(sorted([a, b, c, d, e, f])[:-1]))\n",
    "else:\n",
    "    min1 = min(a, b, c, d, e, f)\n",
    "    min2 = min(a+b, a+c, a+d, a+e, b+c, b+d, b+f, c+e, c+f, d+e, d+f, e+f)\n",
    "    min3 = min(a+b+c, a+b+d, a+c+e, a+d+e, b+c+f, b+d+f, c+e+f, d+e+f)\n",
    "    result = 0\n",
    "    result += min1 * ((5 * N * N) - (16 * N) + 12)\n",
    "    result += min2 * ((8 * N) - 12)\n",
    "    result += min3 * 4\n",
    "    print(result)"
   ]
  },
  {
   "cell_type": "code",
   "execution_count": null,
   "metadata": {},
   "outputs": [],
   "source": []
  }
 ],
 "metadata": {
  "kernelspec": {
   "display_name": "Python 3",
   "language": "python",
   "name": "python3"
  },
  "language_info": {
   "codemirror_mode": {
    "name": "ipython",
    "version": 3
   },
   "file_extension": ".py",
   "mimetype": "text/x-python",
   "name": "python",
   "nbconvert_exporter": "python",
   "pygments_lexer": "ipython3",
   "version": "3.11.8"
  }
 },
 "nbformat": 4,
 "nbformat_minor": 2
}
