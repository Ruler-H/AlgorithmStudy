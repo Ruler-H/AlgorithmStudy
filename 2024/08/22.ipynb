{
 "cells": [
  {
   "cell_type": "code",
   "execution_count": null,
   "metadata": {},
   "outputs": [],
   "source": [
    "# 백준 1013번 - Contact\n",
    "import sys\n",
    "# input = sys.stdin.readline\n",
    "import re\n",
    "\n",
    "T = int(input())\n",
    "spreads = [input().strip() for _ in range(T)]"
   ]
  },
  {
   "cell_type": "code",
   "execution_count": null,
   "metadata": {},
   "outputs": [],
   "source": [
    "def spread_check(spread):\n",
    "    while True:\n",
    "        # print(\"spread:\", spread)\n",
    "        be_len = len(spread)\n",
    "        if len(spread) == 0:\n",
    "            print(\"YES\")\n",
    "            break\n",
    "        elif len(spread) >= 4 and spread[0] == \"1\":            \n",
    "            spread = re.sub(\"^100+1\", \"\", spread)\n",
    "            # print(\"1\", spread)\n",
    "            if be_len != len(spread):\n",
    "                temp = re.sub(\"^1+\", \"1\", spread)\n",
    "                if len(temp) >= 3 and temp[0] == \"1\" and temp[1] == \"0\" and temp[2] == \"0\":\n",
    "                    spread = temp\n",
    "                else:\n",
    "                    spread = re.sub(\"^1+\", \"\", spread)\n",
    "            # print(\"2\", spread)\n",
    "        elif len(spread) >= 2 and spread[0] == \"0\":\n",
    "            spread = re.sub(\"^01\", \"\", spread)\n",
    "            # print(\"1\", spread)\n",
    "        if be_len == len(spread):\n",
    "            print(\"NO\")\n",
    "            break"
   ]
  },
  {
   "cell_type": "code",
   "execution_count": null,
   "metadata": {},
   "outputs": [],
   "source": [
    "for spread in spreads:\n",
    "    spread_check(spread)"
   ]
  }
 ],
 "metadata": {
  "kernelspec": {
   "display_name": "Python 3",
   "language": "python",
   "name": "python3"
  },
  "language_info": {
   "codemirror_mode": {
    "name": "ipython",
    "version": 3
   },
   "file_extension": ".py",
   "mimetype": "text/x-python",
   "name": "python",
   "nbconvert_exporter": "python",
   "pygments_lexer": "ipython3",
   "version": "3.11.8"
  }
 },
 "nbformat": 4,
 "nbformat_minor": 2
}
