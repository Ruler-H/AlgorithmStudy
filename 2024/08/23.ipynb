{
 "cells": [
  {
   "cell_type": "code",
   "execution_count": null,
   "metadata": {},
   "outputs": [],
   "source": [
    "# 백준 2240번 - 자두나무\n",
    "import sys\n",
    "# input = sys.stdin.readline\n",
    "\n",
    "T, W = map(int, input().split())\n",
    "plum = [0] + [int(input()) for _ in range(T)]"
   ]
  },
  {
   "cell_type": "code",
   "execution_count": null,
   "metadata": {},
   "outputs": [],
   "source": [
    "dp = [[[0] * (W + 1) for _ in range(3)] for _ in range(T + 1)]\n",
    "if plum[1] == 1:\n",
    "    dp[1][1][0] = 1\n",
    "else:\n",
    "    dp[1][2][1] = 1\n",
    "\n",
    "for i in range(2, T + 1):\n",
    "    for j in range(1, 3):\n",
    "        if plum[i] == j:\n",
    "            dp[i][j][0] = dp[i - 1][j][0] + 1\n",
    "        else:\n",
    "            dp[i][j][0] = dp[i - 1][j][0]\n",
    "        for k in range(1, W + 1):\n",
    "            dp[i][j][k] = max(dp[i - 1][j][k], dp[i - 1][3 - j][k - 1]) + (plum[i] == j)\n",
    "print(max(dp[T][1] + dp[T][2]))"
   ]
  },
  {
   "cell_type": "code",
   "execution_count": null,
   "metadata": {},
   "outputs": [],
   "source": []
  }
 ],
 "metadata": {
  "kernelspec": {
   "display_name": "Python 3",
   "language": "python",
   "name": "python3"
  },
  "language_info": {
   "codemirror_mode": {
    "name": "ipython",
    "version": 3
   },
   "file_extension": ".py",
   "mimetype": "text/x-python",
   "name": "python",
   "nbconvert_exporter": "python",
   "pygments_lexer": "ipython3",
   "version": "3.11.8"
  }
 },
 "nbformat": 4,
 "nbformat_minor": 2
}
