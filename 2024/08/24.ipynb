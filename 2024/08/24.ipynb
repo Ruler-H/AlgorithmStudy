{
 "cells": [
  {
   "cell_type": "code",
   "execution_count": null,
   "metadata": {},
   "outputs": [],
   "source": [
    "# 백준 1240번 - 노드사이의 거리\n",
    "import sys\n",
    "# input = sys.stdin.readline\n",
    "\n",
    "N, M = map(int, input().split())\n",
    "graph = [[] for _ in range(N+1)]\n",
    "for _ in range(N-1):\n",
    "    a, b, c = map(int, input().split())\n",
    "    graph[a].append((b, c))\n",
    "    graph[b].append((a, c))\n",
    "\n",
    "questions = [list(map(int, input().split())) for _ in range(M)]"
   ]
  },
  {
   "cell_type": "code",
   "execution_count": null,
   "metadata": {},
   "outputs": [],
   "source": [
    "def dfs(start, end, visited):\n",
    "    if start == end:\n",
    "        return 0\n",
    "    for i in graph[start]:\n",
    "        if i[0] not in visited:\n",
    "            visited.append(i[0])\n",
    "            result = dfs(i[0], end, visited)\n",
    "            visited.pop()\n",
    "            if result >= 0:\n",
    "                return result + i[1]\n",
    "    return -1\n",
    "for a, b in questions:\n",
    "    print(dfs(a, b, [a]))"
   ]
  },
  {
   "cell_type": "code",
   "execution_count": null,
   "metadata": {},
   "outputs": [],
   "source": []
  }
 ],
 "metadata": {
  "kernelspec": {
   "display_name": "Python 3",
   "language": "python",
   "name": "python3"
  },
  "language_info": {
   "codemirror_mode": {
    "name": "ipython",
    "version": 3
   },
   "file_extension": ".py",
   "mimetype": "text/x-python",
   "name": "python",
   "nbconvert_exporter": "python",
   "pygments_lexer": "ipython3",
   "version": "3.11.8"
  }
 },
 "nbformat": 4,
 "nbformat_minor": 2
}
