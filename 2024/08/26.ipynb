{
 "cells": [
  {
   "cell_type": "code",
   "execution_count": null,
   "metadata": {},
   "outputs": [],
   "source": [
    "# 백준 16987번 - 계란으로 계란치기\n",
    "import sys\n",
    "# input = sys.stdin.readline\n",
    "\n",
    "N = int(input())\n",
    "eggs = [list(map(int, input().split())) for _ in range(N)]"
   ]
  },
  {
   "cell_type": "code",
   "execution_count": null,
   "metadata": {},
   "outputs": [],
   "source": [
    "print(eggs)\n",
    "def dfs(idx):\n",
    "    # print(idx, eggs)\n",
    "    if idx == N:\n",
    "        return 0\n",
    "    if eggs[idx][0] <= 0:\n",
    "        return dfs(idx + 1)\n",
    "    result = 0\n",
    "    for i in range(N):\n",
    "        if i == idx or eggs[i][0] <= 0:\n",
    "            continue\n",
    "        eggs[idx][0] -= eggs[i][1]\n",
    "        eggs[i][0] -= eggs[idx][1]\n",
    "        cnt = 0\n",
    "        for j in (idx, i):\n",
    "            if eggs[j][0] <= 0:\n",
    "                cnt += 1\n",
    "        result = max(result, cnt + dfs(idx + 1))\n",
    "        for j in (idx, i):\n",
    "            if eggs[j][0] <= 0:\n",
    "                cnt -= 1\n",
    "        eggs[idx][0] += eggs[i][1]\n",
    "        eggs[i][0] += eggs[idx][1]\n",
    "    return result\n",
    "\n",
    "print(dfs(0))"
   ]
  },
  {
   "cell_type": "code",
   "execution_count": null,
   "metadata": {},
   "outputs": [],
   "source": []
  }
 ],
 "metadata": {
  "kernelspec": {
   "display_name": "Python 3",
   "language": "python",
   "name": "python3"
  },
  "language_info": {
   "codemirror_mode": {
    "name": "ipython",
    "version": 3
   },
   "file_extension": ".py",
   "mimetype": "text/x-python",
   "name": "python",
   "nbconvert_exporter": "python",
   "pygments_lexer": "ipython3",
   "version": "3.11.8"
  }
 },
 "nbformat": 4,
 "nbformat_minor": 2
}
