{
 "cells": [
  {
   "cell_type": "code",
   "execution_count": null,
   "metadata": {},
   "outputs": [],
   "source": [
    "# 백준 18428번 - 감시 피하기\n",
    "import sys\n",
    "# input = sys.stdin.readline\n",
    "\n",
    "N = int(input())\n",
    "board = [list(input().split()) for _ in range(N)]"
   ]
  },
  {
   "cell_type": "code",
   "execution_count": null,
   "metadata": {},
   "outputs": [],
   "source": [
    "def check():\n",
    "    for i in range(N):\n",
    "        for j in range(N):\n",
    "            if board[i][j] == 'T':\n",
    "                for k in range(i+1, N):\n",
    "                    if board[k][j] == 'S':\n",
    "                        return False\n",
    "                    if board[k][j] == 'O':\n",
    "                        break\n",
    "                for k in range(i-1, -1, -1):\n",
    "                    if board[k][j] == 'S':\n",
    "                        return False\n",
    "                    if board[k][j] == 'O':\n",
    "                        break\n",
    "                for k in range(j+1, N):\n",
    "                    if board[i][k] == 'S':\n",
    "                        return False\n",
    "                    if board[i][k] == 'O':\n",
    "                        break\n",
    "                for k in range(j-1, -1, -1):\n",
    "                    if board[i][k] == 'S':\n",
    "                        return False\n",
    "                    if board[i][k] == 'O':\n",
    "                        break\n",
    "    return True\n",
    "\n",
    "def dfs(cnt):\n",
    "    if cnt == 3:\n",
    "        if check():\n",
    "            print(\"YES\")\n",
    "            sys.exit()\n",
    "    elif cnt > 3:\n",
    "        return\n",
    "    for i in range(N):\n",
    "        for j in range(N):\n",
    "            if board[i][j] == 'X':\n",
    "                board[i][j] = 'O'\n",
    "                cnt += 1\n",
    "                dfs(cnt)\n",
    "                board[i][j] = 'X'\n",
    "                cnt -= 1\n",
    "\n",
    "dfs(0)\n",
    "print(\"NO\")"
   ]
  },
  {
   "cell_type": "code",
   "execution_count": null,
   "metadata": {},
   "outputs": [],
   "source": [
    "5\n",
    "X S X X T\n",
    "T X S X X\n",
    "X X X X X\n",
    "X T X X X\n",
    "X X T X X"
   ]
  }
 ],
 "metadata": {
  "kernelspec": {
   "display_name": "Python 3",
   "language": "python",
   "name": "python3"
  },
  "language_info": {
   "codemirror_mode": {
    "name": "ipython",
    "version": 3
   },
   "file_extension": ".py",
   "mimetype": "text/x-python",
   "name": "python",
   "nbconvert_exporter": "python",
   "pygments_lexer": "ipython3",
   "version": "3.11.8"
  }
 },
 "nbformat": 4,
 "nbformat_minor": 2
}
