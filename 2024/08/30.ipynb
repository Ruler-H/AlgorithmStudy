{
 "cells": [
  {
   "cell_type": "code",
   "execution_count": null,
   "metadata": {},
   "outputs": [],
   "source": [
    "# 백준 5972번 - 택배 배송\n",
    "import sys\n",
    "# input = sys.stdin.readline\n",
    "import heapq\n",
    "\n",
    "N, M = map(int, input().split())\n",
    "graph = [[] for _ in range(N+1)]\n",
    "\n",
    "for _ in range(M):\n",
    "    a, b, c = map(int, input().split())\n",
    "    graph[a].append((b, c))\n",
    "    graph[b].append((a, c))"
   ]
  },
  {
   "cell_type": "code",
   "execution_count": null,
   "metadata": {},
   "outputs": [],
   "source": [
    "def dijkstra(start):\n",
    "    distance = [float('inf')] * (N+1)\n",
    "    distance[start] = 0\n",
    "    queue = [(0, start)]\n",
    "\n",
    "    while queue:\n",
    "        dist, now = heapq.heappop(queue)\n",
    "        \n",
    "        if distance[now] < dist:\n",
    "            continue\n",
    "        \n",
    "        for next_node, next_dist in graph[now]:\n",
    "            cost = dist + next_dist\n",
    "            if cost < distance[next_node]:\n",
    "                distance[next_node] = cost\n",
    "                heapq.heappush(queue, (cost, next_node))\n",
    "    \n",
    "    return distance[N]\n",
    "\n",
    "print(dijkstra(1))"
   ]
  }
 ],
 "metadata": {
  "kernelspec": {
   "display_name": "Python 3",
   "language": "python",
   "name": "python3"
  },
  "language_info": {
   "codemirror_mode": {
    "name": "ipython",
    "version": 3
   },
   "file_extension": ".py",
   "mimetype": "text/x-python",
   "name": "python",
   "nbconvert_exporter": "python",
   "pygments_lexer": "ipython3",
   "version": "3.11.8"
  }
 },
 "nbformat": 4,
 "nbformat_minor": 2
}
