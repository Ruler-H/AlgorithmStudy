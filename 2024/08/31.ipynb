{
 "cells": [
  {
   "cell_type": "code",
   "execution_count": null,
   "metadata": {},
   "outputs": [],
   "source": [
    "# 백준 12919번 - A와 B 2\n",
    "import sys\n",
    "# input = sys.stdin.readline\n",
    "\n",
    "S = input().strip()\n",
    "T = input().strip()"
   ]
  },
  {
   "cell_type": "code",
   "execution_count": null,
   "metadata": {},
   "outputs": [],
   "source": [
    "def dfs(S, T):\n",
    "    if len(S) == len(T):\n",
    "        if S == T:\n",
    "            print(1)\n",
    "            sys.exit()\n",
    "        else:\n",
    "            return\n",
    "\n",
    "    if T[-1] == 'A':\n",
    "        dfs(S, T[:-1])\n",
    "    if T[0] == 'B':\n",
    "        dfs(S, T[::-1][:-1])\n",
    "\n",
    "dfs(S, T)\n",
    "print(0)"
   ]
  },
  {
   "cell_type": "code",
   "execution_count": null,
   "metadata": {},
   "outputs": [],
   "source": []
  }
 ],
 "metadata": {
  "kernelspec": {
   "display_name": "Python 3",
   "language": "python",
   "name": "python3"
  },
  "language_info": {
   "codemirror_mode": {
    "name": "ipython",
    "version": 3
   },
   "file_extension": ".py",
   "mimetype": "text/x-python",
   "name": "python",
   "nbconvert_exporter": "python",
   "pygments_lexer": "ipython3",
   "version": "3.11.8"
  }
 },
 "nbformat": 4,
 "nbformat_minor": 2
}
