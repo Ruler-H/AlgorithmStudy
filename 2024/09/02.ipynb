{
 "cells": [
  {
   "cell_type": "code",
   "execution_count": null,
   "metadata": {},
   "outputs": [],
   "source": [
    "# 백준 15661번 - 링크와 스타트\n",
    "import sys\n",
    "# input = sys.stdin.readline\n",
    "from itertools import combinations\n",
    "\n",
    "N = int(input())\n",
    "S = [list(map(int, input().split())) for _ in range(N)]"
   ]
  },
  {
   "cell_type": "code",
   "execution_count": null,
   "metadata": {},
   "outputs": [],
   "source": [
    "members = [i for i in range(N)]\n",
    "team = []\n",
    "result = 1000000000\n",
    "\n",
    "for i in range(1, N//2+1):\n",
    "    team.extend(list(combinations(members, i)))\n",
    "\n",
    "for t in team:\n",
    "    start = list(t)\n",
    "    link = list(set(members) - set(t))\n",
    "    start_comb = list(combinations(start, 2))\n",
    "    link_comb = list(combinations(link, 2))\n",
    "    start_sum = 0\n",
    "    link_sum = 0\n",
    "    for x, y in start_comb:\n",
    "        start_sum += S[x][y] + S[y][x]\n",
    "    for x, y in link_comb:\n",
    "        link_sum += S[x][y] + S[y][x]\n",
    "    result = min(result, abs(start_sum - link_sum))\n",
    "\n",
    "print(result)"
   ]
  },
  {
   "cell_type": "code",
   "execution_count": null,
   "metadata": {},
   "outputs": [],
   "source": []
  },
  {
   "cell_type": "code",
   "execution_count": null,
   "metadata": {},
   "outputs": [],
   "source": []
  },
  {
   "cell_type": "code",
   "execution_count": null,
   "metadata": {},
   "outputs": [],
   "source": []
  }
 ],
 "metadata": {
  "kernelspec": {
   "display_name": "Python 3",
   "language": "python",
   "name": "python3"
  },
  "language_info": {
   "codemirror_mode": {
    "name": "ipython",
    "version": 3
   },
   "file_extension": ".py",
   "mimetype": "text/x-python",
   "name": "python",
   "nbconvert_exporter": "python",
   "pygments_lexer": "ipython3",
   "version": "3.11.8"
  }
 },
 "nbformat": 4,
 "nbformat_minor": 2
}
