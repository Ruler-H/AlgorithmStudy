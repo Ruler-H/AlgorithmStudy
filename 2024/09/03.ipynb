{
 "cells": [
  {
   "cell_type": "code",
   "execution_count": null,
   "metadata": {},
   "outputs": [],
   "source": [
    "# 백준 7490번 - 0 만들기\n",
    "import sys\n",
    "# input = sys.stdin.readline\n",
    "\n",
    "t = int(input())"
   ]
  },
  {
   "cell_type": "code",
   "execution_count": null,
   "metadata": {},
   "outputs": [],
   "source": [
    "def dfs(n, num, op, string):\n",
    "    if n == num:\n",
    "        if eval(string.replace(\" \", \"\")) == 0:\n",
    "            print(string)\n",
    "        return\n",
    "    dfs(n, num+1, op, string + \" \" + str(num+1))\n",
    "    dfs(n, num+1, op + \"+\", string + \"+\" + str(num+1))\n",
    "    dfs(n, num+1, op + \"-\", string + \"-\" + str(num+1))\n",
    "\n",
    "for _ in range(t):\n",
    "    n = int(input())\n",
    "    dfs(n, 1, \"\", \"1\") \n",
    "    print()"
   ]
  },
  {
   "cell_type": "code",
   "execution_count": null,
   "metadata": {},
   "outputs": [],
   "source": []
  }
 ],
 "metadata": {
  "kernelspec": {
   "display_name": "Python 3",
   "language": "python",
   "name": "python3"
  },
  "language_info": {
   "codemirror_mode": {
    "name": "ipython",
    "version": 3
   },
   "file_extension": ".py",
   "mimetype": "text/x-python",
   "name": "python",
   "nbconvert_exporter": "python",
   "pygments_lexer": "ipython3",
   "version": "3.11.8"
  }
 },
 "nbformat": 4,
 "nbformat_minor": 2
}
