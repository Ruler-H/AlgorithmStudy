{
 "cells": [
  {
   "cell_type": "code",
   "execution_count": 12,
   "metadata": {},
   "outputs": [],
   "source": [
    "# 백준 17836번 - 공주님을 구해라!\n",
    "import sys\n",
    "# input = sys.stdin.readline\n",
    "from collections import deque\n",
    "\n",
    "n, m, t = map(int, input().split())\n",
    "field = [list(map(int, input().split())) for _ in range(n)]"
   ]
  },
  {
   "cell_type": "code",
   "execution_count": null,
   "metadata": {},
   "outputs": [],
   "source": [
    "def bfs(has_gram, go_to_gram):\n",
    "    global answer, queue\n",
    "    \n",
    "    dx = [0, 0, -1, 1]\n",
    "    dy = [-1, 1, 0, 0]\n",
    "    \n",
    "    visited = [[False] * m for _ in range(n)]\n",
    "    visited[0][0] = True\n",
    "    \n",
    "    while queue:\n",
    "        count, x, y = queue.popleft()\n",
    "        \n",
    "        if go_to_gram:\n",
    "            if field[y][x] == 2:\n",
    "                queue = deque([(count, x, y)])\n",
    "                return bfs(True, False)\t\n",
    "        else:\n",
    "            if x == m - 1 and y == n - 1:\n",
    "                return count\n",
    "            \n",
    "        for i in range(4):\n",
    "            nx, ny = x + dx[i], y + dy[i]\n",
    "            \n",
    "            if nx < 0 or nx >= m or ny < 0 or ny >= n or visited[ny][nx]:\n",
    "                continue\n",
    "            if not has_gram and field[ny][nx] == 1:\n",
    "                continue\n",
    "            queue.append((count + 1, nx, ny))\n",
    "            visited[ny][nx] = True\n",
    "            \n",
    "    return t + 1\n",
    "        \n",
    "queue = deque([(0, 0, 0)])\n",
    "route1 = bfs(False, False)  \n",
    "\n",
    "queue = deque([(0, 0, 0)])\n",
    "route2 = bfs(False, True)   \n",
    "\n",
    "answer = min(route1, route2)\n",
    "\n",
    "if answer <= t:\n",
    "    print(answer)\n",
    "else:\n",
    "    print('Fail')"
   ]
  },
  {
   "cell_type": "code",
   "execution_count": null,
   "metadata": {},
   "outputs": [],
   "source": []
  }
 ],
 "metadata": {
  "kernelspec": {
   "display_name": "Python 3",
   "language": "python",
   "name": "python3"
  },
  "language_info": {
   "codemirror_mode": {
    "name": "ipython",
    "version": 3
   },
   "file_extension": ".py",
   "mimetype": "text/x-python",
   "name": "python",
   "nbconvert_exporter": "python",
   "pygments_lexer": "ipython3",
   "version": "3.11.8"
  }
 },
 "nbformat": 4,
 "nbformat_minor": 2
}
