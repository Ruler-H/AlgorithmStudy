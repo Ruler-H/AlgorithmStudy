{
 "cells": [
  {
   "cell_type": "code",
   "execution_count": 8,
   "metadata": {},
   "outputs": [],
   "source": [
    "# 백준 1722번 - 순열의 순서\n",
    "import sys\n",
    "# input = sys.stdin.readline\n",
    "\n",
    "N = int(input())\n",
    "order = list(map(int, input().split()))"
   ]
  },
  {
   "cell_type": "code",
   "execution_count": null,
   "metadata": {},
   "outputs": [],
   "source": [
    "if order[0] == 1:\n",
    "    k = order[1]\n",
    "    arr = [i for i in range(1, N+1)]\n",
    "    for i in range(N-1, 0, -1):\n",
    "        fact = 1\n",
    "        for j in range(1, i+1):\n",
    "            fact *= j\n",
    "        idx = (k-1) // fact\n",
    "        print(arr.pop(idx), end=' ')\n",
    "        k -= fact * idx\n",
    "    print(arr[0])\n",
    "elif order[0] == 2:\n",
    "    perm = order[1:]\n",
    "    arr = [i for i in range(1, N+1)]\n",
    "    fact = [1] * N\n",
    "    for i in range(1, N):\n",
    "        fact[i] = fact[i-1] * i\n",
    "    k = 1\n",
    "    for i in range(N-1):\n",
    "        idx = arr.index(perm[i])\n",
    "        k += fact[N-1-i] * idx\n",
    "        arr.pop(idx)\n",
    "    print(k)"
   ]
  },
  {
   "cell_type": "code",
   "execution_count": null,
   "metadata": {},
   "outputs": [],
   "source": []
  }
 ],
 "metadata": {
  "kernelspec": {
   "display_name": "Python 3",
   "language": "python",
   "name": "python3"
  },
  "language_info": {
   "codemirror_mode": {
    "name": "ipython",
    "version": 3
   },
   "file_extension": ".py",
   "mimetype": "text/x-python",
   "name": "python",
   "nbconvert_exporter": "python",
   "pygments_lexer": "ipython3",
   "version": "3.11.8"
  }
 },
 "nbformat": 4,
 "nbformat_minor": 2
}
