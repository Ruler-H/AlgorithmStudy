{
 "cells": [
  {
   "cell_type": "code",
   "execution_count": 40,
   "metadata": {},
   "outputs": [],
   "source": [
    "# 백준 21758번 - 꿀 따기\n",
    "import sys\n",
    "# input = sys.stdin.readline\n",
    "\n",
    "N = int(input())\n",
    "honey = list(map(int, input().split()))"
   ]
  },
  {
   "cell_type": "code",
   "execution_count": null,
   "metadata": {},
   "outputs": [],
   "source": [
    "# 누적 합 계산\n",
    "prefix_sum = [0] * (N)\n",
    "prefix_sum[0] = honey[0]\n",
    "for i in range(1, N):\n",
    "    prefix_sum[i] = prefix_sum[i-1] + honey[i]\n",
    "\n",
    "total_honey = prefix_sum[-1]\n",
    "max_honey = 0\n",
    "# 1. 벌-벌-꿀통\n",
    "for i in range(1, N-1):\n",
    "    max_honey = max(max_honey, (total_honey - honey[0] - honey[i]) + (total_honey - prefix_sum[i]))\n",
    "\n",
    "# 2. 꿀통-벌-벌\n",
    "for i in range(1, N-1):\n",
    "    max_honey = max(max_honey, (prefix_sum[i-1]) + (total_honey - honey[i] - honey[-1]))\n",
    "\n",
    "# 3. 벌-꿀통-벌\n",
    "for i in range(1, N-1):\n",
    "    max_honey = max(max_honey, (prefix_sum[i] - honey[0]) + (total_honey - prefix_sum[i-1] - honey[-1]))\n",
    "\n",
    "print(max_honey)"
   ]
  },
  {
   "cell_type": "code",
   "execution_count": null,
   "metadata": {},
   "outputs": [],
   "source": []
  }
 ],
 "metadata": {
  "kernelspec": {
   "display_name": "Python 3",
   "language": "python",
   "name": "python3"
  },
  "language_info": {
   "codemirror_mode": {
    "name": "ipython",
    "version": 3
   },
   "file_extension": ".py",
   "mimetype": "text/x-python",
   "name": "python",
   "nbconvert_exporter": "python",
   "pygments_lexer": "ipython3",
   "version": "3.11.8"
  }
 },
 "nbformat": 4,
 "nbformat_minor": 2
}
