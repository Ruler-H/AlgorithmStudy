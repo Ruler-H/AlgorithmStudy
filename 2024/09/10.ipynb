{
 "cells": [
  {
   "cell_type": "code",
   "execution_count": 23,
   "metadata": {},
   "outputs": [],
   "source": [
    "# 백준 1456번 - 거의 소수\n",
    "import sys\n",
    "# input = sys.stdin.readline\n",
    "\n",
    "A, B = map(int, input().split())"
   ]
  },
  {
   "cell_type": "code",
   "execution_count": null,
   "metadata": {},
   "outputs": [],
   "source": [
    "sqrt_B = int(B ** 0.5)\n",
    "prime = [True] * (sqrt_B + 1)\n",
    "prime[0] = prime[1] = False\n",
    "\n",
    "for i in range(2, int(sqrt_B ** 0.5) + 1):\n",
    "    if prime[i]:\n",
    "        for j in range(i * i, sqrt_B + 1, i):\n",
    "            prime[j] = False\n",
    "\n",
    "result = 0\n",
    "for i in range(2, sqrt_B + 1):\n",
    "    if prime[i]:\n",
    "        power = i * i\n",
    "        while power <= B:\n",
    "            if power >= A:\n",
    "                result += 1\n",
    "            power *= i\n",
    "        \n",
    "print(result)"
   ]
  },
  {
   "cell_type": "code",
   "execution_count": null,
   "metadata": {},
   "outputs": [],
   "source": []
  }
 ],
 "metadata": {
  "kernelspec": {
   "display_name": "Python 3",
   "language": "python",
   "name": "python3"
  },
  "language_info": {
   "codemirror_mode": {
    "name": "ipython",
    "version": 3
   },
   "file_extension": ".py",
   "mimetype": "text/x-python",
   "name": "python",
   "nbconvert_exporter": "python",
   "pygments_lexer": "ipython3",
   "version": "3.11.8"
  }
 },
 "nbformat": 4,
 "nbformat_minor": 2
}
