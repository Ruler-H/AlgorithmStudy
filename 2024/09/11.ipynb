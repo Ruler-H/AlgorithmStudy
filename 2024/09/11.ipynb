{
 "cells": [
  {
   "cell_type": "code",
   "execution_count": 1,
   "metadata": {},
   "outputs": [],
   "source": [
    "# 백준 2116번 - 주사위 쌓기\n",
    "import sys\n",
    "# input = sys.stdin.readline\n",
    "\n",
    "dice_cnt = int(input())\n",
    "dices = [list(map(int, input().split())) for _ in range(dice_cnt)]"
   ]
  },
  {
   "cell_type": "code",
   "execution_count": null,
   "metadata": {},
   "outputs": [],
   "source": [
    "for i in range(dice_cnt):\n",
    "    dices[i][3], dices[i][4] = dices[i][4], dices[i][3]\n",
    "max_sum = 0\n",
    "for i in range(6):\n",
    "    surf_sum = max(filter(lambda x: x != dices[0][i] and x != dices[0][5-i], range(1, 7)))\n",
    "    top = dices[0][i]\n",
    "    for j in range(1, dice_cnt):\n",
    "        for k in range(6):\n",
    "            if dices[j][k] == top:\n",
    "                top = dices[j][5-k]\n",
    "                break\n",
    "        surf_sum += max(filter(lambda x: x != dices[j][k] and x != dices[j][5-k], range(1, 7)))\n",
    "    max_sum = max(max_sum, surf_sum)\n",
    "print(max_sum)"
   ]
  },
  {
   "cell_type": "code",
   "execution_count": null,
   "metadata": {},
   "outputs": [],
   "source": []
  }
 ],
 "metadata": {
  "kernelspec": {
   "display_name": "Python 3",
   "language": "python",
   "name": "python3"
  },
  "language_info": {
   "codemirror_mode": {
    "name": "ipython",
    "version": 3
   },
   "file_extension": ".py",
   "mimetype": "text/x-python",
   "name": "python",
   "nbconvert_exporter": "python",
   "pygments_lexer": "ipython3",
   "version": "3.11.8"
  }
 },
 "nbformat": 4,
 "nbformat_minor": 2
}
