{
 "cells": [
  {
   "cell_type": "code",
   "execution_count": 1,
   "metadata": {},
   "outputs": [],
   "source": [
    "# 백준 1911번 - 흙길 보수하기\n",
    "import sys\n",
    "# input = sys.stdin.readline\n",
    "\n",
    "N, L = map(int, input().split())\n",
    "loads = [list(map(int, input().split())) for _ in range(N)]"
   ]
  },
  {
   "cell_type": "code",
   "execution_count": null,
   "metadata": {},
   "outputs": [],
   "source": [
    "loads.sort(key=lambda x: x[0])\n",
    "\n",
    "result = 0\n",
    "end = 0\n",
    "for start, finish in loads:\n",
    "    if end < start:\n",
    "        end = start\n",
    "    distance = finish - end\n",
    "    if distance > 0:\n",
    "        count = (distance + L - 1) // L\n",
    "        result += count\n",
    "        end += count * L\n",
    "\n",
    "print(result)"
   ]
  },
  {
   "cell_type": "code",
   "execution_count": null,
   "metadata": {},
   "outputs": [],
   "source": []
  }
 ],
 "metadata": {
  "kernelspec": {
   "display_name": "Python 3",
   "language": "python",
   "name": "python3"
  },
  "language_info": {
   "codemirror_mode": {
    "name": "ipython",
    "version": 3
   },
   "file_extension": ".py",
   "mimetype": "text/x-python",
   "name": "python",
   "nbconvert_exporter": "python",
   "pygments_lexer": "ipython3",
   "version": "3.11.8"
  }
 },
 "nbformat": 4,
 "nbformat_minor": 2
}
