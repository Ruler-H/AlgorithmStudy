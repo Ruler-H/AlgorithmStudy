{
 "cells": [
  {
   "cell_type": "code",
   "execution_count": 1,
   "metadata": {},
   "outputs": [],
   "source": [
    "# 백준 1374번 - 강의실\n",
    "import sys\n",
    "# input = sys.stdin.readline\n",
    "import heapq\n",
    "\n",
    "N = int(input())\n",
    "times = [list(map(int, input().split())) for _ in range(N)]"
   ]
  },
  {
   "cell_type": "code",
   "execution_count": null,
   "metadata": {},
   "outputs": [],
   "source": [
    "times.sort(key=lambda x: (x[1]))\n",
    "\n",
    "classroom = []\n",
    "for _, start, end in times:\n",
    "    if classroom and classroom[0] <= start:\n",
    "        heapq.heappop(classroom)\n",
    "    heapq.heappush(classroom, end)\n",
    "\n",
    "print(len(classroom))"
   ]
  },
  {
   "cell_type": "code",
   "execution_count": null,
   "metadata": {},
   "outputs": [],
   "source": []
  }
 ],
 "metadata": {
  "kernelspec": {
   "display_name": "Python 3",
   "language": "python",
   "name": "python3"
  },
  "language_info": {
   "codemirror_mode": {
    "name": "ipython",
    "version": 3
   },
   "file_extension": ".py",
   "mimetype": "text/x-python",
   "name": "python",
   "nbconvert_exporter": "python",
   "pygments_lexer": "ipython3",
   "version": "3.11.8"
  }
 },
 "nbformat": 4,
 "nbformat_minor": 2
}
