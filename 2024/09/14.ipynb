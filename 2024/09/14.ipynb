{
 "cells": [
  {
   "cell_type": "code",
   "execution_count": 6,
   "metadata": {},
   "outputs": [],
   "source": [
    "# 백준 14728번 - 벼락치기\n",
    "import sys\n",
    "# input = sys.stdin.readline\n",
    "\n",
    "N, T = map(int, input().split())\n",
    "infoes = [[0, 0]]\n",
    "infoes += [list(map(int, input().split())) for _ in range(N)]"
   ]
  },
  {
   "cell_type": "code",
   "execution_count": null,
   "metadata": {},
   "outputs": [],
   "source": [
    "dp = [[0] * (T+1) for _ in range(N+1)]\n",
    "\n",
    "for i in range(1, N+1):\n",
    "    for j in range(1, T+1):\n",
    "        if j >= infoes[i-1][0]:\n",
    "            dp[i][j] = max(dp[i-1][j], dp[i-1][j-infoes[i-1][0]] + infoes[i-1][1])\n",
    "        else:\n",
    "            dp[i][j] = dp[i-1][j]\n",
    "\n",
    "print(dp[N][T])"
   ]
  },
  {
   "cell_type": "code",
   "execution_count": null,
   "metadata": {},
   "outputs": [],
   "source": []
  }
 ],
 "metadata": {
  "kernelspec": {
   "display_name": "Python 3",
   "language": "python",
   "name": "python3"
  },
  "language_info": {
   "codemirror_mode": {
    "name": "ipython",
    "version": 3
   },
   "file_extension": ".py",
   "mimetype": "text/x-python",
   "name": "python",
   "nbconvert_exporter": "python",
   "pygments_lexer": "ipython3",
   "version": "3.11.8"
  }
 },
 "nbformat": 4,
 "nbformat_minor": 2
}
