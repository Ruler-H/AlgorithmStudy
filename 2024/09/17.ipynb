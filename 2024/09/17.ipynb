{
 "cells": [
  {
   "cell_type": "code",
   "execution_count": 20,
   "metadata": {},
   "outputs": [],
   "source": [
    "# 백준 15591번 - 2024/09/16.ipynb\n",
    "import sys\n",
    "# input = sys.stdin.readline\n",
    "from collections import deque\n",
    "\n",
    "N, Q = map(int, input().split())\n",
    "graph = [[] for _ in range(N + 1)]\n",
    "\n",
    "for _ in range(N - 1):\n",
    "    p, q, r = map(int, input().split())\n",
    "    graph[p].append((q, r))\n",
    "    graph[q].append((p, r))"
   ]
  },
  {
   "cell_type": "code",
   "execution_count": null,
   "metadata": {},
   "outputs": [],
   "source": [
    "def bfs(start, k):\n",
    "    visited = [False] * (N + 1)\n",
    "    visited[start] = True\n",
    "    queue = deque([(start, float('inf'))])\n",
    "    count = 0\n",
    "\n",
    "    while queue:\n",
    "        node, min_usado = queue.popleft()\n",
    "        for next_node, usado in graph[node]:\n",
    "            new_min_usado = min(min_usado, usado)\n",
    "            if not visited[next_node] and new_min_usado >= k:\n",
    "                visited[next_node] = True\n",
    "                queue.append((next_node, new_min_usado))\n",
    "                count += 1\n",
    "\n",
    "    return count\n",
    "\n",
    "\n",
    "for _ in range(Q):\n",
    "    k, v = map(int, input().split())\n",
    "    print(bfs(v, k))"
   ]
  },
  {
   "cell_type": "code",
   "execution_count": null,
   "metadata": {},
   "outputs": [],
   "source": []
  }
 ],
 "metadata": {
  "kernelspec": {
   "display_name": "Python 3",
   "language": "python",
   "name": "python3"
  },
  "language_info": {
   "codemirror_mode": {
    "name": "ipython",
    "version": 3
   },
   "file_extension": ".py",
   "mimetype": "text/x-python",
   "name": "python",
   "nbconvert_exporter": "python",
   "pygments_lexer": "ipython3",
   "version": "3.11.8"
  }
 },
 "nbformat": 4,
 "nbformat_minor": 2
}
