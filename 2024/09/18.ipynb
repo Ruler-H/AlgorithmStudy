{
 "cells": [
  {
   "cell_type": "code",
   "execution_count": 22,
   "metadata": {},
   "outputs": [],
   "source": [
    "# 백준 1484번 - 다이어트\n",
    "import sys\n",
    "# input = sys.stdin.readline\n",
    "\n",
    "G = int(input())"
   ]
  },
  {
   "cell_type": "code",
   "execution_count": null,
   "metadata": {},
   "outputs": [],
   "source": [
    "start = 1\n",
    "end = 2\n",
    "result = []\n",
    "\n",
    "while start < end:\n",
    "    temp = end ** 2 - start ** 2\n",
    "    if temp == G:\n",
    "        result.append(end)\n",
    "        end += 1\n",
    "    elif temp < G:\n",
    "        end += 1\n",
    "    else:\n",
    "        start += 1\n",
    "\n",
    "if not result:\n",
    "    print(-1)\n",
    "else:\n",
    "    for i in result:\n",
    "        print(i)"
   ]
  },
  {
   "cell_type": "code",
   "execution_count": null,
   "metadata": {},
   "outputs": [],
   "source": []
  }
 ],
 "metadata": {
  "kernelspec": {
   "display_name": "Python 3",
   "language": "python",
   "name": "python3"
  },
  "language_info": {
   "codemirror_mode": {
    "name": "ipython",
    "version": 3
   },
   "file_extension": ".py",
   "mimetype": "text/x-python",
   "name": "python",
   "nbconvert_exporter": "python",
   "pygments_lexer": "ipython3",
   "version": "3.11.8"
  }
 },
 "nbformat": 4,
 "nbformat_minor": 2
}
