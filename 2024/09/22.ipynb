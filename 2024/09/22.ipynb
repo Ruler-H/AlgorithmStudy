{
 "cells": [
  {
   "cell_type": "code",
   "execution_count": 5,
   "metadata": {},
   "outputs": [],
   "source": [
    "# 백준 20437번 - 문자열 게임 2\n",
    "import sys\n",
    "# input = sys.stdin.readline\n",
    "from collections import defaultdict\n",
    "\n",
    "T = int(input())"
   ]
  },
  {
   "cell_type": "code",
   "execution_count": null,
   "metadata": {},
   "outputs": [],
   "source": [
    "for _ in range(T):\n",
    "    W = input().strip()\n",
    "    K = int(input())\n",
    "    min_length = 10001\n",
    "    max_length = 0\n",
    "\n",
    "    char_dict = defaultdict(list)\n",
    "    for i, char in enumerate(W):\n",
    "        char_dict[char].append(i)\n",
    "        \n",
    "    for positions in char_dict.values():\n",
    "        if len(positions) >= K:\n",
    "            for i in range(len(positions) - K + 1):\n",
    "                length = positions[i + K - 1] - positions[i] + 1\n",
    "                min_length = min(min_length, length)\n",
    "                max_length = max(max_length, length)\n",
    "\n",
    "    if min_length == 10001:\n",
    "        print(-1)\n",
    "    else:\n",
    "        print(min_length, max_length)"
   ]
  },
  {
   "cell_type": "code",
   "execution_count": null,
   "metadata": {},
   "outputs": [],
   "source": []
  }
 ],
 "metadata": {
  "kernelspec": {
   "display_name": "Python 3",
   "language": "python",
   "name": "python3"
  },
  "language_info": {
   "codemirror_mode": {
    "name": "ipython",
    "version": 3
   },
   "file_extension": ".py",
   "mimetype": "text/x-python",
   "name": "python",
   "nbconvert_exporter": "python",
   "pygments_lexer": "ipython3",
   "version": "3.11.8"
  }
 },
 "nbformat": 4,
 "nbformat_minor": 2
}
