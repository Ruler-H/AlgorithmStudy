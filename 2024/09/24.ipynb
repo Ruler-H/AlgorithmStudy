{
 "cells": [
  {
   "cell_type": "code",
   "execution_count": null,
   "metadata": {},
   "outputs": [],
   "source": [
    "# 백준 14502번 - 연구소\n",
    "import sys\n",
    "# input = sys.stdin.readline\n",
    "from collections import deque\n",
    "\n",
    "N, M = map(int, input().split())\n",
    "graph = [list(map(int, input().split())) for _ in range(N)]"
   ]
  },
  {
   "cell_type": "code",
   "execution_count": null,
   "metadata": {},
   "outputs": [],
   "source": [
    "dxy = [(0, 1), (0, -1), (1, 0), (-1, 0)]\n",
    "answer = 0\n",
    "\n",
    "viruses = []\n",
    "empty_spaces = []\n",
    "for i in range(N):\n",
    "    for j in range(M):\n",
    "        if graph[i][j] == 2:\n",
    "            viruses.append((i, j))\n",
    "        elif graph[i][j] == 0:\n",
    "            empty_spaces.append((i, j))\n",
    "\n",
    "def bfs():\n",
    "    global answer\n",
    "    temp = [row[:] for row in graph]\n",
    "    queue = deque(viruses)\n",
    "    \n",
    "    while queue:\n",
    "        x, y = queue.popleft()\n",
    "        for dx, dy in dxy:\n",
    "            nx, ny = x + dx, y + dy\n",
    "            if 0 <= nx < N and 0 <= ny < M and temp[nx][ny] == 0:\n",
    "                temp[nx][ny] = 2\n",
    "                queue.append((nx, ny))\n",
    "    \n",
    "    cnt = sum(row.count(0) for row in temp)\n",
    "    answer = max(answer, cnt)\n",
    "\n",
    "def wall(cnt):\n",
    "    if cnt == 3:\n",
    "        bfs()\n",
    "        return\n",
    "    for i in range(len(empty_spaces)):\n",
    "        x, y = empty_spaces[i]\n",
    "        if graph[x][y] == 0:\n",
    "            graph[x][y] = 1\n",
    "            wall(cnt + 1)\n",
    "            graph[x][y] = 0\n",
    "\n",
    "wall(0)\n",
    "print(answer)"
   ]
  },
  {
   "cell_type": "code",
   "execution_count": null,
   "metadata": {},
   "outputs": [],
   "source": []
  }
 ],
 "metadata": {
  "kernelspec": {
   "display_name": "Python 3",
   "language": "python",
   "name": "python3"
  },
  "language_info": {
   "codemirror_mode": {
    "name": "ipython",
    "version": 3
   },
   "file_extension": ".py",
   "mimetype": "text/x-python",
   "name": "python",
   "nbconvert_exporter": "python",
   "pygments_lexer": "ipython3",
   "version": "3.11.8"
  }
 },
 "nbformat": 4,
 "nbformat_minor": 2
}
