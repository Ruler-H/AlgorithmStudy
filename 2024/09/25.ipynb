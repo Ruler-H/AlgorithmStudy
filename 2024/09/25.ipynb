{
 "cells": [
  {
   "cell_type": "code",
   "execution_count": 5,
   "metadata": {},
   "outputs": [],
   "source": [
    "# 백준 1753번 - 최단경로\n",
    "import sys\n",
    "# input = sys.stdin.readline\n",
    "import heapq\n",
    "\n",
    "V, E = map(int, input().split())\n",
    "K = int(input())\n",
    "graph = [[] for _ in range(V)]\n",
    "for _ in range(E):\n",
    "    u, v, w = map(int, input().split())\n",
    "    graph[u-1].append((v-1, w))"
   ]
  },
  {
   "cell_type": "code",
   "execution_count": null,
   "metadata": {},
   "outputs": [],
   "source": [
    "def dijkstra(graph, start):\n",
    "    distance = [float('inf')] * len(graph)\n",
    "    distance[start] = 0\n",
    "    heap = []\n",
    "    heapq.heappush(heap, (0, start))\n",
    "\n",
    "    while heap:\n",
    "        dist, node = heapq.heappop(heap)\n",
    "        if distance[node] < dist:\n",
    "            continue\n",
    "        for v, w in graph[node]:\n",
    "            new_dist = dist + w\n",
    "            if new_dist < distance[v]:\n",
    "                distance[v] = new_dist\n",
    "                heapq.heappush(heap, (new_dist, v))\n",
    "    return distance\n",
    "\n",
    "result = dijkstra(graph, K-1)\n",
    "\n",
    "for i in result:\n",
    "    if i == float('inf'):\n",
    "        print(\"INF\")\n",
    "    else:\n",
    "        print(i)"
   ]
  },
  {
   "cell_type": "code",
   "execution_count": null,
   "metadata": {},
   "outputs": [],
   "source": []
  }
 ],
 "metadata": {
  "kernelspec": {
   "display_name": "Python 3",
   "language": "python",
   "name": "python3"
  },
  "language_info": {
   "codemirror_mode": {
    "name": "ipython",
    "version": 3
   },
   "file_extension": ".py",
   "mimetype": "text/x-python",
   "name": "python",
   "nbconvert_exporter": "python",
   "pygments_lexer": "ipython3",
   "version": "3.11.8"
  }
 },
 "nbformat": 4,
 "nbformat_minor": 2
}
