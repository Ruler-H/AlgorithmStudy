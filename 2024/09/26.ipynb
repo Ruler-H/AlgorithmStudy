{
 "cells": [
  {
   "cell_type": "code",
   "execution_count": 5,
   "metadata": {},
   "outputs": [],
   "source": [
    "# 백준 14500번 - 테트로미노\n",
    "import sys\n",
    "# input = sys.stdin.readline\n",
    "\n",
    "N, M = map(int, input().split())\n",
    "board = [list(map(int, input().split())) for _ in range(N)]"
   ]
  },
  {
   "cell_type": "code",
   "execution_count": null,
   "metadata": {},
   "outputs": [],
   "source": [
    "def dfs(x, y, idx, total):\n",
    "    global ans\n",
    "    if ans >= total + max_val * (3 - idx):\n",
    "        return\n",
    "    if idx == 3:\n",
    "        ans = max(ans, total)\n",
    "        return\n",
    "    else:\n",
    "        for i in range(4):\n",
    "            nx = x + dx[i]\n",
    "            ny = y + dy[i]\n",
    "            if 0 <= nx < N and 0 <= ny < M and not visited[nx][ny]:\n",
    "                if idx == 1:\n",
    "                    visited[nx][ny] = 1\n",
    "                    dfs(x, y, idx + 1, total + board[nx][ny])\n",
    "                    visited[nx][ny] = 0\n",
    "                visited[nx][ny] = 1\n",
    "                dfs(nx, ny, idx + 1, total + board[nx][ny])\n",
    "                visited[nx][ny] = 0\n",
    "\n",
    "visited = [[0] * M for _ in range(N)]\n",
    "dx = [0, 0, 1, -1]\n",
    "dy = [1, -1, 0, 0]\n",
    "ans = 0\n",
    "max_val = max(map(max, board))\n",
    "\n",
    "for i in range(N):\n",
    "    for j in range(M):\n",
    "        visited[i][j] = 1\n",
    "        dfs(i, j, 0, board[i][j])\n",
    "        visited[i][j] = 0\n",
    "\n",
    "print(ans)"
   ]
  },
  {
   "cell_type": "code",
   "execution_count": null,
   "metadata": {},
   "outputs": [],
   "source": [
    "len(tetromino)"
   ]
  },
  {
   "cell_type": "code",
   "execution_count": null,
   "metadata": {},
   "outputs": [],
   "source": []
  }
 ],
 "metadata": {
  "kernelspec": {
   "display_name": "Python 3",
   "language": "python",
   "name": "python3"
  },
  "language_info": {
   "codemirror_mode": {
    "name": "ipython",
    "version": 3
   },
   "file_extension": ".py",
   "mimetype": "text/x-python",
   "name": "python",
   "nbconvert_exporter": "python",
   "pygments_lexer": "ipython3",
   "version": "3.11.8"
  }
 },
 "nbformat": 4,
 "nbformat_minor": 2
}
