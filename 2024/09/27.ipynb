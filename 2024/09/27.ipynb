{
 "cells": [
  {
   "cell_type": "code",
   "execution_count": 5,
   "metadata": {},
   "outputs": [],
   "source": [
    "# 백준 1987번 - 알파벳\n",
    "import sys\n",
    "# input = sys.stdin.readline\n",
    "from collections import deque\n",
    "\n",
    "R, C = map(int, input().split())\n",
    "board = [list(input().strip()) for _ in range(R)]"
   ]
  },
  {
   "cell_type": "code",
   "execution_count": null,
   "metadata": {},
   "outputs": [],
   "source": [
    "def bfs():\n",
    "    queue = deque([(0, 0, 1 << (ord(board[0][0]) - ord('A')))])\n",
    "    visited = {(0, 0, 1 << (ord(board[0][0]) - ord('A')))}\n",
    "    max_count = 1\n",
    "\n",
    "    while queue:\n",
    "        x, y, bit = queue.popleft()\n",
    "        max_count = max(max_count, bin(bit).count('1'))\n",
    "\n",
    "        for dx, dy in [(0, 1), (1, 0), (0, -1), (-1, 0)]:\n",
    "            nx, ny = x + dx, y + dy\n",
    "            if 0 <= nx < R and 0 <= ny < C:\n",
    "                n_bit = bit | (1 << (ord(board[nx][ny]) - ord('A')))\n",
    "                if n_bit != bit and (nx, ny, n_bit) not in visited:\n",
    "                    visited.add((nx, ny, n_bit))\n",
    "                    queue.append((nx, ny, n_bit))\n",
    "\n",
    "    return max_count\n",
    "\n",
    "print(bfs())"
   ]
  },
  {
   "cell_type": "code",
   "execution_count": null,
   "metadata": {},
   "outputs": [],
   "source": []
  }
 ],
 "metadata": {
  "kernelspec": {
   "display_name": "Python 3",
   "language": "python",
   "name": "python3"
  },
  "language_info": {
   "codemirror_mode": {
    "name": "ipython",
    "version": 3
   },
   "file_extension": ".py",
   "mimetype": "text/x-python",
   "name": "python",
   "nbconvert_exporter": "python",
   "pygments_lexer": "ipython3",
   "version": "3.11.8"
  }
 },
 "nbformat": 4,
 "nbformat_minor": 2
}
