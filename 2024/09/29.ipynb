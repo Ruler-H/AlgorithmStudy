{
 "cells": [
  {
   "cell_type": "code",
   "execution_count": 1,
   "metadata": {},
   "outputs": [],
   "source": [
    "# 백준 11054번 - 가장 긴 바이토닉 부분 수열\n",
    "import sys\n",
    "# input = sys.stdin.readline\n",
    "\n",
    "N = int(input())\n",
    "arr = list(map(int, input().split()))"
   ]
  },
  {
   "cell_type": "code",
   "execution_count": null,
   "metadata": {},
   "outputs": [],
   "source": [
    "long_up = [1] * N\n",
    "long_down = [1] * N\n",
    "\n",
    "for i in range(N):\n",
    "    for j in range(i):\n",
    "        if arr[i] > arr[j]:\n",
    "            long_up[i] = max(long_up[i], long_up[j] + 1)\n",
    "\n",
    "for i in range(N-1, -1, -1):\n",
    "    for j in range(N-1, i, -1):\n",
    "        if arr[i] > arr[j]:\n",
    "            long_down[i] = max(long_down[i], long_down[j] + 1)\n",
    "\n",
    "result = [0] * N\n",
    "for i in range(N):\n",
    "    result[i] = long_up[i] + long_down[i] - 1\n",
    "\n",
    "print(max(result))"
   ]
  },
  {
   "cell_type": "code",
   "execution_count": null,
   "metadata": {},
   "outputs": [],
   "source": []
  }
 ],
 "metadata": {
  "kernelspec": {
   "display_name": "Python 3",
   "language": "python",
   "name": "python3"
  },
  "language_info": {
   "codemirror_mode": {
    "name": "ipython",
    "version": 3
   },
   "file_extension": ".py",
   "mimetype": "text/x-python",
   "name": "python",
   "nbconvert_exporter": "python",
   "pygments_lexer": "ipython3",
   "version": "3.11.8"
  }
 },
 "nbformat": 4,
 "nbformat_minor": 2
}
