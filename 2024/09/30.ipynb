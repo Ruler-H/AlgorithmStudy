{
 "cells": [
  {
   "cell_type": "code",
   "execution_count": 1,
   "metadata": {},
   "outputs": [],
   "source": [
    "# 백준 3190번 - 뱀\n",
    "import sys\n",
    "# input = sys.stdin.readline\n",
    "\n",
    "N = int(input())\n",
    "K = int(input())\n",
    "board = [[0] * N for _ in range(N)]\n",
    "for _ in range(K):\n",
    "    x, y = map(int, input().split())\n",
    "    board[x-1][y-1] = 1\n",
    "\n",
    "L = int(input())\n",
    "direction = []\n",
    "for _ in range(L):\n",
    "    x, c = input().split()\n",
    "    direction.append((int(x), c))"
   ]
  },
  {
   "cell_type": "code",
   "execution_count": null,
   "metadata": {},
   "outputs": [],
   "source": [
    "dxy = [(0, 1), (1, 0), (0, -1), (-1, 0)]\n",
    "snake = [(0, 0)]\n",
    "time = 0\n",
    "d = 0\n",
    "idx = 0\n",
    "while True:\n",
    "    time += 1\n",
    "    x, y = snake[-1]\n",
    "    nx, ny = x + dxy[d][0], y + dxy[d][1]\n",
    "    if nx < 0 or nx >= N or ny < 0 or ny >= N or (nx, ny) in snake:\n",
    "        break\n",
    "    snake.append((nx, ny))\n",
    "    if board[nx][ny] == 1:\n",
    "        board[nx][ny] = 0\n",
    "    else:\n",
    "        snake.pop(0)\n",
    "    if idx < L and time == direction[idx][0]:\n",
    "        if direction[idx][1] == 'D':\n",
    "            d = (d + 1) % 4\n",
    "        else:\n",
    "            d = (d - 1) % 4\n",
    "        idx += 1\n",
    "\n",
    "print(time)"
   ]
  },
  {
   "cell_type": "code",
   "execution_count": null,
   "metadata": {},
   "outputs": [],
   "source": []
  }
 ],
 "metadata": {
  "kernelspec": {
   "display_name": "Python 3",
   "language": "python",
   "name": "python3"
  },
  "language_info": {
   "codemirror_mode": {
    "name": "ipython",
    "version": 3
   },
   "file_extension": ".py",
   "mimetype": "text/x-python",
   "name": "python",
   "nbconvert_exporter": "python",
   "pygments_lexer": "ipython3",
   "version": "3.11.8"
  }
 },
 "nbformat": 4,
 "nbformat_minor": 2
}
