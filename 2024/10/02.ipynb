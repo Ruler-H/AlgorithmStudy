{
 "cells": [
  {
   "cell_type": "code",
   "execution_count": 1,
   "metadata": {},
   "outputs": [],
   "source": [
    "# 백준 1806번 - 부분합\n",
    "import sys\n",
    "# input = sys.stdin.readline\n",
    "\n",
    "N, S = map(int, input().split())\n",
    "arr = list(map(int, input().split()))"
   ]
  },
  {
   "cell_type": "code",
   "execution_count": null,
   "metadata": {},
   "outputs": [],
   "source": [
    "start = 0\n",
    "end = 0\n",
    "part_sum = 0\n",
    "min_length = 100001\n",
    "\n",
    "while True:\n",
    "    if part_sum >= S:\n",
    "        min_length = min(min_length, end - start)\n",
    "        part_sum -= arr[start]\n",
    "        start += 1\n",
    "    elif end == N:\n",
    "        break\n",
    "    else:\n",
    "        part_sum += arr[end]\n",
    "        end += 1\n",
    "\n",
    "if min_length == 100001:\n",
    "    print(0)\n",
    "else:\n",
    "    print(min_length)"
   ]
  },
  {
   "cell_type": "code",
   "execution_count": null,
   "metadata": {},
   "outputs": [],
   "source": []
  }
 ],
 "metadata": {
  "kernelspec": {
   "display_name": "Python 3",
   "language": "python",
   "name": "python3"
  },
  "language_info": {
   "codemirror_mode": {
    "name": "ipython",
    "version": 3
   },
   "file_extension": ".py",
   "mimetype": "text/x-python",
   "name": "python",
   "nbconvert_exporter": "python",
   "pygments_lexer": "ipython3",
   "version": "3.11.8"
  }
 },
 "nbformat": 4,
 "nbformat_minor": 2
}
