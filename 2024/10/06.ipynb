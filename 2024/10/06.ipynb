{
 "cells": [
  {
   "cell_type": "code",
   "execution_count": null,
   "metadata": {},
   "outputs": [],
   "source": [
    "# 백준 2580번 - 스도쿠\n",
    "import sys\n",
    "# input = sys.stdin.readline\n",
    "\n",
    "board = [list(map(int, input().split())) for _ in range(9)]"
   ]
  },
  {
   "cell_type": "code",
   "execution_count": null,
   "metadata": {},
   "outputs": [],
   "source": [
    "# 각 행, 열, 3x3 박스에 대한 숫자 사용 여부를 저장하는 집합\n",
    "rows = [set() for _ in range(9)]\n",
    "cols = [set() for _ in range(9)]\n",
    "boxes = [set() for _ in range(9)]\n",
    "\n",
    "blank = []\n",
    "\n",
    "for i in range(9):\n",
    "    for j in range(9):\n",
    "        if board[i][j] == 0:\n",
    "            blank.append((i, j))\n",
    "        else:\n",
    "            rows[i].add(board[i][j])\n",
    "            cols[j].add(board[i][j])\n",
    "            boxes[(i//3)*3 + j//3].add(board[i][j])\n",
    "\n",
    "def is_valid(x, y, num):\n",
    "    return (num not in rows[x] and\n",
    "            num not in cols[y] and\n",
    "            num not in boxes[(x//3)*3 + y//3])\n",
    "\n",
    "def dfs(cnt):\n",
    "    if cnt == len(blank):\n",
    "        for row in board:\n",
    "            print(*row)\n",
    "        sys.exit(0)\n",
    "    \n",
    "    x, y = blank[cnt]\n",
    "    for num in range(1, 10):\n",
    "        if is_valid(x, y, num):\n",
    "            board[x][y] = num\n",
    "            rows[x].add(num)\n",
    "            cols[y].add(num)\n",
    "            boxes[(x//3)*3 + y//3].add(num)\n",
    "            \n",
    "            dfs(cnt + 1)\n",
    "            \n",
    "            board[x][y] = 0\n",
    "            rows[x].remove(num)\n",
    "            cols[y].remove(num)\n",
    "            boxes[(x//3)*3 + y//3].remove(num)\n",
    "\n",
    "dfs(0)"
   ]
  },
  {
   "cell_type": "code",
   "execution_count": null,
   "metadata": {},
   "outputs": [],
   "source": []
  }
 ],
 "metadata": {
  "kernelspec": {
   "display_name": "Python 3",
   "language": "python",
   "name": "python3"
  },
  "language_info": {
   "codemirror_mode": {
    "name": "ipython",
    "version": 3
   },
   "file_extension": ".py",
   "mimetype": "text/x-python",
   "name": "python",
   "nbconvert_exporter": "python",
   "pygments_lexer": "ipython3",
   "version": "3.11.8"
  }
 },
 "nbformat": 4,
 "nbformat_minor": 2
}
