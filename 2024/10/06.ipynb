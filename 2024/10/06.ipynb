{
 "cells": [
  {
   "cell_type": "code",
   "execution_count": 1,
   "metadata": {},
   "outputs": [],
   "source": [
    "# 백준 2580번 - 스도쿠\n",
    "import sys\n",
    "# input = sys.stdin.readline\n",
    "\n",
    "board = [list(map(int, input().split())) for _ in range(9)]"
   ]
  },
  {
   "cell_type": "code",
   "execution_count": null,
   "metadata": {},
   "outputs": [],
   "source": [
    "def check(x, y, num):\n",
    "    # 가로\n",
    "    if num in board[x]:\n",
    "        return False\n",
    "    # 세로\n",
    "    for i in range(9):\n",
    "        if num == board[i][y]:\n",
    "            return False\n",
    "    # 3x3\n",
    "    x //= 3\n",
    "    y //= 3\n",
    "    for i in range(x*3, (x+1)*3):\n",
    "        for j in range(y*3, (y+1)*3):\n",
    "            if num == board[i][j]:\n",
    "                return False\n",
    "    return True\n",
    "\n",
    "def dfs(cnt):\n",
    "    if cnt == len(blank):\n",
    "        for row in board:\n",
    "            print(*row)\n",
    "        sys.exit(0)\n",
    "    x, y = blank[cnt]\n",
    "    for i in range(1, 10):\n",
    "        if check(x, y, i):\n",
    "            board[x][y] = i\n",
    "            dfs(cnt+1)\n",
    "            board[x][y] = 0\n",
    "\n",
    "blank = [(i, j) for i in range(9) for j in range(9) if board[i][j] == 0]\n",
    "dfs(0)"
   ]
  },
  {
   "cell_type": "code",
   "execution_count": null,
   "metadata": {},
   "outputs": [],
   "source": []
  }
 ],
 "metadata": {
  "kernelspec": {
   "display_name": "Python 3",
   "language": "python",
   "name": "python3"
  },
  "language_info": {
   "codemirror_mode": {
    "name": "ipython",
    "version": 3
   },
   "file_extension": ".py",
   "mimetype": "text/x-python",
   "name": "python",
   "nbconvert_exporter": "python",
   "pygments_lexer": "ipython3",
   "version": "3.11.8"
  }
 },
 "nbformat": 4,
 "nbformat_minor": 2
}
