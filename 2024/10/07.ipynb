{
 "cells": [
  {
   "cell_type": "code",
   "execution_count": 5,
   "metadata": {},
   "outputs": [],
   "source": [
    "# 백준 16234번 - 인구 이동\n",
    "import sys\n",
    "# input = sys.stdin.readline\n",
    "\n",
    "N, L, R = map(int, input().split())\n",
    "graph = [list(map(int, input().split())) for _ in range(N)]"
   ]
  },
  {
   "cell_type": "code",
   "execution_count": null,
   "metadata": {},
   "outputs": [],
   "source": [
    "def bfs(x, y, index):\n",
    "    united = []\n",
    "    united.append((x, y))\n",
    "    q = []\n",
    "    q.append((x, y))\n",
    "    union[x][y] = index\n",
    "    summary = graph[x][y]\n",
    "    count = 1\n",
    "\n",
    "    while q:\n",
    "        x, y = q.pop(0)\n",
    "        for i in range(4):\n",
    "            nx = x + dx[i]\n",
    "            ny = y + dy[i]\n",
    "            if 0 <= nx < N and 0 <= ny < N and union[nx][ny] == -1:\n",
    "                if L <= abs(graph[nx][ny] - graph[x][y]) <= R:\n",
    "                    q.append((nx, ny))\n",
    "                    union[nx][ny] = index\n",
    "                    summary += graph[nx][ny]\n",
    "                    count += 1\n",
    "                    united.append((nx, ny))\n",
    "    for i, j in united:\n",
    "        graph[i][j] = summary // count\n",
    "\n",
    "dx = [-1, 1, 0, 0]\n",
    "dy = [0, 0, -1, 1]\n",
    "result = 0\n",
    "\n",
    "while True:\n",
    "    union = [[-1] * N for _ in range(N)]\n",
    "    index = 0\n",
    "    for i in range(N):\n",
    "        for j in range(N):\n",
    "            if union[i][j] == -1:\n",
    "                bfs(i, j, index)\n",
    "                index += 1\n",
    "    if index == N * N:\n",
    "        break\n",
    "    result += 1\n",
    "\n",
    "print(result)"
   ]
  },
  {
   "cell_type": "code",
   "execution_count": null,
   "metadata": {},
   "outputs": [],
   "source": []
  }
 ],
 "metadata": {
  "kernelspec": {
   "display_name": "Python 3",
   "language": "python",
   "name": "python3"
  },
  "language_info": {
   "codemirror_mode": {
    "name": "ipython",
    "version": 3
   },
   "file_extension": ".py",
   "mimetype": "text/x-python",
   "name": "python",
   "nbconvert_exporter": "python",
   "pygments_lexer": "ipython3",
   "version": "3.11.8"
  }
 },
 "nbformat": 4,
 "nbformat_minor": 2
}
