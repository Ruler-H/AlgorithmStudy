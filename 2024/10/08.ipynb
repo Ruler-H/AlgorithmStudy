{
 "cells": [
  {
   "cell_type": "code",
   "execution_count": 2,
   "metadata": {},
   "outputs": [],
   "source": [
    "# 백준 14499번 - 주사위 굴리기\n",
    "import sys\n",
    "# input = sys.stdin.readline\n",
    "\n",
    "N, M, x, y, K = map(int, input().split())\n",
    "board = [list(map(int, input().split())) for _ in range(N)]\n",
    "commands = list(map(int, input().split()))"
   ]
  },
  {
   "cell_type": "code",
   "execution_count": null,
   "metadata": {},
   "outputs": [],
   "source": [
    "dice = [0, 0, 0, 0, 0, 0]\n",
    "dxy = [(0, 1), (0, -1), (-1, 0), (1, 0)]\n",
    "\n",
    "for command in commands:\n",
    "    dx, dy = dxy[command - 1]\n",
    "    nx, ny = x + dx, y + dy\n",
    "\n",
    "    if 0 <= nx < N and 0 <= ny < M:\n",
    "        if command == 1:\n",
    "            dice[0], dice[2], dice[3], dice[5] = dice[3], dice[0], dice[5], dice[2]\n",
    "        elif command == 2:\n",
    "            dice[0], dice[2], dice[3], dice[5] = dice[2], dice[5], dice[0], dice[3]\n",
    "        elif command == 3:\n",
    "            dice[0], dice[1], dice[4], dice[5] = dice[4], dice[0], dice[5], dice[1]\n",
    "        else:\n",
    "            dice[0], dice[1], dice[4], dice[5] = dice[1], dice[5], dice[0], dice[4]\n",
    "\n",
    "        if board[nx][ny] == 0:\n",
    "            board[nx][ny] = dice[5]\n",
    "        else:\n",
    "            dice[5] = board[nx][ny]\n",
    "            board[nx][ny] = 0\n",
    "\n",
    "        x, y = nx, ny\n",
    "        print(dice[0])"
   ]
  },
  {
   "cell_type": "code",
   "execution_count": null,
   "metadata": {},
   "outputs": [],
   "source": []
  }
 ],
 "metadata": {
  "kernelspec": {
   "display_name": "Python 3",
   "language": "python",
   "name": "python3"
  },
  "language_info": {
   "codemirror_mode": {
    "name": "ipython",
    "version": 3
   },
   "file_extension": ".py",
   "mimetype": "text/x-python",
   "name": "python",
   "nbconvert_exporter": "python",
   "pygments_lexer": "ipython3",
   "version": "3.11.8"
  }
 },
 "nbformat": 4,
 "nbformat_minor": 2
}
