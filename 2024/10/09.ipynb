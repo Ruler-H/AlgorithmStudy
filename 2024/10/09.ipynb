{
 "cells": [
  {
   "cell_type": "code",
   "execution_count": 1,
   "metadata": {},
   "outputs": [],
   "source": [
    "# 백준 1707번 - 이분 그래프\n",
    "import sys\n",
    "# input = sys.stdin.readline\n",
    "sys.setrecursionlimit(10**6)\n",
    "\n",
    "K = int(input())"
   ]
  },
  {
   "cell_type": "code",
   "execution_count": null,
   "metadata": {},
   "outputs": [],
   "source": [
    "for _ in range(K):\n",
    "    V, E = map(int, input().split())\n",
    "    graph = [[] for _ in range(V+1)]\n",
    "    for _ in range(E):\n",
    "        a, b = map(int, input().split())\n",
    "        graph[a].append(b)\n",
    "        graph[b].append(a)\n",
    "\n",
    "    def dfs(v, c):\n",
    "        visited[v] = c\n",
    "        for i in graph[v]:\n",
    "            if visited[i] == 0:\n",
    "                if not dfs(i, 3-c):\n",
    "                    return False\n",
    "            elif visited[i] == visited[v]:\n",
    "                return False\n",
    "        return True\n",
    "\n",
    "    visited = [0] * (V+1)\n",
    "    flag = True\n",
    "    for i in range(1, V+1):\n",
    "        if visited[i] == 0:\n",
    "            if not dfs(i, 1):\n",
    "                print(\"NO\")\n",
    "                flag = False\n",
    "                break\n",
    "\n",
    "    if flag:\n",
    "        print(\"YES\")"
   ]
  },
  {
   "cell_type": "code",
   "execution_count": null,
   "metadata": {},
   "outputs": [],
   "source": []
  }
 ],
 "metadata": {
  "kernelspec": {
   "display_name": "Python 3",
   "language": "python",
   "name": "python3"
  },
  "language_info": {
   "codemirror_mode": {
    "name": "ipython",
    "version": 3
   },
   "file_extension": ".py",
   "mimetype": "text/x-python",
   "name": "python",
   "nbconvert_exporter": "python",
   "pygments_lexer": "ipython3",
   "version": "3.11.8"
  }
 },
 "nbformat": 4,
 "nbformat_minor": 2
}
