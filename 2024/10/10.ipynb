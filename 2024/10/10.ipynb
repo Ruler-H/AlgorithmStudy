{
 "cells": [
  {
   "cell_type": "code",
   "execution_count": 2,
   "metadata": {},
   "outputs": [],
   "source": [
    "# 백준 1504번 - 특정한 최단 경로\n",
    "import sys\n",
    "# input = sys.stdin.readline\n",
    "\n",
    "N, E = map(int, input().split())\n",
    "graph = [[] for _ in range(N+1)]\n",
    "for _ in range(E):\n",
    "    a, b, c = map(int, input().split())\n",
    "    graph[a].append((b, c))\n",
    "    graph[b].append((a, c))\n",
    "\n",
    "v1, v2 = map(int, input().split())"
   ]
  },
  {
   "cell_type": "code",
   "execution_count": null,
   "metadata": {},
   "outputs": [],
   "source": [
    "def dijkstra(start):\n",
    "    distance = [float('inf')] * (N+1)\n",
    "    distance[start] = 0\n",
    "    queue = [(0, start)]\n",
    "    while queue:\n",
    "        dist, now = queue.pop(0)\n",
    "        if distance[now] < dist:\n",
    "            continue\n",
    "        for i in graph[now]:\n",
    "            cost = dist + i[1]\n",
    "            if cost < distance[i[0]]:\n",
    "                distance[i[0]] = cost\n",
    "                queue.append((cost, i[0]))\n",
    "    return distance\n",
    "\n",
    "start = dijkstra(1)\n",
    "v1_dist = dijkstra(v1)\n",
    "v2_dist = dijkstra(v2)\n",
    "\n",
    "answer = min(start[v1] + v1_dist[v2] + v2_dist[N], start[v2] + v2_dist[v1] + v1_dist[N])\n",
    "\n",
    "if answer == float('inf'):\n",
    "    print(-1)\n",
    "else:\n",
    "    print(answer)"
   ]
  },
  {
   "cell_type": "code",
   "execution_count": null,
   "metadata": {},
   "outputs": [],
   "source": []
  }
 ],
 "metadata": {
  "kernelspec": {
   "display_name": "Python 3",
   "language": "python",
   "name": "python3"
  },
  "language_info": {
   "codemirror_mode": {
    "name": "ipython",
    "version": 3
   },
   "file_extension": ".py",
   "mimetype": "text/x-python",
   "name": "python",
   "nbconvert_exporter": "python",
   "pygments_lexer": "ipython3",
   "version": "3.11.8"
  }
 },
 "nbformat": 4,
 "nbformat_minor": 2
}
