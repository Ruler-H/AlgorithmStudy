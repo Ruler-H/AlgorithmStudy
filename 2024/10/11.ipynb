{
 "cells": [
  {
   "cell_type": "code",
   "execution_count": 1,
   "metadata": {},
   "outputs": [],
   "source": [
    "# 백준 9935번 - 문자열 폭발\n",
    "import sys\n",
    "# input = sys.stdin.readline\n",
    "\n",
    "string = input().strip()\n",
    "bomb = input().strip()"
   ]
  },
  {
   "cell_type": "code",
   "execution_count": null,
   "metadata": {},
   "outputs": [],
   "source": [
    "stack = []\n",
    "bomb_length = len(bomb)\n",
    "\n",
    "for char in string:\n",
    "    stack.append(char)\n",
    "    if len(stack) >= bomb_length and ''.join(stack[-bomb_length:]) == bomb:\n",
    "        del stack[-bomb_length:]\n",
    "\n",
    "result = ''.join(stack)\n",
    "print(\"FRULA\" if not result else result)"
   ]
  },
  {
   "cell_type": "code",
   "execution_count": null,
   "metadata": {},
   "outputs": [],
   "source": []
  }
 ],
 "metadata": {
  "kernelspec": {
   "display_name": "Python 3",
   "language": "python",
   "name": "python3"
  },
  "language_info": {
   "codemirror_mode": {
    "name": "ipython",
    "version": 3
   },
   "file_extension": ".py",
   "mimetype": "text/x-python",
   "name": "python",
   "nbconvert_exporter": "python",
   "pygments_lexer": "ipython3",
   "version": "3.11.8"
  }
 },
 "nbformat": 4,
 "nbformat_minor": 2
}
