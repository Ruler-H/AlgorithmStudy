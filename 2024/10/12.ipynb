{
 "cells": [
  {
   "cell_type": "code",
   "execution_count": null,
   "metadata": {},
   "outputs": [],
   "source": [
    "# 백준 2573번 - 빙산\n",
    "import sys\n",
    "# input = sys.stdin.readline\n",
    "from collections import deque\n",
    "sys.setrecursionlimit(10**6)\n",
    "\n",
    "N, M = map(int, input().split())\n",
    "iceburg = [list(map(int, input().split())) for _ in range(N)]"
   ]
  },
  {
   "cell_type": "code",
   "execution_count": null,
   "metadata": {},
   "outputs": [],
   "source": [
    "dx = [-1, 1, 0, 0]\n",
    "dy = [0, 0, -1, 1]\n",
    "\n",
    "def bfs(x, y):\n",
    "    queue = deque([(x, y)])\n",
    "    visited[x][y] = True\n",
    "    \n",
    "    while queue:\n",
    "        x, y = queue.popleft()\n",
    "        for i in range(4):\n",
    "            nx, ny = x + dx[i], y + dy[i]\n",
    "            if 0 <= nx < N and 0 <= ny < M and not visited[nx][ny] and iceburg[nx][ny] > 0:\n",
    "                visited[nx][ny] = True\n",
    "                queue.append((nx, ny))\n",
    "\n",
    "def solve():\n",
    "    global iceburg\n",
    "    year = 0\n",
    "    icebergs = [(i, j) for i in range(N) for j in range(M) if iceburg[i][j] > 0]\n",
    "\n",
    "    while icebergs:\n",
    "        year += 1\n",
    "        melting = {}\n",
    "        \n",
    "        for x, y in icebergs:\n",
    "            for i in range(4):\n",
    "                nx, ny = x + dx[i], y + dy[i]\n",
    "                if 0 <= nx < N and 0 <= ny < M and iceburg[nx][ny] == 0:\n",
    "                    melting[(x, y)] = melting.get((x, y), 0) + 1\n",
    "        \n",
    "        new_icebergs = []\n",
    "        for x, y in icebergs:\n",
    "            iceburg[x][y] = max(0, iceburg[x][y] - melting.get((x, y), 0))\n",
    "            if iceburg[x][y] > 0:\n",
    "                new_icebergs.append((x, y))\n",
    "        \n",
    "        if len(new_icebergs) != len(icebergs):\n",
    "            global visited\n",
    "            visited = [[False] * M for _ in range(N)]\n",
    "            count = 0\n",
    "            for x, y in new_icebergs:\n",
    "                if not visited[x][y]:\n",
    "                    bfs(x, y)\n",
    "                    count += 1\n",
    "                    if count > 1:\n",
    "                        return year\n",
    "        \n",
    "        icebergs = new_icebergs\n",
    "    \n",
    "    return 0\n",
    "\n",
    "print(solve())"
   ]
  },
  {
   "cell_type": "code",
   "execution_count": null,
   "metadata": {},
   "outputs": [],
   "source": []
  }
 ],
 "metadata": {
  "kernelspec": {
   "display_name": "Python 3",
   "language": "python",
   "name": "python3"
  },
  "language_info": {
   "codemirror_mode": {
    "name": "ipython",
    "version": 3
   },
   "file_extension": ".py",
   "mimetype": "text/x-python",
   "name": "python",
   "nbconvert_exporter": "python",
   "pygments_lexer": "ipython3",
   "version": "3.11.8"
  }
 },
 "nbformat": 4,
 "nbformat_minor": 2
}
