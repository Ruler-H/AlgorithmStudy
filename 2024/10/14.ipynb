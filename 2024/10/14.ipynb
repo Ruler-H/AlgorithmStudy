{
 "cells": [
  {
   "cell_type": "code",
   "execution_count": 11,
   "metadata": {},
   "outputs": [],
   "source": [
    "# 백준 17144번 - 미세먼지 안녕!\n",
    "import sys\n",
    "# input = sys.stdin.readline\n",
    "sys.setrecursionlimit(10**6)\n",
    "\n",
    "R, C, T = map(int, input().split())\n",
    "room = [list(map(int, input().split())) for _ in range(R)]"
   ]
  },
  {
   "cell_type": "code",
   "execution_count": null,
   "metadata": {},
   "outputs": [],
   "source": [
    "def spread():\n",
    "    temp = [[0] * C for _ in range(R)]\n",
    "    for i in range(R):\n",
    "        for j in range(C):\n",
    "            if room[i][j] > 0:\n",
    "                cnt = 0\n",
    "                for k in range(4):\n",
    "                    ni, nj = i + dr[k], j + dc[k]\n",
    "                    if 0 <= ni < R and 0 <= nj < C and room[ni][nj] != -1:\n",
    "                        temp[ni][nj] += room[i][j] // 5\n",
    "                        cnt += 1\n",
    "                room[i][j] -= (room[i][j] // 5) * cnt\n",
    "    for i in range(R):\n",
    "        for j in range(C):\n",
    "            room[i][j] += temp[i][j]\n",
    "\n",
    "def clean():\n",
    "    for i in range(cleaner[0] - 1, 0, -1):\n",
    "        room[i][0] = room[i - 1][0]\n",
    "    for i in range(0, C - 1):\n",
    "        room[0][i] = room[0][i + 1]\n",
    "    for i in range(0, cleaner[0]):\n",
    "        room[i][C - 1] = room[i + 1][C - 1]\n",
    "    for i in range(C - 1, 1, -1):\n",
    "        room[cleaner[0]][i] = room[cleaner[0]][i - 1]\n",
    "    room[cleaner[0]][1] = 0\n",
    "\n",
    "    for i in range(cleaner[1] + 1, R - 1):\n",
    "        room[i][0] = room[i + 1][0]\n",
    "    for i in range(0, C - 1):\n",
    "        room[R - 1][i] = room[R - 1][i + 1]\n",
    "    for i in range(R - 1, cleaner[1], -1):\n",
    "        room[i][C - 1] = room[i - 1][C - 1]\n",
    "    for i in range(C - 1, 1, -1):\n",
    "        room[cleaner[1]][i] = room[cleaner[1]][i - 1]\n",
    "    room[cleaner[1]][1] = 0\n",
    "\n",
    "dr = [0, 0, 1, -1]\n",
    "dc = [1, -1, 0, 0]\n",
    "cleaner = []\n",
    "for i in range(R):\n",
    "    if room[i][0] == -1:\n",
    "        cleaner.append(i)\n",
    "        cleaner.append(i + 1)\n",
    "        break\n",
    "\n",
    "for _ in range(T):\n",
    "    spread()\n",
    "    clean()\n",
    "\n",
    "result = 0\n",
    "for i in range(R):\n",
    "    result += sum(room[i])\n",
    "print(result + 2)"
   ]
  },
  {
   "cell_type": "code",
   "execution_count": null,
   "metadata": {},
   "outputs": [],
   "source": []
  }
 ],
 "metadata": {
  "kernelspec": {
   "display_name": "Python 3",
   "language": "python",
   "name": "python3"
  },
  "language_info": {
   "codemirror_mode": {
    "name": "ipython",
    "version": 3
   },
   "file_extension": ".py",
   "mimetype": "text/x-python",
   "name": "python",
   "nbconvert_exporter": "python",
   "pygments_lexer": "ipython3",
   "version": "3.11.8"
  }
 },
 "nbformat": 4,
 "nbformat_minor": 2
}
