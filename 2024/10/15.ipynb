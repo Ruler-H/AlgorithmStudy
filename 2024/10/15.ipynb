{
 "cells": [
  {
   "cell_type": "code",
   "execution_count": 1,
   "metadata": {},
   "outputs": [],
   "source": [
    "# 백준 1967번 - 트리의 지름\n",
    "import sys\n",
    "# input = sys.stdin.readline\n",
    "sys.setrecursionlimit(10**6)\n",
    "\n",
    "n = int(input())\n",
    "graph = [[] for _ in range(n+1)]\n",
    "for _ in range(n-1):\n",
    "    parent, child, weight = map(int, input().split())\n",
    "    graph[parent].append((child, weight))\n",
    "    graph[child].append((parent, weight))"
   ]
  },
  {
   "cell_type": "code",
   "execution_count": null,
   "metadata": {},
   "outputs": [],
   "source": [
    "def bfs(start):\n",
    "    visited = [-1] * (n+1)\n",
    "    visited[start] = 0\n",
    "    queue = [start]\n",
    "    while queue:\n",
    "        node = queue.pop(0)\n",
    "        for child, weight in graph[node]:\n",
    "            if visited[child] == -1:\n",
    "                visited[child] = visited[node] + weight\n",
    "                queue.append(child)\n",
    "    return visited\n",
    "\n",
    "result = bfs(1)\n",
    "start = result.index(max(result))\n",
    "result = bfs(start)\n",
    "print(max(result))"
   ]
  },
  {
   "cell_type": "code",
   "execution_count": null,
   "metadata": {},
   "outputs": [],
   "source": []
  }
 ],
 "metadata": {
  "kernelspec": {
   "display_name": "Python 3",
   "language": "python",
   "name": "python3"
  },
  "language_info": {
   "codemirror_mode": {
    "name": "ipython",
    "version": 3
   },
   "file_extension": ".py",
   "mimetype": "text/x-python",
   "name": "python",
   "nbconvert_exporter": "python",
   "pygments_lexer": "ipython3",
   "version": "3.11.8"
  }
 },
 "nbformat": 4,
 "nbformat_minor": 2
}
