{
 "cells": [
  {
   "cell_type": "code",
   "execution_count": 1,
   "metadata": {},
   "outputs": [],
   "source": [
    "# 백준 1922번 - 네트워크 연결\n",
    "import sys\n",
    "import heapq\n",
    "# input = sys.stdin.readline\n",
    "sys.setrecursionlimit(10**6)\n",
    "\n",
    "N = int(input())\n",
    "M = int(input())\n",
    "graph = [[] for _ in range(N+1)]\n",
    "for _ in range(M):\n",
    "    a, b, c = map(int, input().split())\n",
    "    graph[a].append((b, c))\n",
    "    graph[b].append((a, c))"
   ]
  },
  {
   "cell_type": "code",
   "execution_count": null,
   "metadata": {},
   "outputs": [],
   "source": [
    "def prim(start):\n",
    "    visited = [False] * (N + 1)\n",
    "    heap = [(0, start)]  # (cost, node)\n",
    "    total_cost = 0\n",
    "    \n",
    "    while heap:\n",
    "        cost, node = heapq.heappop(heap)\n",
    "        \n",
    "        if visited[node]:\n",
    "            continue\n",
    "        \n",
    "        visited[node] = True\n",
    "        total_cost += cost\n",
    "        \n",
    "        for next_node, next_cost in graph[node]:\n",
    "            if not visited[next_node]:\n",
    "                heapq.heappush(heap, (next_cost, next_node))\n",
    "    \n",
    "    return total_cost\n",
    "\n",
    "print(prim(1))"
   ]
  },
  {
   "cell_type": "code",
   "execution_count": null,
   "metadata": {},
   "outputs": [],
   "source": []
  }
 ],
 "metadata": {
  "kernelspec": {
   "display_name": "Python 3",
   "language": "python",
   "name": "python3"
  },
  "language_info": {
   "codemirror_mode": {
    "name": "ipython",
    "version": 3
   },
   "file_extension": ".py",
   "mimetype": "text/x-python",
   "name": "python",
   "nbconvert_exporter": "python",
   "pygments_lexer": "ipython3",
   "version": "3.11.8"
  }
 },
 "nbformat": 4,
 "nbformat_minor": 2
}
