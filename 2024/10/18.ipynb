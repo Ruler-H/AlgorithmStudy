{
 "cells": [
  {
   "cell_type": "code",
   "execution_count": 9,
   "metadata": {},
   "outputs": [],
   "source": [
    "# 백준 9019번 - DSLR\n",
    "import sys\n",
    "# input = sys.stdin.readline\n",
    "from collections import deque\n",
    "\n",
    "T = int(input())"
   ]
  },
  {
   "cell_type": "code",
   "execution_count": null,
   "metadata": {},
   "outputs": [],
   "source": [
    "def D(n):\n",
    "    return (2*n) % 10000\n",
    "\n",
    "def S(n):\n",
    "    return 9999 if n == 0 else n - 1\n",
    "\n",
    "def L(n):\n",
    "    return (n % 1000) * 10 + n // 1000\n",
    "\n",
    "def R(n):\n",
    "    return (n % 10) * 1000 + n // 10\n",
    "\n",
    "# 시간 복잡도를 줄인 코드\n",
    "def bfs(A, B):\n",
    "    visited = [False] * 10000\n",
    "    visited[A] = True\n",
    "    queue = deque([(A, \"\")])\n",
    "    \n",
    "    while queue:\n",
    "        n, command = queue.popleft()\n",
    "        if n == B:\n",
    "            return command\n",
    "        for func, c in [(D, \"D\"), (S, \"S\"), (L, \"L\"), (R, \"R\")]:\n",
    "            if not visited[func(n)]:\n",
    "                visited[func(n)] = True\n",
    "                queue.append((func(n), command + c))\n",
    "\n",
    "for _ in range(T):\n",
    "    A, B = map(int, input().split())\n",
    "    print(bfs(A, B))"
   ]
  },
  {
   "cell_type": "code",
   "execution_count": null,
   "metadata": {},
   "outputs": [],
   "source": []
  }
 ],
 "metadata": {
  "kernelspec": {
   "display_name": "Python 3",
   "language": "python",
   "name": "python3"
  },
  "language_info": {
   "codemirror_mode": {
    "name": "ipython",
    "version": 3
   },
   "file_extension": ".py",
   "mimetype": "text/x-python",
   "name": "python",
   "nbconvert_exporter": "python",
   "pygments_lexer": "ipython3",
   "version": "3.11.8"
  }
 },
 "nbformat": 4,
 "nbformat_minor": 2
}
