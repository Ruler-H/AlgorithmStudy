{
 "cells": [
  {
   "cell_type": "code",
   "execution_count": 20,
   "metadata": {},
   "outputs": [],
   "source": [
    "# 백준 3055번 - 탈출\n",
    "import sys\n",
    "# input = sys.stdin.readline\n",
    "\n",
    "R, C = map(int, input().split())\n",
    "city = [list(input()) for _ in range(R)]"
   ]
  },
  {
   "cell_type": "code",
   "execution_count": null,
   "metadata": {},
   "outputs": [],
   "source": [
    "time = 0\n",
    "dxy = [(0, 1), (1, 0), (0, -1), (-1, 0)]\n",
    "visited = [[0] * C for _ in range(R)]\n",
    "water = []\n",
    "hedgehog = []\n",
    "for i in range(R):\n",
    "    for j in range(C):\n",
    "        if city[i][j] == 'D':\n",
    "            end = (i, j)\n",
    "        elif city[i][j] == 'S':\n",
    "            hedgehog.append([i, j])\n",
    "            visited[i][j] = 1\n",
    "        elif city[i][j] == '*':\n",
    "            water.append([i, j])\n",
    "print(water)\n",
    "print(hedgehog)\n",
    "def bfs():\n",
    "    global time\n",
    "    while water or hedgehog:\n",
    "        print(water)\n",
    "        print(hedgehog)\n",
    "        for _ in range(len(water)):\n",
    "            x, y = water.pop(0)\n",
    "            for dx, dy in dxy:\n",
    "                nx, ny = x + dx, y + dy\n",
    "                if 0 <= nx < R and 0 <= ny < C:\n",
    "                    if city[nx][ny] == '.':\n",
    "                        city[nx][ny] = '*'\n",
    "                        water.append([nx, ny])\n",
    "        for _ in range(len(hedgehog)):\n",
    "            x, y = hedgehog.pop(0)\n",
    "            for dx, dy in dxy:\n",
    "                nx, ny = x + dx, y + dy\n",
    "                if 0 <= nx < R and 0 <= ny < C and not visited[nx][ny]:\n",
    "                    if city[nx][ny] == '.':\n",
    "                        hedgehog.append([nx, ny])\n",
    "                        visited[nx][ny] = 1\n",
    "                    elif city[nx][ny] == 'D':\n",
    "                        city[nx][ny] = 'S'\n",
    "                        hedgehog.append([nx, ny])\n",
    "                        visited[nx][ny] = 1\n",
    "                        break\n",
    "        time += 1\n",
    "        if city[end[0]][end[1]] == 'S':\n",
    "            return time\n",
    "    return \"KAKTUS\"\n",
    "\n",
    "print(bfs())"
   ]
  },
  {
   "cell_type": "code",
   "execution_count": null,
   "metadata": {},
   "outputs": [],
   "source": []
  }
 ],
 "metadata": {
  "kernelspec": {
   "display_name": "Python 3",
   "language": "python",
   "name": "python3"
  },
  "language_info": {
   "codemirror_mode": {
    "name": "ipython",
    "version": 3
   },
   "file_extension": ".py",
   "mimetype": "text/x-python",
   "name": "python",
   "nbconvert_exporter": "python",
   "pygments_lexer": "ipython3",
   "version": "3.11.8"
  }
 },
 "nbformat": 4,
 "nbformat_minor": 2
}
