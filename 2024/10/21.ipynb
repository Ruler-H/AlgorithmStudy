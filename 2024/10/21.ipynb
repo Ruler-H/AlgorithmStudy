{
 "cells": [
  {
   "cell_type": "code",
   "execution_count": 1,
   "metadata": {},
   "outputs": [],
   "source": [
    "# 백준 5639번 - 이진 검색 트리\n",
    "import sys\n",
    "# input = sys.stdin.readline\n",
    "sys.setrecursionlimit(10**6)\n",
    "\n",
    "tree = []\n",
    "while True:\n",
    "    try:\n",
    "        tree.append(int(input()))\n",
    "    except:\n",
    "        break"
   ]
  },
  {
   "cell_type": "code",
   "execution_count": null,
   "metadata": {},
   "outputs": [],
   "source": [
    "def post_order(start, end):\n",
    "    if start > end:\n",
    "        return\n",
    "    div = end + 1\n",
    "    for i in range(start + 1, end + 1):\n",
    "        if tree[start] < tree[i]:\n",
    "            div = i\n",
    "            break\n",
    "    post_order(start + 1, div - 1)\n",
    "    post_order(div, end)\n",
    "    print(tree[start])\n",
    "\n",
    "post_order(0, len(tree) - 1)"
   ]
  },
  {
   "cell_type": "code",
   "execution_count": null,
   "metadata": {},
   "outputs": [],
   "source": []
  }
 ],
 "metadata": {
  "kernelspec": {
   "display_name": "Python 3",
   "language": "python",
   "name": "python3"
  },
  "language_info": {
   "codemirror_mode": {
    "name": "ipython",
    "version": 3
   },
   "file_extension": ".py",
   "mimetype": "text/x-python",
   "name": "python",
   "nbconvert_exporter": "python",
   "pygments_lexer": "ipython3",
   "version": "3.11.8"
  }
 },
 "nbformat": 4,
 "nbformat_minor": 2
}
