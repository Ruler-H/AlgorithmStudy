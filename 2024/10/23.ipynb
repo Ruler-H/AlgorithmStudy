{
 "cells": [
  {
   "cell_type": "code",
   "execution_count": null,
   "metadata": {},
   "outputs": [],
   "source": [
    "# 백준 2636번 - 치즈\n",
    "import sys\n",
    "# input = sys.stdin.readline\n",
    "sys.setrecursionlimit(10**6)\n",
    "\n",
    "length, width = map(int, input().split())\n",
    "cheese = [list(map(int, input().split())) for _ in range(length)]"
   ]
  },
  {
   "cell_type": "code",
   "execution_count": null,
   "metadata": {},
   "outputs": [],
   "source": [
    "time = 0\n",
    "rest_cheese = sum([i.count(1) for i in cheese])\n",
    "def dfs(x, y):\n",
    "    global cheese\n",
    "    if x < 0 or x >= length or y < 0 or y >= width:\n",
    "        return\n",
    "    if cheese[x][y] == 1:\n",
    "        cheese[x][y] = 2\n",
    "        return\n",
    "    if cheese[x][y] != 0:\n",
    "        return\n",
    "    cheese[x][y] = 2\n",
    "    dfs(x-1, y)\n",
    "    dfs(x+1, y)\n",
    "    dfs(x, y-1)\n",
    "    dfs(x, y+1)\n",
    "\n",
    "def melt():\n",
    "    global cheese\n",
    "    for i in range(length):\n",
    "        for j in range(width):\n",
    "            if cheese[i][j] == 2:\n",
    "                cheese[i][j] = 0\n",
    "\n",
    "while True:\n",
    "    dfs(0, 0)\n",
    "    time += 1\n",
    "    count = 0\n",
    "    for i in range(length):\n",
    "        for j in range(width):\n",
    "            if cheese[i][j] == 1:\n",
    "                count += 1\n",
    "    if count == 0:\n",
    "        break\n",
    "    rest_cheese = count\n",
    "    melt()\n",
    "\n",
    "print(time)\n",
    "print(rest_cheese)"
   ]
  },
  {
   "cell_type": "code",
   "execution_count": null,
   "metadata": {},
   "outputs": [],
   "source": []
  }
 ],
 "metadata": {
  "kernelspec": {
   "display_name": "Python 3",
   "language": "python",
   "name": "python3"
  },
  "language_info": {
   "codemirror_mode": {
    "name": "ipython",
    "version": 3
   },
   "file_extension": ".py",
   "mimetype": "text/x-python",
   "name": "python",
   "nbconvert_exporter": "python",
   "pygments_lexer": "ipython3",
   "version": "3.11.8"
  }
 },
 "nbformat": 4,
 "nbformat_minor": 2
}
