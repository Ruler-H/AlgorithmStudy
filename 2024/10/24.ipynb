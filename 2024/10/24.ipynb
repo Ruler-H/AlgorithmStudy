{
 "cells": [
  {
   "cell_type": "code",
   "execution_count": 1,
   "metadata": {},
   "outputs": [],
   "source": [
    "# 백준 9252번 - LCS 2\n",
    "import sys\n",
    "# input = sys.stdin.readline\n",
    "sys.setrecursionlimit(10**6)\n",
    "\n",
    "str1 = input().strip()\n",
    "str2 = input().strip()"
   ]
  },
  {
   "cell_type": "code",
   "execution_count": null,
   "metadata": {},
   "outputs": [],
   "source": [
    "dp = [[0] * (len(str1)+1) for _ in range(len(str2)+1)]\n",
    "\n",
    "for i in range(1, len(str2)+1):\n",
    "    for j in range(1, len(str1)+1):\n",
    "        if str2[i-1] == str1[j-1]:\n",
    "            dp[i][j] = dp[i-1][j-1] + 1\n",
    "        else:\n",
    "            dp[i][j] = max(dp[i-1][j], dp[i][j-1])\n",
    "            \n",
    "print(dp[-1][-1])\n",
    "\n",
    "i = len(str2)\n",
    "j = len(str1)\n",
    "result = \"\"\n",
    "while i > 0 and j > 0:\n",
    "    if dp[i][j] == dp[i-1][j]:\n",
    "        i -= 1\n",
    "    elif dp[i][j] == dp[i][j-1]:\n",
    "        j -= 1\n",
    "    else:\n",
    "        result = str2[i-1] + result\n",
    "        i -= 1\n",
    "        j -= 1\n",
    "\n",
    "print(result)"
   ]
  },
  {
   "cell_type": "code",
   "execution_count": null,
   "metadata": {},
   "outputs": [],
   "source": []
  }
 ],
 "metadata": {
  "kernelspec": {
   "display_name": "Python 3",
   "language": "python",
   "name": "python3"
  },
  "language_info": {
   "codemirror_mode": {
    "name": "ipython",
    "version": 3
   },
   "file_extension": ".py",
   "mimetype": "text/x-python",
   "name": "python",
   "nbconvert_exporter": "python",
   "pygments_lexer": "ipython3",
   "version": "3.11.8"
  }
 },
 "nbformat": 4,
 "nbformat_minor": 2
}
