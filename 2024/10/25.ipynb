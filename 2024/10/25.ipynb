{
 "cells": [
  {
   "cell_type": "code",
   "execution_count": 1,
   "metadata": {},
   "outputs": [],
   "source": [
    "# 백준 1261번 - 알고스팟\n",
    "import sys\n",
    "# input = sys.stdin.readline\n",
    "sys.setrecursionlimit(10**6)\n",
    "\n",
    "M, N = map(int, input().split())\n",
    "maze = [list(map(int, input().strip())) for _ in range(N)]"
   ]
  },
  {
   "cell_type": "code",
   "execution_count": null,
   "metadata": {},
   "outputs": [],
   "source": [
    "dxy = [(0, 1), (0, -1), (1, 0), (-1, 0)]\n",
    "visited = [[0] * M for _ in range(N)]\n",
    "visited[0][0] = 1\n",
    "queue = [(0, 0)]\n",
    "\n",
    "while queue:\n",
    "    x, y = queue.pop(0)\n",
    "    for dx, dy in dxy:\n",
    "        nx, ny = x + dx, y + dy\n",
    "        if 0 <= nx < N and 0 <= ny < M and not visited[nx][ny]:\n",
    "            if maze[nx][ny] == 0:\n",
    "                visited[nx][ny] = visited[x][y]\n",
    "                queue.insert(0, (nx, ny))\n",
    "            else:\n",
    "                visited[nx][ny] = visited[x][y] + 1\n",
    "                queue.append((nx, ny))\n",
    "\n",
    "print(visited[N-1][M-1]-1)"
   ]
  },
  {
   "cell_type": "code",
   "execution_count": null,
   "metadata": {},
   "outputs": [],
   "source": []
  }
 ],
 "metadata": {
  "kernelspec": {
   "display_name": "Python 3",
   "language": "python",
   "name": "python3"
  },
  "language_info": {
   "codemirror_mode": {
    "name": "ipython",
    "version": 3
   },
   "file_extension": ".py",
   "mimetype": "text/x-python",
   "name": "python",
   "nbconvert_exporter": "python",
   "pygments_lexer": "ipython3",
   "version": "3.11.8"
  }
 },
 "nbformat": 4,
 "nbformat_minor": 2
}
