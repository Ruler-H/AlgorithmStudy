{
 "cells": [
  {
   "cell_type": "code",
   "execution_count": 1,
   "metadata": {},
   "outputs": [],
   "source": [
    "# 백준 2448번 - 별 찍기 - 11\n",
    "import sys\n",
    "# input = sys.stdin.readline\n",
    "sys.setrecursionlimit(10**6)\n",
    "\n",
    "N = int(input())"
   ]
  },
  {
   "cell_type": "code",
   "execution_count": null,
   "metadata": {},
   "outputs": [],
   "source": []
  },
  {
   "cell_type": "code",
   "execution_count": null,
   "metadata": {},
   "outputs": [],
   "source": [
    "#                        *                        \n",
    "#                       * *                       \n",
    "#                      *****                      \n",
    "#                     *     *                     \n",
    "#                    * *   * *                    \n",
    "#                   ***** *****                   \n",
    "#                  *           *                  \n",
    "#                 * *         * *                 \n",
    "#                *****       *****                \n",
    "#               *     *     *     *               \n",
    "#              * *   * *   * *   * *              \n",
    "#             ***** ***** ***** *****             \n",
    "#            *                       *            \n",
    "#           * *                     * *           \n",
    "#          *****                   *****          \n",
    "#         *     *                 *     *         \n",
    "#        * *   * *               * *   * *        \n",
    "#       ***** *****             ***** *****       \n",
    "#      *           *           *           *      \n",
    "#     * *         * *         * *         * *     \n",
    "#    *****       *****       *****       *****    \n",
    "#   *     *     *     *     *     *     *     *   \n",
    "#  * *   * *   * *   * *   * *   * *   * *   * *  \n",
    "# ***** ***** ***** ***** ***** ***** ***** *****\n",
    "\n",
    "def star(n, x, y):\n",
    "    if n == 3:\n",
    "        arr[y][x] = \"*\"\n",
    "        arr[y+1][x-1] = \"*\"\n",
    "        arr[y+1][x+1] = \"*\"\n",
    "        for i in range(5):\n",
    "            arr[y+2][x-i+2] = \"*\"\n",
    "    else:\n",
    "        n = n // 2\n",
    "        star(n, x, y)\n",
    "        star(n, x-n, y+n)\n",
    "        star(n, x+n, y+n)\n",
    "\n",
    "arr = [[\" \" for _ in range(2*N)] for _ in range(N)]\n",
    "star(N, N-1, 0)\n",
    "for i in range(N):\n",
    "    print(\"\".join(arr[i]))"
   ]
  },
  {
   "cell_type": "code",
   "execution_count": null,
   "metadata": {},
   "outputs": [],
   "source": []
  }
 ],
 "metadata": {
  "kernelspec": {
   "display_name": "Python 3",
   "language": "python",
   "name": "python3"
  },
  "language_info": {
   "codemirror_mode": {
    "name": "ipython",
    "version": 3
   },
   "file_extension": ".py",
   "mimetype": "text/x-python",
   "name": "python",
   "nbconvert_exporter": "python",
   "pygments_lexer": "ipython3",
   "version": "3.11.8"
  }
 },
 "nbformat": 4,
 "nbformat_minor": 2
}
