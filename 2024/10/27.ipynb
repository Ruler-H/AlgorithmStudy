{
 "cells": [
  {
   "cell_type": "code",
   "execution_count": 1,
   "metadata": {},
   "outputs": [],
   "source": [
    "# 백준 10942번 - 팰린드롬?\n",
    "import sys\n",
    "# input = sys.stdin.readline\n",
    "sys.setrecursionlimit(10**6)\n",
    "\n",
    "N = int(input())\n",
    "numbers = list(map(int, input().split()))\n",
    "M = int(input())"
   ]
  },
  {
   "cell_type": "code",
   "execution_count": null,
   "metadata": {},
   "outputs": [],
   "source": [
    "dp = [[0] * N for _ in range(N)]\n",
    "\n",
    "for i in range(N):\n",
    "    dp[i][i] = 1\n",
    "    if i < N - 1 and numbers[i] == numbers[i + 1]:\n",
    "        dp[i][i + 1] = 1\n",
    "for i in range(2, N):\n",
    "    for j in range(N - i):\n",
    "        if numbers[j] == numbers[j + i] and dp[j + 1][j + i - 1]:\n",
    "            dp[j][j + i] = 1\n",
    "            \n",
    "for _ in range(M):\n",
    "    s, e = map(int, input().split())\n",
    "    print(dp[s - 1][e - 1])"
   ]
  },
  {
   "cell_type": "code",
   "execution_count": null,
   "metadata": {},
   "outputs": [],
   "source": []
  }
 ],
 "metadata": {
  "kernelspec": {
   "display_name": "Python 3",
   "language": "python",
   "name": "python3"
  },
  "language_info": {
   "codemirror_mode": {
    "name": "ipython",
    "version": 3
   },
   "file_extension": ".py",
   "mimetype": "text/x-python",
   "name": "python",
   "nbconvert_exporter": "python",
   "pygments_lexer": "ipython3",
   "version": "3.11.8"
  }
 },
 "nbformat": 4,
 "nbformat_minor": 2
}
