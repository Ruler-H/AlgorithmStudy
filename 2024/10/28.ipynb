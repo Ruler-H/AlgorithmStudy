{
 "cells": [
  {
   "cell_type": "code",
   "execution_count": 14,
   "metadata": {},
   "outputs": [],
   "source": [
    "# 백준 1043번 - 거짓말\n",
    "import sys\n",
    "# input = sys.stdin.readline\n",
    "sys.setrecursionlimit(10**6)\n",
    "\n",
    "N, M = map(int, input().split())\n",
    "truth = list(map(int, input().split()))[1:]\n",
    "party = []\n",
    "for _ in range(M):\n",
    "    party.append(list(map(int, input().split()))[1:])"
   ]
  },
  {
   "cell_type": "code",
   "execution_count": 43,
   "metadata": {},
   "outputs": [
    {
     "name": "stdout",
     "output_type": "stream",
     "text": [
      "2\n"
     ]
    }
   ],
   "source": [
    "child = [[] for _ in range(N+1)]\n",
    "\n",
    "for i in range(M):\n",
    "    for j in range(len(party[i])):\n",
    "        for k in range(j+1, len(party[i])):\n",
    "            child[party[i][j]].append(party[i][k])\n",
    "            child[party[i][k]].append(party[i][j])\n",
    "\n",
    "def dfs(x):\n",
    "    visited[x] = True\n",
    "    for i in child[x]:\n",
    "        if not visited[i]:\n",
    "            dfs(i)\n",
    "\n",
    "visited = [False] * (N+1)\n",
    "for i in truth:\n",
    "    dfs(i)\n",
    "\n",
    "result = 0\n",
    "for i in party:\n",
    "    flag = True\n",
    "    for j in i:\n",
    "        if visited[j]:\n",
    "            flag = False\n",
    "            break\n",
    "    if flag:\n",
    "        result += 1\n",
    "\n",
    "print(result)"
   ]
  },
  {
   "cell_type": "code",
   "execution_count": null,
   "metadata": {},
   "outputs": [],
   "source": []
  }
 ],
 "metadata": {
  "kernelspec": {
   "display_name": "Python 3",
   "language": "python",
   "name": "python3"
  },
  "language_info": {
   "codemirror_mode": {
    "name": "ipython",
    "version": 3
   },
   "file_extension": ".py",
   "mimetype": "text/x-python",
   "name": "python",
   "nbconvert_exporter": "python",
   "pygments_lexer": "ipython3",
   "version": "3.11.8"
  }
 },
 "nbformat": 4,
 "nbformat_minor": 2
}
