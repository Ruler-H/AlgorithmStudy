{
 "cells": [
  {
   "cell_type": "code",
   "execution_count": 14,
   "metadata": {},
   "outputs": [],
   "source": [
    "# 백준 1043번 - 거짓말\n",
    "import sys\n",
    "# input = sys.stdin.readline\n",
    "sys.setrecursionlimit(10**6)\n",
    "\n",
    "N, M = map(int, input().split())\n",
    "truth = list(map(int, input().split()))[1:]\n",
    "party = []\n",
    "for _ in range(M):\n",
    "    party.append(list(map(int, input().split()))[1:])"
   ]
  },
  {
   "cell_type": "code",
   "execution_count": 42,
   "metadata": {},
   "outputs": [
    {
     "name": "stdout",
     "output_type": "stream",
     "text": [
      "1. parent [0, 1, 2, 3, 4]\n",
      "2. parent [0, 0, 2, 3, 4]\n",
      "p[i] 4\n",
      "p[i+1] 1\n",
      "[1]\n",
      "1\n",
      "0\n",
      "0\n",
      "parent [0, 0, 2, 3, 4]\n",
      "[2]\n",
      "2\n",
      "2\n",
      "1\n",
      "parent [0, 0, 2, 3, 4]\n",
      "[3]\n",
      "3\n",
      "3\n",
      "2\n",
      "parent [0, 0, 2, 3, 4]\n",
      "[4]\n",
      "4\n",
      "4\n",
      "3\n",
      "parent [0, 0, 2, 3, 4]\n",
      "[4, 1]\n",
      "4\n",
      "4\n",
      "1\n",
      "0\n",
      "3\n",
      "parent [0, 0, 2, 3, 4]\n",
      "[0, 0, 2, 3, 4]\n",
      "3\n"
     ]
    }
   ],
   "source": []
  },
  {
   "cell_type": "code",
   "execution_count": null,
   "metadata": {},
   "outputs": [],
   "source": []
  }
 ],
 "metadata": {
  "kernelspec": {
   "display_name": "Python 3",
   "language": "python",
   "name": "python3"
  },
  "language_info": {
   "codemirror_mode": {
    "name": "ipython",
    "version": 3
   },
   "file_extension": ".py",
   "mimetype": "text/x-python",
   "name": "python",
   "nbconvert_exporter": "python",
   "pygments_lexer": "ipython3",
   "version": "3.11.8"
  }
 },
 "nbformat": 4,
 "nbformat_minor": 2
}
