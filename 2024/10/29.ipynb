{
 "cells": [
  {
   "cell_type": "code",
   "execution_count": 1,
   "metadata": {},
   "outputs": [],
   "source": [
    "# 백준 7662번 - 이중 우선순위 큐\n",
    "import sys\n",
    "# input = sys.stdin.readline\n",
    "sys.setrecursionlimit(10**6)\n",
    "import heapq\n",
    "\n",
    "T = int(input())"
   ]
  },
  {
   "cell_type": "code",
   "execution_count": null,
   "metadata": {},
   "outputs": [],
   "source": [
    "for _ in range(T):\n",
    "    k = int(input())\n",
    "    min_heap = []  # 최소힙\n",
    "    max_heap = []  # 최대힙\n",
    "    visited = [False] * k  # 숫자의 유효성 체크를 위한 배열\n",
    "    \n",
    "    for i in range(k):\n",
    "        command, num = input().split()\n",
    "        num = int(num)\n",
    "        \n",
    "        if command == 'I':\n",
    "            heapq.heappush(min_heap, (num, i))  # (값, 인덱스)\n",
    "            heapq.heappush(max_heap, (-num, i))  # 최대힙을 위해 값을 음수로 저장\n",
    "            visited[i] = True\n",
    "        else:\n",
    "            if num == 1:  # 최댓값 삭제\n",
    "                # 이미 삭제된 노드들을 먼저 제거\n",
    "                while max_heap and not visited[max_heap[0][1]]:\n",
    "                    heapq.heappop(max_heap)\n",
    "                if max_heap:\n",
    "                    visited[max_heap[0][1]] = False\n",
    "                    heapq.heappop(max_heap)\n",
    "            else:  # 최솟값 삭제\n",
    "                # 이미 삭제된 노드들을 먼저 제거\n",
    "                while min_heap and not visited[min_heap[0][1]]:\n",
    "                    heapq.heappop(min_heap)\n",
    "                if min_heap:\n",
    "                    visited[min_heap[0][1]] = False\n",
    "                    heapq.heappop(min_heap)\n",
    "    \n",
    "    # 남아있는 노드들 중 유효한 노드 찾기\n",
    "    while min_heap and not visited[min_heap[0][1]]:\n",
    "        heapq.heappop(min_heap)\n",
    "    while max_heap and not visited[max_heap[0][1]]:\n",
    "        heapq.heappop(max_heap)\n",
    "    \n",
    "    if min_heap and max_heap:\n",
    "        print(-max_heap[0][0], min_heap[0][0])\n",
    "    else:\n",
    "        print(\"EMPTY\")"
   ]
  },
  {
   "cell_type": "code",
   "execution_count": null,
   "metadata": {},
   "outputs": [],
   "source": []
  }
 ],
 "metadata": {
  "kernelspec": {
   "display_name": "Python 3",
   "language": "python",
   "name": "python3"
  },
  "language_info": {
   "codemirror_mode": {
    "name": "ipython",
    "version": 3
   },
   "file_extension": ".py",
   "mimetype": "text/x-python",
   "name": "python",
   "nbconvert_exporter": "python",
   "pygments_lexer": "ipython3",
   "version": "3.11.8"
  }
 },
 "nbformat": 4,
 "nbformat_minor": 2
}
