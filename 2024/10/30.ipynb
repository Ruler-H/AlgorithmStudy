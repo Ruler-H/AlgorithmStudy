{
 "cells": [
  {
   "cell_type": "code",
   "execution_count": 5,
   "metadata": {},
   "outputs": [],
   "source": [
    "# 백준 1744번 - 수 묶기\n",
    "import sys\n",
    "# input = sys.stdin.readline\n",
    "sys.setrecursionlimit(10**6)\n",
    "\n",
    "N = int(input())\n",
    "nums = [int(input()) for _ in range(N)]"
   ]
  },
  {
   "cell_type": "code",
   "execution_count": null,
   "metadata": {},
   "outputs": [],
   "source": [
    "nums.sort()\n",
    "result = 0\n",
    "\n",
    "# 음수\n",
    "i = 0\n",
    "while i < N and nums[i] < 0:\n",
    "    if i + 1 < N and nums[i+1] <= 0:\n",
    "        result += nums[i] * nums[i+1]\n",
    "        i += 2\n",
    "    else:\n",
    "        result += nums[i]\n",
    "        i += 1\n",
    "\n",
    "# 양수\n",
    "j = N - 1\n",
    "while j >= 0 and nums[j] > 0:\n",
    "    if j - 1 >= 0 and nums[j-1] > 1:\n",
    "        result += nums[j] * nums[j-1]\n",
    "        j -= 2\n",
    "    else:\n",
    "        result += nums[j]\n",
    "        j -= 1\n",
    "\n",
    "print(result)"
   ]
  },
  {
   "cell_type": "code",
   "execution_count": null,
   "metadata": {},
   "outputs": [],
   "source": []
  }
 ],
 "metadata": {
  "kernelspec": {
   "display_name": "Python 3",
   "language": "python",
   "name": "python3"
  },
  "language_info": {
   "codemirror_mode": {
    "name": "ipython",
    "version": 3
   },
   "file_extension": ".py",
   "mimetype": "text/x-python",
   "name": "python",
   "nbconvert_exporter": "python",
   "pygments_lexer": "ipython3",
   "version": "3.11.8"
  }
 },
 "nbformat": 4,
 "nbformat_minor": 2
}
