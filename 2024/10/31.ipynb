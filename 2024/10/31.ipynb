{
 "cells": [
  {
   "cell_type": "code",
   "execution_count": null,
   "metadata": {},
   "outputs": [],
   "source": [
    "# 백준 12851번 - 숨바꼭질 2\n",
    "import sys\n",
    "# input = sys.stdin.readline\n",
    "sys.setrecursionlimit(10**6)\n",
    "from collections import deque\n",
    "\n",
    "N, K = map(int, input().split())"
   ]
  },
  {
   "cell_type": "code",
   "execution_count": null,
   "metadata": {},
   "outputs": [],
   "source": [
    "def bfs(N, K):\n",
    "    if N >= K:  # N이 K보다 크면 -1씩 이동하는 것이 유일한 방법\n",
    "        return N - K, 1\n",
    "        \n",
    "    queue = deque([(N, 0)])\n",
    "    visited = [-1] * 100001  # visited[x] = 해당 위치에 도달하는 최소 시간\n",
    "    visited[N] = 0\n",
    "    count = 0  # 최단 시간으로 도달하는 방법의 수\n",
    "    \n",
    "    while queue:\n",
    "        x, time = queue.popleft()\n",
    "        \n",
    "        # 목표 지점에 도달했을 때\n",
    "        if x == K:\n",
    "            count += 1\n",
    "            continue\n",
    "            \n",
    "        # 이미 최단거리를 찾았는데 현재 시간이 더 큰 경우\n",
    "        if visited[K] != -1 and time > visited[K]:\n",
    "            break\n",
    "            \n",
    "        # 다음 위치들을 탐색\n",
    "        for nx in (x-1, x+1, x*2):\n",
    "            if 0 <= nx <= 100000:\n",
    "                # 방문하지 않았거나, 같은 시간에 도달할 수 있는 경우\n",
    "                if visited[nx] == -1 or visited[nx] == time + 1:\n",
    "                    visited[nx] = time + 1\n",
    "                    queue.append((nx, time + 1))\n",
    "    \n",
    "    return visited[K], count\n",
    "\n",
    "time, count = bfs(N, K)\n",
    "print(time)\n",
    "print(count)"
   ]
  },
  {
   "cell_type": "code",
   "execution_count": null,
   "metadata": {},
   "outputs": [],
   "source": []
  }
 ],
 "metadata": {
  "kernelspec": {
   "display_name": "Python 3",
   "language": "python",
   "name": "python3"
  },
  "language_info": {
   "codemirror_mode": {
    "name": "ipython",
    "version": 3
   },
   "file_extension": ".py",
   "mimetype": "text/x-python",
   "name": "python",
   "nbconvert_exporter": "python",
   "pygments_lexer": "ipython3",
   "version": "3.11.8"
  }
 },
 "nbformat": 4,
 "nbformat_minor": 2
}
