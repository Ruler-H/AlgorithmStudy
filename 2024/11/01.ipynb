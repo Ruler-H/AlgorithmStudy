{
 "cells": [
  {
   "cell_type": "code",
   "execution_count": null,
   "metadata": {},
   "outputs": [],
   "source": [
    "# 백준 10830번 - 행렬 제곱\n",
    "import sys\n",
    "# input = sys.stdin.readline\n",
    "sys.setrecursionlimit(10**6)\n",
    "from copy import deepcopy\n",
    "\n",
    "N, B = map(int, input().split())\n",
    "matrix = [list(map(int, input().split())) for _ in range(N)]"
   ]
  },
  {
   "cell_type": "code",
   "execution_count": null,
   "metadata": {},
   "outputs": [],
   "source": [
    "def mul(A, B):\n",
    "    result = [[0] * N for _ in range(N)]\n",
    "    for i in range(N):\n",
    "        for j in range(N):\n",
    "            for k in range(N):\n",
    "                result[i][j] += A[i][k] * B[k][j]\n",
    "            result[i][j] %= 1000\n",
    "    return result\n",
    "\n",
    "def power(matrix, B):\n",
    "    if B == 1:\n",
    "        return matrix\n",
    "    elif B % 2 == 0:\n",
    "        temp = power(matrix, B // 2)\n",
    "        return mul(temp, temp)\n",
    "    else:\n",
    "        return mul(matrix, power(matrix, B - 1))\n",
    "    \n",
    "result = power(matrix, B)\n",
    "for i in range(N):\n",
    "    for j in range(N):\n",
    "        print(result[i][j] % 1000, end=\" \")\n",
    "    print()"
   ]
  },
  {
   "cell_type": "code",
   "execution_count": null,
   "metadata": {},
   "outputs": [],
   "source": []
  }
 ],
 "metadata": {
  "kernelspec": {
   "display_name": "Python 3",
   "language": "python",
   "name": "python3"
  },
  "language_info": {
   "codemirror_mode": {
    "name": "ipython",
    "version": 3
   },
   "file_extension": ".py",
   "mimetype": "text/x-python",
   "name": "python",
   "nbconvert_exporter": "python",
   "pygments_lexer": "ipython3",
   "version": "3.11.8"
  }
 },
 "nbformat": 4,
 "nbformat_minor": 2
}
