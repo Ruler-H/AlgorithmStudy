{
 "cells": [
  {
   "cell_type": "code",
   "execution_count": null,
   "metadata": {},
   "outputs": [],
   "source": [
    "# 백준 12851번 - 숨바꼭질 2\n",
    "import sys\n",
    "# input = sys.stdin.readline\n",
    "sys.setrecursionlimit(10**6)\n",
    "from collections import deque\n",
    "\n",
    "N, K = map(int, input().split())"
   ]
  },
  {
   "cell_type": "code",
   "execution_count": null,
   "metadata": {},
   "outputs": [],
   "source": [
    "def bfs():\n",
    "    queue = deque()\n",
    "    queue.append(N)\n",
    "    \n",
    "    # 각 위치에 도달하는 최소 시간을 저장\n",
    "    visited = [-1] * 100001\n",
    "    visited[N] = 0\n",
    "    \n",
    "    # 이전 위치를 저장하는 배열\n",
    "    parent = [-1] * 100001\n",
    "    parent[N] = N\n",
    "    \n",
    "    while queue:\n",
    "        current = queue.popleft()\n",
    "        \n",
    "        if current == K:\n",
    "            # 경로 역추적\n",
    "            path = []\n",
    "            while current != parent[current]:\n",
    "                path.append(current)\n",
    "                current = parent[current]\n",
    "            path.append(N)\n",
    "            return visited[K], ' '.join(map(str, path[::-1]))  # 경로를 역순으로 변환\n",
    "            \n",
    "        for next_pos in (current-1, current+1, current*2):\n",
    "            if 0 <= next_pos < 100001:\n",
    "                # 처음 방문하는 경우\n",
    "                if visited[next_pos] == -1:\n",
    "                    visited[next_pos] = visited[current] + 1\n",
    "                    parent[next_pos] = current\n",
    "                    queue.append(next_pos)\n",
    "                # 같은 시간에 도달하는 다른 경로는 무시 (최초 발견 경로만 저장)\n",
    "                elif visited[next_pos] == visited[current] + 1:\n",
    "                    continue\n",
    "    \n",
    "    return visited[K], \"\"\n",
    "\n",
    "time, path = bfs()\n",
    "print(time)\n",
    "print(path)"
   ]
  },
  {
   "cell_type": "code",
   "execution_count": null,
   "metadata": {},
   "outputs": [],
   "source": []
  }
 ],
 "metadata": {
  "kernelspec": {
   "display_name": "Python 3",
   "language": "python",
   "name": "python3"
  },
  "language_info": {
   "codemirror_mode": {
    "name": "ipython",
    "version": 3
   },
   "file_extension": ".py",
   "mimetype": "text/x-python",
   "name": "python",
   "nbconvert_exporter": "python",
   "pygments_lexer": "ipython3",
   "version": "3.11.8"
  }
 },
 "nbformat": 4,
 "nbformat_minor": 2
}
