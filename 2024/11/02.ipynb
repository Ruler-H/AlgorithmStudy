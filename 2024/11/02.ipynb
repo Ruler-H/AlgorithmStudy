{
 "cells": [
  {
   "cell_type": "code",
   "execution_count": null,
   "metadata": {},
   "outputs": [
    {
     "name": "stdout",
     "output_type": "stream",
     "text": [
      "Problem 1: 20\n"
     ]
    },
    {
     "ename": "ValueError",
     "evalue": "invalid literal for int() with base 10: ''",
     "output_type": "error",
     "traceback": [
      "\u001b[1;31m---------------------------------------------------------------------------\u001b[0m",
      "\u001b[1;31mValueError\u001b[0m                                Traceback (most recent call last)",
      "Cell \u001b[1;32mIn[1], line 9\u001b[0m\n\u001b[0;32m      7\u001b[0m \u001b[38;5;28;01mwhile\u001b[39;00m \u001b[38;5;28;01mTrue\u001b[39;00m:\n\u001b[0;32m      8\u001b[0m     cnt \u001b[38;5;241m+\u001b[39m\u001b[38;5;241m=\u001b[39m \u001b[38;5;241m1\u001b[39m\n\u001b[1;32m----> 9\u001b[0m     N \u001b[38;5;241m=\u001b[39m \u001b[38;5;28;43mint\u001b[39;49m\u001b[43m(\u001b[49m\u001b[38;5;28;43minput\u001b[39;49m\u001b[43m(\u001b[49m\u001b[43m)\u001b[49m\u001b[43m)\u001b[49m\n\u001b[0;32m     10\u001b[0m     \u001b[38;5;28;01mif\u001b[39;00m N \u001b[38;5;241m==\u001b[39m \u001b[38;5;241m0\u001b[39m:\n\u001b[0;32m     11\u001b[0m         \u001b[38;5;28;01mbreak\u001b[39;00m\n",
      "\u001b[1;31mValueError\u001b[0m: invalid literal for int() with base 10: ''"
     ]
    }
   ],
   "source": [
    "import sys\n",
    "import heapq\n",
    "# input = sys.stdin.readline\n",
    "sys.setrecursionlimit(10**6)\n",
    "\n",
    "cnt = 0\n",
    "while True:\n",
    "    cnt += 1\n",
    "    N = int(input())\n",
    "    if N == 0:\n",
    "        break\n",
    "    \n",
    "    graph = []\n",
    "    for _ in range(N):\n",
    "        graph.append(list(map(int, input().split())))\n",
    "    \n",
    "    INF = int(1e9)\n",
    "    distance = [[INF] * N for _ in range(N)]\n",
    "    dx = [-1, 1, 0, 0]\n",
    "    dy = [0, 0, -1, 1]\n",
    "\n",
    "    def dijkstra(x, y):\n",
    "        q = []\n",
    "        # (비용, x좌표, y좌표) 형태로 우선순위 큐에 저장\n",
    "        heapq.heappush(q, (graph[x][y], x, y))\n",
    "        distance[x][y] = graph[x][y]\n",
    "\n",
    "        while q:\n",
    "            # 최소 비용을 가진 노드 추출\n",
    "            cost, x, y = heapq.heappop(q)\n",
    "            \n",
    "            # 현재 비용이 이미 저장된 비용보다 크면 스킵\n",
    "            if distance[x][y] < cost:\n",
    "                continue\n",
    "\n",
    "            for i in range(4):\n",
    "                nx = x + dx[i]\n",
    "                ny = y + dy[i]\n",
    "\n",
    "                if nx < 0 or nx >= N or ny < 0 or ny >= N:\n",
    "                    continue\n",
    "                \n",
    "                new_cost = cost + graph[nx][ny]\n",
    "                if distance[nx][ny] > new_cost:\n",
    "                    distance[nx][ny] = new_cost\n",
    "                    heapq.heappush(q, (new_cost, nx, ny))\n",
    "\n",
    "    dijkstra(0, 0)\n",
    "    print(f\"Problem {cnt}: {distance[N-1][N-1]}\")"
   ]
  },
  {
   "cell_type": "code",
   "execution_count": null,
   "metadata": {},
   "outputs": [],
   "source": []
  }
 ],
 "metadata": {
  "kernelspec": {
   "display_name": "Python 3",
   "language": "python",
   "name": "python3"
  },
  "language_info": {
   "codemirror_mode": {
    "name": "ipython",
    "version": 3
   },
   "file_extension": ".py",
   "mimetype": "text/x-python",
   "name": "python",
   "nbconvert_exporter": "python",
   "pygments_lexer": "ipython3",
   "version": "3.11.8"
  }
 },
 "nbformat": 4,
 "nbformat_minor": 2
}
