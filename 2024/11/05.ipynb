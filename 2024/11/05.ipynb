{
 "cells": [
  {
   "cell_type": "code",
   "execution_count": null,
   "metadata": {},
   "outputs": [],
   "source": [
    "# 백준 11657번 - 타임머신\n",
    "import sys\n",
    "# input = sys.stdin.readline\n",
    "sys.setrecursionlimit(10**6)\n",
    "\n",
    "N, M = map(int, input().split())\n",
    "graph = []\n",
    "for _ in range(M):\n",
    "    a, b, c = map(int, input().split())\n",
    "    graph.append((a, b, c))"
   ]
  },
  {
   "cell_type": "code",
   "execution_count": null,
   "metadata": {},
   "outputs": [],
   "source": [
    "dist = [float('inf')] * (N+1)\n",
    "dist[1] = 0\n",
    "\n",
    "def bellman_ford():\n",
    "    for i in range(N):\n",
    "        for j in range(M):\n",
    "            cur, next_node, cost = graph[j]\n",
    "            if dist[cur] != float('inf') and dist[next_node] > dist[cur] + cost:\n",
    "                dist[next_node] = dist[cur] + cost\n",
    "                if i == N-1:\n",
    "                    return True\n",
    "    return False\n",
    "\n",
    "if bellman_ford():\n",
    "    print(-1)\n",
    "else:\n",
    "    for i in range(2, N+1):\n",
    "        if dist[i] == float('inf'):\n",
    "            print(-1)\n",
    "        else:\n",
    "            print(dist[i])"
   ]
  },
  {
   "cell_type": "code",
   "execution_count": null,
   "metadata": {},
   "outputs": [],
   "source": []
  }
 ],
 "metadata": {
  "kernelspec": {
   "display_name": "Python 3",
   "language": "python",
   "name": "python3"
  },
  "language_info": {
   "codemirror_mode": {
    "name": "ipython",
    "version": 3
   },
   "file_extension": ".py",
   "mimetype": "text/x-python",
   "name": "python",
   "nbconvert_exporter": "python",
   "pygments_lexer": "ipython3",
   "version": "3.11.8"
  }
 },
 "nbformat": 4,
 "nbformat_minor": 2
}
