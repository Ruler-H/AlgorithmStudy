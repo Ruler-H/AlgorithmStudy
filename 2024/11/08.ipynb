{
 "cells": [
  {
   "cell_type": "code",
   "execution_count": null,
   "metadata": {},
   "outputs": [],
   "source": [
    "# 백준 5052번 - 전화번호 목록\n",
    "import sys\n",
    "# input = sys.stdin.readline\n",
    "sys.setrecursionlimit(10**6)\n",
    "\n",
    "t = int(input())\n"
   ]
  },
  {
   "cell_type": "code",
   "execution_count": null,
   "metadata": {},
   "outputs": [],
   "source": [
    "for _ in range(t):\n",
    "    n = int(input())\n",
    "    phone_nums = [input().strip() for _ in range(n)]\n",
    "    phone_nums.sort()\n",
    "    is_consistent = True\n",
    "    for i in range(n-1):\n",
    "        if phone_nums[i] == phone_nums[i+1][:len(phone_nums[i])]:\n",
    "            is_consistent = False\n",
    "            break\n",
    "    print(\"YES\" if is_consistent else \"NO\")"
   ]
  },
  {
   "cell_type": "code",
   "execution_count": null,
   "metadata": {},
   "outputs": [],
   "source": []
  }
 ],
 "metadata": {
  "kernelspec": {
   "display_name": "Python 3",
   "language": "python",
   "name": "python3"
  },
  "language_info": {
   "codemirror_mode": {
    "name": "ipython",
    "version": 3
   },
   "file_extension": ".py",
   "mimetype": "text/x-python",
   "name": "python",
   "nbconvert_exporter": "python",
   "pygments_lexer": "ipython3",
   "version": "3.11.8"
  }
 },
 "nbformat": 4,
 "nbformat_minor": 2
}
