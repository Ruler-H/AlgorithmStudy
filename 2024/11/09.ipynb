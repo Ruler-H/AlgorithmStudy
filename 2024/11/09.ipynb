{
 "cells": [
  {
   "cell_type": "code",
   "execution_count": null,
   "metadata": {},
   "outputs": [],
   "source": [
    "# 백준 2704번 - 이진법 시계\n",
    "import sys\n",
    "# input = sys.stdin.readline\n",
    "sys.setrecursionlimit(10**6)\n",
    "\n",
    "N = int(input())\n",
    "for _ in range(N):\n",
    "    hour, minute, second = map(str, input().split(\":\"))\n",
    "    \n",
    "    # 이진수로 변환하고 6자리로 맞추기\n",
    "    hour = str(bin(int(hour))[2:]).zfill(6)\n",
    "    minute = str(bin(int(minute))[2:]).zfill(6)\n",
    "    second = str(bin(int(second))[2:]).zfill(6)\n",
    "    \n",
    "    # 열 우선으로 읽기\n",
    "    col_binary = \"\"\n",
    "    for i in range(6):\n",
    "        col_binary += hour[i] + minute[i] + second[i]\n",
    "    \n",
    "    # 행 우선으로 읽기\n",
    "    row_binary = hour + minute + second\n",
    "    \n",
    "    print(f\"{col_binary} {row_binary}\")"
   ]
  },
  {
   "cell_type": "code",
   "execution_count": null,
   "metadata": {},
   "outputs": [],
   "source": []
  },
  {
   "cell_type": "code",
   "execution_count": null,
   "metadata": {},
   "outputs": [],
   "source": []
  }
 ],
 "metadata": {
  "kernelspec": {
   "display_name": "Python 3",
   "language": "python",
   "name": "python3"
  },
  "language_info": {
   "codemirror_mode": {
    "name": "ipython",
    "version": 3
   },
   "file_extension": ".py",
   "mimetype": "text/x-python",
   "name": "python",
   "nbconvert_exporter": "python",
   "pygments_lexer": "ipython3",
   "version": "3.11.8"
  }
 },
 "nbformat": 4,
 "nbformat_minor": 2
}
