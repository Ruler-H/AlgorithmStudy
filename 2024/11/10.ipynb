{
 "cells": [
  {
   "cell_type": "code",
   "execution_count": null,
   "metadata": {},
   "outputs": [],
   "source": [
    "# 백준 1062번 - 가르침\n",
    "import sys\n",
    "# input = sys.stdin.readline\n",
    "sys.setrecursionlimit(10**6)\n",
    "\n",
    "N, K = map(int, input().split())\n",
    "words = []\n",
    "for _ in range(N):\n",
    "    # 입력값을 받아서 a, n, t, i, c를 제외한 나머지 문자만 저장\n",
    "    word = list(set(input().strip()) - set('antic'))\n",
    "    words.append(word)"
   ]
  },
  {
   "cell_type": "code",
   "execution_count": null,
   "metadata": {},
   "outputs": [],
   "source": [
    "# a, n, t, i, c는 무조건 배워야 하므로 5개를 배웠다고 가정\n",
    "learned = [0] * 26\n",
    "for i in ['a', 'n', 't', 'i', 'c']:\n",
    "    learned[ord(i) - ord('a')] = 1\n",
    "\n",
    "max_cnt = 0\n",
    "\n",
    "def dfs(idx, cnt):\n",
    "    global max_cnt\n",
    "    # K개를 배웠다면\n",
    "    if cnt == K - 5:\n",
    "        read_cnt = 0\n",
    "        for word in words:\n",
    "            for w in word:\n",
    "                # 배운 알파벳이라면\n",
    "                if not learned[ord(w) - ord('a')]:\n",
    "                    break\n",
    "            else:\n",
    "                read_cnt += 1\n",
    "        max_cnt = max(max_cnt, read_cnt)\n",
    "        return\n",
    "\n",
    "    # K개를 배우지 않았다면\n",
    "    for i in range(idx, 26):\n",
    "        # 배우지 않은 알파벳이라면\n",
    "        if not learned[i]:\n",
    "            learned[i] = 1\n",
    "            dfs(i, cnt + 1)\n",
    "            learned[i] = 0\n",
    "\n",
    "# K가 5보다 작다면\n",
    "if K < 5:\n",
    "    print(0)\n",
    "else:\n",
    "    dfs(0, 0)\n",
    "    print(max_cnt)\n"
   ]
  },
  {
   "cell_type": "code",
   "execution_count": null,
   "metadata": {},
   "outputs": [],
   "source": [
    "print(ord('r') - ord('a'))"
   ]
  },
  {
   "cell_type": "code",
   "execution_count": null,
   "metadata": {},
   "outputs": [],
   "source": []
  }
 ],
 "metadata": {
  "kernelspec": {
   "display_name": "Python 3",
   "language": "python",
   "name": "python3"
  },
  "language_info": {
   "codemirror_mode": {
    "name": "ipython",
    "version": 3
   },
   "file_extension": ".py",
   "mimetype": "text/x-python",
   "name": "python",
   "nbconvert_exporter": "python",
   "pygments_lexer": "ipython3",
   "version": "3.11.8"
  }
 },
 "nbformat": 4,
 "nbformat_minor": 2
}
