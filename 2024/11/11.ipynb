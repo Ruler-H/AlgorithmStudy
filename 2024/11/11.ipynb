{
 "cells": [
  {
   "cell_type": "code",
   "execution_count": null,
   "metadata": {},
   "outputs": [],
   "source": [
    "# 백준 2239번 - 스도쿠\n",
    "import sys\n",
    "# input = sys.stdin.readline\n",
    "sys.setrecursionlimit(10**6)\n",
    "\n",
    "board = [list(map(int, input().strip())) for _ in range(9)]"
   ]
  },
  {
   "cell_type": "code",
   "execution_count": null,
   "metadata": {},
   "outputs": [],
   "source": [
    "# 백준 2239번 - 스도쿠\n",
    "import sys\n",
    "# input = sys.stdin.readline\n",
    "sys.setrecursionlimit(10**6)\n",
    "\n",
    "# 103000509\n",
    "# 002109400\n",
    "# 000704000\n",
    "# 300502006\n",
    "# 060000050\n",
    "# 700803004\n",
    "# 000401000\n",
    "# 009205800\n",
    "# 804000107\n",
    "board = [\n",
    "    [1, 0, 3, 0, 0, 0, 5, 0, 9],\n",
    "    [0, 0, 2, 1, 0, 9, 4, 0, 0],\n",
    "    [0, 0, 0, 7, 0, 4, 0, 0, 0],\n",
    "    [3, 0, 0, 5, 0, 2, 0, 0, 6],\n",
    "    [0, 6, 0, 0, 0, 0, 0, 5, 0],\n",
    "    [7, 0, 0, 8, 0, 3, 0, 0, 4],\n",
    "    [0, 0, 0, 4, 0, 1, 0, 0, 0],\n",
    "    [0, 0, 9, 2, 0, 5, 8, 0, 0],\n",
    "    [8, 0, 4, 0, 0, 0, 1, 0, 7]\n",
    "]"
   ]
  },
  {
   "cell_type": "code",
   "execution_count": null,
   "metadata": {},
   "outputs": [],
   "source": [
    "# 각 행, 열, 박스에 대한 숫자 사용 여부를 저장할 세트\n",
    "row_used = [set() for _ in range(9)]\n",
    "col_used = [set() for _ in range(9)]\n",
    "box_used = [set() for _ in range(9)]\n",
    "\n",
    "# 초기 보드 상태로 used 세트들을 초기화\n",
    "for i in range(9):\n",
    "    for j in range(9):\n",
    "        if board[i][j] != 0:\n",
    "            num = board[i][j]\n",
    "            row_used[i].add(num)\n",
    "            col_used[j].add(num)\n",
    "            box_used[(i//3)*3 + j//3].add(num)\n",
    "\n",
    "def get_possible_numbers(x, y):\n",
    "    # 해당 위치에 들어갈 수 있는 숫자들을 찾음\n",
    "    box_idx = (x//3)*3 + y//3\n",
    "    used = row_used[x] | col_used[y] | box_used[box_idx]\n",
    "    return [num for num in range(1, 10) if num not in used]\n",
    "\n",
    "def dfs(cnt):\n",
    "    if cnt == len(zeros):\n",
    "        for row in board:\n",
    "            print(\"\".join(map(str, row)))\n",
    "        sys.exit(0)\n",
    "    \n",
    "    x, y = zeros[cnt]\n",
    "    box_idx = (x//3)*3 + y//3\n",
    "    \n",
    "    # 가능한 숫자들만 시도\n",
    "    possible_nums = get_possible_numbers(x, y)\n",
    "    for num in possible_nums:\n",
    "        # 숫자 배치\n",
    "        board[x][y] = num\n",
    "        row_used[x].add(num)\n",
    "        col_used[y].add(num)\n",
    "        box_used[box_idx].add(num)\n",
    "        \n",
    "        dfs(cnt+1)\n",
    "        \n",
    "        # 백트래킹\n",
    "        board[x][y] = 0\n",
    "        row_used[x].remove(num)\n",
    "        col_used[y].remove(num)\n",
    "        box_used[box_idx].remove(num)\n",
    "\n",
    "zeros = [(i, j) for i in range(9) for j in range(9) if board[i][j] == 0]\n",
    "dfs(0)"
   ]
  },
  {
   "cell_type": "code",
   "execution_count": null,
   "metadata": {},
   "outputs": [],
   "source": []
  }
 ],
 "metadata": {
  "kernelspec": {
   "display_name": "Python 3",
   "language": "python",
   "name": "python3"
  },
  "language_info": {
   "codemirror_mode": {
    "name": "ipython",
    "version": 3
   },
   "file_extension": ".py",
   "mimetype": "text/x-python",
   "name": "python",
   "nbconvert_exporter": "python",
   "pygments_lexer": "ipython3",
   "version": "3.11.8"
  }
 },
 "nbformat": 4,
 "nbformat_minor": 2
}
