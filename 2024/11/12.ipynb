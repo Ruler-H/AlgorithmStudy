{
 "cells": [
  {
   "cell_type": "code",
   "execution_count": null,
   "metadata": {},
   "outputs": [],
   "source": [
    "# 백준 17404번 - RGB거리 2\n",
    "import sys\n",
    "# input = sys.stdin.readline\n",
    "sys.setrecursionlimit(10**6)\n",
    "\n",
    "N = int(input())\n",
    "arr = [list(map(int, input().split())) for _ in range(N)]"
   ]
  },
  {
   "cell_type": "code",
   "execution_count": null,
   "metadata": {},
   "outputs": [],
   "source": [
    "dp = [[0] * 3 for _ in range(N)]\n",
    "result = 1000 * N\n",
    "\n",
    "for i in range(3):\n",
    "    for j in range(3):\n",
    "        if i == j:\n",
    "            dp[0][j] = arr[0][j]\n",
    "        else:\n",
    "            dp[0][j] = 1000 * N\n",
    "\n",
    "    for j in range(1, N):\n",
    "        dp[j][0] = arr[j][0] + min(dp[j-1][1], dp[j-1][2])\n",
    "        dp[j][1] = arr[j][1] + min(dp[j-1][0], dp[j-1][2])\n",
    "        dp[j][2] = arr[j][2] + min(dp[j-1][0], dp[j-1][1])\n",
    "\n",
    "    for j in range(3):\n",
    "        if i == j:\n",
    "            continue\n",
    "        result = min(result, dp[N-1][j])\n",
    "    \n",
    "print(result)"
   ]
  },
  {
   "cell_type": "code",
   "execution_count": null,
   "metadata": {},
   "outputs": [],
   "source": []
  }
 ],
 "metadata": {
  "kernelspec": {
   "display_name": "Python 3",
   "language": "python",
   "name": "python3"
  },
  "language_info": {
   "codemirror_mode": {
    "name": "ipython",
    "version": 3
   },
   "file_extension": ".py",
   "mimetype": "text/x-python",
   "name": "python",
   "nbconvert_exporter": "python",
   "pygments_lexer": "ipython3",
   "version": "3.11.8"
  }
 },
 "nbformat": 4,
 "nbformat_minor": 2
}
