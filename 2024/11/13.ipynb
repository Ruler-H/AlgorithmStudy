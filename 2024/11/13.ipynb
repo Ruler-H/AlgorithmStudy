{
 "cells": [
  {
   "cell_type": "code",
   "execution_count": null,
   "metadata": {},
   "outputs": [],
   "source": [
    "# 백준 5427번 - 불\n",
    "import sys\n",
    "# input = sys.stdin.readline\n",
    "from collections import deque\n",
    "sys.setrecursionlimit(10**6)\n",
    "\n",
    "t = int(input())"
   ]
  },
  {
   "cell_type": "code",
   "execution_count": null,
   "metadata": {},
   "outputs": [],
   "source": [
    "def bfs(w, h, grid, fire, person):\n",
    "    # 불과 사람의 방문 배열을 분리\n",
    "    fire_visited = [[False] * w for _ in range(h)]\n",
    "    person_visited = [[False] * w for _ in range(h)]\n",
    "    \n",
    "    # 불과 사람의 큐를 분리\n",
    "    fire_queue = deque(fire)\n",
    "    person_queue = deque([person])\n",
    "    \n",
    "    # 초기 위치 방문 처리\n",
    "    for fx, fy in fire:\n",
    "        fire_visited[fx][fy] = True\n",
    "    px, py = person\n",
    "    person_visited[px][py] = True\n",
    "    \n",
    "    time = 0\n",
    "    directions = [(1, 0), (-1, 0), (0, 1), (0, -1)]\n",
    "    \n",
    "    while person_queue:\n",
    "        time += 1\n",
    "        \n",
    "        # 불 먼저 퍼뜨리기\n",
    "        for _ in range(len(fire_queue)):\n",
    "            x, y = fire_queue.popleft()\n",
    "            for dx, dy in directions:\n",
    "                nx, ny = x + dx, y + dy\n",
    "                if 0 <= nx < h and 0 <= ny < w and not fire_visited[nx][ny] and grid[nx][ny] == '.':\n",
    "                    fire_visited[nx][ny] = True\n",
    "                    grid[nx][ny] = '*'\n",
    "                    fire_queue.append((nx, ny))\n",
    "        \n",
    "        # 사람 이동\n",
    "        for _ in range(len(person_queue)):\n",
    "            x, y = person_queue.popleft()\n",
    "            for dx, dy in directions:\n",
    "                nx, ny = x + dx, y + dy\n",
    "                # 탈출 성공\n",
    "                if nx < 0 or nx >= h or ny < 0 or ny >= w:\n",
    "                    return time\n",
    "                # 이동 가능\n",
    "                if not person_visited[nx][ny] and grid[nx][ny] == '.':\n",
    "                    person_visited[nx][ny] = True\n",
    "                    person_queue.append((nx, ny))\n",
    "                    \n",
    "    return \"IMPOSSIBLE\"\n",
    "\n",
    "for _ in range(t):\n",
    "    w, h = map(int, input().split())\n",
    "    grid = []\n",
    "    fire = []\n",
    "    person = None\n",
    "    \n",
    "    for i in range(h):\n",
    "        row = list(input().strip())\n",
    "        for j in range(w):\n",
    "            if row[j] == '*':\n",
    "                fire.append((i, j))\n",
    "            elif row[j] == '@':\n",
    "                person = (i, j)\n",
    "        grid.append(row)\n",
    "        \n",
    "    print(bfs(w, h, grid, fire, person))"
   ]
  },
  {
   "cell_type": "code",
   "execution_count": null,
   "metadata": {},
   "outputs": [],
   "source": []
  },
  {
   "cell_type": "code",
   "execution_count": null,
   "metadata": {},
   "outputs": [],
   "source": []
  }
 ],
 "metadata": {
  "kernelspec": {
   "display_name": "Python 3",
   "language": "python",
   "name": "python3"
  },
  "language_info": {
   "codemirror_mode": {
    "name": "ipython",
    "version": 3
   },
   "file_extension": ".py",
   "mimetype": "text/x-python",
   "name": "python",
   "nbconvert_exporter": "python",
   "pygments_lexer": "ipython3",
   "version": "3.11.8"
  }
 },
 "nbformat": 4,
 "nbformat_minor": 2
}
