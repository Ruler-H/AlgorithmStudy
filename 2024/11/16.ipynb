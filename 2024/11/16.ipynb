{
 "cells": [
  {
   "cell_type": "code",
   "execution_count": null,
   "metadata": {},
   "outputs": [],
   "source": [
    "# 백준 2458번 - 키 순서\n",
    "import sys\n",
    "from collections import defaultdict\n",
    "# input = sys.stdin.readline\n",
    "sys.setrecursionlimit(10**6)\n",
    "\n",
    "N, M = map(int, input().split())\n",
    "# 정방향 그래프(자신보다 큰 학생)\n",
    "forward = defaultdict(list)\n",
    "# 역방향 그래프(자신보다 작은 학생)\n",
    "backward = defaultdict(list)\n",
    "\n",
    "for _ in range(M):\n",
    "    a, b = map(int, input().split())\n",
    "    forward[a].append(b)  # a보다 b가 크다\n",
    "    backward[b].append(a) # b보다 a가 작다"
   ]
  },
  {
   "cell_type": "code",
   "execution_count": null,
   "metadata": {},
   "outputs": [],
   "source": [
    "def dfs(graph, visited, curr):\n",
    "    visited[curr] = True\n",
    "    cnt = 1\n",
    "    for next_node in graph[curr]:\n",
    "        if not visited[next_node]:\n",
    "            cnt += dfs(graph, visited, next_node)\n",
    "    return cnt\n",
    "\n",
    "def count_connected(forward_graph, backward_graph, node):\n",
    "    # 현재 노드보다 큰 학생 수 세기\n",
    "    visited = [False] * (N+1)\n",
    "    taller = dfs(forward_graph, visited, node) - 1\n",
    "    \n",
    "    # 현재 노드보다 작은 학생 수 세기\n",
    "    visited = [False] * (N+1)\n",
    "    shorter = dfs(backward_graph, visited, node) - 1\n",
    "    \n",
    "    return taller + shorter\n",
    "\n",
    "result = 0\n",
    "for i in range(1, N+1):\n",
    "    # i번 학생과 연결된 총 학생 수가 N-1이면 자신의 키 순서를 알 수 있음\n",
    "    if count_connected(forward, backward, i) == N-1:\n",
    "        result += 1\n",
    "\n",
    "print(result)"
   ]
  },
  {
   "cell_type": "code",
   "execution_count": null,
   "metadata": {},
   "outputs": [],
   "source": []
  }
 ],
 "metadata": {
  "kernelspec": {
   "display_name": "Python 3",
   "language": "python",
   "name": "python3"
  },
  "language_info": {
   "codemirror_mode": {
    "name": "ipython",
    "version": 3
   },
   "file_extension": ".py",
   "mimetype": "text/x-python",
   "name": "python",
   "nbconvert_exporter": "python",
   "pygments_lexer": "ipython3",
   "version": "3.11.8"
  }
 },
 "nbformat": 4,
 "nbformat_minor": 2
}
