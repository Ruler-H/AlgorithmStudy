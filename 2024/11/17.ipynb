{
 "cells": [
  {
   "cell_type": "code",
   "execution_count": null,
   "metadata": {},
   "outputs": [],
   "source": [
    "# 백준 1956번 - 운동\n",
    "import sys\n",
    "# input = sys.stdin.readline\n",
    "sys.setrecursionlimit(10**6)\n",
    "\n",
    "V, E = map(int, input().split())\n",
    "INF = int(1e9)\n",
    "dist = [[INF] * V for _ in range(V)]\n",
    "\n",
    "for _ in range(E):\n",
    "    a, b, c = map(int, input().split())\n",
    "    dist[a-1][b-1] = c"
   ]
  },
  {
   "cell_type": "code",
   "execution_count": null,
   "metadata": {},
   "outputs": [],
   "source": [
    "for k in range(V):\n",
    "    for i in range(V):\n",
    "        for j in range(V):\n",
    "            if dist[i][k] != INF and dist[k][j] != INF:\n",
    "                dist[i][j] = min(dist[i][j], dist[i][k] + dist[k][j])\n",
    "\n",
    "result = INF\n",
    "for i in range(V):\n",
    "    result = min(result, dist[i][i])\n",
    "\n",
    "print(-1 if result == INF else result)"
   ]
  },
  {
   "cell_type": "code",
   "execution_count": null,
   "metadata": {},
   "outputs": [],
   "source": [
    "import sys\n",
    "V,E=map(int,input().split())\n",
    "D=[[1e9]*V for _ in range(V)]\n",
    "for _ in range(E):a,b,c=map(int,input().split());D[a-1][b-1]=c\n",
    "for k in range(V):\n",
    " for i in range(V):\n",
    "  for j in range(V):D[i][j]=min(D[i][j],D[i][k]+D[k][j]if D[i][k]<1e9>D[k][j]else 1e9)\n",
    "r=min(D[i][i]for i in range(V))\n",
    "print(-1if r>1e9else r)"
   ]
  },
  {
   "cell_type": "code",
   "execution_count": null,
   "metadata": {},
   "outputs": [],
   "source": []
  }
 ],
 "metadata": {
  "kernelspec": {
   "display_name": "Python 3",
   "language": "python",
   "name": "python3"
  },
  "language_info": {
   "codemirror_mode": {
    "name": "ipython",
    "version": 3
   },
   "file_extension": ".py",
   "mimetype": "text/x-python",
   "name": "python",
   "nbconvert_exporter": "python",
   "pygments_lexer": "ipython3",
   "version": "3.11.8"
  }
 },
 "nbformat": 4,
 "nbformat_minor": 2
}
