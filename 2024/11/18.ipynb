{
 "cells": [
  {
   "cell_type": "code",
   "execution_count": null,
   "metadata": {},
   "outputs": [],
   "source": [
    "# 백준 2981번 - 검문\n",
    "import sys\n",
    "# input = sys.stdin.readline\n",
    "sys.setrecursionlimit(10**6)\n",
    "\n",
    "N = int(input())\n",
    "nums = [int(input()) for _ in range(N)]"
   ]
  },
  {
   "cell_type": "code",
   "execution_count": null,
   "metadata": {},
   "outputs": [],
   "source": [
    "result = []\n",
    "nums.sort()\n",
    "for i in range(1, N):\n",
    "    result.append(nums[i] - nums[i-1])\n",
    "\n",
    "gcd = result[0]\n",
    "\n",
    "for i in range(1, len(result)):\n",
    "    a = gcd\n",
    "    b = result[i]\n",
    "    while b != 0:\n",
    "        a, b = b, a % b\n",
    "    gcd = a\n",
    "\n",
    "answer = [gcd]\n",
    "for i in range(2, int(gcd ** 0.5) + 1):\n",
    "    if gcd % i == 0:\n",
    "        answer.append(i)\n",
    "        answer.append(gcd // i)\n",
    "answer.append(gcd)\n",
    "answer = list(set(answer))\n",
    "answer.sort()\n",
    "for i in answer:\n",
    "    print(i, end=\" \")"
   ]
  },
  {
   "cell_type": "code",
   "execution_count": null,
   "metadata": {},
   "outputs": [],
   "source": []
  }
 ],
 "metadata": {
  "kernelspec": {
   "display_name": "Python 3",
   "language": "python",
   "name": "python3"
  },
  "language_info": {
   "codemirror_mode": {
    "name": "ipython",
    "version": 3
   },
   "file_extension": ".py",
   "mimetype": "text/x-python",
   "name": "python",
   "nbconvert_exporter": "python",
   "pygments_lexer": "ipython3",
   "version": "3.11.8"
  }
 },
 "nbformat": 4,
 "nbformat_minor": 2
}
