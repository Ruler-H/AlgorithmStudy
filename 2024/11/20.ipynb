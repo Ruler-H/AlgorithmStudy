{
 "cells": [
  {
   "cell_type": "code",
   "execution_count": null,
   "metadata": {},
   "outputs": [],
   "source": [
    "# 백준 14938번 - 서강그라운드\n",
    "import sys\n",
    "# input = sys.stdin.readline\n",
    "sys.setrecursionlimit(10**6)\n",
    "\n",
    "n, m, r = map(int, input().split())\n",
    "items = [0] + list(map(int, input().split()))\n",
    "graph = [[200] * (n+1) for _ in range(n+1)]\n",
    "\n",
    "for _ in range(r):\n",
    "    a, b, l = map(int, input().split())\n",
    "    graph[a][b] = l\n",
    "    graph[b][a] = l"
   ]
  },
  {
   "cell_type": "code",
   "execution_count": null,
   "metadata": {},
   "outputs": [],
   "source": [
    "for k in range(1, n+1):\n",
    "    for i in range(1, n+1):\n",
    "        for j in range(1, n+1):\n",
    "            if i == j:\n",
    "                graph[i][j] = 0\n",
    "            else:\n",
    "                graph[i][j] = min(graph[i][j], graph[i][k] + graph[k][j])\n",
    "\n",
    "max_item = 0\n",
    "for i in range(1, n+1):\n",
    "    item = 0\n",
    "    for j in range(1, n+1):\n",
    "        if graph[i][j] <= m:\n",
    "            item += items[j]\n",
    "\n",
    "    max_item = max(max_item, item)\n",
    "\n",
    "print(max_item)"
   ]
  },
  {
   "cell_type": "code",
   "execution_count": null,
   "metadata": {},
   "outputs": [],
   "source": []
  },
  {
   "cell_type": "code",
   "execution_count": null,
   "metadata": {},
   "outputs": [],
   "source": []
  }
 ],
 "metadata": {
  "kernelspec": {
   "display_name": "Python 3",
   "language": "python",
   "name": "python3"
  },
  "language_info": {
   "codemirror_mode": {
    "name": "ipython",
    "version": 3
   },
   "file_extension": ".py",
   "mimetype": "text/x-python",
   "name": "python",
   "nbconvert_exporter": "python",
   "pygments_lexer": "ipython3",
   "version": "3.11.8"
  }
 },
 "nbformat": 4,
 "nbformat_minor": 2
}
