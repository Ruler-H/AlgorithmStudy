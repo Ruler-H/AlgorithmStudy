{
 "cells": [
  {
   "cell_type": "code",
   "execution_count": null,
   "metadata": {},
   "outputs": [],
   "source": [
    "# 백준 17140번 - 이차원 배열과 연산\n",
    "import sys\n",
    "# input = sys.stdin.readline\n",
    "sys.setrecursionlimit(10**6)\n",
    "\n",
    "r, c, k = map(int, input().split())\n",
    "arr = [list(map(int, input().split())) for _ in range(3)]"
   ]
  },
  {
   "cell_type": "code",
   "execution_count": null,
   "metadata": {},
   "outputs": [],
   "source": [
    "def operation():\n",
    "    max_len = 0\n",
    "    for i in range(len(arr)):\n",
    "        dic = {}\n",
    "        for j in range(len(arr[i])):\n",
    "            if arr[i][j] == 0:\n",
    "                continue\n",
    "            if arr[i][j] in dic:\n",
    "                dic[arr[i][j]] += 1\n",
    "            else:\n",
    "                dic[arr[i][j]] = 1\n",
    "        dic = sorted(dic.items(), key=lambda x: (x[1], x[0]))\n",
    "        arr[i] = []\n",
    "        for key, value in dic:\n",
    "            arr[i].append(key)\n",
    "            arr[i].append(value)\n",
    "        max_len = max(max_len, len(arr[i]))\n",
    "    for i in range(len(arr)):\n",
    "        if len(arr[i]) < max_len:\n",
    "            arr[i] += [0] * (max_len - len(arr[i]))\n",
    "\n",
    "def transpose():\n",
    "    new_arr = [[0] * len(arr) for _ in range(len(arr[0]))]\n",
    "    for i in range(len(arr)):\n",
    "        for j in range(len(arr[i])):\n",
    "            new_arr[j][i] = arr[i][j]\n",
    "    return new_arr\n",
    "\n",
    "time = 0\n",
    "while time <= 100:\n",
    "    if r <= len(arr) and c <= len(arr[0]) and arr[r-1][c-1] == k:\n",
    "        print(time)\n",
    "        break\n",
    "    if len(arr) >= len(arr[0]):\n",
    "        operation()\n",
    "    else:\n",
    "        arr = transpose()\n",
    "        operation()\n",
    "        arr = transpose()\n",
    "    time += 1\n",
    "\n",
    "if time > 100:\n",
    "    print(-1)"
   ]
  },
  {
   "cell_type": "code",
   "execution_count": null,
   "metadata": {},
   "outputs": [],
   "source": []
  },
  {
   "cell_type": "code",
   "execution_count": null,
   "metadata": {},
   "outputs": [],
   "source": []
  }
 ],
 "metadata": {
  "kernelspec": {
   "display_name": "Python 3",
   "language": "python",
   "name": "python3"
  },
  "language_info": {
   "codemirror_mode": {
    "name": "ipython",
    "version": 3
   },
   "file_extension": ".py",
   "mimetype": "text/x-python",
   "name": "python",
   "nbconvert_exporter": "python",
   "pygments_lexer": "ipython3",
   "version": "3.11.8"
  }
 },
 "nbformat": 4,
 "nbformat_minor": 2
}
