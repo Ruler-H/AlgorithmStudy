{
 "cells": [
  {
   "cell_type": "code",
   "execution_count": null,
   "metadata": {},
   "outputs": [],
   "source": [
    "# 백준 14226번 - 이모티콘\n",
    "import sys\n",
    "# input = sys.stdin.readline\n",
    "sys.setrecursionlimit(10**6)\n",
    "\n",
    "S = int(input())"
   ]
  },
  {
   "cell_type": "code",
   "execution_count": null,
   "metadata": {},
   "outputs": [],
   "source": [
    "dp = [[-1] * 1001 for _ in range(1001)]\n",
    "\n",
    "def bfs():\n",
    "    q = []\n",
    "    q.append((1, 0))\n",
    "    dp[1][0] = 0\n",
    "\n",
    "    while q:\n",
    "        s, c = q.pop(0)\n",
    "\n",
    "        if dp[s][s] == -1:\n",
    "            dp[s][s] = dp[s][c] + 1\n",
    "            q.append((s, s))\n",
    "        if s + c <= 1000 and dp[s+c][c] == -1:\n",
    "            dp[s+c][c] = dp[s][c] + 1\n",
    "            q.append((s+c, c))\n",
    "        if s-1 >= 0 and dp[s-1][c] == -1:\n",
    "            dp[s-1][c] = dp[s][c] + 1\n",
    "            q.append((s-1, c))\n",
    "\n",
    "bfs()\n",
    "for i in dp:\n",
    "    print(i)\n",
    "result = -1\n",
    "for i in range(1001):\n",
    "    if dp[S][i] != -1:\n",
    "        if result == -1 or result > dp[S][i]:\n",
    "            result = dp[S][i]\n",
    "print(result)"
   ]
  },
  {
   "cell_type": "code",
   "execution_count": null,
   "metadata": {},
   "outputs": [],
   "source": []
  },
  {
   "cell_type": "code",
   "execution_count": null,
   "metadata": {},
   "outputs": [],
   "source": []
  }
 ],
 "metadata": {
  "kernelspec": {
   "display_name": "Python 3",
   "language": "python",
   "name": "python3"
  },
  "language_info": {
   "codemirror_mode": {
    "name": "ipython",
    "version": 3
   },
   "file_extension": ".py",
   "mimetype": "text/x-python",
   "name": "python",
   "nbconvert_exporter": "python",
   "pygments_lexer": "ipython3",
   "version": "3.11.8"
  }
 },
 "nbformat": 4,
 "nbformat_minor": 2
}
