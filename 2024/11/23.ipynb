{
 "cells": [
  {
   "cell_type": "code",
   "execution_count": null,
   "metadata": {},
   "outputs": [],
   "source": [
    "# 백준 17406번 - 배열 돌리기 4\n",
    "import sys\n",
    "# input = sys.stdin.readline\n",
    "sys.setrecursionlimit(10**6)\n",
    "\n",
    "N, M, K = map(int, input().split())\n",
    "matrix = [list(map(int, input().split())) for _ in range(N)]\n",
    "rotate = [list(map(int, input().split())) for _ in range(K)]"
   ]
  },
  {
   "cell_type": "code",
   "execution_count": null,
   "metadata": {},
   "outputs": [],
   "source": [
    "def rotate_matrix(matrix, r, c, s):\n",
    "    for i in range(1, s+1):\n",
    "        temp = matrix[r-i][c-i]\n",
    "        for j in range(r-i, r+i):\n",
    "            matrix[j][c-i] = matrix[j+1][c-i]\n",
    "        for j in range(c-i, c+i):\n",
    "            matrix[r+i][j] = matrix[r+i][j+1]\n",
    "        for j in range(r+i, r-i, -1):\n",
    "            matrix[j][c+i] = matrix[j-1][c+i]\n",
    "        for j in range(c+i, c-i, -1):\n",
    "            matrix[r-i][j] = matrix[r-i][j-1]\n",
    "        matrix[r-i][c-i+1] = temp\n",
    "    return matrix\n",
    "\n",
    "def get_min_value(matrix):\n",
    "    min_value = 10000\n",
    "    for i in range(N):\n",
    "        temp = sum(matrix[i])\n",
    "        if temp < min_value:\n",
    "            min_value = temp\n",
    "    return min_value\n",
    "\n",
    "def dfs(matrix, rotate, visited):\n",
    "    if len(visited) == len(rotate):\n",
    "        temp = [row[:] for row in matrix]\n",
    "        for i in range(len(visited)):\n",
    "            r, c, s = rotate[visited[i]]\n",
    "            temp = rotate_matrix(temp, r-1, c-1, s)\n",
    "        result.append(get_min_value(temp))\n",
    "        return\n",
    "\n",
    "    for i in range(len(rotate)):\n",
    "        if i not in visited:\n",
    "            visited.append(i)\n",
    "            dfs(matrix, rotate, visited)\n",
    "            visited.pop()\n",
    "\n",
    "result = []\n",
    "dfs(matrix, rotate, [])\n",
    "print(min(result))"
   ]
  },
  {
   "cell_type": "code",
   "execution_count": null,
   "metadata": {},
   "outputs": [],
   "source": []
  }
 ],
 "metadata": {
  "kernelspec": {
   "display_name": "Python 3",
   "language": "python",
   "name": "python3"
  },
  "language_info": {
   "codemirror_mode": {
    "name": "ipython",
    "version": 3
   },
   "file_extension": ".py",
   "mimetype": "text/x-python",
   "name": "python",
   "nbconvert_exporter": "python",
   "pygments_lexer": "ipython3",
   "version": "3.11.8"
  }
 },
 "nbformat": 4,
 "nbformat_minor": 2
}
