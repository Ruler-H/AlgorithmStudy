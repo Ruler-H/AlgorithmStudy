{
 "cells": [
  {
   "cell_type": "code",
   "execution_count": 2,
   "metadata": {},
   "outputs": [],
   "source": [
    "# 백준 1963번 - 소수 경로\n",
    "import sys\n",
    "# input = sys.stdin.readline\n",
    "sys.setrecursionlimit(10**6)\n",
    "\n",
    "T = int(input())"
   ]
  },
  {
   "cell_type": "code",
   "execution_count": null,
   "metadata": {},
   "outputs": [
    {
     "name": "stdout",
     "output_type": "stream",
     "text": [
      "6\n",
      "7\n",
      "0\n"
     ]
    }
   ],
   "source": [
    "def is_prime(num):\n",
    "    if num == 1:\n",
    "        return False\n",
    "    if num == 2:\n",
    "        return True\n",
    "    if num % 2 == 0:\n",
    "        return False\n",
    "    for i in range(3, int(num ** 0.5) + 1, 2):\n",
    "        if num % i == 0:\n",
    "            return False\n",
    "    return True\n",
    "\n",
    "def find_prime():\n",
    "    for i in range(1000, 10000):\n",
    "        if is_prime(i):\n",
    "            primes.append(i)\n",
    "\n",
    "def is_one_diff(num1, num2):\n",
    "    diff = 0\n",
    "    for i in range(4):\n",
    "        if num1[i] != num2[i]:\n",
    "            diff += 1\n",
    "    return diff == 1\n",
    "\n",
    "def bfs(start, end):\n",
    "    queue = []\n",
    "    queue.append(start)\n",
    "    visited[start] = 1\n",
    "\n",
    "    while queue:\n",
    "        current = queue.pop(0)\n",
    "\n",
    "        if current == end:\n",
    "            return visited[current] - 1\n",
    "\n",
    "        for prime in primes:\n",
    "            if visited[prime] == 0 and is_one_diff(str(current), str(prime)):\n",
    "                visited[prime] = visited[current] + 1\n",
    "                queue.append(prime)\n",
    "    return \"Impossible\"\n",
    "\n",
    "for _ in range(T):\n",
    "    primes = []\n",
    "    find_prime()\n",
    "    visited = [0] * 10000\n",
    "    start, end = map(int, input().split())\n",
    "    print(bfs(start, end))\n"
   ]
  },
  {
   "cell_type": "code",
   "execution_count": null,
   "metadata": {},
   "outputs": [],
   "source": []
  }
 ],
 "metadata": {
  "kernelspec": {
   "display_name": "Python 3",
   "language": "python",
   "name": "python3"
  },
  "language_info": {
   "codemirror_mode": {
    "name": "ipython",
    "version": 3
   },
   "file_extension": ".py",
   "mimetype": "text/x-python",
   "name": "python",
   "nbconvert_exporter": "python",
   "pygments_lexer": "ipython3",
   "version": "3.11.8"
  }
 },
 "nbformat": 4,
 "nbformat_minor": 2
}
