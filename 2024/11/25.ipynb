{
 "cells": [
  {
   "cell_type": "code",
   "execution_count": null,
   "metadata": {},
   "outputs": [],
   "source": [
    "# 백준 20056번 - 마법사 상어와 파이어볼\n",
    "import sys\n",
    "# input = sys.stdin.readline\n",
    "sys.setrecursionlimit(10**6)\n",
    "\n",
    "N, M, K = map(int, input().split())\n",
    "fireballs = []\n",
    "for _ in range(M):\n",
    "    r, c, m, s, d = map(int, input().split())\n",
    "    fireballs.append((r-1, c-1, m, s, d))"
   ]
  },
  {
   "cell_type": "code",
   "execution_count": null,
   "metadata": {},
   "outputs": [],
   "source": [
    "weight = [0, 1, 2, 3, 4, 5, 6, 7]\n",
    "dx = [-1, -1, 0, 1, 1, 1, 0, -1]\n",
    "dy = [0, 1, 1, 1, 0, -1, -1, -1]\n",
    "\n",
    "for _ in range(K):\n",
    "    board = [[[] for _ in range(N)] for _ in range(N)]\n",
    "    for x, y, m, s, d in fireballs:\n",
    "        nx = (x + dx[d] * s) % N\n",
    "        ny = (y + dy[d] * s) % N\n",
    "        board[nx][ny].append((m, s, d))\n",
    "\n",
    "    fireballs = []\n",
    "    for i in range(N):\n",
    "        for j in range(N):\n",
    "            if len(board[i][j]) == 0:\n",
    "                continue\n",
    "            if len(board[i][j]) == 1:\n",
    "                fireballs.append((i, j, *board[i][j][0]))\n",
    "                continue\n",
    "            m, s, d = 0, 0, 0\n",
    "            odd, even = 0, 0\n",
    "            for ball in board[i][j]:\n",
    "                m += ball[0]\n",
    "                s += ball[1]\n",
    "                if ball[2] % 2 == 0:\n",
    "                    even += 1\n",
    "                else:\n",
    "                    odd += 1\n",
    "            m //= 5\n",
    "            s //= len(board[i][j])\n",
    "            if m == 0:\n",
    "                continue\n",
    "            if even == 0 or odd == 0:\n",
    "                for k in range(0, 7, 2):\n",
    "                    fireballs.append((i, j, m, s, k))\n",
    "            else:\n",
    "                for k in range(1, 8, 2):\n",
    "                    fireballs.append((i, j, m, s, k))\n",
    "\n",
    "print(sum([ball[2] for ball in fireballs]))"
   ]
  },
  {
   "cell_type": "code",
   "execution_count": null,
   "metadata": {},
   "outputs": [],
   "source": []
  }
 ],
 "metadata": {
  "kernelspec": {
   "display_name": "Python 3",
   "language": "python",
   "name": "python3"
  },
  "language_info": {
   "codemirror_mode": {
    "name": "ipython",
    "version": 3
   },
   "file_extension": ".py",
   "mimetype": "text/x-python",
   "name": "python",
   "nbconvert_exporter": "python",
   "pygments_lexer": "ipython3",
   "version": "3.11.8"
  }
 },
 "nbformat": 4,
 "nbformat_minor": 2
}
