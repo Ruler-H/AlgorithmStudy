{
 "cells": [
  {
   "cell_type": "code",
   "execution_count": null,
   "metadata": {},
   "outputs": [],
   "source": [
    "# 백준 2661번 - 좋은수열\n",
    "import sys\n",
    "# input = sys.stdin.readline\n",
    "sys.setrecursionlimit(10**6)\n",
    "\n",
    "N = int(input())"
   ]
  },
  {
   "cell_type": "code",
   "execution_count": null,
   "metadata": {},
   "outputs": [],
   "source": [
    "def check_good_seq(seq):\n",
    "    length = len(seq)\n",
    "    for i in range(1, length//2 + 1):\n",
    "        if seq[-i:] == seq[-2*i:-i]:\n",
    "            return False\n",
    "    return True\n",
    "\n",
    "def dfs(seq):\n",
    "    if not check_good_seq(seq):\n",
    "        return\n",
    "    if len(seq) == N:\n",
    "        print(seq)\n",
    "        sys.exit()\n",
    "    for i in range(1, 4):\n",
    "        dfs(seq + str(i))\n",
    "\n",
    "dfs(\"1\")"
   ]
  },
  {
   "cell_type": "code",
   "execution_count": null,
   "metadata": {},
   "outputs": [],
   "source": []
  }
 ],
 "metadata": {
  "kernelspec": {
   "display_name": "Python 3",
   "language": "python",
   "name": "python3"
  },
  "language_info": {
   "codemirror_mode": {
    "name": "ipython",
    "version": 3
   },
   "file_extension": ".py",
   "mimetype": "text/x-python",
   "name": "python",
   "nbconvert_exporter": "python",
   "pygments_lexer": "ipython3",
   "version": "3.11.8"
  }
 },
 "nbformat": 4,
 "nbformat_minor": 2
}
