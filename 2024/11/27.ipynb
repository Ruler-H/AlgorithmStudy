{
 "cells": [
  {
   "cell_type": "code",
   "execution_count": null,
   "metadata": {},
   "outputs": [],
   "source": [
    "# 백준 2665번 - 미로만들기\n",
    "import sys\n",
    "# input = sys.stdin.readline\n",
    "import heapq\n",
    "sys.setrecursionlimit(10**6)\n",
    "\n",
    "n = int(input())\n",
    "maze = [list(map(int, input().strip())) for _ in range(n)]"
   ]
  },
  {
   "cell_type": "code",
   "execution_count": null,
   "metadata": {},
   "outputs": [],
   "source": [
    "dx = [0, 0, 1, -1]\n",
    "dy = [1, -1, 0, 0]\n",
    "\n",
    "def dijkstra():\n",
    "    # 검은 방을 흰 방으로 바꾼 횟수를 저장하는 배열\n",
    "    distance = [[float('inf')] * n for _ in range(n)]\n",
    "    distance[0][0] = 0\n",
    "    \n",
    "    # (변경 횟수, x좌표, y좌표)를 우선순위 큐에 저장\n",
    "    pq = [(0, 0, 0)]\n",
    "    \n",
    "    while pq:\n",
    "        cnt, x, y = heapq.heappop(pq)\n",
    "        \n",
    "        # 현재 위치까지의 최소 변경 횟수가 이미 더 작다면 스킵\n",
    "        if distance[x][y] < cnt:\n",
    "            continue\n",
    "            \n",
    "        # 도착점에 도달했다면 현재까지의 변경 횟수 반환\n",
    "        if x == n - 1 and y == n - 1:\n",
    "            return cnt\n",
    "            \n",
    "        # 4방향 탐색\n",
    "        for i in range(4):\n",
    "            nx = x + dx[i]\n",
    "            ny = y + dy[i]\n",
    "            \n",
    "            if nx < 0 or nx >= n or ny < 0 or ny >= n:\n",
    "                continue\n",
    "                \n",
    "            # 흰 방인 경우\n",
    "            if maze[nx][ny] == 1:\n",
    "                new_cnt = cnt\n",
    "            # 검은 방인 경우\n",
    "            else:\n",
    "                new_cnt = cnt + 1\n",
    "                \n",
    "            # 더 적은 변경 횟수로 도달할 수 있다면 업데이트\n",
    "            if new_cnt < distance[nx][ny]:\n",
    "                distance[nx][ny] = new_cnt\n",
    "                heapq.heappush(pq, (new_cnt, nx, ny))\n",
    "    \n",
    "    return -1\n",
    "\n",
    "print(dijkstra())"
   ]
  },
  {
   "cell_type": "code",
   "execution_count": null,
   "metadata": {},
   "outputs": [],
   "source": []
  }
 ],
 "metadata": {
  "kernelspec": {
   "display_name": "Python 3",
   "language": "python",
   "name": "python3"
  },
  "language_info": {
   "codemirror_mode": {
    "name": "ipython",
    "version": 3
   },
   "file_extension": ".py",
   "mimetype": "text/x-python",
   "name": "python",
   "nbconvert_exporter": "python",
   "pygments_lexer": "ipython3",
   "version": "3.11.8"
  }
 },
 "nbformat": 4,
 "nbformat_minor": 2
}
