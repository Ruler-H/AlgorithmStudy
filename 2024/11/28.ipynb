{
 "cells": [
  {
   "cell_type": "code",
   "execution_count": null,
   "metadata": {},
   "outputs": [],
   "source": [
    "# 백준 2056번 - 작업\n",
    "import sys\n",
    "# input = sys.stdin.readline\n",
    "import heapq\n",
    "sys.setrecursionlimit(10**6)\n",
    "\n",
    "N = int(input())\n",
    "graph = [[] for _ in range(N+1)]\n",
    "indegree = [0] * (N+1)\n",
    "time = [0] * (N+1)\n",
    "result = [0] * (N+1)\n",
    "\n",
    "for i in range(1, N+1):\n",
    "    temp = list(map(int, input().split()))\n",
    "    time[i] = temp[0]\n",
    "    for j in range(2, len(temp)):\n",
    "        graph[temp[j]].append(i)\n",
    "        indegree[i] += 1\n",
    "\n",
    "def topology_sort():\n",
    "    q = []\n",
    "    for i in range(1, N+1):\n",
    "        if indegree[i] == 0:\n",
    "            heapq.heappush(q, i)\n",
    "            result[i] = time[i]\n",
    "\n",
    "    while q:\n",
    "        now = heapq.heappop(q)\n",
    "\n",
    "        for i in graph[now]:\n",
    "            indegree[i] -= 1\n",
    "            result[i] = max(result[i], result[now] + time[i])\n",
    "            if indegree[i] == 0:\n",
    "                heapq.heappush(q, i)\n",
    "\n",
    "topology_sort()\n",
    "print(max(result))"
   ]
  },
  {
   "cell_type": "code",
   "execution_count": null,
   "metadata": {},
   "outputs": [],
   "source": []
  }
 ],
 "metadata": {
  "kernelspec": {
   "display_name": "Python 3",
   "language": "python",
   "name": "python3"
  },
  "language_info": {
   "codemirror_mode": {
    "name": "ipython",
    "version": 3
   },
   "file_extension": ".py",
   "mimetype": "text/x-python",
   "name": "python",
   "nbconvert_exporter": "python",
   "pygments_lexer": "ipython3",
   "version": "3.11.8"
  }
 },
 "nbformat": 4,
 "nbformat_minor": 2
}
