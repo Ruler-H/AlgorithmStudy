{
 "cells": [
  {
   "cell_type": "code",
   "execution_count": null,
   "metadata": {},
   "outputs": [],
   "source": [
    "# 백준 17281번 - ⚾\n",
    "import sys\n",
    "from itertools import permutations\n",
    "# input = sys.stdin.readline\n",
    "\n",
    "N = int(input())\n",
    "inning = [[0] + list(map(int, input().split())) for _ in range(N)]"
   ]
  },
  {
   "cell_type": "code",
   "execution_count": 39,
   "metadata": {},
   "outputs": [],
   "source": [
    "# 백준 17281번 - ⚾\n",
    "import sys\n",
    "from itertools import permutations\n",
    "# input = sys.stdin.readline\n",
    "\n",
    "N = 9\n",
    "# 1 2 4 3 0 2 1 0 3\n",
    "# 1 2 1 2 0 0 0 0 1\n",
    "# 3 4 2 3 1 2 3 4 0\n",
    "# 0 1 2 3 4 2 1 0 0\n",
    "# 0 0 0 0 0 0 1 4 4\n",
    "# 0 4 0 4 0 4 0 4 0\n",
    "# 0 4 2 2 2 2 2 2 2\n",
    "# 1 1 1 1 1 1 1 1 0\n",
    "# 0 2 0 3 0 1 0 2 0\n",
    "inning = [[0, 1, 2, 4, 3, 0, 2, 1, 0, 3],\n",
    "            [0, 1, 2, 1, 2, 0, 0, 0, 0, 1],\n",
    "            [0, 3, 4, 2, 3, 1, 2, 3, 4, 0],\n",
    "            [0, 0, 1, 2, 3, 4, 2, 1, 0, 0],\n",
    "            [0, 0, 0, 0, 0, 0, 0, 1, 4, 4],\n",
    "            [0, 0, 4, 0, 4, 0, 4, 0, 4, 0],\n",
    "            [0, 0, 4, 2, 2, 2, 2, 2, 2, 2],\n",
    "            [0, 1, 1, 1, 1, 1, 1, 1, 1, 0],\n",
    "            [0, 0, 2, 0, 3, 0, 1, 0, 2, 0]]\n",
    "# result = 89"
   ]
  },
  {
   "cell_type": "code",
   "execution_count": null,
   "metadata": {},
   "outputs": [
    {
     "name": "stdout",
     "output_type": "stream",
     "text": [
      "[0, 1, 2, 4, 3, 0, 2, 1, 0, 3]\n",
      "1\n"
     ]
    },
    {
     "ename": "KeyError",
     "evalue": "'a'",
     "output_type": "error",
     "traceback": [
      "\u001b[1;31m---------------------------------------------------------------------------\u001b[0m",
      "\u001b[1;31mKeyError\u001b[0m                                  Traceback (most recent call last)",
      "Cell \u001b[1;32mIn[38], line 47\u001b[0m\n\u001b[0;32m     45\u001b[0m \u001b[38;5;28mprint\u001b[39m(inning_)\n\u001b[0;32m     46\u001b[0m \u001b[38;5;28mprint\u001b[39m(idx)\n\u001b[1;32m---> 47\u001b[0m \u001b[38;5;28;01mif\u001b[39;00m inning_[\u001b[38;5;28;43mglobals\u001b[39;49m\u001b[43m(\u001b[49m\u001b[43m)\u001b[49m\u001b[43m[\u001b[49m\u001b[38;5;28;43mchr\u001b[39;49m\u001b[43m(\u001b[49m\u001b[38;5;241;43m96\u001b[39;49m\u001b[43m \u001b[49m\u001b[38;5;241;43m+\u001b[39;49m\u001b[43m \u001b[49m\u001b[43midx\u001b[49m\u001b[43m)\u001b[49m\u001b[43m]\u001b[49m] \u001b[38;5;241m==\u001b[39m \u001b[38;5;241m0\u001b[39m:\n\u001b[0;32m     48\u001b[0m     out \u001b[38;5;241m+\u001b[39m\u001b[38;5;241m=\u001b[39m \u001b[38;5;241m1\u001b[39m\n\u001b[0;32m     49\u001b[0m \u001b[38;5;28;01melif\u001b[39;00m inning_[\u001b[38;5;28mglobals\u001b[39m()[\u001b[38;5;28mchr\u001b[39m(\u001b[38;5;241m96\u001b[39m \u001b[38;5;241m+\u001b[39m idx)]] \u001b[38;5;241m==\u001b[39m \u001b[38;5;241m1\u001b[39m:\n",
      "\u001b[1;31mKeyError\u001b[0m: 'a'"
     ]
    }
   ],
   "source": [
    "# ⚾는 9명으로 이루어진 두 팀이 공격과 수비를 번갈아 하는 게임이다. 하나의 이닝은 공격과 수비로 이루어져 있고, 총 N이닝 동안 게임을 진행해야 한다. 한 이닝에 3아웃이 발생하면 이닝이 종료되고, 두 팀이 공격과 수비를 서로 바꾼다.\n",
    "\n",
    "# 두 팀은 경기가 시작하기 전까지 타순(타자가 타석에 서는 순서)을 정해야 하고, 경기 중에는 타순을 변경할 수 없다. 9번 타자까지 공을 쳤는데 3아웃이 발생하지 않은 상태면 이닝은 끝나지 않고, 1번 타자가 다시 타석에 선다. 타순은 이닝이 변경되어도 순서를 유지해야 한다. 예를 들어, 2이닝에 6번 타자가 마지막 타자였다면, 3이닝은 7번 타자부터 타석에 선다.\n",
    "\n",
    "# 공격은 투수가 던진 공을 타석에 있는 타자가 치는 것이다. 공격 팀의 선수가 1루, 2루, 3루를 거쳐서 홈에 도착하면 1점을 득점한다. 타자가 홈에 도착하지 못하고 1루, 2루, 3루 중 하나에 머물러있을 수 있다. 루에 있는 선수를 주자라고 한다. 이닝이 시작될 때는 주자는 없다.\n",
    "\n",
    "# 타자가 공을 쳐서 얻을 수 있는 결과는 안타, 2루타, 3루타, 홈런, 아웃 중 하나이다. 각각이 발생했을 때, 벌어지는 일은 다음과 같다.\n",
    "\n",
    "# 안타: 타자와 모든 주자가 한 루씩 진루한다.\n",
    "# 2루타: 타자와 모든 주자가 두 루씩 진루한다.\n",
    "# 3루타: 타자와 모든 주자가 세 루씩 진루한다.\n",
    "# 홈런: 타자와 모든 주자가 홈까지 진루한다.\n",
    "# 아웃: 모든 주자는 진루하지 못하고, 공격 팀에 아웃이 하나 증가한다.\n",
    "# 한 야구팀의 감독 아인타는 타순을 정하려고 한다. 아인타 팀의 선수는 총 9명이 있고, 1번부터 9번까지 번호가 매겨져 있다. 아인타는 자신이 가장 좋아하는 선수인 1번 선수를 4번 타자로 미리 결정했다. 이제 다른 선수의 타순을 모두 결정해야 한다. 아인타는 각 선수가 각 이닝에서 어떤 결과를 얻는지 미리 알고 있다. 가장 많은 득점을 하는 타순을 찾고, 그 때의 득점을 구해보자.\n",
    "\n",
    "all_cases = []\n",
    "for case in permutations(range(2, 10), 8):\n",
    "    "
   ]
  },
  {
   "cell_type": "code",
   "execution_count": null,
   "metadata": {},
   "outputs": [],
   "source": []
  }
 ],
 "metadata": {
  "kernelspec": {
   "display_name": "Python 3",
   "language": "python",
   "name": "python3"
  },
  "language_info": {
   "codemirror_mode": {
    "name": "ipython",
    "version": 3
   },
   "file_extension": ".py",
   "mimetype": "text/x-python",
   "name": "python",
   "nbconvert_exporter": "python",
   "pygments_lexer": "ipython3",
   "version": "3.11.8"
  }
 },
 "nbformat": 4,
 "nbformat_minor": 2
}
