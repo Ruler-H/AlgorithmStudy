{
 "cells": [
  {
   "cell_type": "code",
   "execution_count": null,
   "metadata": {},
   "outputs": [],
   "source": [
    "# 백준 6497번 - 전력난\n",
    "import sys\n",
    "# input = sys.stdin.readline\n",
    "sys.setrecursionlimit(10**6)\n",
    "\n",
    "while True:\n",
    "    m, n = map(int, input().split())\n",
    "    if m == 0 and n == 0:\n",
    "        break\n",
    "    total = 0\n",
    "    edges = []\n",
    "    for _ in range(n):\n",
    "        x, y, z = map(int, input().split())\n",
    "        total += z\n",
    "        edges.append((z, x, y))\n",
    "    edges.sort()\n",
    "    parent = [i for i in range(m)]\n",
    "    def find(x):\n",
    "        if parent[x] == x:\n",
    "            return x\n",
    "        parent[x] = find(parent[x])\n",
    "        return parent[x]\n",
    "\n",
    "    def union(x, y):\n",
    "        x = find(x)\n",
    "        y = find(y)\n",
    "        if x == y:\n",
    "            return\n",
    "        parent[x] = y\n",
    "\n",
    "    result = 0\n",
    "    for edge in edges:\n",
    "        z, x, y = edge\n",
    "        if find(x) != find(y):\n",
    "            union(x, y)\n",
    "            result += z\n",
    "    print(total - result)"
   ]
  },
  {
   "cell_type": "code",
   "execution_count": null,
   "metadata": {},
   "outputs": [],
   "source": []
  },
  {
   "cell_type": "code",
   "execution_count": null,
   "metadata": {},
   "outputs": [],
   "source": []
  }
 ],
 "metadata": {
  "kernelspec": {
   "display_name": "Python 3",
   "language": "python",
   "name": "python3"
  },
  "language_info": {
   "codemirror_mode": {
    "name": "ipython",
    "version": 3
   },
   "file_extension": ".py",
   "mimetype": "text/x-python",
   "name": "python",
   "nbconvert_exporter": "python",
   "pygments_lexer": "ipython3",
   "version": "3.11.8"
  }
 },
 "nbformat": 4,
 "nbformat_minor": 2
}
