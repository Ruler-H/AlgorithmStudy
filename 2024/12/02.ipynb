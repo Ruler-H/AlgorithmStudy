{
 "cells": [
  {
   "cell_type": "code",
   "execution_count": null,
   "metadata": {},
   "outputs": [],
   "source": [
    "# 백준 10282 - 해킹\n",
    "import sys\n",
    "# input = sys.stdin.readline\n",
    "sys.setrecursionlimit(10**6)\n",
    "\n",
    "t = int(input())"
   ]
  },
  {
   "cell_type": "code",
   "execution_count": null,
   "metadata": {},
   "outputs": [],
   "source": [
    "for _ in range(t):\n",
    "    n, d, c = map(int, input().split())\n",
    "    graph = [[] for _ in range(n+1)]\n",
    "    for _ in range(d):\n",
    "        a, b, s = map(int, input().split())\n",
    "        graph[b].append((a, s))\n",
    "    dist = [float('inf') for _ in range(n+1)]\n",
    "    dist[c] = 0\n",
    "    q = [(0, c)]\n",
    "    while q:\n",
    "        time, node = q.pop(0)\n",
    "        for next_node, next_time in graph[node]:\n",
    "            if dist[next_node] > time + next_time:\n",
    "                dist[next_node] = time + next_time\n",
    "                q.append((dist[next_node], next_node))\n",
    "    count = 0\n",
    "    max_time = 0\n",
    "    for i in range(1, n+1):\n",
    "        if dist[i] != float('inf'):\n",
    "            count += 1\n",
    "            max_time = max(max_time, dist[i])\n",
    "    print(count, max_time)"
   ]
  },
  {
   "cell_type": "code",
   "execution_count": null,
   "metadata": {},
   "outputs": [],
   "source": []
  }
 ],
 "metadata": {
  "kernelspec": {
   "display_name": "Python 3",
   "language": "python",
   "name": "python3"
  },
  "language_info": {
   "codemirror_mode": {
    "name": "ipython",
    "version": 3
   },
   "file_extension": ".py",
   "mimetype": "text/x-python",
   "name": "python",
   "nbconvert_exporter": "python",
   "pygments_lexer": "ipython3",
   "version": "3.11.8"
  }
 },
 "nbformat": 4,
 "nbformat_minor": 2
}
