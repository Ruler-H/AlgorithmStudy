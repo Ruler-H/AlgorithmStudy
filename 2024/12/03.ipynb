{
 "cells": [
  {
   "cell_type": "code",
   "execution_count": 1,
   "metadata": {},
   "outputs": [],
   "source": [
    "# 백준 3584번 - 가장 가까운 공통 조상\n",
    "import sys\n",
    "# input = sys.stdin.readline\n",
    "sys.setrecursionlimit(10**6)\n",
    "\n",
    "t = int(input())"
   ]
  },
  {
   "cell_type": "code",
   "execution_count": null,
   "metadata": {},
   "outputs": [
    {
     "name": "stdout",
     "output_type": "stream",
     "text": [
      "4\n"
     ]
    },
    {
     "ename": "ValueError",
     "evalue": "invalid literal for int() with base 10: ''",
     "output_type": "error",
     "traceback": [
      "\u001b[1;31m---------------------------------------------------------------------------\u001b[0m",
      "\u001b[1;31mValueError\u001b[0m                                Traceback (most recent call last)",
      "Cell \u001b[1;32mIn[7], line 26\u001b[0m\n\u001b[0;32m      1\u001b[0m \u001b[38;5;66;03m# 2\u001b[39;00m\n\u001b[0;32m      2\u001b[0m \u001b[38;5;66;03m# 16\u001b[39;00m\n\u001b[0;32m      3\u001b[0m \u001b[38;5;66;03m# 1 14\u001b[39;00m\n\u001b[1;32m   (...)\u001b[0m\n\u001b[0;32m     23\u001b[0m \u001b[38;5;66;03m# 1 5\u001b[39;00m\n\u001b[0;32m     24\u001b[0m \u001b[38;5;66;03m# 3 5\u001b[39;00m\n\u001b[0;32m     25\u001b[0m \u001b[38;5;28;01mfor\u001b[39;00m _ \u001b[38;5;129;01min\u001b[39;00m \u001b[38;5;28mrange\u001b[39m(t):\n\u001b[1;32m---> 26\u001b[0m     n \u001b[38;5;241m=\u001b[39m \u001b[38;5;28;43mint\u001b[39;49m\u001b[43m(\u001b[49m\u001b[38;5;28;43minput\u001b[39;49m\u001b[43m(\u001b[49m\u001b[43m)\u001b[49m\u001b[43m)\u001b[49m\n\u001b[0;32m     27\u001b[0m     parent \u001b[38;5;241m=\u001b[39m [\u001b[38;5;241m0\u001b[39m] \u001b[38;5;241m*\u001b[39m (n \u001b[38;5;241m+\u001b[39m \u001b[38;5;241m1\u001b[39m)\n\u001b[0;32m     28\u001b[0m     depth \u001b[38;5;241m=\u001b[39m [\u001b[38;5;241m0\u001b[39m] \u001b[38;5;241m*\u001b[39m (n \u001b[38;5;241m+\u001b[39m \u001b[38;5;241m1\u001b[39m)\n",
      "\u001b[1;31mValueError\u001b[0m: invalid literal for int() with base 10: ''"
     ]
    }
   ],
   "source": [
    "for _ in range(t):\n",
    "    n = int(input())\n",
    "    parent = [0] * (n + 1)\n",
    "    depth = [0] * (n + 1)\n",
    "    # 인접 리스트로 자식 노드 저장\n",
    "    children = [[] for _ in range(n + 1)]\n",
    "    \n",
    "    for _ in range(n - 1):\n",
    "        a, b = map(int, input().split())\n",
    "        parent[b] = a\n",
    "        children[a].append(b)\n",
    "    \n",
    "    # 루트 찾기\n",
    "    for i in range(1, n + 1):\n",
    "        if parent[i] == 0:\n",
    "            root = i\n",
    "            break\n",
    "\n",
    "    def dfs(x, d):\n",
    "        depth[x] = d\n",
    "        # 인접 리스트를 사용하여 자식 노드들을 직접 접근\n",
    "        for child in children[x]:\n",
    "            dfs(child, d + 1)\n",
    "\n",
    "    dfs(root, 0)\n",
    "    \n",
    "    a, b = map(int, input().split())\n",
    "\n",
    "    # 깊이가 같아질 때까지 거슬러 올라가기\n",
    "    while depth[a] > depth[b]:\n",
    "        a = parent[a]\n",
    "    while depth[a] < depth[b]:\n",
    "        b = parent[b]\n",
    "    \n",
    "    # 공통 조상 찾기\n",
    "    while a != b:\n",
    "        a = parent[a]\n",
    "        b = parent[b]\n",
    "    print(a)"
   ]
  },
  {
   "cell_type": "code",
   "execution_count": null,
   "metadata": {},
   "outputs": [],
   "source": []
  }
 ],
 "metadata": {
  "kernelspec": {
   "display_name": "Python 3",
   "language": "python",
   "name": "python3"
  },
  "language_info": {
   "codemirror_mode": {
    "name": "ipython",
    "version": 3
   },
   "file_extension": ".py",
   "mimetype": "text/x-python",
   "name": "python",
   "nbconvert_exporter": "python",
   "pygments_lexer": "ipython3",
   "version": "3.11.8"
  }
 },
 "nbformat": 4,
 "nbformat_minor": 2
}
