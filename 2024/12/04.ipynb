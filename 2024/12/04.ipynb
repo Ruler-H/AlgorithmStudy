{
 "cells": [
  {
   "cell_type": "code",
   "execution_count": null,
   "metadata": {},
   "outputs": [],
   "source": [
    "# 백준 4803번 - 트리 \n",
    "import sys\n",
    "# input = sys.stdin.readline\n",
    "sys.setrecursionlimit(10**6)\n",
    "case_num = 1\n",
    "while True:\n",
    "    n, m = map(int, input().split())\n",
    "    if n == 0 and m == 0:\n",
    "        break\n",
    "\n",
    "    graph = [[] for _ in range(n+1)]\n",
    "    visited = [False] * (n+1)\n",
    "    for _ in range(m):\n",
    "        a, b = map(int, input().split())\n",
    "        graph[a].append(b)\n",
    "        graph[b].append(a)\n",
    "\n",
    "    def dfs(v, parent):\n",
    "        visited[v] = True\n",
    "        for i in graph[v]:\n",
    "            if not visited[i]:\n",
    "                dfs(i, v)\n",
    "            elif i != parent:\n",
    "                cycle[0] = False\n",
    "\n",
    "    cycle = [True]\n",
    "    cnt = 0\n",
    "    for i in range(1, n+1):\n",
    "        if not visited[i]:\n",
    "            cycle[0] = True\n",
    "            dfs(i, 0)\n",
    "            if cycle[0]:\n",
    "                cnt += 1\n",
    "\n",
    "    if cnt == 0:\n",
    "        print(\"Case {}: No trees.\".format(case_num))\n",
    "    elif cnt == 1:\n",
    "        print(\"Case {}: There is one tree.\".format(case_num))\n",
    "    else:\n",
    "        print(\"Case {}: A forest of {} trees.\".format(case_num, cnt))\n",
    "    case_num += 1"
   ]
  },
  {
   "cell_type": "code",
   "execution_count": null,
   "metadata": {},
   "outputs": [],
   "source": []
  }
 ],
 "metadata": {
  "kernelspec": {
   "display_name": "Python 3",
   "language": "python",
   "name": "python3"
  },
  "language_info": {
   "codemirror_mode": {
    "name": "ipython",
    "version": 3
   },
   "file_extension": ".py",
   "mimetype": "text/x-python",
   "name": "python",
   "nbconvert_exporter": "python",
   "pygments_lexer": "ipython3",
   "version": "3.11.8"
  }
 },
 "nbformat": 4,
 "nbformat_minor": 2
}
