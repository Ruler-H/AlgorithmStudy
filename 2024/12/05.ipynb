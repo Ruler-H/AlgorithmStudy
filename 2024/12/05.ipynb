{
 "cells": [
  {
   "cell_type": "code",
   "execution_count": null,
   "metadata": {},
   "outputs": [],
   "source": [
    "# 세준이는 도서관에서 일한다. 도서관의 개방시간이 끝나서 세준이는 사람들이 마구 놓은 책을 다시 가져다 놓아야 한다. 세준이는 현재 0에 있고, 사람들이 마구 놓은 책도 전부 0에 있다. 각 책들의 원래 위치가 주어질 때, 책을 모두 제자리에 놔둘 때 드는 최소 걸음 수를 계산하는 프로그램을 작성하시오. 세준이는 한 걸음에 좌표 1칸씩 가며, 책의 원래 위치는 정수 좌표이다. 책을 모두 제자리에 놔둔 후에는 다시 0으로 돌아올 필요는 없다. 그리고 세준이는 한 번에 최대 M권의 책을 들 수 있다.\n",
    "# 첫째 줄에 책의 개수 N과, 세준이가 한 번에 들 수 있는 책의 개수 M이 주어진다. 둘째 줄에는 책의 위치가 주어진다. N과 M은 50보다 작거나 같은 자연수이다. 책의 위치는 0이 아니며, 절댓값은 10,000보다 작거나 같은 정수이다.\n",
    "# 첫째 줄에 정답을 출력한다.\n",
    "# 백준 1461번 - 도서관\n",
    "import sys\n",
    "# input = sys.stdin.readline\n",
    "\n",
    "# 입력\n",
    "# 8 3\n",
    "# -18 -9 -4 50 22 -26 40 -45\n",
    "# 출력\n",
    "# 158\n",
    "n, m = map(int, input().split())\n",
    "arr = list(map(int, input().split()))\n",
    "arr += [0]\n",
    "arr.sort()\n",
    "# 절대값이 가장 큰 책을 기준으로 잡는다.\n",
    "# 가장 큰 책을 기준으로 왕복을 한다.\n",
    "\n",
    "for i in range(n + 1):\n",
    "    if arr[i] >= 0:\n",
    "        break\n",
    "# 양수와 음수를 나눠서 계산\n",
    "# 양수\n",
    "plus = arr[i+1:]\n",
    "minus = arr[:i]\n",
    "plus = plus[::-1]\n",
    "result = 0\n",
    "if len(plus) > 0:\n",
    "    for i in range(0, len(plus), m):\n",
    "        result += abs(plus[i]) * 2\n",
    "if len(minus) > 0:\n",
    "    for i in range(0, len(minus), m):\n",
    "        result += abs(minus[i]) * 2\n",
    "if len(plus) > 0 and len(minus) > 0:\n",
    "    result -= max(abs(plus[0]), abs(minus[0]))\n",
    "elif len(plus) > 0:\n",
    "    result -= abs(plus[0])\n",
    "elif len(minus) > 0:\n",
    "    result -= abs(minus[0])\n",
    "print(result)"
   ]
  },
  {
   "cell_type": "code",
   "execution_count": null,
   "metadata": {},
   "outputs": [],
   "source": []
  },
  {
   "cell_type": "code",
   "execution_count": null,
   "metadata": {},
   "outputs": [],
   "source": []
  }
 ],
 "metadata": {
  "kernelspec": {
   "display_name": "Python 3",
   "language": "python",
   "name": "python3"
  },
  "language_info": {
   "codemirror_mode": {
    "name": "ipython",
    "version": 3
   },
   "file_extension": ".py",
   "mimetype": "text/x-python",
   "name": "python",
   "nbconvert_exporter": "python",
   "pygments_lexer": "ipython3",
   "version": "3.11.8"
  }
 },
 "nbformat": 4,
 "nbformat_minor": 2
}
