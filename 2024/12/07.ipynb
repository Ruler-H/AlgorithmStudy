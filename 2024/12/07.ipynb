{
 "cells": [
  {
   "cell_type": "code",
   "execution_count": null,
   "metadata": {},
   "outputs": [],
   "source": [
    "# 백준 1027번 - 고층 건물\n",
    "# 문제\n",
    "# 세준시에는 고층 빌딩이 많다. 세준시의 서민 김지민은 가장 많은 고층 빌딩이 보이는 고층 빌딩을 찾으려고 한다. 빌딩은 총 N개가 있는데, 빌딩은 선분으로 나타낸다. i번째 빌딩 (1부터 시작)은 (i,0)부터 (i,높이)의 선분으로 나타낼 수 있다. 고층 빌딩 A에서 다른 고층 빌딩 B가 볼 수 있는 빌딩이 되려면, 두 지붕을 잇는 선분이 A와 B를 제외한 다른 고층 빌딩을 지나거나 접하지 않아야 한다. 가장 많은 고층 빌딩이 보이는 빌딩을 구하고, 거기서 보이는 빌딩의 수를 출력하는 프로그램을 작성하시오.\n",
    "\n",
    "# 입력\n",
    "# 첫째 줄에 빌딩의 수 N이 주어진다. N은 50보다 작거나 같은 자연수이다. 둘째 줄에 1번 빌딩부터 그 높이가 주어진다. 높이는 1,000,000,000보다 작거나 같은 자연수이다.\n",
    "\n",
    "# 출력\n",
    "# 첫째 줄에 문제의 정답을 출력한다.\n",
    "\n",
    "# 예제 입력 1\n",
    "# 15\n",
    "# 1 5 3 2 6 3 2 6 4 2 5 7 3 1 5\n",
    "\n",
    "# 예제 출력 1\n",
    "# 7\n",
    "\n",
    "# 예제 입력 2\n",
    "# 1\n",
    "# 10\n",
    "\n",
    "# 예제 출력 2\n",
    "# 0\n",
    "\n",
    "# 예제 입력 3\n",
    "# 4\n",
    "# 5 5 5 5\n",
    "\n",
    "# 예제 출력 3\n",
    "# 2"
   ]
  },
  {
   "cell_type": "code",
   "execution_count": null,
   "metadata": {},
   "outputs": [],
   "source": [
    "import sys\n",
    "# input = sys.stdin.readline\n",
    "\n",
    "N = int(input())\n",
    "height = list(map(int, input().split()))"
   ]
  },
  {
   "cell_type": "code",
   "execution_count": null,
   "metadata": {},
   "outputs": [],
   "source": [
    "max_cnt = 0\n",
    "for i in range(N):\n",
    "    cnt = 0\n",
    "    for j in range(i):\n",
    "        for k in range(j+1, i):\n",
    "            if (height[i] - height[j]) / (i - j) >= (height[i] - height[k]) / (i - k):\n",
    "                break\n",
    "        else:\n",
    "            cnt += 1\n",
    "    for j in range(i+1, N):\n",
    "        for k in range(i+1, j):\n",
    "            if (height[i] - height[j]) / (i - j) <= (height[i] - height[k]) / (i - k):\n",
    "                break\n",
    "        else:\n",
    "            cnt += 1\n",
    "    max_cnt = max(max_cnt, cnt)\n",
    "print(max_cnt)"
   ]
  },
  {
   "cell_type": "code",
   "execution_count": null,
   "metadata": {},
   "outputs": [],
   "source": []
  }
 ],
 "metadata": {
  "kernelspec": {
   "display_name": "Python 3",
   "language": "python",
   "name": "python3"
  },
  "language_info": {
   "codemirror_mode": {
    "name": "ipython",
    "version": 3
   },
   "file_extension": ".py",
   "mimetype": "text/x-python",
   "name": "python",
   "nbconvert_exporter": "python",
   "pygments_lexer": "ipython3",
   "version": "3.11.8"
  }
 },
 "nbformat": 4,
 "nbformat_minor": 2
}
