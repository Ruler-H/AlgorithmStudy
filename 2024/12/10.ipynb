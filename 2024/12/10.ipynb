{
 "cells": [
  {
   "cell_type": "code",
   "execution_count": null,
   "metadata": {},
   "outputs": [],
   "source": [
    "# 백준 2138번 - 전구와 스위치\n",
    "# 문제\n",
    "# N개의 스위치와 N개의 전구가 있다. 각각의 전구는 켜져 있는 상태와 꺼져 있는 상태 중 하나의 상태를 가진다. i(1 < i < N)번 스위치를 누르면 i-1, i, i+1의 세 개의 전구의 상태가 바뀐다. 즉, 꺼져 있는 전구는 켜지고, 켜져 있는 전구는 꺼지게 된다. 1번 스위치를 눌렀을 경우에는 1, 2번 전구의 상태가 바뀌고, N번 스위치를 눌렀을 경우에는 N-1, N번 전구의 상태가 바뀐다.\n",
    "\n",
    "# N개의 전구들의 현재 상태와 우리가 만들고자 하는 상태가 주어졌을 때, 그 상태를 만들기 위해 스위치를 최소 몇 번 누르면 되는지 알아내는 프로그램을 작성하시오.\n",
    "\n",
    "# 입력\n",
    "# 첫째 줄에 자연수 N(2 ≤ N ≤ 100,000)이 주어진다. 다음 줄에는 전구들의 현재 상태를 나타내는 숫자 N개가 공백 없이 주어진다. 그 다음 줄에는 우리가 만들고자 하는 전구들의 상태를 나타내는 숫자 N개가 공백 없이 주어진다. 0은 켜져 있는 상태, 1은 꺼져 있는 상태를 의미한다.\n",
    "\n",
    "# 출력\n",
    "# 첫째 줄에 답을 출력한다. 불가능한 경우에는 -1을 출력한다.\n",
    "\n",
    "# 예제 입력 1\n",
    "# 3\n",
    "# 000\n",
    "# 010\n",
    "\n",
    "# 예제 출력 1\n",
    "# 3\n",
    "\n",
    "# 예제 입력 2\n",
    "# 7\n",
    "# 1101000\n",
    "# 1111111\n",
    "\n",
    "# 예제 출력 2\n",
    "# 3\n",
    "\n",
    "# 예제 입력 3\n",
    "# 10\n",
    "# 0000000000\n",
    "# 1110111011"
   ]
  },
  {
   "cell_type": "code",
   "execution_count": null,
   "metadata": {},
   "outputs": [],
   "source": [
    "import sys\n",
    "# input = sys.stdin.readline\n",
    "\n",
    "N = int(input())\n",
    "current = list(map(int, input().strip()))\n",
    "goal = list(map(int, input().strip()))"
   ]
  },
  {
   "cell_type": "code",
   "execution_count": null,
   "metadata": {},
   "outputs": [],
   "source": [
    "def switch(idx, current):\n",
    "    if idx == 0:\n",
    "        current[0] = 1 - current[0]\n",
    "        current[1] = 1 - current[1]\n",
    "    elif idx == N - 1:\n",
    "        current[N-1] = 1 - current[N-1]\n",
    "        current[N-2] = 1 - current[N-2]\n",
    "    else:\n",
    "        current[idx-1] = 1 - current[idx-1]\n",
    "        current[idx] = 1 - current[idx]\n",
    "        current[idx+1] = 1 - current[idx+1]\n",
    "    return current\n",
    "\n",
    "def check(current, goal):\n",
    "    for i in range(N):\n",
    "        if current[i] != goal[i]:\n",
    "            return False\n",
    "    return True\n",
    "\n",
    "def solve(current, goal):\n",
    "    count = 0\n",
    "    for i in range(1, N):\n",
    "        if current[i-1] != goal[i-1]:\n",
    "            current = switch(i, current)\n",
    "            count += 1\n",
    "    if check(current, goal):\n",
    "        return count\n",
    "    else:\n",
    "        return -1\n",
    "    \n",
    "result1 = solve(current[:], goal)\n",
    "current[0] = 1 - current[0]\n",
    "current[1] = 1 - current[1]\n",
    "result2 = solve(current[:], goal)\n",
    "if result1 == -1 and result2 == -1:\n",
    "    print(-1)\n",
    "elif result1 == -1:\n",
    "    print(result2 + 1)\n",
    "elif result2 == -1:\n",
    "    print(result1)\n",
    "else:\n",
    "    print(min(result1, result2 + 1))"
   ]
  },
  {
   "cell_type": "code",
   "execution_count": null,
   "metadata": {},
   "outputs": [],
   "source": []
  },
  {
   "cell_type": "code",
   "execution_count": null,
   "metadata": {},
   "outputs": [],
   "source": []
  }
 ],
 "metadata": {
  "kernelspec": {
   "display_name": "Python 3",
   "language": "python",
   "name": "python3"
  },
  "language_info": {
   "codemirror_mode": {
    "name": "ipython",
    "version": 3
   },
   "file_extension": ".py",
   "mimetype": "text/x-python",
   "name": "python",
   "nbconvert_exporter": "python",
   "pygments_lexer": "ipython3",
   "version": "3.11.8"
  }
 },
 "nbformat": 4,
 "nbformat_minor": 2
}
