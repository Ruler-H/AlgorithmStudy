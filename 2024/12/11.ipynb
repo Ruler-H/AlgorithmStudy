{
 "cells": [
  {
   "cell_type": "code",
   "execution_count": null,
   "metadata": {},
   "outputs": [],
   "source": [
    "# 백준 16562번 - 친구비\n",
    "# 문제\n",
    "# 19학번 이준석은 학생이 N명인 학교에 입학을 했다. 준석이는 입학을 맞아 모든 학생과 친구가 되고 싶어한다. 하지만 준석이는 평생 컴퓨터랑만 대화를 하며 살아왔기 때문에 사람과 말을 하는 법을 모른다. 그런 준석이에게도 희망이 있다. 바로 친구비다!\n",
    "\n",
    "# 학생 i에게 Ai만큼의 돈을 주면 그 학생은 1달간 친구가 되어준다! 준석이에게는 총 k원의 돈이 있고 그 돈을 이용해서 친구를 사귀기로 했다. 막상 친구를 사귀다 보면 돈이 부족해질 것 같다는 생각을 하게 되었다. 그래서 준석이는 “친구의 친구는 친구다”를 이용하기로 했다.\n",
    "\n",
    "# 준석이는 이제 모든 친구에게 돈을 주지 않아도 된다!\n",
    "\n",
    "# 위와 같은 논리를 사용했을 때, 가장 적은 비용으로 모든 사람과 친구가 되는 방법을 구하라.\n",
    "\n",
    "# 입력\n",
    "# 첫 줄에 학생 수 N (1 ≤ N ≤ 10,000)과 친구관계 수 M (0 ≤ M ≤ 10,000), 가지고 있는 돈 k (1 ≤ k ≤ 10,000,000)가 주어진다.\n",
    "\n",
    "# 두번째 줄에 N개의 각각의 학생이 원하는 친구비 Ai가 주어진다. (1 ≤ Ai ≤ 10,000, 1 ≤ i ≤ N)\n",
    "\n",
    "# 다음 M개의 줄에는 숫자 v, w가 주어진다. 이것은 학생 v와 학생 w가 서로 친구라는 뜻이다. 자기 자신과 친구일 수도 있고, 같은 친구 관계가 여러 번 주어질 수도 있다.\n",
    "\n",
    "# 출력\n",
    "# 준석이가 모든 학생을 친구로 만들 수 있다면, 친구로 만드는데 드는 최소비용을 출력한다. 만약 친구를 다 사귈 수 없다면, “Oh no”(따옴표 제거)를 출력한다.\n",
    "\n",
    "# 예제 입력 1\n",
    "# 5 3 20\n",
    "# 10 10 20 20 30\n",
    "# 1 3\n",
    "# 2 4\n",
    "# 5 4\n",
    "\n",
    "# 예제 출력 1\n",
    "# 20"
   ]
  },
  {
   "cell_type": "code",
   "execution_count": null,
   "metadata": {},
   "outputs": [],
   "source": [
    "import sys\n",
    "# input = sys.stdin.readline\n",
    "\n",
    "N, M, k = map(int, input().split())\n",
    "friend = list(map(int, input().split()))\n",
    "parent = [i for i in range(N+1)]\n",
    "rank = [0] * (N+1)\n",
    "cost = 0\n",
    "\n",
    "def find(v):\n",
    "    if parent[v] == v:\n",
    "        return v\n",
    "    parent[v] = find(parent[v])\n",
    "    return parent[v]\n",
    "\n",
    "def union(v, w):\n",
    "    root1 = find(v)\n",
    "    root2 = find(w)\n",
    "\n",
    "    if rank[root1] > rank[root2]:\n",
    "        parent[root2] = root1\n",
    "    else:\n",
    "        parent[root1] = root2\n",
    "        if rank[root1] == rank[root2]:\n",
    "            rank[root2] += 1\n",
    "\n",
    "for _ in range(M):\n",
    "    v, w = map(int, input().split())\n",
    "    union(v, w)\n",
    "\n",
    "for i in range(1, N+1):\n",
    "    root = find(i)\n",
    "    if root != i:\n",
    "        friend[root-1] = min(friend[root-1], friend[i-1])\n",
    "\n",
    "for i in range(N):\n",
    "    if parent[i+1] == i+1:\n",
    "        cost += friend[i]\n",
    "\n",
    "if cost > k:\n",
    "    print(\"Oh no\")\n",
    "else:\n",
    "    print(cost)"
   ]
  },
  {
   "cell_type": "code",
   "execution_count": null,
   "metadata": {},
   "outputs": [],
   "source": []
  },
  {
   "cell_type": "code",
   "execution_count": null,
   "metadata": {},
   "outputs": [],
   "source": []
  }
 ],
 "metadata": {
  "kernelspec": {
   "display_name": "Python 3",
   "language": "python",
   "name": "python3"
  },
  "language_info": {
   "codemirror_mode": {
    "name": "ipython",
    "version": 3
   },
   "file_extension": ".py",
   "mimetype": "text/x-python",
   "name": "python",
   "nbconvert_exporter": "python",
   "pygments_lexer": "ipython3",
   "version": "3.11.8"
  }
 },
 "nbformat": 4,
 "nbformat_minor": 2
}
