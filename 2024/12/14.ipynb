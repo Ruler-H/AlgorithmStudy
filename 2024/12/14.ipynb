{
 "cells": [
  {
   "cell_type": "code",
   "execution_count": null,
   "metadata": {},
   "outputs": [],
   "source": [
    "# 백준 17425번 - 약수의 합\n",
    "# 문제\n",
    "# 두 자연수 A와 B가 있을 때, A = BC를 만족하는 자연수 C를 A의 약수라고 한다. 예를 들어, 2의 약수는 1, 2가 있고, 24의 약수는 1, 2, 3, 4, 6, 8, 12, 24가 있다. 자연수 A의 약수의 합은 A의 모든 약수를 더한 값이고, f(A)로 표현한다. x보다 작거나 같은 모든 자연수 y의 f(y)값을 더한 값은 g(x)로 표현한다.\n",
    "\n",
    "# 자연수 N이 주어졌을 때, g(N)을 구해보자.\n",
    "\n",
    "# 입력\n",
    "# 첫째 줄에 테스트 케이스의 개수 T(1 ≤ T ≤ 100,000)가 주어진다. 둘째 줄부터 테스트 케이스가 한 줄에 하나씩 주어지며 자연수 N(1 ≤ N ≤ 1,000,000)이 주어진다.\n",
    "\n",
    "# 출력\n",
    "# 각각의 테스트 케이스마다, 한 줄에 하나씩 g(N)를 출력한다.\n",
    "\n",
    "# 예제 입력 1\n",
    "# 5\n",
    "# 1\n",
    "# 2\n",
    "# 10\n",
    "# 70\n",
    "# 10000\n",
    "\n",
    "# 예제 출력 1\n",
    "# 1\n",
    "# 4\n",
    "# 87\n",
    "# 4065\n",
    "# 82256014"
   ]
  },
  {
   "cell_type": "code",
   "execution_count": null,
   "metadata": {},
   "outputs": [],
   "source": [
    "import sys\n",
    "# input = sys.stdin.readline\n",
    "\n",
    "T = int(input())\n",
    "dp = [0] * 1000001\n",
    "for i in range(1, 1000001):\n",
    "    for j in range(1, 1000000//i+1):\n",
    "        dp[i*j] += i\n",
    "\n",
    "sum_list = [0]\n",
    "for i in range(1, 1000001):\n",
    "    sum_list.append(sum_list[-1] + dp[i])\n",
    "\n",
    "for _ in range(T):\n",
    "    n = int(input())\n",
    "    print(sum_list[n])"
   ]
  },
  {
   "cell_type": "code",
   "execution_count": null,
   "metadata": {},
   "outputs": [],
   "source": []
  }
 ],
 "metadata": {
  "kernelspec": {
   "display_name": "Python 3",
   "language": "python",
   "name": "python3"
  },
  "language_info": {
   "codemirror_mode": {
    "name": "ipython",
    "version": 3
   },
   "file_extension": ".py",
   "mimetype": "text/x-python",
   "name": "python",
   "nbconvert_exporter": "python",
   "pygments_lexer": "ipython3",
   "version": "3.11.8"
  }
 },
 "nbformat": 4,
 "nbformat_minor": 2
}
