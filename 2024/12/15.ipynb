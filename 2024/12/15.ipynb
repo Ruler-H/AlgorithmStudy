{
 "cells": [
  {
   "cell_type": "code",
   "execution_count": null,
   "metadata": {},
   "outputs": [],
   "source": [
    "# 백준 12896번 - 뮤탈리스크\n",
    "# 문제\n",
    "# 수빈이는 강호와 함께 스타크래프트 게임을 하고 있다. 수빈이는 뮤탈리스크 1개가 남아있고, 강호는 SCV N개가 남아있다.\n",
    "\n",
    "# 각각의 SCV는 남아있는 체력이 주어져있으며, 뮤탈리스크를 공격할 수는 없다. 즉, 이 게임은 수빈이가 이겼다는 것이다.\n",
    "\n",
    "# 뮤탈리스크가 공격을 할 때, 한 번에 세 개의 SCV를 공격할 수 있다.\n",
    "\n",
    "# 첫 번째로 공격받는 SCV는 체력 9를 잃는다.\n",
    "# 두 번째로 공격받는 SCV는 체력 3을 잃는다.\n",
    "# 세 번째로 공격받는 SCV는 체력 1을 잃는다.\n",
    "# SCV의 체력이 0 또는 그 이하가 되어버리면, SCV는 그 즉시 파괴된다. 한 번의 공격에서 같은 SCV를 여러 번 공격할 수는 없다.\n",
    "\n",
    "# 남아있는 SCV의 체력이 주어졌을 때, 모든 SCV를 파괴하기 위해 공격해야 하는 횟수의 최솟값을 구하는 프로그램을 작성하시오.\n",
    "\n",
    "# 입력\n",
    "# 첫째 줄에 SCV의 수 N (1 ≤ N ≤ 3)이 주어진다. 둘째 줄에는 SCV N개의 체력이 주어진다. 체력은 60보다 작거나 같은 자연수이다.\n",
    "\n",
    "# 출력\n",
    "# 첫째 줄에 모든 SCV를 파괴하기 위한 공격 횟수의 최솟값을 출력한다.\n",
    "\n",
    "# 예제 입력 1\n",
    "# 3\n",
    "# 12 10 4\n",
    "\n",
    "# 예제 출력 1\n",
    "# 2"
   ]
  },
  {
   "cell_type": "code",
   "execution_count": null,
   "metadata": {},
   "outputs": [],
   "source": [
    "import sys\n",
    "# input = sys.stdin.readline\n",
    "\n",
    "N = int(input())\n",
    "scv = list(map(int, input().split()))\n",
    "\n",
    "if N == 1:\n",
    "    for _ in range(2):\n",
    "        scv.append(0)\n",
    "elif N == 2:\n",
    "    scv.append(0)"
   ]
  },
  {
   "cell_type": "code",
   "execution_count": null,
   "metadata": {},
   "outputs": [],
   "source": [
    "scv.sort()\n",
    "dp = [[[0] * 61 for _ in range(61)] for _ in range(61)]\n",
    "\n",
    "def solve(a, b, c):\n",
    "    if a < 0:\n",
    "        return solve(0, b, c)\n",
    "    if b < 0:\n",
    "        return solve(a, 0, c)\n",
    "    if c < 0:\n",
    "        return solve(a, b, 0)\n",
    "    if a == 0 and b == 0 and c == 0:\n",
    "        return 0\n",
    "    if dp[a][b][c] != 0:\n",
    "        return dp[a][b][c]\n",
    "    dp[a][b][c] = min(solve(a-9, b-3, c-1), solve(a-9, b-1, c-3), solve(a-3, b-9, c-1), solve(a-3, b-1, c-9), solve(a-1, b-9, c-3), solve(a-1, b-3, c-9)) + 1\n",
    "    return dp[a][b][c]\n",
    "\n",
    "print(solve(scv[0], scv[1], scv[2]))"
   ]
  },
  {
   "cell_type": "code",
   "execution_count": null,
   "metadata": {},
   "outputs": [],
   "source": []
  }
 ],
 "metadata": {
  "kernelspec": {
   "display_name": "Python 3",
   "language": "python",
   "name": "python3"
  },
  "language_info": {
   "codemirror_mode": {
    "name": "ipython",
    "version": 3
   },
   "file_extension": ".py",
   "mimetype": "text/x-python",
   "name": "python",
   "nbconvert_exporter": "python",
   "pygments_lexer": "ipython3",
   "version": "3.11.8"
  }
 },
 "nbformat": 4,
 "nbformat_minor": 2
}
