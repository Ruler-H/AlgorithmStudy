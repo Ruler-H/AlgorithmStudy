{
 "cells": [
  {
   "cell_type": "code",
   "execution_count": null,
   "metadata": {},
   "outputs": [],
   "source": [
    "# 백준 16197번 - 두 동전\n",
    "# 문제\n",
    "# N×M 크기의 보드와 4개의 버튼으로 이루어진 게임이 있다. 보드는 1×1크기의 정사각형 칸으로 나누어져 있고, 각각의 칸은 비어있거나, 벽이다. 두 개의 빈 칸에는 동전이 하나씩 놓여져 있고, 두 동전의 위치는 다르다.\n",
    "\n",
    "# 버튼은 \"왼쪽\", \"오른쪽\", \"위\", \"아래\"와 같이 4가지가 있다. 버튼을 누르면 두 동전이 버튼에 쓰여 있는 방향으로 동시에 이동하게 된다.\n",
    "\n",
    "# 동전이 이동하려는 칸이 벽이면, 동전은 이동하지 않는다.\n",
    "# 동전이 이동하려는 방향에 칸이 없으면 동전은 보드 바깥으로 떨어진다.\n",
    "# 그 외의 경우에는 이동하려는 방향으로 한 칸 이동한다.이동하려는 칸에 동전이 있는 경우에도 한 칸 이동한다.\n",
    "# 두 동전 중 하나만 보드에서 떨어뜨리기 위해 버튼을 최소 몇 번 눌러야하는지 구하는 프로그램을 작성하시오.\n",
    "\n",
    "# 입력\n",
    "# 첫째 줄에 보드의 세로 크기 N과 가로 크기 M이 주어진다. (1 ≤ N, M ≤ 20)\n",
    "\n",
    "# 둘째 줄부터 N개의 줄에는 보드의 상태가 주어진다.\n",
    "\n",
    "# o: 동전\n",
    "# .: 빈 칸\n",
    "# #: 벽\n",
    "# 동전의 개수는 항상 2개이다.\n",
    "\n",
    "# 출력\n",
    "# 첫째 줄에 두 동전 중 하나만 보드에서 떨어뜨리기 위해 눌러야 하는 버튼의 최소 횟수를 출력한다. 만약, 두 동전을 떨어뜨릴 수 없거나, 버튼을 10번보다 많이 눌러야 한다면, -1을 출력한다.\n",
    "\n",
    "# 예제 입력 1\n",
    "# 1 2\n",
    "# oo\n",
    "\n",
    "# 예제 출력 1\n",
    "# 1"
   ]
  },
  {
   "cell_type": "code",
   "execution_count": 39,
   "metadata": {},
   "outputs": [],
   "source": [
    "import sys\n",
    "from collections import deque\n",
    "\n",
    "# input = sys.stdin.readline\n",
    "\n",
    "n, m = map(int, input().split())\n",
    "board = [list(input().strip()) for _ in range(n)]"
   ]
  },
  {
   "cell_type": "code",
   "execution_count": null,
   "metadata": {},
   "outputs": [],
   "source": [
    "coin = []\n",
    "for i in range(n):\n",
    "    for j in range(m):\n",
    "        if board[i][j] == \"o\":\n",
    "            coin.append((i, j))\n",
    "\n",
    "dx = [0, 0, 1, -1]\n",
    "dy = [1, -1, 0, 0]\n",
    "\n",
    "def bfs(x1, y1, x2, y2):\n",
    "    q = deque()\n",
    "    q.append((x1, y1, x2, y2, 0))\n",
    "    visited = set()\n",
    "    visited.add((x1, y1, x2, y2))\n",
    "\n",
    "    while q:\n",
    "        x1, y1, x2, y2, cnt = q.popleft()\n",
    "        if cnt >= 10:\n",
    "            return -1\n",
    "\n",
    "        for i in range(4):\n",
    "            nx1, ny1 = x1 + dx[i], y1 + dy[i]\n",
    "            nx2, ny2 = x2 + dx[i], y2 + dy[i]\n",
    "            if (nx1, ny1, nx2, ny2) in visited:\n",
    "                continue\n",
    "            if 0 <= nx1 < n and 0 <= ny1 < m:\n",
    "                if 0 <= nx2 < n and 0 <= ny2 < m:\n",
    "                    if board[nx1][ny1] == \"#\":\n",
    "                        nx1, ny1 = x1, y1\n",
    "                    if board[nx2][ny2] == \"#\":\n",
    "                        nx2, ny2 = x2, y2\n",
    "                    if (nx1, ny1) == (nx2, ny2):\n",
    "                        continue\n",
    "                    if (nx1, ny1, nx2, ny2) not in visited:\n",
    "                        q.append((nx1, ny1, nx2, ny2, cnt + 1))\n",
    "                        visited.add((nx1, ny1, nx2, ny2))\n",
    "                else:\n",
    "                    return cnt + 1\n",
    "            elif 0 <= nx2 < n and 0 <= ny2 < m:\n",
    "                return cnt + 1\n",
    "    return -1\n",
    "\n",
    "x1, y1 = coin[0]\n",
    "x2, y2 = coin[1]\n",
    "print(bfs(x1, y1, x2, y2))"
   ]
  },
  {
   "cell_type": "code",
   "execution_count": null,
   "metadata": {},
   "outputs": [],
   "source": []
  }
 ],
 "metadata": {
  "kernelspec": {
   "display_name": "Python 3",
   "language": "python",
   "name": "python3"
  },
  "language_info": {
   "codemirror_mode": {
    "name": "ipython",
    "version": 3
   },
   "file_extension": ".py",
   "mimetype": "text/x-python",
   "name": "python",
   "nbconvert_exporter": "python",
   "pygments_lexer": "ipython3",
   "version": "3.11.8"
  }
 },
 "nbformat": 4,
 "nbformat_minor": 2
}
