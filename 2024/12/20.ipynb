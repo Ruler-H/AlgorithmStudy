{
 "cells": [
  {
   "cell_type": "code",
   "execution_count": null,
   "metadata": {},
   "outputs": [],
   "source": [
    "# 백준 8983번 - 사냥꾼\n",
    "import sys\n",
    "# input = sys.stdin.readline\n",
    "\n",
    "M, N, L = map(int, input().split())\n",
    "gun = list(map(int, input().split()))\n",
    "animals = [list(map(int, input().split())) for _ in range(N)]\n",
    "\n",
    "gun.sort()\n",
    "animals.sort(key=lambda x: x[0])\n",
    "\n",
    "cnt = 0\n",
    "for animal in animals:\n",
    "    x, y = animal\n",
    "    if y > L:\n",
    "        continue\n",
    "    left = 0\n",
    "    right = M - 1\n",
    "    while left <= right:\n",
    "        mid = (left + right) // 2\n",
    "        if abs(x - gun[mid]) + y <= L:\n",
    "            cnt += 1\n",
    "            break\n",
    "        if x < gun[mid]:\n",
    "            right = mid - 1\n",
    "        else:\n",
    "            left = mid + 1\n",
    "\n",
    "print(cnt)"
   ]
  }
 ],
 "metadata": {
  "kernelspec": {
   "display_name": "Python 3",
   "language": "python",
   "name": "python3"
  },
  "language_info": {
   "codemirror_mode": {
    "name": "ipython",
    "version": 3
   },
   "file_extension": ".py",
   "mimetype": "text/x-python",
   "name": "python",
   "nbconvert_exporter": "python",
   "pygments_lexer": "ipython3",
   "version": "3.11.8"
  }
 },
 "nbformat": 4,
 "nbformat_minor": 2
}
