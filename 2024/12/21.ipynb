{
 "cells": [
  {
   "cell_type": "code",
   "execution_count": null,
   "metadata": {},
   "outputs": [],
   "source": [
    "# 백준 16929번 - Two Dots\n",
    "import sys\n",
    "from collections import deque\n",
    "# input = sys.stdin.readline\n",
    "\n",
    "n, m = map(int, input().split())\n",
    "graph = [list(input().strip()) for _ in range(n)]\n",
    "visited = [[0] * m for _ in range(n)]\n",
    "dx = [0, 0, 1, -1]\n",
    "dy = [1, -1, 0, 0]\n",
    "\n",
    "def bfs(x, y):\n",
    "    q = deque()\n",
    "    q.append((x, y))\n",
    "    visited[x][y] = 1\n",
    "    while q:\n",
    "        x, y = q.popleft()\n",
    "        for i in range(4):\n",
    "            nx = x + dx[i]\n",
    "            ny = y + dy[i]\n",
    "            if nx < 0 or nx >= n or ny < 0 or ny >= m:\n",
    "                continue\n",
    "            if graph[nx][ny] == graph[x][y]:\n",
    "                if visited[nx][ny] == 0:\n",
    "                    visited[nx][ny] = visited[x][y] + 1\n",
    "                    q.append((nx, ny))\n",
    "                elif visited[nx][ny] > visited[x][y]:\n",
    "                    return True\n",
    "    return False\n",
    "\n",
    "for i in range(n):\n",
    "    for j in range(m):\n",
    "        if visited[i][j] == 0:\n",
    "            if bfs(i, j):\n",
    "                print(\"Yes\")\n",
    "                sys.exit()\n",
    "print(\"No\")"
   ]
  },
  {
   "cell_type": "code",
   "execution_count": null,
   "metadata": {},
   "outputs": [],
   "source": []
  }
 ],
 "metadata": {
  "kernelspec": {
   "display_name": "Python 3",
   "language": "python",
   "name": "python3"
  },
  "language_info": {
   "codemirror_mode": {
    "name": "ipython",
    "version": 3
   },
   "file_extension": ".py",
   "mimetype": "text/x-python",
   "name": "python",
   "nbconvert_exporter": "python",
   "pygments_lexer": "ipython3",
   "version": "3.11.8"
  }
 },
 "nbformat": 4,
 "nbformat_minor": 2
}
