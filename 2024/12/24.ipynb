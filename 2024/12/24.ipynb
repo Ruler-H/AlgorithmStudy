{
 "cells": [
  {
   "cell_type": "code",
   "execution_count": null,
   "metadata": {},
   "outputs": [],
   "source": [
    "# 백준 2295번 - 세 수의 합\n",
    "import sys\n",
    "# input = sys.stdin.readline\n",
    "\n",
    "N = int(input())\n",
    "numbers = sorted([int(input()) for _ in range(N)])"
   ]
  },
  {
   "cell_type": "code",
   "execution_count": null,
   "metadata": {},
   "outputs": [],
   "source": [
    "# 두 수의 합을 미리 계산하여 집합에 저장\n",
    "# O(N²)\n",
    "two_sums = set()\n",
    "for i in range(N):\n",
    "    for j in range(i, N):\n",
    "        two_sums.add(numbers[i] + numbers[j])\n",
    "\n",
    "# 각 숫자에 대해 d - c가 two_sums에 있는지 확인\n",
    "# O(N²)\n",
    "for i in range(N-1, -1, -1):  # d를 큰 수부터 확인\n",
    "    for j in range(i):        # c\n",
    "        if numbers[i] - numbers[j] in two_sums:\n",
    "            print(numbers[i])\n",
    "            sys.exit()"
   ]
  },
  {
   "cell_type": "code",
   "execution_count": null,
   "metadata": {},
   "outputs": [],
   "source": []
  }
 ],
 "metadata": {
  "kernelspec": {
   "display_name": "Python 3",
   "language": "python",
   "name": "python3"
  },
  "language_info": {
   "codemirror_mode": {
    "name": "ipython",
    "version": 3
   },
   "file_extension": ".py",
   "mimetype": "text/x-python",
   "name": "python",
   "nbconvert_exporter": "python",
   "pygments_lexer": "ipython3",
   "version": "3.11.8"
  }
 },
 "nbformat": 4,
 "nbformat_minor": 2
}
