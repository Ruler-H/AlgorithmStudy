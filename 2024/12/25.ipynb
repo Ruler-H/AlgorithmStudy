{
 "cells": [
  {
   "cell_type": "code",
   "execution_count": null,
   "metadata": {},
   "outputs": [],
   "source": [
    "# 백준 17096번 - 파이프 옮기기 2\n",
    "import sys\n",
    "# input = sys.stdin.readline\n",
    "\n",
    "n = int(input())\n",
    "board = [list(map(int, input().split())) for _ in range(n)]\n",
    "dp = [[[0] * 3 for _ in range(n)] for _ in range(n)]\n",
    "dp[0][1][0] = 1\n",
    "\n",
    "for i in range(n):\n",
    "    for j in range(2, n):\n",
    "        if board[i][j] == 0:\n",
    "            dp[i][j][0] = dp[i][j-1][0] + dp[i][j-1][2]\n",
    "            dp[i][j][1] = dp[i-1][j][1] + dp[i-1][j][2]\n",
    "            if board[i-1][j] == 0 and board[i][j-1] == 0:\n",
    "                dp[i][j][2] = dp[i-1][j-1][0] + dp[i-1][j-1][1] + dp[i-1][j-1][2]\n",
    "\n",
    "print(sum(dp[n-1][n-1]))"
   ]
  },
  {
   "cell_type": "code",
   "execution_count": null,
   "metadata": {},
   "outputs": [],
   "source": []
  },
  {
   "cell_type": "code",
   "execution_count": null,
   "metadata": {},
   "outputs": [],
   "source": []
  }
 ],
 "metadata": {
  "kernelspec": {
   "display_name": "Python 3",
   "language": "python",
   "name": "python3"
  },
  "language_info": {
   "codemirror_mode": {
    "name": "ipython",
    "version": 3
   },
   "file_extension": ".py",
   "mimetype": "text/x-python",
   "name": "python",
   "nbconvert_exporter": "python",
   "pygments_lexer": "ipython3",
   "version": "3.11.8"
  }
 },
 "nbformat": 4,
 "nbformat_minor": 2
}
