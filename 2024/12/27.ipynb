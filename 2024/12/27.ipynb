{
 "cells": [
  {
   "cell_type": "code",
   "execution_count": 5,
   "metadata": {},
   "outputs": [],
   "source": [
    "# 백준 1477번 - 휴게소 세우기\n",
    "import sys\n",
    "# input = sys.stdin.readline\n",
    "sys.setrecursionlimit(10**6)\n",
    "\n",
    "N, M, L = map(int, input().split())\n",
    "rest_area = list(map(int, input().split()))"
   ]
  },
  {
   "cell_type": "code",
   "execution_count": null,
   "metadata": {},
   "outputs": [],
   "source": [
    "rest_area.append(0)\n",
    "rest_area.append(L)\n",
    "rest_area.sort()\n",
    "\n",
    "left = 1  # 최소값을 1로 변경 (0으로 나눌 수 없으므로)\n",
    "right = L\n",
    "\n",
    "while left <= right:\n",
    "    mid = (left + right) // 2\n",
    "    cnt = 0\n",
    "\n",
    "    for i in range(1, len(rest_area)):\n",
    "        dist = rest_area[i] - rest_area[i-1]\n",
    "        if dist > mid:  # 거리가 mid보다 큰 경우에만 계산\n",
    "            cnt += (dist - 1) // mid\n",
    "\n",
    "    if cnt > M:\n",
    "        left = mid + 1\n",
    "    else:\n",
    "        right = mid - 1\n",
    "\n",
    "print(left)"
   ]
  },
  {
   "cell_type": "code",
   "execution_count": null,
   "metadata": {},
   "outputs": [],
   "source": []
  }
 ],
 "metadata": {
  "kernelspec": {
   "display_name": "Python 3",
   "language": "python",
   "name": "python3"
  },
  "language_info": {
   "codemirror_mode": {
    "name": "ipython",
    "version": 3
   },
   "file_extension": ".py",
   "mimetype": "text/x-python",
   "name": "python",
   "nbconvert_exporter": "python",
   "pygments_lexer": "ipython3",
   "version": "3.11.8"
  }
 },
 "nbformat": 4,
 "nbformat_minor": 2
}
