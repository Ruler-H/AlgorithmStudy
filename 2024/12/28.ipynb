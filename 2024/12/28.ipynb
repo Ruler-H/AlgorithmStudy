{
 "cells": [
  {
   "cell_type": "code",
   "execution_count": 1,
   "metadata": {},
   "outputs": [],
   "source": [
    "# 백준 25682번 - 체스판 다시 칠하기 2\n",
    "import sys\n",
    "# input = sys.stdin.readline\n",
    "\n",
    "N, M, K = map(int, input().split())\n",
    "board = [list(input().strip()) for _ in range(N)]"
   ]
  },
  {
   "cell_type": "code",
   "execution_count": null,
   "metadata": {},
   "outputs": [],
   "source": [
    "# 백준 25682번 - 체스판 다시 칠하기 2\n",
    "import sys\n",
    "# input = sys.stdin.readline\n",
    "\n",
    "N, M, K = 9, 23, 9\n",
    "# BBBBBBBBBBBBBBBBBBBBBBB\n",
    "# BBBBBBBBBBBBBBBBBBBBBBB\n",
    "# BBBBBBBBBBBBBBBBBBBBBBB\n",
    "# BBBBBBBBBBBBBBBBBBBBBBB\n",
    "# BBBBBBBBBBBBBBBBBBBBBBB\n",
    "# BBBBBBBBBBBBBBBBBBBBBBB\n",
    "# BBBBBBBBBBBBBBBBBBBBBBB\n",
    "# BBBBBBBBBBBBBBBBBBBBBBB\n",
    "# BBBBBBBBBBBBBBBWWWWWWWW\n",
    "board = [\n",
    "    \"BBBBBBBBBBBBBBBBBBBBBBB\",\n",
    "    \"BBBBBBBBBBBBBBBBBBBBBBB\",\n",
    "    \"BBBBBBBBBBBBBBBBBBBBBBB\",\n",
    "    \"BBBBBBBBBBBBBBBBBBBBBBB\",\n",
    "    \"BBBBBBBBBBBBBBBBBBBBBBB\",\n",
    "    \"BBBBBBBBBBBBBBBBBBBBBBB\",\n",
    "    \"BBBBBBBBBBBBBBBBBBBBBBB\",\n",
    "    \"BBBBBBBBBBBBBBBBBBBBBBB\",\n",
    "    \"BBBBBBBBBBBBBBBBWWWWWWWW\"\n",
    "]"
   ]
  },
  {
   "cell_type": "code",
   "execution_count": 18,
   "metadata": {},
   "outputs": [
    {
     "name": "stdout",
     "output_type": "stream",
     "text": [
      "40\n"
     ]
    }
   ],
   "source": [
    "# 미리 크기 할당\n",
    "cost = [[0] * (M+1) for _ in range(N+1)]\n",
    "\n",
    "# 비용 계산 및 누적합 구하기\n",
    "for i in range(N):\n",
    "    for j in range(M):\n",
    "        # (i+j)의 패리티에 따라 cost 결정\n",
    "        cost[i+1][j+1] = cost[i+1][j] + cost[i][j+1] - cost[i][j] + ((board[i][j] != 'W') ^ ((i+j)&1))\n",
    "\n",
    "# 최소값 찾기\n",
    "answer = K * K\n",
    "for i in range(N-K+1):\n",
    "    for j in range(M-K+1):\n",
    "        curr = cost[i+K][j+K] - cost[i+K][j] - cost[i][j+K] + cost[i][j]\n",
    "        answer = min(answer, curr, K*K - curr)\n",
    "\n",
    "print(answer)"
   ]
  },
  {
   "cell_type": "code",
   "execution_count": null,
   "metadata": {},
   "outputs": [],
   "source": []
  }
 ],
 "metadata": {
  "kernelspec": {
   "display_name": "Python 3",
   "language": "python",
   "name": "python3"
  },
  "language_info": {
   "codemirror_mode": {
    "name": "ipython",
    "version": 3
   },
   "file_extension": ".py",
   "mimetype": "text/x-python",
   "name": "python",
   "nbconvert_exporter": "python",
   "pygments_lexer": "ipython3",
   "version": "3.11.8"
  }
 },
 "nbformat": 4,
 "nbformat_minor": 2
}
