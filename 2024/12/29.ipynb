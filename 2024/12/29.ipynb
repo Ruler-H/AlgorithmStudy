{
 "cells": [
  {
   "cell_type": "code",
   "execution_count": 14,
   "metadata": {},
   "outputs": [],
   "source": [
    "# 백준 2617번 - 구슬 찾기\n",
    "import sys\n",
    "# input = sys.stdin.readline\n",
    "\n",
    "N, M = map(int, input().split())\n",
    "heavy = [[] for _ in range(N+1)]\n",
    "light = [[] for _ in range(N+1)]\n",
    "\n",
    "for _ in range(M):\n",
    "    a, b = map(int, input().split())\n",
    "    heavy[a].append(b)\n",
    "    light[b].append(a)"
   ]
  },
  {
   "cell_type": "code",
   "execution_count": null,
   "metadata": {},
   "outputs": [],
   "source": [
    "result = 0\n",
    "\n",
    "def dfs(x, graph):\n",
    "    visited[x] = True\n",
    "    count = 1\n",
    "    for i in graph[x]:\n",
    "        if not visited[i]:\n",
    "            count += dfs(i, graph)\n",
    "    return count\n",
    "\n",
    "for i in range(1, N+1):\n",
    "    visited = [False] * (N+1)\n",
    "    if dfs(i, heavy) > (N+1)//2:\n",
    "        result += 1\n",
    "    visited = [False] * (N+1)\n",
    "    if dfs(i, light) > (N+1)//2:\n",
    "        result += 1\n",
    "\n",
    "print(result)"
   ]
  }
 ],
 "metadata": {
  "kernelspec": {
   "display_name": "Python 3",
   "language": "python",
   "name": "python3"
  },
  "language_info": {
   "codemirror_mode": {
    "name": "ipython",
    "version": 3
   },
   "file_extension": ".py",
   "mimetype": "text/x-python",
   "name": "python",
   "nbconvert_exporter": "python",
   "pygments_lexer": "ipython3",
   "version": "3.11.8"
  }
 },
 "nbformat": 4,
 "nbformat_minor": 2
}
