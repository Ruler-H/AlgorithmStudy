{
 "cells": [
  {
   "cell_type": "code",
   "execution_count": null,
   "metadata": {},
   "outputs": [],
   "source": [
    "# 백준 12886번 - 돌 그룹\n",
    "import sys\n",
    "# input = sys.stdin.readline\n",
    "sys.setrecursionlimit(10**6)\n",
    "\n",
    "A, B, C = map(int, input().split())"
   ]
  },
  {
   "cell_type": "code",
   "execution_count": null,
   "metadata": {},
   "outputs": [],
   "source": [
    "def bfs(A, B, C):\n",
    "    if A == B == C:\n",
    "        return 1\n",
    "    if A < B:\n",
    "        B, A = A, B\n",
    "    if B < C:\n",
    "        C, B = B, C\n",
    "    if A < B:\n",
    "        B, A = A, B\n",
    "    if (A, B, C) in visited:\n",
    "        return 0\n",
    "    visited.add((A, B, C))\n",
    "    return bfs(A - B, B * 2, C) or bfs(A - C, B, C * 2)\n",
    "\n",
    "visited = set()\n",
    "if (A + B + C) % 3 != 0:\n",
    "    print(0)\n",
    "else:\n",
    "    print(bfs(A, B, C))"
   ]
  },
  {
   "cell_type": "code",
   "execution_count": null,
   "metadata": {},
   "outputs": [],
   "source": []
  }
 ],
 "metadata": {
  "kernelspec": {
   "display_name": "Python 3",
   "language": "python",
   "name": "python3"
  },
  "language_info": {
   "codemirror_mode": {
    "name": "ipython",
    "version": 3
   },
   "file_extension": ".py",
   "mimetype": "text/x-python",
   "name": "python",
   "nbconvert_exporter": "python",
   "pygments_lexer": "ipython3",
   "version": "3.11.8"
  }
 },
 "nbformat": 4,
 "nbformat_minor": 2
}
