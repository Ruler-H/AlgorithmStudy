{
 "cells": [
  {
   "cell_type": "code",
   "execution_count": null,
   "metadata": {},
   "outputs": [],
   "source": [
    "# 백준 13172번 - Σ\n",
    "import sys\n",
    "# input = sys.stdin.readline\n",
    "sys.setrecursionlimit(10**6)\n",
    "\n",
    "def power(a, b):\n",
    "    if b == 1:\n",
    "        return a\n",
    "    if b % 2 == 0:\n",
    "        return power(a, b//2) ** 2 % 1000000007\n",
    "    else:\n",
    "        return power(a, b//2) ** 2 * a % 1000000007\n",
    "    \n",
    "def gcd(a, b):\n",
    "    if b == 0:\n",
    "        return a\n",
    "    return gcd(b, a % b)\n",
    "\n",
    "def inverse(a):\n",
    "    return power(a, 1000000005)\n",
    "\n",
    "n = int(input())\n",
    "result = 0\n",
    "for _ in range(n):\n",
    "    m, s = map(int, input().split())\n",
    "    result += s * inverse(m) % 1000000007\n",
    "    result %= 1000000007\n",
    "\n",
    "print(result)"
   ]
  }
 ],
 "metadata": {
  "kernelspec": {
   "display_name": "Python 3",
   "language": "python",
   "name": "python3"
  },
  "language_info": {
   "codemirror_mode": {
    "name": "ipython",
    "version": 3
   },
   "file_extension": ".py",
   "mimetype": "text/x-python",
   "name": "python",
   "nbconvert_exporter": "python",
   "pygments_lexer": "ipython3",
   "version": "3.11.8"
  }
 },
 "nbformat": 4,
 "nbformat_minor": 2
}
