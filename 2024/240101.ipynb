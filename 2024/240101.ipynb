{
 "cells": [
  {
   "cell_type": "code",
   "execution_count": 2,
   "metadata": {},
   "outputs": [
    {
     "name": "stdout",
     "output_type": "stream",
     "text": [
      "2901\n",
      "3419\n",
      "3772\n"
     ]
    }
   ],
   "source": [
    "# 백준 24724번 - 현대모비스와 함께하는 부품 관리\n",
    "import sys\n",
    "# input = sys.stdin.readline\n",
    "\n",
    "t = int(input())\n",
    "\n",
    "for i in range(1, t + 1):\n",
    "    n = int(input())\n",
    "    a, b = map(int, input().strip().split())\n",
    "    for _ in range(n):\n",
    "        input()\n",
    "    print(f'Material Management {i}')\n",
    "    print('Classification ---- End!')"
   ]
  },
  {
   "cell_type": "code",
   "execution_count": 1,
   "metadata": {},
   "outputs": [
    {
     "name": "stdout",
     "output_type": "stream",
     "text": [
      "9\n"
     ]
    }
   ],
   "source": [
    "# 백준 15818번 - 오버플로우와 모듈러\n",
    "import sys\n",
    "# input = sys.stdin.readline\n",
    "\n",
    "n, m = map(int, input().strip().split())\n",
    "result = 1\n",
    "n_list = list(map(int, input().strip().split()))\n",
    "for i in n_list:\n",
    "    result *= i\n",
    "result %= m\n",
    "print(result)"
   ]
  },
  {
   "cell_type": "code",
   "execution_count": 3,
   "metadata": {},
   "outputs": [
    {
     "name": "stdout",
     "output_type": "stream",
     "text": [
      "19.999999999999996\n",
      "35.999999999999986\n",
      "48.79999999999999\n",
      "59.03999999999998\n",
      "67.23199999999999\n"
     ]
    }
   ],
   "source": [
    "# 백준 25756번 - 방어율 무시 계산하기\n",
    "import sys\n",
    "# input = sys.stdin.readline\n",
    "\n",
    "n = int(input())\n",
    "n_list = list(map(int, input().strip().split()))\n",
    "\n",
    "v = 0\n",
    "for i in n_list:\n",
    "    v = 1 - (1 - v) * (1 - (i / 100))\n",
    "    print(v * 100)"
   ]
  },
  {
   "cell_type": "code",
   "execution_count": null,
   "metadata": {},
   "outputs": [],
   "source": []
  }
 ],
 "metadata": {
  "kernelspec": {
   "display_name": "Python 3",
   "language": "python",
   "name": "python3"
  },
  "language_info": {
   "codemirror_mode": {
    "name": "ipython",
    "version": 3
   },
   "file_extension": ".py",
   "mimetype": "text/x-python",
   "name": "python",
   "nbconvert_exporter": "python",
   "pygments_lexer": "ipython3",
   "version": "3.11.1"
  }
 },
 "nbformat": 4,
 "nbformat_minor": 2
}
