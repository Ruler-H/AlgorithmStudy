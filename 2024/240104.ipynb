{
 "cells": [
  {
   "cell_type": "code",
   "execution_count": 5,
   "metadata": {},
   "outputs": [
    {
     "name": "stdout",
     "output_type": "stream",
     "text": [
      "4\n"
     ]
    }
   ],
   "source": [
    "# 백준 29729번 - 가변 배열\n",
    "import sys\n",
    "# input = sys.stdin.readline\n",
    "\n",
    "s, n, m = map(int, input().strip().split())\n",
    "\n",
    "arr_len = s\n",
    "u = 0\n",
    "for _ in range(n + m):\n",
    "    order = input().strip()\n",
    "    if order == '1':\n",
    "        if arr_len == u:\n",
    "            arr_len *= 2\n",
    "        u += 1\n",
    "    else:\n",
    "        u -= 1\n",
    "print(arr_len)"
   ]
  },
  {
   "cell_type": "code",
   "execution_count": null,
   "metadata": {},
   "outputs": [],
   "source": [
    "# 백준 26040번 - 특정 대문자를 소문자로 바꾸기\n",
    "import sys\n",
    "# input = sys.stdin.readline\n",
    "\n",
    "a = input().strip()\n",
    "b_list = input().strip().split()\n",
    "\n",
    "for b in b_list:\n",
    "    a = a.replace(b, b.lower())\n",
    "\n",
    "print(a)"
   ]
  },
  {
   "cell_type": "code",
   "execution_count": 7,
   "metadata": {},
   "outputs": [
    {
     "name": "stdout",
     "output_type": "stream",
     "text": [
      "8\n"
     ]
    }
   ],
   "source": [
    "# 백준 30642번 - 아이그루스와 화장실\n",
    "import sys\n",
    "# input = sys.stdin.readline\n",
    "\n",
    "n = int(input().strip())\n",
    "mas = input().strip()\n",
    "k = int(input().strip())\n",
    "if mas == 'annyong':\n",
    "    if k % 2 == 1:\n",
    "        print(k)\n",
    "    else:\n",
    "        if k < n:\n",
    "            print(k + 1)\n",
    "        else:\n",
    "            print(k - 1)\n",
    "else:\n",
    "    if k % 2 == 0:\n",
    "        print(k)\n",
    "    else:\n",
    "        if k < n:\n",
    "            print(k + 1)\n",
    "        else:\n",
    "            print(k - 1)"
   ]
  },
  {
   "cell_type": "code",
   "execution_count": null,
   "metadata": {},
   "outputs": [],
   "source": [
    "# 백준 11908번 - 카드\n",
    "import sys\n",
    "# input = sys.stdin.readline\n",
    "\n",
    "n = int(input().strip())\n",
    "c_list = list(map(int, input().strip().split()))\n",
    "print(sum(c_list) - max(c_list))"
   ]
  },
  {
   "cell_type": "code",
   "execution_count": null,
   "metadata": {},
   "outputs": [],
   "source": [
    "# 백준 30979번 - 유치원생 파댕이 돌보기\n",
    "import sys\n",
    "# input = sys.stdin.readline\n",
    "\n",
    "t = int(input().strip())\n",
    "n = int(input().strip())\n",
    "f_list = list(map(int, input().strip().split()))\n",
    "if t > sum(f_list):\n",
    "    print('Padaeng_i Cry')\n",
    "else:\n",
    "    print('Padaeng_i Happy')"
   ]
  },
  {
   "cell_type": "code",
   "execution_count": null,
   "metadata": {},
   "outputs": [],
   "source": [
    "# 백준 30802번 - 웰컴 키트\n",
    "import sys\n",
    "# input = sys.stdin.readline\n",
    "\n",
    "n = int(input().strip())\n",
    "t_list = list(map(int, input().strip().split()))\n",
    "t, p = map(int, input().strip().split())\n",
    "t_cnt = 0\n",
    "for i in t_list:\n",
    "    t_cnt += i // t\n",
    "    if i % t != 0:\n",
    "        t_cnt += 1\n",
    "print(t_cnt)\n",
    "print(n // p, n % p)"
   ]
  },
  {
   "cell_type": "code",
   "execution_count": null,
   "metadata": {},
   "outputs": [],
   "source": [
    "# 백준 30018번 - 타슈\n",
    "import sys\n",
    "# input = sys.stdin.readline\n",
    "\n",
    "n = int(input().strip())\n",
    "a_list = list(map(int, input().strip().split()))\n",
    "b_list = list(map(int, input().strip().split()))\n",
    "cnt = 0\n",
    "for i in range(len(a_list)):\n",
    "    if a_list[i] > b_list[i]:\n",
    "        cnt += a_list[i] - b_list[i]\n",
    "print(cnt)"
   ]
  },
  {
   "cell_type": "code",
   "execution_count": 11,
   "metadata": {},
   "outputs": [
    {
     "name": "stdout",
     "output_type": "stream",
     "text": [
      "181920\n",
      "OLA\n"
     ]
    }
   ],
   "source": [
    "# 백준 28114번 - 팀명 정하기\n",
    "import sys\n",
    "# input = sys.stdin.readline\n",
    "member_list = []\n",
    "for _ in range(3):\n",
    "    member_list.append(list(map(str, input().strip().split())))\n",
    "y_list = []\n",
    "for member in member_list:\n",
    "    y_list.append(int(member[1]) % 100)\n",
    "y_list.sort()\n",
    "print(''.join(list(map(str, y_list))))\n",
    "\n",
    "member_list.sort(key=lambda x: -int(x[0]))\n",
    "team_name = ''\n",
    "for member in member_list:\n",
    "    team_name += member[2][0]\n",
    "print(team_name)"
   ]
  },
  {
   "cell_type": "code",
   "execution_count": 39,
   "metadata": {},
   "outputs": [
    {
     "name": "stdout",
     "output_type": "stream",
     "text": [
      "1\n",
      "2\n",
      "3\n",
      "4\n",
      "15\n"
     ]
    }
   ],
   "source": [
    "# 백준 18127번 - 모형결정\n",
    "import sys\n",
    "# input = sys.stdin.readline\n",
    "\n",
    "a, b = map(int, input().strip().split())\n",
    "\n",
    "result = 1\n",
    "\n",
    "for i in range(1, b + 1):\n",
    "    result += 1 + (a - 2) * i\n",
    "\n",
    "print(result)"
   ]
  },
  {
   "cell_type": "code",
   "execution_count": null,
   "metadata": {},
   "outputs": [],
   "source": []
  },
  {
   "cell_type": "code",
   "execution_count": null,
   "metadata": {},
   "outputs": [],
   "source": []
  }
 ],
 "metadata": {
  "kernelspec": {
   "display_name": "Python 3",
   "language": "python",
   "name": "python3"
  },
  "language_info": {
   "codemirror_mode": {
    "name": "ipython",
    "version": 3
   },
   "file_extension": ".py",
   "mimetype": "text/x-python",
   "name": "python",
   "nbconvert_exporter": "python",
   "pygments_lexer": "ipython3",
   "version": "3.10.11"
  }
 },
 "nbformat": 4,
 "nbformat_minor": 2
}
