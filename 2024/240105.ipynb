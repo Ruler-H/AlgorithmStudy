{
 "cells": [
  {
   "cell_type": "code",
   "execution_count": 39,
   "metadata": {},
   "outputs": [
    {
     "name": "stdout",
     "output_type": "stream",
     "text": [
      "1\n",
      "2\n",
      "3\n",
      "4\n",
      "15\n"
     ]
    }
   ],
   "source": [
    "# 백준 30917번 - A+B - 10 (제1편)\n",
    "import sys\n",
    "# input = sys.stdin.readline\n",
    "a = 1\n",
    "while True:\n",
    "    print(f'? A {a}', flush=True)\n",
    "    answer = int(input().strip())\n",
    "    if answer == 0:\n",
    "        a += 1\n",
    "        continue\n",
    "    else:\n",
    "        break\n",
    "\n",
    "b = 1\n",
    "while True:\n",
    "    print(f'? B {b}', flush=True)\n",
    "    answer = int(input().strip())\n",
    "    if answer == 0:\n",
    "        b += 1\n",
    "        continue\n",
    "    else:\n",
    "        break\n",
    "\n",
    "print(f'! {a + b}')"
   ]
  },
  {
   "cell_type": "code",
   "execution_count": 3,
   "metadata": {},
   "outputs": [
    {
     "name": "stdout",
     "output_type": "stream",
     "text": [
      "0 9\n"
     ]
    }
   ],
   "source": [
    "# 백준 29720번 - 그래서 님 푼 문제 수가?\n",
    "import sys\n",
    "# input = sys.stdin.readline\n",
    "\n",
    "n, m, k = map(int, input().split())\n",
    "\n",
    "rs = n - (m * k)\n",
    "\n",
    "if rs < 0:\n",
    "    min_rs = 0\n",
    "    max_rs = rs + (m - 1)\n",
    "    if max_rs < 0:\n",
    "        max_rs = 0\n",
    "else:\n",
    "    min_rs = rs\n",
    "    max_rs = rs + (m - 1)\n",
    "\n",
    "print(f'{min_rs} {max_rs}')"
   ]
  },
  {
   "cell_type": "code",
   "execution_count": 10,
   "metadata": {},
   "outputs": [
    {
     "name": "stdout",
     "output_type": "stream",
     "text": [
      "90\n",
      "3\n"
     ]
    }
   ],
   "source": [
    "# 백준 31009번 - 진주로 가자! (Easy)\n",
    "import sys\n",
    "# input = sys.stdin.readline\n",
    "\n",
    "n = int(input().strip())\n",
    "arr = []\n",
    "for _ in range(n):\n",
    "    d, c = map(str, input().split())\n",
    "    arr.append([d, int(c)])\n",
    "    if arr[-1][0] == 'jinju':\n",
    "        rs = int(arr[-1][1])\n",
    "print(rs)\n",
    "cnt = 0\n",
    "for i in arr:\n",
    "    if i[1] > rs:\n",
    "        cnt += 1\n",
    "print(cnt)"
   ]
  },
  {
   "cell_type": "code",
   "execution_count": 15,
   "metadata": {},
   "outputs": [
    {
     "name": "stdout",
     "output_type": "stream",
     "text": [
      "0.866\n",
      "0.980\n"
     ]
    }
   ],
   "source": [
    "# 백준 4706번 - 쌍둥이 역설\n",
    "import sys\n",
    "# input = sys.stdin.readline\n",
    "c = 0.99999971460312\n",
    "while True:\n",
    "    a, b = map(float, input().split())\n",
    "    if a == 0 and b == 0:\n",
    "        break\n",
    "    v = c * ((1 - ((b / a) ** 2)) ** 0.5)\n",
    "    print(f'{v:.3f}')"
   ]
  },
  {
   "cell_type": "code",
   "execution_count": null,
   "metadata": {},
   "outputs": [],
   "source": [
    "10.5 5.25\n",
    "5 1\n",
    "0 0"
   ]
  },
  {
   "cell_type": "code",
   "execution_count": 13,
   "metadata": {},
   "outputs": [
    {
     "data": {
      "text/plain": [
       "0.99999971460312"
      ]
     },
     "execution_count": 13,
     "metadata": {},
     "output_type": "execute_result"
    }
   ],
   "source": [
    "299792458 * (3.33564e-9)"
   ]
  },
  {
   "cell_type": "code",
   "execution_count": null,
   "metadata": {},
   "outputs": [],
   "source": []
  }
 ],
 "metadata": {
  "kernelspec": {
   "display_name": "Python 3",
   "language": "python",
   "name": "python3"
  },
  "language_info": {
   "codemirror_mode": {
    "name": "ipython",
    "version": 3
   },
   "file_extension": ".py",
   "mimetype": "text/x-python",
   "name": "python",
   "nbconvert_exporter": "python",
   "pygments_lexer": "ipython3",
   "version": "3.10.11"
  }
 },
 "nbformat": 4,
 "nbformat_minor": 2
}
