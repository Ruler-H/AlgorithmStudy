{
 "cells": [
  {
   "cell_type": "code",
   "execution_count": 15,
   "metadata": {},
   "outputs": [
    {
     "name": "stdout",
     "output_type": "stream",
     "text": [
      "0.866\n",
      "0.980\n"
     ]
    },
    {
     "ename": "",
     "evalue": "",
     "output_type": "error",
     "traceback": [
      "\u001b[1;31m현재 셀 또는 이전 셀에서 코드를 실행하는 동안 Kernel이 충돌했습니다. 셀의 코드를 검토하여 오류의 가능한 원인을 식별하세요. 자세한 내용을 보려면 <a href='https://aka.ms/vscodeJupyterKernelCrash'> 여기 </a> 를 클릭하세요. 자세한 내용은 Jupyter <a href='command:jupyter.viewOutput'>로그</a>를 참조하세요."
     ]
    }
   ],
   "source": [
    "# 백준 4706번 - 쌍둥이 역설\n",
    "import sys\n",
    "# input = sys.stdin.readline\n",
    "c = 0.99999971460312\n",
    "while True:\n",
    "    a, b = map(float, input().split())\n",
    "    if a == 0 and b == 0:\n",
    "        break\n",
    "    v = c * ((1 - ((b / a) ** 2)) ** 0.5)\n",
    "    print(f'{v:.3f}')\n",
    "# 채점 대기 중"
   ]
  },
  {
   "cell_type": "code",
   "execution_count": 4,
   "metadata": {},
   "outputs": [
    {
     "name": "stdout",
     "output_type": "stream",
     "text": [
      "SCU\n"
     ]
    }
   ],
   "source": [
    "# 백준 30957번 - 빅데이터 vs 정보보호 vs 인공지능\n",
    "import sys\n",
    "# input = sys.stdin.readline\n",
    "\n",
    "n = int(input())\n",
    "inp_str = input()\n",
    "b = inp_str.count('B')\n",
    "s = inp_str.count('S')\n",
    "a = inp_str.count('A')\n",
    "if b == s == a:\n",
    "    print('SCU')\n",
    "elif b > a:\n",
    "    if b == s:\n",
    "        print('BS')\n",
    "    elif b > s:\n",
    "        print('B')\n",
    "    else:\n",
    "        print('S')\n",
    "elif b == a:\n",
    "    if b > s:\n",
    "        print('BA')\n",
    "    else:\n",
    "        print('S')\n",
    "else:\n",
    "    if a == s:\n",
    "        print('SA')\n",
    "    elif a > s:\n",
    "        print('A')\n",
    "    else:\n",
    "        print('S')"
   ]
  },
  {
   "cell_type": "code",
   "execution_count": 10,
   "metadata": {},
   "outputs": [
    {
     "name": "stdout",
     "output_type": "stream",
     "text": [
      "6\n"
     ]
    }
   ],
   "source": [
    "# 백준 30958번 - 서울사이버대학을 다니고\n",
    "import sys\n",
    "# input = sys.stdin.readline\n",
    "\n",
    "n = int(input())\n",
    "song = input().strip().replace(' ', '').replace(',', '').replace('.', '')\n",
    "song_list = [0 for _ in range(26)]\n",
    "for i in song:\n",
    "    song_list[ord(i) - 97] += 1\n",
    "\n",
    "print(max(song_list))"
   ]
  },
  {
   "cell_type": "code",
   "execution_count": 11,
   "metadata": {},
   "outputs": [
    {
     "name": "stdout",
     "output_type": "stream",
     "text": [
      "55\n"
     ]
    }
   ],
   "source": [
    "# 백준 2747번 - 피보나치 수\n",
    "import sys\n",
    "# input = sys.stdin.readline\n",
    "\n",
    "fibo = [0, 1]\n",
    "n = int(input())\n",
    "for i in range(2, n + 1):\n",
    "    fibo.append(fibo[i - 1] + fibo[i - 2])\n",
    "print(fibo[n])"
   ]
  },
  {
   "cell_type": "code",
   "execution_count": null,
   "metadata": {},
   "outputs": [],
   "source": [
    "# 백준 10811번 - 바구니 뒤집기\n",
    "import sys\n",
    "# input = sys.stdin.readline\n",
    "\n",
    "n, m = map(int, input().split())\n",
    "basket = [i for i in range(n + 1)]\n",
    "for _ in range(m):\n",
    "    i, j = map(int, input().split())\n",
    "    basket[i:j + 1] = basket[i:j + 1][::-1]\n",
    "\n",
    "print(*basket[1:])"
   ]
  },
  {
   "cell_type": "code",
   "execution_count": null,
   "metadata": {},
   "outputs": [],
   "source": [
    "# 백준 10813번 - 공 바꾸기\n",
    "import sys\n",
    "# input = sys.stdin.readline\n",
    "\n",
    "n, m = map(int, input().split())\n",
    "ball = [i for i in range(n + 1)]\n",
    "for _ in range(m):\n",
    "    i, j = map(int, input().split())\n",
    "    ball[i], ball[j] = ball[j], ball[i]\n",
    "\n",
    "print(*ball[1:])"
   ]
  },
  {
   "cell_type": "code",
   "execution_count": null,
   "metadata": {},
   "outputs": [],
   "source": [
    "# 백준 1212번 - 8진수 2진수\n",
    "import sys\n",
    "# input = sys.stdin.readline\n",
    "\n",
    "n = input()\n",
    "\n",
    "print(bin(int(n, 8))[2:])"
   ]
  },
  {
   "cell_type": "code",
   "execution_count": null,
   "metadata": {},
   "outputs": [],
   "source": [
    "# 백준 2745번 - 진법 변환\n",
    "import sys\n",
    "# input = sys.stdin.readline\n",
    "\n",
    "n, b = input().split()\n",
    "b = int(b)\n",
    "print(int(n, b))"
   ]
  },
  {
   "cell_type": "code",
   "execution_count": null,
   "metadata": {},
   "outputs": [],
   "source": [
    "# 백준 5585번 - 거스름돈\n",
    "import sys\n",
    "# input = sys.stdin.readline\n",
    "\n",
    "n = 1000 - int(input())\n",
    "coin = [500, 100, 50, 10, 5, 1]\n",
    "count = 0\n",
    "for i in coin:\n",
    "    count += n // i\n",
    "    n %= i\n",
    "print(count)"
   ]
  },
  {
   "cell_type": "code",
   "execution_count": null,
   "metadata": {},
   "outputs": [],
   "source": [
    "# 백준 1977번 - 완전제곱수\n",
    "import sys\n",
    "# input = sys.stdin.readline\n",
    "\n",
    "m = int(input())\n",
    "n = int(input())\n",
    "square = []\n",
    "for i in range(1, 101):\n",
    "    if m <= i ** 2 <= n:\n",
    "        square.append(i ** 2)\n",
    "if square:\n",
    "    print(sum(square))\n",
    "    print(square[0])\n",
    "else:\n",
    "    print(-1)"
   ]
  },
  {
   "cell_type": "code",
   "execution_count": 1,
   "metadata": {},
   "outputs": [
    {
     "name": "stdout",
     "output_type": "stream",
     "text": [
      "0 0 0 0\n"
     ]
    }
   ],
   "source": [
    "# 백준 10820번 - 문자열 분석\n",
    "import sys\n",
    "# input = sys.stdin.readline\n",
    "\n",
    "while True:\n",
    "    inp_str = input()\n",
    "    if not inp_str:\n",
    "        break    \n",
    "    lower = 0\n",
    "    upper = 0\n",
    "    num = 0\n",
    "    space = 0\n",
    "    for i in inp_str:\n",
    "        if i.islower():\n",
    "            lower += 1\n",
    "        elif i.isupper():\n",
    "            upper += 1\n",
    "        elif i.isdigit():\n",
    "            num += 1\n",
    "        elif i == ' ':\n",
    "            space += 1\n",
    "    print(lower, upper, num, space)"
   ]
  },
  {
   "cell_type": "code",
   "execution_count": null,
   "metadata": {},
   "outputs": [],
   "source": [
    "# 백준 1076번 - 저항\n",
    "import sys\n",
    "# input = sys.stdin.readline\n",
    "\n",
    "color = {'black': 0, 'brown': 1, 'red': 2, 'orange': 3, 'yellow': 4,\n",
    "            'green': 5, 'blue': 6, 'violet': 7, 'grey': 8, 'white': 9}\n",
    "res = ''\n",
    "for _ in range(2):\n",
    "    res += str(color[input().strip()])\n",
    "\n",
    "print(int(res) * (10 ** color[input().strip()]))"
   ]
  },
  {
   "cell_type": "code",
   "execution_count": 2,
   "metadata": {},
   "outputs": [
    {
     "name": "stdout",
     "output_type": "stream",
     "text": [
      "-1\n",
      "\n"
     ]
    }
   ],
   "source": [
    "# 백준 10093번 - 숫자\n",
    "import sys\n",
    "# input = sys.stdin.readline\n",
    "\n",
    "a, b = map(int, input().split())\n",
    "\n",
    "if a == b:\n",
    "    print(0)\n",
    "else:\n",
    "    print(abs(a - b) - 1)\n",
    "if a < b:\n",
    "    print(*[i for i in range(a + 1, b)])\n",
    "else:\n",
    "    print(*[i for i in range(b + 1, a)])"
   ]
  },
  {
   "cell_type": "code",
   "execution_count": null,
   "metadata": {},
   "outputs": [],
   "source": []
  }
 ],
 "metadata": {
  "kernelspec": {
   "display_name": "Python 3",
   "language": "python",
   "name": "python3"
  },
  "language_info": {
   "codemirror_mode": {
    "name": "ipython",
    "version": 3
   },
   "file_extension": ".py",
   "mimetype": "text/x-python",
   "name": "python",
   "nbconvert_exporter": "python",
   "pygments_lexer": "ipython3",
   "version": "3.11.6"
  }
 },
 "nbformat": 4,
 "nbformat_minor": 2
}
