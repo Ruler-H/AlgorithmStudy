{
 "cells": [
  {
   "cell_type": "code",
   "execution_count": 15,
   "metadata": {},
   "outputs": [
    {
     "name": "stdout",
     "output_type": "stream",
     "text": [
      "0.866\n",
      "0.980\n"
     ]
    },
    {
     "ename": "",
     "evalue": "",
     "output_type": "error",
     "traceback": [
      "\u001b[1;31m현재 셀 또는 이전 셀에서 코드를 실행하는 동안 Kernel이 충돌했습니다. 셀의 코드를 검토하여 오류의 가능한 원인을 식별하세요. 자세한 내용을 보려면 <a href='https://aka.ms/vscodeJupyterKernelCrash'> 여기 </a> 를 클릭하세요. 자세한 내용은 Jupyter <a href='command:jupyter.viewOutput'>로그</a>를 참조하세요."
     ]
    }
   ],
   "source": [
    "# 백준 4706번 - 쌍둥이 역설\n",
    "import sys\n",
    "# input = sys.stdin.readline\n",
    "c = 0.99999971460312\n",
    "while True:\n",
    "    a, b = map(float, input().split())\n",
    "    if a == 0 and b == 0:\n",
    "        break\n",
    "    v = c * ((1 - ((b / a) ** 2)) ** 0.5)\n",
    "    print(f'{v:.3f}')\n",
    "# 채점 대기 중"
   ]
  },
  {
   "cell_type": "code",
   "execution_count": 2,
   "metadata": {},
   "outputs": [
    {
     "name": "stdout",
     "output_type": "stream",
     "text": [
      "-1\n",
      "\n"
     ]
    }
   ],
   "source": [
    "# 백준 1550번 - 16진수\n",
    "import sys\n",
    "# input = sys.stdin.readline\n",
    "\n",
    "n = input()\n",
    "print(int(n, 16))"
   ]
  },
  {
   "cell_type": "code",
   "execution_count": null,
   "metadata": {},
   "outputs": [],
   "source": [
    "# 백준 19532번 - 수학은 비대면강의입니다\n",
    "import sys\n",
    "# input = sys.stdin.readline\n",
    "\n",
    "a, b, c, d, e, f = map(int, input().split())\n",
    "x = (c * e - b * f) / (a * e - b * d)\n",
    "y = (c * d - a * f) / (b * d - a * e)\n",
    "print(int(x), int(y))\n"
   ]
  },
  {
   "cell_type": "code",
   "execution_count": null,
   "metadata": {},
   "outputs": [],
   "source": [
    "# 백준 1100번 - 하얀 칸\n",
    "import sys\n",
    "# input = sys.stdin.readline\n",
    "\n",
    "chess = []\n",
    "for _ in range(8):\n",
    "    chess.append(list(input()))\n",
    "cnt = 0\n",
    "for i in range(8):\n",
    "    for j in range(8):\n",
    "        if (i + j) % 2 == 0 and chess[i][j] == 'F':\n",
    "            cnt += 1\n",
    "print(cnt)"
   ]
  },
  {
   "cell_type": "code",
   "execution_count": 5,
   "metadata": {},
   "outputs": [
    {
     "name": "stdout",
     "output_type": "stream",
     "text": [
      "3\n"
     ]
    }
   ],
   "source": [
    "# 백준 17608번 - 막대기\n",
    "import sys\n",
    "# input = sys.stdin.readline\n",
    "\n",
    "n = int(input())\n",
    "stick = []\n",
    "for _ in range(n):\n",
    "    stick.append(int(input()))\n",
    "\n",
    "cnt = 1\n",
    "max_stick = stick[-1]\n",
    "for i in range(n-2, -1, -1):\n",
    "    if stick[i] > max_stick:\n",
    "        cnt += 1\n",
    "        max_stick = stick[i]\n",
    "print(cnt)"
   ]
  },
  {
   "cell_type": "code",
   "execution_count": null,
   "metadata": {},
   "outputs": [],
   "source": [
    "# 백준 2355번 - 시그마\n",
    "import sys\n",
    "# input = sys.stdin.readline\n",
    "\n",
    "a, b = map(int, input().split())\n",
    "if a > b:\n",
    "    a, b = b, a\n",
    "print((b - a + 1) * (a + b) // 2)"
   ]
  },
  {
   "cell_type": "code",
   "execution_count": 13,
   "metadata": {},
   "outputs": [
    {
     "name": "stdout",
     "output_type": "stream",
     "text": [
      "32400\n",
      "32401\n",
      "32402\n",
      "32403\n",
      "32404\n",
      "32405\n",
      "32406\n",
      "32407\n",
      "32408\n",
      "32409\n",
      "32410\n",
      "32411\n",
      "32412\n",
      "32413\n",
      "32414\n",
      "32415\n",
      "32416\n",
      "32417\n",
      "32418\n",
      "32419\n",
      "32420\n",
      "32421\n",
      "32422\n",
      "32423\n",
      "32424\n",
      "32425\n",
      "32426\n",
      "32427\n",
      "32428\n",
      "32429\n",
      "32430\n",
      "32431\n",
      "32432\n",
      "32433\n",
      "32434\n",
      "32435\n",
      "32436\n",
      "32437\n",
      "32438\n",
      "32439\n",
      "32440\n",
      "32441\n",
      "32442\n",
      "32443\n",
      "32444\n",
      "32445\n",
      "32446\n",
      "32447\n",
      "32448\n",
      "32449\n",
      "32450\n",
      "32451\n",
      "32452\n",
      "32453\n",
      "32454\n",
      "32455\n",
      "32456\n",
      "32457\n",
      "32458\n",
      "32459\n",
      "32460\n",
      "32461\n",
      "32462\n",
      "32463\n",
      "32464\n",
      "32465\n",
      "32466\n",
      "32467\n",
      "32468\n",
      "32469\n",
      "32470\n",
      "32471\n",
      "32472\n",
      "72\n"
     ]
    }
   ],
   "source": [
    "# 백준 1075번 - 나누기\n",
    "import sys\n",
    "# input = sys.stdin.readline\n",
    "\n",
    "n = int(input())\n",
    "f = int(input())\n",
    "n = n // 100 * 100\n",
    "while True:\n",
    "    if n % f == 0:\n",
    "        break\n",
    "    n += 1\n",
    "print(str(n)[-2:])"
   ]
  },
  {
   "cell_type": "code",
   "execution_count": null,
   "metadata": {},
   "outputs": [],
   "source": [
    "32442\n",
    "99"
   ]
  }
 ],
 "metadata": {
  "kernelspec": {
   "display_name": "Python 3",
   "language": "python",
   "name": "python3"
  },
  "language_info": {
   "codemirror_mode": {
    "name": "ipython",
    "version": 3
   },
   "file_extension": ".py",
   "mimetype": "text/x-python",
   "name": "python",
   "nbconvert_exporter": "python",
   "pygments_lexer": "ipython3",
   "version": "3.11.6"
  }
 },
 "nbformat": 4,
 "nbformat_minor": 2
}
