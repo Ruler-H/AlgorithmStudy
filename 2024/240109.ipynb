{
 "cells": [
  {
   "cell_type": "code",
   "execution_count": 15,
   "metadata": {},
   "outputs": [
    {
     "name": "stdout",
     "output_type": "stream",
     "text": [
      "0.866\n",
      "0.980\n"
     ]
    },
    {
     "ename": "",
     "evalue": "",
     "output_type": "error",
     "traceback": [
      "\u001b[1;31m현재 셀 또는 이전 셀에서 코드를 실행하는 동안 Kernel이 충돌했습니다. 셀의 코드를 검토하여 오류의 가능한 원인을 식별하세요. 자세한 내용을 보려면 <a href='https://aka.ms/vscodeJupyterKernelCrash'> 여기 </a> 를 클릭하세요. 자세한 내용은 Jupyter <a href='command:jupyter.viewOutput'>로그</a>를 참조하세요."
     ]
    }
   ],
   "source": [
    "# 백준 4706번 - 쌍둥이 역설\n",
    "import sys\n",
    "# input = sys.stdin.readline\n",
    "c = 0.99999971460312\n",
    "while True:\n",
    "    a, b = map(float, input().split())\n",
    "    if a == 0 and b == 0:\n",
    "        break\n",
    "    v = c * ((1 - ((b / a) ** 2)) ** 0.5)\n",
    "    print(f'{v:.3f}')\n",
    "# 채점 대기 중"
   ]
  },
  {
   "cell_type": "code",
   "execution_count": 2,
   "metadata": {},
   "outputs": [
    {
     "name": "stdout",
     "output_type": "stream",
     "text": [
      "35\n",
      "3\n"
     ]
    }
   ],
   "source": [
    "# 백준 24267번 - 알고리즘 수업 - 알고리즘의 수행 시간 6\n",
    "import sys\n",
    "# input = sys.stdin.readline\n",
    "\n",
    "n = int(input().strip())\n",
    "\n",
    "rs = 0\n",
    "for i in range(1, n - 1):\n",
    "    rs += i * (n - 1 - i)\n",
    "print(rs)\n",
    "print(3)"
   ]
  },
  {
   "cell_type": "code",
   "execution_count": null,
   "metadata": {},
   "outputs": [],
   "source": [
    "# 백준 14697번 - 방 배정하기\n",
    "import sys\n",
    "# input = sys.stdin.readline\n",
    "\n",
    "a, b, c, n = map(int, input().split())\n",
    "\n",
    "for i in range(n // a + 1):\n",
    "    for j in range(n // b + 1):\n",
    "        for k in range(n // c + 1):\n",
    "            if a * i + b * j + c * k == n:\n",
    "                print(1)\n",
    "                sys.exit()\n",
    "print(0)"
   ]
  },
  {
   "cell_type": "code",
   "execution_count": null,
   "metadata": {},
   "outputs": [],
   "source": [
    "# 백준 1919번 - 애너그램 만들기\n",
    "import sys\n",
    "# input = sys.stdin.readline\n",
    "\n",
    "a = input().strip()\n",
    "b = input().strip()\n",
    "\n",
    "a_dict = {}\n",
    "b_dict = {}\n",
    "\n",
    "for i in a:\n",
    "    if i in a_dict:\n",
    "        a_dict[i] += 1\n",
    "    else:\n",
    "        a_dict[i] = 1\n",
    "\n",
    "for i in b:\n",
    "    if i in b_dict:\n",
    "        b_dict[i] += 1\n",
    "    else:\n",
    "        b_dict[i] = 1\n",
    "\n",
    "rs = 0\n",
    "for i in a_dict:\n",
    "    if i in b_dict:\n",
    "        rs += abs(a_dict[i] - b_dict[i])\n",
    "    else:\n",
    "        rs += a_dict[i]\n",
    "\n",
    "for i in b_dict:\n",
    "    if i not in a_dict:\n",
    "        rs += b_dict[i]\n",
    "\n",
    "print(rs)"
   ]
  },
  {
   "cell_type": "code",
   "execution_count": 3,
   "metadata": {},
   "outputs": [
    {
     "name": "stdout",
     "output_type": "stream",
     "text": [
      "1 3 5 2 4 "
     ]
    }
   ],
   "source": [
    "# 백준 2605번 - 줄 세우기\n",
    "import sys\n",
    "# input = sys.stdin.readline\n",
    "\n",
    "n = int(input().strip())\n",
    "\n",
    "arr = list(map(int, input().split()))\n",
    "rs_arr = []\n",
    "for i in range(n):\n",
    "    rs_arr.insert(arr[i], i + 1)\n",
    "\n",
    "rs_arr.reverse()\n",
    "for i in rs_arr:\n",
    "    print(i, end=' ')"
   ]
  },
  {
   "cell_type": "code",
   "execution_count": 13,
   "metadata": {},
   "outputs": [
    {
     "name": "stdout",
     "output_type": "stream",
     "text": [
      "a"
     ]
    }
   ],
   "source": [
    "# 백준 1371번 - 가장 많은 글자\n",
    "import sys\n",
    "input = sys.stdin.readline\n",
    "\n",
    "sentence = sys.stdin.read()\n",
    "alphabet = 'abcdefghijklmnopqrstuvwxyz'\n",
    "result = []\n",
    "\n",
    "for i in alphabet:\n",
    "    result.append(sentence.count(i))\n",
    "\n",
    "m = max(result)\n",
    "for i in range(len(result)):\n",
    "    if m == result[i]:\n",
    "        print(chr(i+97), end='')"
   ]
  },
  {
   "cell_type": "code",
   "execution_count": null,
   "metadata": {},
   "outputs": [],
   "source": [
    "abc\n",
    "ab"
   ]
  }
 ],
 "metadata": {
  "kernelspec": {
   "display_name": "Python 3",
   "language": "python",
   "name": "python3"
  },
  "language_info": {
   "codemirror_mode": {
    "name": "ipython",
    "version": 3
   },
   "file_extension": ".py",
   "mimetype": "text/x-python",
   "name": "python",
   "nbconvert_exporter": "python",
   "pygments_lexer": "ipython3",
   "version": "3.11.1"
  }
 },
 "nbformat": 4,
 "nbformat_minor": 2
}
