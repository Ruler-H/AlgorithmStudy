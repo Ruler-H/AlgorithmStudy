{
 "cells": [
  {
   "cell_type": "code",
   "execution_count": 15,
   "metadata": {},
   "outputs": [
    {
     "name": "stdout",
     "output_type": "stream",
     "text": [
      "0.866\n",
      "0.980\n"
     ]
    },
    {
     "ename": "",
     "evalue": "",
     "output_type": "error",
     "traceback": [
      "\u001b[1;31m현재 셀 또는 이전 셀에서 코드를 실행하는 동안 Kernel이 충돌했습니다. 셀의 코드를 검토하여 오류의 가능한 원인을 식별하세요. 자세한 내용을 보려면 <a href='https://aka.ms/vscodeJupyterKernelCrash'> 여기 </a> 를 클릭하세요. 자세한 내용은 Jupyter <a href='command:jupyter.viewOutput'>로그</a>를 참조하세요."
     ]
    }
   ],
   "source": [
    "# 백준 4706번 - 쌍둥이 역설\n",
    "import sys\n",
    "# input = sys.stdin.readline\n",
    "c = 0.99999971460312\n",
    "while True:\n",
    "    a, b = map(float, input().split())\n",
    "    if a == 0 and b == 0:\n",
    "        break\n",
    "    v = c * ((1 - ((b / a) ** 2)) ** 0.5)\n",
    "    print(f'{v:.3f}')\n",
    "# 채점 대기 중"
   ]
  },
  {
   "cell_type": "code",
   "execution_count": null,
   "metadata": {},
   "outputs": [],
   "source": [
    "# 백준 2864번 - 5와 6의 차이\n",
    "import sys\n",
    "# input = sys.stdin.readline\n",
    "\n",
    "a, b = input().split()\n",
    "min_a = a.replace('6', '5')\n",
    "max_a = a.replace('5', '6')\n",
    "min_b = b.replace('6', '5')\n",
    "max_b = b.replace('5', '6')\n",
    "print(int(min_a) + int(min_b), int(max_a) + int(max_b))"
   ]
  },
  {
   "cell_type": "code",
   "execution_count": 6,
   "metadata": {},
   "outputs": [
    {
     "name": "stdout",
     "output_type": "stream",
     "text": [
      "CROATIA\n"
     ]
    }
   ],
   "source": [
    "# 백준 5598번 - 카이사르 암호\n",
    "import sys\n",
    "# input = sys.stdin.readline\n",
    "\n",
    "inp_str = input()\n",
    "rs = ''\n",
    "for i in inp_str:\n",
    "    if ord(i) <= 67:\n",
    "        rs += chr(ord(i) + 23)\n",
    "    else:\n",
    "        rs += chr(ord(i) - 3)\n",
    "\n",
    "print(rs)"
   ]
  },
  {
   "cell_type": "code",
   "execution_count": null,
   "metadata": {},
   "outputs": [],
   "source": [
    "# 백준 1453번 - 피시방 알바\n",
    "import sys\n",
    "# input = sys.stdin.readline\n",
    "\n",
    "n = int(input())\n",
    "inp_list = list(map(int, input().split()))\n",
    "rs = 0\n",
    "seat = [0] * 101\n",
    "for i in inp_list:\n",
    "    if seat[i] == 0:\n",
    "        seat[i] = 1\n",
    "    else:\n",
    "        rs += 1\n",
    "print(rs)"
   ]
  },
  {
   "cell_type": "code",
   "execution_count": null,
   "metadata": {},
   "outputs": [],
   "source": [
    "# 백준 11328번 - Strfry\n",
    "import sys\n",
    "# input = sys.stdin.readline\n",
    "\n",
    "n = int(input())\n",
    "\n",
    "for _ in range(n):\n",
    "    a, b = input().split()\n",
    "    if sorted(a) == sorted(b):\n",
    "        print('Possible')\n",
    "    else:\n",
    "        print('Impossible')"
   ]
  },
  {
   "cell_type": "code",
   "execution_count": null,
   "metadata": {},
   "outputs": [],
   "source": [
    "# 백준 2592번 - 대표값\n",
    "import sys\n",
    "# input = sys.stdin.readline\n",
    "\n",
    "inp_list = []\n",
    "for _ in range(10):\n",
    "    inp_list.append(int(input()))\n",
    "\n",
    "print(sum(inp_list) // 10)\n",
    "print(max(inp_list, key=inp_list.count))"
   ]
  },
  {
   "cell_type": "code",
   "execution_count": null,
   "metadata": {},
   "outputs": [],
   "source": [
    "# 백준 2511번 - 카드놀이\n",
    "import sys\n",
    "# input = sys.stdin.readline\n",
    "\n",
    "a = list(map(int, input().split()))\n",
    "b = list(map(int, input().split()))\n",
    "\n",
    "a_score = 0\n",
    "b_score = 0\n",
    "last = 'D'\n",
    "for i in range(10):\n",
    "    if a[i] > b[i]:\n",
    "        a_score += 3\n",
    "        last = 'A'\n",
    "    elif a[i] < b[i]:\n",
    "        b_score += 3\n",
    "        last = 'B'\n",
    "    else:\n",
    "        a_score += 1\n",
    "        b_score += 1\n",
    "\n",
    "print(a_score, b_score)\n",
    "if a_score > b_score:\n",
    "    print('A')\n",
    "elif a_score < b_score:\n",
    "    print('B')\n",
    "else:\n",
    "    print(last)"
   ]
  },
  {
   "cell_type": "code",
   "execution_count": null,
   "metadata": {},
   "outputs": [],
   "source": [
    "# 백준 1964번 - 오각형, 오각형, 오각형…\n",
    "import sys\n",
    "# input = sys.stdin.readline\n",
    "\n",
    "n = int(input())\n",
    "rs = 5\n",
    "\n",
    "for i in range(2, n + 1):\n",
    "    rs += (i + 1) * 3 - 2\n",
    "\n",
    "print(rs % 45678)"
   ]
  },
  {
   "cell_type": "code",
   "execution_count": 1,
   "metadata": {},
   "outputs": [
    {
     "name": "stdout",
     "output_type": "stream",
     "text": [
      "5\n",
      "14\n",
      "124\n"
     ]
    },
    {
     "ename": "ValueError",
     "evalue": "not enough values to unpack (expected 2, got 0)",
     "output_type": "error",
     "traceback": [
      "\u001b[1;31m---------------------------------------------------------------------------\u001b[0m",
      "\u001b[1;31mValueError\u001b[0m                                Traceback (most recent call last)",
      "Cell \u001b[1;32mIn[1], line 6\u001b[0m\n\u001b[0;32m      3\u001b[0m \u001b[38;5;66;03m# input = sys.stdin.readline\u001b[39;00m\n\u001b[0;32m      5\u001b[0m \u001b[38;5;28;01mwhile\u001b[39;00m \u001b[38;5;28;01mTrue\u001b[39;00m:\n\u001b[1;32m----> 6\u001b[0m     n, k \u001b[38;5;241m=\u001b[39m \u001b[38;5;28mmap\u001b[39m(\u001b[38;5;28mint\u001b[39m, \u001b[38;5;28minput\u001b[39m()\u001b[38;5;241m.\u001b[39msplit())\n\u001b[0;32m      7\u001b[0m     \u001b[38;5;28;01mif\u001b[39;00m \u001b[38;5;129;01mnot\u001b[39;00m n:\n\u001b[0;32m      8\u001b[0m         \u001b[38;5;28;01mbreak\u001b[39;00m\n",
      "\u001b[1;31mValueError\u001b[0m: not enough values to unpack (expected 2, got 0)"
     ]
    }
   ],
   "source": [
    "# 백준 1673번 - 치킨 쿠폰\n",
    "\n",
    "while True:\n",
    "    try:\n",
    "        n, k = map(int, input().split())\n",
    "        rs = n\n",
    "        while n >= k:\n",
    "            rs += n // k\n",
    "            n = n // k + n % k\n",
    "        print(rs)\n",
    "    except:\n",
    "        break\n"
   ]
  },
  {
   "cell_type": "code",
   "execution_count": null,
   "metadata": {},
   "outputs": [],
   "source": [
    "4 3\n",
    "10 3\n",
    "100 5"
   ]
  }
 ],
 "metadata": {
  "kernelspec": {
   "display_name": "Python 3",
   "language": "python",
   "name": "python3"
  },
  "language_info": {
   "codemirror_mode": {
    "name": "ipython",
    "version": 3
   },
   "file_extension": ".py",
   "mimetype": "text/x-python",
   "name": "python",
   "nbconvert_exporter": "python",
   "pygments_lexer": "ipython3",
   "version": "3.11.6"
  }
 },
 "nbformat": 4,
 "nbformat_minor": 2
}
