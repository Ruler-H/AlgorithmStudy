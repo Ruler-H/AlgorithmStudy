{
 "cells": [
  {
   "cell_type": "code",
   "execution_count": 15,
   "metadata": {},
   "outputs": [
    {
     "name": "stdout",
     "output_type": "stream",
     "text": [
      "0.866\n",
      "0.980\n"
     ]
    },
    {
     "ename": "",
     "evalue": "",
     "output_type": "error",
     "traceback": [
      "\u001b[1;31m현재 셀 또는 이전 셀에서 코드를 실행하는 동안 Kernel이 충돌했습니다. 셀의 코드를 검토하여 오류의 가능한 원인을 식별하세요. 자세한 내용을 보려면 <a href='https://aka.ms/vscodeJupyterKernelCrash'> 여기 </a> 를 클릭하세요. 자세한 내용은 Jupyter <a href='command:jupyter.viewOutput'>로그</a>를 참조하세요."
     ]
    }
   ],
   "source": [
    "# 백준 4706번 - 쌍둥이 역설\n",
    "import sys\n",
    "# input = sys.stdin.readline\n",
    "c = 0.99999971460312\n",
    "while True:\n",
    "    a, b = map(float, input().split())\n",
    "    if a == 0 and b == 0:\n",
    "        break\n",
    "    v = c * ((1 - ((b / a) ** 2)) ** 0.5)\n",
    "    print(f'{v:.3f}')\n",
    "# 채점 대기 중"
   ]
  },
  {
   "cell_type": "code",
   "execution_count": null,
   "metadata": {},
   "outputs": [],
   "source": [
    "# 백준 2484번 - 주사위 네개\n",
    "import sys\n",
    "# input = sys.stdin.readline\n",
    "\n",
    "n = int(input().strip())\n",
    "max_money = 0\n",
    "\n",
    "for _ in range(n):\n",
    "    dice = list(map(int, input().split()))\n",
    "    dice.sort()\n",
    "    money = 0\n",
    "\n",
    "    if len(set(dice)) == 1:\n",
    "        money = 50000 + dice[0] * 5000\n",
    "    elif len(set(dice)) == 2:\n",
    "        if dice[1] == dice[2]:\n",
    "            money = 10000 + dice[1] * 1000\n",
    "        else:\n",
    "            money = 2000 + (dice[1] + dice[2]) * 500\n",
    "    elif len(set(dice)) == 3:\n",
    "        for i in range(3):\n",
    "            if dice[i] == dice[i + 1]:\n",
    "                money = 1000 + dice[i] * 100\n",
    "                break\n",
    "    else:\n",
    "        money = dice[-1] * 100\n",
    "\n",
    "    max_money = max(max_money, money)\n",
    "\n",
    "print(max_money)"
   ]
  },
  {
   "cell_type": "code",
   "execution_count": 4,
   "metadata": {},
   "outputs": [
    {
     "name": "stdout",
     "output_type": "stream",
     "text": [
      "It is a prime word.\n"
     ]
    }
   ],
   "source": [
    "# 백준 2153번 - 소수 단어\n",
    "import sys\n",
    "# input = sys.stdin.readline\n",
    "\n",
    "word = input().strip()\n",
    "word_sum = 0\n",
    "for i in word:\n",
    "    if i.isupper():\n",
    "        word_sum += ord(i) - 38\n",
    "    else:\n",
    "        word_sum += ord(i) - 96\n",
    "\n",
    "if word_sum == 1:\n",
    "    print(\"It is a prime word.\")\n",
    "else:\n",
    "    for i in range(2, int(word_sum ** 0.5) + 1):\n",
    "        if word_sum % i == 0:\n",
    "            print(\"It is not a prime word.\")\n",
    "            break\n",
    "    else:\n",
    "        print(\"It is a prime word.\")"
   ]
  },
  {
   "cell_type": "code",
   "execution_count": 5,
   "metadata": {},
   "outputs": [
    {
     "name": "stdout",
     "output_type": "stream",
     "text": [
      "7\n"
     ]
    }
   ],
   "source": [
    "# 백준 1568번 - 새\n",
    "import sys\n",
    "# input = sys.stdin.readline\n",
    "\n",
    "n = int(input().strip())\n",
    "\n",
    "k = 1\n",
    "time = 0\n",
    "while n > 0:\n",
    "    if k > n:\n",
    "        k = 1\n",
    "    n -= k\n",
    "    k += 1\n",
    "    time += 1\n",
    "\n",
    "print(time)"
   ]
  },
  {
   "cell_type": "code",
   "execution_count": null,
   "metadata": {},
   "outputs": [],
   "source": [
    "# 백준 1668번 - 트로피 진열\n",
    "import sys\n",
    "# input = sys.stdin.readline\n",
    "\n",
    "n = int(input().strip())\n",
    "\n",
    "trophy = []\n",
    "for _ in range(n):\n",
    "    trophy.append(int(input().strip()))\n",
    "\n",
    "left = 1\n",
    "right = 1\n",
    "left_max = trophy[0]\n",
    "right_max = trophy[-1]\n",
    "\n",
    "for i in range(1, n):\n",
    "    if left_max < trophy[i]:\n",
    "        left += 1\n",
    "        left_max = trophy[i]\n",
    "    if right_max < trophy[-i - 1]:\n",
    "        right += 1\n",
    "        right_max = trophy[-i - 1]\n",
    "\n",
    "print(left)\n",
    "print(right)"
   ]
  },
  {
   "cell_type": "code",
   "execution_count": null,
   "metadata": {},
   "outputs": [],
   "source": [
    "# 백준 10829번 - 이진수 변환\n",
    "import sys\n",
    "# input = sys.stdin.readline\n",
    "\n",
    "n = int(input().strip())\n",
    "\n",
    "print(bin(n)[2:])"
   ]
  },
  {
   "cell_type": "code",
   "execution_count": 55,
   "metadata": {},
   "outputs": [
    {
     "name": "stdout",
     "output_type": "stream",
     "text": [
      "30\n"
     ]
    }
   ],
   "source": [
    "# 백준 1333번 - 부재중 전화\n",
    "import sys\n",
    "# input = sys.stdin.readline\n",
    "\n",
    "n, l, d = map(int, input().strip().split())\n",
    "\n",
    "time = [0]\n",
    "for _ in range(n):\n",
    "    time.extend([1] * l)\n",
    "    time.extend([0] * 5)\n",
    "time.extend([0] * d * 2)\n",
    "\n",
    "for i in range(d, len(time), d):\n",
    "    if time[i] == 0:\n",
    "        print(i)\n",
    "        break"
   ]
  },
  {
   "cell_type": "code",
   "execution_count": null,
   "metadata": {},
   "outputs": [],
   "source": [
    "1 9 8 14 16\n",
    "3 4 10 27 30\n",
    "1 11 9 16 18\n",
    "3 4 10 27 30\n",
    "2 4 10 18 20\n",
    "3 5 11 30 33\n",
    "4 5 11 40 44\n",
    "1 10 9 15 18\n",
    "2 3 10 16 20"
   ]
  }
 ],
 "metadata": {
  "kernelspec": {
   "display_name": "Python 3",
   "language": "python",
   "name": "python3"
  },
  "language_info": {
   "codemirror_mode": {
    "name": "ipython",
    "version": 3
   },
   "file_extension": ".py",
   "mimetype": "text/x-python",
   "name": "python",
   "nbconvert_exporter": "python",
   "pygments_lexer": "ipython3",
   "version": "3.11.6"
  }
 },
 "nbformat": 4,
 "nbformat_minor": 2
}
