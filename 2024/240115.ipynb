{
 "cells": [
  {
   "cell_type": "code",
   "execution_count": 15,
   "metadata": {},
   "outputs": [
    {
     "name": "stdout",
     "output_type": "stream",
     "text": [
      "0.866\n",
      "0.980\n"
     ]
    },
    {
     "ename": "",
     "evalue": "",
     "output_type": "error",
     "traceback": [
      "\u001b[1;31m현재 셀 또는 이전 셀에서 코드를 실행하는 동안 Kernel이 충돌했습니다. 셀의 코드를 검토하여 오류의 가능한 원인을 식별하세요. 자세한 내용을 보려면 <a href='https://aka.ms/vscodeJupyterKernelCrash'> 여기 </a> 를 클릭하세요. 자세한 내용은 Jupyter <a href='command:jupyter.viewOutput'>로그</a>를 참조하세요."
     ]
    }
   ],
   "source": [
    "# 백준 4706번 - 쌍둥이 역설\n",
    "import sys\n",
    "# input = sys.stdin.readline\n",
    "c = 0.99999971460312\n",
    "while True:\n",
    "    a, b = map(float, input().split())\n",
    "    if a == 0 and b == 0:\n",
    "        break\n",
    "    v = c * ((1 - ((b / a) ** 2)) ** 0.5)\n",
    "    print(f'{v:.3f}')\n",
    "# 채점 대기 중"
   ]
  },
  {
   "cell_type": "code",
   "execution_count": 34,
   "metadata": {},
   "outputs": [
    {
     "name": "stdout",
     "output_type": "stream",
     "text": [
      "11100000111000000000000000\n",
      "10\n",
      "1\n",
      "20\n",
      "0\n",
      "20\n"
     ]
    }
   ],
   "source": [
    "# 백준 1333번 - 부재중 전화\n",
    "import sys\n",
    "# input = sys.stdin.readline\n",
    "\n",
    "n, l, d = map(int, input().strip().split())\n",
    "\n",
    "song = '1' * l + '0' * 5\n",
    "song *= n\n",
    "song += '0' * d\n",
    "song += '0' * (d - len(song))\n",
    "for i in range(d, len(song), d):\n",
    "    if song[i] == '0':\n",
    "        print(i)\n",
    "        break"
   ]
  },
  {
   "cell_type": "code",
   "execution_count": null,
   "metadata": {},
   "outputs": [],
   "source": [
    "# 백준 5218번 - 알파벳 거리\n",
    "import sys\n",
    "# input = sys.stdin.readline\n",
    "\n",
    "t = int(input().strip())\n",
    "\n",
    "for _ in range(t):\n",
    "    a, b = input().strip().split()\n",
    "    print(f'Distances: ', end='')\n",
    "    for i in range(len(a)):\n",
    "        if a[i] <= b[i]:\n",
    "            print(ord(b[i]) - ord(a[i]), end=' ')\n",
    "        else:\n",
    "            print(ord(b[i]) + 26 - ord(a[i]), end=' ')\n",
    "    print()"
   ]
  },
  {
   "cell_type": "code",
   "execution_count": null,
   "metadata": {},
   "outputs": [],
   "source": [
    "# 백준 5576번 - 콘테스트\n",
    "import sys\n",
    "# input = sys.stdin.readline\n",
    "\n",
    "w = []\n",
    "k = []\n",
    "for _ in range(10):\n",
    "    w.append(int(input().strip()))\n",
    "for _ in range(10):\n",
    "    k.append(int(input().strip()))\n",
    "w.sort(reverse=True)\n",
    "k.sort(reverse=True)\n",
    "print(sum(w[:3]), sum(k[:3]))"
   ]
  },
  {
   "cell_type": "code",
   "execution_count": 41,
   "metadata": {},
   "outputs": [
    {
     "name": "stdout",
     "output_type": "stream",
     "text": [
      "40\n"
     ]
    }
   ],
   "source": [
    "# 백준 2399번 - 거리의 합\n",
    "import sys\n",
    "# input = sys.stdin.readline\n",
    "\n",
    "n = int(input().strip())\n",
    "arr = list(map(int, input().strip().split()))\n",
    "arr.sort()\n",
    "rs = 0\n",
    "\n",
    "for i in range(n):\n",
    "    rs += sum(arr[i + 1:]) - (arr[i] * (n - i - 1))\n",
    "\n",
    "print(rs * 2)"
   ]
  },
  {
   "cell_type": "code",
   "execution_count": 42,
   "metadata": {},
   "outputs": [
    {
     "name": "stdout",
     "output_type": "stream",
     "text": [
      "10 5\n",
      "161 1\n",
      "168 14\n"
     ]
    }
   ],
   "source": [
    "# 백준 2702번 - 초6 수학\n",
    "import sys\n",
    "# input = sys.stdin.readline\n",
    "import math\n",
    "\n",
    "t = int(input().strip())\n",
    "\n",
    "for _ in range(t):\n",
    "    a, b = map(int, input().strip().split())\n",
    "    g = math.gcd(a, b)\n",
    "    l = math.lcm(a, b)\n",
    "    print(l, g)"
   ]
  },
  {
   "cell_type": "code",
   "execution_count": 44,
   "metadata": {},
   "outputs": [
    {
     "name": "stdout",
     "output_type": "stream",
     "text": [
      "5\n"
     ]
    }
   ],
   "source": [
    "# 백준 1233번 - 주사위\n",
    "import sys\n",
    "# input = sys.stdin.readline\n",
    "import itertools\n",
    "\n",
    "s1, s2, s3 = map(int, input().strip().split())\n",
    "arr1 = [i for i in range(1, s1 + 1)]\n",
    "arr2 = [i for i in range(1, s2 + 1)]\n",
    "arr3 = [i for i in range(1, s3 + 1)]\n",
    "\n",
    "arr = []\n",
    "for i in itertools.product(arr1, arr2, arr3):\n",
    "    arr.append(sum(i))\n",
    "print(max(arr, key=arr.count))"
   ]
  },
  {
   "cell_type": "code",
   "execution_count": 45,
   "metadata": {},
   "outputs": [
    {
     "name": "stdout",
     "output_type": "stream",
     "text": [
      "4\n"
     ]
    }
   ],
   "source": [
    "# 백준 5032번 - 탄산 음료\n",
    "import sys\n",
    "# input = sys.stdin.readline\n",
    "\n",
    "e, f, c = map(int, input().strip().split())\n",
    "\n",
    "bottle = e + f\n",
    "drink = 0\n",
    "while bottle >= c:\n",
    "    drink += bottle // c\n",
    "    bottle = bottle // c + bottle % c\n",
    "print(drink)"
   ]
  },
  {
   "cell_type": "code",
   "execution_count": null,
   "metadata": {},
   "outputs": [],
   "source": [
    "# 백준 10821번 - 정수의 개수\n",
    "import sys\n",
    "# input = sys.stdin.readline\n",
    "\n",
    "s = input().strip().split(',')\n",
    "print(len(s))"
   ]
  },
  {
   "cell_type": "code",
   "execution_count": null,
   "metadata": {},
   "outputs": [],
   "source": [
    "# 백준 10801번 - 카드게임\n",
    "import sys\n",
    "# input = sys.stdin.readline\n",
    "\n",
    "a = list(map(int, input().strip().split()))\n",
    "b = list(map(int, input().strip().split()))\n",
    "a_win = 0\n",
    "b_win = 0\n",
    "for i in range(10):\n",
    "    if a[i] > b[i]:\n",
    "        a_win += 1\n",
    "    elif a[i] < b[i]:\n",
    "        b_win += 1\n",
    "if a_win > b_win:\n",
    "    print('A')\n",
    "elif a_win < b_win:\n",
    "    print('B')\n",
    "else:\n",
    "    print('D')"
   ]
  },
  {
   "cell_type": "code",
   "execution_count": 46,
   "metadata": {},
   "outputs": [
    {
     "name": "stdout",
     "output_type": "stream",
     "text": [
      "8\n"
     ]
    }
   ],
   "source": [
    "# 백준 8320번 - 직사각형을 만드는 방법\n",
    "import sys\n",
    "# input = sys.stdin.readline\n",
    "\n",
    "n = int(input().strip())\n",
    "\n",
    "rs = 0\n",
    "for i in range(1, n + 1):\n",
    "    for j in range(i, n + 1):\n",
    "        if i * j <= n:\n",
    "            rs += 1\n",
    "        else:\n",
    "            break\n",
    "print(rs)"
   ]
  },
  {
   "cell_type": "code",
   "execution_count": 48,
   "metadata": {},
   "outputs": [
    {
     "name": "stdout",
     "output_type": "stream",
     "text": [
      "Case #1: test a is this\n",
      "Case #2: \n",
      "Case #3: \n"
     ]
    }
   ],
   "source": [
    "# 백준 12605번 - 단어순서 뒤집기\n",
    "import sys\n",
    "# input = sys.stdin.readline\n",
    "\n",
    "n = int(input().strip())\n",
    "\n",
    "for i in range(n):\n",
    "    str_arr = input().strip().split()\n",
    "    str_arr.reverse()\n",
    "    print(f\"Case #{i + 1}: {' '.join(str_arr)}\")"
   ]
  },
  {
   "cell_type": "code",
   "execution_count": null,
   "metadata": {},
   "outputs": [],
   "source": [
    "# 백준 9076번 - 점수 집계\n",
    "import sys\n",
    "# input = sys.stdin.readline\n",
    "\n",
    "t = int(input().strip())\n",
    "\n",
    "for _ in range(t):\n",
    "    arr = list(map(int, input().strip().split()))\n",
    "    arr.sort()\n",
    "    if arr[3] - arr[1] >= 4:\n",
    "        print('KIN')\n",
    "    else:\n",
    "        print(sum(arr[1:4]))"
   ]
  },
  {
   "cell_type": "code",
   "execution_count": 49,
   "metadata": {},
   "outputs": [
    {
     "name": "stdout",
     "output_type": "stream",
     "text": [
      "YES\n",
      "NO\n",
      "YES\n",
      "NO\n"
     ]
    }
   ],
   "source": [
    "# 백준 3062번 - 수 뒤집기\n",
    "import sys\n",
    "# input = sys.stdin.readline\n",
    "\n",
    "t = int(input().strip())\n",
    "\n",
    "for _ in range(t):\n",
    "    n = input().strip()\n",
    "    m = str(int(n) + int(n[::-1]))\n",
    "    if m == m[::-1]:\n",
    "        print('YES')\n",
    "    else:\n",
    "        print('NO')"
   ]
  },
  {
   "cell_type": "code",
   "execution_count": null,
   "metadata": {},
   "outputs": [],
   "source": [
    "# 백준 1592번 - 영식이와 친구들\n",
    "import sys\n",
    "# input = sys.stdin.readline\n",
    "\n",
    "n, m, l = map(int, input().strip().split())"
   ]
  }
 ],
 "metadata": {
  "kernelspec": {
   "display_name": "Python 3",
   "language": "python",
   "name": "python3"
  },
  "language_info": {
   "codemirror_mode": {
    "name": "ipython",
    "version": 3
   },
   "file_extension": ".py",
   "mimetype": "text/x-python",
   "name": "python",
   "nbconvert_exporter": "python",
   "pygments_lexer": "ipython3",
   "version": "3.11.6"
  }
 },
 "nbformat": 4,
 "nbformat_minor": 2
}
