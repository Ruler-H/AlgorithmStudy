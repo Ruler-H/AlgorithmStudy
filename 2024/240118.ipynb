{
 "cells": [
  {
   "cell_type": "code",
   "execution_count": 15,
   "metadata": {},
   "outputs": [
    {
     "name": "stdout",
     "output_type": "stream",
     "text": [
      "0.866\n",
      "0.980\n"
     ]
    },
    {
     "ename": "",
     "evalue": "",
     "output_type": "error",
     "traceback": [
      "\u001b[1;31m현재 셀 또는 이전 셀에서 코드를 실행하는 동안 Kernel이 충돌했습니다. 셀의 코드를 검토하여 오류의 가능한 원인을 식별하세요. 자세한 내용을 보려면 <a href='https://aka.ms/vscodeJupyterKernelCrash'> 여기 </a> 를 클릭하세요. 자세한 내용은 Jupyter <a href='command:jupyter.viewOutput'>로그</a>를 참조하세요."
     ]
    }
   ],
   "source": [
    "# 백준 4706번 - 쌍둥이 역설\n",
    "import sys\n",
    "# input = sys.stdin.readline\n",
    "c = 0.99999971460312\n",
    "while True:\n",
    "    a, n = map(float, input().split())\n",
    "    if a == 0 and n == 0:\n",
    "        break\n",
    "    v = c * ((1 - ((n / a) ** 2)) ** 0.5)\n",
    "    print(f'{v:.3f}')\n",
    "# 채점 대기 중"
   ]
  },
  {
   "cell_type": "code",
   "execution_count": 2,
   "metadata": {},
   "outputs": [
    {
     "name": "stdout",
     "output_type": "stream",
     "text": [
      "g 2\n"
     ]
    },
    {
     "ename": "IndexError",
     "evalue": "string index out of range",
     "output_type": "error",
     "traceback": [
      "\u001b[1;31m---------------------------------------------------------------------------\u001b[0m",
      "\u001b[1;31mIndexError\u001b[0m                                Traceback (most recent call last)",
      "Cell \u001b[1;32mIn[2], line 9\u001b[0m\n\u001b[0;32m      7\u001b[0m \u001b[38;5;28;01mif\u001b[39;00m s \u001b[38;5;241m==\u001b[39m \u001b[38;5;124m'\u001b[39m\u001b[38;5;124m#\u001b[39m\u001b[38;5;124m'\u001b[39m:\n\u001b[0;32m      8\u001b[0m     \u001b[38;5;28;01mbreak\u001b[39;00m\n\u001b[1;32m----> 9\u001b[0m \u001b[38;5;28mprint\u001b[39m(\u001b[43ms\u001b[49m\u001b[43m[\u001b[49m\u001b[38;5;241;43m0\u001b[39;49m\u001b[43m]\u001b[49m, s[\u001b[38;5;241m1\u001b[39m:]\u001b[38;5;241m.\u001b[39mlower()\u001b[38;5;241m.\u001b[39mcount(s[\u001b[38;5;241m0\u001b[39m]))\n",
      "\u001b[1;31mIndexError\u001b[0m: string index out of range"
     ]
    }
   ],
   "source": [
    "# 백준 2386번 - 도비의 영어 공부\n",
    "import sys\n",
    "# input = sys.stdin.readline\n",
    "\n",
    "while True:\n",
    "    s = input().strip()\n",
    "    if s == '#':\n",
    "        break\n",
    "    print(s[0], s[1:].lower().count(s[0]))"
   ]
  },
  {
   "cell_type": "code",
   "execution_count": null,
   "metadata": {},
   "outputs": [],
   "source": [
    "# 백준 20299번 - 3대 측정\n",
    "import sys\n",
    "# input = sys.stdin.readline\n",
    "\n",
    "n, k, l = map(int, input().strip().split())\n",
    "\n",
    "cnt = 0\n",
    "arr = []\n",
    "for _ in range(n):\n",
    "    a, b, c = map(int, input().strip().split())\n",
    "    if a + b + c >= k and a >= l and b >= l and c >= l:\n",
    "        cnt += 1\n",
    "        arr.append(a)\n",
    "        arr.append(b)\n",
    "        arr.append(c)\n",
    "print(cnt)\n",
    "print(*arr)\n"
   ]
  },
  {
   "cell_type": "code",
   "execution_count": 3,
   "metadata": {},
   "outputs": [
    {
     "name": "stdout",
     "output_type": "stream",
     "text": [
      "7900\n"
     ]
    }
   ],
   "source": [
    "# 백준 16917번 - 양념 반 후라이드 반\n",
    "import sys\n",
    "# input = sys.stdin.readline\n",
    "\n",
    "a, b, c, x, y = map(int, input().strip().split())\n",
    "\n",
    "if a + b <= 2 * c:\n",
    "    print(a * x + b * y)\n",
    "else:\n",
    "    if x > y:\n",
    "        print(2 * c * y + min(2 * c * (x - y), a * (x - y)))\n",
    "    else:\n",
    "        print(2 * c * x + min(2 * c * (y - x), b * (y - x)))"
   ]
  },
  {
   "cell_type": "code",
   "execution_count": null,
   "metadata": {},
   "outputs": [],
   "source": [
    "# 백준 2966번 - 찍기\n",
    "import sys\n",
    "# input = sys.stdin.readline\n",
    "\n",
    "n = int(input().strip())\n",
    "s = input().strip()\n",
    "\n",
    "id_arr = ['Adrian', 'Bruno', 'Goran']\n",
    "arr = [['A', 'B', 'C'], ['B', 'A', 'B', 'C'], ['C', 'C', 'A', 'A', 'B', 'B']]\n",
    "cnt = [0, 0, 0]\n",
    "for i in range(n):\n",
    "    for j in range(3):\n",
    "        if arr[j][i % len(arr[j])] == s[i]:\n",
    "            cnt[j] += 1\n",
    "max_cnt = max(cnt)\n",
    "print(max_cnt)\n",
    "for i in range(3):\n",
    "    if cnt[i] == max_cnt:\n",
    "        print(id_arr[i])"
   ]
  },
  {
   "cell_type": "code",
   "execution_count": null,
   "metadata": {},
   "outputs": [],
   "source": [
    "# 백준 2774번 - 아름다운 수\n",
    "import sys\n",
    "# input = sys.stdin.readline\n",
    "\n",
    "t = int(input().strip())\n",
    "for _ in range(t):\n",
    "    s = input().strip()\n",
    "    print(len(set(s)))"
   ]
  },
  {
   "cell_type": "code",
   "execution_count": 8,
   "metadata": {},
   "outputs": [
    {
     "name": "stdout",
     "output_type": "stream",
     "text": [
      "nice\n",
      "not nice\n"
     ]
    }
   ],
   "source": [
    "# 백준 1871번 - 좋은 자동차 번호판\n",
    "import sys\n",
    "# input = sys.stdin.readline\n",
    "\n",
    "n = int(input().strip())\n",
    "\n",
    "for _ in range(n):\n",
    "    s = input().strip()\n",
    "    a, b = s.split('-')\n",
    "    a = (ord(a[0]) - 65) * 26 ** 2 + (ord(a[1]) - 65) * 26 + (ord(a[2]) - 65)\n",
    "    b = int(b)\n",
    "    if abs(a - b) <= 100:\n",
    "        print('nice')\n",
    "    else:\n",
    "        print('not nice')"
   ]
  },
  {
   "cell_type": "code",
   "execution_count": 5,
   "metadata": {},
   "outputs": [
    {
     "data": {
      "text/plain": [
       "65"
      ]
     },
     "execution_count": 5,
     "metadata": {},
     "output_type": "execute_result"
    }
   ],
   "source": [
    "# 백준 5054번 - 주차의 신\n",
    "import sys\n",
    "# input = sys.stdin.readline\n",
    "\n",
    "t = int(input().strip())\n",
    "\n",
    "for _ in range(t):\n",
    "    n = int(input().strip())\n",
    "    arr = list(map(int, input().strip().split()))\n",
    "    print((max(arr) - min(arr)) * 2)"
   ]
  },
  {
   "cell_type": "code",
   "execution_count": null,
   "metadata": {},
   "outputs": [],
   "source": [
    "# 백준 10173번 - 니모를 찾아서\n",
    "import sys\n",
    "# input = sys.stdin.readline\n",
    "\n",
    "while True:\n",
    "    s = input().strip()\n",
    "    if s == 'EOI':\n",
    "        break\n",
    "    if 'nemo' in s.lower():\n",
    "        print('Found')\n",
    "    else:\n",
    "        print('Missing')"
   ]
  },
  {
   "cell_type": "code",
   "execution_count": null,
   "metadata": {},
   "outputs": [],
   "source": [
    "# 백준 16171번 - 나는 친구가 적다 (Small)\n",
    "import sys\n",
    "# input = sys.stdin.readline\n",
    "\n",
    "s = input().strip()\n",
    "k = input().strip()\n",
    "\n",
    "s = ''.join([i for i in s if not i.isdigit()])\n",
    "if k in s:\n",
    "    print(1)\n",
    "else:\n",
    "    print(0)"
   ]
  },
  {
   "cell_type": "code",
   "execution_count": null,
   "metadata": {},
   "outputs": [],
   "source": [
    "# 백준 18312번 - 시각\n",
    "import sys\n",
    "# input = sys.stdin.readline\n",
    "\n",
    "n, k = map(int, input().strip().split())\n",
    "\n",
    "cnt = 0\n",
    "for i in range(n + 1):\n",
    "    for j in range(60):\n",
    "        for l in range(60):\n",
    "            if str(k) in f'{i:02d}' + f'{j:02d}' + f'{l:02d}':\n",
    "                cnt += 1\n",
    "print(cnt)"
   ]
  },
  {
   "cell_type": "code",
   "execution_count": 53,
   "metadata": {},
   "outputs": [
    {
     "name": "stdout",
     "output_type": "stream",
     "text": [
      "0b1011000\n"
     ]
    },
    {
     "ename": "ValueError",
     "evalue": "Invalid format specifier '0>len(bin(a)[2:])' for object of type 'str'",
     "output_type": "error",
     "traceback": [
      "\u001b[1;31m---------------------------------------------------------------------------\u001b[0m",
      "\u001b[1;31mValueError\u001b[0m                                Traceback (most recent call last)",
      "Cell \u001b[1;32mIn[53], line 9\u001b[0m\n\u001b[0;32m      6\u001b[0m b \u001b[38;5;241m=\u001b[39m \u001b[38;5;28mint\u001b[39m(\u001b[38;5;28minput\u001b[39m()\u001b[38;5;241m.\u001b[39mstrip(), \u001b[38;5;241m2\u001b[39m)\n\u001b[0;32m      8\u001b[0m \u001b[38;5;28mprint\u001b[39m(\u001b[38;5;28mbin\u001b[39m(a))\n\u001b[1;32m----> 9\u001b[0m \u001b[38;5;28mprint\u001b[39m(\u001b[38;5;124mf\u001b[39m\u001b[38;5;124m'\u001b[39m\u001b[38;5;132;01m{\u001b[39;00m\u001b[38;5;28mbin\u001b[39m(a\u001b[38;5;250m \u001b[39m\u001b[38;5;241m&\u001b[39m\u001b[38;5;250m \u001b[39mb)[\u001b[38;5;241m2\u001b[39m:]\u001b[38;5;132;01m:\u001b[39;00m\u001b[38;5;124m0>len(bin(a)[2:])\u001b[39m\u001b[38;5;132;01m}\u001b[39;00m\u001b[38;5;124m'\u001b[39m)\n\u001b[0;32m     10\u001b[0m \u001b[38;5;28mprint\u001b[39m(\u001b[38;5;124mf\u001b[39m\u001b[38;5;124m'\u001b[39m\u001b[38;5;132;01m{\u001b[39;00m\u001b[38;5;28mbin\u001b[39m(a\u001b[38;5;250m \u001b[39m\u001b[38;5;241m|\u001b[39m\u001b[38;5;250m \u001b[39mb)[\u001b[38;5;241m2\u001b[39m:]\u001b[38;5;132;01m}\u001b[39;00m\u001b[38;5;124m'\u001b[39m)\n\u001b[0;32m     11\u001b[0m \u001b[38;5;28mprint\u001b[39m(\u001b[38;5;124mf\u001b[39m\u001b[38;5;124m'\u001b[39m\u001b[38;5;132;01m{\u001b[39;00m\u001b[38;5;28mbin\u001b[39m(a\u001b[38;5;250m \u001b[39m\u001b[38;5;241m^\u001b[39m\u001b[38;5;250m \u001b[39mb)[\u001b[38;5;241m2\u001b[39m:]\u001b[38;5;132;01m}\u001b[39;00m\u001b[38;5;124m'\u001b[39m)\n",
      "\u001b[1;31mValueError\u001b[0m: Invalid format specifier '0>len(bin(a)[2:])' for object of type 'str'"
     ]
    }
   ],
   "source": [
    "# 백준 12813번 - 이진수 연산\n",
    "import sys\n",
    "# input = sys.stdin.readline\n",
    "\n",
    "A = input().strip()\n",
    "B = input().strip()\n",
    "a = int(A, 2)\n",
    "b = int(B, 2)\n",
    "str_a = str(a)\n",
    "str_b = str(b)\n",
    "\n",
    "print(f'{bin(a & b)[2:]}'.zfill(100000))\n",
    "print(f'{bin(a | b)[2:]}'.zfill(100000))\n",
    "print(f'{bin(a ^ b)[2:]}'.zfill(100000))\n",
    "\n",
    "for i in range(len(A)):\n",
    "    if A[i] == '1':\n",
    "        print('0', end='')\n",
    "    else:\n",
    "        print('1', end='')\n",
    "print()\n",
    "\n",
    "for i in range(len(B)):\n",
    "    if B[i] == '1':\n",
    "        print('0', end='')\n",
    "    else:\n",
    "        print('1', end='')"
   ]
  },
  {
   "cell_type": "code",
   "execution_count": null,
   "metadata": {},
   "outputs": [],
   "source": [
    "0001011000\n",
    "0000101111\n",
    "\n",
    "0000001000\n",
    "0001111111\n",
    "0001110111\n",
    "1110100111\n",
    "1111010000"
   ]
  },
  {
   "cell_type": "code",
   "execution_count": 49,
   "metadata": {},
   "outputs": [
    {
     "data": {
      "text/plain": [
       "'0b1011000'"
      ]
     },
     "execution_count": 49,
     "metadata": {},
     "output_type": "execute_result"
    }
   ],
   "source": [
    "bin(int('0001011000', 2))"
   ]
  },
  {
   "cell_type": "code",
   "execution_count": null,
   "metadata": {},
   "outputs": [],
   "source": []
  }
 ],
 "metadata": {
  "kernelspec": {
   "display_name": "Python 3",
   "language": "python",
   "name": "python3"
  },
  "language_info": {
   "codemirror_mode": {
    "name": "ipython",
    "version": 3
   },
   "file_extension": ".py",
   "mimetype": "text/x-python",
   "name": "python",
   "nbconvert_exporter": "python",
   "pygments_lexer": "ipython3",
   "version": "3.11.6"
  }
 },
 "nbformat": 4,
 "nbformat_minor": 2
}
