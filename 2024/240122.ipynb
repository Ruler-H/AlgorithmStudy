{
 "cells": [
  {
   "cell_type": "code",
   "execution_count": 15,
   "metadata": {},
   "outputs": [
    {
     "name": "stdout",
     "output_type": "stream",
     "text": [
      "0.866\n",
      "0.980\n"
     ]
    },
    {
     "ename": "",
     "evalue": "",
     "output_type": "error",
     "traceback": [
      "\u001b[1;31m현재 셀 또는 이전 셀에서 코드를 실행하는 동안 Kernel이 충돌했습니다. 셀의 코드를 검토하여 오류의 가능한 원인을 식별하세요. 자세한 내용을 보려면 <a href='https://aka.ms/vscodeJupyterKernelCrash'> 여기 </a> 를 클릭하세요. 자세한 내용은 Jupyter <a href='command:jupyter.viewOutput'>로그</a>를 참조하세요."
     ]
    }
   ],
   "source": [
    "# 백준 4706번 - 쌍둥이 역설\n",
    "import sys\n",
    "# input = sys.stdin.readline\n",
    "c = 0.99999971460312\n",
    "while True:\n",
    "    a, n = map(float, input().split())\n",
    "    if a == 0 and n == 0:\n",
    "        break\n",
    "    v = c * ((1 - ((n / a) ** 2)) ** 0.5)\n",
    "    print(f'{v:.3f}')\n",
    "# 채점 대기 중"
   ]
  },
  {
   "cell_type": "code",
   "execution_count": 2,
   "metadata": {},
   "outputs": [
    {
     "name": "stdout",
     "output_type": "stream",
     "text": [
      "1\n"
     ]
    }
   ],
   "source": [
    "# 백준 3028번 - 창영마을\n",
    "import sys\n",
    "# input = sys.stdin.readline\n",
    "\n",
    "cups = [1, 0, 0]\n",
    "\n",
    "for i in input():\n",
    "    if i == 'A':\n",
    "        cups[0], cups[1] = cups[1], cups[0]\n",
    "    elif i == 'B':\n",
    "        cups[1], cups[2] = cups[2], cups[1]\n",
    "    else:\n",
    "        cups[0], cups[2] = cups[2], cups[0]\n",
    "\n",
    "print(cups.index(1) + 1)"
   ]
  },
  {
   "cell_type": "code",
   "execution_count": 7,
   "metadata": {},
   "outputs": [
    {
     "name": "stdout",
     "output_type": "stream",
     "text": [
      "1 bottle of beer on the wall, 1 bottle of beer.\n",
      "Take one down and pass it around, no more bottles of beer on the wall.\n",
      "\n",
      "No more bottles of beer on the wall, no more bottles of beer.\n",
      "Go to the store and buy some more, 1 bottles of beer on the wall.\n"
     ]
    }
   ],
   "source": [
    "# 백준 17293번 - 맥주 99병\n",
    "import sys\n",
    "# input = sys.stdin.readline\n",
    "\n",
    "n = int(input().strip())\n",
    "\n",
    "for i in range(n, 0, -1):\n",
    "    if i == 1:\n",
    "        print(f'{i} bottle of beer on the wall, {i} bottle of beer.')\n",
    "        print(f'Take one down and pass it around, no more bottles of beer on the wall.')\n",
    "        print()\n",
    "    elif i == 2:\n",
    "        print(f'{i} bottles of beer on the wall, {i} bottles of beer.')\n",
    "        print(f'Take one down and pass it around, {i - 1} bottle of beer on the wall.')\n",
    "        print()\n",
    "    else:\n",
    "        print(f'{i} bottles of beer on the wall, {i} bottles of beer.')\n",
    "        print(f'Take one down and pass it around, {i - 1} bottles of beer on the wall.')\n",
    "        print()\n",
    "\n",
    "if n == 1:\n",
    "    print(f'No more bottles of beer on the wall, no more bottles of beer.')\n",
    "    print(f'Go to the store and buy some more, {n} bottle of beer on the wall.')\n",
    "else:\n",
    "    print(f'No more bottles of beer on the wall, no more bottles of beer.')\n",
    "    print(f'Go to the store and buy some more, {n} bottles of beer on the wall.')"
   ]
  },
  {
   "cell_type": "code",
   "execution_count": null,
   "metadata": {},
   "outputs": [],
   "source": [
    "# 백준 16172번 - 나는 친구가 적다 (Large)\n",
    "import sys\n",
    "# input = sys.stdin.readline\n",
    "\n",
    "s = input().strip()\n",
    "k = input().strip()\n",
    "\n",
    "s = ''.join([i for i in s if not i.isdigit()])\n",
    "if k in s:\n",
    "    print(1)\n",
    "else:\n",
    "    print(0)"
   ]
  },
  {
   "cell_type": "code",
   "execution_count": null,
   "metadata": {},
   "outputs": [],
   "source": [
    "# 백준 13163번 - 닉네임에 갓 붙이기\n",
    "import sys\n",
    "# input = sys.stdin.readline\n",
    "\n",
    "n = int(input().strip())\n",
    "\n",
    "for _ in range(n):\n",
    "    s = input().strip().split()\n",
    "    s[0] = 'god'\n",
    "    print(''.join(s))"
   ]
  },
  {
   "cell_type": "code",
   "execution_count": null,
   "metadata": {},
   "outputs": [],
   "source": [
    "# 백준 14487번 - 욱제는 효도쟁이야!!\n",
    "import sys\n",
    "# input = sys.stdin.readline\n",
    "\n",
    "n = int(input().strip())\n",
    "li = list(map(int, input().strip().split()))\n",
    "print(sum(li) - max(li))"
   ]
  },
  {
   "cell_type": "code",
   "execution_count": 12,
   "metadata": {},
   "outputs": [
    {
     "name": "stdout",
     "output_type": "stream",
     "text": [
      "Friday\n"
     ]
    }
   ],
   "source": [
    "# 백준 2948번 - 2009년\n",
    "import sys\n",
    "# input = sys.stdin.readline\n",
    "\n",
    "d, m = map(int, input().strip().split())\n",
    "days = ['Monday', 'Tuesday', 'Wednesday', 'Thursday', 'Friday', 'Saturday', 'Sunday']\n",
    "months = [31, 28, 31, 30, 31, 30, 31, 31, 30, 31 ,30, 31]\n",
    "\n",
    "print(days[(sum(months[:m - 1]) + d + 2) % 7])"
   ]
  },
  {
   "cell_type": "code",
   "execution_count": null,
   "metadata": {},
   "outputs": [],
   "source": [
    "# 백준 6502번 - 동혁 피자\n",
    "import sys\n",
    "# input = sys.stdin.readline\n",
    "\n",
    "i = 1\n",
    "\n",
    "while True:\n",
    "    inp_str = input().strip()\n",
    "    if inp_str == '0':\n",
    "        break\n",
    "    r, w, l = map(int, inp_str.split())\n",
    "    if r * 2 >= (w ** 2 + l ** 2) ** 0.5:\n",
    "        print(f'Pizza {i} fits on the table.')\n",
    "    else:\n",
    "        print(f'Pizza {i} does not fit on the table.')\n",
    "    i += 1"
   ]
  },
  {
   "cell_type": "code",
   "execution_count": 16,
   "metadata": {},
   "outputs": [
    {
     "name": "stdout",
     "output_type": "stream",
     "text": [
      "3\n"
     ]
    }
   ],
   "source": [
    "# 백준 16676번 - 근우의 다이어리 꾸미기\n",
    "import sys\n",
    "# input = sys.stdin.readline\n",
    "\n",
    "n = input().strip()\n",
    "\n",
    "for i in range(1, len(n) + 1):\n",
    "    if int(n) < int('1' * i):\n",
    "        print(i - 1)\n",
    "        break"
   ]
  },
  {
   "cell_type": "code",
   "execution_count": null,
   "metadata": {},
   "outputs": [],
   "source": []
  }
 ],
 "metadata": {
  "kernelspec": {
   "display_name": "Python 3",
   "language": "python",
   "name": "python3"
  },
  "language_info": {
   "codemirror_mode": {
    "name": "ipython",
    "version": 3
   },
   "file_extension": ".py",
   "mimetype": "text/x-python",
   "name": "python",
   "nbconvert_exporter": "python",
   "pygments_lexer": "ipython3",
   "version": "3.11.6"
  }
 },
 "nbformat": 4,
 "nbformat_minor": 2
}
