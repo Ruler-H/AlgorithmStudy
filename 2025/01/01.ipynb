{
 "cells": [
  {
   "cell_type": "code",
   "execution_count": 5,
   "metadata": {},
   "outputs": [],
   "source": [
    "# 백준 16120번 - PPAP\n",
    "import sys\n",
    "# input = sys.stdin.readline\n",
    "\n",
    "inp_str = input().strip()"
   ]
  },
  {
   "cell_type": "code",
   "execution_count": null,
   "metadata": {},
   "outputs": [],
   "source": [
    "stack = []\n",
    "\n",
    "for i in inp_str:\n",
    "    if i == 'P':\n",
    "        if len(stack) >= 3 and stack[-3:] == ['P', 'P', 'A']:\n",
    "            stack.pop()\n",
    "            stack.pop()\n",
    "        else:\n",
    "            stack.append(i)\n",
    "    elif i == 'A':\n",
    "        stack.append(i)\n",
    "\n",
    "print(\"PPAP\" if len(stack) == 1 and stack[0] == \"P\" else \"NP\")"
   ]
  },
  {
   "cell_type": "code",
   "execution_count": null,
   "metadata": {},
   "outputs": [],
   "source": []
  }
 ],
 "metadata": {
  "kernelspec": {
   "display_name": "Python 3",
   "language": "python",
   "name": "python3"
  },
  "language_info": {
   "codemirror_mode": {
    "name": "ipython",
    "version": 3
   },
   "file_extension": ".py",
   "mimetype": "text/x-python",
   "name": "python",
   "nbconvert_exporter": "python",
   "pygments_lexer": "ipython3",
   "version": "3.11.8"
  }
 },
 "nbformat": 4,
 "nbformat_minor": 2
}
