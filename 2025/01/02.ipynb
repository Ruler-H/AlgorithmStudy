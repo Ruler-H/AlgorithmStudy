{
 "cells": [
  {
   "cell_type": "code",
   "execution_count": 1,
   "metadata": {},
   "outputs": [],
   "source": [
    "# 백준 2206번 - 벽 부수고 이동하기\n",
    "import sys\n",
    "from collections import deque\n",
    "# input = sys.stdin.readline\n",
    "\n",
    "N, M = map(int, input().split())\n",
    "graph = [list(map(int, input().strip())) for _ in range(N)]"
   ]
  },
  {
   "cell_type": "code",
   "execution_count": null,
   "metadata": {},
   "outputs": [],
   "source": [
    "dx = [0, 0, 1, -1]\n",
    "dy = [1, -1, 0, 0]\n",
    "\n",
    "def bfs():\n",
    "    queue = deque([(0, 0, 1)])  # deque 사용\n",
    "    visited = [[[0] * 2 for _ in range(M)] for _ in range(N)]\n",
    "    visited[0][0][1] = 1\n",
    "\n",
    "    while queue:\n",
    "        x, y, wall = queue.popleft()  # popleft() 사용 - O(1) 시간복잡도\n",
    "\n",
    "        if x == N - 1 and y == M - 1:\n",
    "            return visited[x][y][wall]\n",
    "\n",
    "        for i in range(4):\n",
    "            nx = x + dx[i]\n",
    "            ny = y + dy[i]\n",
    "\n",
    "            if 0 <= nx < N and 0 <= ny < M:\n",
    "                if graph[nx][ny] == 1 and wall == 1:\n",
    "                    visited[nx][ny][0] = visited[x][y][1] + 1\n",
    "                    queue.append((nx, ny, 0))\n",
    "                elif graph[nx][ny] == 0 and visited[nx][ny][wall] == 0:\n",
    "                    visited[nx][ny][wall] = visited[x][y][wall] + 1\n",
    "                    queue.append((nx, ny, wall))\n",
    "    return -1\n",
    "\n",
    "print(bfs())"
   ]
  },
  {
   "cell_type": "code",
   "execution_count": null,
   "metadata": {},
   "outputs": [],
   "source": []
  }
 ],
 "metadata": {
  "kernelspec": {
   "display_name": "Python 3",
   "language": "python",
   "name": "python3"
  },
  "language_info": {
   "codemirror_mode": {
    "name": "ipython",
    "version": 3
   },
   "file_extension": ".py",
   "mimetype": "text/x-python",
   "name": "python",
   "nbconvert_exporter": "python",
   "pygments_lexer": "ipython3",
   "version": "3.11.8"
  }
 },
 "nbformat": 4,
 "nbformat_minor": 2
}
