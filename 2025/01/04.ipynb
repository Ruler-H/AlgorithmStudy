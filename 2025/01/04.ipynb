{
 "cells": [
  {
   "cell_type": "code",
   "execution_count": 5,
   "metadata": {},
   "outputs": [],
   "source": [
    "# 백준 16236번 - 아기 상어\n",
    "import sys\n",
    "from collections import deque\n",
    "# input = sys.stdin.readline\n",
    "\n",
    "N = int(input())\n",
    "graph = []\n",
    "for _ in range(N):\n",
    "    graph.append(list(map(int, input().split())))"
   ]
  },
  {
   "cell_type": "code",
   "execution_count": 33,
   "metadata": {},
   "outputs": [],
   "source": [
    "# 백준 16236번 - 아기 상어\n",
    "import sys\n",
    "from collections import deque\n",
    "# input = sys.stdin.readline\n",
    "\n",
    "N = 6\n",
    "# 5 4 3 2 3 4\n",
    "# 4 3 2 3 4 5\n",
    "# 3 2 9 5 6 6\n",
    "# 2 1 2 3 4 5\n",
    "# 3 2 1 6 5 4\n",
    "# 6 6 6 6 6 6\n",
    "graph = [[5, 4, 3, 2, 3, 4], [4, 3, 2, 3, 4, 5], [3, 2, 9, 5, 6, 6], [2, 1, 2, 3, 4, 5], [3, 2, 1, 6, 5, 4], [6, 6, 6, 6, 6, 6]]"
   ]
  },
  {
   "cell_type": "code",
   "execution_count": null,
   "metadata": {},
   "outputs": [],
   "source": [
    "# 먹을 수 있는 물고기가 1마리보다 많다면, 거리가 가장 가까운 물고기를 먹으러 간다.\n",
    "# 거리는 아기 상어가 있는 칸에서 물고기가 있는 칸으로 이동할 때, 지나야하는 칸의 개수의 최솟값이다.\n",
    "# 거리가 가까운 물고기가 많다면, 가장 위에 있는 물고기, 그러한 물고기가 여러마리라면, 가장 왼쪽에 있는 물고기를 먹는다.\n",
    "dxy = [(-1, 0), (0, -1), (0, 1), (1, 0)]\n",
    "size = 2\n",
    "time = 0\n",
    "eat = 0\n",
    "shark = (0, 0)\n",
    "for i in range(N):\n",
    "    for j in range(N):\n",
    "        if graph[i][j] == 9:\n",
    "            shark = (i, j)\n",
    "            graph[i][j] = 0\n",
    "            break\n",
    "\n",
    "def bfs():\n",
    "    visited = [[False] * N for _ in range(N)]\n",
    "    visited[shark[0]][shark[1]] = True\n",
    "    q = deque([(shark[0], shark[1], 0)])\n",
    "    fish = []\n",
    "    while q:\n",
    "        x, y, dist = q.popleft()\n",
    "        for dx, dy in dxy:\n",
    "            nx, ny = x + dx, y + dy\n",
    "            if 0 <= nx < N and 0 <= ny < N and not visited[nx][ny]:\n",
    "                if graph[nx][ny] == 0 or graph[nx][ny] == size:\n",
    "                    visited[nx][ny] = True\n",
    "                    q.append((nx, ny, dist + 1))\n",
    "                elif graph[nx][ny] < size:\n",
    "                    fish.append((nx, ny, dist + 1))\n",
    "                    visited[nx][ny] = True\n",
    "    return fish\n",
    "\n",
    "while True:\n",
    "    fish = bfs()\n",
    "    if not fish:\n",
    "        break\n",
    "    fish.sort(key=lambda x: (x[2], x[0], x[1]))\n",
    "    x, y, dist = fish[0]\n",
    "    time += dist\n",
    "    eat += 1\n",
    "    if eat == size:\n",
    "        size += 1\n",
    "        eat = 0\n",
    "    shark = (x, y)\n",
    "    graph[x][y] = 0\n",
    "\n",
    "print(time)"
   ]
  },
  {
   "cell_type": "code",
   "execution_count": null,
   "metadata": {},
   "outputs": [],
   "source": []
  }
 ],
 "metadata": {
  "kernelspec": {
   "display_name": "Python 3",
   "language": "python",
   "name": "python3"
  },
  "language_info": {
   "codemirror_mode": {
    "name": "ipython",
    "version": 3
   },
   "file_extension": ".py",
   "mimetype": "text/x-python",
   "name": "python",
   "nbconvert_exporter": "python",
   "pygments_lexer": "ipython3",
   "version": "3.11.8"
  }
 },
 "nbformat": 4,
 "nbformat_minor": 2
}
