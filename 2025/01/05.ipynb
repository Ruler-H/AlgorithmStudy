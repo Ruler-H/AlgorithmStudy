{
 "cells": [
  {
   "cell_type": "code",
   "execution_count": null,
   "metadata": {},
   "outputs": [],
   "source": [
    "# 백준 1238번 - 파티\n",
    "import sys\n",
    "import heapq\n",
    "# input = sys.stdin.readline\n",
    "\n",
    "N, M, X = map(int, input().split())\n",
    "# 정방향 그래프\n",
    "graph = [[] for _ in range(N)]\n",
    "# 역방향 그래프\n",
    "reverse_graph = [[] for _ in range(N)]\n",
    "\n",
    "for _ in range(M):\n",
    "    a, b, t = map(int, input().split())\n",
    "    graph[a-1].append((b-1, t))\n",
    "    reverse_graph[b-1].append((a-1, t))"
   ]
  },
  {
   "cell_type": "code",
   "execution_count": null,
   "metadata": {},
   "outputs": [],
   "source": [
    "def dijkstra(start, graph):\n",
    "    dist = [float('inf')] * N\n",
    "    dist[start] = 0\n",
    "    heap = [(0, start)]\n",
    "    \n",
    "    while heap:\n",
    "        cost, now = heapq.heappop(heap)\n",
    "        \n",
    "        if dist[now] < cost:\n",
    "            continue\n",
    "            \n",
    "        for next_node, next_cost in graph[now]:\n",
    "            total_cost = cost + next_cost\n",
    "            if total_cost < dist[next_node]:\n",
    "                dist[next_node] = total_cost\n",
    "                heapq.heappush(heap, (total_cost, next_node))\n",
    "    \n",
    "    return dist\n",
    "\n",
    "\n",
    "\n",
    "# X에서 모든 정점으로의 최단거리\n",
    "to_home = dijkstra(X-1, graph)\n",
    "# 모든 정점에서 X로의 최단거리\n",
    "to_party = dijkstra(X-1, reverse_graph)\n",
    "\n",
    "# 왕복 시간의 최대값 계산\n",
    "result = 0\n",
    "for i in range(N):\n",
    "    result = max(result, to_home[i] + to_party[i])\n",
    "\n",
    "print(result)"
   ]
  },
  {
   "cell_type": "code",
   "execution_count": null,
   "metadata": {},
   "outputs": [],
   "source": []
  }
 ],
 "metadata": {
  "kernelspec": {
   "display_name": "base",
   "language": "python",
   "name": "python3"
  },
  "language_info": {
   "codemirror_mode": {
    "name": "ipython",
    "version": 3
   },
   "file_extension": ".py",
   "mimetype": "text/x-python",
   "name": "python",
   "nbconvert_exporter": "python",
   "pygments_lexer": "ipython3",
   "version": "3.12.7"
  }
 },
 "nbformat": 4,
 "nbformat_minor": 2
}
