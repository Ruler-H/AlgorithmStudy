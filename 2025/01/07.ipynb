{
 "cells": [
  {
   "cell_type": "code",
   "execution_count": 1,
   "metadata": {},
   "outputs": [],
   "source": [
    "# 백준 15683번 - 감시\n",
    "import sys\n",
    "# input = sys.stdin.readline\n",
    "\n",
    "N, M = map(int, input().split())\n",
    "office = [list(map(int, input().split())) for _ in range(N)]"
   ]
  },
  {
   "cell_type": "code",
   "execution_count": 1,
   "metadata": {},
   "outputs": [],
   "source": [
    "# 백준 15683번 - 감시\n",
    "import sys\n",
    "# input = sys.stdin.readline\n",
    "\n",
    "N, M = 4, 6\n",
    "# 0 0 0 0 0 0\n",
    "# 0 0 0 0 0 0\n",
    "# 0 0 1 0 6 0\n",
    "# 0 0 0 0 0 0\n",
    "office = [\n",
    "    [0, 0, 0, 0, 0, 0],\n",
    "    [0, 0, 0, 0, 0, 0],\n",
    "    [0, 0, 1, 0, 6, 0],\n",
    "    [0, 0, 0, 0, 0, 0]\n",
    "]"
   ]
  },
  {
   "cell_type": "code",
   "execution_count": null,
   "metadata": {},
   "outputs": [
    {
     "ename": "TypeError",
     "evalue": "'int' object is not callable",
     "output_type": "error",
     "traceback": [
      "\u001b[1;31m---------------------------------------------------------------------------\u001b[0m",
      "\u001b[1;31mTypeError\u001b[0m                                 Traceback (most recent call last)",
      "Cell \u001b[1;32mIn[4], line 67\u001b[0m\n\u001b[0;32m     64\u001b[0m             cctv_list\u001b[38;5;241m.\u001b[39mappend((i, j, office[i][j]))\n\u001b[0;32m     66\u001b[0m result \u001b[38;5;241m=\u001b[39m \u001b[38;5;241m64\u001b[39m\n\u001b[1;32m---> 67\u001b[0m dfs(office, \u001b[38;5;241m0\u001b[39m)\n\u001b[0;32m     68\u001b[0m \u001b[38;5;28mprint\u001b[39m(result)\n",
      "Cell \u001b[1;32mIn[4], line 48\u001b[0m, in \u001b[0;36mdfs\u001b[1;34m(office, cctv)\u001b[0m\n\u001b[0;32m     46\u001b[0m \u001b[38;5;28;01mfor\u001b[39;00m direction \u001b[38;5;129;01min\u001b[39;00m cctv_direction[cctv_num]:\n\u001b[0;32m     47\u001b[0m     temp \u001b[38;5;241m=\u001b[39m [row[:] \u001b[38;5;28;01mfor\u001b[39;00m row \u001b[38;5;129;01min\u001b[39;00m office]\n\u001b[1;32m---> 48\u001b[0m     cctv(temp, x, y, direction)\n\u001b[0;32m     49\u001b[0m     dfs(temp, cctv\u001b[38;5;241m+\u001b[39m\u001b[38;5;241m1\u001b[39m)\n",
      "\u001b[1;31mTypeError\u001b[0m: 'int' object is not callable"
     ]
    }
   ],
   "source": [
    "def check(office):\n",
    "    for i in range(N):\n",
    "        for j in range(M):\n",
    "            if office[i][j] == 0:\n",
    "                return False\n",
    "    return True\n",
    "\n",
    "def cctv(office, x, y, direction):\n",
    "    for d in direction:\n",
    "        if d == 0:\n",
    "            for i in range(y, M):\n",
    "                if office[x][i] == 6:\n",
    "                    break\n",
    "                if office[x][i] == 0:\n",
    "                    office[x][i] = \"#\"\n",
    "        if d == 1:\n",
    "            for i in range(x, N):\n",
    "                if office[i][y] == 6:\n",
    "                    break\n",
    "                if office[i][y] == 0:\n",
    "                    office[i][y] = \"#\"\n",
    "        if d == 2:\n",
    "            for i in range(y, -1, -1):\n",
    "                if office[x][i] == 6:\n",
    "                    break\n",
    "                if office[x][i] == 0:\n",
    "                    office[x][i] = \"#\"\n",
    "        if d == 3:\n",
    "            for i in range(x, -1, -1):\n",
    "                if office[i][y] == 6:\n",
    "                    break\n",
    "                if office[i][y] == 0:\n",
    "                    office[i][y] = \"#\"\n",
    "\n",
    "def dfs(office, cctv_cnt):\n",
    "    global result\n",
    "    if cctv_cnt == len(cctv_list):\n",
    "        count = 0\n",
    "        for i in range(N):\n",
    "            for j in range(M):\n",
    "                if office[i][j] == 0:\n",
    "                    count += 1\n",
    "        result = min(result, count)\n",
    "        return\n",
    "    x, y, cctv_num = cctv_list[cctv_cnt]\n",
    "    for direction in cctv_direction[cctv_num]:\n",
    "        temp = [row[:] for row in office]\n",
    "        cctv(temp, x, y, direction)\n",
    "        dfs(temp, cctv+1)\n",
    "\n",
    "cctv_list = []\n",
    "cctv_direction = [\n",
    "    [],\n",
    "    [[0], [1], [2], [3]],\n",
    "    [[0, 2], [1, 3]],\n",
    "    [[0, 1], [1, 2], [2, 3], [3, 0]],\n",
    "    [[0, 1, 2], [1, 2, 3], [2, 3, 0], [3, 0, 1]],\n",
    "    [[0, 1, 2, 3]]\n",
    "]\n",
    "\n",
    "for i in range(N):\n",
    "    for j in range(M):\n",
    "        if 1 <= office[i][j] <= 5:\n",
    "            cctv_list.append((i, j, office[i][j]))\n",
    "\n",
    "result = 64\n",
    "dfs(office, 0)\n",
    "print(result)"
   ]
  },
  {
   "cell_type": "code",
   "execution_count": null,
   "metadata": {},
   "outputs": [],
   "source": []
  }
 ],
 "metadata": {
  "kernelspec": {
   "display_name": "base",
   "language": "python",
   "name": "python3"
  },
  "language_info": {
   "codemirror_mode": {
    "name": "ipython",
    "version": 3
   },
   "file_extension": ".py",
   "mimetype": "text/x-python",
   "name": "python",
   "nbconvert_exporter": "python",
   "pygments_lexer": "ipython3",
   "version": "3.12.7"
  }
 },
 "nbformat": 4,
 "nbformat_minor": 2
}
