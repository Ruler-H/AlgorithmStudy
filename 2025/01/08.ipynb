{
 "cells": [
  {
   "cell_type": "code",
   "execution_count": 2,
   "metadata": {},
   "outputs": [],
   "source": [
    "# 백준 1005번 - ACM Craft\n",
    "import sys\n",
    "# input = sys.stdin.readline\n",
    "\n",
    "T = int(input())"
   ]
  },
  {
   "cell_type": "code",
   "execution_count": null,
   "metadata": {},
   "outputs": [],
   "source": [
    "for _ in range(T):\n",
    "    N, K = map(int, input().split())\n",
    "    time = [0] + list(map(int, input().split()))\n",
    "    graph = [[] for _ in range(N+1)]\n",
    "    indegree = [0] * (N+1)\n",
    "    dp = [0] * (N+1)\n",
    "\n",
    "    for _ in range(K):\n",
    "        a, b = map(int, input().split())\n",
    "        graph[a].append(b)\n",
    "        indegree[b] += 1\n",
    "\n",
    "    W = int(input())\n",
    "\n",
    "    def topology_sort():\n",
    "        q = []\n",
    "        for i in range(1, N+1):\n",
    "            if indegree[i] == 0:\n",
    "                q.append(i)\n",
    "                dp[i] = time[i]\n",
    "\n",
    "        while q:\n",
    "            now = q.pop(0)\n",
    "\n",
    "            for i in graph[now]:\n",
    "                indegree[i] -= 1\n",
    "                dp[i] = max(dp[i], dp[now] + time[i])\n",
    "                if indegree[i] == 0:\n",
    "                    q.append(i)\n",
    "\n",
    "        print(dp[W])\n",
    "\n",
    "    topology_sort()"
   ]
  },
  {
   "cell_type": "code",
   "execution_count": null,
   "metadata": {},
   "outputs": [],
   "source": []
  }
 ],
 "metadata": {
  "kernelspec": {
   "display_name": "base",
   "language": "python",
   "name": "python3"
  },
  "language_info": {
   "codemirror_mode": {
    "name": "ipython",
    "version": 3
   },
   "file_extension": ".py",
   "mimetype": "text/x-python",
   "name": "python",
   "nbconvert_exporter": "python",
   "pygments_lexer": "ipython3",
   "version": "3.12.7"
  }
 },
 "nbformat": 4,
 "nbformat_minor": 2
}
