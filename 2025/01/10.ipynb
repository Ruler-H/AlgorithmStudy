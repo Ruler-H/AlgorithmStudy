{
 "cells": [
  {
   "cell_type": "code",
   "execution_count": 3,
   "metadata": {},
   "outputs": [],
   "source": [
    "# 백준 1644번 - 소수의 연속합\n",
    "import sys\n",
    "# input = sys.stdin.readline\n",
    "\n",
    "N = int(input())"
   ]
  },
  {
   "cell_type": "code",
   "execution_count": null,
   "metadata": {},
   "outputs": [],
   "source": [
    "# 소수 구하기\n",
    "def get_prime_list(n):\n",
    "    prime = [True] * (n+1)\n",
    "    prime[0], prime[1] = False, False\n",
    "    for i in range(2, int(n**0.5)+1):\n",
    "        if prime[i]:\n",
    "            for j in range(i+i, n+1, i):\n",
    "                prime[j] = False\n",
    "    return [i for i in range(n+1) if prime[i]]\n",
    "\n",
    "prime_list = get_prime_list(N)\n",
    "count = 0\n",
    "left, right = 0, 0\n",
    "prime_sum = 0\n",
    "\n",
    "while True:\n",
    "    if prime_sum >= N:\n",
    "        prime_sum -= prime_list[left]\n",
    "        left += 1\n",
    "    elif right == len(prime_list):\n",
    "        break\n",
    "    else:\n",
    "        prime_sum += prime_list[right]\n",
    "        right += 1\n",
    "    if prime_sum == N:\n",
    "        count += 1\n",
    "\n",
    "print(count)"
   ]
  },
  {
   "cell_type": "code",
   "execution_count": null,
   "metadata": {},
   "outputs": [],
   "source": []
  }
 ],
 "metadata": {
  "kernelspec": {
   "display_name": "base",
   "language": "python",
   "name": "python3"
  },
  "language_info": {
   "codemirror_mode": {
    "name": "ipython",
    "version": 3
   },
   "file_extension": ".py",
   "mimetype": "text/x-python",
   "name": "python",
   "nbconvert_exporter": "python",
   "pygments_lexer": "ipython3",
   "version": "3.12.7"
  }
 },
 "nbformat": 4,
 "nbformat_minor": 2
}
