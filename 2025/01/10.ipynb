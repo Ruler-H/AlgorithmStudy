{
 "cells": [
  {
   "cell_type": "code",
   "execution_count": 3,
   "metadata": {},
   "outputs": [],
   "source": [
    "# 백준 14890번 - 경사로\n",
    "import sys\n",
    "# input = sys.stdin.readline\n",
    "\n",
    "N, L = map(int, input().split())\n",
    "board = [list(map(int, input().split())) for _ in range(N)]"
   ]
  },
  {
   "cell_type": "code",
   "execution_count": null,
   "metadata": {},
   "outputs": [],
   "source": [
    "def check(line):\n",
    "    visited = [False] * N\n",
    "    for i in range(N-1):\n",
    "        if line[i] == line[i+1]:\n",
    "            continue\n",
    "        if abs(line[i] - line[i+1]) > 1:\n",
    "            return False\n",
    "        if line[i] > line[i+1]:\n",
    "            temp = line[i+1]\n",
    "            for j in range(1, L+1):\n",
    "                if i+j >= N or visited[i+j] or line[i+j] != temp:\n",
    "                    return False\n",
    "                visited[i+j] = True\n",
    "        else:\n",
    "            temp = line[i]\n",
    "            for j in range(L):\n",
    "                if i-j < 0 or visited[i-j] or line[i-j] != temp:\n",
    "                    return False\n",
    "                visited[i-j] = True\n",
    "    return True\n",
    "\n",
    "result = 0\n",
    "for i in range(N):\n",
    "    if check(board[i]):\n",
    "        result += 1\n",
    "    if check([board[j][i] for j in range(N)]):\n",
    "        result += 1\n",
    "\n",
    "print(result)"
   ]
  },
  {
   "cell_type": "code",
   "execution_count": null,
   "metadata": {},
   "outputs": [],
   "source": []
  }
 ],
 "metadata": {
  "kernelspec": {
   "display_name": "base",
   "language": "python",
   "name": "python3"
  },
  "language_info": {
   "codemirror_mode": {
    "name": "ipython",
    "version": 3
   },
   "file_extension": ".py",
   "mimetype": "text/x-python",
   "name": "python",
   "nbconvert_exporter": "python",
   "pygments_lexer": "ipython3",
   "version": "3.12.7"
  }
 },
 "nbformat": 4,
 "nbformat_minor": 2
}
