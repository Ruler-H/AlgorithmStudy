{
 "cells": [
  {
   "cell_type": "code",
   "execution_count": null,
   "metadata": {},
   "outputs": [],
   "source": [
    "# 백준 9466번 - 텀 프로젝트\n",
    "import sys\n",
    "# input = sys.stdin.readline\n",
    "sys.setrecursionlimit(10**6)\n",
    "\n",
    "T = int(input())"
   ]
  },
  {
   "cell_type": "code",
   "execution_count": null,
   "metadata": {},
   "outputs": [],
   "source": [
    "def dfs(start, current, visited, done):\n",
    "    visited[current] = True\n",
    "    done.append(current)\n",
    "    next_student = students[current]\n",
    "    if visited[next_student]:\n",
    "        if next_student in done:\n",
    "            return done[done.index(next_student):]\n",
    "        else:\n",
    "            return []\n",
    "    else:\n",
    "        return dfs(start, next_student, visited, done)\n",
    "    \n",
    "for _ in range(T):\n",
    "    n = int(input())\n",
    "    students = [0] + list(map(int, input().split()))\n",
    "    visited = [False] * (n+1)\n",
    "    done = []\n",
    "    result = []\n",
    "    for i in range(1, n+1):\n",
    "        if not visited[i]:\n",
    "            result += dfs(i, i, visited, [])\n",
    "    print(n - len(result))"
   ]
  },
  {
   "cell_type": "code",
   "execution_count": null,
   "metadata": {},
   "outputs": [],
   "source": []
  }
 ],
 "metadata": {
  "kernelspec": {
   "display_name": "base",
   "language": "python",
   "name": "python3"
  },
  "language_info": {
   "codemirror_mode": {
    "name": "ipython",
    "version": 3
   },
   "file_extension": ".py",
   "mimetype": "text/x-python",
   "name": "python",
   "nbconvert_exporter": "python",
   "pygments_lexer": "ipython3",
   "version": "3.12.7"
  }
 },
 "nbformat": 4,
 "nbformat_minor": 2
}
