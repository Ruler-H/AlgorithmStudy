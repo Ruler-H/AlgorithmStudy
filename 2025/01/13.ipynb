{
 "cells": [
  {
   "cell_type": "code",
   "execution_count": 1,
   "metadata": {},
   "outputs": [],
   "source": [
    "# 백준 10986번 - 나머지 합\n",
    "import sys\n",
    "# input = sys.stdin.readline\n",
    "sys.setrecursionlimit(10**6)\n",
    "\n",
    "n, m = map(int, input().split())\n",
    "arr = list(map(int, input().split()))"
   ]
  },
  {
   "cell_type": "code",
   "execution_count": null,
   "metadata": {},
   "outputs": [],
   "source": [
    "prefix_sum = [0] * (n+1)\n",
    "for i in range(1, n+1):\n",
    "    prefix_sum[i] = prefix_sum[i-1] + arr[i-1]\n",
    "\n",
    "count = [0] * m\n",
    "for i in range(n+1):\n",
    "    count[prefix_sum[i] % m] += 1\n",
    "\n",
    "result = 0\n",
    "for i in count:\n",
    "    result += i * (i-1) // 2\n",
    "\n",
    "print(result)"
   ]
  },
  {
   "cell_type": "code",
   "execution_count": null,
   "metadata": {},
   "outputs": [],
   "source": []
  }
 ],
 "metadata": {
  "kernelspec": {
   "display_name": "base",
   "language": "python",
   "name": "python3"
  },
  "language_info": {
   "codemirror_mode": {
    "name": "ipython",
    "version": 3
   },
   "file_extension": ".py",
   "mimetype": "text/x-python",
   "name": "python",
   "nbconvert_exporter": "python",
   "pygments_lexer": "ipython3",
   "version": "3.12.7"
  }
 },
 "nbformat": 4,
 "nbformat_minor": 2
}
