{
 "cells": [
  {
   "cell_type": "code",
   "execution_count": 1,
   "metadata": {},
   "outputs": [],
   "source": [
    "# 백준 11066번 - 파일 합치기\n",
    "import sys\n",
    "# input = sys.stdin.readline\n",
    "sys.setrecursionlimit(10**6)\n",
    "\n",
    "T = int(input())"
   ]
  },
  {
   "cell_type": "code",
   "execution_count": null,
   "metadata": {},
   "outputs": [],
   "source": [
    "for _ in range(T):\n",
    "    K = int(input())\n",
    "    files = list(map(int, input().split()))\n",
    "    dp = [[0] * K for _ in range(K)]\n",
    "    knuth = [[0] * K for _ in range(K)]  # Knuth's optimization을 위한 배열\n",
    "    file_sum = [0] * (K+1)\n",
    "    \n",
    "    # 누적 합 계산\n",
    "    for i in range(1, K+1):\n",
    "        file_sum[i] = file_sum[i-1] + files[i-1]\n",
    "    \n",
    "    # 초기화: 연속된 두 파일의 최적 분할점 저장\n",
    "    for i in range(K-1):\n",
    "        knuth[i][i+1] = i\n",
    "        dp[i][i+1] = files[i] + files[i+1]\n",
    "    \n",
    "    # 길이가 3 이상인 구간에 대해 계산\n",
    "    for length in range(2, K):\n",
    "        for start in range(K - length):\n",
    "            end = start + length\n",
    "            \n",
    "            # Knuth's optimization\n",
    "            # 이전 구간의 최적 분할점을 이용하여 현재 구간의 탐색 범위를 제한\n",
    "            left = knuth[start][end-1]\n",
    "            right = knuth[start+1][end]\n",
    "            \n",
    "            dp[start][end] = float('inf')\n",
    "            for k in range(left, right + 1):\n",
    "                current = dp[start][k] + dp[k+1][end] + file_sum[end+1] - file_sum[start]\n",
    "                if current < dp[start][end]:\n",
    "                    dp[start][end] = current\n",
    "                    knuth[start][end] = k\n",
    "    \n",
    "    print(dp[0][K-1])"
   ]
  },
  {
   "cell_type": "code",
   "execution_count": null,
   "metadata": {},
   "outputs": [],
   "source": []
  }
 ],
 "metadata": {
  "kernelspec": {
   "display_name": "base",
   "language": "python",
   "name": "python3"
  },
  "language_info": {
   "codemirror_mode": {
    "name": "ipython",
    "version": 3
   },
   "file_extension": ".py",
   "mimetype": "text/x-python",
   "name": "python",
   "nbconvert_exporter": "python",
   "pygments_lexer": "ipython3",
   "version": "3.12.7"
  }
 },
 "nbformat": 4,
 "nbformat_minor": 2
}
