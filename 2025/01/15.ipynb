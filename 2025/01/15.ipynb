{
 "cells": [
  {
   "cell_type": "code",
   "execution_count": 1,
   "metadata": {},
   "outputs": [],
   "source": [
    "# 백준 2146번 - 다리 만들기\n",
    "import sys\n",
    "# input = sys.stdin.readline\n",
    "from collections import deque\n",
    "sys.setrecursionlimit(10**6)\n",
    "\n",
    "N = int(input())\n",
    "graph = [list(map(int, input().split())) for _ in range(N)]"
   ]
  },
  {
   "cell_type": "code",
   "execution_count": null,
   "metadata": {},
   "outputs": [],
   "source": [
    "dx = [1, -1, 0, 0]\n",
    "dy = [0, 0, 1, -1]\n",
    "\n",
    "def bfs(x, y, cnt):\n",
    "    q = deque()\n",
    "    q.append((x, y))\n",
    "    visited[x][y] = True\n",
    "    graph[x][y] = cnt\n",
    "\n",
    "    while q:\n",
    "        x, y = q.popleft()\n",
    "\n",
    "        for i in range(4):\n",
    "            nx = x + dx[i]\n",
    "            ny = y + dy[i]\n",
    "\n",
    "            if 0 <= nx < N and 0 <= ny < N:\n",
    "                if not visited[nx][ny] and graph[nx][ny] == 1:\n",
    "                    visited[nx][ny] = True\n",
    "                    graph[nx][ny] = cnt\n",
    "                    q.append((nx, ny))\n",
    "\n",
    "def bfs2(cnt):\n",
    "    q = deque()\n",
    "    for i in range(N):\n",
    "        for j in range(N):\n",
    "            if graph[i][j] == cnt:\n",
    "                q.append((i, j))\n",
    "                visited2[i][j] = True\n",
    "\n",
    "    while q:\n",
    "        x, y = q.popleft()\n",
    "\n",
    "        for i in range(4):\n",
    "            nx = x + dx[i]\n",
    "            ny = y + dy[i]\n",
    "\n",
    "            if 0 <= nx < N and 0 <= ny < N:\n",
    "                if not visited2[nx][ny]:\n",
    "                    if graph[nx][ny] == 0:\n",
    "                        visited2[nx][ny] = True\n",
    "                        distance[nx][ny] = distance[x][y] + 1\n",
    "                        q.append((nx, ny))\n",
    "                    elif graph[nx][ny] != cnt:\n",
    "                        return distance[x][y]\n",
    "                    \n",
    "cnt = 1\n",
    "visited = [[False] * N for _ in range(N)]\n",
    "for i in range(N):\n",
    "    for j in range(N):\n",
    "        if not visited[i][j] and graph[i][j] == 1:\n",
    "            bfs(i, j, cnt)\n",
    "            cnt += 1\n",
    "\n",
    "result = sys.maxsize\n",
    "for i in range(1, cnt):\n",
    "    visited2 = [[False] * N for _ in range(N)]\n",
    "    distance = [[0] * N for _ in range(N)]\n",
    "    result = min(result, bfs2(i))\n",
    "\n",
    "print(result)"
   ]
  },
  {
   "cell_type": "code",
   "execution_count": null,
   "metadata": {},
   "outputs": [],
   "source": []
  }
 ],
 "metadata": {
  "kernelspec": {
   "display_name": "base",
   "language": "python",
   "name": "python3"
  },
  "language_info": {
   "codemirror_mode": {
    "name": "ipython",
    "version": 3
   },
   "file_extension": ".py",
   "mimetype": "text/x-python",
   "name": "python",
   "nbconvert_exporter": "python",
   "pygments_lexer": "ipython3",
   "version": "3.12.7"
  }
 },
 "nbformat": 4,
 "nbformat_minor": 2
}
