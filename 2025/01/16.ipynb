{
 "cells": [
  {
   "cell_type": "code",
   "execution_count": 1,
   "metadata": {},
   "outputs": [],
   "source": [
    "# 백준 2638번 - 치즈\n",
    "import sys\n",
    "# input = sys.stdin.readline\n",
    "from collections import deque\n",
    "sys.setrecursionlimit(10**6)\n",
    "\n",
    "N, M = map(int, input().split())\n",
    "cheese = [list(map(int, input().split())) for _ in range(N)]"
   ]
  },
  {
   "cell_type": "code",
   "execution_count": 1,
   "metadata": {},
   "outputs": [],
   "source": [
    "# 백준 2638번 - 치즈\n",
    "import sys\n",
    "# input = sys.stdin.readline\n",
    "from collections import deque\n",
    "sys.setrecursionlimit(10**6)\n",
    "\n",
    "N, M = 8, 9\n",
    "# 0 0 0 0 0 0 0 0 0\n",
    "# 0 0 0 1 1 0 0 0 0\n",
    "# 0 0 0 1 1 0 1 1 0\n",
    "# 0 0 1 1 1 1 1 1 0\n",
    "# 0 0 1 1 1 1 1 0 0\n",
    "# 0 0 1 1 0 1 1 0 0\n",
    "# 0 0 0 0 0 0 0 0 0\n",
    "# 0 0 0 0 0 0 0 0 0\n",
    "cheese = [\n",
    "    [0, 0, 0, 0, 0, 0, 0, 0, 0],\n",
    "    [0, 0, 0, 1, 1, 0, 0, 0, 0],\n",
    "    [0, 0, 0, 1, 1, 0, 1, 1, 0],\n",
    "    [0, 0, 1, 1, 1, 1, 1, 1, 0],\n",
    "    [0, 0, 1, 1, 1, 1, 1, 0, 0],\n",
    "    [0, 0, 1, 1, 0, 1, 1, 0, 0],\n",
    "    [0, 0, 0, 0, 0, 0, 0, 0, 0],\n",
    "    [0, 0, 0, 0, 0, 0, 0, 0, 0]\n",
    "]"
   ]
  },
  {
   "cell_type": "code",
   "execution_count": null,
   "metadata": {},
   "outputs": [],
   "source": [
    "def bfs():\n",
    "    queue = deque()\n",
    "    queue.append((0, 0))\n",
    "    visited = [[0] * M for _ in range(N)]\n",
    "    visited[0][0] = 1\n",
    "    while queue:\n",
    "        x, y = queue.popleft()\n",
    "        for dx, dy in [(0, 1), (0, -1), (1, 0), (-1, 0)]:\n",
    "            nx, ny = x + dx, y + dy\n",
    "            if 0 <= nx < N and 0 <= ny < M and not visited[nx][ny]:\n",
    "                if cheese[nx][ny] == 0:\n",
    "                    visited[nx][ny] = 1\n",
    "                    queue.append((nx, ny))\n",
    "                else:\n",
    "                    cheese[nx][ny] += 1\n",
    "\n",
    "def melt():\n",
    "    for i in range(N):\n",
    "        for j in range(M):\n",
    "            if cheese[i][j] >= 3:\n",
    "                cheese[i][j] = 0\n",
    "            elif cheese[i][j] == 2:\n",
    "                cheese[i][j] = 1\n",
    "\n",
    "def check():\n",
    "    for i in range(N):\n",
    "        for j in range(M):\n",
    "            if cheese[i][j] == 1:\n",
    "                return True\n",
    "    return False\n",
    "\n",
    "time = 0\n",
    "while True:\n",
    "    bfs()\n",
    "    melt()\n",
    "    time += 1\n",
    "    if not check():\n",
    "        break\n",
    "\n",
    "print(time)"
   ]
  },
  {
   "cell_type": "code",
   "execution_count": null,
   "metadata": {},
   "outputs": [],
   "source": []
  }
 ],
 "metadata": {
  "kernelspec": {
   "display_name": "base",
   "language": "python",
   "name": "python3"
  },
  "language_info": {
   "codemirror_mode": {
    "name": "ipython",
    "version": 3
   },
   "file_extension": ".py",
   "mimetype": "text/x-python",
   "name": "python",
   "nbconvert_exporter": "python",
   "pygments_lexer": "ipython3",
   "version": "3.12.7"
  }
 },
 "nbformat": 4,
 "nbformat_minor": 2
}
