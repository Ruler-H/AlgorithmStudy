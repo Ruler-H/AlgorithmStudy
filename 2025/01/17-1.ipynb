{
 "cells": [
  {
   "cell_type": "code",
   "execution_count": 1,
   "metadata": {},
   "outputs": [],
   "source": [
    "# 백준 15685번 - 드래곤 커브(미성공)\n",
    "import sys\n",
    "# input = sys.stdin.readline\n",
    "from collections import deque\n",
    "sys.setrecursionlimit(10**6)\n",
    "\n",
    "N = int(input())\n",
    "infos = [list(map(int, input().split())) for _ in range(N)]"
   ]
  },
  {
   "cell_type": "code",
   "execution_count": 5,
   "metadata": {},
   "outputs": [],
   "source": [
    "# 백준 15685번 - 드래곤 커브\n",
    "import sys\n",
    "# input = sys.stdin.readline\n",
    "from collections import deque\n",
    "sys.setrecursionlimit(10**6)\n",
    "\n",
    "N = 3\n",
    "# 3 3 0 1\n",
    "# 4 2 1 3\n",
    "# 4 2 2 1\n",
    "infos = [[3, 3, 0, 1], [4, 2, 1, 3], [4, 2, 2, 1]]"
   ]
  },
  {
   "cell_type": "code",
   "execution_count": 12,
   "metadata": {},
   "outputs": [
    {
     "name": "stdout",
     "output_type": "stream",
     "text": [
      "x 3 y 3 d 0 g 1\n",
      "dragon [(3, 3), (3, 4), (3, 4), (2, 4)]\n",
      "x 4 y 2 d 1 g 3\n",
      "dragon [(4, 2), (3, 2), (3, 2), (3, 1), (3, 1), (4, 1), (4, 1), (4, 0), (4, 0), (5, 0), (5, 0), (5, 1), (5, 1), (6, 1), (6, 1), (6, 0)]\n",
      "x 4 y 2 d 2 g 1\n",
      "dragon [(4, 2), (4, 1), (4, 1), (5, 1)]\n",
      "3\n"
     ]
    }
   ],
   "source": [
    "dxy = [(0, 1), (-1, 0), (0, -1), (1, 0)]\n",
    "\n",
    "def make_dragon_curve(x, y, d, g):\n",
    "    dragon = [(x, y)]\n",
    "    dragon.append((x + dxy[d][0], y + dxy[d][1]))\n",
    "    for _ in range(g):\n",
    "        temp = []\n",
    "        for i in range(len(dragon) - 1, -1, -1):\n",
    "            x, y = dragon[i]\n",
    "            nx, ny = x - dragon[-1][0], y - dragon[-1][1]\n",
    "            temp.append((dragon[-1][0] + ny, dragon[-1][1] - nx))\n",
    "        dragon += temp\n",
    "    return dragon\n",
    "\n",
    "def check_square(x, y):\n",
    "    if (x, y) in points and (x + 1, y) in points and (x, y + 1) in points and (x + 1, y + 1) in points:\n",
    "        return True\n",
    "    return False\n",
    "\n",
    "points = set()\n",
    "for info in infos:\n",
    "    x, y, d, g = info\n",
    "    print(\"x\", x, \"y\", y, \"d\", d, \"g\", g)\n",
    "    dragon = make_dragon_curve(x, y, d, g)\n",
    "    print(\"dragon\", dragon)\n",
    "    for point in dragon:\n",
    "        points.add(point)\n",
    "\n",
    "answer = 0\n",
    "for x, y in points:\n",
    "    if check_square(x, y):\n",
    "        answer += 1\n",
    "print(answer)"
   ]
  },
  {
   "cell_type": "code",
   "execution_count": null,
   "metadata": {},
   "outputs": [],
   "source": []
  }
 ],
 "metadata": {
  "kernelspec": {
   "display_name": "base",
   "language": "python",
   "name": "python3"
  },
  "language_info": {
   "codemirror_mode": {
    "name": "ipython",
    "version": 3
   },
   "file_extension": ".py",
   "mimetype": "text/x-python",
   "name": "python",
   "nbconvert_exporter": "python",
   "pygments_lexer": "ipython3",
   "version": "3.12.7"
  }
 },
 "nbformat": 4,
 "nbformat_minor": 2
}
