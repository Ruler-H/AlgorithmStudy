{
 "cells": [
  {
   "cell_type": "code",
   "execution_count": 1,
   "metadata": {},
   "outputs": [],
   "source": [
    "# 백준 4179번 - 불!\n",
    "import sys\n",
    "# input = sys.stdin.readline\n",
    "from collections import deque\n",
    "sys.setrecursionlimit(10**6)\n",
    "\n",
    "R, C = map(int, input().split())\n",
    "graph = [list(input().strip()) for _ in range(R)]"
   ]
  },
  {
   "cell_type": "code",
   "execution_count": null,
   "metadata": {},
   "outputs": [],
   "source": [
    "def bfs():\n",
    "    # 불과 지훈이의 방문 배열을 분리\n",
    "    fire_visited = [[0] * C for _ in range(R)]\n",
    "    jihun_visited = [[0] * C for _ in range(R)]\n",
    "    \n",
    "    # 불과 지훈이의 큐를 분리\n",
    "    fire_queue = deque()\n",
    "    jihun_queue = deque()\n",
    "    \n",
    "    # 초기 위치 저장\n",
    "    for i in range(R):\n",
    "        for j in range(C):\n",
    "            if graph[i][j] == 'J':\n",
    "                jihun_queue.append((i, j))\n",
    "                jihun_visited[i][j] = 1\n",
    "            elif graph[i][j] == 'F':\n",
    "                fire_queue.append((i, j))\n",
    "                fire_visited[i][j] = 1\n",
    "    \n",
    "    dx = [0, 0, 1, -1]\n",
    "    dy = [1, -1, 0, 0]\n",
    "    \n",
    "    # 불 먼저 퍼뜨리기\n",
    "    while fire_queue:\n",
    "        x, y = fire_queue.popleft()\n",
    "        for i in range(4):\n",
    "            nx, ny = x + dx[i], y + dy[i]\n",
    "            if 0 <= nx < R and 0 <= ny < C:\n",
    "                if graph[nx][ny] != '#' and not fire_visited[nx][ny]:\n",
    "                    fire_visited[nx][ny] = fire_visited[x][y] + 1\n",
    "                    fire_queue.append((nx, ny))\n",
    "    \n",
    "    # 지훈이 이동\n",
    "    while jihun_queue:\n",
    "        x, y = jihun_queue.popleft()\n",
    "        for i in range(4):\n",
    "            nx, ny = x + dx[i], y + dy[i]\n",
    "            # 탈출 조건\n",
    "            if nx < 0 or nx >= R or ny < 0 or ny >= C:\n",
    "                return jihun_visited[x][y]\n",
    "            # 이동 가능 조건\n",
    "            if 0 <= nx < R and 0 <= ny < C:\n",
    "                if graph[nx][ny] != '#' and not jihun_visited[nx][ny]:\n",
    "                    # 불이 없거나, 불이 도달하기 전에 이동할 수 있는 경우\n",
    "                    if not fire_visited[nx][ny] or fire_visited[nx][ny] > jihun_visited[x][y] + 1:\n",
    "                        jihun_visited[nx][ny] = jihun_visited[x][y] + 1\n",
    "                        jihun_queue.append((nx, ny))\n",
    "    \n",
    "    return \"IMPOSSIBLE\"\n",
    "\n",
    "result = bfs()\n",
    "print(result)"
   ]
  },
  {
   "cell_type": "code",
   "execution_count": null,
   "metadata": {},
   "outputs": [],
   "source": []
  }
 ],
 "metadata": {
  "kernelspec": {
   "display_name": "base",
   "language": "python",
   "name": "python3"
  },
  "language_info": {
   "codemirror_mode": {
    "name": "ipython",
    "version": 3
   },
   "file_extension": ".py",
   "mimetype": "text/x-python",
   "name": "python",
   "nbconvert_exporter": "python",
   "pygments_lexer": "ipython3",
   "version": "3.12.7"
  }
 },
 "nbformat": 4,
 "nbformat_minor": 2
}
