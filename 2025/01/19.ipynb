{
 "cells": [
  {
   "cell_type": "code",
   "execution_count": 1,
   "metadata": {},
   "outputs": [],
   "source": [
    "# 백준 11779번 - 최소비용 구하기 2\n",
    "import sys\n",
    "# input = sys.stdin.readline\n",
    "import heapq\n",
    "sys.setrecursionlimit(10**6)\n",
    "\n",
    "n = int(input())\n",
    "m = int(input())\n",
    "bus_infoes = [[] for _ in range(n+1)]\n",
    "for _ in range(m):\n",
    "    start, end, cost = map(int, input().split())\n",
    "    bus_infoes[start].append((end, cost))\n",
    "A, B = map(int, input().split())"
   ]
  },
  {
   "cell_type": "code",
   "execution_count": null,
   "metadata": {},
   "outputs": [],
   "source": [
    "def dijkstra(start):\n",
    "    q = [(0, start)]  # (비용, 노드) 형태로 저장\n",
    "    distance = [float('inf')] * (n+1)\n",
    "    distance[start] = 0\n",
    "    path = [[] for _ in range(n+1)]\n",
    "    path[start] = [start]\n",
    "    \n",
    "    while q:\n",
    "        dist, cur = heapq.heappop(q)  # 현재 최소 비용을 가진 노드 선택\n",
    "        \n",
    "        # 현재 거리가 이미 저장된 거리보다 크면 스킵\n",
    "        if distance[cur] < dist:\n",
    "            continue\n",
    "            \n",
    "        for next_city, cost in bus_infoes[cur]:\n",
    "            next_dist = dist + cost\n",
    "            if distance[next_city] > next_dist:\n",
    "                distance[next_city] = next_dist\n",
    "                path[next_city] = path[cur] + [next_city]\n",
    "                heapq.heappush(q, (next_dist, next_city))\n",
    "                \n",
    "    return distance, path\n",
    "\n",
    "distance, path = dijkstra(A)\n",
    "\n",
    "print(distance[B])\n",
    "print(len(path[B]))\n",
    "print(*path[B])"
   ]
  },
  {
   "cell_type": "code",
   "execution_count": null,
   "metadata": {},
   "outputs": [],
   "source": []
  }
 ],
 "metadata": {
  "kernelspec": {
   "display_name": "base",
   "language": "python",
   "name": "python3"
  },
  "language_info": {
   "codemirror_mode": {
    "name": "ipython",
    "version": 3
   },
   "file_extension": ".py",
   "mimetype": "text/x-python",
   "name": "python",
   "nbconvert_exporter": "python",
   "pygments_lexer": "ipython3",
   "version": "3.12.7"
  }
 },
 "nbformat": 4,
 "nbformat_minor": 2
}
