{
 "cells": [
  {
   "cell_type": "code",
   "execution_count": null,
   "metadata": {},
   "outputs": [],
   "source": [
    "# 백준 1600번 - 말이 되고픈 원숭이\n",
    "import sys\n",
    "# input = sys.stdin.readline\n",
    "from collections import deque\n",
    "sys.setrecursionlimit(10**6)\n",
    "\n",
    "def bfs():\n",
    "    q = deque()\n",
    "    q.append((0, 0, 0))\n",
    "    visited = [[[0] * (K+1) for _ in range(W)] for _ in range(H)]\n",
    "    visited[0][0][0] = 1\n",
    "\n",
    "    while q:\n",
    "        x, y, k = q.popleft()\n",
    "        if x == H-1 and y == W-1:\n",
    "            return visited[x][y][k] - 1\n",
    "\n",
    "        for i in range(12):\n",
    "            nx = x + dx[i]\n",
    "            ny = y + dy[i]\n",
    "            nk = k + dk[i]\n",
    "            if 0 <= nx < H and 0 <= ny < W:\n",
    "                if i < 4:\n",
    "                    if not visited[nx][ny][nk] and not board[nx][ny]:\n",
    "                        visited[nx][ny][nk] = visited[x][y][k] + 1\n",
    "                        q.append((nx, ny, nk))\n",
    "                else:\n",
    "                    if nk <= K and not visited[nx][ny][nk] and not board[nx][ny]:\n",
    "                        visited[nx][ny][nk] = visited[x][y][k] + 1\n",
    "                        q.append((nx, ny, nk))\n",
    "    return -1\n",
    "\n",
    "K = int(input())\n",
    "W, H = map(int, input().split())\n",
    "board = [list(map(int, input().split())) for _ in range(H)]\n",
    "\n",
    "dx = [-1, 1, 0, 0, -2, -2, -1, -1, 1, 1, 2, 2]\n",
    "dy = [0, 0, -1, 1, -1, 1, -2, 2, -2, 2, -1, 1]\n",
    "dk = [0, 0, 0, 0, 1, 1, 1, 1, 1, 1, 1, 1]\n",
    "\n",
    "print(bfs())"
   ]
  },
  {
   "cell_type": "code",
   "execution_count": null,
   "metadata": {},
   "outputs": [],
   "source": []
  }
 ],
 "metadata": {
  "kernelspec": {
   "display_name": "base",
   "language": "python",
   "name": "python3"
  },
  "language_info": {
   "codemirror_mode": {
    "name": "ipython",
    "version": 3
   },
   "file_extension": ".py",
   "mimetype": "text/x-python",
   "name": "python",
   "nbconvert_exporter": "python",
   "pygments_lexer": "ipython3",
   "version": "3.12.7"
  }
 },
 "nbformat": 4,
 "nbformat_minor": 2
}
