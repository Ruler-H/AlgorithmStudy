{
 "cells": [
  {
   "cell_type": "code",
   "execution_count": null,
   "metadata": {},
   "outputs": [],
   "source": [
    "# 백준 15684번 - 사다리 조작\n",
    "import sys\n",
    "input = sys.stdin.readline\n",
    "sys.setrecursionlimit(10**6)\n",
    "\n",
    "def check(ladder):\n",
    "    for start in range(1, n+1):\n",
    "        pos = start\n",
    "        for y in range(1, h+1):\n",
    "            if ladder[y][pos]:  # 오른쪽으로 이동\n",
    "                pos += 1\n",
    "            elif ladder[y][pos-1]:  # 왼쪽으로 이동\n",
    "                pos -= 1\n",
    "            # 이동이 없는 경우는 아래로 이동\n",
    "        if pos != start:\n",
    "            return False\n",
    "    return True\n",
    "\n",
    "def dfs(depth, x, y, ladder, added):\n",
    "    if depth >= added:  # 추가할 사다리 수에 도달\n",
    "        if check(ladder):\n",
    "            print(added)\n",
    "            sys.exit(0)\n",
    "        return\n",
    "    \n",
    "    # 현재 위치부터 가능한 모든 위치 탐색\n",
    "    for i in range(x, h+1):\n",
    "        k = y if i == x else 1  # 같은 행이면 이전 열부터, 다른 행이면 처음부터\n",
    "        for j in range(k, n):\n",
    "            # 사다리를 놓을 수 있는 조건 검사\n",
    "            if not ladder[i][j] and not ladder[i][j-1] and not ladder[i][j+1]:\n",
    "                ladder[i][j] = True\n",
    "                dfs(depth+1, i, j+2, ladder, added)  # 다음 위치는 최소 2칸 이상 떨어져야 함\n",
    "                ladder[i][j] = False\n",
    "\n",
    "# 입력 처리\n",
    "n, m, h = map(int, input().split())\n",
    "ladder = [[False] * (n+1) for _ in range(h+1)]\n",
    "\n",
    "# 초기 사다리 설정\n",
    "for _ in range(m):\n",
    "    a, b = map(int, input().split())\n",
    "    ladder[a][b] = True\n",
    "\n",
    "# 최대 3개까지 사다리를 추가해보며 확인\n",
    "for added in range(4):\n",
    "    dfs(0, 1, 1, ladder, added)\n",
    "\n",
    "print(-1)"
   ]
  },
  {
   "cell_type": "code",
   "execution_count": null,
   "metadata": {},
   "outputs": [],
   "source": []
  },
  {
   "cell_type": "code",
   "execution_count": null,
   "metadata": {},
   "outputs": [],
   "source": []
  }
 ],
 "metadata": {
  "kernelspec": {
   "display_name": "base",
   "language": "python",
   "name": "python3"
  },
  "language_info": {
   "codemirror_mode": {
    "name": "ipython",
    "version": 3
   },
   "file_extension": ".py",
   "mimetype": "text/x-python",
   "name": "python",
   "nbconvert_exporter": "python",
   "pygments_lexer": "ipython3",
   "version": "3.12.7"
  }
 },
 "nbformat": 4,
 "nbformat_minor": 2
}
