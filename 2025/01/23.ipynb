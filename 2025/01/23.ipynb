{
 "cells": [
  {
   "cell_type": "code",
   "execution_count": null,
   "metadata": {},
   "outputs": [],
   "source": [
    "# 백준 16235번 - 나무 재테크\n",
    "import sys\n",
    "# input = sys.stdin.readline\n",
    "sys.setrecursionlimit(10**6)\n",
    "\n",
    "n, m, k = map(int, input().split())\n",
    "A = [list(map(int, input().split())) for _ in range(n)]\n",
    "nutrient = [[5] * n for _ in range(n)]\n",
    "trees = [[[] for _ in range(n)] for _ in range(n)]\n",
    "for _ in range(m):\n",
    "    x, y, z = map(int, input().split())\n",
    "    trees[x-1][y-1].append(z)\n",
    "\n",
    "dx = [-1, -1, -1, 0, 0, 1, 1, 1]\n",
    "dy = [-1, 0, 1, -1, 1, -1, 0, 1]\n",
    "\n",
    "for _ in range(k):\n",
    "    # 봄\n",
    "    for i in range(n):\n",
    "        for j in range(n):\n",
    "            if trees[i][j]:\n",
    "                trees[i][j].sort()\n",
    "                temp = []\n",
    "                dead = 0\n",
    "                for tree in trees[i][j]:\n",
    "                    if nutrient[i][j] >= tree:\n",
    "                        nutrient[i][j] -= tree\n",
    "                        temp.append(tree + 1)\n",
    "                    else:\n",
    "                        dead += tree // 2\n",
    "                nutrient[i][j] += dead\n",
    "                trees[i][j] = temp\n",
    "    # 가을\n",
    "    for i in range(n):\n",
    "        for j in range(n):\n",
    "            for tree in trees[i][j]:\n",
    "                if tree % 5 == 0:\n",
    "                    for k in range(8):\n",
    "                        nx, ny = i + dx[k], j + dy[k]\n",
    "                        if 0 <= nx < n and 0 <= ny < n:\n",
    "                            trees[nx][ny].append(1)\n",
    "    # 겨울\n",
    "    for i in range(n):\n",
    "        for j in range(n):\n",
    "            nutrient[i][j] += A[i][j]\n",
    "\n",
    "result = 0\n",
    "for i in range(n):\n",
    "    for j in range(n):\n",
    "        result += len(trees[i][j])\n",
    "\n",
    "print(result)"
   ]
  },
  {
   "cell_type": "code",
   "execution_count": null,
   "metadata": {},
   "outputs": [],
   "source": []
  },
  {
   "cell_type": "code",
   "execution_count": null,
   "metadata": {},
   "outputs": [],
   "source": []
  }
 ],
 "metadata": {
  "kernelspec": {
   "display_name": "base",
   "language": "python",
   "name": "python3"
  },
  "language_info": {
   "codemirror_mode": {
    "name": "ipython",
    "version": 3
   },
   "file_extension": ".py",
   "mimetype": "text/x-python",
   "name": "python",
   "nbconvert_exporter": "python",
   "pygments_lexer": "ipython3",
   "version": "3.12.7"
  }
 },
 "nbformat": 4,
 "nbformat_minor": 2
}
