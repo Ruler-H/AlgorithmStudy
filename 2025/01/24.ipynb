{
 "cells": [
  {
   "cell_type": "code",
   "execution_count": null,
   "metadata": {},
   "outputs": [],
   "source": [
    "# 백준 1516번 - 게임 개발\n",
    "import sys\n",
    "# input = sys.stdin.readline\n",
    "sys.setrecursionlimit(10**6)\n",
    "\n",
    "def dfs(x):\n",
    "    if dp[x] != -1:\n",
    "        return dp[x]\n",
    "    \n",
    "    time = 0\n",
    "    for i in graph[x]:\n",
    "        time = max(time, dfs(i))\n",
    "    dp[x] = time + cost[x]\n",
    "    return dp[x]\n",
    "\n",
    "n = int(input())\n",
    "graph = [[] for _ in range(n+1)]\n",
    "cost = [0] * (n+1)\n",
    "dp = [-1] * (n+1)\n",
    "\n",
    "for i in range(1, n+1):\n",
    "    temp = list(map(int, input().split()))\n",
    "    cost[i] = temp[0]\n",
    "    for j in temp[1:-1]:\n",
    "        graph[i].append(j)\n",
    "\n",
    "for i in range(1, n+1):\n",
    "    dfs(i)\n",
    "\n",
    "for i in range(1, n+1):\n",
    "    print(dp[i])"
   ]
  },
  {
   "cell_type": "code",
   "execution_count": null,
   "metadata": {},
   "outputs": [],
   "source": []
  }
 ],
 "metadata": {
  "kernelspec": {
   "display_name": "base",
   "language": "python",
   "name": "python3"
  },
  "language_info": {
   "codemirror_mode": {
    "name": "ipython",
    "version": 3
   },
   "file_extension": ".py",
   "mimetype": "text/x-python",
   "name": "python",
   "nbconvert_exporter": "python",
   "pygments_lexer": "ipython3",
   "version": "3.12.7"
  }
 },
 "nbformat": 4,
 "nbformat_minor": 2
}
