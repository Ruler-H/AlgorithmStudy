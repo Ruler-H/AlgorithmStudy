{
 "cells": [
  {
   "cell_type": "code",
   "execution_count": 9,
   "metadata": {},
   "outputs": [],
   "source": [
    "# 백준 2623번 - 음악프로그램\n",
    "import sys\n",
    "# input = sys.stdin.readline\n",
    "sys.setrecursionlimit(10**6)\n",
    "\n",
    "N, M = map(int, input().split())\n",
    "graph = [[] for _ in range(N+1)]\n",
    "indegree = [0] * (N+1)\n",
    "result = []\n",
    "queue = []\n",
    "\n",
    "for _ in range(M):\n",
    "    arr = list(map(int, input().split()))\n",
    "    for i in range(1, len(arr)-1):\n",
    "        graph[arr[i]].append(arr[i+1])\n",
    "        indegree[arr[i+1]] += 1"
   ]
  },
  {
   "cell_type": "code",
   "execution_count": null,
   "metadata": {},
   "outputs": [],
   "source": [
    "# 위상 정렬\n",
    "for i in range(1, N+1):\n",
    "    if indegree[i] == 0:\n",
    "        queue.append(i)\n",
    "\n",
    "while queue:\n",
    "    node = queue.pop(0)\n",
    "    result.append(node)\n",
    "    for i in graph[node]:\n",
    "        indegree[i] -= 1\n",
    "        if indegree[i] == 0:\n",
    "            queue.append(i)\n",
    "\n",
    "if len(result) == N:\n",
    "    for i in result:\n",
    "        print(i)\n",
    "else:\n",
    "    print(0)"
   ]
  },
  {
   "cell_type": "code",
   "execution_count": null,
   "metadata": {},
   "outputs": [],
   "source": []
  }
 ],
 "metadata": {
  "kernelspec": {
   "display_name": "base",
   "language": "python",
   "name": "python3"
  },
  "language_info": {
   "codemirror_mode": {
    "name": "ipython",
    "version": 3
   },
   "file_extension": ".py",
   "mimetype": "text/x-python",
   "name": "python",
   "nbconvert_exporter": "python",
   "pygments_lexer": "ipython3",
   "version": "3.12.7"
  }
 },
 "nbformat": 4,
 "nbformat_minor": 2
}
