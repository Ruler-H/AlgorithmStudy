{
 "cells": [
  {
   "cell_type": "code",
   "execution_count": null,
   "metadata": {},
   "outputs": [],
   "source": [
    "# 백준 1865번 - 웜홀\n",
    "import sys\n",
    "# input = sys.stdin.readline\n",
    "sys.setrecursionlimit(10**6)\n",
    "\n",
    "TC = int(input())\n",
    "\n",
    "for _ in range(TC):\n",
    "    N, M, W = map(int, input().split())\n",
    "    graph = [[] for _ in range(N+1)]\n",
    "    for _ in range(M):\n",
    "        S, E, T = map(int, input().split())\n",
    "        graph[S].append((E, T))\n",
    "        graph[E].append((S, T))\n",
    "    for _ in range(W):\n",
    "        S, E, T = map(int, input().split())\n",
    "        graph[S].append((E, -T))\n",
    "    dist = [0 for _ in range(N+1)]\n",
    "    \n",
    "    def bellman_ford():\n",
    "        for i in range(1, N+1):\n",
    "            for j in range(1, N+1):\n",
    "                for node, time in graph[j]:\n",
    "                    if dist[node] > dist[j] + time:\n",
    "                        dist[node] = dist[j] + time\n",
    "                        if i == N:\n",
    "                            return True\n",
    "        return False\n",
    "    \n",
    "    if bellman_ford():\n",
    "        print(\"YES\")\n",
    "    else:\n",
    "        print(\"NO\")"
   ]
  },
  {
   "cell_type": "code",
   "execution_count": null,
   "metadata": {},
   "outputs": [],
   "source": []
  },
  {
   "cell_type": "code",
   "execution_count": null,
   "metadata": {},
   "outputs": [],
   "source": []
  }
 ],
 "metadata": {
  "kernelspec": {
   "display_name": "base",
   "language": "python",
   "name": "python3"
  },
  "language_info": {
   "codemirror_mode": {
    "name": "ipython",
    "version": 3
   },
   "file_extension": ".py",
   "mimetype": "text/x-python",
   "name": "python",
   "nbconvert_exporter": "python",
   "pygments_lexer": "ipython3",
   "version": "3.12.7"
  }
 },
 "nbformat": 4,
 "nbformat_minor": 2
}
