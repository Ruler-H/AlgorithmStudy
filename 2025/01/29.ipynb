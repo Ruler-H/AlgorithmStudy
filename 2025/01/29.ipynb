{
 "cells": [
  {
   "cell_type": "code",
   "execution_count": 28,
   "metadata": {},
   "outputs": [],
   "source": [
    "# 백준 17471번 - 게리맨더링\n",
    "import sys\n",
    "# input = sys.stdin.readline\n",
    "sys.setrecursionlimit(10**6)\n",
    "\n",
    "n = int(input())\n",
    "population = [0] + list(map(int, input().split()))\n",
    "graph = [[] for _ in range(n+1)]\n",
    "for i in range(1, n+1):\n",
    "    temp = list(map(int, input().split()))\n",
    "    graph[i] = temp[1:]"
   ]
  },
  {
   "cell_type": "code",
   "execution_count": null,
   "metadata": {},
   "outputs": [],
   "source": [
    "from itertools import combinations\n",
    "\n",
    "def dfs(start, visited, c):\n",
    "    visited[start] = True\n",
    "    for i in graph[start]:\n",
    "        if not visited[i] and i in c:\n",
    "            dfs(i, visited, c)\n",
    "\n",
    "def check(c, visited):\n",
    "    for i in c:\n",
    "        if visited[i] == False:\n",
    "            return False\n",
    "    return True\n",
    "\n",
    "result = 1000000000\n",
    "\n",
    "for i in range(1, n):\n",
    "    comb = list(combinations(range(1, n+1), i))\n",
    "    for c in comb:\n",
    "        negative_c = [i for i in range(1, n+1) if i not in c]\n",
    "        visited1 = [False] * (n+1)\n",
    "        visited2 = [False] * (n+1)\n",
    "        dfs(c[0], visited1, c)\n",
    "        dfs(negative_c[0], visited2, negative_c)\n",
    "        if check(c, visited1) and check(negative_c, visited2):\n",
    "            a = sum([population[k] for k in c])\n",
    "            b = sum([population[k] for k in range(1, n+1) if k not in c])\n",
    "            result = min(result, abs(a-b))\n",
    "\n",
    "if result == 1000000000:\n",
    "    print(-1)\n",
    "else:\n",
    "    print(result)"
   ]
  },
  {
   "cell_type": "code",
   "execution_count": null,
   "metadata": {},
   "outputs": [],
   "source": []
  }
 ],
 "metadata": {
  "kernelspec": {
   "display_name": "base",
   "language": "python",
   "name": "python3"
  },
  "language_info": {
   "codemirror_mode": {
    "name": "ipython",
    "version": 3
   },
   "file_extension": ".py",
   "mimetype": "text/x-python",
   "name": "python",
   "nbconvert_exporter": "python",
   "pygments_lexer": "ipython3",
   "version": "3.12.7"
  }
 },
 "nbformat": 4,
 "nbformat_minor": 2
}
