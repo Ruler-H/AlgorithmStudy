{
 "cells": [
  {
   "cell_type": "code",
   "execution_count": null,
   "metadata": {},
   "outputs": [],
   "source": [
    "# 백준 17135번 - 캐슬 디펜스\n",
    "import sys\n",
    "# input = sys.stdin.readline\n",
    "sys.setrecursionlimit(10**6)\n",
    "\n",
    "N, M, D = map(int, input().split())\n",
    "board = [list(map(int, input().split())) for _ in range(N)]"
   ]
  },
  {
   "cell_type": "code",
   "execution_count": null,
   "metadata": {},
   "outputs": [],
   "source": [
    "def attack(archer, board):\n",
    "    global N, M, D\n",
    "    enemy = 0\n",
    "    while True:\n",
    "        # 적이 있는지 확인\n",
    "        enemy_list = []\n",
    "        kill_set = set()\n",
    "        for i in range(N):\n",
    "            for j in range(M):\n",
    "                if board[i][j] == 1:\n",
    "                    enemy_list.append((i, j))\n",
    "        if len(enemy_list) == 0:\n",
    "            break\n",
    "        # 궁수가 적을 공격\n",
    "        for archer_pos in archer:\n",
    "            min_dist = D\n",
    "            min_enemy = (N, M)\n",
    "            for enemy_pos in enemy_list:\n",
    "                dist = abs(archer_pos[0] - enemy_pos[0]) + abs(archer_pos[1] - enemy_pos[1])\n",
    "                if dist <= D:\n",
    "                    if dist < min_dist:\n",
    "                        min_dist = dist\n",
    "                        min_enemy = enemy_pos\n",
    "                    elif dist == min_dist:\n",
    "                        if enemy_pos[1] < min_enemy[1]:\n",
    "                            min_enemy = enemy_pos\n",
    "            if min_enemy != (N, M):\n",
    "                kill_set.add(min_enemy)\n",
    "        # 적을 죽임\n",
    "        for kill in kill_set:\n",
    "            board[kill[0]][kill[1]] = 0\n",
    "            enemy += 1\n",
    "        # 적이 한 칸씩 아래로 이동\n",
    "        for i in range(N-1, 0, -1):\n",
    "            for j in range(M):\n",
    "                board[i][j] = board[i-1][j]\n",
    "        for j in range(M):\n",
    "            board[0][j] = 0\n",
    "    return enemy\n",
    "\n",
    "answer = 0\n",
    "for i in range(M-2):\n",
    "    for j in range(i+1, M-1):\n",
    "        for k in range(j+1, M):\n",
    "            archer = [(N, i), (N, j), (N, k)]\n",
    "            board_copy = [board[i][:] for i in range(N)]\n",
    "            answer = max(answer, attack(archer, board_copy))\n",
    "\n",
    "print(answer)"
   ]
  },
  {
   "cell_type": "code",
   "execution_count": null,
   "metadata": {},
   "outputs": [],
   "source": []
  }
 ],
 "metadata": {
  "kernelspec": {
   "display_name": "base",
   "language": "python",
   "name": "python3"
  },
  "language_info": {
   "codemirror_mode": {
    "name": "ipython",
    "version": 3
   },
   "file_extension": ".py",
   "mimetype": "text/x-python",
   "name": "python",
   "nbconvert_exporter": "python",
   "pygments_lexer": "ipython3",
   "version": "3.12.7"
  }
 },
 "nbformat": 4,
 "nbformat_minor": 2
}
