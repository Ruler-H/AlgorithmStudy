{
 "cells": [
  {
   "cell_type": "code",
   "execution_count": 5,
   "metadata": {},
   "outputs": [],
   "source": [
    "# 백준 17142번 - 연구소 3\n",
    "import sys\n",
    "# input = sys.stdin.readline\n",
    "from itertools import combinations\n",
    "from collections import deque\n",
    "\n",
    "N, M = map(int, input().split())\n",
    "lab = [list(map(int, input().split())) for _ in range(N)]"
   ]
  },
  {
   "cell_type": "code",
   "execution_count": null,
   "metadata": {},
   "outputs": [],
   "source": [
    "virus = []\n",
    "empty = 0\n",
    "for i in range(N):\n",
    "    for j in range(N):\n",
    "        if lab[i][j] == 2:\n",
    "            virus.append((i, j))\n",
    "        elif lab[i][j] == 0:\n",
    "            empty += 1\n",
    "\n",
    "def bfs(virus):\n",
    "    visited = [[-1] * N for _ in range(N)]\n",
    "    q = deque(virus)\n",
    "    time = 0\n",
    "    for x, y in virus:\n",
    "        visited[x][y] = 0\n",
    "    while q:\n",
    "        x, y = q.popleft()\n",
    "        for dx, dy in [(1, 0), (0, 1), (-1, 0), (0, -1)]:\n",
    "            nx, ny = x + dx, y + dy\n",
    "            if 0 <= nx < N and 0 <= ny < N and visited[nx][ny] == -1:\n",
    "                if lab[nx][ny] == 0:\n",
    "                    visited[nx][ny] = visited[x][y] + 1\n",
    "                    q.append((nx, ny))\n",
    "                    time = visited[nx][ny]\n",
    "                elif lab[nx][ny] == 2:\n",
    "                    visited[nx][ny] = visited[x][y] + 1\n",
    "                    q.append((nx, ny))\n",
    "    for i in range(N):\n",
    "        for j in range(N):\n",
    "            if lab[i][j] == 0 and visited[i][j] == -1:\n",
    "                return 1e9\n",
    "    return time\n",
    "\n",
    "answer = 1e9\n",
    "for comb in combinations(virus, M):\n",
    "    time = bfs(comb)\n",
    "    if empty == sum(lab[i].count(0) for i in range(N)):\n",
    "        answer = min(answer, time)\n",
    "\n",
    "print(answer if answer != 1e9 else -1)"
   ]
  },
  {
   "cell_type": "code",
   "execution_count": null,
   "metadata": {},
   "outputs": [],
   "source": []
  }
 ],
 "metadata": {
  "kernelspec": {
   "display_name": "base",
   "language": "python",
   "name": "python3"
  },
  "language_info": {
   "codemirror_mode": {
    "name": "ipython",
    "version": 3
   },
   "file_extension": ".py",
   "mimetype": "text/x-python",
   "name": "python",
   "nbconvert_exporter": "python",
   "pygments_lexer": "ipython3",
   "version": "3.12.7"
  }
 },
 "nbformat": 4,
 "nbformat_minor": 2
}
