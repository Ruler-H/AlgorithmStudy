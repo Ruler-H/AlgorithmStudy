{
 "cells": [
  {
   "cell_type": "code",
   "execution_count": 1,
   "metadata": {},
   "outputs": [],
   "source": [
    "# 백준 2473번 - 세 용액\n",
    "import sys\n",
    "# input = sys.stdin.readline\n",
    "\n",
    "N = int(input())\n",
    "solutions = list(map(int, input().split()))"
   ]
  },
  {
   "cell_type": "code",
   "execution_count": null,
   "metadata": {},
   "outputs": [],
   "source": [
    "solutions.sort()\n",
    "result = [0, 1, 2]\n",
    "min_sum = 3000000000\n",
    "\n",
    "for i in range(N-2):\n",
    "    left = i + 1\n",
    "    right = N - 1\n",
    "\n",
    "    while left < right:\n",
    "        sum = solutions[i] + solutions[left] + solutions[right]\n",
    "\n",
    "        if abs(sum) < min_sum:\n",
    "            min_sum = abs(sum)\n",
    "            result = [i, left, right]\n",
    "\n",
    "        if sum < 0:\n",
    "            left += 1\n",
    "        else:\n",
    "            right -= 1\n",
    "\n",
    "print(solutions[result[0]], solutions[result[1]], solutions[result[2]])"
   ]
  },
  {
   "cell_type": "code",
   "execution_count": null,
   "metadata": {},
   "outputs": [],
   "source": []
  }
 ],
 "metadata": {
  "kernelspec": {
   "display_name": "base",
   "language": "python",
   "name": "python3"
  },
  "language_info": {
   "codemirror_mode": {
    "name": "ipython",
    "version": 3
   },
   "file_extension": ".py",
   "mimetype": "text/x-python",
   "name": "python",
   "nbconvert_exporter": "python",
   "pygments_lexer": "ipython3",
   "version": "3.12.7"
  }
 },
 "nbformat": 4,
 "nbformat_minor": 2
}
