{
 "cells": [
  {
   "cell_type": "code",
   "execution_count": 1,
   "metadata": {},
   "outputs": [],
   "source": [
    "# 백준 2143번 - 두 배열의 합\n",
    "import sys\n",
    "# input = sys.stdin.readline\n",
    "\n",
    "T = int(input())\n",
    "n = int(input())\n",
    "A = list(map(int, input().split()))\n",
    "m = int(input())\n",
    "B = list(map(int, input().split()))"
   ]
  },
  {
   "cell_type": "code",
   "execution_count": null,
   "metadata": {},
   "outputs": [],
   "source": [
    "sum_A = []\n",
    "sum_B = []\n",
    "\n",
    "for i in range(n):\n",
    "    temp = 0\n",
    "    for j in range(i, n):\n",
    "        temp += A[j]\n",
    "        sum_A.append(temp)\n",
    "\n",
    "for i in range(m):\n",
    "    temp = 0\n",
    "    for j in range(i, m):\n",
    "        temp += B[j]\n",
    "        sum_B.append(temp)\n",
    "\n",
    "sum_A.sort()\n",
    "sum_B.sort()\n",
    "\n",
    "left = 0\n",
    "right = len(sum_B) - 1\n",
    "answer = 0\n",
    "\n",
    "while left < len(sum_A) and right >= 0:\n",
    "    temp = sum_A[left] + sum_B[right]\n",
    "    if temp == T:\n",
    "        left_count = 1\n",
    "        right_count = 1\n",
    "\n",
    "        left += 1\n",
    "        while left < len(sum_A) and sum_A[left] == sum_A[left - 1]:\n",
    "            left_count += 1\n",
    "            left += 1\n",
    "\n",
    "        right -= 1\n",
    "        while right >= 0 and sum_B[right] == sum_B[right + 1]:\n",
    "            right_count += 1\n",
    "            right -= 1\n",
    "\n",
    "        answer += left_count * right_count\n",
    "\n",
    "    elif temp < T:\n",
    "        left += 1\n",
    "    else:\n",
    "        right -= 1\n",
    "\n",
    "print(answer)"
   ]
  },
  {
   "cell_type": "code",
   "execution_count": null,
   "metadata": {},
   "outputs": [],
   "source": []
  }
 ],
 "metadata": {
  "kernelspec": {
   "display_name": "base",
   "language": "python",
   "name": "python3"
  },
  "language_info": {
   "codemirror_mode": {
    "name": "ipython",
    "version": 3
   },
   "file_extension": ".py",
   "mimetype": "text/x-python",
   "name": "python",
   "nbconvert_exporter": "python",
   "pygments_lexer": "ipython3",
   "version": "3.12.7"
  }
 },
 "nbformat": 4,
 "nbformat_minor": 2
}
