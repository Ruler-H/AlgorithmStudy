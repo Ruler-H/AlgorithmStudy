{
 "cells": [
  {
   "cell_type": "code",
   "execution_count": 1,
   "metadata": {},
   "outputs": [],
   "source": [
    "# 백준 17299번 - 오등큰수\n",
    "import sys\n",
    "# input = sys.stdin.readline\n",
    "\n",
    "N = int(input())\n",
    "A = list(map(int, input().split()))"
   ]
  },
  {
   "cell_type": "code",
   "execution_count": null,
   "metadata": {},
   "outputs": [],
   "source": [
    "F = [0] * 1000001\n",
    "for i in A:\n",
    "    F[i] += 1\n",
    "\n",
    "stack = []\n",
    "result = [-1] * N\n",
    "for i in range(N):\n",
    "    while stack and F[A[stack[-1]]] < F[A[i]]:\n",
    "        result[stack.pop()] = A[i]\n",
    "    stack.append(i)\n",
    "\n",
    "print(*result)"
   ]
  },
  {
   "cell_type": "code",
   "execution_count": null,
   "metadata": {},
   "outputs": [],
   "source": []
  }
 ],
 "metadata": {
  "kernelspec": {
   "display_name": "base",
   "language": "python",
   "name": "python3"
  },
  "language_info": {
   "codemirror_mode": {
    "name": "ipython",
    "version": 3
   },
   "file_extension": ".py",
   "mimetype": "text/x-python",
   "name": "python",
   "nbconvert_exporter": "python",
   "pygments_lexer": "ipython3",
   "version": "3.12.7"
  }
 },
 "nbformat": 4,
 "nbformat_minor": 2
}
