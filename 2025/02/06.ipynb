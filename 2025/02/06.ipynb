{
 "cells": [
  {
   "cell_type": "code",
   "execution_count": 20,
   "metadata": {},
   "outputs": [],
   "source": [
    "# 백준 16637번 - 괄호 추가하기\n",
    "import sys\n",
    "# input = sys.stdin.readline\n",
    "\n",
    "N = int(input())\n",
    "n = []\n",
    "op = []\n",
    "for i in input().strip():\n",
    "    if i.isdigit():\n",
    "        n.append(int(i))\n",
    "    else:\n",
    "        op.append(i)"
   ]
  },
  {
   "cell_type": "code",
   "execution_count": null,
   "metadata": {},
   "outputs": [],
   "source": [
    "def calc(a, b, op):\n",
    "    if op == '+':\n",
    "        return a + b\n",
    "    elif op == '-':\n",
    "        return a - b\n",
    "    else:\n",
    "        return a * b\n",
    "    \n",
    "def dfs(idx, result):\n",
    "    global answer\n",
    "    if idx >= len(op):\n",
    "        answer = max(answer, result)\n",
    "        return\n",
    "    a = calc(result, n[idx+1], op[idx])\n",
    "    dfs(idx+1, a)\n",
    "    if idx+1 < len(op):\n",
    "        b = calc(n[idx+1], n[idx+2], op[idx+1])\n",
    "        c = calc(result, b, op[idx])\n",
    "        dfs(idx+2, c)\n",
    "\n",
    "answer = -sys.maxsize\n",
    "dfs(0, n[0])\n",
    "print(answer)"
   ]
  },
  {
   "cell_type": "code",
   "execution_count": null,
   "metadata": {},
   "outputs": [],
   "source": []
  }
 ],
 "metadata": {
  "kernelspec": {
   "display_name": "base",
   "language": "python",
   "name": "python3"
  },
  "language_info": {
   "codemirror_mode": {
    "name": "ipython",
    "version": 3
   },
   "file_extension": ".py",
   "mimetype": "text/x-python",
   "name": "python",
   "nbconvert_exporter": "python",
   "pygments_lexer": "ipython3",
   "version": "3.12.7"
  }
 },
 "nbformat": 4,
 "nbformat_minor": 2
}
