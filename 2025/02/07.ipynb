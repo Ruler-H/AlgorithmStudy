{
 "cells": [
  {
   "cell_type": "code",
   "execution_count": 1,
   "metadata": {},
   "outputs": [],
   "source": [
    "# 백준 2533번 - 사회망 서비스(SNS)\n",
    "import sys\n",
    "# input = sys.stdin.readline\n",
    "sys.setrecursionlimit(10**6)\n",
    "\n",
    "N = int(input())\n",
    "graph = [[] for _ in range(N+1)]\n",
    "\n",
    "for _ in range(N-1):\n",
    "    a, b = map(int, input().split())\n",
    "    graph[a].append(b)\n",
    "    graph[b].append(a)"
   ]
  },
  {
   "cell_type": "code",
   "execution_count": null,
   "metadata": {},
   "outputs": [],
   "source": [
    "dp = [[0, 0] for _ in range(N+1)]\n",
    "visited = [False] * (N+1)\n",
    "\n",
    "def dfs(node):\n",
    "    visited[node] = True\n",
    "    dp[node][0] = 0\n",
    "    dp[node][1] = 1\n",
    "\n",
    "    for i in graph[node]:\n",
    "        if not visited[i]:\n",
    "            dfs(i)\n",
    "            dp[node][0] += dp[i][1]\n",
    "            dp[node][1] += min(dp[i][0], dp[i][1])\n",
    "\n",
    "dfs(1)\n",
    "print(min(dp[1][0], dp[1][1]))"
   ]
  },
  {
   "cell_type": "code",
   "execution_count": null,
   "metadata": {},
   "outputs": [],
   "source": []
  }
 ],
 "metadata": {
  "kernelspec": {
   "display_name": "base",
   "language": "python",
   "name": "python3"
  },
  "language_info": {
   "codemirror_mode": {
    "name": "ipython",
    "version": 3
   },
   "file_extension": ".py",
   "mimetype": "text/x-python",
   "name": "python",
   "nbconvert_exporter": "python",
   "pygments_lexer": "ipython3",
   "version": "3.12.7"
  }
 },
 "nbformat": 4,
 "nbformat_minor": 2
}
