{
 "cells": [
  {
   "cell_type": "code",
   "execution_count": null,
   "metadata": {},
   "outputs": [],
   "source": [
    "# 백준 1939번 - 중량제한\n",
    "import sys\n",
    "# input = sys.stdin.readline\n",
    "sys.setrecursionlimit(10**6)\n",
    "\n",
    "N, M = map(int, input().split())\n",
    "graph = [[] for _ in range(N+1)]\n",
    "for _ in range(M):\n",
    "    A, B, C = map(int, input().split())\n",
    "    graph[A].append((B, C))\n",
    "    graph[B].append((A, C))\n",
    "\n",
    "start, end = map(int, input().split())"
   ]
  },
  {
   "cell_type": "code",
   "execution_count": null,
   "metadata": {},
   "outputs": [],
   "source": [
    "def dfs(start, end, weight):\n",
    "    visited[start] = True\n",
    "    for node, w in graph[start]:\n",
    "        if not visited[node] and w >= weight:\n",
    "            dfs(node, end, weight)\n",
    "\n",
    "left = 1\n",
    "right = 1000000000\n",
    "result = 0\n",
    "while left <= right:\n",
    "    mid = (left + right) // 2\n",
    "    visited = [False] * (N+1)\n",
    "    dfs(start, end, mid)\n",
    "    if visited[end]:\n",
    "        result = mid\n",
    "        left = mid + 1\n",
    "    else:\n",
    "        right = mid - 1\n",
    "\n",
    "print(result)"
   ]
  },
  {
   "cell_type": "code",
   "execution_count": null,
   "metadata": {},
   "outputs": [],
   "source": []
  }
 ],
 "metadata": {
  "kernelspec": {
   "display_name": "base",
   "language": "python",
   "name": "python3"
  },
  "language_info": {
   "codemirror_mode": {
    "name": "ipython",
    "version": 3
   },
   "file_extension": ".py",
   "mimetype": "text/x-python",
   "name": "python",
   "nbconvert_exporter": "python",
   "pygments_lexer": "ipython3",
   "version": "3.12.7"
  }
 },
 "nbformat": 4,
 "nbformat_minor": 2
}
