{
 "cells": [
  {
   "cell_type": "code",
   "execution_count": null,
   "metadata": {},
   "outputs": [],
   "source": [
    "# 백준 14442번 - 벽 부수고 이동하기 2\n",
    "import sys\n",
    "# input = sys.stdin.readline\n",
    "from collections import deque\n",
    "sys.setrecursionlimit(10**6)\n",
    "\n",
    "N, M, K = map(int, input().split())\n",
    "graph = [list(map(int, input().strip())) for _ in range(N)]"
   ]
  },
  {
   "cell_type": "code",
   "execution_count": null,
   "metadata": {},
   "outputs": [],
   "source": [
    "# 백준 14442번 - 벽 부수고 이동하기 2\n",
    "import sys\n",
    "# input = sys.stdin.readline\n",
    "from collections import deque\n",
    "sys.setrecursionlimit(10**6)\n",
    "\n",
    "N, M, K = 6, 4, 2\n",
    "# 0100\n",
    "# 1110\n",
    "# 1000\n",
    "# 0000\n",
    "# 0111\n",
    "# 0000\n",
    "graph = [[0, 1, 0, 0], [1, 1, 1, 0], [1, 0, 0, 0], [0, 0, 0, 0], [0, 1, 1, 1], [0, 0, 0, 0]]"
   ]
  },
  {
   "cell_type": "code",
   "execution_count": 17,
   "metadata": {},
   "outputs": [
    {
     "name": "stdout",
     "output_type": "stream",
     "text": [
      "9\n"
     ]
    }
   ],
   "source": [
    "# 벽 부수고 이동하기 2 실패\n",
    "# 시간 제한\t메모리 제한\t제출\t정답\t맞힌 사람\t정답 비율\n",
    "# 2 초\t512 MB\t36219\t10253\t6849\t27.132%\n",
    "# 문제\n",
    "# N×M의 행렬로 표현되는 맵이 있다. 맵에서 0은 이동할 수 있는 곳을 나타내고, 1은 이동할 수 없는 벽이 있는 곳을 나타낸다. 당신은 (1, 1)에서 (N, M)의 위치까지 이동하려 하는데, 이때 최단 경로로 이동하려 한다. 최단경로는 맵에서 가장 적은 개수의 칸을 지나는 경로를 말하는데, 이때 시작하는 칸과 끝나는 칸도 포함해서 센다.\n",
    "\n",
    "# 만약에 이동하는 도중에 벽을 부수고 이동하는 것이 좀 더 경로가 짧아진다면, 벽을 K개 까지 부수고 이동하여도 된다.\n",
    "\n",
    "# 한 칸에서 이동할 수 있는 칸은 상하좌우로 인접한 칸이다.\n",
    "\n",
    "# 맵이 주어졌을 때, 최단 경로를 구해 내는 프로그램을 작성하시오.\n",
    "\n",
    "# 입력\n",
    "# 첫째 줄에 N(1 ≤ N ≤ 1,000), M(1 ≤ M ≤ 1,000), K(1 ≤ K ≤ 10)이 주어진다. 다음 N개의 줄에 M개의 숫자로 맵이 주어진다. (1, 1)과 (N, M)은 항상 0이라고 가정하자.\n",
    "\n",
    "# 출력\n",
    "# 첫째 줄에 최단 거리를 출력한다. 불가능할 때는 -1을 출력한다.\n",
    "def bfs():\n",
    "    queue = deque()\n",
    "    queue.append((0, 0, 1, 0))\n",
    "    visited = [[[0] * 11 for _ in range(M)] for _ in range(N)]\n",
    "    visited[0][0][0] = 1\n",
    "\n",
    "    while queue:\n",
    "        x, y, cnt, wall = queue.popleft()\n",
    "        if x == N - 1 and y == M - 1:\n",
    "            return visited[x][y][wall]\n",
    "\n",
    "        for dx, dy in (1, 0), (-1, 0), (0, 1), (0, -1):\n",
    "            nx, ny = x + dx, y + dy\n",
    "            if 0 <= nx < N and 0 <= ny < M:\n",
    "                if graph[nx][ny] == 0 and visited[nx][ny][wall] == 0:\n",
    "                    visited[nx][ny][wall] = visited[x][y][wall] + 1\n",
    "                    queue.append((nx, ny, cnt + 1, wall))\n",
    "                if wall < K and graph[nx][ny] == 1 and visited[nx][ny][wall + 1] == 0:\n",
    "                    visited[nx][ny][wall + 1] = visited[x][y][wall] + 1\n",
    "                    queue.append((nx, ny, cnt + 1, wall + 1))\n",
    "    return -1\n",
    "\n",
    "print(bfs())"
   ]
  },
  {
   "cell_type": "code",
   "execution_count": null,
   "metadata": {},
   "outputs": [],
   "source": []
  }
 ],
 "metadata": {
  "kernelspec": {
   "display_name": "base",
   "language": "python",
   "name": "python3"
  },
  "language_info": {
   "codemirror_mode": {
    "name": "ipython",
    "version": 3
   },
   "file_extension": ".py",
   "mimetype": "text/x-python",
   "name": "python",
   "nbconvert_exporter": "python",
   "pygments_lexer": "ipython3",
   "version": "3.12.7"
  }
 },
 "nbformat": 4,
 "nbformat_minor": 2
}
