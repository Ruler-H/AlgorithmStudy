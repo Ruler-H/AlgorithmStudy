{
 "cells": [
  {
   "cell_type": "code",
   "execution_count": null,
   "metadata": {},
   "outputs": [],
   "source": [
    "# 백준 30676번 - 이 별은 무슨 색일까\n",
    "import sys\n",
    "# input = sys.stdin.readline\n",
    "sys.setrecursionlimit(10**6)\n",
    "\n",
    "wave = int(input())"
   ]
  },
  {
   "cell_type": "code",
   "execution_count": null,
   "metadata": {},
   "outputs": [],
   "source": [
    "if wave < 425:\n",
    "    print(\"Violet\")\n",
    "elif wave < 450:\n",
    "    print(\"Indigo\")\n",
    "elif wave < 495:\n",
    "    print(\"Blue\")\n",
    "elif wave < 570:\n",
    "    print(\"Green\")\n",
    "elif wave < 590:\n",
    "    print(\"Yellow\")\n",
    "elif wave < 620:\n",
    "    print(\"Orange\")\n",
    "elif wave <= 780:\n",
    "    print(\"Red\")"
   ]
  },
  {
   "cell_type": "code",
   "execution_count": null,
   "metadata": {},
   "outputs": [],
   "source": []
  }
 ],
 "metadata": {
  "kernelspec": {
   "display_name": "base",
   "language": "python",
   "name": "python3"
  },
  "language_info": {
   "codemirror_mode": {
    "name": "ipython",
    "version": 3
   },
   "file_extension": ".py",
   "mimetype": "text/x-python",
   "name": "python",
   "nbconvert_exporter": "python",
   "pygments_lexer": "ipython3",
   "version": "3.12.7"
  }
 },
 "nbformat": 4,
 "nbformat_minor": 2
}
