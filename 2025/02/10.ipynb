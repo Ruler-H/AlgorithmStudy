{
 "cells": [
  {
   "cell_type": "code",
   "execution_count": null,
   "metadata": {},
   "outputs": [],
   "source": [
    "# 백준 14442번 - 벽 부수고 이동하기 2\n",
    "import sys\n",
    "# input = sys.stdin.readline\n",
    "from collections import deque\n",
    "\n",
    "N, M, K = map(int, input().split())\n",
    "graph = [list(map(int, input().strip())) for _ in range(N)]"
   ]
  },
  {
   "cell_type": "code",
   "execution_count": null,
   "metadata": {},
   "outputs": [],
   "source": [
    "dxy = [(0, 1), (1, 0), (0, -1), (-1, 0)]\n",
    "visited = [[[0] * (K+1) for _ in range(M)] for _ in range(N)]\n",
    "\n",
    "def bfs():\n",
    "    q = deque()\n",
    "    q.append((0, 0, 0))\n",
    "    visited[0][0][0] = 1\n",
    "\n",
    "    while q:\n",
    "        x, y, wall = q.popleft()\n",
    "\n",
    "        if x == N-1 and y == M-1:\n",
    "            return visited[x][y][wall]\n",
    "\n",
    "        for dx, dy in dxy:\n",
    "            nx, ny = x + dx, y + dy\n",
    "\n",
    "            if 0 <= nx < N and 0 <= ny < M:\n",
    "                if graph[nx][ny] == 0 and visited[nx][ny][wall] == 0:\n",
    "                    visited[nx][ny][wall] = visited[x][y][wall] + 1\n",
    "                    q.append((nx, ny, wall))\n",
    "                elif wall < K and graph[nx][ny] == 1 and visited[nx][ny][wall+1] == 0:\n",
    "                    visited[nx][ny][wall+1] = visited[x][y][wall] + 1\n",
    "                    q.append((nx, ny, wall+1))\n",
    "    return -1\n",
    "print(bfs())"
   ]
  },
  {
   "cell_type": "code",
   "execution_count": null,
   "metadata": {},
   "outputs": [],
   "source": []
  }
 ],
 "metadata": {
  "kernelspec": {
   "display_name": "base",
   "language": "python",
   "name": "python3"
  },
  "language_info": {
   "codemirror_mode": {
    "name": "ipython",
    "version": 3
   },
   "file_extension": ".py",
   "mimetype": "text/x-python",
   "name": "python",
   "nbconvert_exporter": "python",
   "pygments_lexer": "ipython3",
   "version": "3.12.7"
  }
 },
 "nbformat": 4,
 "nbformat_minor": 2
}
