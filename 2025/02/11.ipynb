{
 "cells": [
  {
   "cell_type": "code",
   "execution_count": null,
   "metadata": {},
   "outputs": [],
   "source": [
    "# 백준 2629번 - 양팔저울\n",
    "import sys\n",
    "# input = sys.stdin.readline\n",
    "\n",
    "n = int(input())\n",
    "weights = list(map(int, input().split()))\n",
    "m = int(input())\n",
    "balls = list(map(int, input().split()))"
   ]
  },
  {
   "cell_type": "code",
   "execution_count": null,
   "metadata": {},
   "outputs": [],
   "source": [
    "max_weight = sum(weights)\n",
    "dp = [[0] * (max_weight+1) for _ in range(n+1)]\n",
    "dp[0][0] = 1\n",
    "\n",
    "for i in range(1, n+1):\n",
    "    for j in range(max_weight+1):\n",
    "        if dp[i-1][j]:\n",
    "            dp[i][j] = 1\n",
    "            dp[i][j+weights[i-1]] = 1\n",
    "            dp[i][abs(j-weights[i-1])] = 1\n",
    "\n",
    "for ball in balls:\n",
    "    if ball <= max_weight and dp[n][ball]:\n",
    "        print(\"Y\", end=\" \")\n",
    "    else:\n",
    "        print(\"N\", end=\" \")"
   ]
  },
  {
   "cell_type": "code",
   "execution_count": null,
   "metadata": {},
   "outputs": [],
   "source": []
  }
 ],
 "metadata": {
  "kernelspec": {
   "display_name": "base",
   "language": "python",
   "name": "python3"
  },
  "language_info": {
   "codemirror_mode": {
    "name": "ipython",
    "version": 3
   },
   "file_extension": ".py",
   "mimetype": "text/x-python",
   "name": "python",
   "nbconvert_exporter": "python",
   "pygments_lexer": "ipython3",
   "version": "3.12.7"
  }
 },
 "nbformat": 4,
 "nbformat_minor": 2
}
