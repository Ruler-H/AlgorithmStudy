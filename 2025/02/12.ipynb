{
 "cells": [
  {
   "cell_type": "code",
   "execution_count": null,
   "metadata": {},
   "outputs": [],
   "source": [
    "# 백준 11437번 - LCA\n",
    "import sys\n",
    "from collections import deque\n",
    "# input = sys.stdin.readline\n",
    "sys.setrecursionlimit(10**6)\n",
    "\n",
    "N = int(input())\n",
    "tree = [[] for _ in range(N+1)]\n",
    "depth = [0] * (N+1)\n",
    "parent = [0] * (N+1)\n",
    "\n",
    "for _ in range(N-1):\n",
    "    a, b = map(int, input().split())\n",
    "    tree[a].append(b)\n",
    "    tree[b].append(a)\n",
    "\n"
   ]
  },
  {
   "cell_type": "code",
   "execution_count": null,
   "metadata": {},
   "outputs": [],
   "source": [
    "def bfs():\n",
    "    q = deque()\n",
    "    q.append(1)\n",
    "    depth[1] = 1\n",
    "    parent[1] = 1\n",
    "\n",
    "    while q:\n",
    "        node = q.popleft()\n",
    "        for i in tree[node]:\n",
    "            if depth[i] == 0:\n",
    "                depth[i] = depth[node] + 1\n",
    "                parent[i] = node\n",
    "                q.append(i)\n",
    "\n",
    "bfs()\n",
    "\n",
    "M = int(input())\n",
    "for _ in range(M):\n",
    "    a, b = map(int, input().split())\n",
    "    while depth[a] != depth[b]:\n",
    "        if depth[a] > depth[b]:\n",
    "            a = parent[a]\n",
    "        else:\n",
    "            b = parent[b]\n",
    "    while a != b:\n",
    "        a = parent[a]\n",
    "        b = parent[b]\n",
    "    print(a)"
   ]
  },
  {
   "cell_type": "code",
   "execution_count": null,
   "metadata": {},
   "outputs": [],
   "source": []
  }
 ],
 "metadata": {
  "kernelspec": {
   "display_name": "base",
   "language": "python",
   "name": "python3"
  },
  "language_info": {
   "codemirror_mode": {
    "name": "ipython",
    "version": 3
   },
   "file_extension": ".py",
   "mimetype": "text/x-python",
   "name": "python",
   "nbconvert_exporter": "python",
   "pygments_lexer": "ipython3",
   "version": "3.12.7"
  }
 },
 "nbformat": 4,
 "nbformat_minor": 2
}
