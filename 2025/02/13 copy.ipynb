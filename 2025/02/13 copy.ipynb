{
 "cells": [
  {
   "cell_type": "code",
   "execution_count": 1,
   "metadata": {},
   "outputs": [],
   "source": [
    "# 백준 1941번 - 소문난 칠공주\n",
    "import sys\n",
    "# input = sys.stdin.readline\n",
    "sys.setrecursionlimit(10**6)\n",
    "\n",
    "graph = [list(input().strip()) for _ in range(5)]"
   ]
  },
  {
   "cell_type": "code",
   "execution_count": 5,
   "metadata": {},
   "outputs": [],
   "source": [
    "# 백준 1941번 - 소문난 칠공주\n",
    "import sys\n",
    "# input = sys.stdin.readline\n",
    "sys.setrecursionlimit(10**6)\n",
    "\n",
    "# YYYYY\n",
    "# SYSYS\n",
    "# YYYYY\n",
    "# YSYYS\n",
    "# YYYYY\n",
    "graph = [[\"Y\", \"Y\", \"Y\", \"Y\", \"Y\"], [\"S\", \"Y\", \"S\", \"Y\", \"S\"], [\"Y\", \"Y\", \"Y\", \"Y\", \"Y\"], [\"Y\", \"S\", \"Y\", \"Y\", \"S\"], [\"Y\", \"Y\", \"Y\", \"Y\", \"Y\"]]"
   ]
  },
  {
   "cell_type": "code",
   "execution_count": 10,
   "metadata": {},
   "outputs": [
    {
     "name": "stdout",
     "output_type": "stream",
     "text": [
      "2\n"
     ]
    }
   ],
   "source": [
    "# 시간 제한\t메모리 제한\t제출\t정답\t맞힌 사람\t정답 비율\n",
    "# 2 초\t256 MB\t16726\t9064\t5841\t52.124%\n",
    "# 문제\n",
    "# 총 25명의 여학생들로 이루어진 여학생반은 5×5의 정사각형 격자 형태로 자리가 배치되었고, 얼마 지나지 않아 이다솜과 임도연이라는 두 학생이 두각을 나타내며 다른 학생들을 휘어잡기 시작했다. 곧 모든 여학생이 ‘이다솜파’와 ‘임도연파’의 두 파로 갈라지게 되었으며, 얼마 지나지 않아 ‘임도연파’가 세력을 확장시키며 ‘이다솜파’를 위협하기 시작했다.\n",
    "\n",
    "# 위기의식을 느낀 ‘이다솜파’의 학생들은 과감히 현재의 체제를 포기하고, ‘소문난 칠공주’를 결성하는 것이 유일한 생존 수단임을 깨달았다. ‘소문난 칠공주’는 다음과 같은 규칙을 만족해야 한다.\n",
    "\n",
    "# 이름이 이름인 만큼, 7명의 여학생들로 구성되어야 한다.\n",
    "# 강한 결속력을 위해, 7명의 자리는 서로 가로나 세로로 반드시 인접해 있어야 한다.\n",
    "# 화합과 번영을 위해, 반드시 ‘이다솜파’의 학생들로만 구성될 필요는 없다.\n",
    "# 그러나 생존을 위해, ‘이다솜파’가 반드시 우위를 점해야 한다. 따라서 7명의 학생 중 ‘이다솜파’의 학생이 적어도 4명 이상은 반드시 포함되어 있어야 한다.\n",
    "# 여학생반의 자리 배치도가 주어졌을 때, ‘소문난 칠공주’를 결성할 수 있는 모든 경우의 수를 구하는 프로그램을 작성하시오.\n",
    "\n",
    "# 입력\n",
    "# 'S'(이다‘솜’파의 학생을 나타냄) 또는 'Y'(임도‘연’파의 학생을 나타냄)을 값으로 갖는 5*5 행렬이 공백 없이 첫째 줄부터 다섯 줄에 걸쳐 주어진다.\n",
    "\n",
    "# 출력\n",
    "# 첫째 줄에 ‘소문난 칠공주’를 결성할 수 있는 모든 경우의 수를 출력한다.\n",
    "\n",
    "\n",
    "def dfs(x, y, cnt, s_cnt):\n",
    "    global result\n",
    "\n",
    "    if cnt == 7:\n",
    "        if s_cnt >= 4:\n",
    "            result += 1\n",
    "        return\n",
    "\n",
    "    for i in range(4):\n",
    "        nx = x + dx[i]\n",
    "        ny = y + dy[i]\n",
    "\n",
    "        if 0 <= nx < 5 and 0 <= ny < 5 and visited[nx][ny] == 0:\n",
    "            visited[nx][ny] = 1\n",
    "            if graph[nx][ny] == \"S\":\n",
    "                dfs(nx, ny, cnt+1, s_cnt+1)\n",
    "            else:\n",
    "                dfs(nx, ny, cnt+1, s_cnt)\n",
    "            visited[nx][ny] = 0\n",
    "\n",
    "\n",
    "dx = [0, 0, 1, -1]\n",
    "dy = [1, -1, 0, 0]\n",
    "visited = [[0] * 5 for _ in range(5)]\n",
    "result = 0\n",
    "\n",
    "for i in range(5):\n",
    "    for j in range(5):\n",
    "        visited[i][j] = 1\n",
    "        if graph[i][j] == \"S\":\n",
    "            dfs(i, j, 1, 1)\n",
    "        else:\n",
    "            dfs(i, j, 1, 0)\n",
    "        visited[i][j] = 0\n",
    "\n",
    "print(result)"
   ]
  },
  {
   "cell_type": "code",
   "execution_count": null,
   "metadata": {},
   "outputs": [],
   "source": []
  }
 ],
 "metadata": {
  "kernelspec": {
   "display_name": "base",
   "language": "python",
   "name": "python3"
  },
  "language_info": {
   "codemirror_mode": {
    "name": "ipython",
    "version": 3
   },
   "file_extension": ".py",
   "mimetype": "text/x-python",
   "name": "python",
   "nbconvert_exporter": "python",
   "pygments_lexer": "ipython3",
   "version": "3.12.7"
  }
 },
 "nbformat": 4,
 "nbformat_minor": 2
}
