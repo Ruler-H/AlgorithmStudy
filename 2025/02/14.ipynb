{
 "cells": [
  {
   "cell_type": "code",
   "execution_count": null,
   "metadata": {},
   "outputs": [],
   "source": [
    "# 백준 11655번 - ROT13\n",
    "import sys\n",
    "# input = sys.stdin.readline\n",
    "sys.setrecursionlimit(10**6)\n",
    "\n",
    "def rot13(s):\n",
    "    result = \"\"\n",
    "    for i in s:\n",
    "        if i.isupper():\n",
    "            result += chr((ord(i) - 65 + 13) % 26 + 65)\n",
    "        elif i.islower():\n",
    "            result += chr((ord(i) - 97 + 13) % 26 + 97)\n",
    "        else:\n",
    "            result += i\n",
    "    return result\n",
    "\n",
    "s = input()\n",
    "print(rot13(s))"
   ]
  },
  {
   "cell_type": "code",
   "execution_count": null,
   "metadata": {},
   "outputs": [],
   "source": []
  }
 ],
 "metadata": {
  "kernelspec": {
   "display_name": "base",
   "language": "python",
   "name": "python3"
  },
  "language_info": {
   "codemirror_mode": {
    "name": "ipython",
    "version": 3
   },
   "file_extension": ".py",
   "mimetype": "text/x-python",
   "name": "python",
   "nbconvert_exporter": "python",
   "pygments_lexer": "ipython3",
   "version": "3.12.7"
  }
 },
 "nbformat": 4,
 "nbformat_minor": 2
}
