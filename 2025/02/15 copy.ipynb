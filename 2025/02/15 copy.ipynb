{
 "cells": [
  {
   "cell_type": "code",
   "execution_count": 1,
   "metadata": {},
   "outputs": [],
   "source": [
    "# 백준 1941번 - 소문난 칠공주\n",
    "import sys\n",
    "# input = sys.stdin.readline\n",
    "sys.setrecursionlimit(10**6)\n",
    "\n",
    "graph = [list(input().strip()) for _ in range(5)]"
   ]
  },
  {
   "cell_type": "code",
   "execution_count": 1,
   "metadata": {},
   "outputs": [],
   "source": [
    "# 백준 1941번 - 소문난 칠공주\n",
    "import sys\n",
    "# input = sys.stdin.readline\n",
    "sys.setrecursionlimit(10**6)\n",
    "\n",
    "# YYYYY\n",
    "# SYSYS\n",
    "# YYYYY\n",
    "# YSYYS\n",
    "# YYYYY\n",
    "graph = [[\"Y\", \"Y\", \"Y\", \"Y\", \"Y\"], [\"S\", \"Y\", \"S\", \"Y\", \"S\"], [\"Y\", \"Y\", \"Y\", \"Y\", \"Y\"], [\"Y\", \"S\", \"Y\", \"Y\", \"S\"], [\"Y\", \"Y\", \"Y\", \"Y\", \"Y\"]]"
   ]
  },
  {
   "cell_type": "code",
   "execution_count": 6,
   "metadata": {},
   "outputs": [
    {
     "name": "stdout",
     "output_type": "stream",
     "text": [
      "2\n"
     ]
    }
   ],
   "source": [
    "dx = [0, 0, 1, -1]\n",
    "dy = [1, -1, 0, 0]\n",
    "n = 5\n",
    "result = 0\n",
    "visited = [[False] * n for _ in range(n)]\n",
    "students = []\n",
    "def dfs(x, y):\n",
    "    global result\n",
    "    if len(students) == 7:\n",
    "        s = 0\n",
    "        for student in students:\n",
    "            if graph[student[0]][student[1]] == \"S\":\n",
    "                s += 1\n",
    "        if s >= 4:\n",
    "            result += 1\n",
    "        return\n",
    "    for i in range(4):\n",
    "        nx = x + dx[i]\n",
    "        ny = y + dy[i]\n",
    "        if nx < 0 or nx >= n or ny < 0 or ny >= n:\n",
    "            continue\n",
    "        if visited[nx][ny]:\n",
    "            continue\n",
    "        visited[nx][ny] = True\n",
    "        students.append((nx, ny))\n",
    "        dfs(nx, ny)\n",
    "        visited[nx][ny] = False\n",
    "        students.pop()\n",
    "\n",
    "for i in range(n):\n",
    "    for j in range(n):\n",
    "        visited[i][j] = True\n",
    "        students.append((i, j))\n",
    "        dfs(i, j)\n",
    "        visited[i][j] = False\n",
    "        students.pop()\n",
    "print(result)"
   ]
  },
  {
   "cell_type": "code",
   "execution_count": null,
   "metadata": {},
   "outputs": [],
   "source": []
  }
 ],
 "metadata": {
  "kernelspec": {
   "display_name": "base",
   "language": "python",
   "name": "python3"
  },
  "language_info": {
   "codemirror_mode": {
    "name": "ipython",
    "version": 3
   },
   "file_extension": ".py",
   "mimetype": "text/x-python",
   "name": "python",
   "nbconvert_exporter": "python",
   "pygments_lexer": "ipython3",
   "version": "3.12.7"
  }
 },
 "nbformat": 4,
 "nbformat_minor": 2
}
