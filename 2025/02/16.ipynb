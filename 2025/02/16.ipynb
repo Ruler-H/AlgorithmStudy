{
 "cells": [
  {
   "cell_type": "code",
   "execution_count": null,
   "metadata": {},
   "outputs": [],
   "source": [
    "# 백준 10448번 - 유레카 이론\n",
    "import sys\n",
    "# input = sys.stdin.readline\n",
    "sys.setrecursionlimit(10**6)\n",
    "\n",
    "t = int(input())\n",
    "tri = [n*(n+1)//2 for n in range(1, 46)]\n",
    "tri_set = set(tri)\n",
    "\n",
    "def dfs(k, cnt):\n",
    "    if cnt == 3:\n",
    "        return 1 if k == 0 else 0\n",
    "    for i in tri:\n",
    "        if dfs(k-i, cnt+1):\n",
    "            return 1\n",
    "    return 0\n",
    "\n",
    "for _ in range(t):\n",
    "    k = int(input())\n",
    "    print(dfs(k, 0))"
   ]
  },
  {
   "cell_type": "code",
   "execution_count": null,
   "metadata": {},
   "outputs": [],
   "source": []
  }
 ],
 "metadata": {
  "kernelspec": {
   "display_name": "base",
   "language": "python",
   "name": "python3"
  },
  "language_info": {
   "codemirror_mode": {
    "name": "ipython",
    "version": 3
   },
   "file_extension": ".py",
   "mimetype": "text/x-python",
   "name": "python",
   "nbconvert_exporter": "python",
   "pygments_lexer": "ipython3",
   "version": "3.12.7"
  }
 },
 "nbformat": 4,
 "nbformat_minor": 2
}
