{
 "cells": [
  {
   "cell_type": "code",
   "execution_count": null,
   "metadata": {},
   "outputs": [],
   "source": [
    "# 백준 11557번 - Yangjojang of The Year\n",
    "import sys\n",
    "# input = sys.stdin.readline\n",
    "sys.setrecursionlimit(10**6)\n",
    "\n",
    "T = int(input().strip())\n",
    "for _ in range(T):\n",
    "    n = int(input().strip())\n",
    "    max_val = 0\n",
    "    max_name = ''\n",
    "    for _ in range(n):\n",
    "        name, val = input().strip().split()\n",
    "        val = int(val)\n",
    "        if val > max_val:\n",
    "            max_val = val\n",
    "            max_name = name\n",
    "    print(max_name)"
   ]
  },
  {
   "cell_type": "code",
   "execution_count": null,
   "metadata": {},
   "outputs": [],
   "source": []
  }
 ],
 "metadata": {
  "kernelspec": {
   "display_name": "base",
   "language": "python",
   "name": "python3"
  },
  "language_info": {
   "codemirror_mode": {
    "name": "ipython",
    "version": 3
   },
   "file_extension": ".py",
   "mimetype": "text/x-python",
   "name": "python",
   "nbconvert_exporter": "python",
   "pygments_lexer": "ipython3",
   "version": "3.12.7"
  }
 },
 "nbformat": 4,
 "nbformat_minor": 2
}
