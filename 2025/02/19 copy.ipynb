{
 "cells": [
  {
   "cell_type": "code",
   "execution_count": null,
   "metadata": {},
   "outputs": [
    {
     "name": "stdout",
     "output_type": "stream",
     "text": [
      "980806\n"
     ]
    }
   ],
   "source": [
    "# 백준 28702번 - FizzBuzz\n",
    "import sys\n",
    "# input = sys.stdin.readline\n",
    "sys.setrecursionlimit(10**6)\n",
    "\n",
    "str1 = input().strip()\n",
    "str2 = input().strip()\n",
    "str3 = input().strip()\n",
    "\n",
    "if str1.isdigit() and str2.isdigit() and str3 == \"Fizz\":\n",
    "    print(int(str2) + 2)\n",
    "elif str1.isdigit() and str2 == \"Fizz\" and str3.isdigit():\n",
    "    print(\"Buzz\")\n",
    "elif str1 == \"Fizz\" and str2.isdigit() and str3 == \"Buzz\":\n",
    "    print(\"Fizz\")\n",
    "elif str1.isdigit() and str2 == \"Buzz\" and str3 == \"Fizz\":\n",
    "    print(int(str1) + 3)\n",
    "elif str1 == \"Buzz\" and str2 == \"Fizz\" and str3.isdigit():\n",
    "    print(int(str3) + 1)\n",
    "elif str1 == \"Fizz\" and str2.isdigit() and str3.isdigit():\n",
    "    print(\"Fizz\")\n",
    "elif str1.isdigit() and str2.isdigit() and str3  == \"Fizz\":\n",
    "    print(\"Buzz\")\n",
    "elif str1.isdigit() and str2 == \"Fizz\" and str3 == \"Buzz\":\n",
    "    print(int(str1) + 3)\n",
    "elif str1 == \"Fizz\" and str2 == \"Buzz\" and str3.isdigit():\n",
    "    print(\"Fizz\")\n",
    "elif str1 == \"Buzz\" and str2.isdigit() and str3 == \"Fizz\":\n",
    "    print(int(str2) + 2)\n",
    "elif str1.isdigit() and str2 == \"Fizz\" and str3.isdigit():\n",
    "    print(int(str3) + 1)\n",
    "elif str1 == \"Fizz\" and str2.isdigit() and str3.isdigit():\n",
    "    print(\"FizzBuzz\")\n",
    "elif str1.isdigit() and str2.isdigit() and str3 == \"FizzBuzz\":\n",
    "    print(int(str2) + 2)\n",
    "elif str1.isdigit() and str2 == \"FizzBuzz\" and str3.isdigit():\n",
    "    print(int(str3) + 1)\n",
    "elif str1 == \"FizzBuzz\" and str2.isdigit() and str3.isdigit():\n",
    "    print(\"Fizz\")"
   ]
  },
  {
   "cell_type": "code",
   "execution_count": null,
   "metadata": {},
   "outputs": [],
   "source": []
  },
  {
   "cell_type": "code",
   "execution_count": null,
   "metadata": {},
   "outputs": [],
   "source": []
  }
 ],
 "metadata": {
  "kernelspec": {
   "display_name": "base",
   "language": "python",
   "name": "python3"
  },
  "language_info": {
   "codemirror_mode": {
    "name": "ipython",
    "version": 3
   },
   "file_extension": ".py",
   "mimetype": "text/x-python",
   "name": "python",
   "nbconvert_exporter": "python",
   "pygments_lexer": "ipython3",
   "version": "3.12.7"
  }
 },
 "nbformat": 4,
 "nbformat_minor": 2
}
