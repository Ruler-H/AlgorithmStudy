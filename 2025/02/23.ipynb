{
 "cells": [
  {
   "cell_type": "code",
   "execution_count": null,
   "metadata": {},
   "outputs": [],
   "source": [
    "# 백준 28702번 - FizzBuzz\n",
    "import sys\n",
    "# input = sys.stdin.readline\n",
    "sys.setrecursionlimit(10**6)\n",
    "\n",
    "str1 = input().strip()\n",
    "str2 = input().strip()\n",
    "str3 = input().strip()\n",
    "\n",
    "if str1.isdigit():\n",
    "    result = int(str1) + 3\n",
    "elif str2.isdigit():\n",
    "    result = int(str2) + 2\n",
    "else:\n",
    "    result = int(str3) + 1\n",
    "\n",
    "if result % 3 == 0:\n",
    "    if result % 5 == 0:\n",
    "        print(\"FizzBuzz\")\n",
    "    else:\n",
    "        print(\"Fizz\")\n",
    "elif result % 5 == 0:\n",
    "    print(\"Buzz\")\n",
    "else:\n",
    "    print(result)"
   ]
  },
  {
   "cell_type": "code",
   "execution_count": null,
   "metadata": {},
   "outputs": [],
   "source": []
  },
  {
   "cell_type": "code",
   "execution_count": null,
   "metadata": {},
   "outputs": [],
   "source": []
  }
 ],
 "metadata": {
  "kernelspec": {
   "display_name": "base",
   "language": "python",
   "name": "python3"
  },
  "language_info": {
   "codemirror_mode": {
    "name": "ipython",
    "version": 3
   },
   "file_extension": ".py",
   "mimetype": "text/x-python",
   "name": "python",
   "nbconvert_exporter": "python",
   "pygments_lexer": "ipython3",
   "version": "3.12.7"
  }
 },
 "nbformat": 4,
 "nbformat_minor": 2
}
