{
 "cells": [
  {
   "cell_type": "code",
   "execution_count": null,
   "metadata": {},
   "outputs": [],
   "source": [
    "# 백준 1941번 - 소문난 칠공주\n",
    "import sys\n",
    "# input = sys.stdin.readline\n",
    "sys.setrecursionlimit(10**6)\n",
    "from itertools import combinations\n",
    "\n",
    "graph = [list(input().strip()) for _ in range(5)]"
   ]
  },
  {
   "cell_type": "code",
   "execution_count": null,
   "metadata": {},
   "outputs": [],
   "source": [
    "# 백준 1941번 - 소문난 칠공주\n",
    "import sys\n",
    "# input = sys.stdin.readline\n",
    "sys.setrecursionlimit(10**6)\n",
    "from itertools import combinations\n",
    "\n",
    "# YYYYY\n",
    "# SYSYS\n",
    "# YYYYY\n",
    "# YSYYS\n",
    "# YYYYY\n",
    "graph = [[\"Y\", \"Y\", \"Y\", \"Y\", \"Y\"], [\"S\", \"Y\", \"S\", \"Y\", \"S\"], [\"Y\", \"Y\", \"Y\", \"Y\", \"Y\"], [\"Y\", \"S\", \"Y\", \"Y\", \"S\"], [\"Y\", \"Y\", \"Y\", \"Y\", \"Y\"]]"
   ]
  },
  {
   "cell_type": "code",
   "execution_count": null,
   "metadata": {},
   "outputs": [],
   "source": [
    "def is_connected(comb_list):\n",
    "    # 7명이 모두 연결되어 있는지 확인\n",
    "    visited = [[0] * 5 for _ in range(5)]\n",
    "    cnt = 1\n",
    "    stack = [comb_list[0]]\n",
    "    visited[comb_list[0][0]][comb_list[0][1]] = 1\n",
    "    while stack:\n",
    "        x, y = stack.pop()\n",
    "        for dx, dy in [(0, 1), (1, 0), (0, -1), (-1, 0)]:\n",
    "            nx, ny = x + dx, y + dy\n",
    "            if 0 <= nx < 5 and 0 <= ny < 5 and visited[nx][ny] == 0 and (nx, ny) in comb_list:\n",
    "                visited[nx][ny] = 1\n",
    "                stack.append((nx, ny))\n",
    "                cnt += 1\n",
    "\n",
    "    if cnt == 7:\n",
    "        return True\n",
    "    else:\n",
    "        return False"
   ]
  },
  {
   "cell_type": "code",
   "execution_count": null,
   "metadata": {},
   "outputs": [],
   "source": [
    "def s_cnt(comb_list):\n",
    "    cnt = 0\n",
    "    for i in comb_list:\n",
    "        if graph[i[0]][i[1]] == \"S\":\n",
    "            cnt += 1\n",
    "    return cnt\n",
    "\n",
    "result = 0\n",
    "# [(0, 0), (0, 1), (0, 2), (0, 3), (0, 4), (1, 0), (1, 1)] 형식으로 combinations\n",
    "# 25개 중 7개를 뽑는 조합\n",
    "for i in combinations([(i, j) for i in range(5) for j in range(5)], 7):\n",
    "    if s_cnt(i) >= 4 and is_connected(i):\n",
    "        result += 1\n",
    "\n",
    "print(result)"
   ]
  }
 ],
 "metadata": {
  "kernelspec": {
   "display_name": "base",
   "language": "python",
   "name": "python3"
  },
  "language_info": {
   "codemirror_mode": {
    "name": "ipython",
    "version": 3
   },
   "file_extension": ".py",
   "mimetype": "text/x-python",
   "name": "python",
   "nbconvert_exporter": "python",
   "pygments_lexer": "ipython3",
   "version": "3.12.7"
  }
 },
 "nbformat": 4,
 "nbformat_minor": 2
}
