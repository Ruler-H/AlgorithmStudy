{
 "cells": [
  {
   "cell_type": "code",
   "execution_count": null,
   "metadata": {},
   "outputs": [],
   "source": [
    "# 백준 1774번 - 우주신과의 교감\n",
    "import sys\n",
    "# input = sys.stdin.readline\n",
    "sys.setrecursionlimit(10**6)\n",
    "\n",
    "N, M = map(int, input().split())\n",
    "parent = [i for i in range(N+1)]\n",
    "planets = []\n",
    "for _ in range(N):\n",
    "    x, y = map(int, input().split())\n",
    "    planets.append((x, y))\n",
    "\n",
    "edges = []\n",
    "for _ in range(M):\n",
    "    a, b = map(int, input().split())\n",
    "    edges.append((a, b, 0))"
   ]
  },
  {
   "cell_type": "code",
   "execution_count": null,
   "metadata": {},
   "outputs": [],
   "source": [
    "for i in range(N):\n",
    "    for j in range(i+1, N):\n",
    "        x1, y1 = planets[i]\n",
    "        x2, y2 = planets[j]\n",
    "        dist = ((x1 - x2) ** 2 + (y1 - y2) ** 2) ** 0.5\n",
    "        edges.append((i+1, j+1, dist))\n",
    "\n",
    "edges.sort(key=lambda x: x[2])\n",
    "\n",
    "def find(x):\n",
    "    if parent[x] != x:\n",
    "        parent[x] = find(parent[x])\n",
    "    return parent[x]\n",
    "\n",
    "def union(x, y):\n",
    "    x = find(x)\n",
    "    y = find(y)\n",
    "    if x < y:\n",
    "        parent[y] = x\n",
    "    else:\n",
    "        parent[x] = y\n",
    "\n",
    "def is_same_parent(x, y):\n",
    "    return find(x) == find(y)\n",
    "\n",
    "result = 0\n",
    "for a, b, c in edges:\n",
    "    if not is_same_parent(a, b):\n",
    "        union(a, b)\n",
    "        result += c\n",
    "\n",
    "print(format(result, \".2f\"))"
   ]
  },
  {
   "cell_type": "code",
   "execution_count": null,
   "metadata": {},
   "outputs": [],
   "source": []
  }
 ],
 "metadata": {
  "kernelspec": {
   "display_name": "base",
   "language": "python",
   "name": "python3"
  },
  "language_info": {
   "codemirror_mode": {
    "name": "ipython",
    "version": 3
   },
   "file_extension": ".py",
   "mimetype": "text/x-python",
   "name": "python",
   "nbconvert_exporter": "python",
   "pygments_lexer": "ipython3",
   "version": "3.12.7"
  }
 },
 "nbformat": 4,
 "nbformat_minor": 2
}
