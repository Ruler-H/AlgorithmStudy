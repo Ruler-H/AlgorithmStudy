{
 "cells": [
  {
   "cell_type": "code",
   "execution_count": null,
   "metadata": {},
   "outputs": [],
   "source": [
    "# 백준 3985번 - 롤 케이크\n",
    "import sys\n",
    "# input = sys.stdin.readline\n",
    "sys.setrecursionlimit(10**6)\n",
    "\n",
    "L = int(input())\n",
    "N = int(input())\n",
    "cake = [0] * L\n",
    "want_list = []\n",
    "\n",
    "for i in range(N):\n",
    "    P, K = map(int, input().split())\n",
    "    want_list.append((P, K))\n",
    "\n",
    "for i in range(N):\n",
    "    for j in range(want_list[i][0] - 1, want_list[i][1]):\n",
    "        if cake[j] == 0:\n",
    "            cake[j] = i + 1\n",
    "\n",
    "max_cnt = 0\n",
    "max_cnt_idx = 0\n",
    "for i in range(N):\n",
    "    cnt = cake.count(i + 1)\n",
    "    if cnt > max_cnt:\n",
    "        max_cnt = cnt\n",
    "        max_cnt_idx = i\n",
    "\n",
    "max_expect = 0\n",
    "max_expect_idx = 0\n",
    "for i in range(N):\n",
    "    expect = want_list[i][1] - want_list[i][0] + 1\n",
    "    if expect > max_expect:\n",
    "        max_expect = expect\n",
    "        max_expect_idx = i\n",
    "print(max_expect_idx + 1)\n",
    "print(max_cnt_idx + 1)"
   ]
  },
  {
   "cell_type": "code",
   "execution_count": null,
   "metadata": {},
   "outputs": [],
   "source": []
  }
 ],
 "metadata": {
  "kernelspec": {
   "display_name": "base",
   "language": "python",
   "name": "python3"
  },
  "language_info": {
   "codemirror_mode": {
    "name": "ipython",
    "version": 3
   },
   "file_extension": ".py",
   "mimetype": "text/x-python",
   "name": "python",
   "nbconvert_exporter": "python",
   "pygments_lexer": "ipython3",
   "version": "3.12.7"
  }
 },
 "nbformat": 4,
 "nbformat_minor": 2
}
