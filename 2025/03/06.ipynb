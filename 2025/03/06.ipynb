{
 "cells": [
  {
   "cell_type": "code",
   "execution_count": null,
   "metadata": {},
   "outputs": [],
   "source": [
    "# 백준 13904번 - 과제\n",
    "import sys\n",
    "# input = sys.stdin.readline\n",
    "sys.setrecursionlimit(10**6)\n",
    "\n",
    "N = int(input())\n",
    "max_day = 0\n",
    "homework = []\n",
    "for _ in range(N):\n",
    "    d, w = map(int, input().split())\n",
    "    max_day = max(max_day, d)\n",
    "    homework.append((d, w))"
   ]
  },
  {
   "cell_type": "code",
   "execution_count": null,
   "metadata": {},
   "outputs": [],
   "source": [
    "day_dict = {}\n",
    "for i in range(1, max_day+1):\n",
    "    day_dict[i] = 0\n",
    "for d, w in homework:\n",
    "    for i in range(d, 0, -1):\n",
    "        if day_dict[i] < w:\n",
    "            day_dict[i], w = w, day_dict[i]\n",
    "print(sum(day_dict.values()))"
   ]
  },
  {
   "cell_type": "code",
   "execution_count": null,
   "metadata": {},
   "outputs": [],
   "source": []
  }
 ],
 "metadata": {
  "kernelspec": {
   "display_name": "base",
   "language": "python",
   "name": "python3"
  },
  "language_info": {
   "codemirror_mode": {
    "name": "ipython",
    "version": 3
   },
   "file_extension": ".py",
   "mimetype": "text/x-python",
   "name": "python",
   "nbconvert_exporter": "python",
   "pygments_lexer": "ipython3",
   "version": "3.12.7"
  }
 },
 "nbformat": 4,
 "nbformat_minor": 2
}
