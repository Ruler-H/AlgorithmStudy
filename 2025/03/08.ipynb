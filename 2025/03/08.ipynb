{
 "cells": [
  {
   "cell_type": "code",
   "execution_count": null,
   "metadata": {},
   "outputs": [],
   "source": [
    "# 백준 2109번 - 순회강연\n",
    "import sys\n",
    "# input = sys.stdin.readline\n",
    "sys.setrecursionlimit(10**6)\n",
    "\n",
    "n = int(input())\n",
    "max_day = 0\n",
    "data = []\n",
    "for _ in range(n):\n",
    "    p, d = map(int, input().split())\n",
    "    data.append((p, d))\n",
    "    max_day = max(max_day, d)"
   ]
  },
  {
   "cell_type": "code",
   "execution_count": null,
   "metadata": {},
   "outputs": [],
   "source": [
    "day_dict = {}\n",
    "for i in range(1, max_day+1):\n",
    "    day_dict[i] = 0\n",
    "for p, d in data:\n",
    "    for i in range(d, 0, -1):\n",
    "        if day_dict[i] < p:\n",
    "            day_dict[i], p = p, day_dict[i]\n",
    "\n",
    "print(sum(day_dict.values()))"
   ]
  },
  {
   "cell_type": "code",
   "execution_count": null,
   "metadata": {},
   "outputs": [],
   "source": []
  }
 ],
 "metadata": {
  "kernelspec": {
   "display_name": "base",
   "language": "python",
   "name": "python3"
  },
  "language_info": {
   "codemirror_mode": {
    "name": "ipython",
    "version": 3
   },
   "file_extension": ".py",
   "mimetype": "text/x-python",
   "name": "python",
   "nbconvert_exporter": "python",
   "pygments_lexer": "ipython3",
   "version": "3.12.7"
  }
 },
 "nbformat": 4,
 "nbformat_minor": 2
}
