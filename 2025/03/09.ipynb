{
 "cells": [
  {
   "cell_type": "code",
   "execution_count": null,
   "metadata": {},
   "outputs": [],
   "source": [
    "# 백준 2342번 - Dance Dance Revolution\n",
    "import sys\n",
    "# input = sys.stdin.readline\n",
    "sys.setrecursionlimit(10**6)\n",
    "\n",
    "orders = list(map(int, input().split()))"
   ]
  },
  {
   "cell_type": "code",
   "execution_count": null,
   "metadata": {},
   "outputs": [],
   "source": [
    "def get_cost(a, b):\n",
    "    if a == 0:\n",
    "        return 2\n",
    "    if a == b:\n",
    "        return 1\n",
    "    if abs(a-b) == 2:\n",
    "        return 4\n",
    "    return 3\n",
    "\n",
    "dp = [[[0 for _ in range(5)] for _ in range(5)] for _ in range(100001)]\n",
    "n = 0\n",
    "\n",
    "def solve(idx, left, right):\n",
    "    if idx == n:\n",
    "        return 0\n",
    "\n",
    "    if dp[idx][left][right] != 0:\n",
    "        return dp[idx][left][right]\n",
    "\n",
    "    dp[idx][left][right] = min(solve(idx+1, orders[idx], right) + get_cost(left, orders[idx]), solve(idx+1, left, orders[idx]) + get_cost(right, orders[idx]))\n",
    "    return dp[idx][left][right]\n",
    "\n",
    "while orders[n] != 0:\n",
    "    n += 1\n",
    "\n",
    "print(solve(0, 0, 0))\n"
   ]
  }
 ],
 "metadata": {
  "kernelspec": {
   "display_name": "base",
   "language": "python",
   "name": "python3"
  },
  "language_info": {
   "codemirror_mode": {
    "name": "ipython",
    "version": 3
   },
   "file_extension": ".py",
   "mimetype": "text/x-python",
   "name": "python",
   "nbconvert_exporter": "python",
   "pygments_lexer": "ipython3",
   "version": "3.12.7"
  }
 },
 "nbformat": 4,
 "nbformat_minor": 2
}
