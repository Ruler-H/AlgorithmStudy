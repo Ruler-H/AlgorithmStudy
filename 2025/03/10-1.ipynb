{
 "cells": [
  {
   "cell_type": "code",
   "execution_count": null,
   "metadata": {},
   "outputs": [],
   "source": [
    "# 백준 10163번 - 색종이\n",
    "import sys\n",
    "# input = sys.stdin.readline\n",
    "sys.setrecursionlimit(10**6)\n",
    "\n",
    "n = int(input())\n",
    "paper = [[0] * 101 for _ in range(101)]\n",
    "result = [0] * (n+1)\n",
    "\n",
    "for i in range(1, n+1):\n",
    "    x, y, w, h = map(int, input().split())\n",
    "    for j in range(x, x+w):\n",
    "        for k in range(y, y+h):\n",
    "            paper[j][k] = i\n",
    "\n",
    "for i in range(101):\n",
    "    for j in range(101):\n",
    "        result[paper[i][j]] += 1\n",
    "\n",
    "for i in range(1, n+1):\n",
    "    print(result[i])"
   ]
  }
 ],
 "metadata": {
  "kernelspec": {
   "display_name": "base",
   "language": "python",
   "name": "python3"
  },
  "language_info": {
   "codemirror_mode": {
    "name": "ipython",
    "version": 3
   },
   "file_extension": ".py",
   "mimetype": "text/x-python",
   "name": "python",
   "nbconvert_exporter": "python",
   "pygments_lexer": "ipython3",
   "version": "3.12.7"
  }
 },
 "nbformat": 4,
 "nbformat_minor": 2
}
