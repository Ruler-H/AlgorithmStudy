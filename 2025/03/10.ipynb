{
 "cells": [
  {
   "cell_type": "code",
   "execution_count": null,
   "metadata": {},
   "outputs": [],
   "source": [
    "# 백준 10769번 - 행복한지 슬픈지\n",
    "import sys\n",
    "# input = sys.stdin.readline\n",
    "sys.setrecursionlimit(10**6)\n",
    "\n",
    "inp_str = input().strip()\n",
    "happy = 0\n",
    "sad = 0\n",
    "\n",
    "for i in range(len(inp_str)-2):\n",
    "    if inp_str[i:i+3] == \":-)\":\n",
    "        happy += 1\n",
    "    elif inp_str[i:i+3] == \":-(\":\n",
    "        sad += 1\n",
    "\n",
    "if happy == 0 and sad == 0:\n",
    "    print(\"none\")\n",
    "elif happy == sad:\n",
    "    print(\"unsure\")\n",
    "elif happy > sad:\n",
    "    print(\"happy\")\n",
    "else:\n",
    "    print(\"sad\")"
   ]
  }
 ],
 "metadata": {
  "kernelspec": {
   "display_name": "base",
   "language": "python",
   "name": "python3"
  },
  "language_info": {
   "codemirror_mode": {
    "name": "ipython",
    "version": 3
   },
   "file_extension": ".py",
   "mimetype": "text/x-python",
   "name": "python",
   "nbconvert_exporter": "python",
   "pygments_lexer": "ipython3",
   "version": "3.12.7"
  }
 },
 "nbformat": 4,
 "nbformat_minor": 2
}
