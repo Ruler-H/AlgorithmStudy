{
 "cells": [
  {
   "cell_type": "code",
   "execution_count": null,
   "metadata": {},
   "outputs": [],
   "source": [
    "# 백준 14725번 - 개미굴\n",
    "import sys\n",
    "# input = sys.stdin.readline\n",
    "sys.setrecursionlimit(10**6)\n",
    "\n",
    "N = int(input())"
   ]
  },
  {
   "cell_type": "code",
   "execution_count": null,
   "metadata": {},
   "outputs": [],
   "source": [
    "ant_tunnel = {}\n",
    "for _ in range(N):\n",
    "    feed_info = list(input().split())\n",
    "    feed_info.pop(0)\n",
    "    for i in range(len(feed_info)):\n",
    "        target = ant_tunnel\n",
    "        for j in range(i):\n",
    "            target = target[feed_info[j]]\n",
    "        if feed_info[i] not in target:\n",
    "            target[feed_info[i]] = {}\n",
    "        target = target[feed_info[i]]\n",
    "\n",
    "def dfs(ant_tunnel, depth):\n",
    "    for key in sorted(ant_tunnel):\n",
    "        print(\"--\" * depth + key)\n",
    "        dfs(ant_tunnel[key], depth + 1)\n",
    "\n",
    "dfs(ant_tunnel, 0)"
   ]
  },
  {
   "cell_type": "code",
   "execution_count": null,
   "metadata": {},
   "outputs": [],
   "source": []
  }
 ],
 "metadata": {
  "kernelspec": {
   "display_name": "base",
   "language": "python",
   "name": "python3"
  },
  "language_info": {
   "codemirror_mode": {
    "name": "ipython",
    "version": 3
   },
   "file_extension": ".py",
   "mimetype": "text/x-python",
   "name": "python",
   "nbconvert_exporter": "python",
   "pygments_lexer": "ipython3",
   "version": "3.12.7"
  }
 },
 "nbformat": 4,
 "nbformat_minor": 2
}
