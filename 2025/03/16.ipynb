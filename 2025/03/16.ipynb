{
 "cells": [
  {
   "cell_type": "code",
   "execution_count": null,
   "metadata": {},
   "outputs": [],
   "source": [
    "# 백준 2234번 - 성곽\n",
    "import sys\n",
    "# input = sys.stdin.readline\n",
    "sys.setrecursionlimit(10**6)\n",
    "\n",
    "N, M = map(int, input().split())\n",
    "castle = [list(map(int, input().split())) for _ in range(M)]"
   ]
  },
  {
   "cell_type": "code",
   "execution_count": null,
   "metadata": {},
   "outputs": [],
   "source": [
    "# 백준 2234번 - 성곽\n",
    "import sys\n",
    "# input = sys.stdin.readline\n",
    "sys.setrecursionlimit(10**6)\n",
    "\n",
    "N, M = 7, 4\n",
    "# 11 6 11 6 3 10 6\n",
    "# 7 9 6 13 5 15 5\n",
    "# 1 10 12 7 13 7 5\n",
    "# 13 11 10 8 10 12 13\n",
    "castle = [\n",
    "    [11, 6, 11, 6, 3, 10, 6], \n",
    "    [7, 9, 6, 13, 5, 15, 5], \n",
    "    [1, 10, 12, 7, 13, 7, 5], \n",
    "    [13, 11, 10, 8, 10, 12, 13]\n",
    "    ]"
   ]
  },
  {
   "cell_type": "code",
   "execution_count": null,
   "metadata": {},
   "outputs": [],
   "source": [
    "# 1. 방의 개수와 각 방의 크기 구하기\n",
    "# 2. 벽을 하나 제거했을 때 가장 넓은 방의 크기 구하기\n",
    "\n",
    "# 방향\n",
    "dx = [0, -1, 0, 1]\n",
    "dy = [-1, 0, 1, 0]\n",
    "# 서, 북, 동, 남\n",
    "\n",
    "# 방의 개수와 각 방의 크기 구하기\n",
    "def dfs(x, y, room):\n",
    "    global room_cnt\n",
    "    room[x][y] = room_cnt\n",
    "    cnt = 1\n",
    "    for i in range(4):\n",
    "        if castle[x][y] & (1 << i) == 0:\n",
    "            nx = x + dx[i]\n",
    "            ny = y + dy[i]\n",
    "            if 0 <= nx < M and 0 <= ny < N and room[nx][ny] == 0:\n",
    "                cnt += dfs(nx, ny, room)\n",
    "    return cnt\n",
    "\n",
    "room_cnt = 0\n",
    "room = [[0] * N for _ in range(M)]\n",
    "room_size = [0]\n",
    "for i in range(M):\n",
    "    for j in range(N):\n",
    "        if room[i][j] == 0:\n",
    "            room_cnt += 1\n",
    "            room_size.append(dfs(i, j, room))\n",
    "\n",
    "print(room_cnt)\n",
    "print(max(room_size))\n",
    "\n",
    "# 벽을 하나 제거했을 때 가장 넓은 방의 크기 구하기\n",
    "max_room = 0\n",
    "for i in range(M):\n",
    "    for j in range(N):\n",
    "        for k in range(4):\n",
    "            if castle[i][j] & (1 << k) != 0:\n",
    "                nx = i + dx[k]\n",
    "                ny = j + dy[k]\n",
    "                if 0 <= nx < M and 0 <= ny < N and room[i][j] != room[nx][ny]:\n",
    "                    max_room = max(max_room, room_size[room[i][j]] + room_size[room[nx][ny]])\n",
    "print(max_room)"
   ]
  },
  {
   "cell_type": "code",
   "execution_count": null,
   "metadata": {},
   "outputs": [],
   "source": [
    "1 << 0, 1 << 1, 1 << 2, 1 << 3"
   ]
  },
  {
   "cell_type": "code",
   "execution_count": null,
   "metadata": {},
   "outputs": [],
   "source": []
  }
 ],
 "metadata": {
  "kernelspec": {
   "display_name": "base",
   "language": "python",
   "name": "python3"
  },
  "language_info": {
   "codemirror_mode": {
    "name": "ipython",
    "version": 3
   },
   "file_extension": ".py",
   "mimetype": "text/x-python",
   "name": "python",
   "nbconvert_exporter": "python",
   "pygments_lexer": "ipython3",
   "version": "3.12.7"
  }
 },
 "nbformat": 4,
 "nbformat_minor": 2
}
