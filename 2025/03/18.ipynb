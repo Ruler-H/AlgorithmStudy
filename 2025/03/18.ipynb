{
 "cells": [
  {
   "cell_type": "code",
   "execution_count": null,
   "metadata": {},
   "outputs": [],
   "source": [
    "# 백준 5533번 - 유니크\n",
    "import sys\n",
    "# input = sys.stdin.readline\n",
    "sys.setrecursionlimit(10**6)\n",
    "\n",
    "N = int(input())\n",
    "score = [list(map(int, input().split())) for _ in range(N)]\n",
    "result = [0] * N\n",
    "\n",
    "for i in range(3):\n",
    "    for j in range(N):\n",
    "        count = 0\n",
    "        for k in range(N):\n",
    "            if score[j][i] == score[k][i]:\n",
    "                count += 1\n",
    "        if count == 1:\n",
    "            result[j] += score[j][i]\n",
    "\n",
    "for i in range(N):\n",
    "    print(result[i])"
   ]
  },
  {
   "cell_type": "code",
   "execution_count": null,
   "metadata": {},
   "outputs": [],
   "source": []
  }
 ],
 "metadata": {
  "kernelspec": {
   "display_name": "base",
   "language": "python",
   "name": "python3"
  },
  "language_info": {
   "codemirror_mode": {
    "name": "ipython",
    "version": 3
   },
   "file_extension": ".py",
   "mimetype": "text/x-python",
   "name": "python",
   "nbconvert_exporter": "python",
   "pygments_lexer": "ipython3",
   "version": "3.12.7"
  }
 },
 "nbformat": 4,
 "nbformat_minor": 2
}
