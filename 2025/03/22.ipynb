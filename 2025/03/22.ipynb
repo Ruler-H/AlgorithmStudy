{
 "cells": [
  {
   "cell_type": "code",
   "execution_count": null,
   "metadata": {},
   "outputs": [],
   "source": [
    "# 백준 20058번 - 마법사 상어와 파이어스톰\n",
    "import sys\n",
    "# input = sys.stdin.readline\n",
    "sys.setrecursionlimit(10**6)\n",
    "\n",
    "N, Q = map(int, input().split())\n",
    "N = 2 ** N\n",
    "ice_sheet = [list(map(int, input().split())) for _ in range(N)]\n",
    "L = list(map(int, input().split()))"
   ]
  },
  {
   "cell_type": "code",
   "execution_count": null,
   "metadata": {},
   "outputs": [],
   "source": [
    "def rotate_ice_sheet(L):\n",
    "    global ice_sheet\n",
    "    new_ice_sheet = [[0] * N for _ in range(N)]\n",
    "    for i in range(0, N, 2 ** L):\n",
    "        for j in range(0, N, 2 ** L):\n",
    "            for x in range(2 ** L):\n",
    "                for y in range(2 ** L):\n",
    "                    new_ice_sheet[i + y][j + 2 ** L - 1 - x] = ice_sheet[i + x][j + y]\n",
    "    ice_sheet = new_ice_sheet\n",
    "\n",
    "def melt_ice_sheet():\n",
    "    global ice_sheet\n",
    "    new_ice_sheet = [[0] * N for _ in range(N)]\n",
    "    for i in range(N):\n",
    "        for j in range(N):\n",
    "            if ice_sheet[i][j] == 0:\n",
    "                continue\n",
    "            count = 0\n",
    "            for dx, dy in [(0, 1), (0, -1), (1, 0), (-1, 0)]:\n",
    "                nx, ny = i + dx, j + dy\n",
    "                if 0 <= nx < N and 0 <= ny < N and ice_sheet[nx][ny] > 0:\n",
    "                    count += 1\n",
    "            if count < 3:\n",
    "                new_ice_sheet[i][j] = ice_sheet[i][j] - 1\n",
    "            else:\n",
    "                new_ice_sheet[i][j] = ice_sheet[i][j]\n",
    "    ice_sheet = new_ice_sheet\n",
    "\n",
    "def bfs(x, y):\n",
    "    global ice_sheet\n",
    "    queue = [(x, y)]\n",
    "    visited[x][y] = True\n",
    "    count = 1\n",
    "    while queue:\n",
    "        x, y = queue.pop()\n",
    "        for dx, dy in [(0, 1), (0, -1), (1, 0), (-1, 0)]:\n",
    "            nx, ny = x + dx, y + dy\n",
    "            if 0 <= nx < N and 0 <= ny < N and not visited[nx][ny] and ice_sheet[nx][ny] > 0:\n",
    "                visited[nx][ny] = True\n",
    "                queue.append((nx, ny))\n",
    "                count += 1\n",
    "    return count\n",
    "\n",
    "for l in L:\n",
    "    rotate_ice_sheet(l)\n",
    "    melt_ice_sheet()\n",
    "\n",
    "visited = [[False] * N for _ in range(N)]\n",
    "answer = 0\n",
    "for i in range(N):\n",
    "    for j in range(N):\n",
    "        if not visited[i][j] and ice_sheet[i][j] > 0:\n",
    "            answer = max(answer, bfs(i, j))\n",
    "print(sum(map(sum, ice_sheet)))\n",
    "print(answer)"
   ]
  },
  {
   "cell_type": "code",
   "execution_count": null,
   "metadata": {},
   "outputs": [],
   "source": []
  }
 ],
 "metadata": {
  "kernelspec": {
   "display_name": "base",
   "language": "python",
   "name": "python3"
  },
  "language_info": {
   "codemirror_mode": {
    "name": "ipython",
    "version": 3
   },
   "file_extension": ".py",
   "mimetype": "text/x-python",
   "name": "python",
   "nbconvert_exporter": "python",
   "pygments_lexer": "ipython3",
   "version": "3.12.7"
  }
 },
 "nbformat": 4,
 "nbformat_minor": 2
}
