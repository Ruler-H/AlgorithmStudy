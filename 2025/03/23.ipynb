{
 "cells": [
  {
   "cell_type": "code",
   "execution_count": null,
   "metadata": {},
   "outputs": [],
   "source": [
    "# 백준 2457번 - 공주님의 정원\n",
    "import sys\n",
    "# input = sys.stdin.readline\n",
    "sys.setrecursionlimit(10**6)\n",
    "\n",
    "N = int(input())\n",
    "flowers = [list(map(int, input().split())) for _ in range(N)]"
   ]
  },
  {
   "cell_type": "code",
   "execution_count": null,
   "metadata": {},
   "outputs": [],
   "source": [
    "flowers.sort(key=lambda x: (x[0], x[1], x[2], x[3]))\n",
    "\n",
    "def get_date(month, day):\n",
    "    return month * 100 + day\n",
    "\n",
    "def get_month_day(date):\n",
    "    return date // 100, date % 100\n",
    "\n",
    "result = 0\n",
    "end = get_date(3, 1)\n",
    "i = 0\n",
    "while i < N and get_date(flowers[i][0], flowers[i][1]) <= end:\n",
    "    max_end = 0\n",
    "    while i < N and get_date(flowers[i][0], flowers[i][1]) <= end:\n",
    "        if get_date(flowers[i][2], flowers[i][3]) > max_end:\n",
    "            max_end = get_date(flowers[i][2], flowers[i][3])\n",
    "            max_i = i\n",
    "        i += 1\n",
    "    result += 1\n",
    "    end = max_end\n",
    "    if end >= get_date(12, 1):\n",
    "        break\n",
    "    if i < N and get_date(flowers[i][0], flowers[i][1]) > end:\n",
    "        break\n",
    "\n",
    "if end < get_date(12, 1):\n",
    "    print(0)\n",
    "else:\n",
    "    print(result)"
   ]
  },
  {
   "cell_type": "code",
   "execution_count": null,
   "metadata": {},
   "outputs": [],
   "source": []
  }
 ],
 "metadata": {
  "kernelspec": {
   "display_name": "base",
   "language": "python",
   "name": "python3"
  },
  "language_info": {
   "codemirror_mode": {
    "name": "ipython",
    "version": 3
   },
   "file_extension": ".py",
   "mimetype": "text/x-python",
   "name": "python",
   "nbconvert_exporter": "python",
   "pygments_lexer": "ipython3",
   "version": "3.12.7"
  }
 },
 "nbformat": 4,
 "nbformat_minor": 2
}
