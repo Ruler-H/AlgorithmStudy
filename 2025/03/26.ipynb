{
 "cells": [
  {
   "cell_type": "code",
   "execution_count": null,
   "metadata": {},
   "outputs": [],
   "source": [
    "# 백준 18409번 - Counting Vowels\n",
    "import sys\n",
    "# input = sys.stdin.readline\n",
    "sys.setrecursionlimit(10**6)\n",
    "\n",
    "S = int(input())\n",
    "words = input().strip()\n",
    "\n",
    "def check_vowel(words):\n",
    "    cnt = 0\n",
    "    for i in range(len(words)):\n",
    "        if words[i] in ['a', 'e', 'i', 'o', 'u']:\n",
    "            cnt += 1\n",
    "    return cnt\n",
    "\n",
    "print(check_vowel(words))"
   ]
  },
  {
   "cell_type": "code",
   "execution_count": null,
   "metadata": {},
   "outputs": [],
   "source": []
  }
 ],
 "metadata": {
  "kernelspec": {
   "display_name": "base",
   "language": "python",
   "name": "python3"
  },
  "language_info": {
   "codemirror_mode": {
    "name": "ipython",
    "version": 3
   },
   "file_extension": ".py",
   "mimetype": "text/x-python",
   "name": "python",
   "nbconvert_exporter": "python",
   "pygments_lexer": "ipython3",
   "version": "3.12.7"
  }
 },
 "nbformat": 4,
 "nbformat_minor": 2
}
