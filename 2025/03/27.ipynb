{
 "cells": [
  {
   "cell_type": "code",
   "execution_count": null,
   "metadata": {},
   "outputs": [],
   "source": [
    "# 백준 17009번 - Winning Score\n",
    "import sys\n",
    "# input = sys.stdin.readline\n",
    "sys.setrecursionlimit(10**6)\n",
    "\n",
    "a = 3 * int(input())\n",
    "a += 2 * int(input())\n",
    "a += 1 * int(input())\n",
    "b = 3 * int(input())\n",
    "b += 2 * int(input())\n",
    "b += 1 * int(input())\n",
    "\n",
    "if a > b:\n",
    "    print(\"A\")\n",
    "elif a < b:\n",
    "    print(\"B\")\n",
    "else:\n",
    "    print(\"T\") "
   ]
  },
  {
   "cell_type": "code",
   "execution_count": null,
   "metadata": {},
   "outputs": [],
   "source": []
  }
 ],
 "metadata": {
  "kernelspec": {
   "display_name": "base",
   "language": "python",
   "name": "python3"
  },
  "language_info": {
   "codemirror_mode": {
    "name": "ipython",
    "version": 3
   },
   "file_extension": ".py",
   "mimetype": "text/x-python",
   "name": "python",
   "nbconvert_exporter": "python",
   "pygments_lexer": "ipython3",
   "version": "3.12.7"
  }
 },
 "nbformat": 4,
 "nbformat_minor": 2
}
