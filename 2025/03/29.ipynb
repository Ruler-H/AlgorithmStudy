{
 "cells": [
  {
   "cell_type": "code",
   "execution_count": null,
   "metadata": {},
   "outputs": [],
   "source": [
    "# 백준 1613번 - 역사\n",
    "import sys\n",
    "# input = sys.stdin.readline\n",
    "sys.setrecursionlimit(10**6)\n",
    "\n",
    "n, k = map(int, input().split())\n",
    "graph = [[0] * (n + 1) for _ in range(n + 1)]\n",
    "for _ in range(k):\n",
    "    a, b = map(int, input().split())\n",
    "    graph[a][b] = 1\n",
    "    graph[b][a] = -1\n",
    "m = int(input())\n",
    "query = [list(map(int, input().split())) for _ in range(m)]\n",
    "\n",
    "for k in range(1, n + 1):\n",
    "    for i in range(1, n + 1):\n",
    "        for j in range(1, n + 1):\n",
    "            if graph[i][k] == 1 and graph[k][j] == 1:\n",
    "                graph[i][j] = 1\n",
    "            elif graph[i][k] == -1 and graph[k][j] == -1:\n",
    "                graph[i][j] = -1\n",
    "\n",
    "for a, b in query:\n",
    "    if graph[a][b] == 1:\n",
    "        print(-1)\n",
    "    elif graph[a][b] == -1:\n",
    "        print(1)\n",
    "    else:\n",
    "        print(0)"
   ]
  },
  {
   "cell_type": "code",
   "execution_count": null,
   "metadata": {},
   "outputs": [],
   "source": []
  }
 ],
 "metadata": {
  "kernelspec": {
   "display_name": "base",
   "language": "python",
   "name": "python3"
  },
  "language_info": {
   "codemirror_mode": {
    "name": "ipython",
    "version": 3
   },
   "file_extension": ".py",
   "mimetype": "text/x-python",
   "name": "python",
   "nbconvert_exporter": "python",
   "pygments_lexer": "ipython3",
   "version": "3.12.7"
  }
 },
 "nbformat": 4,
 "nbformat_minor": 2
}
