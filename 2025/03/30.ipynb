{
 "cells": [
  {
   "cell_type": "code",
   "execution_count": null,
   "metadata": {},
   "outputs": [],
   "source": [
    "# 백준 2482번 - 색상환\n",
    "import sys\n",
    "# input = sys.stdin.readline\n",
    "\n",
    "N = int(input())\n",
    "K = int(input())"
   ]
  },
  {
   "cell_type": "code",
   "execution_count": null,
   "metadata": {},
   "outputs": [],
   "source": [
    "def calculate_combinations(n, k, dp):\n",
    "    \"\"\"\n",
    "    DP를 사용하여 특수 조합의 수를 계산하는 재귀 함수\n",
    "    \"\"\"\n",
    "    # 예외 처리: k가 n/2보다 크면 0 반환\n",
    "    if k > (n / 2):\n",
    "        dp[n][k] = 0\n",
    "        return 0\n",
    "        \n",
    "    # 이미 계산된 값이면 바로 반환 (메모이제이션)\n",
    "    if dp[n][k] != -1:\n",
    "        return dp[n][k]\n",
    "        \n",
    "    # 점화식: dp[n][k] = dp[n-1][k] + dp[n-2][k-1]\n",
    "    dp[n][k] = calculate_combinations(n - 1, k, dp) + calculate_combinations(n - 2, k - 1, dp)\n",
    "    \n",
    "    # 큰 수 처리 (모듈로 연산)\n",
    "    MOD = 1000000003\n",
    "    if dp[n][k] > MOD:\n",
    "        dp[n][k] %= MOD\n",
    "        \n",
    "    return dp[n][k]\n",
    "\n",
    "# 결과를 저장할 DP 테이블 초기화 (-1은 아직 계산되지 않은 값을 의미)\n",
    "dp = [[-1] * (N + 1) for _ in range(N + 1)]\n",
    "\n",
    "# 기본 경우(Base cases) 초기화\n",
    "for i in range(N + 1):\n",
    "    dp[i][0] = 1  # i개 중 0개 선택하는 방법은 1가지\n",
    "    dp[i][1] = i  # i개 중 1개 선택하는 방법은 i가지\n",
    "\n",
    "# 재귀적으로 문제 해결\n",
    "result = calculate_combinations(N, K, dp)\n",
    "\n",
    "print(result)"
   ]
  },
  {
   "cell_type": "code",
   "execution_count": null,
   "metadata": {},
   "outputs": [],
   "source": []
  }
 ],
 "metadata": {
  "kernelspec": {
   "display_name": "base",
   "language": "python",
   "name": "python3"
  },
  "language_info": {
   "codemirror_mode": {
    "name": "ipython",
    "version": 3
   },
   "file_extension": ".py",
   "mimetype": "text/x-python",
   "name": "python",
   "nbconvert_exporter": "python",
   "pygments_lexer": "ipython3",
   "version": "3.12.7"
  }
 },
 "nbformat": 4,
 "nbformat_minor": 2
}
