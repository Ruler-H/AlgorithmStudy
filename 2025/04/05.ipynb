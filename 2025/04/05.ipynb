{
 "cells": [
  {
   "cell_type": "code",
   "execution_count": null,
   "metadata": {},
   "outputs": [],
   "source": [
    "# 백준 17386번 - 선분 교차 1\n",
    "import sys\n",
    "# input = sys.stdin.readline\n",
    "\n",
    "def CCW(A, B, C):\n",
    "\tresult = (B.x - A.x) * (C.y - A.y) - (B.y - A.y) * (C.x - A.x)\n",
    "\t\n",
    "\tif result > 0:\n",
    "\t\treturn 1\n",
    "\telif result < 0:\n",
    "\t\treturn -1\n",
    "\telse:\n",
    "\t\treturn 0\n",
    "\t\n",
    "def isCross(A, B, C, D):\n",
    "    if CCW(A, B, C) * CCW(A, B, D) <= 0 and CCW(C, D, A) * CCW(C, D, B) <= 0:\n",
    "        return True\n",
    "    return False\n",
    "\n",
    "def isOnSegment(A, B, C):\n",
    "    if min(A.x, B.x) <= C.x <= max(A.x, B.x) and min(A.y, B.y) <= C.y <= max(A.y, B.y):\n",
    "        return True\n",
    "    return False\n",
    "\n",
    "def isOnLine(A, B, C):\n",
    "    if CCW(A, B, C) == 0 and isOnSegment(A, B, C):\n",
    "        return True\n",
    "    return False\n",
    "\n",
    "def isIntersect(A, B, C, D):\n",
    "    if isOnLine(A, B, C) or isOnLine(A, B, D) or isOnLine(C, D, A) or isOnLine(C, D, B):\n",
    "        return True\n",
    "    if isCross(A, B, C, D):\n",
    "        return True\n",
    "    return False\n",
    "\n",
    "A = {}\n",
    "B = {}\n",
    "C = {}\n",
    "D = {}\n",
    "A['x'], A['y'], B['x'], B['y'] = map(int, input().split())\n",
    "C['x'], C['y'], D['x'], D['y'] = map(int, input().split())\n",
    "\n",
    "A = type('Point', (object,), A)\n",
    "B = type('Point', (object,), B)\n",
    "C = type('Point', (object,), C)\n",
    "D = type('Point', (object,), D)\n",
    "\n",
    "if isIntersect(A, B, C, D):\n",
    "    print(1)\n",
    "else:\n",
    "    print(0)"
   ]
  },
  {
   "cell_type": "code",
   "execution_count": null,
   "metadata": {},
   "outputs": [],
   "source": []
  }
 ],
 "metadata": {
  "kernelspec": {
   "display_name": "base",
   "language": "python",
   "name": "python3"
  },
  "language_info": {
   "codemirror_mode": {
    "name": "ipython",
    "version": 3
   },
   "file_extension": ".py",
   "mimetype": "text/x-python",
   "name": "python",
   "nbconvert_exporter": "python",
   "pygments_lexer": "ipython3",
   "version": "3.12.7"
  }
 },
 "nbformat": 4,
 "nbformat_minor": 2
}
