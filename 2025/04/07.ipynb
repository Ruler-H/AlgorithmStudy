{
 "cells": [
  {
   "cell_type": "code",
   "execution_count": null,
   "metadata": {},
   "outputs": [],
   "source": [
    "# 백준 26209번 - Intercepting Information\n",
    "import sys\n",
    "# input = sys.stdin.readline\n",
    "\n",
    "N = list(map(int, input().split()))\n",
    "\n",
    "# N의 요소 중 1이나 0이 아닌 요소\n",
    "filter_N = list(filter(lambda x: x != 1 and x != 0, N))\n",
    "\n",
    "if len(filter_N) == 0:\n",
    "    print(\"S\")\n",
    "else:\n",
    "    print(\"F\")"
   ]
  },
  {
   "cell_type": "code",
   "execution_count": null,
   "metadata": {},
   "outputs": [],
   "source": []
  }
 ],
 "metadata": {
  "kernelspec": {
   "display_name": "base",
   "language": "python",
   "name": "python3"
  },
  "language_info": {
   "codemirror_mode": {
    "name": "ipython",
    "version": 3
   },
   "file_extension": ".py",
   "mimetype": "text/x-python",
   "name": "python",
   "nbconvert_exporter": "python",
   "pygments_lexer": "ipython3",
   "version": "3.12.7"
  }
 },
 "nbformat": 4,
 "nbformat_minor": 2
}
