{
 "cells": [
  {
   "cell_type": "code",
   "execution_count": null,
   "metadata": {},
   "outputs": [],
   "source": [
    "# 백준 6763번 - Speed fines are not fine!\n",
    "import sys\n",
    "# input = sys.stdin.readline\n",
    "\n",
    "int1 = int(input())\n",
    "int2 = int(input())\n",
    "exceed = int2 - int1\n",
    "if exceed <= 0:\n",
    "    print(\"Congratulations, you are within the speed limit!\")\n",
    "elif exceed <= 20:\n",
    "    print(\"You are speeding and your fine is $100.\")\n",
    "elif exceed <= 30:\n",
    "    print(\"You are speeding and your fine is $270.\")\n",
    "else:\n",
    "    print(\"You are speeding and your fine is $500.\")"
   ]
  },
  {
   "cell_type": "code",
   "execution_count": null,
   "metadata": {},
   "outputs": [],
   "source": []
  }
 ],
 "metadata": {
  "kernelspec": {
   "display_name": "base",
   "language": "python",
   "name": "python3"
  },
  "language_info": {
   "codemirror_mode": {
    "name": "ipython",
    "version": 3
   },
   "file_extension": ".py",
   "mimetype": "text/x-python",
   "name": "python",
   "nbconvert_exporter": "python",
   "pygments_lexer": "ipython3",
   "version": "3.12.7"
  }
 },
 "nbformat": 4,
 "nbformat_minor": 2
}
