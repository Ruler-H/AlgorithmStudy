{
 "cells": [
  {
   "cell_type": "code",
   "execution_count": null,
   "metadata": {},
   "outputs": [],
   "source": [
    "# 백준 5928번 - Contest Timing\n",
    "import sys\n",
    "# input = sys.stdin.readline\n",
    "\n",
    "D, H, M = map(int, input().split())\n",
    "\n",
    "result = 0\n",
    "result += (D - 11) * 24 * 60\n",
    "result += (H - 11) * 60\n",
    "result += (M - 11)\n",
    "\n",
    "if result < 0:\n",
    "    print(-1)\n",
    "else:\n",
    "    print(result)"
   ]
  },
  {
   "cell_type": "code",
   "execution_count": null,
   "metadata": {},
   "outputs": [],
   "source": []
  }
 ],
 "metadata": {
  "kernelspec": {
   "display_name": "base",
   "language": "python",
   "name": "python3"
  },
  "language_info": {
   "codemirror_mode": {
    "name": "ipython",
    "version": 3
   },
   "file_extension": ".py",
   "mimetype": "text/x-python",
   "name": "python",
   "nbconvert_exporter": "python",
   "pygments_lexer": "ipython3",
   "version": "3.12.7"
  }
 },
 "nbformat": 4,
 "nbformat_minor": 2
}
