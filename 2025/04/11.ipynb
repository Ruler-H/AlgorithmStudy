{
 "cells": [
  {
   "cell_type": "code",
   "execution_count": null,
   "metadata": {},
   "outputs": [],
   "source": [
    "# 백준 26489번 - Gum Gum for Jay Jay\n",
    "import sys\n",
    "# input = sys.stdin.readline\n",
    "\n",
    "result = 0\n",
    "# gum gum for jay jay의 입력을 받는다.\n",
    "# 더 이상 입력이 없다면 몇 개의 gum gum for jay jay가 있는지 출력한다.\n",
    "while True:\n",
    "    try:\n",
    "        # gum gum for jay jay의 입력을 받는다.\n",
    "        s = input()\n",
    "    except EOFError:\n",
    "        break\n",
    "    result += 1\n",
    "# gum gum for jay jay의 개수를 출력한다.\n",
    "print(result)"
   ]
  },
  {
   "cell_type": "code",
   "execution_count": null,
   "metadata": {},
   "outputs": [],
   "source": []
  }
 ],
 "metadata": {
  "kernelspec": {
   "display_name": "base",
   "language": "python",
   "name": "python3"
  },
  "language_info": {
   "codemirror_mode": {
    "name": "ipython",
    "version": 3
   },
   "file_extension": ".py",
   "mimetype": "text/x-python",
   "name": "python",
   "nbconvert_exporter": "python",
   "pygments_lexer": "ipython3",
   "version": "3.12.7"
  }
 },
 "nbformat": 4,
 "nbformat_minor": 2
}
