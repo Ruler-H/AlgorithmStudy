{
 "cells": [
  {
   "cell_type": "code",
   "execution_count": null,
   "metadata": {},
   "outputs": [],
   "source": [
    "# 백준 16724번 - 피리 부는 사나이\n",
    "import sys\n",
    "# input = sys.stdin.readline\n",
    "\n",
    "N, M = map(int, input().split())\n",
    "board = [list(input().rstrip()) for _ in range(N)]"
   ]
  },
  {
   "cell_type": "code",
   "execution_count": null,
   "metadata": {},
   "outputs": [],
   "source": [
    "# 문제\n",
    "# 피리 부는 사나이 성우는 오늘도 피리를 분다.\n",
    "\n",
    "# 성우가 피리를 불 때면 영과일 회원들은 자기도 모르게 성우가 정해놓은 방향대로 움직이기 시작한다. 성우가 정해놓은 방향은 총 4가지로 U, D, L, R이고 각각 위, 아래, 왼쪽, 오른쪽으로 이동하게 한다.\n",
    "\n",
    "# 이를 지켜보던 재훈이는 더 이상 움직이기 힘들어하는 영과일 회원들을 지키기 위해 특정 지점에 ‘SAFE ZONE’ 이라는 최첨단 방음 시설을 만들어 회원들이 성우의 피리 소리를 듣지 못하게 하려고 한다. 하지만 예산이 넉넉하지 않은 재훈이는 성우가 설정해 놓은 방향을 분석해서 최소 개수의 ‘SAFE ZONE’을 만들려 한다. \n",
    "\n",
    "# 성우가 설정한 방향 지도가 주어졌을 때 재훈이를 도와서 영과일 회원들이 지도 어느 구역에 있더라도 성우가 피리를 불 때 ‘SAFE ZONE’에 들어갈 수 있게 하는 ‘SAFE ZONE’의 최소 개수를 출력하는 프로그램을 작성하시오.\n",
    "\n",
    "# 입력\n",
    "# 첫 번째 줄에 지도의 행의 수를 나타내는 N(1 ≤ N ≤ 1,000)과 지도의 열의 수를 나타내는 M(1 ≤ M ≤ 1,000)이 주어진다.\n",
    "\n",
    "# 두 번째 줄부터 N개의 줄에 지도의 정보를 나타내는 길이가 M인 문자열이 주어진다.\n",
    "\n",
    "# 지도 밖으로 나가는 방향의 입력은 주어지지 않는다.\n",
    "\n",
    "# 출력\n",
    "# 첫 번째 줄에 ‘SAFE ZONE’의 최소 개수를 출력한다.\n",
    "visited = [[False] * M for _ in range(N)]\n",
    "dir_map = {'R': (0, 1), 'D': (1, 0), 'L': (0, -1), 'U': (-1, 0)}\n",
    "result = 0\n",
    "\n",
    "def dfs(x, y):\n",
    "    stack = [(x, y)]\n",
    "    visited[x][y] = True\n",
    "    path = set()\n",
    "\n",
    "    while stack:\n",
    "        x, y = stack.pop()\n",
    "        path.add((x, y))\n",
    "\n",
    "        dx, dy = dir_map[board[x][y]]\n",
    "        nx, ny = x + dx, y + dy\n",
    "\n",
    "        if 0 <= nx < N and 0 <= ny < M:\n",
    "            if not visited[nx][ny]:\n",
    "                visited[nx][ny] = True\n",
    "                stack.append((nx, ny))\n",
    "            elif (nx, ny) in path:\n",
    "                return 1\n",
    "\n",
    "    return 0\n",
    "\n",
    "for i in range(N):\n",
    "    for j in range(M):\n",
    "        if not visited[i][j]:\n",
    "            result += dfs(i, j)\n",
    "\n",
    "print(result)"
   ]
  },
  {
   "cell_type": "code",
   "execution_count": null,
   "metadata": {},
   "outputs": [],
   "source": []
  }
 ],
 "metadata": {
  "kernelspec": {
   "display_name": "base",
   "language": "python",
   "name": "python3"
  },
  "language_info": {
   "codemirror_mode": {
    "name": "ipython",
    "version": 3
   },
   "file_extension": ".py",
   "mimetype": "text/x-python",
   "name": "python",
   "nbconvert_exporter": "python",
   "pygments_lexer": "ipython3",
   "version": "3.12.7"
  }
 },
 "nbformat": 4,
 "nbformat_minor": 2
}
