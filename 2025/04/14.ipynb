{
 "cells": [
  {
   "cell_type": "code",
   "execution_count": null,
   "metadata": {},
   "outputs": [],
   "source": [
    "# 백준 17202번 - 핸드폰 번호 궁합\n",
    "import sys\n",
    "# input = sys.stdin.readline\n",
    "\n",
    "num1 = input()\n",
    "num2 = input()\n",
    "num_list = []\n",
    "for i in range(8):\n",
    "    num_list.append(int(num1[i]))\n",
    "    num_list.append(int(num2[i]))\n",
    "\n",
    "while len(num_list) > 2:\n",
    "    new_list = []\n",
    "    for i in range(len(num_list)-1):\n",
    "        new_list.append((num_list[i] + num_list[i+1]) % 10)\n",
    "    num_list = new_list\n",
    "\n",
    "result = num_list[0] * 10 + num_list[1]\n",
    "if result < 10:\n",
    "    print(f\"0{result}\")\n",
    "elif result == 100:\n",
    "    print(\"00\")\n",
    "else:\n",
    "    print(result)"
   ]
  },
  {
   "cell_type": "code",
   "execution_count": null,
   "metadata": {},
   "outputs": [],
   "source": []
  }
 ],
 "metadata": {
  "kernelspec": {
   "display_name": "base",
   "language": "python",
   "name": "python3"
  },
  "language_info": {
   "codemirror_mode": {
    "name": "ipython",
    "version": 3
   },
   "file_extension": ".py",
   "mimetype": "text/x-python",
   "name": "python",
   "nbconvert_exporter": "python",
   "pygments_lexer": "ipython3",
   "version": "3.12.7"
  }
 },
 "nbformat": 4,
 "nbformat_minor": 2
}
