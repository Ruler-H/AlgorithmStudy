{
 "cells": [
  {
   "cell_type": "code",
   "execution_count": null,
   "metadata": {},
   "outputs": [],
   "source": [
    "# 백준 14582번 - 오늘도 졌다\n",
    "import sys\n",
    "# input = sys.stdin.readline\n",
    "\n",
    "ulim_scores = list(map(int, input().split()))\n",
    "starlink_scores = list(map(int, input().split()))\n",
    "\n",
    "ulim_before_win = False\n",
    "ulim_mid_score = 0\n",
    "starlink_mid_score = 0\n",
    "\n",
    "for i in range(9):\n",
    "    ulim_mid_score += ulim_scores[i]\n",
    "    if ulim_mid_score > starlink_mid_score:\n",
    "        ulim_before_win = True\n",
    "        break\n",
    "    starlink_mid_score += starlink_scores[i]\n",
    "\n",
    "if ulim_before_win:\n",
    "    print(\"Yes\")\n",
    "else:\n",
    "    print(\"No\")"
   ]
  },
  {
   "cell_type": "code",
   "execution_count": null,
   "metadata": {},
   "outputs": [],
   "source": []
  }
 ],
 "metadata": {
  "kernelspec": {
   "display_name": "base",
   "language": "python",
   "name": "python3"
  },
  "language_info": {
   "codemirror_mode": {
    "name": "ipython",
    "version": 3
   },
   "file_extension": ".py",
   "mimetype": "text/x-python",
   "name": "python",
   "nbconvert_exporter": "python",
   "pygments_lexer": "ipython3",
   "version": "3.12.7"
  }
 },
 "nbformat": 4,
 "nbformat_minor": 2
}
