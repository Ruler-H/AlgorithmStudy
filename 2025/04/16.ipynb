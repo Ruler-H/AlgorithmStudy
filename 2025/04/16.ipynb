{
 "cells": [
  {
   "cell_type": "code",
   "execution_count": null,
   "metadata": {},
   "outputs": [],
   "source": [
    "# 백준 16968번 - 차량 번호판 1\n",
    "import sys\n",
    "# input = sys.stdin.readline\n",
    "\n",
    "number = input().strip()\n",
    "\n",
    "if number[0] == 'c':\n",
    "    result = 26\n",
    "else:\n",
    "    result = 10\n",
    "for i in range(1, len(number)):\n",
    "    if number[i] == 'c':\n",
    "        if number[i-1] == 'c':\n",
    "            result *= 25\n",
    "        else:\n",
    "            result *= 26\n",
    "    else:\n",
    "        if number[i-1] == 'd':\n",
    "            result *= 9\n",
    "        else:\n",
    "            result *= 10\n",
    "print(result)"
   ]
  },
  {
   "cell_type": "code",
   "execution_count": null,
   "metadata": {},
   "outputs": [],
   "source": []
  }
 ],
 "metadata": {
  "kernelspec": {
   "display_name": "base",
   "language": "python",
   "name": "python3"
  },
  "language_info": {
   "codemirror_mode": {
    "name": "ipython",
    "version": 3
   },
   "file_extension": ".py",
   "mimetype": "text/x-python",
   "name": "python",
   "nbconvert_exporter": "python",
   "pygments_lexer": "ipython3",
   "version": "3.12.7"
  }
 },
 "nbformat": 4,
 "nbformat_minor": 2
}
