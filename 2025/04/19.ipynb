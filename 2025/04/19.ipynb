{
 "cells": [
  {
   "cell_type": "code",
   "execution_count": 91,
   "metadata": {},
   "outputs": [],
   "source": [
    "# 백준 1022번 - 소용돌이 예쁘게 출력하기\n",
    "import sys\n",
    "# input = sys.stdin.readline\n",
    "\n",
    "r1, c1, r2, c2 = map(int, input().split())"
   ]
  },
  {
   "cell_type": "code",
   "execution_count": null,
   "metadata": {},
   "outputs": [],
   "source": [
    "rows = r2 - r1 + 1\n",
    "cols = c2 - c1 + 1\n",
    "result = [[0] * cols for _ in range(rows)]\n",
    "\n",
    "# 방향: 우, 상, 좌, 하\n",
    "dx = [0, -1, 0, 1]\n",
    "dy = [1, 0, -1, 0]\n",
    "\n",
    "x = y = 0\n",
    "num = 1\n",
    "dir = 0\n",
    "length = 1\n",
    "count = 0\n",
    "max_num = 1\n",
    "\n",
    "# 소용돌이 그리기\n",
    "while True:\n",
    "    for _ in range(2):  # 같은 길이의 방향이 2번 반복됨 (ex: →→ ↑↑)\n",
    "        for _ in range(length):\n",
    "            if r1 <= x <= r2 and c1 <= y <= c2:\n",
    "                result[x - r1][y - c1] = num\n",
    "                max_num = max(max_num, num)\n",
    "                count += 1\n",
    "                if count == rows * cols:\n",
    "                    break\n",
    "            x += dx[dir]\n",
    "            y += dy[dir]\n",
    "            num += 1\n",
    "        if count == rows * cols:\n",
    "            break\n",
    "        dir = (dir + 1) % 4\n",
    "    if count == rows * cols:\n",
    "        break\n",
    "    length += 1\n",
    "\n",
    "# 숫자 정렬을 위한 자릿수\n",
    "width = len(str(max_num))\n",
    "\n",
    "# 결과 출력\n",
    "for row in result:\n",
    "    print(' '.join(f\"{n:>{width}}\" for n in row))\n"
   ]
  },
  {
   "cell_type": "code",
   "execution_count": null,
   "metadata": {},
   "outputs": [],
   "source": []
  }
 ],
 "metadata": {
  "kernelspec": {
   "display_name": "base",
   "language": "python",
   "name": "python3"
  },
  "language_info": {
   "codemirror_mode": {
    "name": "ipython",
    "version": 3
   },
   "file_extension": ".py",
   "mimetype": "text/x-python",
   "name": "python",
   "nbconvert_exporter": "python",
   "pygments_lexer": "ipython3",
   "version": "3.12.7"
  }
 },
 "nbformat": 4,
 "nbformat_minor": 2
}
