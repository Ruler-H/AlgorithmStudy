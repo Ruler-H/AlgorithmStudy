{
 "cells": [
  {
   "cell_type": "code",
   "execution_count": null,
   "metadata": {},
   "outputs": [],
   "source": [
    "# 백준 14391번 - 종이 조각\n",
    "import sys\n",
    "# input = sys.stdin.readline\n",
    "\n",
    "N, M = map(int, input().split())\n",
    "paper = [list(map(str, input().rstrip())) for _ in range(N)]"
   ]
  },
  {
   "cell_type": "code",
   "execution_count": null,
   "metadata": {},
   "outputs": [],
   "source": [
    "answer = 0\n",
    "\n",
    "for bit in range(1 << (N * M)):\n",
    "    total = 0\n",
    "\n",
    "    # 가로 조각 계산\n",
    "    for i in range(N):\n",
    "        current = 0\n",
    "        for j in range(M):\n",
    "            index = i * M + j\n",
    "            if bit & (1 << index):  # 가로로 이어짐\n",
    "                current = current * 10 + paper[i][j]\n",
    "            else:\n",
    "                total += current\n",
    "                current = 0\n",
    "        total += current\n",
    "\n",
    "    # 세로 조각 계산\n",
    "    for j in range(M):\n",
    "        current = 0\n",
    "        for i in range(N):\n",
    "            index = i * M + j\n",
    "            if not (bit & (1 << index)):  # 세로로 이어짐\n",
    "                current = current * 10 + paper[i][j]\n",
    "            else:\n",
    "                total += current\n",
    "                current = 0\n",
    "        total += current\n",
    "\n",
    "    answer = max(answer, total)\n",
    "\n",
    "print(answer)\n"
   ]
  },
  {
   "cell_type": "code",
   "execution_count": null,
   "metadata": {},
   "outputs": [],
   "source": []
  }
 ],
 "metadata": {
  "kernelspec": {
   "display_name": "base",
   "language": "python",
   "name": "python3"
  },
  "language_info": {
   "codemirror_mode": {
    "name": "ipython",
    "version": 3
   },
   "file_extension": ".py",
   "mimetype": "text/x-python",
   "name": "python",
   "nbconvert_exporter": "python",
   "pygments_lexer": "ipython3",
   "version": "3.12.7"
  }
 },
 "nbformat": 4,
 "nbformat_minor": 2
}
