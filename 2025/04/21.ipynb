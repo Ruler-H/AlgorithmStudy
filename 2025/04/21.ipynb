{
 "cells": [
  {
   "cell_type": "code",
   "execution_count": null,
   "metadata": {},
   "outputs": [],
   "source": [
    "# 백준 15059번 - Hard choice\n",
    "import sys\n",
    "# input = sys.stdin.readline\n",
    "\n",
    "Ca, Ba, Pa = map(int, input().split())\n",
    "Cr, Br, Pr = map(int, input().split())"
   ]
  },
  {
   "cell_type": "code",
   "execution_count": null,
   "metadata": {},
   "outputs": [],
   "source": [
    "result = 0\n",
    "if Cr > Ca:\n",
    "    result += Cr - Ca\n",
    "if Br > Ba:\n",
    "    result += Br - Ba\n",
    "if Pr > Pa:\n",
    "    result += Pr - Pa\n",
    "print(result)"
   ]
  },
  {
   "cell_type": "code",
   "execution_count": null,
   "metadata": {},
   "outputs": [],
   "source": []
  }
 ],
 "metadata": {
  "kernelspec": {
   "display_name": "base",
   "language": "python",
   "name": "python3"
  },
  "language_info": {
   "codemirror_mode": {
    "name": "ipython",
    "version": 3
   },
   "file_extension": ".py",
   "mimetype": "text/x-python",
   "name": "python",
   "nbconvert_exporter": "python",
   "pygments_lexer": "ipython3",
   "version": "3.12.7"
  }
 },
 "nbformat": 4,
 "nbformat_minor": 2
}
