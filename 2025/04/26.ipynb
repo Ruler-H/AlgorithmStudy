{
 "cells": [
  {
   "cell_type": "code",
   "execution_count": null,
   "metadata": {},
   "outputs": [],
   "source": [
    "# 백준 18808번 - 스티커 붙이기\n",
    "import sys\n",
    "# input = sys.stdin.readline\n",
    "\n",
    "N, M, K = map(int, input().split())\n",
    "sticker = []\n",
    "for _ in range(K):\n",
    "    r, c = map(int, input().split())\n",
    "    sticker.append([list(map(int, input().split())) for _ in range(r)])"
   ]
  },
  {
   "cell_type": "code",
   "execution_count": null,
   "metadata": {},
   "outputs": [],
   "source": [
    "notebook = [[0] * M for _ in range(N)]\n",
    "\n",
    "def rotate(sticker):\n",
    "    return [list(row) for row in zip(*sticker[::-1])]\n",
    "\n",
    "\n",
    "def can_place(sticker, x, y):\n",
    "    for i in range(len(sticker)):\n",
    "        for j in range(len(sticker[0])):\n",
    "            # print(\"x:\", x, \"y:\", y, \"i:\", i, \"j:\", j)\n",
    "            if notebook[x + i][y + j] == 1 and sticker[i][j] == 1:\n",
    "                return False\n",
    "    return True\n",
    "\n",
    "\n",
    "def place(sticker, x, y):\n",
    "    for i in range(len(sticker)):\n",
    "        for j in range(len(sticker[0])):\n",
    "            if sticker[i][j] == 1:\n",
    "                notebook[x + i][y + j] = 1\n",
    "\n",
    "\n",
    "for s in sticker:\n",
    "    for _ in range(4):\n",
    "        is_possible = False\n",
    "        # print(s)\n",
    "        for i in range(N - len(s) + 1):\n",
    "            for j in range(M - len(s[0]) + 1):\n",
    "                if can_place(s, i, j):\n",
    "                    place(s, i, j)\n",
    "                    is_possible = True\n",
    "                    break\n",
    "            if is_possible:\n",
    "                break\n",
    "        if is_possible:\n",
    "            break\n",
    "        s = rotate(s)\n",
    "    # for i in notebook:\n",
    "    #     print(i)\n",
    "    # print()\n",
    "\n",
    "print(sum(sum(row) for row in notebook))"
   ]
  },
  {
   "cell_type": "code",
   "execution_count": null,
   "metadata": {},
   "outputs": [],
   "source": []
  }
 ],
 "metadata": {
  "kernelspec": {
   "display_name": "base",
   "language": "python",
   "name": "python3"
  },
  "language_info": {
   "codemirror_mode": {
    "name": "ipython",
    "version": 3
   },
   "file_extension": ".py",
   "mimetype": "text/x-python",
   "name": "python",
   "nbconvert_exporter": "python",
   "pygments_lexer": "ipython3",
   "version": "3.12.7"
  }
 },
 "nbformat": 4,
 "nbformat_minor": 2
}
