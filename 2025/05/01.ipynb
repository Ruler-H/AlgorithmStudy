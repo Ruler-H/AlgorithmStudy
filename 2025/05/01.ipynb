{
 "cells": [
  {
   "cell_type": "code",
   "execution_count": null,
   "metadata": {},
   "outputs": [],
   "source": [
    "# 백준 16954번 - 움직이는 미로 탈출\n",
    "import sys\n",
    "input = sys.stdin.readline\n",
    "from collections import deque\n",
    "\n",
    "board = [list(input().rstrip()) for _ in range(8)]"
   ]
  },
  {
   "cell_type": "code",
   "execution_count": null,
   "metadata": {},
   "outputs": [],
   "source": [
    "# 8방향 + 제자리\n",
    "dx = [-1, 1, 0, 0, -1, -1, 1, 1, 0]\n",
    "dy = [0, 0, -1, 1, -1, 1, -1, 1, 0]\n",
    "\n",
    "def is_safe(x, y, t):\n",
    "    if x - t >= 0 and board[x - t][y] == '#':\n",
    "        return False  # 현재 시점에 벽이 있는 위치\n",
    "    if x - t - 1 >= 0 and board[x - t - 1][y] == '#':\n",
    "        return False  # 다음 시점에 벽이 내려올 위치\n",
    "    return True\n",
    "\n",
    "def bfs():\n",
    "    q = deque()\n",
    "    q.append((7, 0, 0))  # (x좌표, y좌표, 시간)\n",
    "\n",
    "    while q:\n",
    "        x, y, t = q.popleft()\n",
    "        if x == 0 and y == 7:\n",
    "            return 1  # 목표 도달\n",
    "\n",
    "        for i in range(9):  # 8방향 + 제자리\n",
    "            nx, ny = x + dx[i], y + dy[i]\n",
    "            nt = min(t + 1, 8)  # 시간은 8 이상 의미 없음 (벽이 다 사라짐)\n",
    "            if 0 <= nx < 8 and 0 <= ny < 8 and is_safe(nx, ny, t):\n",
    "                q.append((nx, ny, nt))\n",
    "\n",
    "    return 0\n",
    "\n",
    "print(bfs())"
   ]
  },
  {
   "cell_type": "code",
   "execution_count": null,
   "metadata": {},
   "outputs": [],
   "source": []
  }
 ],
 "metadata": {
  "kernelspec": {
   "display_name": "base",
   "language": "python",
   "name": "python3"
  },
  "language_info": {
   "codemirror_mode": {
    "name": "ipython",
    "version": 3
   },
   "file_extension": ".py",
   "mimetype": "text/x-python",
   "name": "python",
   "nbconvert_exporter": "python",
   "pygments_lexer": "ipython3",
   "version": "3.12.7"
  }
 },
 "nbformat": 4,
 "nbformat_minor": 2
}
