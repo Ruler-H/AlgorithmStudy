{
 "cells": [
  {
   "cell_type": "code",
   "execution_count": null,
   "metadata": {},
   "outputs": [],
   "source": [
    "# 백준 14038번 - Tournament Selection\n",
    "import sys\n",
    "# input = sys.stdin.readline\n",
    "\n",
    "W = 0\n",
    "L = 0\n",
    "for _ in range(6):\n",
    "    inp_str = input().strip()\n",
    "    if inp_str == 'W':\n",
    "        W += 1\n",
    "    elif inp_str == 'L':\n",
    "        L += 1\n",
    "\n",
    "if W >= 5:\n",
    "    print(1)\n",
    "elif W >= 3:\n",
    "    print(2)\n",
    "elif W >= 1:\n",
    "    print(3)\n",
    "else:\n",
    "    print(-1)"
   ]
  }
 ],
 "metadata": {
  "kernelspec": {
   "display_name": "base",
   "language": "python",
   "name": "python3"
  },
  "language_info": {
   "codemirror_mode": {
    "name": "ipython",
    "version": 3
   },
   "file_extension": ".py",
   "mimetype": "text/x-python",
   "name": "python",
   "nbconvert_exporter": "python",
   "pygments_lexer": "ipython3",
   "version": "3.12.7"
  }
 },
 "nbformat": 4,
 "nbformat_minor": 2
}
