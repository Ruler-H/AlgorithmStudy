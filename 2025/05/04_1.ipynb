{
 "cells": [
  {
   "cell_type": "code",
   "execution_count": null,
   "metadata": {},
   "outputs": [],
   "source": [
    "# 백준 17779번 - 게리맨더링 2\n",
    "import sys\n",
    "# input = sys.stdin.readline\n",
    "\n",
    "import sys\n",
    "input = sys.stdin.readline\n",
    "\n",
    "N = int(input())\n",
    "A = [list(map(int, input().split())) for _ in range(N)]\n",
    "answer = float('inf')"
   ]
  },
  {
   "cell_type": "code",
   "execution_count": 20,
   "metadata": {},
   "outputs": [],
   "source": [
    "# 백준 17779번 - 게리맨더링 2\n",
    "import sys\n",
    "# input = sys.stdin.readline\n",
    "\n",
    "N = 9\n",
    "# 100 1 1 1 1 1 1 1 1\n",
    "# 1 1 1 1 1 1 1 1 1\n",
    "# 1 1 1 1 1 1 1 1 1\n",
    "# 1 1 1 1 1 1 1 1 1\n",
    "# 1 1 1 1 1 1 1 1 1\n",
    "# 1 1 1 1 1 1 1 1 1\n",
    "# 1 1 1 1 1 1 1 1 1\n",
    "# 1 1 1 1 1 1 1 1 1\n",
    "# 1 1 1 1 1 1 1 1 100\n",
    "A = [[100, 1, 1, 1, 1, 1, 1, 1, 1],\n",
    "            [1, 1, 1, 1, 1, 1, 1, 1, 1],\n",
    "            [1, 1, 1, 1, 1, 1, 1, 1, 1],\n",
    "            [1, 1, 1, 1, 1, 1, 1, 1, 1],\n",
    "            [1, 1, 1, 1, 1, 1, 1, 1, 1],\n",
    "            [1, 1, 1, 1, 1, 1, 1, 1, 1],\n",
    "            [1, 1, 1, 1, 1, 1, 1, 1, 1],\n",
    "            [1, 1, 1, 1, 1, 1, 1, 1, 1],\n",
    "            [1, 1, 1, 1, 1, 1, 1, 1, 100]\n",
    "]"
   ]
  },
  {
   "cell_type": "code",
   "execution_count": null,
   "metadata": {},
   "outputs": [
    {
     "name": "stdout",
     "output_type": "stream",
     "text": [
      "82\n"
     ]
    }
   ],
   "source": [
    "\n",
    "\n",
    "def divide(x, y, d1, d2):\n",
    "    zone = [[0] * N for _ in range(N)]\n",
    "\n",
    "    # 5번 경계선\n",
    "    for i in range(d1 + 1):\n",
    "        zone[x + i][y - i] = 5\n",
    "        zone[x + d2 + i][y + d2 - i] = 5\n",
    "    for i in range(d2 + 1):\n",
    "        zone[x + i][y + i] = 5\n",
    "        zone[x + d1 + i][y - d1 + i] = 5\n",
    "\n",
    "    # 내부 채우기\n",
    "    for r in range(x + 1, x + d1 + d2):\n",
    "        is_inside = False\n",
    "        for c in range(N):\n",
    "            if zone[r][c] == 5:\n",
    "                is_inside = not is_inside\n",
    "            if is_inside:\n",
    "                zone[r][c] = 5\n",
    "\n",
    "    pop = [0] * 5\n",
    "\n",
    "    for r in range(N):\n",
    "        for c in range(N):\n",
    "            if zone[r][c] == 5:\n",
    "                pop[4] += A[r][c]\n",
    "            elif 0 <= r < x + d1 and 0 <= c <= y:\n",
    "                pop[0] += A[r][c]\n",
    "            elif 0 <= r <= x + d2 and y < c < N:\n",
    "                pop[1] += A[r][c]\n",
    "            elif x + d1 <= r < N and 0 <= c < y - d1 + d2:\n",
    "                pop[2] += A[r][c]\n",
    "            elif x + d2 < r < N and y - d1 + d2 <= c < N:\n",
    "                pop[3] += A[r][c]\n",
    "\n",
    "    return max(pop) - min(pop)\n",
    "\n",
    "for x in range(N):\n",
    "    for y in range(N):\n",
    "        for d1 in range(1, N):\n",
    "            for d2 in range(1, N):\n",
    "                if x + d1 + d2 >= N:\n",
    "                    continue\n",
    "                if y - d1 < 0 or y + d2 >= N:\n",
    "                    continue\n",
    "                diff = divide(x, y, d1, d2)\n",
    "                answer = min(answer, diff)\n",
    "\n",
    "print(answer)"
   ]
  },
  {
   "cell_type": "code",
   "execution_count": null,
   "metadata": {},
   "outputs": [],
   "source": []
  }
 ],
 "metadata": {
  "kernelspec": {
   "display_name": "base",
   "language": "python",
   "name": "python3"
  },
  "language_info": {
   "codemirror_mode": {
    "name": "ipython",
    "version": 3
   },
   "file_extension": ".py",
   "mimetype": "text/x-python",
   "name": "python",
   "nbconvert_exporter": "python",
   "pygments_lexer": "ipython3",
   "version": "3.12.7"
  }
 },
 "nbformat": 4,
 "nbformat_minor": 2
}
