{
 "cells": [
  {
   "cell_type": "code",
   "execution_count": null,
   "metadata": {},
   "outputs": [],
   "source": [
    "# 백준 6087번 - 레이저 통신\n",
    "import sys\n",
    "import heapq\n",
    "input = sys.stdin.readline\n",
    "\n",
    "W, H = map(int, input().split())\n",
    "board = [list(input().strip()) for _ in range(H)]"
   ]
  },
  {
   "cell_type": "code",
   "execution_count": null,
   "metadata": {},
   "outputs": [],
   "source": [
    "# C 찾기\n",
    "points = []\n",
    "for i in range(H):\n",
    "    for j in range(W):\n",
    "        if board[i][j] == 'C':\n",
    "            points.append((i, j))\n",
    "start = points[0]\n",
    "end = points[1]\n",
    "\n",
    "# 상하좌우\n",
    "dx = [-1, 1, 0, 0]\n",
    "dy = [0, 0, -1, 1]\n",
    "\n",
    "# 거울 사용 횟수 저장 (4방향 각각 따로 저장)\n",
    "INF = float('inf')\n",
    "dist = [[[INF]*4 for _ in range(W)] for _ in range(H)]\n",
    "pq = []\n",
    "\n",
    "# 시작 지점에서 4방향 모두 시도 (거울 사용 0회)\n",
    "for d in range(4):\n",
    "    nx = start[0] + dx[d]\n",
    "    ny = start[1] + dy[d]\n",
    "    if 0 <= nx < H and 0 <= ny < W and board[nx][ny] != '*':\n",
    "        dist[nx][ny][d] = 0\n",
    "        heapq.heappush(pq, (0, nx, ny, d))  # (거울 사용 수, x, y, 방향)\n",
    "\n",
    "while pq:\n",
    "    cnt, x, y, d = heapq.heappop(pq)\n",
    "\n",
    "    if (x, y) == end:\n",
    "        print(cnt)\n",
    "        break\n",
    "\n",
    "    for nd in range(4):\n",
    "        nx = x + dx[nd]\n",
    "        ny = y + dy[nd]\n",
    "\n",
    "        if 0 <= nx < H and 0 <= ny < W and board[nx][ny] != '*':\n",
    "            ncnt = cnt + (0 if d == nd else 1)\n",
    "            if dist[nx][ny][nd] > ncnt:\n",
    "                dist[nx][ny][nd] = ncnt\n",
    "                heapq.heappush(pq, (ncnt, nx, ny, nd))"
   ]
  },
  {
   "cell_type": "code",
   "execution_count": null,
   "metadata": {},
   "outputs": [],
   "source": []
  }
 ],
 "metadata": {
  "kernelspec": {
   "display_name": "base",
   "language": "python",
   "name": "python3"
  },
  "language_info": {
   "codemirror_mode": {
    "name": "ipython",
    "version": 3
   },
   "file_extension": ".py",
   "mimetype": "text/x-python",
   "name": "python",
   "nbconvert_exporter": "python",
   "pygments_lexer": "ipython3",
   "version": "3.12.7"
  }
 },
 "nbformat": 4,
 "nbformat_minor": 2
}
