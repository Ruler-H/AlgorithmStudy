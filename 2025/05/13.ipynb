{
 "cells": [
  {
   "cell_type": "code",
   "execution_count": null,
   "metadata": {},
   "outputs": [],
   "source": [
    "# 백준 4714번 - Lunacy\n",
    "import sys\n",
    "# input = sys.stdin.readline\n",
    "\n",
    "# 문제\n",
    "# After several months struggling with a diet, Jack has become obsessed with the idea of weighing less. In an odd way, he finds it very comforting to think that, if he had simply had the luck to be born on a different planet, his weight could be considerably less.\n",
    "\n",
    "# Of course, the planets are far out of reach, but even the Earth’s moon would yield a dramatic weight loss. Objects on the moon weight only 0.167 of their weight on Earth.\n",
    "\n",
    "# 입력\n",
    "# Input consists of one or more lines, each containing a single floating point number denoting a weight (in pounds) on the Earth. The end of input is denoted by a negative floating point number.\n",
    "\n",
    "# 출력\n",
    "# For each line of input data, your program should print a single line of the form\n",
    "\n",
    "# Objects weighing X on Earth will weigh Y on the moon.\n",
    "\n",
    "# where X is the weight from the input and Y is the corresponding weight on the moon. Both output numbers should be printed to a precision of 2 digits after the decimal point.\n",
    "\n",
    "weight = float(input())\n",
    "while weight >= 0:\n",
    "    moon_weight = weight * 0.167\n",
    "    print(f\"Objects weighing {weight:.2f} on Earth will weigh {moon_weight:.2f} on the moon.\")\n",
    "    weight = float(input())"
   ]
  },
  {
   "cell_type": "code",
   "execution_count": null,
   "metadata": {},
   "outputs": [],
   "source": []
  }
 ],
 "metadata": {
  "kernelspec": {
   "display_name": "base",
   "language": "python",
   "name": "python3"
  },
  "language_info": {
   "codemirror_mode": {
    "name": "ipython",
    "version": 3
   },
   "file_extension": ".py",
   "mimetype": "text/x-python",
   "name": "python",
   "nbconvert_exporter": "python",
   "pygments_lexer": "ipython3",
   "version": "3.12.7"
  }
 },
 "nbformat": 4,
 "nbformat_minor": 2
}
