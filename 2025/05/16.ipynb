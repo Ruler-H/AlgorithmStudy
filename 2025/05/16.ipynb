{
 "cells": [
  {
   "cell_type": "code",
   "execution_count": null,
   "metadata": {},
   "outputs": [],
   "source": [
    "# 백준 26575번 - Pups\n",
    "import sys\n",
    "# input = sys.stdin.readline\n",
    "\n",
    "n = int(input())"
   ]
  },
  {
   "cell_type": "code",
   "execution_count": null,
   "metadata": {},
   "outputs": [],
   "source": [
    "for _ in range(n):\n",
    "    d, f, p = map(str, input().split())\n",
    "    if d.split(\".\")[0] == \".\":\n",
    "        d = \"0\" + d\n",
    "    if f.split(\".\")[0] == \".\":\n",
    "        f = \"0\" + f\n",
    "    if p.split(\".\")[0] == \".\":\n",
    "        p = \"0\" + p\n",
    "    d = float(d)\n",
    "    f = float(f)\n",
    "    p = float(p)\n",
    "    print(f\"${d * f * p:.2f}\")"
   ]
  },
  {
   "cell_type": "code",
   "execution_count": null,
   "metadata": {},
   "outputs": [],
   "source": []
  }
 ],
 "metadata": {
  "kernelspec": {
   "display_name": "base",
   "language": "python",
   "name": "python3"
  },
  "language_info": {
   "codemirror_mode": {
    "name": "ipython",
    "version": 3
   },
   "file_extension": ".py",
   "mimetype": "text/x-python",
   "name": "python",
   "nbconvert_exporter": "python",
   "pygments_lexer": "ipython3",
   "version": "3.12.7"
  }
 },
 "nbformat": 4,
 "nbformat_minor": 2
}
