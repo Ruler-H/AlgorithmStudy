{
 "cells": [
  {
   "cell_type": "code",
   "execution_count": null,
   "metadata": {},
   "outputs": [],
   "source": [
    "# 백준 8723번 - Patyki\n",
    "import sys\n",
    "# input = sys.stdin.readline\n",
    "\n",
    "a, b, c = sorted(map(int, input().split()))\n",
    "\n",
    "# 삼각형이 아예 안 되는 경우\n",
    "if a + b <= c:\n",
    "    print(0)\n",
    "# 정삼각형\n",
    "elif a == b == c:\n",
    "    print(2)\n",
    "# 직각삼각형\n",
    "elif a * a + b * b == c * c:\n",
    "    print(1)\n",
    "# 둘 다 아님\n",
    "else:\n",
    "    print(0)\n"
   ]
  },
  {
   "cell_type": "code",
   "execution_count": null,
   "metadata": {},
   "outputs": [],
   "source": []
  }
 ],
 "metadata": {
  "kernelspec": {
   "display_name": "Python 3",
   "language": "python",
   "name": "python3"
  },
  "language_info": {
   "codemirror_mode": {
    "name": "ipython",
    "version": 3
   },
   "file_extension": ".py",
   "mimetype": "text/x-python",
   "name": "python",
   "nbconvert_exporter": "python",
   "pygments_lexer": "ipython3",
   "version": "3.11.6"
  }
 },
 "nbformat": 4,
 "nbformat_minor": 2
}
