{
 "cells": [
  {
   "cell_type": "code",
   "execution_count": 4,
   "metadata": {},
   "outputs": [],
   "source": [
    "# 백준 30224번 - Lucky 7\n",
    "import sys\n",
    "# input = sys.stdin.readline\n",
    "\n",
    "N = input()\n",
    "int_N = int(N)"
   ]
  },
  {
   "cell_type": "code",
   "execution_count": 9,
   "metadata": {},
   "outputs": [
    {
     "name": "stdout",
     "output_type": "stream",
     "text": [
      "0\n"
     ]
    }
   ],
   "source": [
    "if \"7\" not in N and int_N % 7 != 0:\n",
    "    print(0)\n",
    "elif \"7\" not in N and int_N % 7 == 0:\n",
    "    print(1)\n",
    "elif \"7\" in N and int_N % 7 != 0:\n",
    "    print(2)\n",
    "elif \"7\" in N and int_N % 7 == 0:\n",
    "    print(3)"
   ]
  },
  {
   "cell_type": "code",
   "execution_count": null,
   "metadata": {},
   "outputs": [],
   "source": []
  }
 ],
 "metadata": {
  "kernelspec": {
   "display_name": "Python 3",
   "language": "python",
   "name": "python3"
  },
  "language_info": {
   "codemirror_mode": {
    "name": "ipython",
    "version": 3
   },
   "file_extension": ".py",
   "mimetype": "text/x-python",
   "name": "python",
   "nbconvert_exporter": "python",
   "pygments_lexer": "ipython3",
   "version": "3.13.3"
  }
 },
 "nbformat": 4,
 "nbformat_minor": 2
}
