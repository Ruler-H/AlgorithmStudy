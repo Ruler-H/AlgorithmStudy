{
 "cells": [
  {
   "cell_type": "code",
   "execution_count": null,
   "metadata": {},
   "outputs": [],
   "source": [
    "# 백준 2616번 - 소형기관차\n",
    "import sys\n",
    "# input = sys.stdin.readline\n",
    "\n",
    "# 객차 수\n",
    "train_cnt = int(input())\n",
    "# 객차 별 승객 수\n",
    "carriages = list(map(int, input().split()))\n",
    "# 소형 기관차가 끌 수 있는 객차 수\n",
    "train_capacity = int(input())"
   ]
  },
  {
   "cell_type": "code",
   "execution_count": null,
   "metadata": {},
   "outputs": [],
   "source": [
    "# dp[i][j] : i번째 기차까지 j개의 기관차를 사용했을 때, 최대 수송 인원\n",
    "dp = [[0] * 4 for _ in range(train_cnt + 1)]\n",
    "for i in range(1, train_cnt + 1):\n",
    "    for j in range(1, 4):\n",
    "        # 현재 기차를 포함하지 않는 경우\n",
    "        dp[i][j] = dp[i - 1][j]\n",
    "        # 현재 기차를 포함하는 경우\n",
    "        if i >= train_capacity:\n",
    "            dp[i][j] = max(dp[i][j], dp[i - train_capacity][j - 1] + sum(carriages[i - train_capacity:i]))\n",
    "\n",
    "# 최대 수송 인원\n",
    "max_passengers = 0\n",
    "for j in range(1, 4):\n",
    "    max_passengers = max(max_passengers, dp[train_cnt][j])\n",
    "print(max_passengers)"
   ]
  },
  {
   "cell_type": "code",
   "execution_count": null,
   "metadata": {},
   "outputs": [],
   "source": []
  }
 ],
 "metadata": {
  "kernelspec": {
   "display_name": "base",
   "language": "python",
   "name": "python3"
  },
  "language_info": {
   "codemirror_mode": {
    "name": "ipython",
    "version": 3
   },
   "file_extension": ".py",
   "mimetype": "text/x-python",
   "name": "python",
   "nbconvert_exporter": "python",
   "pygments_lexer": "ipython3",
   "version": "3.12.7"
  }
 },
 "nbformat": 4,
 "nbformat_minor": 2
}
