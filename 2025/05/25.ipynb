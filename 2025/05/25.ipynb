{
 "cells": [
  {
   "cell_type": "code",
   "execution_count": null,
   "metadata": {},
   "outputs": [],
   "source": [
    "# 백준 1111번 - IQ Test\n",
    "import sys\n",
    "# input = sys.stdin.readline\n",
    "\n",
    "N = int(input())\n",
    "A = list(map(int, input().split()))"
   ]
  },
  {
   "cell_type": "code",
   "execution_count": null,
   "metadata": {},
   "outputs": [],
   "source": [
    "if N == 1:\n",
    "    print(\"A\")\n",
    "elif N == 2:\n",
    "    if A[0] == A[1]:\n",
    "        print(A[0])\n",
    "    else:\n",
    "        print(\"A\")\n",
    "else:\n",
    "    if A[1] - A[0] == 0:\n",
    "        a = 0\n",
    "    else:\n",
    "        # 분모 0 방지, 분수 결과가 정수인지도 체크해야 함\n",
    "        if (A[2] - A[1]) % (A[1] - A[0]) != 0:\n",
    "            print(\"B\")\n",
    "            exit()\n",
    "        a = (A[2] - A[1]) // (A[1] - A[0])\n",
    "\n",
    "    b = A[1] - A[0] * a\n",
    "\n",
    "    is_valid = True\n",
    "    for i in range(N - 1):\n",
    "        if A[i + 1] != A[i] * a + b:\n",
    "            is_valid = False\n",
    "            break\n",
    "\n",
    "    if is_valid:\n",
    "        print(A[-1] * a + b)\n",
    "    else:\n",
    "        print(\"B\")"
   ]
  },
  {
   "cell_type": "code",
   "execution_count": null,
   "metadata": {},
   "outputs": [],
   "source": []
  }
 ],
 "metadata": {
  "kernelspec": {
   "display_name": "base",
   "language": "python",
   "name": "python3"
  },
  "language_info": {
   "codemirror_mode": {
    "name": "ipython",
    "version": 3
   },
   "file_extension": ".py",
   "mimetype": "text/x-python",
   "name": "python",
   "nbconvert_exporter": "python",
   "pygments_lexer": "ipython3",
   "version": "3.12.7"
  }
 },
 "nbformat": 4,
 "nbformat_minor": 2
}
