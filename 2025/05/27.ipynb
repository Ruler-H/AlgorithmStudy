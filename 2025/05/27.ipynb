{
 "cells": [
  {
   "cell_type": "code",
   "execution_count": null,
   "metadata": {},
   "outputs": [],
   "source": [
    "# 백준 18048번 - 3 つの整数 (Three Integers)\n",
    "import sys\n",
    "# input = sys.stdin.readline\n",
    "\n",
    "A, B, C = map(int, input().split())\n",
    "one_cnt = 0\n",
    "two_cnt = 0\n",
    "if A == 1:\n",
    "    one_cnt += 1\n",
    "else:\n",
    "    two_cnt += 1\n",
    "if B == 1:\n",
    "    one_cnt += 1\n",
    "else:\n",
    "    two_cnt += 1\n",
    "if C == 1:\n",
    "    one_cnt += 1\n",
    "else:\n",
    "    two_cnt += 1\n",
    "\n",
    "if one_cnt > two_cnt:\n",
    "    print(\"1\")\n",
    "else:\n",
    "    print(\"2\")"
   ]
  },
  {
   "cell_type": "code",
   "execution_count": null,
   "metadata": {},
   "outputs": [],
   "source": []
  },
  {
   "cell_type": "code",
   "execution_count": null,
   "metadata": {},
   "outputs": [],
   "source": []
  }
 ],
 "metadata": {
  "kernelspec": {
   "display_name": "base",
   "language": "python",
   "name": "python3"
  },
  "language_info": {
   "codemirror_mode": {
    "name": "ipython",
    "version": 3
   },
   "file_extension": ".py",
   "mimetype": "text/x-python",
   "name": "python",
   "nbconvert_exporter": "python",
   "pygments_lexer": "ipython3",
   "version": "3.12.7"
  }
 },
 "nbformat": 4,
 "nbformat_minor": 2
}
