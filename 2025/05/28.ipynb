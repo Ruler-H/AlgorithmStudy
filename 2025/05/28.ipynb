{
 "cells": [
  {
   "cell_type": "code",
   "execution_count": null,
   "metadata": {},
   "outputs": [],
   "source": [
    "# 백준 8710번 - Koszykarz\n",
    "import sys\n",
    "# input = sys.stdin.readline\n",
    "\n",
    "k, w, m = map(int, input().split())\n",
    "\n",
    "if k >= w:\n",
    "    print(0)\n",
    "else:\n",
    "    need_feet = w - k\n",
    "    years = need_feet // m\n",
    "    if need_feet % m != 0:\n",
    "        years += 1\n",
    "    print(years)"
   ]
  },
  {
   "cell_type": "code",
   "execution_count": null,
   "metadata": {},
   "outputs": [],
   "source": []
  },
  {
   "cell_type": "code",
   "execution_count": null,
   "metadata": {},
   "outputs": [],
   "source": []
  }
 ],
 "metadata": {
  "kernelspec": {
   "display_name": "base",
   "language": "python",
   "name": "python3"
  },
  "language_info": {
   "codemirror_mode": {
    "name": "ipython",
    "version": 3
   },
   "file_extension": ".py",
   "mimetype": "text/x-python",
   "name": "python",
   "nbconvert_exporter": "python",
   "pygments_lexer": "ipython3",
   "version": "3.12.7"
  }
 },
 "nbformat": 4,
 "nbformat_minor": 2
}
