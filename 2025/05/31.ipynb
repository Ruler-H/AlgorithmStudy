{
 "cells": [
  {
   "cell_type": "code",
   "execution_count": null,
   "metadata": {},
   "outputs": [],
   "source": [
    "# 백준 14621번 - 나만 안되는 연애\n",
    "import sys\n",
    "# input = sys.stdin.readline\n",
    "\n",
    "N, M = map(int, input().split())\n",
    "college = list(map(str, input().split()))\n",
    "edges = []\n",
    "for _ in range(M):\n",
    "    u, v, w = map(int, input().split())\n",
    "    edges.append((w, u - 1, v - 1))"
   ]
  },
  {
   "cell_type": "code",
   "execution_count": null,
   "metadata": {},
   "outputs": [],
   "source": [
    "edges.sort()\n",
    "parent = list(range(N))\n",
    "\n",
    "def find(x):\n",
    "    if parent[x] != x:\n",
    "        parent[x] = find(parent[x])\n",
    "    return parent[x]\n",
    "\n",
    "def union(x, y):\n",
    "    x_root = find(x)\n",
    "    y_root = find(y)\n",
    "    if x_root != y_root:\n",
    "        parent[y_root] = x_root\n",
    "        return True\n",
    "    return False\n",
    "\n",
    "total_cost = 0\n",
    "edge_count = 0\n",
    "\n",
    "for w, u, v in edges:\n",
    "    if college[u] != college[v]:  # 남+여만 연결\n",
    "        if union(u, v):\n",
    "            total_cost += w\n",
    "            edge_count += 1\n",
    "\n",
    "if edge_count == N - 1:\n",
    "    print(total_cost)\n",
    "else:\n",
    "    print(-1)"
   ]
  },
  {
   "cell_type": "code",
   "execution_count": null,
   "metadata": {},
   "outputs": [],
   "source": []
  }
 ],
 "metadata": {
  "kernelspec": {
   "display_name": "base",
   "language": "python",
   "name": "python3"
  },
  "language_info": {
   "codemirror_mode": {
    "name": "ipython",
    "version": 3
   },
   "file_extension": ".py",
   "mimetype": "text/x-python",
   "name": "python",
   "nbconvert_exporter": "python",
   "pygments_lexer": "ipython3",
   "version": "3.12.7"
  }
 },
 "nbformat": 4,
 "nbformat_minor": 2
}
