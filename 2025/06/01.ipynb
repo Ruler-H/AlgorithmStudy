{
 "cells": [
  {
   "cell_type": "code",
   "execution_count": null,
   "metadata": {},
   "outputs": [],
   "source": [
    "# 백준 16947번 - 서울 지하철 2호선\n",
    "import sys\n",
    "from collections import deque\n",
    "sys.setrecursionlimit(10**6)\n",
    "# input = sys.stdin.readline\n",
    "\n",
    "N = int(input())\n",
    "graph = [[] for _ in range(N + 1)]\n",
    "for _ in range(N):\n",
    "    u, v = map(int, input().split())\n",
    "    graph[u].append(v)\n",
    "    graph[v].append(u)"
   ]
  },
  {
   "cell_type": "code",
   "execution_count": null,
   "metadata": {},
   "outputs": [],
   "source": [
    "\n",
    "# 1. 사이클 찾기\n",
    "visited = [False] * (N + 1)\n",
    "is_cycle = [False] * (N + 1)\n",
    "found = False\n",
    "\n",
    "def dfs(node, prev, path):\n",
    "    global found\n",
    "    if found:\n",
    "        return\n",
    "    visited[node] = True\n",
    "    path.append(node)\n",
    "    for neighbor in graph[node]:\n",
    "        if neighbor == prev:\n",
    "            continue\n",
    "        if not visited[neighbor]:\n",
    "            dfs(neighbor, node, path)\n",
    "        else:\n",
    "            if not found and neighbor in path:\n",
    "                idx = path.index(neighbor)\n",
    "                for i in path[idx:]:\n",
    "                    is_cycle[i] = True\n",
    "                found = True\n",
    "                return\n",
    "    path.pop()\n",
    "\n",
    "for i in range(1, N + 1):\n",
    "    if not visited[i]:\n",
    "        dfs(i, -1, [])\n",
    "        if found:\n",
    "            break\n",
    "\n",
    "# 2. BFS로 거리 구하기\n",
    "distance = [-1] * (N + 1)\n",
    "queue = deque()\n",
    "\n",
    "for i in range(1, N + 1):\n",
    "    if is_cycle[i]:\n",
    "        distance[i] = 0\n",
    "        queue.append(i)\n",
    "\n",
    "while queue:\n",
    "    curr = queue.popleft()\n",
    "    for neighbor in graph[curr]:\n",
    "        if distance[neighbor] == -1:\n",
    "            distance[neighbor] = distance[curr] + 1\n",
    "            queue.append(neighbor)\n",
    "\n",
    "print(' '.join(map(str, distance[1:])))"
   ]
  },
  {
   "cell_type": "code",
   "execution_count": null,
   "metadata": {},
   "outputs": [],
   "source": []
  }
 ],
 "metadata": {
  "kernelspec": {
   "display_name": "base",
   "language": "python",
   "name": "python3"
  },
  "language_info": {
   "codemirror_mode": {
    "name": "ipython",
    "version": 3
   },
   "file_extension": ".py",
   "mimetype": "text/x-python",
   "name": "python",
   "nbconvert_exporter": "python",
   "pygments_lexer": "ipython3",
   "version": "3.12.7"
  }
 },
 "nbformat": 4,
 "nbformat_minor": 2
}
