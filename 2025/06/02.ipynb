{
 "cells": [
  {
   "cell_type": "code",
   "execution_count": null,
   "metadata": {},
   "outputs": [],
   "source": [
    "# 백준 15792번 - A/B - 2\n",
    "import sys\n",
    "# input = sys.stdin.readline\n",
    "from decimal import Decimal, getcontext\n",
    "\n",
    "getcontext().prec = 2000  # 계산 정밀도 설정 (20자리 출력하려면 여유 있게 설정)\n",
    "A, B = map(int, input().split())\n",
    "result = Decimal(A) / Decimal(B)\n",
    "print(result)"
   ]
  },
  {
   "cell_type": "code",
   "execution_count": null,
   "metadata": {},
   "outputs": [],
   "source": []
  }
 ],
 "metadata": {
  "kernelspec": {
   "display_name": "base",
   "language": "python",
   "name": "python3"
  },
  "language_info": {
   "codemirror_mode": {
    "name": "ipython",
    "version": 3
   },
   "file_extension": ".py",
   "mimetype": "text/x-python",
   "name": "python",
   "nbconvert_exporter": "python",
   "pygments_lexer": "ipython3",
   "version": "3.12.7"
  }
 },
 "nbformat": 4,
 "nbformat_minor": 2
}
