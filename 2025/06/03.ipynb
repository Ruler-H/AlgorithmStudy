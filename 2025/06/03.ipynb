{
 "cells": [
  {
   "cell_type": "code",
   "execution_count": null,
   "metadata": {},
   "outputs": [],
   "source": [
    "# 백준 6086번 - 최대 유량\n",
    "import sys\n",
    "from collections import deque\n",
    "# input = sys.stdin.readline\n",
    "\n",
    "# 문자 노드를 정수 인덱스로 변환\n",
    "def char_to_index(c):\n",
    "    if 'A' <= c <= 'Z':\n",
    "        return ord(c) - ord('A')\n",
    "    else:\n",
    "        return ord(c) - ord('a') + 26\n",
    "\n",
    "# 입력\n",
    "N = int(input())\n",
    "capacity = [[0] * 52 for _ in range(52)]\n",
    "\n",
    "for _ in range(N):\n",
    "    a, b, f = input().split()\n",
    "    u = char_to_index(a)\n",
    "    v = char_to_index(b)\n",
    "    f = int(f)\n",
    "    capacity[u][v] += f\n",
    "    capacity[v][u] += f  # 양방향 간선 (중요!!)\n"
   ]
  },
  {
   "cell_type": "code",
   "execution_count": null,
   "metadata": {},
   "outputs": [],
   "source": [
    "# 최대 유량 알고리즘: Edmonds-Karp\n",
    "def bfs(capacity, flow, source, sink, parent):\n",
    "    visited = [False] * 52\n",
    "    queue = deque([source])\n",
    "    visited[source] = True\n",
    "    \n",
    "    while queue:\n",
    "        u = queue.popleft()\n",
    "        for v in range(52):\n",
    "            if not visited[v] and capacity[u][v] - flow[u][v] > 0:\n",
    "                parent[v] = u\n",
    "                visited[v] = True\n",
    "                queue.append(v)\n",
    "                if v == sink:\n",
    "                    return True\n",
    "    return False\n",
    "\n",
    "def edmonds_karp(source, sink):\n",
    "    flow = [[0] * 52 for _ in range(52)]\n",
    "    max_flow = 0\n",
    "    parent = [-1] * 52\n",
    "\n",
    "    while bfs(capacity, flow, source, sink, parent):\n",
    "        path_flow = float('inf')\n",
    "        v = sink\n",
    "        while v != source:\n",
    "            u = parent[v]\n",
    "            path_flow = min(path_flow, capacity[u][v] - flow[u][v])\n",
    "            v = u\n",
    "\n",
    "        v = sink\n",
    "        while v != source:\n",
    "            u = parent[v]\n",
    "            flow[u][v] += path_flow\n",
    "            flow[v][u] -= path_flow\n",
    "            v = u\n",
    "\n",
    "        max_flow += path_flow\n",
    "        parent = [-1] * 52  # 매 반복마다 초기화\n",
    "\n",
    "    return max_flow\n",
    "\n",
    "source = char_to_index('A')\n",
    "sink = char_to_index('Z')\n",
    "print(edmonds_karp(source, sink))"
   ]
  },
  {
   "cell_type": "code",
   "execution_count": null,
   "metadata": {},
   "outputs": [],
   "source": []
  }
 ],
 "metadata": {
  "kernelspec": {
   "display_name": "base",
   "language": "python",
   "name": "python3"
  },
  "language_info": {
   "codemirror_mode": {
    "name": "ipython",
    "version": 3
   },
   "file_extension": ".py",
   "mimetype": "text/x-python",
   "name": "python",
   "nbconvert_exporter": "python",
   "pygments_lexer": "ipython3",
   "version": "3.12.7"
  }
 },
 "nbformat": 4,
 "nbformat_minor": 2
}
