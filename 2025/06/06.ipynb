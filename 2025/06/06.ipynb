{
 "cells": [
  {
   "cell_type": "code",
   "execution_count": null,
   "metadata": {},
   "outputs": [],
   "source": [
    "# 백준 11062번 - 카드 게임\n",
    "import sys\n",
    "sys.setrecursionlimit(10**6)\n",
    "# input = sys.stdin.readline\n",
    "\n",
    "T = int(input())"
   ]
  },
  {
   "cell_type": "code",
   "execution_count": null,
   "metadata": {},
   "outputs": [],
   "source": [
    "for _ in range(T):\n",
    "    N = int(input())\n",
    "    cards = list(map(int, input().split()))\n",
    "\n",
    "    # dp[i][j]: i~j 구간에서 현재 플레이어가 얻을 수 있는 최대 점수\n",
    "    dp = [[0]*N for _ in range(N)]\n",
    "\n",
    "    for i in range(N):\n",
    "        dp[i][i] = cards[i]\n",
    "\n",
    "    for length in range(2, N + 1):\n",
    "        for i in range(N - length + 1):\n",
    "            j = i + length - 1\n",
    "            # 두 플레이어가 모두 최적으로 플레이한다고 가정\n",
    "            # 상대방이 다음에 취할 수 있는 최댓값을 빼준다\n",
    "            left = cards[i] + min(\n",
    "                dp[i + 2][j] if i + 2 <= j else 0,\n",
    "                dp[i + 1][j - 1] if i + 1 <= j - 1 else 0\n",
    "            )\n",
    "            right = cards[j] + min(\n",
    "                dp[i][j - 2] if i <= j - 2 else 0,\n",
    "                dp[i + 1][j - 1] if i + 1 <= j - 1 else 0\n",
    "            )\n",
    "            dp[i][j] = max(left, right)\n",
    "    print(dp)\n",
    "    print(dp[0][N - 1])"
   ]
  },
  {
   "cell_type": "code",
   "execution_count": null,
   "metadata": {},
   "outputs": [],
   "source": []
  }
 ],
 "metadata": {
  "kernelspec": {
   "display_name": "base",
   "language": "python",
   "name": "python3"
  },
  "language_info": {
   "codemirror_mode": {
    "name": "ipython",
    "version": 3
   },
   "file_extension": ".py",
   "mimetype": "text/x-python",
   "name": "python",
   "nbconvert_exporter": "python",
   "pygments_lexer": "ipython3",
   "version": "3.12.7"
  }
 },
 "nbformat": 4,
 "nbformat_minor": 2
}
