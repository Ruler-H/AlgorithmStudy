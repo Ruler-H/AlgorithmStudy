{
 "cells": [
  {
   "cell_type": "code",
   "execution_count": null,
   "metadata": {},
   "outputs": [],
   "source": [
    "# 백준 14427번 - 수열과 쿼리 15\n",
    "import sys\n",
    "# input = sys.stdin.readline\n",
    "\n",
    "N = int(input())\n",
    "inp_A = list(map(int, input().split()))\n",
    "A = []\n",
    "for i in range(N):\n",
    "    A.append((inp_A[i], i + 1))  # (값, 인덱스)\n",
    "M = int(input())\n",
    "queries = [list(map(int, input().split())) for _ in range(M)]"
   ]
  },
  {
   "cell_type": "code",
   "execution_count": null,
   "metadata": {},
   "outputs": [],
   "source": [
    "A.sort(key=lambda x: (x[0], x[1]))  # 값 기준으로 정렬, 값이 같으면 인덱스 기준으로 정렬\n",
    "\n",
    "for query in queries:\n",
    "    if query[0] == 1:\n",
    "        i = query[1]\n",
    "        v = query[2]\n",
    "        remove_idx = -1\n",
    "        insert_idx = -1\n",
    "\n",
    "        for j in range(len(A)):\n",
    "            if remove_idx == -1 and A[j][1] == i:\n",
    "                remove_idx = j\n",
    "            if insert_idx == -1 and (A[j][0] > v or (A[j][0] == v and A[j][1] > i)):\n",
    "                insert_idx = j\n",
    "            if remove_idx != -1 and insert_idx != -1:\n",
    "                break\n",
    "\n",
    "        if remove_idx != -1:\n",
    "            A.pop(remove_idx)\n",
    "            # pop을 했으므로 삽입 위치 조정 필요\n",
    "            if insert_idx > remove_idx:\n",
    "                insert_idx -= 1\n",
    "\n",
    "        if insert_idx == -1:\n",
    "            A.append((v, i))\n",
    "        else:\n",
    "            A.insert(insert_idx, (v, i))\n",
    "    else:\n",
    "        print(A[0][1])"
   ]
  },
  {
   "cell_type": "code",
   "execution_count": null,
   "metadata": {},
   "outputs": [],
   "source": []
  }
 ],
 "metadata": {
  "kernelspec": {
   "display_name": "base",
   "language": "python",
   "name": "python3"
  },
  "language_info": {
   "codemirror_mode": {
    "name": "ipython",
    "version": 3
   },
   "file_extension": ".py",
   "mimetype": "text/x-python",
   "name": "python",
   "nbconvert_exporter": "python",
   "pygments_lexer": "ipython3",
   "version": "3.12.7"
  }
 },
 "nbformat": 4,
 "nbformat_minor": 2
}
