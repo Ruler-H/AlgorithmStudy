{
 "cells": [
  {
   "cell_type": "code",
   "execution_count": null,
   "metadata": {},
   "outputs": [],
   "source": [
    "# 백준 31429번 - SUAPC 2023 Summer\n",
    "import sys\n",
    "# input = sys.stdin.readline\n",
    "\n",
    "N = int(input())\n",
    "\n",
    "scores = {\n",
    "    1: (12, 1600),\n",
    "    2: (11, 894),\n",
    "    3: (11, 1327),\n",
    "    4: (10, 1311),\n",
    "    5: (9, 1004),\n",
    "    6: (9, 1178),\n",
    "    7: (9, 1357),\n",
    "    8: (8, 837),\n",
    "    9: (7, 1055),\n",
    "    10: (6, 556),\n",
    "    11: (6, 773),\n",
    "}\n",
    "\n",
    "print(scores[N][0], scores[N][1])"
   ]
  },
  {
   "cell_type": "code",
   "execution_count": null,
   "metadata": {},
   "outputs": [],
   "source": []
  }
 ],
 "metadata": {
  "kernelspec": {
   "display_name": "base",
   "language": "python",
   "name": "python3"
  },
  "language_info": {
   "codemirror_mode": {
    "name": "ipython",
    "version": 3
   },
   "file_extension": ".py",
   "mimetype": "text/x-python",
   "name": "python",
   "nbconvert_exporter": "python",
   "pygments_lexer": "ipython3",
   "version": "3.12.7"
  }
 },
 "nbformat": 4,
 "nbformat_minor": 2
}
