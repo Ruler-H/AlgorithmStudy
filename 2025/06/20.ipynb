{
 "cells": [
  {
   "cell_type": "code",
   "execution_count": null,
   "metadata": {},
   "outputs": [],
   "source": [
    "# 백준 13623번 - Zero or One\n",
    "import sys\n",
    "# input = sys.stdin.readline\n",
    "\n",
    "A, B, C = map(int, input().split())\n",
    "\n",
    "if A == B and B == C:\n",
    "    print(\"*\")\n",
    "elif A == B:\n",
    "    print(\"C\")\n",
    "elif A == C:\n",
    "    print(\"B\")\n",
    "else:\n",
    "    print(\"A\")"
   ]
  },
  {
   "cell_type": "code",
   "execution_count": null,
   "metadata": {},
   "outputs": [],
   "source": []
  }
 ],
 "metadata": {
  "kernelspec": {
   "display_name": "base",
   "language": "python",
   "name": "python3"
  },
  "language_info": {
   "codemirror_mode": {
    "name": "ipython",
    "version": 3
   },
   "file_extension": ".py",
   "mimetype": "text/x-python",
   "name": "python",
   "nbconvert_exporter": "python",
   "pygments_lexer": "ipython3",
   "version": "3.12.7"
  }
 },
 "nbformat": 4,
 "nbformat_minor": 2
}
