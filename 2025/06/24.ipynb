{
 "cells": [
  {
   "cell_type": "code",
   "execution_count": null,
   "metadata": {},
   "outputs": [],
   "source": [
    "# 백준 14173번 - Square Pasture\n",
    "import sys\n",
    "# input = sys.stdin.readline\n",
    "\n",
    "x1, y1, x2, y2 = map(int, input().split())\n",
    "x3, y3, x4, y4 = map(int, input().split())\n",
    "\n",
    "x_min = min(x1, x3)\n",
    "x_max = max(x2, x4)\n",
    "y_min = min(y1, y3)\n",
    "y_max = max(y2, y4)\n",
    "\n",
    "side = max(x_max - x_min, y_max - y_min)\n",
    "\n",
    "print(side ** 2)"
   ]
  },
  {
   "cell_type": "code",
   "execution_count": null,
   "metadata": {},
   "outputs": [],
   "source": []
  }
 ],
 "metadata": {
  "kernelspec": {
   "display_name": "base",
   "language": "python",
   "name": "python3"
  },
  "language_info": {
   "codemirror_mode": {
    "name": "ipython",
    "version": 3
   },
   "file_extension": ".py",
   "mimetype": "text/x-python",
   "name": "python",
   "nbconvert_exporter": "python",
   "pygments_lexer": "ipython3",
   "version": "3.12.7"
  }
 },
 "nbformat": 4,
 "nbformat_minor": 2
}
