{
 "cells": [
  {
   "cell_type": "code",
   "execution_count": null,
   "metadata": {},
   "outputs": [],
   "source": [
    "# 백준 11383번 - 뚊\n",
    "import sys\n",
    "# input = sys.stdin.readline\n",
    "\n",
    "N, M = map(int, input().split())\n",
    "\n",
    "is_possible = True\n",
    "word_list = []\n",
    "for _ in range(N):\n",
    "    word = input()\n",
    "    word_2 = \"\"\n",
    "    for i in word:\n",
    "        word_2 += (i * 2)\n",
    "    word_list.append(word_2)\n",
    "    \n",
    "for i in range(N):\n",
    "    if word_list[i] != input():\n",
    "        is_possible = False\n",
    "        break\n",
    "\n",
    "if is_possible:\n",
    "    print(\"Eyfa\")\n",
    "else:\n",
    "    print(\"Not Eyfa\")"
   ]
  },
  {
   "cell_type": "code",
   "execution_count": null,
   "metadata": {},
   "outputs": [],
   "source": []
  }
 ],
 "metadata": {
  "kernelspec": {
   "display_name": "base",
   "language": "python",
   "name": "python3"
  },
  "language_info": {
   "codemirror_mode": {
    "name": "ipython",
    "version": 3
   },
   "file_extension": ".py",
   "mimetype": "text/x-python",
   "name": "python",
   "nbconvert_exporter": "python",
   "pygments_lexer": "ipython3",
   "version": "3.12.7"
  }
 },
 "nbformat": 4,
 "nbformat_minor": 2
}
