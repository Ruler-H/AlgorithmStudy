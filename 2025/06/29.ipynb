{
 "cells": [
  {
   "cell_type": "code",
   "execution_count": null,
   "metadata": {},
   "outputs": [],
   "source": [
    "# 백준 15025번 - Judging Moose\n",
    "import sys\n",
    "# input = sys.stdin.readline\n",
    "\n",
    "e, r = map(int, input().split())\n",
    "\n",
    "if e == 0 and r == 0:\n",
    "    print(\"Not a moose\")\n",
    "elif e == r:\n",
    "    print(\"Even\", e + r)\n",
    "else:\n",
    "    print(\"Odd\", 2 * max(e, r))\n"
   ]
  },
  {
   "cell_type": "code",
   "execution_count": null,
   "metadata": {},
   "outputs": [],
   "source": []
  }
 ],
 "metadata": {
  "kernelspec": {
   "display_name": "base",
   "language": "python",
   "name": "python3"
  },
  "language_info": {
   "codemirror_mode": {
    "name": "ipython",
    "version": 3
   },
   "file_extension": ".py",
   "mimetype": "text/x-python",
   "name": "python",
   "nbconvert_exporter": "python",
   "pygments_lexer": "ipython3",
   "version": "3.12.7"
  }
 },
 "nbformat": 4,
 "nbformat_minor": 2
}
