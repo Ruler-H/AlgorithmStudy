{
 "cells": [
  {
   "cell_type": "code",
   "execution_count": null,
   "metadata": {},
   "outputs": [],
   "source": [
    "# 백준 16693번 - Pizza Deal\n",
    "import sys\n",
    "# input = sys.stdin.readline\n",
    "\n",
    "A1, P1 = map(int, input().split())\n",
    "R1, P2 = map(int, input().split())\n",
    "\n",
    "A_price = A1 / P1\n",
    "R_price = (R1 * R1 * 3.141592653589793) / P2\n",
    "\n",
    "if A_price > R_price:\n",
    "    print(\"Slice of pizza\")\n",
    "else:\n",
    "    print(\"Whole pizza\")"
   ]
  },
  {
   "cell_type": "code",
   "execution_count": null,
   "metadata": {},
   "outputs": [],
   "source": []
  }
 ],
 "metadata": {
  "kernelspec": {
   "display_name": "base",
   "language": "python",
   "name": "python3"
  },
  "language_info": {
   "codemirror_mode": {
    "name": "ipython",
    "version": 3
   },
   "file_extension": ".py",
   "mimetype": "text/x-python",
   "name": "python",
   "nbconvert_exporter": "python",
   "pygments_lexer": "ipython3",
   "version": "3.12.7"
  }
 },
 "nbformat": 4,
 "nbformat_minor": 2
}
