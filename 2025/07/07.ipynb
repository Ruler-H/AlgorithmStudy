{
 "cells": [
  {
   "cell_type": "code",
   "execution_count": null,
   "metadata": {},
   "outputs": [],
   "source": [
    "# 백준 15474번 - 鉛筆 (Pencils)\n",
    "import sys\n",
    "# input = sys.stdin.readline\n",
    "\n",
    "N, A, B, C, D = map(int, input().split())\n",
    "\n",
    "# 세트 X만 사용할 경우\n",
    "x_sets = (N + A - 1) // A\n",
    "x_cost = x_sets * B\n",
    "\n",
    "# 세트 Y만 사용할 경우\n",
    "y_sets = (N + C - 1) // C\n",
    "y_cost = y_sets * D\n",
    "\n",
    "# 둘 중 더 싼 것 출력\n",
    "print(min(x_cost, y_cost))"
   ]
  },
  {
   "cell_type": "code",
   "execution_count": null,
   "metadata": {},
   "outputs": [],
   "source": []
  }
 ],
 "metadata": {
  "kernelspec": {
   "display_name": "base",
   "language": "python",
   "name": "python3"
  },
  "language_info": {
   "codemirror_mode": {
    "name": "ipython",
    "version": 3
   },
   "file_extension": ".py",
   "mimetype": "text/x-python",
   "name": "python",
   "nbconvert_exporter": "python",
   "pygments_lexer": "ipython3",
   "version": "3.12.7"
  }
 },
 "nbformat": 4,
 "nbformat_minor": 2
}
