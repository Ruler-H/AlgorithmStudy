{
 "cells": [
  {
   "cell_type": "code",
   "execution_count": null,
   "metadata": {},
   "outputs": [],
   "source": [
    "# 백준 14626번 - ISBN\n",
    "import sys\n",
    "# input = sys.stdin.readline\n",
    "\n",
    "isbn = input().strip()\n",
    "posi = None\n",
    "total = 0\n",
    "\n",
    "for i in range(len(isbn)):\n",
    "    if isbn[i] == \"*\":\n",
    "        posi = i\n",
    "    else:\n",
    "        digit = int(isbn[i])\n",
    "        total += digit if i % 2 == 0 else 3 * digit\n",
    "\n",
    "for x in range(10):\n",
    "    guess = total + (x if posi % 2 == 0 else 3 * x)\n",
    "    if guess % 10 == 0:\n",
    "        print(x)\n",
    "        break\n"
   ]
  },
  {
   "cell_type": "code",
   "execution_count": null,
   "metadata": {},
   "outputs": [],
   "source": []
  }
 ],
 "metadata": {
  "kernelspec": {
   "display_name": "base",
   "language": "python",
   "name": "python3"
  },
  "language_info": {
   "codemirror_mode": {
    "name": "ipython",
    "version": 3
   },
   "file_extension": ".py",
   "mimetype": "text/x-python",
   "name": "python",
   "nbconvert_exporter": "python",
   "pygments_lexer": "ipython3",
   "version": "3.12.7"
  }
 },
 "nbformat": 4,
 "nbformat_minor": 2
}
