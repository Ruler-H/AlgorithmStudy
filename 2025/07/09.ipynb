{
 "cells": [
  {
   "cell_type": "code",
   "execution_count": null,
   "metadata": {},
   "outputs": [],
   "source": [
    "# 백준 17094번 - Serious Problem\n",
    "import sys\n",
    "# input = sys.stdin.readline\n",
    "\n",
    "s_len = int(input())\n",
    "s = input()\n",
    "\n",
    "str_2 = 0\n",
    "str_e = 0\n",
    "\n",
    "for i in range(s_len):\n",
    "    if s[i] == \"2\":\n",
    "        str_2 += 1\n",
    "    elif s[i] == \"e\":\n",
    "        str_e += 1\n",
    "\n",
    "if str_2 > str_e:\n",
    "    print(2)\n",
    "elif str_2 < str_e:\n",
    "    print(\"e\")\n",
    "else:\n",
    "    print(\"yee\")"
   ]
  },
  {
   "cell_type": "code",
   "execution_count": null,
   "metadata": {},
   "outputs": [],
   "source": []
  }
 ],
 "metadata": {
  "kernelspec": {
   "display_name": "base",
   "language": "python",
   "name": "python3"
  },
  "language_info": {
   "codemirror_mode": {
    "name": "ipython",
    "version": 3
   },
   "file_extension": ".py",
   "mimetype": "text/x-python",
   "name": "python",
   "nbconvert_exporter": "python",
   "pygments_lexer": "ipython3",
   "version": "3.12.7"
  }
 },
 "nbformat": 4,
 "nbformat_minor": 2
}
