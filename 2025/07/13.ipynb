{
 "cells": [
  {
   "cell_type": "code",
   "execution_count": null,
   "metadata": {},
   "outputs": [],
   "source": [
    "# 백준 28927번 - Киноманы\n",
    "import sys\n",
    "# input = sys.stdin.readline\n",
    "\n",
    "t1, e1, f1 = map(int, input().split())\n",
    "t2, e2, f2 = map(int, input().split())\n",
    "\n",
    "max_score = t1 * 3 + e1 * 20 + f1 * 120\n",
    "mel_score = t2 * 3 + e2 * 20 + f2 * 120\n",
    "if max_score > mel_score:\n",
    "    print(\"Max\")\n",
    "elif max_score < mel_score:\n",
    "    print(\"Mel\")\n",
    "else:\n",
    "    print(\"Draw\")"
   ]
  },
  {
   "cell_type": "code",
   "execution_count": null,
   "metadata": {},
   "outputs": [],
   "source": []
  }
 ],
 "metadata": {
  "kernelspec": {
   "display_name": "base",
   "language": "python",
   "name": "python3"
  },
  "language_info": {
   "codemirror_mode": {
    "name": "ipython",
    "version": 3
   },
   "file_extension": ".py",
   "mimetype": "text/x-python",
   "name": "python",
   "nbconvert_exporter": "python",
   "pygments_lexer": "ipython3",
   "version": "3.12.7"
  }
 },
 "nbformat": 4,
 "nbformat_minor": 2
}
