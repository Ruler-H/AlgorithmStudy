{
 "cells": [
  {
   "cell_type": "code",
   "execution_count": null,
   "metadata": {},
   "outputs": [],
   "source": [
    "# 백준 6825번 - Body Mass Index\n",
    "import sys\n",
    "# input = sys.stdin.readline\n",
    "\n",
    "weight = float(input())\n",
    "height = float(input())\n",
    "\n",
    "bmi = weight / (height * height)\n",
    "if bmi >= 25:\n",
    "    print(\"Overweight\")\n",
    "elif bmi >= 18.5:\n",
    "    print(\"Normal weight\")\n",
    "else:\n",
    "    print(\"Underweight\")"
   ]
  },
  {
   "cell_type": "code",
   "execution_count": null,
   "metadata": {},
   "outputs": [],
   "source": []
  }
 ],
 "metadata": {
  "kernelspec": {
   "display_name": "base",
   "language": "python",
   "name": "python3"
  },
  "language_info": {
   "codemirror_mode": {
    "name": "ipython",
    "version": 3
   },
   "file_extension": ".py",
   "mimetype": "text/x-python",
   "name": "python",
   "nbconvert_exporter": "python",
   "pygments_lexer": "ipython3",
   "version": "3.12.7"
  }
 },
 "nbformat": 4,
 "nbformat_minor": 2
}
