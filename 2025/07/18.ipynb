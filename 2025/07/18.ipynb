{
 "cells": [
  {
   "cell_type": "code",
   "execution_count": null,
   "metadata": {},
   "outputs": [],
   "source": [
    "# 백준 5358번 - Football Team\n",
    "import sys\n",
    "# input = sys.stdin.readline\n",
    "\n",
    "while True:\n",
    "    try:\n",
    "        name = input()\n",
    "    except EOFError:\n",
    "        break\n",
    "    new_name = ''\n",
    "    for i in name:\n",
    "        if i == 'e':\n",
    "            new_name += 'i'\n",
    "        elif i == 'E':\n",
    "            new_name += 'I'\n",
    "        elif i == 'i':\n",
    "            new_name += 'e'\n",
    "        elif i == 'I':\n",
    "            new_name += 'E'\n",
    "        else:\n",
    "            new_name += i\n",
    "    print(new_name)"
   ]
  },
  {
   "cell_type": "code",
   "execution_count": null,
   "metadata": {},
   "outputs": [],
   "source": []
  }
 ],
 "metadata": {
  "kernelspec": {
   "display_name": "base",
   "language": "python",
   "name": "python3"
  },
  "language_info": {
   "codemirror_mode": {
    "name": "ipython",
    "version": 3
   },
   "file_extension": ".py",
   "mimetype": "text/x-python",
   "name": "python",
   "nbconvert_exporter": "python",
   "pygments_lexer": "ipython3",
   "version": "3.12.7"
  }
 },
 "nbformat": 4,
 "nbformat_minor": 2
}
