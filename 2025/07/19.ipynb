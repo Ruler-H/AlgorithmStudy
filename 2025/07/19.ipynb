{
 "cells": [
  {
   "cell_type": "code",
   "execution_count": null,
   "metadata": {},
   "outputs": [],
   "source": [
    "# 백준 32326번 - Conveyor Belt Sushi\n",
    "import sys\n",
    "# input = sys.stdin.readline\n",
    "\n",
    "red = int(input())\n",
    "green = int(input())\n",
    "blue = int(input())\n",
    "\n",
    "result = 0\n",
    "result += red * 3\n",
    "result += green * 4\n",
    "result += blue * 5\n",
    "print(result)"
   ]
  },
  {
   "cell_type": "code",
   "execution_count": null,
   "metadata": {},
   "outputs": [],
   "source": []
  }
 ],
 "metadata": {
  "kernelspec": {
   "display_name": "base",
   "language": "python",
   "name": "python3"
  },
  "language_info": {
   "codemirror_mode": {
    "name": "ipython",
    "version": 3
   },
   "file_extension": ".py",
   "mimetype": "text/x-python",
   "name": "python",
   "nbconvert_exporter": "python",
   "pygments_lexer": "ipython3",
   "version": "3.12.7"
  }
 },
 "nbformat": 4,
 "nbformat_minor": 2
}
