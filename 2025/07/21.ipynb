{
 "cells": [
  {
   "cell_type": "code",
   "execution_count": null,
   "metadata": {},
   "outputs": [],
   "source": [
    "# 백준 30402번 - 감마선을 맞은 컴퓨터\n",
    "import sys\n",
    "# input = sys.stdin.readline\n",
    "\n",
    "picture = [input().strip() for _ in range(15)]\n",
    "\n",
    "for i in picture:\n",
    "    if \"w\" in i:\n",
    "        print(\"chunbae\")\n",
    "        break\n",
    "    elif \"b\" in i:\n",
    "        print(\"nabi\")\n",
    "        break\n",
    "    elif \"g\" in i:\n",
    "        print(\"yeongcheol\")\n",
    "        break"
   ]
  },
  {
   "cell_type": "code",
   "execution_count": null,
   "metadata": {},
   "outputs": [],
   "source": []
  }
 ],
 "metadata": {
  "kernelspec": {
   "display_name": "base",
   "language": "python",
   "name": "python3"
  },
  "language_info": {
   "codemirror_mode": {
    "name": "ipython",
    "version": 3
   },
   "file_extension": ".py",
   "mimetype": "text/x-python",
   "name": "python",
   "nbconvert_exporter": "python",
   "pygments_lexer": "ipython3",
   "version": "3.12.7"
  }
 },
 "nbformat": 4,
 "nbformat_minor": 2
}
