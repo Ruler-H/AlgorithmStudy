{
 "cells": [
  {
   "cell_type": "code",
   "execution_count": null,
   "metadata": {},
   "outputs": [],
   "source": [
    "# 백준 17363번 - 우유가 넘어지면?\n",
    "import sys\n",
    "# input = sys.stdin.readline\n",
    "\n",
    "N, M = map(int, input().split())\n",
    "\n",
    "picture = [input() for _ in range(N)]\n",
    "\n",
    "for j in range(M - 1, -1, -1):\n",
    "    for i in range(N):\n",
    "        if picture[i][j] == '-':\n",
    "            print('|', end='')\n",
    "        elif picture[i][j] == '|':\n",
    "            print('-', end='')\n",
    "        elif picture[i][j] == '/':\n",
    "            print('\\\\', end='')\n",
    "        elif picture[i][j] == '\\\\':\n",
    "            print('/', end='')\n",
    "        elif picture[i][j] == '^':\n",
    "            print('<', end='')\n",
    "        elif picture[i][j] == '<':\n",
    "            print('v', end='')\n",
    "        elif picture[i][j] == 'v':\n",
    "            print('>', end='')\n",
    "        elif picture[i][j] == '>':\n",
    "            print('^', end='')\n",
    "        else:\n",
    "            print(picture[i][j], end='')\n",
    "    print()"
   ]
  }
 ],
 "metadata": {
  "kernelspec": {
   "display_name": ".venv",
   "language": "python",
   "name": "python3"
  },
  "language_info": {
   "codemirror_mode": {
    "name": "ipython",
    "version": 3
   },
   "file_extension": ".py",
   "mimetype": "text/x-python",
   "name": "python",
   "nbconvert_exporter": "python",
   "pygments_lexer": "ipython3",
   "version": "3.13.0"
  }
 },
 "nbformat": 4,
 "nbformat_minor": 2
}
