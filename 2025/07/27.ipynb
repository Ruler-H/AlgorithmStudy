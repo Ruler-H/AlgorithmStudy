{
 "cells": [
  {
   "cell_type": "code",
   "execution_count": null,
   "metadata": {},
   "outputs": [],
   "source": [
    "# 백준 23881번 - 알고리즘 수업 - 선택 정렬 1\n",
    "import sys\n",
    "# input = sys.stdin.readline\n",
    "\n",
    "A, N = map(int, input().split())\n",
    "arr = list(map(int, input().split()))\n",
    "\n",
    "cnt = 0 # 교환 횟수\n",
    "for i in range(A - 1):\n",
    "    max_idx = 0\n",
    "    max_v = arr[0]\n",
    "    for j in range(A - i):\n",
    "        if max_v < arr[j]:\n",
    "            max_v = arr[j]\n",
    "            max_idx = j\n",
    "    if max_idx != A - i - 1:\n",
    "        arr[max_idx], arr[A - i - 1] = arr[A - i - 1], arr[max_idx]\n",
    "        cnt += 1\n",
    "        if cnt == N:\n",
    "            print(arr[max_idx], arr[A - i - 1])\n",
    "            sys.exit()\n",
    "else:\n",
    "    print(-1)"
   ]
  },
  {
   "cell_type": "code",
   "execution_count": null,
   "metadata": {},
   "outputs": [],
   "source": []
  }
 ],
 "metadata": {
  "kernelspec": {
   "display_name": ".venv",
   "language": "python",
   "name": "python3"
  },
  "language_info": {
   "codemirror_mode": {
    "name": "ipython",
    "version": 3
   },
   "file_extension": ".py",
   "mimetype": "text/x-python",
   "name": "python",
   "nbconvert_exporter": "python",
   "pygments_lexer": "ipython3",
   "version": "3.13.0"
  }
 },
 "nbformat": 4,
 "nbformat_minor": 2
}
