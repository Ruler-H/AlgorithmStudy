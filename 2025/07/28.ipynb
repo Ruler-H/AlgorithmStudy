{
 "cells": [
  {
   "cell_type": "code",
   "execution_count": null,
   "metadata": {},
   "outputs": [],
   "source": [
    "# 백준 15080번 - Every Second Counts\n",
    "import sys\n",
    "# input = sys.stdin.readline\n",
    "\n",
    "h1, m1, s1 = map(int, input().split(':'))\n",
    "h2, m2, s2 = map(int, input().split(':'))\n",
    "\n",
    "result = (h2 - h1) * 3600 + (m2 - m1) * 60 + (s2 - s1)\n",
    "\n",
    "if result < 0:\n",
    "    result += 24 * 3600\n",
    "\n",
    "print(result)"
   ]
  }
 ],
 "metadata": {
  "kernelspec": {
   "display_name": ".venv",
   "language": "python",
   "name": "python3"
  },
  "language_info": {
   "codemirror_mode": {
    "name": "ipython",
    "version": 3
   },
   "file_extension": ".py",
   "mimetype": "text/x-python",
   "name": "python",
   "nbconvert_exporter": "python",
   "pygments_lexer": "ipython3",
   "version": "3.13.0"
  }
 },
 "nbformat": 4,
 "nbformat_minor": 2
}
