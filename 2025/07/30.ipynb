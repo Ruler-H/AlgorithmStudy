{
 "cells": [
  {
   "cell_type": "code",
   "execution_count": null,
   "metadata": {},
   "outputs": [],
   "source": [
    "# 백준 9946번 - 단어 퍼즐\n",
    "import sys\n",
    "# input = sys.stdin.readline\n",
    "cnt = 1\n",
    "while True:\n",
    "    word1 = input()\n",
    "    word2 = input()\n",
    "\n",
    "    if word1 == 'END' and word2 == 'END':\n",
    "        break\n",
    "\n",
    "    if sorted(word1) == sorted(word2):\n",
    "        print(f'Case {cnt}: same')\n",
    "    else:\n",
    "        print(f'Case {cnt}: different')\n",
    "    cnt += 1"
   ]
  }
 ],
 "metadata": {
  "kernelspec": {
   "display_name": ".venv",
   "language": "python",
   "name": "python3"
  },
  "language_info": {
   "codemirror_mode": {
    "name": "ipython",
    "version": 3
   },
   "file_extension": ".py",
   "mimetype": "text/x-python",
   "name": "python",
   "nbconvert_exporter": "python",
   "pygments_lexer": "ipython3",
   "version": "3.13.0"
  }
 },
 "nbformat": 4,
 "nbformat_minor": 2
}
