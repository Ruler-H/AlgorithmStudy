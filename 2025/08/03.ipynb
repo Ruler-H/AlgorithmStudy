{
 "cells": [
  {
   "cell_type": "code",
   "execution_count": null,
   "metadata": {},
   "outputs": [],
   "source": [
    "# 백준 31495번 - 그게 무슨 코드니..\n",
    "import sys\n",
    "# input = sys.stdin.readline\n",
    "\n",
    "S = input().rstrip()\n",
    "\n",
    "if S[0] == \"\\\"\" and S[-1] == \"\\\"\":\n",
    "    S = S[1:-1]\n",
    "    if S == \"\":\n",
    "        print(\"CE\")\n",
    "    else:\n",
    "        print(S.replace(\"\\\"\", \"\"))\n",
    "else:\n",
    "    print(\"CE\")"
   ]
  },
  {
   "cell_type": "code",
   "execution_count": null,
   "metadata": {},
   "outputs": [],
   "source": []
  }
 ],
 "metadata": {
  "kernelspec": {
   "display_name": ".venv",
   "language": "python",
   "name": "python3"
  },
  "language_info": {
   "codemirror_mode": {
    "name": "ipython",
    "version": 3
   },
   "file_extension": ".py",
   "mimetype": "text/x-python",
   "name": "python",
   "nbconvert_exporter": "python",
   "pygments_lexer": "ipython3",
   "version": "3.13.0"
  }
 },
 "nbformat": 4,
 "nbformat_minor": 2
}
