{
 "cells": [
  {
   "cell_type": "code",
   "execution_count": null,
   "metadata": {},
   "outputs": [],
   "source": [
    "# 백준 17224번 - APC는 왜 서브태스크 대회가 되었을까?\n",
    "import sys\n",
    "# input = sys.stdin.readline\n",
    "\n",
    "N, L, K = map(int, input().split())\n",
    "solve_list = []\n",
    "for _ in range(N):\n",
    "    sub1, sub2 = map(int, input().split())\n",
    "    if sub1 <= L and sub2 <= L:\n",
    "        solve_list.append(140)\n",
    "    elif sub1 <= L:\n",
    "        solve_list.append(100)\n",
    "    else:\n",
    "        solve_list.append(0)\n",
    "solve_list.sort(reverse=True)\n",
    "print(sum(solve_list[:K]))"
   ]
  },
  {
   "cell_type": "code",
   "execution_count": null,
   "metadata": {},
   "outputs": [],
   "source": []
  }
 ],
 "metadata": {
  "kernelspec": {
   "display_name": ".venv",
   "language": "python",
   "name": "python3"
  },
  "language_info": {
   "codemirror_mode": {
    "name": "ipython",
    "version": 3
   },
   "file_extension": ".py",
   "mimetype": "text/x-python",
   "name": "python",
   "nbconvert_exporter": "python",
   "pygments_lexer": "ipython3",
   "version": "3.13.0"
  }
 },
 "nbformat": 4,
 "nbformat_minor": 2
}
