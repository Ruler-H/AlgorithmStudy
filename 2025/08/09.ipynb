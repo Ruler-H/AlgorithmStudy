{
 "cells": [
  {
   "cell_type": "code",
   "execution_count": null,
   "metadata": {},
   "outputs": [],
   "source": [
    "# 백준 16727번 - ICPC\n",
    "import sys\n",
    "# input = sys.stdin.readline\n",
    "\n",
    "p1, s1 = map(int, input().split())  # 1차전: P(home) vs S(away)\n",
    "s2, p2 = map(int, input().split())  # 2차전: S(home) vs P(away)\n",
    "\n",
    "p_score = p1 + p2\n",
    "s_score = s1 + s2\n",
    "\n",
    "if p_score > s_score:\n",
    "    print(\"Persepolis\")\n",
    "elif p_score < s_score:\n",
    "    print(\"Esteghlal\")\n",
    "else:\n",
    "    # away goals: P = p2, S = s1\n",
    "    if p2 > s1:\n",
    "        print(\"Persepolis\")\n",
    "    elif p2 < s1:\n",
    "        print(\"Esteghlal\")\n",
    "    else:\n",
    "        print(\"Penalty\")\n"
   ]
  },
  {
   "cell_type": "code",
   "execution_count": null,
   "metadata": {},
   "outputs": [],
   "source": []
  }
 ],
 "metadata": {
  "kernelspec": {
   "display_name": ".venv",
   "language": "python",
   "name": "python3"
  },
  "language_info": {
   "codemirror_mode": {
    "name": "ipython",
    "version": 3
   },
   "file_extension": ".py",
   "mimetype": "text/x-python",
   "name": "python",
   "nbconvert_exporter": "python",
   "pygments_lexer": "ipython3",
   "version": "3.13.0"
  }
 },
 "nbformat": 4,
 "nbformat_minor": 2
}
