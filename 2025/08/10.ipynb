{
 "cells": [
  {
   "cell_type": "code",
   "execution_count": null,
   "metadata": {},
   "outputs": [],
   "source": [
    "# 백준 20232번 - Archivist\n",
    "import sys\n",
    "# input = sys.stdin.readline\n",
    "\n",
    "# 1995년: ITMO\n",
    "# 1996년: SPbSU\n",
    "# 1997년: SPbSU\n",
    "# 1998년: ITMO\n",
    "# 1999년: ITMO\n",
    "# 2000년: SPbSU\n",
    "# 2001: ITMO\n",
    "# 2002: ITMO\n",
    "# 2003: ITMO\n",
    "# 2004: ITMO\n",
    "# 2005: ITMO\n",
    "# 2006: PetrSU, ITMO\n",
    "# 2007: SPbSU\n",
    "# 2008: SPbSU\n",
    "# 2009: ITMO\n",
    "# 2010: ITMO\n",
    "# 2011: ITMO\n",
    "# 2012: ITMO\n",
    "# 2013: SPbSU\n",
    "# 2014: ITMO\n",
    "# 2015: ITMO\n",
    "# 2016: ITMO\n",
    "# 2017: ITMO\n",
    "# 2018: SPbSU\n",
    "# 2019: ITMO\n",
    "awards = {\n",
    "    \"1995\": \"ITMO\",\n",
    "    \"1996\": \"SPbSU\",\n",
    "    \"1997\": \"SPbSU\",\n",
    "    \"1998\": \"ITMO\",\n",
    "    \"1999\": \"ITMO\",\n",
    "    \"2000\": \"SPbSU\",\n",
    "    \"2001\": \"ITMO\",\n",
    "    \"2002\": \"ITMO\",\n",
    "    \"2003\": \"ITMO\",\n",
    "    \"2004\": \"ITMO\",\n",
    "    \"2005\": \"ITMO\",\n",
    "    \"2006\": \"PetrSU, ITMO\",\n",
    "    \"2007\": \"SPbSU\",\n",
    "    \"2008\": \"SPbSU\",\n",
    "    \"2009\": \"ITMO\",\n",
    "    \"2010\": \"ITMO\",\n",
    "    \"2011\": \"ITMO\",\n",
    "    \"2012\": \"ITMO\",\n",
    "    \"2013\": \"SPbSU\",\n",
    "    \"2014\": \"ITMO\",\n",
    "    \"2015\": \"ITMO\",\n",
    "    \"2016\": \"ITMO\",\n",
    "    \"2017\": \"ITMO\",\n",
    "    \"2018\": \"SPbSU\",\n",
    "    \"2019\": \"ITMO\",\n",
    "}\n",
    "inp_year = input()\n",
    "print(awards.get(inp_year))"
   ]
  },
  {
   "cell_type": "code",
   "execution_count": null,
   "metadata": {},
   "outputs": [],
   "source": []
  }
 ],
 "metadata": {
  "kernelspec": {
   "display_name": ".venv",
   "language": "python",
   "name": "python3"
  },
  "language_info": {
   "codemirror_mode": {
    "name": "ipython",
    "version": 3
   },
   "file_extension": ".py",
   "mimetype": "text/x-python",
   "name": "python",
   "nbconvert_exporter": "python",
   "pygments_lexer": "ipython3",
   "version": "3.13.0"
  }
 },
 "nbformat": 4,
 "nbformat_minor": 2
}
