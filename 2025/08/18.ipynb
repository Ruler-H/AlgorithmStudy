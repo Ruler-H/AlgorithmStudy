{
 "cells": [
  {
   "cell_type": "code",
   "execution_count": null,
   "metadata": {},
   "outputs": [
    {
     "name": "stdout",
     "output_type": "stream",
     "text": [
      "Red\n"
     ]
    }
   ],
   "source": [
    "# 백준 20673번 - Covid-19\n",
    "import sys\n",
    "# input = sys.stdin.readline\n",
    "\n",
    "# 2주 동안 하나 시의 인구 100만 명당 하루 평균 신규 확진자 수\n",
    "p = int(input())\n",
    "# 2주 동안 하나 시의 인구 100만 명당 하루 평균 신규 입원 환자 수\n",
    "q = int(input())\n",
    "\n",
    "if p <= 50 and q <= 10:\n",
    "    print(\"White\")\n",
    "elif q > 30:\n",
    "    print(\"Red\")\n",
    "else:\n",
    "    print(\"Yellow\")"
   ]
  },
  {
   "cell_type": "markdown",
   "metadata": {},
   "source": [
    "이 차트에서 각 도시는 해당 도시의 코로나바이러스 위험 수준을 보여주는 몇 가지 지표에 따라 빨간색, 노란색 또는 흰색으로 표시됩니다. 여러 모델을 탐색한 후, 부처는 도시를 분류하기 위한 다음과 같은 기준에 도달했습니다. 주어진 도시에서 지난 2주 동안 하루 평균 신규 확진자 수가 인구 100만 명당 50명 이하고, 지난 2주 동안 하루 평균 신규 입원자 수가 인구 100만 명당 10명 이하면 해당 도시는 흰색으로 표시되어 저위험 구역에 있음을 의미합니다. 반면, 지난 2주 동안 하루 평균 신규 입원자 수가 인구 100만 명당 30명을 넘으면 해당 도시는 고위험으로 분류되어 빨간색으로 표시됩니다. 다른 모든 도시는 노란색으로 표시됩니다."
   ]
  },
  {
   "cell_type": "code",
   "execution_count": null,
   "metadata": {},
   "outputs": [],
   "source": []
  }
 ],
 "metadata": {
  "kernelspec": {
   "display_name": ".venv",
   "language": "python",
   "name": "python3"
  },
  "language_info": {
   "codemirror_mode": {
    "name": "ipython",
    "version": 3
   },
   "file_extension": ".py",
   "mimetype": "text/x-python",
   "name": "python",
   "nbconvert_exporter": "python",
   "pygments_lexer": "ipython3",
   "version": "3.13.0"
  }
 },
 "nbformat": 4,
 "nbformat_minor": 2
}
