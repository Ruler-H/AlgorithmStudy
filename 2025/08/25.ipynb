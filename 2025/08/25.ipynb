{
 "cells": [
  {
   "cell_type": "code",
   "execution_count": 6,
   "metadata": {},
   "outputs": [
    {
     "name": "stdout",
     "output_type": "stream",
     "text": [
      "10 10\n"
     ]
    }
   ],
   "source": [
    "# 백준 20223번 - Bicycle\n",
    "import sys\n",
    "# input = sys.stdin.readline\n",
    "\n",
    "a = int(input())\n",
    "x = int(input())\n",
    "b = int(input())\n",
    "y = int(input())\n",
    "T = int(input())\n",
    "\n",
    "option1 = a\n",
    "if T > 30:\n",
    "    option1 += ((T - 30) * x * 21)\n",
    "\n",
    "option2 = b\n",
    "if T > 45:\n",
    "    option2 += ((T - 45) * y * 21)\n",
    "\n",
    "print(option1, option2)"
   ]
  },
  {
   "cell_type": "code",
   "execution_count": null,
   "metadata": {},
   "outputs": [],
   "source": []
  }
 ],
 "metadata": {
  "kernelspec": {
   "display_name": ".venv",
   "language": "python",
   "name": "python3"
  },
  "language_info": {
   "codemirror_mode": {
    "name": "ipython",
    "version": 3
   },
   "file_extension": ".py",
   "mimetype": "text/x-python",
   "name": "python",
   "nbconvert_exporter": "python",
   "pygments_lexer": "ipython3",
   "version": "3.13.0"
  }
 },
 "nbformat": 4,
 "nbformat_minor": 2
}
