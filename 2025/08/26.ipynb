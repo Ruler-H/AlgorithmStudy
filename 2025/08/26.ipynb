{
 "cells": [
  {
   "cell_type": "code",
   "execution_count": 2,
   "metadata": {},
   "outputs": [
    {
     "name": "stdout",
     "output_type": "stream",
     "text": [
      "11\n",
      "A B C D E F G H J L M\n"
     ]
    }
   ],
   "source": [
    "# 백준 32154번 - SUAPC 2024 Winter\n",
    "import sys\n",
    "# input = sys.stdin.readline\n",
    "\n",
    "N = int(input())\n",
    "\n",
    "sovle_dict = {\n",
    "    1: [\"A\", \"B\", \"C\", \"D\", \"E\", \"F\", \"G\", \"H\", \"J\", \"L\", \"M\"],\n",
    "    2: [\"A\", \"C\", \"E\", \"F\", \"G\", \"H\", \"I\", \"L\", \"M\"],\n",
    "    3: [\"A\", \"C\", \"E\", \"F\", \"G\", \"H\", \"I\", \"L\", \"M\"],\n",
    "    4: [\"A\", \"B\", \"C\", \"E\", \"F\", \"G\", \"H\", \"L\", \"M\"],\n",
    "    5: [\"A\", \"C\", \"E\", \"F\", \"G\", \"H\", \"L\", \"M\"],\n",
    "    6: [\"A\", \"C\", \"E\", \"F\", \"G\", \"H\", \"L\", \"M\"],\n",
    "    7: [\"A\", \"C\", \"E\", \"F\", \"G\", \"H\", \"L\", \"M\"],\n",
    "    8: [\"A\", \"C\", \"E\", \"F\", \"G\", \"H\", \"L\", \"M\"],\n",
    "    9: [\"A\", \"C\", \"E\", \"F\", \"G\", \"H\", \"L\", \"M\"],\n",
    "    10: [\"A\", \"B\", \"C\", \"F\", \"G\", \"H\", \"L\", \"M\"],\n",
    "}\n",
    "\n",
    "print(len(sovle_dict[N]))\n",
    "print(\" \".join(sovle_dict[N]))"
   ]
  },
  {
   "cell_type": "code",
   "execution_count": null,
   "metadata": {},
   "outputs": [],
   "source": []
  }
 ],
 "metadata": {
  "kernelspec": {
   "display_name": ".venv",
   "language": "python",
   "name": "python3"
  },
  "language_info": {
   "codemirror_mode": {
    "name": "ipython",
    "version": 3
   },
   "file_extension": ".py",
   "mimetype": "text/x-python",
   "name": "python",
   "nbconvert_exporter": "python",
   "pygments_lexer": "ipython3",
   "version": "3.13.0"
  }
 },
 "nbformat": 4,
 "nbformat_minor": 2
}
