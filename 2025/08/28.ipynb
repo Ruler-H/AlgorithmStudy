{
 "cells": [
  {
   "cell_type": "code",
   "execution_count": null,
   "metadata": {},
   "outputs": [],
   "source": [
    "# 백준 11367번 - Report Card Time\n",
    "import sys\n",
    "# input = sys.stdin.readline\n",
    "\n",
    "n = int(input())\n",
    "\n",
    "for i in range(n):\n",
    "    name, score = input().split()\n",
    "    score = int(score)\n",
    "    if score >= 97:\n",
    "        print(name, \"A+\")\n",
    "    elif score >= 90:\n",
    "        print(name, \"A\")\n",
    "    elif score >= 87:\n",
    "        print(name, \"B+\")\n",
    "    elif score >= 80:\n",
    "        print(name, \"B\")\n",
    "    elif score >= 77:\n",
    "        print(name, \"C+\")\n",
    "    elif score >= 70:\n",
    "        print(name, \"C\")\n",
    "    elif score >= 67:\n",
    "        print(name, \"D+\")\n",
    "    elif score >= 60:\n",
    "        print(name, \"D\")\n",
    "    else:\n",
    "        print(name, \"F\")"
   ]
  },
  {
   "cell_type": "code",
   "execution_count": null,
   "metadata": {},
   "outputs": [],
   "source": []
  }
 ],
 "metadata": {
  "kernelspec": {
   "display_name": ".venv",
   "language": "python",
   "name": "python3"
  },
  "language_info": {
   "codemirror_mode": {
    "name": "ipython",
    "version": 3
   },
   "file_extension": ".py",
   "mimetype": "text/x-python",
   "name": "python",
   "nbconvert_exporter": "python",
   "pygments_lexer": "ipython3",
   "version": "3.13.0"
  }
 },
 "nbformat": 4,
 "nbformat_minor": 2
}
