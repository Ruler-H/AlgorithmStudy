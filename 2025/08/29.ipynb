{
 "cells": [
  {
   "cell_type": "code",
   "execution_count": null,
   "metadata": {},
   "outputs": [
    {
     "name": "stdout",
     "output_type": "stream",
     "text": [
      "['A', 'B']\n"
     ]
    }
   ],
   "source": [
    "# 백준 13698번 - Hawk eyes\n",
    "import sys\n",
    "# input = sys.stdin.readline\n",
    "\n",
    "orders = input().strip()\n",
    "cups = [1, 0, 0, 2]\n",
    "for order in orders:\n",
    "    if order == 'A':\n",
    "        cups[0], cups[1] = cups[1], cups[0]\n",
    "    elif order == 'B':\n",
    "        cups[0], cups[2] = cups[2], cups[0]\n",
    "    elif order == 'C':\n",
    "        cups[0], cups[3] = cups[3], cups[0]\n",
    "    elif order == 'D':\n",
    "        cups[1], cups[2] = cups[2], cups[1]\n",
    "    elif order == 'E':\n",
    "        cups[1], cups[3] = cups[3], cups[1]\n",
    "    elif order == 'F':\n",
    "        cups[2], cups[3] = cups[3], cups[2]\n",
    "print(cups.index(1) + 1)\n",
    "print(cups.index(2) + 1)"
   ]
  },
  {
   "cell_type": "code",
   "execution_count": null,
   "metadata": {},
   "outputs": [],
   "source": []
  }
 ],
 "metadata": {
  "kernelspec": {
   "display_name": ".venv",
   "language": "python",
   "name": "python3"
  },
  "language_info": {
   "codemirror_mode": {
    "name": "ipython",
    "version": 3
   },
   "file_extension": ".py",
   "mimetype": "text/x-python",
   "name": "python",
   "nbconvert_exporter": "python",
   "pygments_lexer": "ipython3",
   "version": "3.13.0"
  }
 },
 "nbformat": 4,
 "nbformat_minor": 2
}
