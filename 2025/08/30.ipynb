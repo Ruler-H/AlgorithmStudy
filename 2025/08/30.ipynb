{
 "cells": [
  {
   "cell_type": "code",
   "execution_count": null,
   "metadata": {},
   "outputs": [
    {
     "name": "stdout",
     "output_type": "stream",
     "text": [
      "Q1\n",
      "Q3\n",
      "AXIS\n",
      "Q2\n"
     ]
    }
   ],
   "source": [
    "# 백준 9772번 - Quadrants\n",
    "import sys\n",
    "# input = sys.stdin.readline\n",
    "\n",
    "while True:\n",
    "    x, y = map(float, input().split())\n",
    "    if x == 0 and y == 0:\n",
    "        print(\"AXIS\")\n",
    "        break\n",
    "    if x > 0 and y > 0:\n",
    "        print(\"Q1\")\n",
    "    elif x < 0 and y > 0:\n",
    "        print(\"Q2\")\n",
    "    elif x < 0 and y < 0:\n",
    "        print(\"Q3\")\n",
    "    elif x > 0 and y < 0:\n",
    "        print(\"Q4\")\n",
    "    else:\n",
    "        print(\"AXIS\")"
   ]
  },
  {
   "cell_type": "code",
   "execution_count": null,
   "metadata": {},
   "outputs": [],
   "source": []
  }
 ],
 "metadata": {
  "kernelspec": {
   "display_name": ".venv",
   "language": "python",
   "name": "python3"
  },
  "language_info": {
   "codemirror_mode": {
    "name": "ipython",
    "version": 3
   },
   "file_extension": ".py",
   "mimetype": "text/x-python",
   "name": "python",
   "nbconvert_exporter": "python",
   "pygments_lexer": "ipython3",
   "version": "3.13.0"
  }
 },
 "nbformat": 4,
 "nbformat_minor": 2
}
