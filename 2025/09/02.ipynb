{
 "cells": [
  {
   "cell_type": "code",
   "execution_count": 2,
   "metadata": {},
   "outputs": [
    {
     "name": "stdout",
     "output_type": "stream",
     "text": [
      "-1\n"
     ]
    }
   ],
   "source": [
    "# 백준 23968번 - 알고리즘 수업 - 버블 정렬 1\n",
    "import sys\n",
    "# input = sys.stdin.readline\n",
    "\n",
    "N, K = map(int, input().split())\n",
    "A = list(map(int, input().split()))\n",
    "for i in range(N-1, 0, -1):\n",
    "    for j in range(i):\n",
    "        if A[j] > A[j+1]:\n",
    "            A[j], A[j+1] = A[j+1], A[j]\n",
    "            K -= 1\n",
    "        if K == 0:\n",
    "            print(A[j], A[j+1])\n",
    "            sys.exit()\n",
    "print(-1)"
   ]
  },
  {
   "cell_type": "code",
   "execution_count": null,
   "metadata": {},
   "outputs": [],
   "source": []
  }
 ],
 "metadata": {
  "kernelspec": {
   "display_name": ".venv",
   "language": "python",
   "name": "python3"
  },
  "language_info": {
   "codemirror_mode": {
    "name": "ipython",
    "version": 3
   },
   "file_extension": ".py",
   "mimetype": "text/x-python",
   "name": "python",
   "nbconvert_exporter": "python",
   "pygments_lexer": "ipython3",
   "version": "3.13.0"
  }
 },
 "nbformat": 4,
 "nbformat_minor": 2
}
