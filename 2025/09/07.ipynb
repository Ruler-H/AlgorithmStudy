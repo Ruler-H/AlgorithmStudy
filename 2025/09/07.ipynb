{
 "cells": [
  {
   "cell_type": "code",
   "execution_count": null,
   "metadata": {},
   "outputs": [
    {
     "name": "stdout",
     "output_type": "stream",
     "text": [
      "1\n"
     ]
    }
   ],
   "source": [
    "# 백준 15128번 - Congruent Numbers\n",
    "import sys\n",
    "# input = sys.stdin.readline\n",
    "\n",
    "p1, q1, p2, q2 = map(int, input().split())\n",
    "\n",
    "molecule = p1 * p2\n",
    "denominator = q1 * q2 * 2\n",
    "\n",
    "if molecule % denominator == 0:\n",
    "    print(1)\n",
    "else:\n",
    "    print(0)"
   ]
  }
 ],
 "metadata": {
  "kernelspec": {
   "display_name": ".venv",
   "language": "python",
   "name": "python3"
  },
  "language_info": {
   "codemirror_mode": {
    "name": "ipython",
    "version": 3
   },
   "file_extension": ".py",
   "mimetype": "text/x-python",
   "name": "python",
   "nbconvert_exporter": "python",
   "pygments_lexer": "ipython3",
   "version": "3.13.0"
  }
 },
 "nbformat": 4,
 "nbformat_minor": 2
}
