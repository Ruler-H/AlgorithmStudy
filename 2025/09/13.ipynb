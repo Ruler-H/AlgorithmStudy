{
 "cells": [
  {
   "cell_type": "code",
   "execution_count": null,
   "metadata": {},
   "outputs": [],
   "source": [
    "# 백준 6841번 - I Speak TXTMSG\n",
    "import sys\n",
    "# input = sys.stdin.readline\n",
    "\n",
    "dict_txtmsg = {\n",
    "    'CU': 'see you',\n",
    "    ':-)': 'I’m happy',\n",
    "    ':-(': 'I’m unhappy',\n",
    "    ';-)': 'wink',\n",
    "    ':-P': 'stick out my tongue',\n",
    "    '(~.~)': 'sleepy',\n",
    "    'TA': 'totally awesome',\n",
    "    'CCC': 'Canadian Computing Competition',\n",
    "    'CUZ': 'because',\n",
    "    'TY': 'thank-you',\n",
    "    'YW': 'you’re welcome',\n",
    "    'TTYL': 'talk to you later'\n",
    "}\n",
    "while True:\n",
    "    inp_str = input()\n",
    "    if inp_str in dict_txtmsg:\n",
    "        print(dict_txtmsg[inp_str])\n",
    "    else:\n",
    "        print(inp_str)\n",
    "    if inp_str == 'TTYL':\n",
    "        break"
   ]
  },
  {
   "cell_type": "code",
   "execution_count": null,
   "metadata": {},
   "outputs": [],
   "source": []
  }
 ],
 "metadata": {
  "kernelspec": {
   "display_name": "Python 3",
   "language": "python",
   "name": "python3"
  },
  "language_info": {
   "codemirror_mode": {
    "name": "ipython",
    "version": 3
   },
   "file_extension": ".py",
   "mimetype": "text/x-python",
   "name": "python",
   "nbconvert_exporter": "python",
   "pygments_lexer": "ipython3",
   "version": "3.13.0"
  }
 },
 "nbformat": 4,
 "nbformat_minor": 2
}
