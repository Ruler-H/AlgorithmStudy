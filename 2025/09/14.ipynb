{
 "cells": [
  {
   "cell_type": "code",
   "execution_count": null,
   "metadata": {},
   "outputs": [
    {
     "name": "stdout",
     "output_type": "stream",
     "text": [
      "12 6\n",
      "0 0\n",
      "0 0\n"
     ]
    }
   ],
   "source": [
    "# 백준 11319번 - Count Me In\n",
    "import sys\n",
    "# input = sys.stdin.readline\n",
    "\n",
    "S = int(input())\n",
    "vowels = set(['a', 'e', 'i', 'o', 'u'])\n",
    "\n",
    "for _ in range(S):\n",
    "    inp_str = input().lower()\n",
    "    consonant_count = 0\n",
    "    vowel_count = 0\n",
    "    \n",
    "    for char in inp_str:\n",
    "        if char.isalpha():  # 알파벳인 경우만 처리\n",
    "            if char in vowels:\n",
    "                vowel_count += 1\n",
    "            else:\n",
    "                consonant_count += 1\n",
    "    \n",
    "    print(consonant_count, vowel_count)"
   ]
  },
  {
   "cell_type": "code",
   "execution_count": null,
   "metadata": {},
   "outputs": [],
   "source": []
  }
 ],
 "metadata": {
  "kernelspec": {
   "display_name": "Python 3",
   "language": "python",
   "name": "python3"
  },
  "language_info": {
   "codemirror_mode": {
    "name": "ipython",
    "version": 3
   },
   "file_extension": ".py",
   "mimetype": "text/x-python",
   "name": "python",
   "nbconvert_exporter": "python",
   "pygments_lexer": "ipython3",
   "version": "3.13.0"
  }
 },
 "nbformat": 4,
 "nbformat_minor": 2
}
