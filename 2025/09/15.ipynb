{
 "cells": [
  {
   "cell_type": "code",
   "execution_count": null,
   "metadata": {},
   "outputs": [],
   "source": [
    "# 백준 31775번 - 글로벌 포닉스\n",
    "import sys\n",
    "# input = sys.stdin.readline\n",
    "\n",
    "first_word_list = []\n",
    "for _ in range(3):\n",
    "    first_word_list.append(input()[0])\n",
    "\n",
    "if \"l\" in first_word_list and \"k\" in first_word_list and \"p\" in first_word_list:\n",
    "    print(\"GLOBAL\")\n",
    "else:\n",
    "    print(\"PONIX\")"
   ]
  },
  {
   "cell_type": "code",
   "execution_count": null,
   "metadata": {},
   "outputs": [],
   "source": []
  }
 ],
 "metadata": {
  "kernelspec": {
   "display_name": "Python 3",
   "language": "python",
   "name": "python3"
  },
  "language_info": {
   "codemirror_mode": {
    "name": "ipython",
    "version": 3
   },
   "file_extension": ".py",
   "mimetype": "text/x-python",
   "name": "python",
   "nbconvert_exporter": "python",
   "pygments_lexer": "ipython3",
   "version": "3.13.0"
  }
 },
 "nbformat": 4,
 "nbformat_minor": 2
}
