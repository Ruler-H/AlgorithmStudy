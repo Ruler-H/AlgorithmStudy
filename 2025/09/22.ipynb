{
 "cells": [
  {
   "cell_type": "code",
   "execution_count": null,
   "metadata": {},
   "outputs": [],
   "source": [
    "# 백준 16769번 - Mixing Milk\n",
    "import sys\n",
    "# input = sys.stdin.readline\n",
    "\n",
    "c1, m1 = map(int, input().split())\n",
    "c2, m2 = map(int, input().split())\n",
    "c3, m3 = map(int, input().split())\n",
    "\n",
    "for i in range(100):\n",
    "    if i % 3 == 0:\n",
    "        temp = min(c2, m1 + m2)\n",
    "        m1 += (m2 - temp)\n",
    "        m2 = temp\n",
    "    elif i % 3 == 1:\n",
    "        temp = min(c3, m2 + m3)\n",
    "        m2 += (m3 - temp)\n",
    "        m3 = temp\n",
    "    else:\n",
    "        temp = min(c1, m3 + m1)\n",
    "        m3 += (m1 - temp)\n",
    "        m1 = temp\n",
    "print(m1)\n",
    "print(m2)\n",
    "print(m3)"
   ]
  },
  {
   "cell_type": "code",
   "execution_count": null,
   "metadata": {},
   "outputs": [],
   "source": []
  }
 ],
 "metadata": {
  "kernelspec": {
   "display_name": "Python 3",
   "language": "python",
   "name": "python3"
  },
  "language_info": {
   "codemirror_mode": {
    "name": "ipython",
    "version": 3
   },
   "file_extension": ".py",
   "mimetype": "text/x-python",
   "name": "python",
   "nbconvert_exporter": "python",
   "pygments_lexer": "ipython3",
   "version": "3.13.0"
  }
 },
 "nbformat": 4,
 "nbformat_minor": 2
}
