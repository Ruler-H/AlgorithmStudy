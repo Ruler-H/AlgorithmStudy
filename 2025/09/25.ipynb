{
 "cells": [
  {
   "cell_type": "code",
   "execution_count": 6,
   "metadata": {},
   "outputs": [
    {
     "name": "stdout",
     "output_type": "stream",
     "text": [
      "◝(⑅•ᴗ•⑅)◜..°♡ 뀌요미!!\n"
     ]
    }
   ],
   "source": [
    "# 백준 17294번 - 귀여운 수~ε٩(๑> ₃ <)۶з\n",
    "import sys\n",
    "# input = sys.stdin.readline\n",
    "\n",
    "k = input()\n",
    "\n",
    "if len(k) <= 2:\n",
    "    print(\"◝(⑅•ᴗ•⑅)◜..°♡ 뀌요미!!\")\n",
    "else:\n",
    "    for i in range(len(k) - 1):\n",
    "        if int(k[i]) - int(k[i + 1]) != int(k[0]) - int(k[1]):\n",
    "            print(\"흥칫뿡!! <(￣ ﹌ ￣)>\")\n",
    "            break\n",
    "    else:\n",
    "        print(\"◝(⑅•ᴗ•⑅)◜..°♡ 뀌요미!!\")"
   ]
  }
 ],
 "metadata": {
  "kernelspec": {
   "display_name": "Python 3",
   "language": "python",
   "name": "python3"
  },
  "language_info": {
   "codemirror_mode": {
    "name": "ipython",
    "version": 3
   },
   "file_extension": ".py",
   "mimetype": "text/x-python",
   "name": "python",
   "nbconvert_exporter": "python",
   "pygments_lexer": "ipython3",
   "version": "3.13.0"
  }
 },
 "nbformat": 4,
 "nbformat_minor": 2
}
