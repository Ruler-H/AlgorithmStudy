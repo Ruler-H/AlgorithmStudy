{
 "cells": [
  {
   "cell_type": "code",
   "execution_count": null,
   "metadata": {},
   "outputs": [],
   "source": [
    "# 백준 31876번 - 홀짝홀짝\n",
    "import sys\n",
    "# input = sys.stdin.readline\n",
    "\n",
    "N = int(input())\n",
    "K = input()\n",
    "cnt = 0\n",
    "for i in range(N):\n",
    "    if int(K[i]) % 2 == 0:\n",
    "        cnt += 1\n",
    "    else:\n",
    "        cnt -= 1\n",
    "\n",
    "if cnt > 0:\n",
    "    print(0)\n",
    "elif cnt < 0:\n",
    "    print(1)\n",
    "else:\n",
    "    print(-1)"
   ]
  }
 ],
 "metadata": {
  "kernelspec": {
   "display_name": "Python 3",
   "language": "python",
   "name": "python3"
  },
  "language_info": {
   "codemirror_mode": {
    "name": "ipython",
    "version": 3
   },
   "file_extension": ".py",
   "mimetype": "text/x-python",
   "name": "python",
   "nbconvert_exporter": "python",
   "pygments_lexer": "ipython3",
   "version": "3.13.0"
  }
 },
 "nbformat": 4,
 "nbformat_minor": 2
}
