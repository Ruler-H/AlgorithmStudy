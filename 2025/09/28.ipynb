{
 "cells": [
  {
   "cell_type": "code",
   "execution_count": null,
   "metadata": {},
   "outputs": [],
   "source": [
    "# 백준 24083번 - 短針 (Hour Hand)\n",
    "import sys\n",
    "# input = sys.stdin.readline\n",
    "\n",
    "A = int(input())\n",
    "B = int(input())\n",
    "\n",
    "result = (A + B) % 12\n",
    "\n",
    "if result == 0:\n",
    "    print(12)\n",
    "else:\n",
    "    print(result)"
   ]
  }
 ],
 "metadata": {
  "kernelspec": {
   "display_name": "Python 3",
   "language": "python",
   "name": "python3"
  },
  "language_info": {
   "codemirror_mode": {
    "name": "ipython",
    "version": 3
   },
   "file_extension": ".py",
   "mimetype": "text/x-python",
   "name": "python",
   "nbconvert_exporter": "python",
   "pygments_lexer": "ipython3",
   "version": "3.13.0"
  }
 },
 "nbformat": 4,
 "nbformat_minor": 2
}
