{
 "cells": [
  {
   "cell_type": "code",
   "execution_count": null,
   "metadata": {},
   "outputs": [],
   "source": [
    "# 백준 15947번 - 아기 석환 뚜루루 뚜루\n",
    "import sys\n",
    "# input = sys.stdin.readline\n",
    "\n",
    "N = int(input())\n",
    "\n",
    "position = (N - 1) % 14\n",
    "\n",
    "if position in [0, 12]:\n",
    "    print(\"baby\")\n",
    "elif position in [1, 13]:\n",
    "    print(\"sukhwan\")\n",
    "elif position == 4:\n",
    "    print(\"very\")\n",
    "elif position == 5:\n",
    "    print(\"cute\")\n",
    "elif position == 8:\n",
    "    print(\"in\")\n",
    "elif position == 9:\n",
    "    print(\"bed\")\n",
    "elif position in [2, 6, 10]:  # tururu (기본 ru 2개)\n",
    "    ru_count = ((N - 1) // 14) + 2\n",
    "    if ru_count >= 5:\n",
    "        print(f\"tu+ru*{ru_count}\")\n",
    "    else:\n",
    "        print(\"tu\" + \"ru\" * ru_count)\n",
    "elif position in [3, 7, 11]:  # turu (기본 ru 1개)\n",
    "    ru_count = ((N - 1) // 14) + 1\n",
    "    if ru_count >= 5:\n",
    "        print(f\"tu+ru*{ru_count}\")\n",
    "    else:\n",
    "        print(\"tu\" + \"ru\" * ru_count)"
   ]
  },
  {
   "cell_type": "code",
   "execution_count": null,
   "metadata": {},
   "outputs": [],
   "source": []
  }
 ],
 "metadata": {
  "kernelspec": {
   "display_name": "Python 3",
   "language": "python",
   "name": "python3"
  },
  "language_info": {
   "codemirror_mode": {
    "name": "ipython",
    "version": 3
   },
   "file_extension": ".py",
   "mimetype": "text/x-python",
   "name": "python",
   "nbconvert_exporter": "python",
   "pygments_lexer": "ipython3",
   "version": "3.13.0"
  }
 },
 "nbformat": 4,
 "nbformat_minor": 2
}
