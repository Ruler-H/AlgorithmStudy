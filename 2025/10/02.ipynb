{
 "cells": [
  {
   "cell_type": "code",
   "execution_count": null,
   "metadata": {},
   "outputs": [],
   "source": [
    "# 백준 12791번 - Starman\n",
    "import sys\n",
    "# input = sys.stdin.readline\n",
    "\n",
    "Q = int(input())\n",
    "\n",
    "albums = {\n",
    "    1967: [\"DavidBowie\"],\n",
    "    1969: [\"SpaceOddity\"],\n",
    "    1970: [\"TheManWhoSoldTheWorld\"],\n",
    "    1971: [\"HunkyDory\"],\n",
    "    1972: [\"TheRiseAndFallOfZiggyStardustAndTheSpidersFromMars\"],\n",
    "    1973: [\"AladdinSane\", \"PinUps\"],\n",
    "    1974: [\"DiamondDogs\"],\n",
    "    1975: [\"YoungAmericans\"],\n",
    "    1976: [\"StationToStation\"],\n",
    "    1977: [\"Low\", \"Heroes\"],\n",
    "    1979: [\"Lodger\"],\n",
    "    1980: [\"ScaryMonstersAndSuperCreeps\"],\n",
    "    1983: [\"LetsDance\"],\n",
    "    1984: [\"Tonight\"],\n",
    "    1987: [\"NeverLetMeDown\"],\n",
    "    1993: [\"BlackTieWhiteNoise\"],\n",
    "    1995: [\"1.Outside\"],\n",
    "    1997: [\"Earthling\"],\n",
    "    1999: [\"Hours\"],\n",
    "    2002: [\"Heathen\"],\n",
    "    2003: [\"Reality\"],\n",
    "    2013: [\"TheNextDay\"],\n",
    "    2016: [\"BlackStar\"]\n",
    "}\n",
    "\n",
    "for _ in range(Q):\n",
    "    S, E = map(int, input().split())\n",
    "    count = 0\n",
    "    contain_albums = []\n",
    "    for year in range(S, E + 1):\n",
    "        if year in albums:\n",
    "            count += len(albums[year])\n",
    "            for album in albums[year]:\n",
    "                contain_albums.append((year, album))\n",
    "    \n",
    "    print(count)\n",
    "    for year, album in contain_albums:\n",
    "        print(year, album)"
   ]
  },
  {
   "cell_type": "code",
   "execution_count": null,
   "metadata": {},
   "outputs": [],
   "source": []
  }
 ],
 "metadata": {
  "kernelspec": {
   "display_name": "Python 3",
   "language": "python",
   "name": "python3"
  },
  "language_info": {
   "codemirror_mode": {
    "name": "ipython",
    "version": 3
   },
   "file_extension": ".py",
   "mimetype": "text/x-python",
   "name": "python",
   "nbconvert_exporter": "python",
   "pygments_lexer": "ipython3",
   "version": "3.13.0"
  }
 },
 "nbformat": 4,
 "nbformat_minor": 2
}
