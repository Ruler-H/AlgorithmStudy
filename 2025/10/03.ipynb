{
 "cells": [
  {
   "cell_type": "code",
   "execution_count": null,
   "metadata": {},
   "outputs": [],
   "source": [
    "# 백준 10163번 - 색종이\n",
    "import sys\n",
    "# input = sys.stdin.readline\n",
    "\n",
    "N = int(input())\n",
    "paper = [[0] * 1001 for _ in range(1001)]\n",
    "\n",
    "for i in range(1, N + 1):\n",
    "    x, y, w, h = map(int, input().split())\n",
    "    for j in range(x, x + w):\n",
    "        for k in range(y, y + h):\n",
    "            paper[j][k] = i\n",
    "\n",
    "count = [0] * (N + 1)\n",
    "for j in range(1001):\n",
    "    for k in range(1001):\n",
    "        if paper[j][k] > 0:\n",
    "            count[paper[j][k]] += 1\n",
    "\n",
    "for i in range(1, N + 1):\n",
    "    print(count[i])"
   ]
  },
  {
   "cell_type": "code",
   "execution_count": null,
   "metadata": {},
   "outputs": [],
   "source": []
  }
 ],
 "metadata": {
  "kernelspec": {
   "display_name": "Python 3",
   "language": "python",
   "name": "python3"
  },
  "language_info": {
   "codemirror_mode": {
    "name": "ipython",
    "version": 3
   },
   "file_extension": ".py",
   "mimetype": "text/x-python",
   "name": "python",
   "nbconvert_exporter": "python",
   "pygments_lexer": "ipython3",
   "version": "3.13.0"
  }
 },
 "nbformat": 4,
 "nbformat_minor": 2
}
