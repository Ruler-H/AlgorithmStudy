{
 "cells": [
  {
   "cell_type": "code",
   "execution_count": null,
   "metadata": {},
   "outputs": [],
   "source": [
    "# 백준 2975번 - Transactions\n",
    "import sys\n",
    "# input = sys.stdin.readline\n",
    "\n",
    "while True:\n",
    "    num1, letter, num2 = input().split()\n",
    "\n",
    "    if num1 == '0' and letter == 'W' and num2 == '0':\n",
    "        break\n",
    "\n",
    "    if letter == 'W':\n",
    "        if int(num1) - int(num2) < -200:\n",
    "            print(\"Not allowed\")\n",
    "        else:\n",
    "            print(int(num1) - int(num2))\n",
    "    else:\n",
    "        print(int(num1) + int(num2))"
   ]
  }
 ],
 "metadata": {
  "kernelspec": {
   "display_name": "Python 3",
   "language": "python",
   "name": "python3"
  },
  "language_info": {
   "codemirror_mode": {
    "name": "ipython",
    "version": 3
   },
   "file_extension": ".py",
   "mimetype": "text/x-python",
   "name": "python",
   "nbconvert_exporter": "python",
   "pygments_lexer": "ipython3",
   "version": "3.13.0"
  }
 },
 "nbformat": 4,
 "nbformat_minor": 2
}
