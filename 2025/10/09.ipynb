{
 "cells": [
  {
   "cell_type": "code",
   "execution_count": 2,
   "metadata": {},
   "outputs": [
    {
     "name": "stdout",
     "output_type": "stream",
     "text": [
      ".v.v\n",
      "v.v.\n",
      ".v.v\n",
      "v.v.\n"
     ]
    }
   ],
   "source": [
    "# 백준 16433번 - 주디와 당근농장\n",
    "import sys\n",
    "# input = sys.stdin.readline\n",
    "\n",
    "N, R, C = map(int, input().split())\n",
    "target = (R + C) % 2\n",
    "for i in range(N):\n",
    "    for j in range(N):\n",
    "        if (i + j) % 2 == target:\n",
    "            print('v', end='')\n",
    "        else:\n",
    "            print('.', end='')\n",
    "    print()"
   ]
  },
  {
   "cell_type": "code",
   "execution_count": null,
   "metadata": {},
   "outputs": [],
   "source": []
  }
 ],
 "metadata": {
  "kernelspec": {
   "display_name": "Python 3",
   "language": "python",
   "name": "python3"
  },
  "language_info": {
   "codemirror_mode": {
    "name": "ipython",
    "version": 3
   },
   "file_extension": ".py",
   "mimetype": "text/x-python",
   "name": "python",
   "nbconvert_exporter": "python",
   "pygments_lexer": "ipython3",
   "version": "3.13.0"
  }
 },
 "nbformat": 4,
 "nbformat_minor": 2
}
