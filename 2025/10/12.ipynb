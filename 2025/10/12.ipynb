{
 "cells": [
  {
   "cell_type": "code",
   "execution_count": null,
   "metadata": {},
   "outputs": [],
   "source": [
    "# 백준 21354번 - Äpplen och päron\n",
    "import sys\n",
    "# input = sys.stdin.readline\n",
    "\n",
    "A, P = map(int, input().split())\n",
    "\n",
    "A_result = 7 * A\n",
    "P_result = 13 * P\n",
    "\n",
    "if A_result > P_result:\n",
    "    print(\"Axel\")\n",
    "elif A_result < P_result:\n",
    "    print(\"Petra\")\n",
    "else:\n",
    "    print(\"lika\")\n"
   ]
  },
  {
   "cell_type": "code",
   "execution_count": null,
   "metadata": {},
   "outputs": [],
   "source": []
  }
 ],
 "metadata": {
  "kernelspec": {
   "display_name": "Python 3",
   "language": "python",
   "name": "python3"
  },
  "language_info": {
   "codemirror_mode": {
    "name": "ipython",
    "version": 3
   },
   "file_extension": ".py",
   "mimetype": "text/x-python",
   "name": "python",
   "nbconvert_exporter": "python",
   "pygments_lexer": "ipython3",
   "version": "3.13.0"
  }
 },
 "nbformat": 4,
 "nbformat_minor": 2
}
