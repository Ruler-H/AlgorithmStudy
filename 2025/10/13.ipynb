{
 "cells": [
  {
   "cell_type": "code",
   "execution_count": 2,
   "metadata": {},
   "outputs": [
    {
     "name": "stdout",
     "output_type": "stream",
     "text": [
      "6\n"
     ]
    }
   ],
   "source": [
    "# 백준 11970번 - Fence Painting\n",
    "import sys\n",
    "# input = sys.stdin.readline\n",
    "\n",
    "a, b = map(int, input().split())\n",
    "c, d = map(int, input().split())\n",
    "\n",
    "fence = [0] * 100\n",
    "\n",
    "for i in range(a, b):\n",
    "    fence[i] = 1\n",
    "\n",
    "for i in range(c, d):\n",
    "    fence[i] = 1\n",
    "\n",
    "print(sum(fence))"
   ]
  },
  {
   "cell_type": "code",
   "execution_count": null,
   "metadata": {},
   "outputs": [],
   "source": []
  }
 ],
 "metadata": {
  "kernelspec": {
   "display_name": "Python 3",
   "language": "python",
   "name": "python3"
  },
  "language_info": {
   "codemirror_mode": {
    "name": "ipython",
    "version": 3
   },
   "file_extension": ".py",
   "mimetype": "text/x-python",
   "name": "python",
   "nbconvert_exporter": "python",
   "pygments_lexer": "ipython3",
   "version": "3.13.0"
  }
 },
 "nbformat": 4,
 "nbformat_minor": 2
}
