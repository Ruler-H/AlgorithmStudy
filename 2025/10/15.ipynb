{
 "cells": [
  {
   "cell_type": "code",
   "execution_count": null,
   "metadata": {},
   "outputs": [],
   "source": [
    "# 백준 24860번 - Counting Antibodies\n",
    "import sys\n",
    "# input = sys.stdin.readline\n",
    "\n",
    "# 첫 번째 줄: κ-경쇄\n",
    "V_k, J_k = map(int, input().split())\n",
    "\n",
    "# 두 번째 줄: λ-경쇄\n",
    "V_l, J_l = map(int, input().split())\n",
    "\n",
    "# 세 번째 줄: 중쇄\n",
    "V_h, D_h, J_h = map(int, input().split())\n",
    "\n",
    "# 경쇄 조합 수 (κ 또는 λ)\n",
    "light_chain = V_k * J_k + V_l * J_l\n",
    "\n",
    "# 중쇄 조합 수\n",
    "heavy_chain = V_h * D_h * J_h\n",
    "\n",
    "# 전체 항체 종류\n",
    "result = light_chain * heavy_chain\n",
    "\n",
    "print(result)"
   ]
  },
  {
   "cell_type": "code",
   "execution_count": null,
   "metadata": {},
   "outputs": [],
   "source": []
  }
 ],
 "metadata": {
  "kernelspec": {
   "display_name": "Python 3",
   "language": "python",
   "name": "python3"
  },
  "language_info": {
   "codemirror_mode": {
    "name": "ipython",
    "version": 3
   },
   "file_extension": ".py",
   "mimetype": "text/x-python",
   "name": "python",
   "nbconvert_exporter": "python",
   "pygments_lexer": "ipython3",
   "version": "3.13.0"
  }
 },
 "nbformat": 4,
 "nbformat_minor": 2
}
