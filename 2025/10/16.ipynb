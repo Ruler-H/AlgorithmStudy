{
 "cells": [
  {
   "cell_type": "code",
   "execution_count": null,
   "metadata": {},
   "outputs": [],
   "source": [
    "# 백준 24087번 - アイスクリーム (Ice Cream)\n",
    "import sys\n",
    "# input = sys.stdin.readline\n",
    "\n",
    "S = int(input())\n",
    "A = int(input())\n",
    "C = int(input())\n",
    "\n",
    "result = 250\n",
    "S -= A\n",
    "\n",
    "if S > 0:\n",
    "    result += (100 * (S // C))\n",
    "    if S % C != 0:\n",
    "        result += 100\n",
    "\n",
    "print(result)"
   ]
  },
  {
   "cell_type": "code",
   "execution_count": null,
   "metadata": {},
   "outputs": [],
   "source": []
  }
 ],
 "metadata": {
  "kernelspec": {
   "display_name": "Python 3",
   "language": "python",
   "name": "python3"
  },
  "language_info": {
   "codemirror_mode": {
    "name": "ipython",
    "version": 3
   },
   "file_extension": ".py",
   "mimetype": "text/x-python",
   "name": "python",
   "nbconvert_exporter": "python",
   "pygments_lexer": "ipython3",
   "version": "3.13.0"
  }
 },
 "nbformat": 4,
 "nbformat_minor": 2
}
