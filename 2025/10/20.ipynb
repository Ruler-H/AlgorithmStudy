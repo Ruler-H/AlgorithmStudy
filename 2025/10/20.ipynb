{
 "cells": [
  {
   "cell_type": "code",
   "execution_count": null,
   "metadata": {},
   "outputs": [
    {
     "name": "stdout",
     "output_type": "stream",
     "text": [
      "4\n"
     ]
    }
   ],
   "source": [
    "# 백준 14647번 - 준오는 조류혐오야!!\n",
    "import sys\n",
    "# input = sys.stdin.readline\n",
    "\n",
    "n, m = map(int, input().split())\n",
    "\n",
    "board = []\n",
    "for i in range(n):\n",
    "    row = list(map(int, input().split()))\n",
    "    board.append(row)\n",
    "\n",
    "# 각 숫자에 포함된 9의 개수\n",
    "def count_nines(num):\n",
    "    return str(num).count('9')\n",
    "\n",
    "# 행별 9의 개수\n",
    "height = [0] * n\n",
    "for i in range(n):\n",
    "    for j in range(m):\n",
    "        height[i] += count_nines(board[i][j])\n",
    "\n",
    "# 열별 9의 개수\n",
    "width = [0] * m\n",
    "for j in range(m):\n",
    "    for i in range(n):\n",
    "        width[j] += count_nines(board[i][j])\n",
    "\n",
    "# 전체 9의 개수\n",
    "total = sum(height)\n",
    "\n",
    "# 가장 많이 9가 들어간 행 또는 열 제거 후 남은 9의 개수\n",
    "max_line = max(max(height), max(width))\n",
    "result = total - max_line\n",
    "\n",
    "print(result)"
   ]
  },
  {
   "cell_type": "code",
   "execution_count": null,
   "metadata": {},
   "outputs": [],
   "source": []
  }
 ],
 "metadata": {
  "kernelspec": {
   "display_name": "Python 3",
   "language": "python",
   "name": "python3"
  },
  "language_info": {
   "codemirror_mode": {
    "name": "ipython",
    "version": 3
   },
   "file_extension": ".py",
   "mimetype": "text/x-python",
   "name": "python",
   "nbconvert_exporter": "python",
   "pygments_lexer": "ipython3",
   "version": "3.13.0"
  }
 },
 "nbformat": 4,
 "nbformat_minor": 2
}
