{
 "cells": [
  {
   "cell_type": "markdown",
   "metadata": {},
   "source": [
    "# 백준 1107번 : 리모컨"
   ]
  },
  {
   "cell_type": "code",
   "execution_count": 78,
   "metadata": {},
   "outputs": [
    {
     "name": "stdout",
     "output_type": "stream",
     "text": [
      "['11', '77', '17', '71']\n",
      "['11', '717', '171', '177', '771', '77', '71', '17', '777', '711', '111', '117']\n",
      "['177', '1111', '7777', '7111', '1177', '711', '1171', '7717', '1711', '11', '171', '1717', '771', '71', '1117', '17', '7117', '7171', '7177', '1771', '777', '1777', '717', '77', '7711', '7771', '111', '117']\n",
      "777\n",
      "170\n"
     ]
    }
   ],
   "source": [
    "import sys\n",
    "# input = sys.stdin.readline\n",
    "\n",
    "# channel : 이동하려는 채널\n",
    "channel = int(input().strip())\n",
    "# n : 고장난 버튼의 수\n",
    "n = int(input().strip())\n",
    "# button_list : 사용 가능한 버튼 리스트\n",
    "button_list = [str(i) for i in range(10)]\n",
    "if n > 0:\n",
    "    for i in map(str, input().strip().split()):\n",
    "        button_list.remove(i)\n",
    "channel_list = button_list.copy()\n",
    "for k in range(len(str(channel))):\n",
    "    if abs(k - len(str(channel))) <= 2:\n",
    "        new_list = channel_list.copy()\n",
    "    else:\n",
    "        new_list = []\n",
    "    for i in channel_list:\n",
    "        for j in button_list:\n",
    "            new_list.append(i + j)\n",
    "    channel_list = list(set(new_list))\n",
    "    print(channel_list)\n",
    "if channel_list:\n",
    "    nearest_channel = int(min(channel_list, key = lambda x : (abs(channel - int(x)), len(x))))\n",
    "    button_click = min(abs(channel - 100), len(str(nearest_channel)) + abs(channel - nearest_channel))\n",
    "    print(nearest_channel)\n",
    "else:\n",
    "    button_click = abs(channel - 100)\n",
    "print(button_click)"
   ]
  },
  {
   "cell_type": "code",
   "execution_count": 56,
   "metadata": {},
   "outputs": [
    {
     "ename": "SyntaxError",
     "evalue": "invalid syntax (1886129427.py, line 5)",
     "output_type": "error",
     "traceback": [
      "\u001b[1;36m  Cell \u001b[1;32mIn[56], line 5\u001b[1;36m\u001b[0m\n\u001b[1;33m    1 2 3 4 5 6 7 8 9\u001b[0m\n\u001b[1;37m      ^\u001b[0m\n\u001b[1;31mSyntaxError\u001b[0m\u001b[1;31m:\u001b[0m invalid syntax\n"
     ]
    }
   ],
   "source": [
    "944\n",
    "8\n",
    "0 2 3 4 5 6 8 9"
   ]
  },
  {
   "cell_type": "code",
   "execution_count": null,
   "metadata": {},
   "outputs": [],
   "source": []
  }
 ],
 "metadata": {
  "kernelspec": {
   "display_name": "Python 3",
   "language": "python",
   "name": "python3"
  },
  "language_info": {
   "codemirror_mode": {
    "name": "ipython",
    "version": 3
   },
   "file_extension": ".py",
   "mimetype": "text/x-python",
   "name": "python",
   "nbconvert_exporter": "python",
   "pygments_lexer": "ipython3",
   "version": "3.10.11"
  },
  "orig_nbformat": 4
 },
 "nbformat": 4,
 "nbformat_minor": 2
}
