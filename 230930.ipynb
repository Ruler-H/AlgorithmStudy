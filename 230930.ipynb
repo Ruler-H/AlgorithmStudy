{
 "cells": [
  {
   "cell_type": "code",
   "execution_count": 4,
   "metadata": {},
   "outputs": [
    {
     "name": "stdout",
     "output_type": "stream",
     "text": [
      "11172\n"
     ]
    }
   ],
   "source": [
    "# 백준 11283번 - 한글 2\n",
    "import sys\n",
    "# input = sys.stdin.readline\n",
    "\n",
    "input_str = input().strip()\n",
    "\n",
    "print(ord(input_str) - 44031)"
   ]
  },
  {
   "cell_type": "code",
   "execution_count": null,
   "metadata": {},
   "outputs": [],
   "source": [
    "# 백준 16204번 - 카드 뽑기\n",
    "import sys\n",
    "# input = sys.stdin.readline\n",
    "\n",
    "n, m, k = map(int, input().strip().split())\n",
    "\n",
    "if m <= k:\n",
    "    print(m + n - k)\n",
    "else:\n",
    "    print(k + n - m)"
   ]
  },
  {
   "cell_type": "code",
   "execution_count": 5,
   "metadata": {},
   "outputs": [
    {
     "ename": "ValueError",
     "evalue": "2 is not in list",
     "output_type": "error",
     "traceback": [
      "\u001b[0;31m---------------------------------------------------------------------------\u001b[0m",
      "\u001b[0;31mValueError\u001b[0m                                Traceback (most recent call last)",
      "\u001b[1;32m/Users/hruler/Desktop/AlgorithmStudy/230930.ipynb 셀 3\u001b[0m line \u001b[0;36m7\n\u001b[1;32m      <a href='vscode-notebook-cell:/Users/hruler/Desktop/AlgorithmStudy/230930.ipynb#W2sZmlsZQ%3D%3D?line=4'>5</a>\u001b[0m posi_list \u001b[39m=\u001b[39m \u001b[39mlist\u001b[39m(\u001b[39mmap\u001b[39m(\u001b[39mint\u001b[39m, \u001b[39minput\u001b[39m()\u001b[39m.\u001b[39mstrip()\u001b[39m.\u001b[39msplit()))\n\u001b[1;32m      <a href='vscode-notebook-cell:/Users/hruler/Desktop/AlgorithmStudy/230930.ipynb#W2sZmlsZQ%3D%3D?line=5'>6</a>\u001b[0m x, y, r \u001b[39m=\u001b[39m \u001b[39mmap\u001b[39m(\u001b[39mint\u001b[39m, \u001b[39minput\u001b[39m()\u001b[39m.\u001b[39mstrip()\u001b[39m.\u001b[39msplit())\n\u001b[0;32m----> <a href='vscode-notebook-cell:/Users/hruler/Desktop/AlgorithmStudy/230930.ipynb#W2sZmlsZQ%3D%3D?line=6'>7</a>\u001b[0m posi_list\u001b[39m.\u001b[39;49mindex(x) \u001b[39m+\u001b[39m \u001b[39m1\u001b[39m\n",
      "\u001b[0;31mValueError\u001b[0m: 2 is not in list"
     ]
    }
   ],
   "source": [
    "# 백준 13118번 - 뉴턴과 사과\n",
    "import sys\n",
    "# input = sys.stdin.readline\n",
    "\n",
    "posi_list = list(map(int, input().strip().split()))\n",
    "x, y, r = map(int, input().strip().split())\n",
    "if x in posi_list:\n",
    "    print(posi_list.index(x) + 1)\n",
    "else:\n",
    "    print(0)\n"
   ]
  },
  {
   "cell_type": "code",
   "execution_count": 1,
   "metadata": {},
   "outputs": [
    {
     "name": "stdout",
     "output_type": "stream",
     "text": [
      "0.7597469266479578\n"
     ]
    }
   ],
   "source": [
    "# 백준 17356번 - 욱 제\n",
    "import sys\n",
    "# input = sys.stdin.readline\n",
    "\n",
    "a, b = map(int, input().strip().split())\n",
    "m = (b - a) / 400\n",
    "\n",
    "print(1 / (1 + 10 ** m))"
   ]
  },
  {
   "cell_type": "code",
   "execution_count": null,
   "metadata": {},
   "outputs": [],
   "source": [
    "# 백준 26068번 - 치킨댄스를 추는 곰곰이를 본 임스 2\n",
    "import sys\n",
    "# input = sys.stdin.readline\n",
    "\n",
    "n = int(input().strip())\n",
    "\n",
    "cnt = 0\n",
    "for _ in range(n):\n",
    "    d_day = int(input().strip().split('-')[1])\n",
    "    if d_day <= 90:\n",
    "        cnt += 1\n",
    "\n",
    "print(cnt)"
   ]
  },
  {
   "cell_type": "code",
   "execution_count": 3,
   "metadata": {},
   "outputs": [
    {
     "ename": "ValueError",
     "evalue": "invalid literal for int() with base 10: ''",
     "output_type": "error",
     "traceback": [
      "\u001b[1;31m---------------------------------------------------------------------------\u001b[0m",
      "\u001b[1;31mValueError\u001b[0m                                Traceback (most recent call last)",
      "\u001b[1;32md:\\AlgorithmStudy\\230930.ipynb 셀 6\u001b[0m line \u001b[0;36m5\n\u001b[0;32m      <a href='vscode-notebook-cell:/d%3A/AlgorithmStudy/230930.ipynb#W5sZmlsZQ%3D%3D?line=1'>2</a>\u001b[0m \u001b[39mimport\u001b[39;00m \u001b[39msys\u001b[39;00m\n\u001b[0;32m      <a href='vscode-notebook-cell:/d%3A/AlgorithmStudy/230930.ipynb#W5sZmlsZQ%3D%3D?line=2'>3</a>\u001b[0m \u001b[39m# input = sys.stdin.readline\u001b[39;00m\n\u001b[1;32m----> <a href='vscode-notebook-cell:/d%3A/AlgorithmStudy/230930.ipynb#W5sZmlsZQ%3D%3D?line=4'>5</a>\u001b[0m n \u001b[39m=\u001b[39m \u001b[39mint\u001b[39;49m(\u001b[39minput\u001b[39;49m()\u001b[39m.\u001b[39;49mstrip())\n",
      "\u001b[1;31mValueError\u001b[0m: invalid literal for int() with base 10: ''"
     ]
    }
   ],
   "source": [
    "# 백준 25494번 - 단순한 문제 (Small)\n",
    "import sys\n",
    "# input = sys.stdin.readline\n",
    "\n",
    "n = int(input().strip())\n",
    "for _ in range(n):\n",
    "    a, b, c = map(int, input().strip().split())\n",
    "    print(min(a, b, c))"
   ]
  },
  {
   "cell_type": "code",
   "execution_count": null,
   "metadata": {},
   "outputs": [],
   "source": [
    "# 백준 28341번 - 양말 짝 맞추기\n",
    "import sys\n",
    "# input = sys.stdin.readline\n",
    "\n",
    "socks_list = []\n",
    "\n",
    "for _ in range(5):\n",
    "    socks = input().strip()\n",
    "    if socks in socks_list:\n",
    "        socks_list.remove(socks)\n",
    "    else:\n",
    "        socks_list.append(socks)\n",
    "\n",
    "print(socks_list[0])"
   ]
  },
  {
   "cell_type": "code",
   "execution_count": 146,
   "metadata": {},
   "outputs": [],
   "source": [
    "# 프로그래머스 2018 KAKAO BLIND RECRUITMENT - [1차] 셔틀버스\n",
    "def solution(n, t, m, timetable):\n",
    "    # bus_table : 버스 시간표 - dictionary\n",
    "    bus_table = {\n",
    "        '09:00': []\n",
    "    }\n",
    "    for i in range(1, n):\n",
    "        time = i * t\n",
    "        hour = (time // 60) + 9\n",
    "        minute = time % 60\n",
    "        hour = str(hour).zfill(2)\n",
    "        minute = str(minute).zfill(2)\n",
    "        bus_table[f'{hour}:{minute}'] = []\n",
    "\n",
    "    timetable.sort()\n",
    "    print(timetable)\n",
    "    print(bus_table)\n",
    "\n",
    "    # 해당 버스에 탈 수 있는 사람을 골라서 버스를 태우기\n",
    "    for i in bus_table:\n",
    "        for j in timetable[:m]:\n",
    "            if j <= i:\n",
    "                bus_table[i].append(j)\n",
    "                timetable.remove(j)\n",
    "\n",
    "    result = list(bus_table.items())\n",
    "    print(result)\n",
    "    if len(result[-1][1]) < m:\n",
    "        answer = result[-1][0]\n",
    "    else:\n",
    "        hour, minute = map(int, result[-1][1][-1].split(':'))\n",
    "        minute = minute - 1\n",
    "        if minute < 0:\n",
    "            minute += 60\n",
    "            hour -= 1\n",
    "        hour = str(hour).zfill(2)\n",
    "        minute = str(minute).zfill(2)\n",
    "        answer = f'{hour}:{minute}'\n",
    "\n",
    "    return answer"
   ]
  },
  {
   "cell_type": "code",
   "execution_count": 148,
   "metadata": {},
   "outputs": [
    {
     "name": "stdout",
     "output_type": "stream",
     "text": [
      "['08:00', '08:01', '08:02', '08:03']\n",
      "{'09:00': []}\n",
      "[('09:00', ['08:00', '08:01', '08:02', '08:03'])]\n",
      "['09:00', '09:00', '09:00', '09:00']\n",
      "{'09:00': [], '09:01': []}\n",
      "[('09:00', ['09:00', '09:00']), ('09:01', ['09:00', '09:00'])]\n"
     ]
    },
    {
     "data": {
      "text/plain": [
       "'08:59'"
      ]
     },
     "execution_count": 148,
     "metadata": {},
     "output_type": "execute_result"
    }
   ],
   "source": [
    "solution(1, 1, 5, [\"08:00\", \"08:01\", \"08:02\", \"08:03\"])\n",
    "solution(2, 1, 2, [\"09:00\", \"09:00\", \"09:00\", \"09:00\"])"
   ]
  },
  {
   "cell_type": "code",
   "execution_count": 144,
   "metadata": {},
   "outputs": [],
   "source": [
    "# 프로그래머스 2019 KAKAO BLIND RECRUITMENT - 후보키\n",
    "import numpy as np\n",
    "def solution(relation):\n",
    "    answer = 0\n",
    "\n",
    "    transform_ralation = [np.array([]) for _ in range(len(relation[0]))]\n",
    "    \n",
    "    for i in relation:\n",
    "        for k, v in enumerate(i):\n",
    "            transform_ralation[k] = np.append(transform_ralation[k], v)\n",
    "    relation_len = len(transform_ralation)\n",
    "    for i in range(1, relation_len + 1):\n",
    "        j = 0\n",
    "        while i + j <= relation_len:\n",
    "            data = transform_ralation[j]\n",
    "            for k in relation_len[j+1:j+i]:\n",
    "                data = np.char.add(data, k)\n",
    "            if len(set(data)) == len(data):\n",
    "                answer += 1\n",
    "                transform_ralation = transform_ralation[:j] + transform_ralation[j+i:]\n",
    "                j = 0\n",
    "            else:\n",
    "                j += 1\n",
    "    print(transform_ralation)\n",
    "    print(np.char.add(transform_ralation[0], transform_ralation[1]))\n",
    "    \n",
    "    return answer"
   ]
  },
  {
   "cell_type": "code",
   "execution_count": 142,
   "metadata": {},
   "outputs": [
    {
     "name": "stdout",
     "output_type": "stream",
     "text": [
      "[array(['100', '200', '300', '400', '500', '600'], dtype='<U32'), array(['ryan', 'apeach', 'tube', 'con', 'muzi', 'apeach'], dtype='<U32'), array(['music', 'math', 'computer', 'computer', 'music', 'music'],\n",
      "      dtype='<U32'), array(['2', '2', '3', '4', '3', '2'], dtype='<U32')]\n",
      "['100ryan' '200apeach' '300tube' '400con' '500muzi' '600apeach']\n"
     ]
    },
    {
     "data": {
      "text/plain": [
       "0"
      ]
     },
     "execution_count": 142,
     "metadata": {},
     "output_type": "execute_result"
    }
   ],
   "source": [
    "solution([[\"100\",\"ryan\",\"music\",\"2\"],[\"200\",\"apeach\",\"math\",\"2\"],[\"300\",\"tube\",\"computer\",\"3\"],[\"400\",\"con\",\"computer\",\"4\"],[\"500\",\"muzi\",\"music\",\"3\"],[\"600\",\"apeach\",\"music\",\"2\"]])"
   ]
  },
  {
   "cell_type": "code",
   "execution_count": null,
   "metadata": {},
   "outputs": [],
   "source": []
  }
 ],
 "metadata": {
  "kernelspec": {
   "display_name": "Python 3",
   "language": "python",
   "name": "python3"
  },
  "language_info": {
   "codemirror_mode": {
    "name": "ipython",
    "version": 3
   },
   "file_extension": ".py",
   "mimetype": "text/x-python",
   "name": "python",
   "nbconvert_exporter": "python",
   "pygments_lexer": "ipython3",
   "version": "3.10.11"
  },
  "orig_nbformat": 4
 },
 "nbformat": 4,
 "nbformat_minor": 2
}
