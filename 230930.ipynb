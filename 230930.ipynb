{
 "cells": [
  {
   "cell_type": "code",
   "execution_count": 4,
   "metadata": {},
   "outputs": [
    {
     "name": "stdout",
     "output_type": "stream",
     "text": [
      "11172\n"
     ]
    }
   ],
   "source": [
    "# 백준 11283번 - 한글 2\n",
    "import sys\n",
    "# input = sys.stdin.readline\n",
    "\n",
    "input_str = input().strip()\n",
    "\n",
    "print(ord(input_str) - 44031)"
   ]
  },
  {
   "cell_type": "code",
   "execution_count": null,
   "metadata": {},
   "outputs": [],
   "source": [
    "# 백준 16204번 - 카드 뽑기\n",
    "import sys\n",
    "# input = sys.stdin.readline\n",
    "\n",
    "n, m, k = map(int, input().strip().split())\n",
    "\n",
    "if m <= k:\n",
    "    print(m + n - k)\n",
    "else:\n",
    "    print(k + n - m)"
   ]
  },
  {
   "cell_type": "code",
   "execution_count": 5,
   "metadata": {},
   "outputs": [
    {
     "ename": "ValueError",
     "evalue": "2 is not in list",
     "output_type": "error",
     "traceback": [
      "\u001b[0;31m---------------------------------------------------------------------------\u001b[0m",
      "\u001b[0;31mValueError\u001b[0m                                Traceback (most recent call last)",
      "\u001b[1;32m/Users/hruler/Desktop/AlgorithmStudy/230930.ipynb 셀 3\u001b[0m line \u001b[0;36m7\n\u001b[1;32m      <a href='vscode-notebook-cell:/Users/hruler/Desktop/AlgorithmStudy/230930.ipynb#W2sZmlsZQ%3D%3D?line=4'>5</a>\u001b[0m posi_list \u001b[39m=\u001b[39m \u001b[39mlist\u001b[39m(\u001b[39mmap\u001b[39m(\u001b[39mint\u001b[39m, \u001b[39minput\u001b[39m()\u001b[39m.\u001b[39mstrip()\u001b[39m.\u001b[39msplit()))\n\u001b[1;32m      <a href='vscode-notebook-cell:/Users/hruler/Desktop/AlgorithmStudy/230930.ipynb#W2sZmlsZQ%3D%3D?line=5'>6</a>\u001b[0m x, y, r \u001b[39m=\u001b[39m \u001b[39mmap\u001b[39m(\u001b[39mint\u001b[39m, \u001b[39minput\u001b[39m()\u001b[39m.\u001b[39mstrip()\u001b[39m.\u001b[39msplit())\n\u001b[0;32m----> <a href='vscode-notebook-cell:/Users/hruler/Desktop/AlgorithmStudy/230930.ipynb#W2sZmlsZQ%3D%3D?line=6'>7</a>\u001b[0m posi_list\u001b[39m.\u001b[39;49mindex(x) \u001b[39m+\u001b[39m \u001b[39m1\u001b[39m\n",
      "\u001b[0;31mValueError\u001b[0m: 2 is not in list"
     ]
    }
   ],
   "source": [
    "# 백준 13118번 - 뉴턴과 사과\n",
    "import sys\n",
    "# input = sys.stdin.readline\n",
    "\n",
    "posi_list = list(map(int, input().strip().split()))\n",
    "x, y, r = map(int, input().strip().split())\n",
    "if x in posi_list:\n",
    "    print(posi_list.index(x) + 1)\n",
    "else:\n",
    "    print(0)\n"
   ]
  },
  {
   "cell_type": "code",
   "execution_count": null,
   "metadata": {},
   "outputs": [],
   "source": [
    "# 백준 17356번 - 욱 제\n",
    "import sys\n",
    "# input = sys.stdin.readline\n",
    "\n",
    "a, b = map(int, input().strip().split())\n"
   ]
  }
 ],
 "metadata": {
  "kernelspec": {
   "display_name": "Python 3",
   "language": "python",
   "name": "python3"
  },
  "language_info": {
   "codemirror_mode": {
    "name": "ipython",
    "version": 3
   },
   "file_extension": ".py",
   "mimetype": "text/x-python",
   "name": "python",
   "nbconvert_exporter": "python",
   "pygments_lexer": "ipython3",
   "version": "3.11.1"
  },
  "orig_nbformat": 4
 },
 "nbformat": 4,
 "nbformat_minor": 2
}
