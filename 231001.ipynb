{
 "cells": [
  {
   "cell_type": "code",
   "execution_count": 56,
   "metadata": {},
   "outputs": [],
   "source": [
    "# 프로그래머스 2019 KAKAO BLIND RECRUITMENT - 후보키\n",
    "import itertools as it\n",
    "\n",
    "def unique_check(relation):\n",
    "    rel_set = set(relation)\n",
    "\n",
    "    return len(relation) == len(rel_set)\n",
    "\n",
    "def minimal_check(candi_list, relation):\n",
    "    for i in candi_list:\n",
    "        is_contain = True\n",
    "        for j in i:\n",
    "            if j not in relation:\n",
    "                is_contain = False\n",
    "                break\n",
    "        if is_contain:\n",
    "            return False\n",
    "    return True\n",
    "\n",
    "def solution(relation):\n",
    "    answer = 0\n",
    "\n",
    "    rel_len = len(relation[0])\n",
    "    candi_list = []\n",
    "    \n",
    "    for i in range(rel_len):\n",
    "        for j in it.combinations(range(rel_len), i + 1):\n",
    "            candi_rel = ['' for p in range(len(relation))]\n",
    "\n",
    "            for p in j:\n",
    "                for k, v in enumerate(relation):\n",
    "                    candi_rel[k] += v[p]\n",
    "            if minimal_check(candi_list, j) and unique_check(candi_rel):\n",
    "                candi_list.append(j)\n",
    "                answer += 1\n",
    "                \n",
    "    return answer"
   ]
  },
  {
   "cell_type": "code",
   "execution_count": 57,
   "metadata": {},
   "outputs": [
    {
     "name": "stdout",
     "output_type": "stream",
     "text": [
      "candi_rel: ['100', '200', '300', '400', '500', '600']\n",
      "candi_list: []\n",
      "candi_rel: ['ryan', 'apeach', 'tube', 'con', 'muzi', 'apeach']\n",
      "candi_list: [(0,)]\n",
      "candi_rel: ['music', 'math', 'computer', 'computer', 'music', 'music']\n",
      "candi_list: [(0,)]\n",
      "candi_rel: ['2', '2', '3', '4', '3', '2']\n",
      "candi_list: [(0,)]\n",
      "\n",
      "candi_rel: ['100ryan', '200apeach', '300tube', '400con', '500muzi', '600apeach']\n",
      "candi_list: [(0,)]\n",
      "candi_rel: ['100music', '200math', '300computer', '400computer', '500music', '600music']\n",
      "candi_list: [(0,)]\n",
      "candi_rel: ['1002', '2002', '3003', '4004', '5003', '6002']\n",
      "candi_list: [(0,)]\n",
      "candi_rel: ['ryanmusic', 'apeachmath', 'tubecomputer', 'concomputer', 'muzimusic', 'apeachmusic']\n",
      "candi_list: [(0,)]\n",
      "candi_rel: ['ryan2', 'apeach2', 'tube3', 'con4', 'muzi3', 'apeach2']\n",
      "candi_list: [(0,), (1, 2)]\n",
      "candi_rel: ['music2', 'math2', 'computer3', 'computer4', 'music3', 'music2']\n",
      "candi_list: [(0,), (1, 2)]\n",
      "\n",
      "candi_rel: ['100ryanmusic', '200apeachmath', '300tubecomputer', '400concomputer', '500muzimusic', '600apeachmusic']\n",
      "candi_list: [(0,), (1, 2)]\n",
      "candi_rel: ['100ryan2', '200apeach2', '300tube3', '400con4', '500muzi3', '600apeach2']\n",
      "candi_list: [(0,), (1, 2)]\n",
      "candi_rel: ['100music2', '200math2', '300computer3', '400computer4', '500music3', '600music2']\n",
      "candi_list: [(0,), (1, 2)]\n",
      "candi_rel: ['ryanmusic2', 'apeachmath2', 'tubecomputer3', 'concomputer4', 'muzimusic3', 'apeachmusic2']\n",
      "candi_list: [(0,), (1, 2)]\n",
      "\n",
      "candi_rel: ['100ryanmusic2', '200apeachmath2', '300tubecomputer3', '400concomputer4', '500muzimusic3', '600apeachmusic2']\n",
      "candi_list: [(0,), (1, 2)]\n",
      "\n"
     ]
    },
    {
     "data": {
      "text/plain": [
       "2"
      ]
     },
     "execution_count": 57,
     "metadata": {},
     "output_type": "execute_result"
    }
   ],
   "source": [
    "solution([[\"100\",\"ryan\",\"music\",\"2\"],[\"200\",\"apeach\",\"math\",\"2\"],[\"300\",\"tube\",\"computer\",\"3\"],[\"400\",\"con\",\"computer\",\"4\"],[\"500\",\"muzi\",\"music\",\"3\"],[\"600\",\"apeach\",\"music\",\"2\"]])"
   ]
  },
  {
   "cell_type": "code",
   "execution_count": null,
   "metadata": {},
   "outputs": [],
   "source": [
    "import itertools as z\n",
    "def solution(a):\n",
    "    b,y=[],len(a[0])\n",
    "    for i in range(y):\n",
    "        for c in filter(\n",
    "            lambda x:not any(all(e in x for e in g)for g in b) and len({tuple(d[f] for f in x) for d in a})==len(a), z.combinations(range(y),i+1)):\n",
    "            b.append(c)\n",
    "    return len(b)"
   ]
  },
  {
   "cell_type": "code",
   "execution_count": null,
   "metadata": {},
   "outputs": [],
   "source": []
  }
 ],
 "metadata": {
  "kernelspec": {
   "display_name": "Python 3",
   "language": "python",
   "name": "python3"
  },
  "language_info": {
   "codemirror_mode": {
    "name": "ipython",
    "version": 3
   },
   "file_extension": ".py",
   "mimetype": "text/x-python",
   "name": "python",
   "nbconvert_exporter": "python",
   "pygments_lexer": "ipython3",
   "version": "3.10.11"
  },
  "orig_nbformat": 4
 },
 "nbformat": 4,
 "nbformat_minor": 2
}
