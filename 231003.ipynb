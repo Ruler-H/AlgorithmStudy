{
 "cells": [
  {
   "cell_type": "code",
   "execution_count": 10,
   "metadata": {},
   "outputs": [],
   "source": [
    "# 프로그래머스 2020 KAKAO BLIND RECRUITMENT - 가사 검색\n",
    "\n",
    "class TrieNode:\n",
    "    def __init__(self, data):\n",
    "        self.data = data\n",
    "        self.children = {}\n",
    "        self.length = []\n",
    "    \n",
    "class Trie:\n",
    "    def __init__(self):\n",
    "        self.head = TrieNode(None)\n",
    "        \n",
    "    def insert(self, word):\n",
    "        cur_node = self.head\n",
    "        word_length = len(word)\n",
    "        for w in word:\n",
    "            cur_node.length.append(word_length)\n",
    "            if w not in cur_node.children:\n",
    "                cur_node.children[w] = TrieNode(None)\n",
    "            cur_node = cur_node.children[w]\n",
    "        cur_node.data = word\n",
    "\n",
    "    def search(self, query):\n",
    "        cur_node = self.head\n",
    "        for q in query:\n",
    "            if q == '?':\n",
    "                return cur_node.length.count(len(query))\n",
    "            elif q not in cur_node.children:\n",
    "                return 0\n",
    "            else:\n",
    "                cur_node = cur_node.children[q]\n",
    "        if cur_node.data:\n",
    "            return 1\n",
    "        else:\n",
    "            return 0\n",
    "\n",
    "\n",
    "def solution(words, queries):\n",
    "    trie = Trie()\n",
    "    trie_rev = Trie()\n",
    "    word_len = []\n",
    "\n",
    "    for word in words:\n",
    "        trie.insert(word)\n",
    "        trie_rev.insert(word[::-1])\n",
    "        word_len.append(len(word))\n",
    "\n",
    "\n",
    "    answer = []\n",
    "\n",
    "    for query in queries:\n",
    "        if query[0] == '?':\n",
    "            if query[-1] == '?':\n",
    "                answer.append(word_len.count(len(query)))\n",
    "            else:\n",
    "                answer.append(trie_rev.search(query[::-1]))\n",
    "        else:\n",
    "            answer.append(trie.search(query))\n",
    "\n",
    "    return answer"
   ]
  },
  {
   "cell_type": "code",
   "execution_count": 11,
   "metadata": {},
   "outputs": [
    {
     "data": {
      "text/plain": [
       "[3, 2, 4, 1, 0]"
      ]
     },
     "execution_count": 11,
     "metadata": {},
     "output_type": "execute_result"
    }
   ],
   "source": [
    "solution([\"frodo\", \"front\", \"frost\", \"frozen\", \"frame\", \"kakao\"], [\"fro??\", \"????o\", \"fr???\", \"fro???\", \"pro?\"])"
   ]
  },
  {
   "cell_type": "code",
   "execution_count": null,
   "metadata": {},
   "outputs": [],
   "source": []
  }
 ],
 "metadata": {
  "kernelspec": {
   "display_name": "Python 3",
   "language": "python",
   "name": "python3"
  },
  "language_info": {
   "codemirror_mode": {
    "name": "ipython",
    "version": 3
   },
   "file_extension": ".py",
   "mimetype": "text/x-python",
   "name": "python",
   "nbconvert_exporter": "python",
   "pygments_lexer": "ipython3",
   "version": "3.10.11"
  },
  "orig_nbformat": 4
 },
 "nbformat": 4,
 "nbformat_minor": 2
}
