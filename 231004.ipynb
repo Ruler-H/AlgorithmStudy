{
 "cells": [
  {
   "cell_type": "code",
   "execution_count": 1,
   "metadata": {},
   "outputs": [
    {
     "name": "stdout",
     "output_type": "stream",
     "text": [
      "3:2\n"
     ]
    },
    {
     "ename": "",
     "evalue": "",
     "output_type": "error",
     "traceback": [
      "\u001b[1;31m현재 셀 또는 이전 셀에서 코드를 실행하는 동안 Kernel이 충돌했습니다. 셀의 코드를 검토하여 오류의 가능한 원인을 식별하세요. 자세한 내용을 보려면 <a href='https://aka.ms/vscodeJupyterKernelCrash'> 여기 </a> 를 클릭하세요. 자세한 내용은 Jupyter <a href='command:jupyter.viewOutput'>로그</a>를 참조하세요."
     ]
    }
   ],
   "source": [
    "# 백준 27918번 - 탁구 경기\n",
    "import sys\n",
    "# input = sys.stdin.readline\n",
    "\n",
    "n = int(input().strip())\n",
    "\n",
    "d = 0\n",
    "p = 0\n",
    "\n",
    "for _ in range(n):\n",
    "    winner = input().strip()\n",
    "    if winner == 'D':\n",
    "        d += 1\n",
    "    else:\n",
    "        p += 1\n",
    "    if abs(d - p) >= 2:\n",
    "        break\n",
    "\n",
    "print(f'{d}:{p}')"
   ]
  },
  {
   "cell_type": "code",
   "execution_count": null,
   "metadata": {},
   "outputs": [],
   "source": [
    "# 백준 27110번 - 특식 배부\n",
    "import sys\n",
    "# input = sys.stdin.readline\n",
    "\n",
    "n = int(input().strip())\n",
    "\n",
    "a, b, c = map(int, input().strip().split())\n",
    "\n",
    "print(min(a, n) + min(b, n) + min(c, n))"
   ]
  },
  {
   "cell_type": "code",
   "execution_count": null,
   "metadata": {},
   "outputs": [],
   "source": [
    "# 백준 28295번 - 체육은 코딩과목 입니다\n",
    "import sys\n",
    "# input = sys.stdin.readline\n",
    "from collections import deque\n",
    "\n",
    "q = deque([1, 0, 0, 0])\n",
    "\n",
    "for _ in range(10):\n",
    "    order = int(input().strip())\n",
    "    match order:\n",
    "        case 1:\n",
    "            q.rotate(1)\n",
    "        case 2:\n",
    "            q.rotate(2)\n",
    "        case 3:\n",
    "            q.rotate(-1)\n",
    "\n",
    "direction = q.index(1)\n",
    "match direction:\n",
    "    case 0:\n",
    "        print('N')\n",
    "    case 1:\n",
    "        print('E')\n",
    "    case 2:\n",
    "        print('S')\n",
    "    case 3:\n",
    "        print('W')"
   ]
  }
 ],
 "metadata": {
  "kernelspec": {
   "display_name": "Python 3",
   "language": "python",
   "name": "python3"
  },
  "language_info": {
   "codemirror_mode": {
    "name": "ipython",
    "version": 3
   },
   "file_extension": ".py",
   "mimetype": "text/x-python",
   "name": "python",
   "nbconvert_exporter": "python",
   "pygments_lexer": "ipython3",
   "version": "3.12.0"
  },
  "orig_nbformat": 4
 },
 "nbformat": 4,
 "nbformat_minor": 2
}
