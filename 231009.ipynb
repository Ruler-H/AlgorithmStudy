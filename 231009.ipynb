{
 "cells": [
  {
   "cell_type": "code",
   "execution_count": 4,
   "metadata": {},
   "outputs": [
    {
     "name": "stdout",
     "output_type": "stream",
     "text": [
      "7\n",
      "70\n"
     ]
    }
   ],
   "source": [
    "# 백준 28281번 - 선물\n",
    "import sys\n",
    "# input = sys.stdin.readline\n",
    "\n",
    "n, x = map(int, input().strip().split())\n",
    "\n",
    "n_list = list(map(int, input().strip().split()))\n",
    "\n",
    "result = sum(n_list[0:2])\n",
    "\n",
    "for i in range(1, len(n_list) - 1):\n",
    "    result = min(sum(n_list[i:i+2]), result)\n",
    "\n",
    "print(result * x)"
   ]
  },
  {
   "cell_type": "code",
   "execution_count": null,
   "metadata": {},
   "outputs": [],
   "source": [
    "# 백준 28290번 - 안밖? 밖안? 계단? 역계단?\n",
    "import sys\n",
    "# input = sys.stdin.readline\n",
    "\n",
    "in_out = [\"fdsajkl;\", \"jkl;fdsa\"]\n",
    "out_in = [\"asdf;lkj\", \";lkjasdf\"]\n",
    "stairs = [\"asdfjkl;\"]\n",
    "reverse = [\";lkjfdsa\"]\n",
    "\n",
    "s = input().strip()\n",
    "\n",
    "if s in in_out:\n",
    "    print('in-out')\n",
    "elif s in out_in:\n",
    "    print('out-in')\n",
    "elif s in stairs:\n",
    "    print('stairs')\n",
    "elif s in reverse:\n",
    "    print('reverse')\n",
    "else:\n",
    "    print('molu')"
   ]
  },
  {
   "cell_type": "code",
   "execution_count": 7,
   "metadata": {},
   "outputs": [
    {
     "data": {
      "text/plain": [
       "1"
      ]
     },
     "execution_count": 7,
     "metadata": {},
     "output_type": "execute_result"
    }
   ],
   "source": [
    "# 백준 29766번 - DKSH 찾기\n",
    "import sys\n",
    "# input = sys.stdin.readline\n",
    "import re\n",
    "\n",
    "form = re.compile(r'DKSH')\n",
    "s = input().strip()\n",
    "print(len(re.findall(form, s)))"
   ]
  },
  {
   "cell_type": "code",
   "execution_count": 10,
   "metadata": {},
   "outputs": [
    {
     "name": "stdout",
     "output_type": "stream",
     "text": [
      "133\n"
     ]
    }
   ],
   "source": [
    "# 백준 27890번 - 특별한 작은 분수\n",
    "import sys\n",
    "# input = sys.stdin.readline\n",
    "\n",
    "x, n =map(int, input().strip().split())\n",
    "\n",
    "for _ in range(n):\n",
    "    if x % 2 == 0:\n",
    "        x //= 2\n",
    "    else:\n",
    "        x *= 2\n",
    "    x ^= 6\n",
    "print(x)"
   ]
  },
  {
   "cell_type": "code",
   "execution_count": 15,
   "metadata": {},
   "outputs": [
    {
     "name": "stdout",
     "output_type": "stream",
     "text": [
      "120908755\n"
     ]
    }
   ],
   "source": [
    "# 백준 29807번 - 학번을 찾아줘!\n",
    "import sys\n",
    "# input = sys.stdin.readline\n",
    "\n",
    "t = int(input().strip())\n",
    "t_list = list(map(int, input().strip().split()))\n",
    "for _ in range(5 - len(t_list)):\n",
    "    t_list.append(0)\n",
    "\n",
    "if t_list[0] > t_list[2]:\n",
    "    result = (t_list[0] - t_list[2]) * 508\n",
    "else:\n",
    "    result = (t_list[2] - t_list[0]) * 108\n",
    "\n",
    "if t_list[1] > t_list[3]:\n",
    "    result = result + ((t_list[1] - t_list[3]) * 212)\n",
    "else:\n",
    "    result = result + ((t_list[3] - t_list[1]) * 305)\n",
    "\n",
    "if t == 5:\n",
    "    result = result + (t_list[4] * 707)\n",
    "\n",
    "print(result * 4763)"
   ]
  },
  {
   "cell_type": "code",
   "execution_count": 18,
   "metadata": {},
   "outputs": [
    {
     "name": "stdout",
     "output_type": "stream",
     "text": [
      "None\n"
     ]
    }
   ],
   "source": [
    "# 백준 29725번 - 체스 초보 브실이\n",
    "import sys\n",
    "# input = sys.stdin.readline\n",
    "\n",
    "white = {\n",
    "    'P':1,\n",
    "    'N':3, \n",
    "    'B':3, \n",
    "    'R':5,\n",
    "    'Q':9\n",
    "    }\n",
    "black = {\n",
    "    'p':1, \n",
    "    'n':3, \n",
    "    'b':3, \n",
    "    'r':5, \n",
    "    'q':9\n",
    "    }\n",
    "white_score = 0\n",
    "black_score = 0\n",
    "for _ in range(8):\n",
    "    chesses = input().strip()\n",
    "    for chess in chesses:\n",
    "        if chess in white:\n",
    "            white_score += white.get(chess)\n",
    "        elif chess in black:\n",
    "            black_score += black.get(chess)\n",
    "\n",
    "print(white_score - black_score)"
   ]
  },
  {
   "cell_type": "code",
   "execution_count": null,
   "metadata": {},
   "outputs": [],
   "source": [
    "# 백준 30031번 - 지폐 세기\n",
    "import sys\n",
    "# input = sys.stdin.readline\n",
    "\n",
    "n = int(input().strip())\n",
    "result = 0\n",
    "for _ in range(n):\n",
    "    wid = input().strip().split()[0]\n",
    "    match wid:\n",
    "        case '136':\n",
    "            result += 1000\n",
    "        case '142':\n",
    "            result += 5000\n",
    "        case '148':\n",
    "            result += 10000\n",
    "        case '154':\n",
    "            result += 50000\n",
    "\n",
    "print(result)"
   ]
  },
  {
   "cell_type": "code",
   "execution_count": 20,
   "metadata": {},
   "outputs": [
    {
     "name": "stdout",
     "output_type": "stream",
     "text": [
      "2 3 3 1 3\n"
     ]
    }
   ],
   "source": [
    "# 백준 30008번 - 준영이의 등급\n",
    "import sys\n",
    "# input = sys.stdin.readline\n",
    "\n",
    "n, k = map(int, input().strip().split())\n",
    "k_list = list(map(int, input().strip().split()))\n",
    "result = []\n",
    "for val in k_list:\n",
    "    g = (val * 100) // n\n",
    "    if g <= 4: result.append('1')\n",
    "    elif g <= 11: result.append('2')\n",
    "    elif g <= 23: result.append('3')\n",
    "    elif g <= 40: result.append('4')\n",
    "    elif g <= 60: result.append('5')\n",
    "    elif g <= 77: result.append('6')\n",
    "    elif g <= 89: result.append('7')\n",
    "    elif g <= 96: result.append('8')\n",
    "    else: result.append('9')\n",
    "\n",
    "print(' '.join(result))"
   ]
  },
  {
   "cell_type": "code",
   "execution_count": null,
   "metadata": {},
   "outputs": [],
   "source": []
  }
 ],
 "metadata": {
  "kernelspec": {
   "display_name": "Python 3",
   "language": "python",
   "name": "python3"
  },
  "language_info": {
   "codemirror_mode": {
    "name": "ipython",
    "version": 3
   },
   "file_extension": ".py",
   "mimetype": "text/x-python",
   "name": "python",
   "nbconvert_exporter": "python",
   "pygments_lexer": "ipython3",
   "version": "3.12.0"
  }
 },
 "nbformat": 4,
 "nbformat_minor": 2
}
