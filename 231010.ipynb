{
 "cells": [
  {
   "cell_type": "code",
   "execution_count": 2,
   "metadata": {},
   "outputs": [
    {
     "name": "stdout",
     "output_type": "stream",
     "text": [
      "OneTwoThre\n",
      "eFourFiveS\n",
      "ixSevenEig\n",
      "htNineTen\n"
     ]
    }
   ],
   "source": [
    "# 백준 11721번 - 열 개씩 끊어 출력하기\n",
    "import sys\n",
    "# input = sys.stdin.readline\n",
    "\n",
    "n = input().strip()\n",
    "for i in range(0, len(n), 10):\n",
    "    print(n[i:i+10])"
   ]
  },
  {
   "cell_type": "code",
   "execution_count": 3,
   "metadata": {},
   "outputs": [],
   "source": [
    "# 백준 11719번 - 그대로 출력하기 2\n",
    "import sys\n",
    "# input = sys.stdin.readline\n",
    "\n",
    "while True:\n",
    "    n = input()\n",
    "    if n == '':\n",
    "        break\n",
    "    print(n)"
   ]
  },
  {
   "cell_type": "code",
   "execution_count": null,
   "metadata": {},
   "outputs": [],
   "source": []
  }
 ],
 "metadata": {
  "kernelspec": {
   "display_name": "Python 3",
   "language": "python",
   "name": "python3"
  },
  "language_info": {
   "codemirror_mode": {
    "name": "ipython",
    "version": 3
   },
   "file_extension": ".py",
   "mimetype": "text/x-python",
   "name": "python",
   "nbconvert_exporter": "python",
   "pygments_lexer": "ipython3",
   "version": "3.12.0"
  }
 },
 "nbformat": 4,
 "nbformat_minor": 2
}
