{
 "cells": [
  {
   "cell_type": "code",
   "execution_count": 4,
   "metadata": {},
   "outputs": [
    {
     "name": "stdout",
     "output_type": "stream",
     "text": [
      "0\n"
     ]
    }
   ],
   "source": [
    "# 백준 15953번 - 상금 헌터\n",
    "import sys\n",
    "# input = sys.stdin.readline\n",
    "\n",
    "price_2017 = [5000000, 3000000, 3000000, 2000000, 2000000, 2000000, \n",
    "            500000, 500000, 500000, 500000, 300000, 300000, 300000, 300000, 300000,\n",
    "            100000, 100000, 100000, 100000, 100000, 100000]\n",
    "price_2018 = [5120000, 2560000, 2560000, 1280000, 1280000, 1280000, 1280000, \n",
    "            640000, 640000, 640000, 640000, 640000, 640000, 640000, 640000,\n",
    "            320000, 320000, 320000, 320000, 320000, 320000, 320000, 320000,\n",
    "            320000, 320000, 320000, 320000, 320000, 320000, 320000, 320000]\n",
    "\n",
    "n = int(input().strip())\n",
    "for _ in range(n):\n",
    "    a, b = map(int,input().strip().split())\n",
    "    result = 0\n",
    "    if a <= 21 and a != 0:\n",
    "        result += price_2017[a-1]\n",
    "    if b <= 31  and b != 0:\n",
    "        result += price_2018[b-1]\n",
    "    print(result)"
   ]
  },
  {
   "cell_type": "code",
   "execution_count": 33,
   "metadata": {},
   "outputs": [
    {
     "name": "stdout",
     "output_type": "stream",
     "text": [
      "<class 'str'>\n",
      "  *  \n",
      "<class 'str'>\n",
      " * * \n",
      "*****\n"
     ]
    }
   ],
   "source": [
    "# 백준 10992번 - 별 찍기 - 17\n",
    "import sys\n",
    "# input = sys.stdin.readline\n",
    "\n",
    "n = int(input().strip())\n",
    "wid = (n * 2) - 1\n",
    "\n",
    "for i in range(1, n+1):\n",
    "    if i == n:\n",
    "        print('*' * wid)\n",
    "    elif i == 1:\n",
    "        print('*'.center(wid))\n",
    "    else:\n",
    "        spa = ' ' * ((2 * i) - 3)\n",
    "        star = '*' + spa + '*'\n",
    "        print(star.center(wid))"
   ]
  },
  {
   "cell_type": "code",
   "execution_count": 36,
   "metadata": {},
   "outputs": [
    {
     "name": "stdout",
     "output_type": "stream",
     "text": [
      "  *\n",
      " * *\n",
      "* * *\n"
     ]
    }
   ],
   "source": [
    "# 백준 10991번 - 별 찍기 - 16\n",
    "import sys\n",
    "# input = sys.stdin.readline\n",
    "\n",
    "n = int(input().strip())\n",
    "\n",
    "for i in range(1, n+1):\n",
    "    str = ('* ' * i).rstrip()\n",
    "    str = str.center((n * 2) - 1).rstrip()\n",
    "    print(str)"
   ]
  },
  {
   "cell_type": "code",
   "execution_count": null,
   "metadata": {},
   "outputs": [],
   "source": [
    "# 백준 2935번 - 소음\n",
    "import sys\n",
    "# input = sys.stdin.readline\n",
    "\n",
    "a = int(input().strip())\n",
    "oper = input().strip()\n",
    "b = int(input().strip())\n",
    "if oper == '*':\n",
    "    print(a * b)\n",
    "else:\n",
    "    print(a + b)"
   ]
  },
  {
   "cell_type": "code",
   "execution_count": 60,
   "metadata": {},
   "outputs": [
    {
     "ename": "TypeError",
     "evalue": "'str' object is not callable",
     "output_type": "error",
     "traceback": [
      "\u001b[1;31m---------------------------------------------------------------------------\u001b[0m",
      "\u001b[1;31mTypeError\u001b[0m                                 Traceback (most recent call last)",
      "\u001b[1;32md:\\AlgorithmStudy\\231014.ipynb 셀 5\u001b[0m line \u001b[0;36m1\n\u001b[0;32m     <a href='vscode-notebook-cell:/d%3A/AlgorithmStudy/231014.ipynb#W5sZmlsZQ%3D%3D?line=11'>12</a>\u001b[0m \u001b[39mfor\u001b[39;00m k, v \u001b[39min\u001b[39;00m \u001b[39menumerate\u001b[39m(n):\n\u001b[0;32m     <a href='vscode-notebook-cell:/d%3A/AlgorithmStudy/231014.ipynb#W5sZmlsZQ%3D%3D?line=12'>13</a>\u001b[0m     \u001b[39mif\u001b[39;00m v \u001b[39m==\u001b[39m \u001b[39m'\u001b[39m\u001b[39m1\u001b[39m\u001b[39m'\u001b[39m:\n\u001b[1;32m---> <a href='vscode-notebook-cell:/d%3A/AlgorithmStudy/231014.ipynb#W5sZmlsZQ%3D%3D?line=13'>14</a>\u001b[0m         idx\u001b[39m.\u001b[39mappend(\u001b[39mstr\u001b[39;49m(k))\n\u001b[0;32m     <a href='vscode-notebook-cell:/d%3A/AlgorithmStudy/231014.ipynb#W5sZmlsZQ%3D%3D?line=14'>15</a>\u001b[0m \u001b[39mprint\u001b[39m(\u001b[39m'\u001b[39m\u001b[39m \u001b[39m\u001b[39m'\u001b[39m\u001b[39m.\u001b[39mjoin(idx))\n",
      "\u001b[1;31mTypeError\u001b[0m: 'str' object is not callable"
     ]
    }
   ],
   "source": [
    "# 백준 3460번 - 이진수\n",
    "import sys\n",
    "# input = sys.stdin.readline\n",
    "\n",
    "t = int(input().strip())\n",
    "\n",
    "for _ in range(t):\n",
    "    n = int(input().strip())\n",
    "    idx = []\n",
    "    n = bin(n)[::-1][:-2]\n",
    "    \n",
    "    for k, v in enumerate(n):\n",
    "        if v == '1':\n",
    "            idx.append(str(k))\n",
    "    print(' '.join(idx))"
   ]
  },
  {
   "cell_type": "code",
   "execution_count": null,
   "metadata": {},
   "outputs": [],
   "source": []
  }
 ],
 "metadata": {
  "kernelspec": {
   "display_name": "Python 3",
   "language": "python",
   "name": "python3"
  },
  "language_info": {
   "codemirror_mode": {
    "name": "ipython",
    "version": 3
   },
   "file_extension": ".py",
   "mimetype": "text/x-python",
   "name": "python",
   "nbconvert_exporter": "python",
   "pygments_lexer": "ipython3",
   "version": "3.12.0"
  }
 },
 "nbformat": 4,
 "nbformat_minor": 2
}
