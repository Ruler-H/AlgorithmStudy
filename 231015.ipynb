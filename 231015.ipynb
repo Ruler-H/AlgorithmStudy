{
 "cells": [
  {
   "cell_type": "code",
   "execution_count": null,
   "metadata": {},
   "outputs": [],
   "source": [
    "# 백준 2903번 - 중앙 이동 알고리즘\n",
    "import sys\n",
    "# input = sys.stdin.readline\n",
    "\n",
    "n = int(input().strip())\n",
    "\n",
    "result = 2\n",
    "for _ in range(n):\n",
    "    result += (result - 1)\n",
    "print(result ** 2)"
   ]
  },
  {
   "cell_type": "code",
   "execution_count": 5,
   "metadata": {},
   "outputs": [
    {
     "name": "stdout",
     "output_type": "stream",
     "text": [
      "BAD 7\n"
     ]
    }
   ],
   "source": [
    "# 백준 1837번 - 암호 제작\n",
    "import sys\n",
    "# input = sys.stdin.readline\n",
    "\n",
    "p, k = map(int, input().strip().split())\n",
    "\n",
    "result = k\n",
    "\n",
    "if p % 2 == 0:\n",
    "    result = 2\n",
    "else:\n",
    "    for i in range(3, k - 1, 2):\n",
    "        if p % i == 0:\n",
    "            result = i\n",
    "            break\n",
    "\n",
    "if result < k:\n",
    "    print(f'BAD {result}')\n",
    "else:\n",
    "    print('GOOD')"
   ]
  },
  {
   "cell_type": "code",
   "execution_count": null,
   "metadata": {},
   "outputs": [],
   "source": [
    "# 백준 5565번 - 영수증\n",
    "import sys\n",
    "# input = sys.stdin.readline\n",
    "\n",
    "result = int(input().strip())\n",
    "\n",
    "for _ in range(9):\n",
    "    result -= int(input().strip())\n",
    "\n",
    "print(result)"
   ]
  },
  {
   "cell_type": "code",
   "execution_count": 6,
   "metadata": {},
   "outputs": [
    {
     "ename": "ValueError",
     "evalue": "invalid literal for int() with base 10: ''",
     "output_type": "error",
     "traceback": [
      "\u001b[1;31m---------------------------------------------------------------------------\u001b[0m",
      "\u001b[1;31mValueError\u001b[0m                                Traceback (most recent call last)",
      "\u001b[1;32md:\\AlgorithmStudy\\231015.ipynb 셀 4\u001b[0m line \u001b[0;36m5\n\u001b[0;32m      <a href='vscode-notebook-cell:/d%3A/AlgorithmStudy/231015.ipynb#W3sZmlsZQ%3D%3D?line=1'>2</a>\u001b[0m \u001b[39mimport\u001b[39;00m \u001b[39msys\u001b[39;00m\n\u001b[0;32m      <a href='vscode-notebook-cell:/d%3A/AlgorithmStudy/231015.ipynb#W3sZmlsZQ%3D%3D?line=2'>3</a>\u001b[0m \u001b[39m# input = sys.stdin.readline\u001b[39;00m\n\u001b[1;32m----> <a href='vscode-notebook-cell:/d%3A/AlgorithmStudy/231015.ipynb#W3sZmlsZQ%3D%3D?line=4'>5</a>\u001b[0m n \u001b[39m=\u001b[39m \u001b[39mint\u001b[39;49m(\u001b[39minput\u001b[39;49m()\u001b[39m.\u001b[39;49mstrip())\n\u001b[0;32m      <a href='vscode-notebook-cell:/d%3A/AlgorithmStudy/231015.ipynb#W3sZmlsZQ%3D%3D?line=6'>7</a>\u001b[0m cup_list \u001b[39m=\u001b[39m [\u001b[39m1\u001b[39m, \u001b[39m0\u001b[39m, \u001b[39m0\u001b[39m]\n\u001b[0;32m      <a href='vscode-notebook-cell:/d%3A/AlgorithmStudy/231015.ipynb#W3sZmlsZQ%3D%3D?line=7'>8</a>\u001b[0m \u001b[39mfor\u001b[39;00m _ \u001b[39min\u001b[39;00m \u001b[39mrange\u001b[39m(n):\n",
      "\u001b[1;31mValueError\u001b[0m: invalid literal for int() with base 10: ''"
     ]
    }
   ],
   "source": [
    "# 백준 1547번 - 공\n",
    "import sys\n",
    "# input = sys.stdin.readline\n",
    "\n",
    "n = int(input().strip())\n",
    "\n",
    "cup_list = [1, 0, 0]\n",
    "for _ in range(n):\n",
    "    a, b = map(int, input().strip().split())\n",
    "    cup_list[a-1], cup_list[b-1] = cup_list[b-1], cup_list[a-1]\n",
    "\n",
    "print(cup_list.index(1) + 1)"
   ]
  },
  {
   "cell_type": "code",
   "execution_count": 8,
   "metadata": {},
   "outputs": [
    {
     "ename": "SyntaxError",
     "evalue": "incomplete input (2442142190.py, line 8)",
     "output_type": "error",
     "traceback": [
      "\u001b[1;36m  Cell \u001b[1;32mIn[8], line 8\u001b[1;36m\u001b[0m\n\u001b[1;33m    \u001b[0m\n\u001b[1;37m    ^\u001b[0m\n\u001b[1;31mSyntaxError\u001b[0m\u001b[1;31m:\u001b[0m incomplete input\n"
     ]
    }
   ],
   "source": [
    "# 백준 2460번 - 지능형 기차 2\n",
    "import sys\n",
    "# input = sys.stdin.readline\n",
    "\n",
    "result = 0\n",
    "people_cnt = 0\n",
    "for _ in range(10):\n",
    "    a, b = map(int, input().strip().split())\n",
    "    people_cnt += (b - a)\n",
    "    result = max(result, people_cnt)\n",
    "\n",
    "print(result)"
   ]
  },
  {
   "cell_type": "code",
   "execution_count": null,
   "metadata": {},
   "outputs": [],
   "source": [
    "# 백준 2506번 - 점수계산\n",
    "import sys\n",
    "# input = sys.stdin.readline\n",
    "\n",
    "n = int(input().strip())\n",
    "\n",
    "total = 0\n",
    "score = 0\n",
    "\n",
    "result_list = list(map(int, input().strip().split()))\n",
    "for result in result_list:\n",
    "    if result == 0:\n",
    "        score = 0\n",
    "    else:\n",
    "        score += 1\n",
    "    total += score\n",
    "\n",
    "print(total)"
   ]
  }
 ],
 "metadata": {
  "kernelspec": {
   "display_name": "Python 3",
   "language": "python",
   "name": "python3"
  },
  "language_info": {
   "codemirror_mode": {
    "name": "ipython",
    "version": 3
   },
   "file_extension": ".py",
   "mimetype": "text/x-python",
   "name": "python",
   "nbconvert_exporter": "python",
   "pygments_lexer": "ipython3",
   "version": "3.12.0"
  }
 },
 "nbformat": 4,
 "nbformat_minor": 2
}
