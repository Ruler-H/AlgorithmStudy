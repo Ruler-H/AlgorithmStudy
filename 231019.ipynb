{
 "cells": [
  {
   "cell_type": "code",
   "execution_count": 6,
   "metadata": {},
   "outputs": [
    {
     "name": "stdout",
     "output_type": "stream",
     "text": [
      "score: 24.9\n",
      "grades: 11.0\n",
      "(11, 2.3)\n"
     ]
    },
    {
     "ename": "ValueError",
     "evalue": "invalid literal for int() with base 10: ''",
     "output_type": "error",
     "traceback": [
      "\u001b[1;31m---------------------------------------------------------------------------\u001b[0m",
      "\u001b[1;31mValueError\u001b[0m                                Traceback (most recent call last)",
      "\u001b[1;32md:\\AlgorithmStudy\\231019.ipynb 셀 1\u001b[0m line \u001b[0;36m9\n\u001b[0;32m      <a href='vscode-notebook-cell:/d%3A/AlgorithmStudy/231019.ipynb#W0sZmlsZQ%3D%3D?line=5'>6</a>\u001b[0m t \u001b[39m=\u001b[39m \u001b[39mint\u001b[39m(\u001b[39minput\u001b[39m()\u001b[39m.\u001b[39mstrip())\n\u001b[0;32m      <a href='vscode-notebook-cell:/d%3A/AlgorithmStudy/231019.ipynb#W0sZmlsZQ%3D%3D?line=7'>8</a>\u001b[0m \u001b[39mfor\u001b[39;00m _ \u001b[39min\u001b[39;00m \u001b[39mrange\u001b[39m(t):\n\u001b[1;32m----> <a href='vscode-notebook-cell:/d%3A/AlgorithmStudy/231019.ipynb#W0sZmlsZQ%3D%3D?line=8'>9</a>\u001b[0m     n \u001b[39m=\u001b[39m \u001b[39mint\u001b[39;49m(\u001b[39minput\u001b[39;49m()\u001b[39m.\u001b[39;49mstrip())\n\u001b[0;32m     <a href='vscode-notebook-cell:/d%3A/AlgorithmStudy/231019.ipynb#W0sZmlsZQ%3D%3D?line=9'>10</a>\u001b[0m     grades \u001b[39m=\u001b[39m \u001b[39m0\u001b[39m\n\u001b[0;32m     <a href='vscode-notebook-cell:/d%3A/AlgorithmStudy/231019.ipynb#W0sZmlsZQ%3D%3D?line=10'>11</a>\u001b[0m     score \u001b[39m=\u001b[39m \u001b[39m0\u001b[39m\n",
      "\u001b[1;31mValueError\u001b[0m: invalid literal for int() with base 10: ''"
     ]
    }
   ],
   "source": [
    "# 백준 10984번 - 내 학점을 구해줘\n",
    "import sys\n",
    "# input = sys.stdin.readline\n",
    "\n",
    "\n",
    "t = int(input().strip())\n",
    "\n",
    "for _ in range(t):\n",
    "    n = int(input().strip())\n",
    "    grades = 0\n",
    "    score = 0\n",
    "    for _ in range(n):\n",
    "        a, b = map(float, input().strip().split())\n",
    "        grades += a\n",
    "        score += (a * b)\n",
    "    score = round(score/grades, 1)\n",
    "    print(f'{int(grades)} {score}')"
   ]
  },
  {
   "cell_type": "code",
   "execution_count": 14,
   "metadata": {},
   "outputs": [
    {
     "name": "stdout",
     "output_type": "stream",
     "text": [
      "3\n",
      "12\n"
     ]
    }
   ],
   "source": [
    "# 백준 1598번 - 꼬리를 무는 숫자 나열\n",
    "import sys\n",
    "# input = sys.stdin.readline\n",
    "\n",
    "num_list = list(map(int, input().strip().split()))\n",
    "num_list.sort()\n",
    "if num_list[1] % 4:\n",
    "    num_rest1 = num_list[1] % 4\n",
    "else:\n",
    "    num_rest1 = 4\n",
    "\n",
    "if num_list[0] % 4:\n",
    "    num_rest2 = num_list[0] % 4\n",
    "else:\n",
    "    num_rest2 = 4\n",
    "result = num_rest1 - num_rest2\n",
    "\n",
    "num_list[0] += result\n",
    "\n",
    "result = abs(result)\n",
    "\n",
    "result += (num_list[1] - num_list[0]) // 4\n",
    "\n",
    "print(result)"
   ]
  },
  {
   "cell_type": "code",
   "execution_count": null,
   "metadata": {},
   "outputs": [],
   "source": [
    "# 백준 10987번 - 모음의 개수\n",
    "import sys\n",
    "# input = sys.stdin.readline\n",
    "\n",
    "moum = ['a', 'e', 'i', 'o', 'u']\n",
    "\n",
    "result = 0\n",
    "\n",
    "inp_str = input().strip()\n",
    "for i in moum:\n",
    "    result += inp_str.count(i)\n",
    "\n",
    "print(result)"
   ]
  },
  {
   "cell_type": "code",
   "execution_count": 17,
   "metadata": {},
   "outputs": [
    {
     "name": "stdout",
     "output_type": "stream",
     "text": [
      "1 is NOT a multiple of 3.\n"
     ]
    },
    {
     "ename": "ValueError",
     "evalue": "invalid literal for int() with base 10: ''",
     "output_type": "error",
     "traceback": [
      "\u001b[1;31m---------------------------------------------------------------------------\u001b[0m",
      "\u001b[1;31mValueError\u001b[0m                                Traceback (most recent call last)",
      "\u001b[1;32md:\\AlgorithmStudy\\231019.ipynb 셀 4\u001b[0m line \u001b[0;36m8\n\u001b[0;32m      <a href='vscode-notebook-cell:/d%3A/AlgorithmStudy/231019.ipynb#W3sZmlsZQ%3D%3D?line=4'>5</a>\u001b[0m n \u001b[39m=\u001b[39m \u001b[39mint\u001b[39m(\u001b[39minput\u001b[39m()\u001b[39m.\u001b[39mstrip())\n\u001b[0;32m      <a href='vscode-notebook-cell:/d%3A/AlgorithmStudy/231019.ipynb#W3sZmlsZQ%3D%3D?line=6'>7</a>\u001b[0m \u001b[39mwhile\u001b[39;00m \u001b[39mTrue\u001b[39;00m:\n\u001b[1;32m----> <a href='vscode-notebook-cell:/d%3A/AlgorithmStudy/231019.ipynb#W3sZmlsZQ%3D%3D?line=7'>8</a>\u001b[0m     num \u001b[39m=\u001b[39m \u001b[39mint\u001b[39;49m(\u001b[39minput\u001b[39;49m()\u001b[39m.\u001b[39;49mstrip())\n\u001b[0;32m      <a href='vscode-notebook-cell:/d%3A/AlgorithmStudy/231019.ipynb#W3sZmlsZQ%3D%3D?line=8'>9</a>\u001b[0m     \u001b[39mif\u001b[39;00m \u001b[39mnot\u001b[39;00m num:\n\u001b[0;32m     <a href='vscode-notebook-cell:/d%3A/AlgorithmStudy/231019.ipynb#W3sZmlsZQ%3D%3D?line=9'>10</a>\u001b[0m         \u001b[39mbreak\u001b[39;00m\n",
      "\u001b[1;31mValueError\u001b[0m: invalid literal for int() with base 10: ''"
     ]
    }
   ],
   "source": [
    "# 백준 4504번 - 배수 찾기\n",
    "import sys\n",
    "# input = sys.stdin.readline\n",
    "\n",
    "n = int(input().strip())\n",
    "\n",
    "while True:\n",
    "    num = int(input().strip())\n",
    "    if not num:\n",
    "        break\n",
    "    if num % n:\n",
    "        print(f'{num} is NOT a multiple of {n}.')\n",
    "    else:\n",
    "        print(f'{num} is a multiple of {n}.')"
   ]
  },
  {
   "cell_type": "code",
   "execution_count": 20,
   "metadata": {},
   "outputs": [
    {
     "name": "stdout",
     "output_type": "stream",
     "text": [
      "3\n"
     ]
    }
   ],
   "source": [
    "# 백준 2965번 - 캥거루 세마리\n",
    "import sys\n",
    "# input = sys.stdin.readline\n",
    "\n",
    "a, b, c = map(int, input().strip().split())\n",
    "\n",
    "print(max(b-a-1, c-b-1))"
   ]
  },
  {
   "cell_type": "code",
   "execution_count": 29,
   "metadata": {},
   "outputs": [
    {
     "ename": "TypeError",
     "evalue": "unsupported operand type(s) for +: 'int' and 'str'",
     "output_type": "error",
     "traceback": [
      "\u001b[1;31m---------------------------------------------------------------------------\u001b[0m",
      "\u001b[1;31mTypeError\u001b[0m                                 Traceback (most recent call last)",
      "\u001b[1;32md:\\AlgorithmStudy\\231019.ipynb 셀 6\u001b[0m line \u001b[0;36m1\n\u001b[0;32m     <a href='vscode-notebook-cell:/d%3A/AlgorithmStudy/231019.ipynb#W5sZmlsZQ%3D%3D?line=10'>11</a>\u001b[0m \u001b[39mmatch\u001b[39;00m st:\n\u001b[0;32m     <a href='vscode-notebook-cell:/d%3A/AlgorithmStudy/231019.ipynb#W5sZmlsZQ%3D%3D?line=11'>12</a>\u001b[0m     \u001b[39mcase\u001b[39;00m \u001b[39m'\u001b[39m\u001b[39mA\u001b[39m\u001b[39m'\u001b[39m:\n\u001b[1;32m---> <a href='vscode-notebook-cell:/d%3A/AlgorithmStudy/231019.ipynb#W5sZmlsZQ%3D%3D?line=12'>13</a>\u001b[0m         result \u001b[39m+\u001b[39m\u001b[39m=\u001b[39m (num_list[\u001b[39m0\u001b[39;49m] \u001b[39m+\u001b[39;49m \u001b[39m'\u001b[39;49m\u001b[39m \u001b[39;49m\u001b[39m'\u001b[39;49m)\n\u001b[0;32m     <a href='vscode-notebook-cell:/d%3A/AlgorithmStudy/231019.ipynb#W5sZmlsZQ%3D%3D?line=13'>14</a>\u001b[0m     \u001b[39mcase\u001b[39;00m \u001b[39m'\u001b[39m\u001b[39mB\u001b[39m\u001b[39m'\u001b[39m:\n\u001b[0;32m     <a href='vscode-notebook-cell:/d%3A/AlgorithmStudy/231019.ipynb#W5sZmlsZQ%3D%3D?line=14'>15</a>\u001b[0m         result \u001b[39m+\u001b[39m\u001b[39m=\u001b[39m (num_list[\u001b[39m1\u001b[39m] \u001b[39m+\u001b[39m \u001b[39m'\u001b[39m\u001b[39m \u001b[39m\u001b[39m'\u001b[39m)\n",
      "\u001b[1;31mTypeError\u001b[0m: unsupported operand type(s) for +: 'int' and 'str'"
     ]
    }
   ],
   "source": [
    "# 백준 3047번 - ABC\n",
    "import sys\n",
    "# input = sys.stdin.readline\n",
    "\n",
    "num_list = list(map(int, input().strip().split()))\n",
    "num_list.sort()\n",
    "inp_str = input().strip()\n",
    "result = ''\n",
    "\n",
    "for st in inp_str:\n",
    "    match st:\n",
    "        case 'A':\n",
    "            result += (str(num_list[0]) + ' ')\n",
    "        case 'B':\n",
    "            result += (str(num_list[1]) + ' ')\n",
    "        case 'C':\n",
    "            result += (str(num_list[2]) + ' ')\n",
    "\n",
    "print(result.strip())"
   ]
  },
  {
   "cell_type": "code",
   "execution_count": 31,
   "metadata": {},
   "outputs": [
    {
     "name": "stdout",
     "output_type": "stream",
     "text": [
      "90\n"
     ]
    }
   ],
   "source": [
    "# 백준 10707번 - 수도요금\n",
    "import sys\n",
    "# input = sys.stdin.readline\n",
    "\n",
    "a = int(input().strip())\n",
    "b = int(input().strip())\n",
    "c = int(input().strip())\n",
    "d = int(input().strip())\n",
    "p = int(input().strip())\n",
    "\n",
    "x = a * p\n",
    "y = b\n",
    "if p - c > 0:\n",
    "    y += ((p - c) * d)\n",
    "\n",
    "print(min(x, y))"
   ]
  },
  {
   "cell_type": "code",
   "execution_count": null,
   "metadata": {},
   "outputs": [],
   "source": []
  }
 ],
 "metadata": {
  "kernelspec": {
   "display_name": "Python 3",
   "language": "python",
   "name": "python3"
  },
  "language_info": {
   "codemirror_mode": {
    "name": "ipython",
    "version": 3
   },
   "file_extension": ".py",
   "mimetype": "text/x-python",
   "name": "python",
   "nbconvert_exporter": "python",
   "pygments_lexer": "ipython3",
   "version": "3.12.0"
  }
 },
 "nbformat": 4,
 "nbformat_minor": 2
}
