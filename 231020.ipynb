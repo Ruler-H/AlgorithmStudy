{
 "cells": [
  {
   "cell_type": "code",
   "execution_count": 4,
   "metadata": {},
   "outputs": [
    {
     "name": "stdout",
     "output_type": "stream",
     "text": [
      "12 2\n",
      "260 42\n"
     ]
    }
   ],
   "source": [
    "# 백준 3058번 - 짝수를 찾아라\n",
    "import sys\n",
    "# input = sys.stdin.readline\n",
    "\n",
    "t = int(input().strip())\n",
    "\n",
    "for _ in range(t):\n",
    "    min_even = 101\n",
    "    result = 0\n",
    "    num_list = list(map(int, input().strip().split()))\n",
    "    for num in num_list:\n",
    "        if num % 2 == 0:\n",
    "            min_even = min(min_even, num)\n",
    "            result += num\n",
    "    print(f'{result} {min_even}')\n"
   ]
  },
  {
   "cell_type": "code",
   "execution_count": null,
   "metadata": {},
   "outputs": [],
   "source": [
    "# 백준 24266번 - 알고리즘 수업 - 알고리즘의 수행 시간 5\n",
    "import sys\n",
    "# input = sys.stdin.readline\n",
    "\n",
    "n = int(input().strip())\n",
    "\n",
    "print(n ** 3)\n",
    "print(3)"
   ]
  },
  {
   "cell_type": "code",
   "execution_count": null,
   "metadata": {},
   "outputs": [],
   "source": [
    "# 백준 9325번 - 얼마?\n",
    "import sys\n",
    "# input = sys.stdin.readline\n",
    "\n",
    "t = int(input().strip())\n",
    "\n",
    "for _ in range(t):\n",
    "    price = int(input().strip())\n",
    "    op_cnt = int(input().strip())\n",
    "    for i in range(op_cnt):\n",
    "        cnt, op_price = map(int, input().strip().split())\n",
    "        price += (cnt * op_price)\n",
    "\n",
    "    print(price)"
   ]
  },
  {
   "cell_type": "code",
   "execution_count": 8,
   "metadata": {},
   "outputs": [
    {
     "name": "stdout",
     "output_type": "stream",
     "text": [
      "range(1, 15)\n",
      "[1, 2, 3, 4, 5, 6, 7, 8, 9, 10, 11, 12, 13, 14]\n",
      "[1, 2, 3, 4, 5, 6, 7, 8, 9, 10, 11, 12, 13, 14]\n",
      "2\n"
     ]
    }
   ],
   "source": [
    "# 백준 17614번 - 369\n",
    "import sys\n",
    "# input = sys.stdin.readline\n",
    "\n",
    "n = int(input().strip())\n",
    "n_str = str(list(range(1, n+1)))\n",
    "print(n_str.count('3') + n_str.count('6') + n_str.count('9'))"
   ]
  },
  {
   "cell_type": "code",
   "execution_count": 7,
   "metadata": {},
   "outputs": [
    {
     "name": "stdout",
     "output_type": "stream",
     "text": [
      "#\n",
      "\n",
      "###\n",
      "#J#\n",
      "###\n",
      "\n"
     ]
    }
   ],
   "source": [
    "# 백준 5354번 - J박스\n",
    "import sys\n",
    "# input = sys.stdin.readline\n",
    "\n",
    "t = int(input().strip())\n",
    "\n",
    "for i in range(t):\n",
    "    n = int(input().strip())\n",
    "    if n == 1:\n",
    "        print('#')\n",
    "        print()\n",
    "        continue\n",
    "    elif n == 0:\n",
    "        continue\n",
    "    print('#' * n)\n",
    "    for _ in range(n-2):\n",
    "        print('#' + f'{\"J\" * (n-2)}' + '#')\n",
    "    print('#' * n)\n",
    "    print()"
   ]
  },
  {
   "cell_type": "code",
   "execution_count": 13,
   "metadata": {},
   "outputs": [
    {
     "name": "stdout",
     "output_type": "stream",
     "text": [
      "00:00:00\n"
     ]
    },
    {
     "ename": "",
     "evalue": "",
     "output_type": "error",
     "traceback": [
      "\u001b[1;31m현재 셀 또는 이전 셀에서 코드를 실행하는 동안 Kernel이 충돌했습니다. 셀의 코드를 검토하여 오류의 가능한 원인을 식별하세요. 자세한 내용을 보려면 <a href='https://aka.ms/vscodeJupyterKernelCrash'> 여기 </a> 를 클릭하세요. 자세한 내용은 Jupyter <a href='command:jupyter.viewOutput'>로그</a>를 참조하세요."
     ]
    }
   ],
   "source": [
    "# 백준 3029번 - 경고\n",
    "import sys\n",
    "# input = sys.stdin.readline\n",
    "from datetime import datetime\n",
    "\n",
    "now_time = datetime.strptime(input().strip(), '%H:%M:%S')\n",
    "throw_time = datetime.strptime(input().strip(), '%H:%M:%S')\n",
    "resttime = str(throw_time - now_time)\n",
    "resttime = resttime.split(' ')[-1]\n",
    "if len(resttime) == 7:\n",
    "    resttime = '0' + resttime\n",
    "if resttime == '00:00:00':\n",
    "    resttime = '24:00:00'\n",
    "print(resttime)"
   ]
  },
  {
   "cell_type": "code",
   "execution_count": null,
   "metadata": {},
   "outputs": [],
   "source": [
    "# 백준 1284번 - 집 주소\n",
    "import sys\n",
    "# input = sys.stdin.readline\n",
    "\n",
    "wid_list = [4, 2, 3, 3, 3, 3, 3, 3, 3, 3]\n",
    "\n",
    "while True:\n",
    "    inp_str = input().strip()\n",
    "    if inp_str:\n",
    "        break\n",
    "\n",
    "    "
   ]
  }
 ],
 "metadata": {
  "kernelspec": {
   "display_name": "Python 3",
   "language": "python",
   "name": "python3"
  },
  "language_info": {
   "codemirror_mode": {
    "name": "ipython",
    "version": 3
   },
   "file_extension": ".py",
   "mimetype": "text/x-python",
   "name": "python",
   "nbconvert_exporter": "python",
   "pygments_lexer": "ipython3",
   "version": "3.12.0"
  }
 },
 "nbformat": 4,
 "nbformat_minor": 2
}
