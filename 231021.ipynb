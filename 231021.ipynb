{
 "cells": [
  {
   "cell_type": "code",
   "execution_count": 3,
   "metadata": {},
   "outputs": [],
   "source": [
    "# 백준 1284번 - 집 주소\n",
    "import sys\n",
    "# input = sys.stdin.readline\n",
    "\n",
    "wid_list = [4, 2, 3, 3, 3, 3, 3, 3, 3, 3]\n",
    "\n",
    "while True:\n",
    "    n_list = list(map(int, input().strip()))\n",
    "    if n_list[0] == 0:\n",
    "        break\n",
    "    result = 1\n",
    "    for i in n_list:\n",
    "        result += wid_list[i]\n",
    "    result += len(n_list)\n",
    "    \n",
    "    print(result)"
   ]
  },
  {
   "cell_type": "code",
   "execution_count": null,
   "metadata": {},
   "outputs": [],
   "source": [
    "# 백준 9295번 - 주사위\n",
    "import sys\n",
    "# input = sys.stdin.readline\n",
    "\n",
    "n = int(input().strip())\n",
    "\n",
    "for i in range(1, n+1):\n",
    "    num = sum(map(int, input().strip().split()))\n",
    "    print(f'Case {i}: {num}')"
   ]
  },
  {
   "cell_type": "code",
   "execution_count": 6,
   "metadata": {},
   "outputs": [
    {
     "name": "stdout",
     "output_type": "stream",
     "text": [
      "NE\n",
      "DA\n"
     ]
    }
   ],
   "source": [
    "# 백준 3034번 - 앵그리 창영\n",
    "import sys\n",
    "# input = sys.stdin.readline\n",
    "\n",
    "t, w, h = map(int, input().strip().split())\n",
    "\n",
    "stan = ((w ** 2) + (h ** 2)) ** 0.5\n",
    "\n",
    "for _ in range(t):\n",
    "    n = int(input().strip())\n",
    "    if n <= stan:\n",
    "        print('DA')\n",
    "    else:\n",
    "        print('NE')"
   ]
  },
  {
   "cell_type": "code",
   "execution_count": 23,
   "metadata": {},
   "outputs": [
    {
     "name": "stdout",
     "output_type": "stream",
     "text": [
      "3\n"
     ]
    }
   ],
   "source": [
    "# 백준 11966번 - 2의 제곱인가?\n",
    "import sys\n",
    "# input = sys.stdin.readline\n",
    "\n",
    "n = int(input().strip())\n",
    "\n",
    "while n % 2 == 0:\n",
    "    n //= 2\n",
    "\n",
    "if n == 1:\n",
    "    print(1)\n",
    "else:\n",
    "    print(0)"
   ]
  },
  {
   "cell_type": "code",
   "execution_count": 25,
   "metadata": {},
   "outputs": [
    {
     "name": "stdout",
     "output_type": "stream",
     "text": [
      "7\n"
     ]
    }
   ],
   "source": [
    "# 백준 14720번 - 우유 축제\n",
    "import sys\n",
    "# input = sys.stdin.readline\n",
    "\n",
    "n = int(input().strip())\n",
    "\n",
    "n_list = list(map(int, input().strip().split()))\n",
    "\n",
    "\n",
    "result = 0\n",
    "milk = 0\n",
    "for i in n_list:\n",
    "    if i == milk:\n",
    "        result += 1\n",
    "        milk = i + 1\n",
    "        milk %= 3\n",
    "print(result)"
   ]
  },
  {
   "cell_type": "code",
   "execution_count": null,
   "metadata": {},
   "outputs": [],
   "source": [
    "# 백준 10569번 - 다면체\n",
    "import sys\n",
    "# input = sys.stdin.readline\n",
    "\n",
    "n = int(input().strip())\n",
    "\n",
    "for _ in range(n):\n",
    "    v, e = map(int, input().strip().split())\n",
    "    print(e - v + 2)"
   ]
  },
  {
   "cell_type": "code",
   "execution_count": null,
   "metadata": {},
   "outputs": [],
   "source": [
    "# 백준 10178번 - 할로윈의 사탕\n",
    "import sys\n",
    "# input = sys.stdin.readline\n",
    "\n",
    "n = int(input().strip())\n",
    "\n",
    "for _ in range(n):\n",
    "    c, v = map(int, input().strip().split())\n",
    "    print(f'You get {c // v} piece(s) and your dad gets {c % v} piece(s).')"
   ]
  },
  {
   "cell_type": "code",
   "execution_count": 28,
   "metadata": {},
   "outputs": [
    {
     "name": "stdout",
     "output_type": "stream",
     "text": [
      "Scenario #1:\n",
      "yes\n",
      "\n",
      "Scenario #2:\n",
      "no\n"
     ]
    }
   ],
   "source": [
    "# 백준 7510번 - 고급 수학\n",
    "import sys\n",
    "# input = sys.stdin.readline\n",
    "\n",
    "n = int(input().strip())\n",
    "\n",
    "for i in range(1, n+1):\n",
    "    print(f'Scenario #{i}:')\n",
    "    tri_list = list(map(int, input().strip().split()))\n",
    "    tri_list.sort()\n",
    "    if ((tri_list[0] ** 2) + (tri_list[1] ** 2)) == (tri_list[2] ** 2):\n",
    "        print('yes')\n",
    "    else:\n",
    "        print('no')\n",
    "    if i == n:\n",
    "        break\n",
    "    print()"
   ]
  },
  {
   "cell_type": "code",
   "execution_count": null,
   "metadata": {},
   "outputs": [],
   "source": [
    "2\n",
    "36 77 85\n",
    "40 55 69"
   ]
  }
 ],
 "metadata": {
  "kernelspec": {
   "display_name": "Python 3",
   "language": "python",
   "name": "python3"
  },
  "language_info": {
   "codemirror_mode": {
    "name": "ipython",
    "version": 3
   },
   "file_extension": ".py",
   "mimetype": "text/x-python",
   "name": "python",
   "nbconvert_exporter": "python",
   "pygments_lexer": "ipython3",
   "version": "3.12.0"
  }
 },
 "nbformat": 4,
 "nbformat_minor": 2
}
