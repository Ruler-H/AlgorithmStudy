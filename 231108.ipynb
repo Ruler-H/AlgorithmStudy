{
 "cells": [
  {
   "cell_type": "code",
   "execution_count": 21,
   "metadata": {},
   "outputs": [
    {
     "name": "stdout",
     "output_type": "stream",
     "text": [
      "3\n",
      "2\n"
     ]
    }
   ],
   "source": [
    "# 백준 16428번 - A/B - 3\n",
    "import sys\n",
    "# input = sys.stdin.readline\n",
    "\n",
    "a, b = map(int, input().strip().split())\n",
    "\n",
    "if a == 0:\n",
    "    share, remain = 0, 0\n",
    "elif a < 0:\n",
    "    share = a // b\n",
    "    if a - (share * b) < 0:\n",
    "        share += 1\n",
    "    remain = a - (share * b)\n",
    "elif b < 0:\n",
    "    share = a // b\n",
    "    if (share * b) != a:\n",
    "        share += 1\n",
    "    remain = a - (share * b)\n",
    "else:\n",
    "    share = a // b\n",
    "    remain = a - (share * b)\n",
    "\n",
    "print(share)\n",
    "print(remain)"
   ]
  },
  {
   "cell_type": "code",
   "execution_count": null,
   "metadata": {},
   "outputs": [],
   "source": []
  },
  {
   "cell_type": "code",
   "execution_count": null,
   "metadata": {},
   "outputs": [],
   "source": []
  }
 ],
 "metadata": {
  "kernelspec": {
   "display_name": "Python 3",
   "language": "python",
   "name": "python3"
  },
  "language_info": {
   "codemirror_mode": {
    "name": "ipython",
    "version": 3
   },
   "file_extension": ".py",
   "mimetype": "text/x-python",
   "name": "python",
   "nbconvert_exporter": "python",
   "pygments_lexer": "ipython3",
   "version": "3.11.6"
  }
 },
 "nbformat": 4,
 "nbformat_minor": 2
}
