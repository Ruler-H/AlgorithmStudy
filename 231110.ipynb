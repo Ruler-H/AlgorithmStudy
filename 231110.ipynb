{
 "cells": [
  {
   "cell_type": "code",
   "execution_count": 12,
   "metadata": {},
   "outputs": [
    {
     "name": "stdout",
     "output_type": "stream",
     "text": [
      "1538\n"
     ]
    }
   ],
   "source": [
    "# 백준 17618번 - 신기한 수\n",
    "import sys\n",
    "# input = sys.stdin.readline\n",
    "\n",
    "int_n = int(input().strip())\n",
    "\n",
    "result = 0\n",
    "\n",
    "for i in range(1, int_n + 1):\n",
    "    str_n = str(i)\n",
    "    sum_n = 0\n",
    "    for n in str_n:\n",
    "        sum_n += int(n)\n",
    "\n",
    "    if i % sum_n == 0:\n",
    "        result += 1\n",
    "\n",
    "print(result)"
   ]
  },
  {
   "cell_type": "code",
   "execution_count": null,
   "metadata": {},
   "outputs": [],
   "source": [
    "10 10\n",
    "100 33\n",
    "1000 213\n",
    "10000 1538"
   ]
  }
 ],
 "metadata": {
  "kernelspec": {
   "display_name": "Python 3",
   "language": "python",
   "name": "python3"
  },
  "language_info": {
   "codemirror_mode": {
    "name": "ipython",
    "version": 3
   },
   "file_extension": ".py",
   "mimetype": "text/x-python",
   "name": "python",
   "nbconvert_exporter": "python",
   "pygments_lexer": "ipython3",
   "version": "3.11.6"
  }
 },
 "nbformat": 4,
 "nbformat_minor": 2
}
