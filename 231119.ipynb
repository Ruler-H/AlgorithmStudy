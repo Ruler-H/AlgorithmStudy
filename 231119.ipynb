{
 "cells": [
  {
   "cell_type": "code",
   "execution_count": 4,
   "metadata": {},
   "outputs": [
    {
     "name": "stdout",
     "output_type": "stream",
     "text": [
      "420\n",
      "1905\n"
     ]
    }
   ],
   "source": [
    "# 백준 16673번 - 고려대학교에는 공식 와인이 있다\n",
    "import sys\n",
    "# input = sys.stdin.readline\n",
    "\n",
    "c, k, p = map(int, input().strip().split())\n",
    "\n",
    "result = sum(range(1, c+1)) * k\n",
    "result += sum(map(lambda x: x ** 2,range(1, c+1))) * p\n",
    "print(result)"
   ]
  },
  {
   "cell_type": "code",
   "execution_count": null,
   "metadata": {},
   "outputs": [],
   "source": []
  }
 ],
 "metadata": {
  "kernelspec": {
   "display_name": "Python 3",
   "language": "python",
   "name": "python3"
  },
  "language_info": {
   "codemirror_mode": {
    "name": "ipython",
    "version": 3
   },
   "file_extension": ".py",
   "mimetype": "text/x-python",
   "name": "python",
   "nbconvert_exporter": "python",
   "pygments_lexer": "ipython3",
   "version": "3.11.6"
  }
 },
 "nbformat": 4,
 "nbformat_minor": 2
}
