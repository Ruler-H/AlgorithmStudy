{
 "cells": [
  {
   "cell_type": "code",
   "execution_count": 3,
   "metadata": {},
   "outputs": [
    {
     "name": "stdout",
     "output_type": "stream",
     "text": [
      "-2.05\n",
      "-18.20\n",
      "10.25\n"
     ]
    }
   ],
   "source": [
    "# 백준 4766번 - 일반 화학 실험\n",
    "import sys\n",
    "# input = sys.stdin.readline\n",
    "\n",
    "be_temper = float(input().strip())\n",
    "\n",
    "while True:\n",
    "    af_temper = float(input().strip())\n",
    "    if int(af_temper) == 999:\n",
    "        break\n",
    "    print(f'{af_temper - be_temper:.2f}')\n",
    "    be_temper = af_temper"
   ]
  },
  {
   "cell_type": "code",
   "execution_count": null,
   "metadata": {},
   "outputs": [],
   "source": [
    "10.0\n",
    "12.05\n",
    "30.25\n",
    "20\n",
    "999"
   ]
  }
 ],
 "metadata": {
  "kernelspec": {
   "display_name": "Python 3",
   "language": "python",
   "name": "python3"
  },
  "language_info": {
   "codemirror_mode": {
    "name": "ipython",
    "version": 3
   },
   "file_extension": ".py",
   "mimetype": "text/x-python",
   "name": "python",
   "nbconvert_exporter": "python",
   "pygments_lexer": "ipython3",
   "version": "3.11.6"
  }
 },
 "nbformat": 4,
 "nbformat_minor": 2
}
