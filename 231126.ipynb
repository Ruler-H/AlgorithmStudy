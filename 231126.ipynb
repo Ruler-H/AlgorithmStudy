{
 "cells": [
  {
   "cell_type": "code",
   "execution_count": 12,
   "metadata": {},
   "outputs": [
    {
     "name": "stdout",
     "output_type": "stream",
     "text": [
      "1\n",
      "0\n",
      "1\n",
      "1\n",
      "0\n"
     ]
    }
   ],
   "source": [
    "# 백준 15917번 - 노솔브 방지문제야!!\n",
    "import sys\n",
    "# input = sys.stdin.readline\n",
    "\n",
    "q = int(input().strip())\n",
    "\n",
    "for _ in range(q):\n",
    "    a = int(input().strip())\n",
    "    if a == 1:\n",
    "        print(1)\n",
    "    else:\n",
    "        print(bin(a)[-1])\n",
    "        # print((int(bin(a)[-1]) + 1) % 2)"
   ]
  },
  {
   "cell_type": "code",
   "execution_count": null,
   "metadata": {},
   "outputs": [],
   "source": [
    "10\n",
    "1\n",
    "2\n",
    "7\n",
    "4\n",
    "14\n",
    "32\n",
    "33\n",
    "34\n",
    "35\n",
    "36"
   ]
  }
 ],
 "metadata": {
  "kernelspec": {
   "display_name": "Python 3",
   "language": "python",
   "name": "python3"
  },
  "language_info": {
   "codemirror_mode": {
    "name": "ipython",
    "version": 3
   },
   "file_extension": ".py",
   "mimetype": "text/x-python",
   "name": "python",
   "nbconvert_exporter": "python",
   "pygments_lexer": "ipython3",
   "version": "3.11.6"
  }
 },
 "nbformat": 4,
 "nbformat_minor": 2
}
