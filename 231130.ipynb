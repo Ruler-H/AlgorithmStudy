{
 "cells": [
  {
   "cell_type": "code",
   "execution_count": 2,
   "metadata": {},
   "outputs": [
    {
     "name": "stdout",
     "output_type": "stream",
     "text": [
      "PLAYER A\n"
     ]
    }
   ],
   "source": [
    "# 백준 12756번 - 고급 여관\n",
    "import sys\n",
    "# input = sys.stdin.readline\n",
    "\n",
    "a_at, a_life = map(int, input().strip().split())\n",
    "b_at, b_life = map(int, input().strip().split())\n",
    "\n",
    "while True:\n",
    "    if a_life <= 0:\n",
    "        if b_life <= 0:\n",
    "            print('DRAW')\n",
    "        else:\n",
    "            print('PLAYER B')\n",
    "        break\n",
    "    elif b_life <= 0:\n",
    "        print('PLAYER A')\n",
    "        break\n",
    "    a_life -= b_at\n",
    "    b_life -= a_at"
   ]
  },
  {
   "cell_type": "code",
   "execution_count": null,
   "metadata": {},
   "outputs": [],
   "source": [
    "123 456\n",
    "555 555\n",
    "123 594\n",
    "0 0"
   ]
  }
 ],
 "metadata": {
  "kernelspec": {
   "display_name": "Python 3",
   "language": "python",
   "name": "python3"
  },
  "language_info": {
   "codemirror_mode": {
    "name": "ipython",
    "version": 3
   },
   "file_extension": ".py",
   "mimetype": "text/x-python",
   "name": "python",
   "nbconvert_exporter": "python",
   "pygments_lexer": "ipython3",
   "version": "3.11.6"
  }
 },
 "nbformat": 4,
 "nbformat_minor": 2
}
