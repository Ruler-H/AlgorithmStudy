{
 "cells": [
  {
   "cell_type": "code",
   "execution_count": 1,
   "metadata": {},
   "outputs": [
    {
     "name": "stdout",
     "output_type": "stream",
     "text": [
      "Case #1: isosceles\n",
      "Case #2: invalid!\n"
     ]
    }
   ],
   "source": [
    "# 백준 9366번 - 삼각형 분류\n",
    "import sys\n",
    "# input = sys.stdin.readline\n",
    "\n",
    "t = int(input().strip())\n",
    "\n",
    "for i in range(1, t + 1):\n",
    "    t_list = list(map(int, input().strip().split()))\n",
    "    t_list.sort()\n",
    "    if t_list[0] + t_list[1] <= t_list[2]:\n",
    "        print(f'Case #{i}: invalid!')\n",
    "    elif t_list[0] == t_list[1] == t_list[2]:\n",
    "        print(f'Case #{i}: equilateral')\n",
    "    elif t_list[0] != t_list[1] and t_list[1] != t_list[2] and t_list[0] != t_list[2]:\n",
    "        print(f'Case #{i}: scalene')\n",
    "    else:\n",
    "        print(f'Case #{i}: isosceles')"
   ]
  },
  {
   "cell_type": "code",
   "execution_count": null,
   "metadata": {},
   "outputs": [],
   "source": []
  }
 ],
 "metadata": {
  "kernelspec": {
   "display_name": "Python 3",
   "language": "python",
   "name": "python3"
  },
  "language_info": {
   "codemirror_mode": {
    "name": "ipython",
    "version": 3
   },
   "file_extension": ".py",
   "mimetype": "text/x-python",
   "name": "python",
   "nbconvert_exporter": "python",
   "pygments_lexer": "ipython3",
   "version": "3.11.6"
  }
 },
 "nbformat": 4,
 "nbformat_minor": 2
}
