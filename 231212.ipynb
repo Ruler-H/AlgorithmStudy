{
 "cells": [
  {
   "cell_type": "code",
   "execution_count": 1,
   "metadata": {},
   "outputs": [
    {
     "name": "stdout",
     "output_type": "stream",
     "text": [
      "45\n",
      "105\n",
      "210\n",
      "2145\n"
     ]
    }
   ],
   "source": [
    "# 백준 15781번 - 헬멧과 조끼\n",
    "import sys\n",
    "# input = sys.stdin.readline\n",
    "\n",
    "n, m = map(int, input().strip().split())\n",
    "\n",
    "helmet = max(map(int, input().strip().split()))\n",
    "vest = max(map(int, input().strip().split()))\n",
    "print(helmet + vest)"
   ]
  },
  {
   "cell_type": "code",
   "execution_count": null,
   "metadata": {},
   "outputs": [],
   "source": [
    "# 백준 20361번 - 일우는 야바위꾼\n",
    "import sys\n",
    "# input = sys.stdin.readline\n",
    "\n",
    "n, x, k = map(int, input().strip().split())\n",
    "for _ in range(k):\n",
    "    a, b = map(int, input().strip().split())\n",
    "    if a == x:\n",
    "        x = b\n",
    "    elif b == x:\n",
    "        x = a\n",
    "print(x)"
   ]
  }
 ],
 "metadata": {
  "kernelspec": {
   "display_name": "Python 3",
   "language": "python",
   "name": "python3"
  },
  "language_info": {
   "codemirror_mode": {
    "name": "ipython",
    "version": 3
   },
   "file_extension": ".py",
   "mimetype": "text/x-python",
   "name": "python",
   "nbconvert_exporter": "python",
   "pygments_lexer": "ipython3",
   "version": "3.11.6"
  }
 },
 "nbformat": 4,
 "nbformat_minor": 2
}
