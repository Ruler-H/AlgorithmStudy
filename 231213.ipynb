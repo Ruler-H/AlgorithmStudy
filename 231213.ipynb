{
 "cells": [
  {
   "cell_type": "code",
   "execution_count": 1,
   "metadata": {},
   "outputs": [
    {
     "name": "stdout",
     "output_type": "stream",
     "text": [
      "45\n",
      "105\n",
      "210\n",
      "2145\n"
     ]
    }
   ],
   "source": [
    "# 백준 27465번 - 소수가 아닌 수\n",
    "import sys\n",
    "# input = sys.stdin.readline\n",
    "\n",
    "n = int(input().strip())\n",
    "\n",
    "print(10 ** 9)"
   ]
  },
  {
   "cell_type": "code",
   "execution_count": null,
   "metadata": {},
   "outputs": [],
   "source": [
    "# 백준 11134번 - 쿠키애호가\n",
    "import sys\n",
    "# input = sys.stdin.readline\n",
    "\n",
    "t = int(input().strip())\n",
    "\n",
    "for _ in range(t):\n",
    "    n, c = map(int, input().strip().split())\n",
    "    print(n // c + (1 if n % c else 0))"
   ]
  },
  {
   "cell_type": "code",
   "execution_count": null,
   "metadata": {},
   "outputs": [],
   "source": [
    "# 백준 17263번 - Sort 마스터 배지훈\n",
    "import sys\n",
    "# input = sys.stdin.readline\n",
    "\n",
    "n = int(input().strip())\n",
    "print(max(map(int, input().strip().split())))"
   ]
  },
  {
   "cell_type": "code",
   "execution_count": null,
   "metadata": {},
   "outputs": [],
   "source": [
    "# 백준 15820번 - 맞았는데 왜 틀리죠?\n",
    "import sys\n",
    "# input = sys.stdin.readline\n",
    "\n",
    "s1, s2 = map(int, input().strip().split())\n",
    "for _ in range(s1):\n",
    "    a, b = map(int, input().strip().split())\n",
    "    if a != b:\n",
    "        print(\"Wrong Answer\")\n",
    "        sys.exit()\n",
    "for _ in range(s2):\n",
    "    a, b = map(int, input().strip().split())\n",
    "    if a != b:\n",
    "        print(\"Why Wrong!!!\")\n",
    "        sys.exit()\n",
    "print(\"Accepted\")"
   ]
  }
 ],
 "metadata": {
  "kernelspec": {
   "display_name": "Python 3",
   "language": "python",
   "name": "python3"
  },
  "language_info": {
   "codemirror_mode": {
    "name": "ipython",
    "version": 3
   },
   "file_extension": ".py",
   "mimetype": "text/x-python",
   "name": "python",
   "nbconvert_exporter": "python",
   "pygments_lexer": "ipython3",
   "version": "3.11.6"
  }
 },
 "nbformat": 4,
 "nbformat_minor": 2
}
