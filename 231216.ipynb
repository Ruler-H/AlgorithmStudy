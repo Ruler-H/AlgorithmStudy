{
 "cells": [
  {
   "cell_type": "code",
   "execution_count": 4,
   "metadata": {},
   "outputs": [
    {
     "name": "stdout",
     "output_type": "stream",
     "text": [
      "24:00:00\n"
     ]
    }
   ],
   "source": [
    "# 백준 13223번 - 소금 폭탄\n",
    "import sys\n",
    "# input = sys.stdin.readline\n",
    "\n",
    "cur_time = list(map(int, input().split(':')))\n",
    "boom_time = list(map(int, input().split(':')))\n",
    "\n",
    "if cur_time[0] >= boom_time[0]:\n",
    "    boom_time[0] += 24\n",
    "\n",
    "cur_time = cur_time[0] * 3600 + cur_time[1] * 60 + cur_time[2]\n",
    "boom_time = boom_time[0] * 3600 + boom_time[1] * 60 + boom_time[2]\n",
    "\n",
    "result = boom_time - cur_time\n",
    "\n",
    "print(f'{result // 3600:02}:{result % 3600 // 60:02}:{result % 60:02}')"
   ]
  },
  {
   "cell_type": "code",
   "execution_count": null,
   "metadata": {},
   "outputs": [],
   "source": [
    "# 백준 21866번 - 추첨을 통해 커피를 받자\n",
    "import sys\n",
    "# input = sys.stdin.readline\n",
    "\n",
    "score_list = list(map(int, input().split()))\n",
    "max_score_list = [100, 100, 200, 200, 300, 300, 400, 400, 500]\n",
    "\n",
    "for i in range(len(score_list)):\n",
    "    if score_list[i] > max_score_list[i]:\n",
    "        print('hacker')\n",
    "        exit()\n",
    "if sum(score_list) >= 100:\n",
    "    print('draw')\n",
    "else:\n",
    "    print('none')"
   ]
  },
  {
   "cell_type": "code",
   "execution_count": null,
   "metadata": {},
   "outputs": [],
   "source": [
    "# 백준 4806번 - 줄 세기\n",
    "import sys\n",
    "# input = sys.stdin.readline\n",
    "\n",
    "cnt = 0\n",
    "try :\n",
    "    while input() : cnt += 1\n",
    "except :\n",
    "    print(cnt)"
   ]
  }
 ],
 "metadata": {
  "kernelspec": {
   "display_name": "Python 3",
   "language": "python",
   "name": "python3"
  },
  "language_info": {
   "codemirror_mode": {
    "name": "ipython",
    "version": 3
   },
   "file_extension": ".py",
   "mimetype": "text/x-python",
   "name": "python",
   "nbconvert_exporter": "python",
   "pygments_lexer": "ipython3",
   "version": "3.11.6"
  }
 },
 "nbformat": 4,
 "nbformat_minor": 2
}
