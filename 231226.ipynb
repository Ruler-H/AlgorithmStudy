{
 "cells": [
  {
   "cell_type": "code",
   "execution_count": 13,
   "metadata": {},
   "outputs": [
    {
     "name": "stdout",
     "output_type": "stream",
     "text": [
      "1\n"
     ]
    }
   ],
   "source": [
    "# 백준 26264번 - 빅데이터? 정보보호!\n",
    "import sys\n",
    "# input = sys.stdin.readline\n",
    "\n",
    "n = int(input())\n",
    "\n",
    "inp_str = input()\n",
    "sec_cnt = inp_str.count('s')\n",
    "big_cnt = inp_str.count('b')\n",
    "\n",
    "if sec_cnt > big_cnt:\n",
    "    print('security!')\n",
    "elif sec_cnt < big_cnt:\n",
    "    print('bigdata?')\n",
    "else:\n",
    "    print('bigdata? security!')"
   ]
  },
  {
   "cell_type": "code",
   "execution_count": 5,
   "metadata": {},
   "outputs": [
    {
     "name": "stdout",
     "output_type": "stream",
     "text": [
      "Yes Yes\n",
      "Yes No\n",
      "No No\n"
     ]
    }
   ],
   "source": [
    "# 백준 25024번 - 시간과 날짜\n",
    "import sys\n",
    "# input = sys.stdin.readline\n",
    "\n",
    "t = int(input())\n",
    "\n",
    "for _ in range(t):\n",
    "    x, y = map(int, input().split())\n",
    "    if x <= 23 and y <= 59:\n",
    "        time_res = 'Yes'\n",
    "    else:\n",
    "        time_res = 'No'\n",
    "    if x in [4, 6, 9, 11]:\n",
    "        if 0 < y <= 30:\n",
    "            day_res = 'Yes'\n",
    "        else:\n",
    "            day_res = 'No'\n",
    "    elif x in [1, 3, 5, 7, 8, 10, 12]:\n",
    "        if 0 < y <= 31:\n",
    "            day_res = 'Yes'\n",
    "        else:\n",
    "            day_res = 'No'\n",
    "    elif x == 2:\n",
    "        if 0 < y <= 29:\n",
    "            day_res = 'Yes'\n",
    "        else:\n",
    "            day_res = 'No'\n",
    "    else:\n",
    "        day_res = 'No'\n",
    "    print(f'{time_res} {day_res}')"
   ]
  },
  {
   "cell_type": "code",
   "execution_count": null,
   "metadata": {},
   "outputs": [],
   "source": [
    "# 백준 23080번 - 스키테일 암호\n",
    "import sys\n",
    "# input = sys.stdin.readline\n",
    "\n",
    "k = int(input())\n",
    "3\n",
    "iabucdpefcg"
   ]
  }
 ],
 "metadata": {
  "kernelspec": {
   "display_name": "Python 3",
   "language": "python",
   "name": "python3"
  },
  "language_info": {
   "codemirror_mode": {
    "name": "ipython",
    "version": 3
   },
   "file_extension": ".py",
   "mimetype": "text/x-python",
   "name": "python",
   "nbconvert_exporter": "python",
   "pygments_lexer": "ipython3",
   "version": "3.11.6"
  }
 },
 "nbformat": 4,
 "nbformat_minor": 2
}
