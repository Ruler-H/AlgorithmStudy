{
 "cells": [
  {
   "cell_type": "code",
   "execution_count": 2,
   "metadata": {},
   "outputs": [
    {
     "name": "stdout",
     "output_type": "stream",
     "text": [
      "1\n",
      "2\n",
      "3\n",
      "4\n",
      "5\n",
      "6\n",
      "7\n",
      "8\n",
      "9\n",
      "48\n"
     ]
    }
   ],
   "source": [
    "# 백준 27159번 - 노 땡스!\n",
    "import sys\n",
    "# input = sys.stdin.readline\n",
    "\n",
    "n = int(input())\n",
    "arr = list(map(int, input().split()))\n",
    "\n",
    "rs = arr[0]\n",
    "for i in range(1, n):\n",
    "    if arr[i - 1] != arr[i] - 1:\n",
    "        rs += arr[i]\n",
    "print(rs)"
   ]
  },
  {
   "cell_type": "code",
   "execution_count": null,
   "metadata": {},
   "outputs": [],
   "source": [
    "# 백준 23802번 - 골뱅이 찍기 - 뒤집힌 ㄱ\n",
    "import sys\n",
    "# input = sys.stdin.readline\n",
    "\n",
    "n = int(input())\n",
    "\n",
    "for _ in range(n):\n",
    "    print('@' * n * 5)\n",
    "for _ in range(n*4):\n",
    "    print('@' * n)"
   ]
  },
  {
   "cell_type": "code",
   "execution_count": 6,
   "metadata": {},
   "outputs": [
    {
     "name": "stdout",
     "output_type": "stream",
     "text": [
      "1\n",
      "3.5 1.5 4.5\n"
     ]
    }
   ],
   "source": [
    "# 백준 19572번 - 가뭄(Small)\n",
    "import sys\n",
    "# input = sys.stdin.readline\n",
    "\n",
    "d1, d2, d3 = map(int, input().split())\n",
    "\n",
    "a = (d1 + d2 - d3) / 2\n",
    "b = (d1 - d2 + d3) / 2\n",
    "c = (-d1 + d2 + d3) / 2\n",
    "\n",
    "if a <= 0 or b <= 0 or c <= 0:\n",
    "    print(-1)\n",
    "else:\n",
    "    print(1)\n",
    "    print(round(a, 1), round(b, 1), round(c, 1))"
   ]
  },
  {
   "cell_type": "code",
   "execution_count": null,
   "metadata": {},
   "outputs": [],
   "source": []
  }
 ],
 "metadata": {
  "kernelspec": {
   "display_name": "Python 3",
   "language": "python",
   "name": "python3"
  },
  "language_info": {
   "codemirror_mode": {
    "name": "ipython",
    "version": 3
   },
   "file_extension": ".py",
   "mimetype": "text/x-python",
   "name": "python",
   "nbconvert_exporter": "python",
   "pygments_lexer": "ipython3",
   "version": "3.11.6"
  }
 },
 "nbformat": 4,
 "nbformat_minor": 2
}
