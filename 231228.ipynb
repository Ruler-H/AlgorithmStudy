{
 "cells": [
  {
   "cell_type": "code",
   "execution_count": 10,
   "metadata": {},
   "outputs": [
    {
     "name": "stdout",
     "output_type": "stream",
     "text": [
      "2000-02-29\n",
      "2012-02-29\n",
      "2022-02-28\n",
      "2100-02-28\n",
      "2021-12-31\n",
      "2022-10-31\n"
     ]
    }
   ],
   "source": [
    "# 백준 25286번 - 11월 11일\n",
    "import sys\n",
    "# input = sys.stdin.readline\n",
    "\n",
    "t = int(input())\n",
    "\n",
    "for _ in range(t):\n",
    "    y, m = map(int, input().split())\n",
    "    match m:\n",
    "        case 1:\n",
    "            print(f\"{y-1} 12 31\")\n",
    "        case 2 | 4 | 6 | 8 | 9 | 11:\n",
    "            print(f\"{y} {m-1} 31\")\n",
    "        case 3:\n",
    "            if (y % 100 != 0 and y % 4 == 0) or (y % 400 == 0):\n",
    "                print(f\"{y} {m-1} 29\")\n",
    "            else:\n",
    "                print(f\"{y} {m-1} 28\")\n",
    "        case 5 | 7 | 10 | 12:\n",
    "            print(f\"{y} {m-1} 30\")"
   ]
  },
  {
   "cell_type": "code",
   "execution_count": null,
   "metadata": {},
   "outputs": [],
   "source": [
    "6\n",
    "2000 3\n",
    "2012 3\n",
    "2022 3\n",
    "2100 3\n",
    "2022 1\n",
    "2022 11"
   ]
  }
 ],
 "metadata": {
  "kernelspec": {
   "display_name": "Python 3",
   "language": "python",
   "name": "python3"
  },
  "language_info": {
   "codemirror_mode": {
    "name": "ipython",
    "version": 3
   },
   "file_extension": ".py",
   "mimetype": "text/x-python",
   "name": "python",
   "nbconvert_exporter": "python",
   "pygments_lexer": "ipython3",
   "version": "3.11.6"
  }
 },
 "nbformat": 4,
 "nbformat_minor": 2
}
